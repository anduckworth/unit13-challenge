{
 "cells": [
  {
   "cell_type": "markdown",
   "metadata": {},
   "source": [
    "# Clustering Crypto"
   ]
  },
  {
   "cell_type": "code",
   "execution_count": 77,
   "metadata": {},
   "outputs": [],
   "source": [
    "# Initial imports\n",
    "import requests\n",
    "import pandas as pd\n",
    "import matplotlib.pyplot as plt\n",
    "import hvplot.pandas\n",
    "import plotly.express as px\n",
    "from sklearn.preprocessing import StandardScaler, MinMaxScaler\n",
    "from sklearn.decomposition import PCA\n",
    "from sklearn.cluster import KMeans"
   ]
  },
  {
   "cell_type": "markdown",
   "metadata": {},
   "source": [
    "### Fetching Cryptocurrency Data"
   ]
  },
  {
   "cell_type": "code",
   "execution_count": 80,
   "metadata": {},
   "outputs": [
    {
     "data": {
      "text/html": [
       "<div>\n",
       "<style scoped>\n",
       "    .dataframe tbody tr th:only-of-type {\n",
       "        vertical-align: middle;\n",
       "    }\n",
       "\n",
       "    .dataframe tbody tr th {\n",
       "        vertical-align: top;\n",
       "    }\n",
       "\n",
       "    .dataframe thead th {\n",
       "        text-align: right;\n",
       "    }\n",
       "</style>\n",
       "<table border=\"1\" class=\"dataframe\">\n",
       "  <thead>\n",
       "    <tr style=\"text-align: right;\">\n",
       "      <th></th>\n",
       "      <th>CoinName</th>\n",
       "      <th>Algorithm</th>\n",
       "      <th>IsTrading</th>\n",
       "      <th>ProofType</th>\n",
       "      <th>TotalCoinsMined</th>\n",
       "      <th>TotalCoinSupply</th>\n",
       "    </tr>\n",
       "  </thead>\n",
       "  <tbody>\n",
       "    <tr>\n",
       "      <th>42</th>\n",
       "      <td>42 Coin</td>\n",
       "      <td>Scrypt</td>\n",
       "      <td>True</td>\n",
       "      <td>PoW/PoS</td>\n",
       "      <td>4.199995e+01</td>\n",
       "      <td>42</td>\n",
       "    </tr>\n",
       "    <tr>\n",
       "      <th>365</th>\n",
       "      <td>365Coin</td>\n",
       "      <td>X11</td>\n",
       "      <td>True</td>\n",
       "      <td>PoW/PoS</td>\n",
       "      <td>NaN</td>\n",
       "      <td>2300000000</td>\n",
       "    </tr>\n",
       "    <tr>\n",
       "      <th>404</th>\n",
       "      <td>404Coin</td>\n",
       "      <td>Scrypt</td>\n",
       "      <td>True</td>\n",
       "      <td>PoW/PoS</td>\n",
       "      <td>1.055185e+09</td>\n",
       "      <td>532000000</td>\n",
       "    </tr>\n",
       "    <tr>\n",
       "      <th>611</th>\n",
       "      <td>SixEleven</td>\n",
       "      <td>SHA-256</td>\n",
       "      <td>True</td>\n",
       "      <td>PoW</td>\n",
       "      <td>NaN</td>\n",
       "      <td>611000</td>\n",
       "    </tr>\n",
       "    <tr>\n",
       "      <th>808</th>\n",
       "      <td>808</td>\n",
       "      <td>SHA-256</td>\n",
       "      <td>True</td>\n",
       "      <td>PoW/PoS</td>\n",
       "      <td>0.000000e+00</td>\n",
       "      <td>0</td>\n",
       "    </tr>\n",
       "  </tbody>\n",
       "</table>\n",
       "</div>"
      ],
      "text/plain": [
       "      CoinName Algorithm  IsTrading ProofType  TotalCoinsMined TotalCoinSupply\n",
       "42     42 Coin    Scrypt       True   PoW/PoS     4.199995e+01              42\n",
       "365    365Coin       X11       True   PoW/PoS              NaN      2300000000\n",
       "404    404Coin    Scrypt       True   PoW/PoS     1.055185e+09       532000000\n",
       "611  SixEleven   SHA-256       True       PoW              NaN          611000\n",
       "808        808   SHA-256       True   PoW/PoS     0.000000e+00               0"
      ]
     },
     "execution_count": 80,
     "metadata": {},
     "output_type": "execute_result"
    }
   ],
   "source": [
    "# Alternatively, use the provided csv file:\n",
    "# file_path = Path(\"Resources/crypto_data.csv\")\n",
    "\n",
    "crypto_df = pd.read_csv('crypto_data.csv', index_col=0)\n",
    "crypto_df.head()"
   ]
  },
  {
   "cell_type": "markdown",
   "metadata": {},
   "source": [
    "### Data Preprocessing"
   ]
  },
  {
   "cell_type": "code",
   "execution_count": 81,
   "metadata": {},
   "outputs": [],
   "source": [
    "# Keep only necessary columns:\n",
    "# 'CoinName','Algorithm','IsTrading','ProofType','TotalCoinsMined','TotalCoinSupply'\n",
    "crypto_df = crypto_df[['CoinName','Algorithm','IsTrading','ProofType','TotalCoinsMined','TotalCoinSupply']]"
   ]
  },
  {
   "cell_type": "code",
   "execution_count": 82,
   "metadata": {},
   "outputs": [
    {
     "data": {
      "text/plain": [
       "True    1144\n",
       "Name: IsTrading, dtype: int64"
      ]
     },
     "execution_count": 82,
     "metadata": {},
     "output_type": "execute_result"
    }
   ],
   "source": [
    "# Keep only cryptocurrencies that are trading\n",
    "crypto_df = crypto_df.loc[crypto_df['IsTrading'] == True]\n",
    "crypto_df['IsTrading'].value_counts()"
   ]
  },
  {
   "cell_type": "code",
   "execution_count": 83,
   "metadata": {},
   "outputs": [],
   "source": [
    "# Keep only cryptocurrencies with a working algorithm\n",
    "crypto_df['Algorithm'] = crypto_df['Algorithm'].dropna()"
   ]
  },
  {
   "cell_type": "code",
   "execution_count": 84,
   "metadata": {},
   "outputs": [],
   "source": [
    "# Remove the \"IsTrading\" column\n",
    "crypto_df = crypto_df.drop(columns = 'IsTrading', axis=1)"
   ]
  },
  {
   "cell_type": "code",
   "execution_count": 85,
   "metadata": {},
   "outputs": [],
   "source": [
    "# Remove rows with at least 1 null value\n",
    "crypto_df = crypto_df.dropna()"
   ]
  },
  {
   "cell_type": "code",
   "execution_count": 86,
   "metadata": {},
   "outputs": [],
   "source": [
    "# Remove rows with cryptocurrencies having no coins mined\n",
    "crypto_df = crypto_df.loc[crypto_df['TotalCoinsMined'] > 0]\n",
    "crypto_df = crypto_df.loc[crypto_df['TotalCoinSupply'] != '0']"
   ]
  },
  {
   "cell_type": "code",
   "execution_count": 87,
   "metadata": {},
   "outputs": [
    {
     "data": {
      "text/html": [
       "<div>\n",
       "<style scoped>\n",
       "    .dataframe tbody tr th:only-of-type {\n",
       "        vertical-align: middle;\n",
       "    }\n",
       "\n",
       "    .dataframe tbody tr th {\n",
       "        vertical-align: top;\n",
       "    }\n",
       "\n",
       "    .dataframe thead th {\n",
       "        text-align: right;\n",
       "    }\n",
       "</style>\n",
       "<table border=\"1\" class=\"dataframe\">\n",
       "  <thead>\n",
       "    <tr style=\"text-align: right;\">\n",
       "      <th></th>\n",
       "      <th>CoinName</th>\n",
       "      <th>Algorithm</th>\n",
       "      <th>ProofType</th>\n",
       "      <th>TotalCoinsMined</th>\n",
       "      <th>TotalCoinSupply</th>\n",
       "    </tr>\n",
       "  </thead>\n",
       "  <tbody>\n",
       "    <tr>\n",
       "      <th>42</th>\n",
       "      <td>42 Coin</td>\n",
       "      <td>Scrypt</td>\n",
       "      <td>PoW/PoS</td>\n",
       "      <td>4.199995e+01</td>\n",
       "      <td>42</td>\n",
       "    </tr>\n",
       "    <tr>\n",
       "      <th>404</th>\n",
       "      <td>404Coin</td>\n",
       "      <td>Scrypt</td>\n",
       "      <td>PoW/PoS</td>\n",
       "      <td>1.055185e+09</td>\n",
       "      <td>532000000</td>\n",
       "    </tr>\n",
       "    <tr>\n",
       "      <th>1337</th>\n",
       "      <td>EliteCoin</td>\n",
       "      <td>X13</td>\n",
       "      <td>PoW/PoS</td>\n",
       "      <td>2.927942e+10</td>\n",
       "      <td>314159265359</td>\n",
       "    </tr>\n",
       "    <tr>\n",
       "      <th>BTC</th>\n",
       "      <td>Bitcoin</td>\n",
       "      <td>SHA-256</td>\n",
       "      <td>PoW</td>\n",
       "      <td>1.792718e+07</td>\n",
       "      <td>21000000</td>\n",
       "    </tr>\n",
       "    <tr>\n",
       "      <th>LTC</th>\n",
       "      <td>Litecoin</td>\n",
       "      <td>Scrypt</td>\n",
       "      <td>PoW</td>\n",
       "      <td>6.303924e+07</td>\n",
       "      <td>84000000</td>\n",
       "    </tr>\n",
       "  </tbody>\n",
       "</table>\n",
       "</div>"
      ],
      "text/plain": [
       "       CoinName Algorithm ProofType  TotalCoinsMined TotalCoinSupply\n",
       "42      42 Coin    Scrypt   PoW/PoS     4.199995e+01              42\n",
       "404     404Coin    Scrypt   PoW/PoS     1.055185e+09       532000000\n",
       "1337  EliteCoin       X13   PoW/PoS     2.927942e+10    314159265359\n",
       "BTC     Bitcoin   SHA-256       PoW     1.792718e+07        21000000\n",
       "LTC    Litecoin    Scrypt       PoW     6.303924e+07        84000000"
      ]
     },
     "execution_count": 87,
     "metadata": {},
     "output_type": "execute_result"
    }
   ],
   "source": [
    "# Drop rows where there are 'N/A' text values\n",
    "crypto_df = crypto_df[~crypto_df.CoinName.str.contains(\"N/A\")]\n",
    "crypto_df = crypto_df[~crypto_df.Algorithm.str.contains(\"N/A\")]\n",
    "crypto_df = crypto_df[~crypto_df.ProofType.str.contains(\"N/A\")]\n",
    "crypto_df.head()"
   ]
  },
  {
   "cell_type": "code",
   "execution_count": 88,
   "metadata": {},
   "outputs": [],
   "source": [
    "# Store the 'CoinName'column in its own DataFrame prior to dropping it from crypto_df\n",
    "CoinName = crypto_df[['CoinName']].copy()\n",
    "crypto_df = crypto_df.drop(columns='CoinName', axis = 1)"
   ]
  },
  {
   "cell_type": "code",
   "execution_count": 89,
   "metadata": {},
   "outputs": [],
   "source": [
    "# Drop the 'CoinName' column since it's not going to be used on the clustering algorithm\n"
   ]
  },
  {
   "cell_type": "code",
   "execution_count": 90,
   "metadata": {},
   "outputs": [],
   "source": [
    "# Create dummy variables for text features\n",
    "x = pd.get_dummies(crypto_df, columns = ['Algorithm','ProofType'])"
   ]
  },
  {
   "cell_type": "code",
   "execution_count": 91,
   "metadata": {},
   "outputs": [],
   "source": [
    "# Standardize data\n",
    "standardized = StandardScaler().fit_transform(x)"
   ]
  },
  {
   "cell_type": "markdown",
   "metadata": {},
   "source": [
    "### Reducing Dimensions Using PCA"
   ]
  },
  {
   "cell_type": "code",
   "execution_count": 92,
   "metadata": {},
   "outputs": [],
   "source": [
    "# Use PCA to reduce dimensions to 3 principal components\n",
    "pca = PCA(n_components=3)\n",
    "crypto_pca = pca.fit_transform(standardized)"
   ]
  },
  {
   "cell_type": "code",
   "execution_count": 93,
   "metadata": {},
   "outputs": [
    {
     "data": {
      "text/html": [
       "<div>\n",
       "<style scoped>\n",
       "    .dataframe tbody tr th:only-of-type {\n",
       "        vertical-align: middle;\n",
       "    }\n",
       "\n",
       "    .dataframe tbody tr th {\n",
       "        vertical-align: top;\n",
       "    }\n",
       "\n",
       "    .dataframe thead th {\n",
       "        text-align: right;\n",
       "    }\n",
       "</style>\n",
       "<table border=\"1\" class=\"dataframe\">\n",
       "  <thead>\n",
       "    <tr style=\"text-align: right;\">\n",
       "      <th></th>\n",
       "      <th>0</th>\n",
       "      <th>1</th>\n",
       "      <th>2</th>\n",
       "    </tr>\n",
       "  </thead>\n",
       "  <tbody>\n",
       "    <tr>\n",
       "      <th>42</th>\n",
       "      <td>-0.317149</td>\n",
       "      <td>0.966021</td>\n",
       "      <td>-0.607129</td>\n",
       "    </tr>\n",
       "    <tr>\n",
       "      <th>404</th>\n",
       "      <td>-0.300967</td>\n",
       "      <td>0.966071</td>\n",
       "      <td>-0.607450</td>\n",
       "    </tr>\n",
       "    <tr>\n",
       "      <th>1337</th>\n",
       "      <td>2.255810</td>\n",
       "      <td>1.612916</td>\n",
       "      <td>-0.703654</td>\n",
       "    </tr>\n",
       "    <tr>\n",
       "      <th>BTC</th>\n",
       "      <td>-0.156609</td>\n",
       "      <td>-1.242977</td>\n",
       "      <td>0.204219</td>\n",
       "    </tr>\n",
       "    <tr>\n",
       "      <th>LTC</th>\n",
       "      <td>-0.183111</td>\n",
       "      <td>-1.147414</td>\n",
       "      <td>0.023095</td>\n",
       "    </tr>\n",
       "    <tr>\n",
       "      <th>DASH</th>\n",
       "      <td>-0.368419</td>\n",
       "      <td>1.209465</td>\n",
       "      <td>-0.564813</td>\n",
       "    </tr>\n",
       "    <tr>\n",
       "      <th>ETC</th>\n",
       "      <td>-0.172805</td>\n",
       "      <td>-1.914442</td>\n",
       "      <td>0.425992</td>\n",
       "    </tr>\n",
       "    <tr>\n",
       "      <th>ZEC</th>\n",
       "      <td>-0.172242</td>\n",
       "      <td>-1.952853</td>\n",
       "      <td>0.448920</td>\n",
       "    </tr>\n",
       "    <tr>\n",
       "      <th>BTS</th>\n",
       "      <td>-0.252435</td>\n",
       "      <td>1.813580</td>\n",
       "      <td>-0.183012</td>\n",
       "    </tr>\n",
       "    <tr>\n",
       "      <th>DGB</th>\n",
       "      <td>0.145945</td>\n",
       "      <td>-1.886049</td>\n",
       "      <td>0.413689</td>\n",
       "    </tr>\n",
       "    <tr>\n",
       "      <th>BTCD</th>\n",
       "      <td>-0.289517</td>\n",
       "      <td>0.870427</td>\n",
       "      <td>-0.426021</td>\n",
       "    </tr>\n",
       "    <tr>\n",
       "      <th>XPY</th>\n",
       "      <td>-0.248917</td>\n",
       "      <td>0.785630</td>\n",
       "      <td>-0.137369</td>\n",
       "    </tr>\n",
       "    <tr>\n",
       "      <th>PRC</th>\n",
       "      <td>-0.184221</td>\n",
       "      <td>-1.147398</td>\n",
       "      <td>0.023113</td>\n",
       "    </tr>\n",
       "    <tr>\n",
       "      <th>KOBO</th>\n",
       "      <td>-0.220920</td>\n",
       "      <td>1.883592</td>\n",
       "      <td>-0.729695</td>\n",
       "    </tr>\n",
       "    <tr>\n",
       "      <th>SPR</th>\n",
       "      <td>-0.235690</td>\n",
       "      <td>-0.903943</td>\n",
       "      <td>0.065431</td>\n",
       "    </tr>\n",
       "    <tr>\n",
       "      <th>ARG</th>\n",
       "      <td>-0.183852</td>\n",
       "      <td>-1.147420</td>\n",
       "      <td>0.023110</td>\n",
       "    </tr>\n",
       "    <tr>\n",
       "      <th>AUR</th>\n",
       "      <td>-0.316819</td>\n",
       "      <td>0.966018</td>\n",
       "      <td>-0.607135</td>\n",
       "    </tr>\n",
       "    <tr>\n",
       "      <th>XMY</th>\n",
       "      <td>-0.098864</td>\n",
       "      <td>-1.878920</td>\n",
       "      <td>0.417095</td>\n",
       "    </tr>\n",
       "    <tr>\n",
       "      <th>MOON</th>\n",
       "      <td>2.423785</td>\n",
       "      <td>-1.354159</td>\n",
       "      <td>0.010948</td>\n",
       "    </tr>\n",
       "    <tr>\n",
       "      <th>ZET</th>\n",
       "      <td>-0.153784</td>\n",
       "      <td>-1.243008</td>\n",
       "      <td>0.204171</td>\n",
       "    </tr>\n",
       "    <tr>\n",
       "      <th>SXC</th>\n",
       "      <td>-0.181198</td>\n",
       "      <td>-1.147482</td>\n",
       "      <td>0.023070</td>\n",
       "    </tr>\n",
       "    <tr>\n",
       "      <th>QTL</th>\n",
       "      <td>-0.183665</td>\n",
       "      <td>-1.147440</td>\n",
       "      <td>0.023110</td>\n",
       "    </tr>\n",
       "    <tr>\n",
       "      <th>QRK</th>\n",
       "      <td>-0.232340</td>\n",
       "      <td>-0.366284</td>\n",
       "      <td>0.029318</td>\n",
       "    </tr>\n",
       "    <tr>\n",
       "      <th>RIC</th>\n",
       "      <td>-0.200392</td>\n",
       "      <td>-1.487677</td>\n",
       "      <td>0.254386</td>\n",
       "    </tr>\n",
       "    <tr>\n",
       "      <th>DGC</th>\n",
       "      <td>-0.183706</td>\n",
       "      <td>-1.147404</td>\n",
       "      <td>0.023104</td>\n",
       "    </tr>\n",
       "    <tr>\n",
       "      <th>BTB</th>\n",
       "      <td>-0.317145</td>\n",
       "      <td>0.966021</td>\n",
       "      <td>-0.607129</td>\n",
       "    </tr>\n",
       "    <tr>\n",
       "      <th>CAT</th>\n",
       "      <td>-0.184203</td>\n",
       "      <td>-1.147398</td>\n",
       "      <td>0.023113</td>\n",
       "    </tr>\n",
       "    <tr>\n",
       "      <th>CBX</th>\n",
       "      <td>-0.317130</td>\n",
       "      <td>0.966021</td>\n",
       "      <td>-0.607129</td>\n",
       "    </tr>\n",
       "    <tr>\n",
       "      <th>CCN</th>\n",
       "      <td>-0.184287</td>\n",
       "      <td>-1.147395</td>\n",
       "      <td>0.023114</td>\n",
       "    </tr>\n",
       "    <tr>\n",
       "      <th>CRYPT</th>\n",
       "      <td>-0.235777</td>\n",
       "      <td>-0.903944</td>\n",
       "      <td>0.065433</td>\n",
       "    </tr>\n",
       "    <tr>\n",
       "      <th>...</th>\n",
       "      <td>...</td>\n",
       "      <td>...</td>\n",
       "      <td>...</td>\n",
       "    </tr>\n",
       "    <tr>\n",
       "      <th>CRW</th>\n",
       "      <td>-0.156406</td>\n",
       "      <td>-1.242986</td>\n",
       "      <td>0.204217</td>\n",
       "    </tr>\n",
       "    <tr>\n",
       "      <th>GEN</th>\n",
       "      <td>-0.316333</td>\n",
       "      <td>0.966032</td>\n",
       "      <td>-0.607147</td>\n",
       "    </tr>\n",
       "    <tr>\n",
       "      <th>SMLY</th>\n",
       "      <td>0.507572</td>\n",
       "      <td>-1.164869</td>\n",
       "      <td>0.012997</td>\n",
       "    </tr>\n",
       "    <tr>\n",
       "      <th>MI</th>\n",
       "      <td>-0.309616</td>\n",
       "      <td>0.965935</td>\n",
       "      <td>-0.607258</td>\n",
       "    </tr>\n",
       "    <tr>\n",
       "      <th>GRS</th>\n",
       "      <td>-0.199967</td>\n",
       "      <td>-1.487681</td>\n",
       "      <td>0.254379</td>\n",
       "    </tr>\n",
       "    <tr>\n",
       "      <th>CPC</th>\n",
       "      <td>-0.364865</td>\n",
       "      <td>1.209426</td>\n",
       "      <td>-0.564875</td>\n",
       "    </tr>\n",
       "    <tr>\n",
       "      <th>CLUB</th>\n",
       "      <td>-0.314828</td>\n",
       "      <td>0.965968</td>\n",
       "      <td>-0.607164</td>\n",
       "    </tr>\n",
       "    <tr>\n",
       "      <th>RADS</th>\n",
       "      <td>-0.325634</td>\n",
       "      <td>1.802793</td>\n",
       "      <td>-0.220268</td>\n",
       "    </tr>\n",
       "    <tr>\n",
       "      <th>BTA</th>\n",
       "      <td>-0.184338</td>\n",
       "      <td>-1.147390</td>\n",
       "      <td>0.023114</td>\n",
       "    </tr>\n",
       "    <tr>\n",
       "      <th>PAK</th>\n",
       "      <td>-0.182366</td>\n",
       "      <td>-1.147465</td>\n",
       "      <td>0.023090</td>\n",
       "    </tr>\n",
       "    <tr>\n",
       "      <th>CRB</th>\n",
       "      <td>-0.362611</td>\n",
       "      <td>0.730194</td>\n",
       "      <td>-0.257718</td>\n",
       "    </tr>\n",
       "    <tr>\n",
       "      <th>OK</th>\n",
       "      <td>-0.288079</td>\n",
       "      <td>0.870406</td>\n",
       "      <td>-0.426044</td>\n",
       "    </tr>\n",
       "    <tr>\n",
       "      <th>LSK</th>\n",
       "      <td>4.178385</td>\n",
       "      <td>1.789154</td>\n",
       "      <td>-0.273681</td>\n",
       "    </tr>\n",
       "    <tr>\n",
       "      <th>XHI</th>\n",
       "      <td>-0.089511</td>\n",
       "      <td>0.879018</td>\n",
       "      <td>-0.321677</td>\n",
       "    </tr>\n",
       "    <tr>\n",
       "      <th>XWC</th>\n",
       "      <td>-0.312110</td>\n",
       "      <td>0.965940</td>\n",
       "      <td>-0.607211</td>\n",
       "    </tr>\n",
       "    <tr>\n",
       "      <th>FSC</th>\n",
       "      <td>-0.328579</td>\n",
       "      <td>0.549352</td>\n",
       "      <td>-0.353660</td>\n",
       "    </tr>\n",
       "    <tr>\n",
       "      <th>J</th>\n",
       "      <td>-0.132499</td>\n",
       "      <td>-1.878383</td>\n",
       "      <td>0.417644</td>\n",
       "    </tr>\n",
       "    <tr>\n",
       "      <th>TRI</th>\n",
       "      <td>-0.226795</td>\n",
       "      <td>1.772733</td>\n",
       "      <td>-0.685253</td>\n",
       "    </tr>\n",
       "    <tr>\n",
       "      <th>VOLLAR</th>\n",
       "      <td>-0.152532</td>\n",
       "      <td>-2.122930</td>\n",
       "      <td>0.462945</td>\n",
       "    </tr>\n",
       "    <tr>\n",
       "      <th>RCC</th>\n",
       "      <td>-0.175123</td>\n",
       "      <td>-1.914371</td>\n",
       "      <td>0.426023</td>\n",
       "    </tr>\n",
       "    <tr>\n",
       "      <th>TCH</th>\n",
       "      <td>-0.230441</td>\n",
       "      <td>0.785414</td>\n",
       "      <td>-0.137686</td>\n",
       "    </tr>\n",
       "    <tr>\n",
       "      <th>WAVES</th>\n",
       "      <td>-0.384138</td>\n",
       "      <td>3.393068</td>\n",
       "      <td>13.270386</td>\n",
       "    </tr>\n",
       "    <tr>\n",
       "      <th>PART</th>\n",
       "      <td>-0.325571</td>\n",
       "      <td>1.802795</td>\n",
       "      <td>-0.220270</td>\n",
       "    </tr>\n",
       "    <tr>\n",
       "      <th>BTT</th>\n",
       "      <td>33.422758</td>\n",
       "      <td>1.366987</td>\n",
       "      <td>-0.909411</td>\n",
       "    </tr>\n",
       "    <tr>\n",
       "      <th>NXT</th>\n",
       "      <td>-0.330141</td>\n",
       "      <td>2.020203</td>\n",
       "      <td>-0.146882</td>\n",
       "    </tr>\n",
       "    <tr>\n",
       "      <th>ZEPH</th>\n",
       "      <td>2.876881</td>\n",
       "      <td>0.806545</td>\n",
       "      <td>-0.167668</td>\n",
       "    </tr>\n",
       "    <tr>\n",
       "      <th>GAP</th>\n",
       "      <td>-0.315273</td>\n",
       "      <td>0.965891</td>\n",
       "      <td>-0.607141</td>\n",
       "    </tr>\n",
       "    <tr>\n",
       "      <th>BDX</th>\n",
       "      <td>0.271215</td>\n",
       "      <td>-2.231503</td>\n",
       "      <td>0.473134</td>\n",
       "    </tr>\n",
       "    <tr>\n",
       "      <th>ZEN</th>\n",
       "      <td>-0.172243</td>\n",
       "      <td>-1.952853</td>\n",
       "      <td>0.448920</td>\n",
       "    </tr>\n",
       "    <tr>\n",
       "      <th>XBC</th>\n",
       "      <td>-0.276604</td>\n",
       "      <td>0.881215</td>\n",
       "      <td>-0.318475</td>\n",
       "    </tr>\n",
       "  </tbody>\n",
       "</table>\n",
       "<p>497 rows × 3 columns</p>\n",
       "</div>"
      ],
      "text/plain": [
       "                0         1          2\n",
       "42      -0.317149  0.966021  -0.607129\n",
       "404     -0.300967  0.966071  -0.607450\n",
       "1337     2.255810  1.612916  -0.703654\n",
       "BTC     -0.156609 -1.242977   0.204219\n",
       "LTC     -0.183111 -1.147414   0.023095\n",
       "DASH    -0.368419  1.209465  -0.564813\n",
       "ETC     -0.172805 -1.914442   0.425992\n",
       "ZEC     -0.172242 -1.952853   0.448920\n",
       "BTS     -0.252435  1.813580  -0.183012\n",
       "DGB      0.145945 -1.886049   0.413689\n",
       "BTCD    -0.289517  0.870427  -0.426021\n",
       "XPY     -0.248917  0.785630  -0.137369\n",
       "PRC     -0.184221 -1.147398   0.023113\n",
       "KOBO    -0.220920  1.883592  -0.729695\n",
       "SPR     -0.235690 -0.903943   0.065431\n",
       "ARG     -0.183852 -1.147420   0.023110\n",
       "AUR     -0.316819  0.966018  -0.607135\n",
       "XMY     -0.098864 -1.878920   0.417095\n",
       "MOON     2.423785 -1.354159   0.010948\n",
       "ZET     -0.153784 -1.243008   0.204171\n",
       "SXC     -0.181198 -1.147482   0.023070\n",
       "QTL     -0.183665 -1.147440   0.023110\n",
       "QRK     -0.232340 -0.366284   0.029318\n",
       "RIC     -0.200392 -1.487677   0.254386\n",
       "DGC     -0.183706 -1.147404   0.023104\n",
       "BTB     -0.317145  0.966021  -0.607129\n",
       "CAT     -0.184203 -1.147398   0.023113\n",
       "CBX     -0.317130  0.966021  -0.607129\n",
       "CCN     -0.184287 -1.147395   0.023114\n",
       "CRYPT   -0.235777 -0.903944   0.065433\n",
       "...           ...       ...        ...\n",
       "CRW     -0.156406 -1.242986   0.204217\n",
       "GEN     -0.316333  0.966032  -0.607147\n",
       "SMLY     0.507572 -1.164869   0.012997\n",
       "MI      -0.309616  0.965935  -0.607258\n",
       "GRS     -0.199967 -1.487681   0.254379\n",
       "CPC     -0.364865  1.209426  -0.564875\n",
       "CLUB    -0.314828  0.965968  -0.607164\n",
       "RADS    -0.325634  1.802793  -0.220268\n",
       "BTA     -0.184338 -1.147390   0.023114\n",
       "PAK     -0.182366 -1.147465   0.023090\n",
       "CRB     -0.362611  0.730194  -0.257718\n",
       "OK      -0.288079  0.870406  -0.426044\n",
       "LSK      4.178385  1.789154  -0.273681\n",
       "XHI     -0.089511  0.879018  -0.321677\n",
       "XWC     -0.312110  0.965940  -0.607211\n",
       "FSC     -0.328579  0.549352  -0.353660\n",
       "J       -0.132499 -1.878383   0.417644\n",
       "TRI     -0.226795  1.772733  -0.685253\n",
       "VOLLAR  -0.152532 -2.122930   0.462945\n",
       "RCC     -0.175123 -1.914371   0.426023\n",
       "TCH     -0.230441  0.785414  -0.137686\n",
       "WAVES   -0.384138  3.393068  13.270386\n",
       "PART    -0.325571  1.802795  -0.220270\n",
       "BTT     33.422758  1.366987  -0.909411\n",
       "NXT     -0.330141  2.020203  -0.146882\n",
       "ZEPH     2.876881  0.806545  -0.167668\n",
       "GAP     -0.315273  0.965891  -0.607141\n",
       "BDX      0.271215 -2.231503   0.473134\n",
       "ZEN     -0.172243 -1.952853   0.448920\n",
       "XBC     -0.276604  0.881215  -0.318475\n",
       "\n",
       "[497 rows x 3 columns]"
      ]
     },
     "execution_count": 93,
     "metadata": {},
     "output_type": "execute_result"
    }
   ],
   "source": [
    "# Create a DataFrame with the principal components data\n",
    "crypto_pca = pd.DataFrame(crypto_pca, index = crypto_df.index)\n",
    "crypto_pca"
   ]
  },
  {
   "cell_type": "markdown",
   "metadata": {},
   "source": [
    "### Clustering Crytocurrencies Using K-Means\n",
    "\n",
    "#### Find the Best Value for `k` Using the Elbow Curve"
   ]
  },
  {
   "cell_type": "code",
   "execution_count": 94,
   "metadata": {},
   "outputs": [
    {
     "name": "stderr",
     "output_type": "stream",
     "text": [
      "C:\\Users\\anduc\\anaconda3\\envs\\mlenv\\lib\\site-packages\\sklearn\\cluster\\_kmeans.py:882: UserWarning:\n",
      "\n",
      "KMeans is known to have a memory leak on Windows with MKL, when there are less chunks than available threads. You can avoid it by setting the environment variable OMP_NUM_THREADS=2.\n",
      "\n"
     ]
    },
    {
     "data": {},
     "metadata": {},
     "output_type": "display_data"
    },
    {
     "data": {
      "application/vnd.holoviews_exec.v0+json": "",
      "text/html": [
       "<div id='1707'>\n",
       "\n",
       "\n",
       "\n",
       "\n",
       "\n",
       "  <div class=\"bk-root\" id=\"6c457a71-ec5d-4888-85fd-4588580da864\" data-root-id=\"1707\"></div>\n",
       "</div>\n",
       "<script type=\"application/javascript\">(function(root) {\n",
       "  function embed_document(root) {\n",
       "    var docs_json = {\"3b7baacc-bd02-48d4-a013-55528fa3fb14\":{\"defs\":[],\"roots\":{\"references\":[{\"attributes\":{\"active_multi\":null,\"tools\":[{\"id\":\"1711\"},{\"id\":\"1729\"},{\"id\":\"1730\"},{\"id\":\"1731\"},{\"id\":\"1732\"},{\"id\":\"1733\"}]},\"id\":\"1735\",\"type\":\"Toolbar\"},{\"attributes\":{\"callback\":null,\"renderers\":[{\"id\":\"1748\"}],\"tags\":[\"hv_created\"],\"tooltips\":[[\"k\",\"@{k}\"],[\"inertia\",\"@{inertia}\"]]},\"id\":\"1711\",\"type\":\"HoverTool\"},{\"attributes\":{\"margin\":[5,5,5,5],\"name\":\"HSpacer02765\",\"sizing_mode\":\"stretch_width\"},\"id\":\"1778\",\"type\":\"Spacer\"},{\"attributes\":{\"axis\":{\"id\":\"1721\"},\"grid_line_color\":null,\"ticker\":null},\"id\":\"1724\",\"type\":\"Grid\"},{\"attributes\":{},\"id\":\"1752\",\"type\":\"BasicTickFormatter\"},{\"attributes\":{\"bottom_units\":\"screen\",\"fill_alpha\":0.5,\"fill_color\":\"lightgrey\",\"left_units\":\"screen\",\"level\":\"overlay\",\"line_alpha\":1.0,\"line_color\":\"black\",\"line_dash\":[4,4],\"line_width\":2,\"right_units\":\"screen\",\"syncable\":false,\"top_units\":\"screen\"},\"id\":\"1734\",\"type\":\"BoxAnnotation\"},{\"attributes\":{\"line_color\":\"#30a2da\",\"line_width\":2,\"x\":{\"field\":\"k\"},\"y\":{\"field\":\"inertia\"}},\"id\":\"1750\",\"type\":\"Line\"},{\"attributes\":{},\"id\":\"1719\",\"type\":\"LinearScale\"},{\"attributes\":{\"source\":{\"id\":\"1742\"}},\"id\":\"1749\",\"type\":\"CDSView\"},{\"attributes\":{},\"id\":\"1754\",\"type\":\"AllLabels\"},{\"attributes\":{\"line_alpha\":0.2,\"line_color\":\"#30a2da\",\"line_width\":2,\"x\":{\"field\":\"k\"},\"y\":{\"field\":\"inertia\"}},\"id\":\"1747\",\"type\":\"Line\"},{\"attributes\":{\"line_alpha\":0.1,\"line_color\":\"#30a2da\",\"line_width\":2,\"x\":{\"field\":\"k\"},\"y\":{\"field\":\"inertia\"}},\"id\":\"1746\",\"type\":\"Line\"},{\"attributes\":{\"axis_label\":\"inertia\",\"formatter\":{\"id\":\"1757\"},\"major_label_policy\":{\"id\":\"1759\"},\"ticker\":{\"id\":\"1726\"}},\"id\":\"1725\",\"type\":\"LinearAxis\"},{\"attributes\":{\"ticks\":[1,2,3,4,5,6,7,8,9,10]},\"id\":\"1751\",\"type\":\"FixedTicker\"},{\"attributes\":{},\"id\":\"1768\",\"type\":\"UnionRenderers\"},{\"attributes\":{},\"id\":\"1759\",\"type\":\"AllLabels\"},{\"attributes\":{\"margin\":[5,5,5,5],\"name\":\"HSpacer02764\",\"sizing_mode\":\"stretch_width\"},\"id\":\"1708\",\"type\":\"Spacer\"},{\"attributes\":{\"data_source\":{\"id\":\"1742\"},\"glyph\":{\"id\":\"1745\"},\"hover_glyph\":null,\"muted_glyph\":{\"id\":\"1747\"},\"nonselection_glyph\":{\"id\":\"1746\"},\"selection_glyph\":{\"id\":\"1750\"},\"view\":{\"id\":\"1749\"}},\"id\":\"1748\",\"type\":\"GlyphRenderer\"},{\"attributes\":{},\"id\":\"1757\",\"type\":\"BasicTickFormatter\"},{\"attributes\":{\"end\":10.0,\"reset_end\":10.0,\"reset_start\":1.0,\"start\":1.0,\"tags\":[[[\"k\",\"k\",null]]]},\"id\":\"1709\",\"type\":\"Range1d\"},{\"attributes\":{\"line_color\":\"#30a2da\",\"line_width\":2,\"x\":{\"field\":\"k\"},\"y\":{\"field\":\"inertia\"}},\"id\":\"1745\",\"type\":\"Line\"},{\"attributes\":{\"end\":3770.07419159872,\"reset_end\":3770.07419159872,\"reset_start\":-277.1473645625089,\"start\":-277.1473645625089,\"tags\":[[[\"inertia\",\"inertia\",null]]]},\"id\":\"1710\",\"type\":\"Range1d\"},{\"attributes\":{},\"id\":\"1729\",\"type\":\"SaveTool\"},{\"attributes\":{\"axis_label\":\"k\",\"formatter\":{\"id\":\"1752\"},\"major_label_policy\":{\"id\":\"1754\"},\"ticker\":{\"id\":\"1751\"}},\"id\":\"1721\",\"type\":\"LinearAxis\"},{\"attributes\":{\"overlay\":{\"id\":\"1734\"}},\"id\":\"1732\",\"type\":\"BoxZoomTool\"},{\"attributes\":{\"below\":[{\"id\":\"1721\"}],\"center\":[{\"id\":\"1724\"},{\"id\":\"1728\"}],\"height\":300,\"left\":[{\"id\":\"1725\"}],\"margin\":[5,5,5,5],\"min_border_bottom\":10,\"min_border_left\":10,\"min_border_right\":10,\"min_border_top\":10,\"renderers\":[{\"id\":\"1748\"}],\"sizing_mode\":\"fixed\",\"title\":{\"id\":\"1713\"},\"toolbar\":{\"id\":\"1735\"},\"width\":700,\"x_range\":{\"id\":\"1709\"},\"x_scale\":{\"id\":\"1717\"},\"y_range\":{\"id\":\"1710\"},\"y_scale\":{\"id\":\"1719\"}},\"id\":\"1712\",\"subtype\":\"Figure\",\"type\":\"Plot\"},{\"attributes\":{},\"id\":\"1733\",\"type\":\"ResetTool\"},{\"attributes\":{},\"id\":\"1730\",\"type\":\"PanTool\"},{\"attributes\":{\"data\":{\"inertia\":{\"__ndarray__\":\"fwZ1iJzRqkBbnfobiw2iQIgnaBpMKpVARhySQy0/ekB2FS4krTFwQBx2YvkCnGlATS/mKHxbZEDRxdHKi2VdQDjJs05MU1RA4ClvJ4APTkA=\",\"dtype\":\"float64\",\"order\":\"little\",\"shape\":[10]},\"k\":[1,2,3,4,5,6,7,8,9,10]},\"selected\":{\"id\":\"1743\"},\"selection_policy\":{\"id\":\"1768\"}},\"id\":\"1742\",\"type\":\"ColumnDataSource\"},{\"attributes\":{\"children\":[{\"id\":\"1708\"},{\"id\":\"1712\"},{\"id\":\"1778\"}],\"margin\":[0,0,0,0],\"name\":\"Row02760\",\"tags\":[\"embedded\"]},\"id\":\"1707\",\"type\":\"Row\"},{\"attributes\":{\"axis\":{\"id\":\"1725\"},\"dimension\":1,\"grid_line_color\":null,\"ticker\":null},\"id\":\"1728\",\"type\":\"Grid\"},{\"attributes\":{\"text\":\"Elbow Curve\",\"text_color\":\"black\",\"text_font_size\":\"12pt\"},\"id\":\"1713\",\"type\":\"Title\"},{\"attributes\":{},\"id\":\"1731\",\"type\":\"WheelZoomTool\"},{\"attributes\":{},\"id\":\"1743\",\"type\":\"Selection\"},{\"attributes\":{},\"id\":\"1717\",\"type\":\"LinearScale\"},{\"attributes\":{},\"id\":\"1726\",\"type\":\"BasicTicker\"}],\"root_ids\":[\"1707\"]},\"title\":\"Bokeh Application\",\"version\":\"2.3.1\"}};\n",
       "    var render_items = [{\"docid\":\"3b7baacc-bd02-48d4-a013-55528fa3fb14\",\"root_ids\":[\"1707\"],\"roots\":{\"1707\":\"6c457a71-ec5d-4888-85fd-4588580da864\"}}];\n",
       "    root.Bokeh.embed.embed_items_notebook(docs_json, render_items);\n",
       "  }\n",
       "  if (root.Bokeh !== undefined && root.Bokeh.Panel !== undefined) {\n",
       "    embed_document(root);\n",
       "  } else {\n",
       "    var attempts = 0;\n",
       "    var timer = setInterval(function(root) {\n",
       "      if (root.Bokeh !== undefined && root.Bokeh.Panel !== undefined) {\n",
       "        clearInterval(timer);\n",
       "        embed_document(root);\n",
       "      } else if (document.readyState == \"complete\") {\n",
       "        attempts++;\n",
       "        if (attempts > 100) {\n",
       "          clearInterval(timer);\n",
       "          console.log(\"Bokeh: ERROR: Unable to run BokehJS code because BokehJS library is missing\");\n",
       "        }\n",
       "      }\n",
       "    }, 10, root)\n",
       "  }\n",
       "})(window);</script>"
      ],
      "text/plain": [
       ":Curve   [k]   (inertia)"
      ]
     },
     "execution_count": 94,
     "metadata": {
      "application/vnd.holoviews_exec.v0+json": {
       "id": "1707"
      }
     },
     "output_type": "execute_result"
    }
   ],
   "source": [
    "inertia = []\n",
    "k = list(range(1, 11))\n",
    "\n",
    "# Calculate the inertia for the range of k values\n",
    "for i in k:\n",
    "    km = KMeans(n_clusters=i, random_state=0)\n",
    "    km.fit(crypto_pca)\n",
    "    inertia.append(km.inertia_)\n",
    "\n",
    "# Create the Elbow Curve using hvPlot\n",
    "elbow_data = {\"k\": k, \"inertia\": inertia}\n",
    "df_elbow = pd.DataFrame(elbow_data)\n",
    "df_elbow.hvplot.line(x=\"k\", y=\"inertia\", xticks=k, title=\"Elbow Curve\")"
   ]
  },
  {
   "cell_type": "markdown",
   "metadata": {},
   "source": [
    "Running K-Means with `k=4`"
   ]
  },
  {
   "cell_type": "code",
   "execution_count": 95,
   "metadata": {},
   "outputs": [
    {
     "data": {
      "text/html": [
       "<div>\n",
       "<style scoped>\n",
       "    .dataframe tbody tr th:only-of-type {\n",
       "        vertical-align: middle;\n",
       "    }\n",
       "\n",
       "    .dataframe tbody tr th {\n",
       "        vertical-align: top;\n",
       "    }\n",
       "\n",
       "    .dataframe thead th {\n",
       "        text-align: right;\n",
       "    }\n",
       "</style>\n",
       "<table border=\"1\" class=\"dataframe\">\n",
       "  <thead>\n",
       "    <tr style=\"text-align: right;\">\n",
       "      <th></th>\n",
       "      <th>0</th>\n",
       "      <th>1</th>\n",
       "      <th>2</th>\n",
       "      <th>class</th>\n",
       "      <th>Algorithm</th>\n",
       "      <th>ProofType</th>\n",
       "      <th>TotalCoinsMined</th>\n",
       "      <th>TotalCoinSupply</th>\n",
       "      <th>CoinName</th>\n",
       "    </tr>\n",
       "  </thead>\n",
       "  <tbody>\n",
       "    <tr>\n",
       "      <th>42</th>\n",
       "      <td>-0.317149</td>\n",
       "      <td>0.966021</td>\n",
       "      <td>-0.607129</td>\n",
       "      <td>0</td>\n",
       "      <td>Scrypt</td>\n",
       "      <td>PoW/PoS</td>\n",
       "      <td>4.199995e+01</td>\n",
       "      <td>42</td>\n",
       "      <td>42 Coin</td>\n",
       "    </tr>\n",
       "    <tr>\n",
       "      <th>404</th>\n",
       "      <td>-0.300967</td>\n",
       "      <td>0.966071</td>\n",
       "      <td>-0.607450</td>\n",
       "      <td>0</td>\n",
       "      <td>Scrypt</td>\n",
       "      <td>PoW/PoS</td>\n",
       "      <td>1.055185e+09</td>\n",
       "      <td>532000000</td>\n",
       "      <td>404Coin</td>\n",
       "    </tr>\n",
       "    <tr>\n",
       "      <th>1337</th>\n",
       "      <td>2.255810</td>\n",
       "      <td>1.612916</td>\n",
       "      <td>-0.703654</td>\n",
       "      <td>0</td>\n",
       "      <td>X13</td>\n",
       "      <td>PoW/PoS</td>\n",
       "      <td>2.927942e+10</td>\n",
       "      <td>314159265359</td>\n",
       "      <td>EliteCoin</td>\n",
       "    </tr>\n",
       "    <tr>\n",
       "      <th>BTC</th>\n",
       "      <td>-0.156609</td>\n",
       "      <td>-1.242977</td>\n",
       "      <td>0.204219</td>\n",
       "      <td>1</td>\n",
       "      <td>SHA-256</td>\n",
       "      <td>PoW</td>\n",
       "      <td>1.792718e+07</td>\n",
       "      <td>21000000</td>\n",
       "      <td>Bitcoin</td>\n",
       "    </tr>\n",
       "    <tr>\n",
       "      <th>LTC</th>\n",
       "      <td>-0.183111</td>\n",
       "      <td>-1.147414</td>\n",
       "      <td>0.023095</td>\n",
       "      <td>1</td>\n",
       "      <td>Scrypt</td>\n",
       "      <td>PoW</td>\n",
       "      <td>6.303924e+07</td>\n",
       "      <td>84000000</td>\n",
       "      <td>Litecoin</td>\n",
       "    </tr>\n",
       "    <tr>\n",
       "      <th>DASH</th>\n",
       "      <td>-0.368419</td>\n",
       "      <td>1.209465</td>\n",
       "      <td>-0.564813</td>\n",
       "      <td>0</td>\n",
       "      <td>X11</td>\n",
       "      <td>PoW/PoS</td>\n",
       "      <td>9.031294e+06</td>\n",
       "      <td>22000000</td>\n",
       "      <td>Dash</td>\n",
       "    </tr>\n",
       "    <tr>\n",
       "      <th>ETC</th>\n",
       "      <td>-0.172805</td>\n",
       "      <td>-1.914442</td>\n",
       "      <td>0.425992</td>\n",
       "      <td>1</td>\n",
       "      <td>Ethash</td>\n",
       "      <td>PoW</td>\n",
       "      <td>1.133597e+08</td>\n",
       "      <td>210000000</td>\n",
       "      <td>Ethereum Classic</td>\n",
       "    </tr>\n",
       "    <tr>\n",
       "      <th>ZEC</th>\n",
       "      <td>-0.172242</td>\n",
       "      <td>-1.952853</td>\n",
       "      <td>0.448920</td>\n",
       "      <td>1</td>\n",
       "      <td>Equihash</td>\n",
       "      <td>PoW</td>\n",
       "      <td>7.383056e+06</td>\n",
       "      <td>21000000</td>\n",
       "      <td>ZCash</td>\n",
       "    </tr>\n",
       "    <tr>\n",
       "      <th>BTS</th>\n",
       "      <td>-0.252435</td>\n",
       "      <td>1.813580</td>\n",
       "      <td>-0.183012</td>\n",
       "      <td>0</td>\n",
       "      <td>SHA-512</td>\n",
       "      <td>PoS</td>\n",
       "      <td>2.741570e+09</td>\n",
       "      <td>3600570502</td>\n",
       "      <td>Bitshares</td>\n",
       "    </tr>\n",
       "    <tr>\n",
       "      <th>DGB</th>\n",
       "      <td>0.145945</td>\n",
       "      <td>-1.886049</td>\n",
       "      <td>0.413689</td>\n",
       "      <td>1</td>\n",
       "      <td>Multiple</td>\n",
       "      <td>PoW</td>\n",
       "      <td>1.140622e+10</td>\n",
       "      <td>21000000000</td>\n",
       "      <td>DigiByte</td>\n",
       "    </tr>\n",
       "    <tr>\n",
       "      <th>BTCD</th>\n",
       "      <td>-0.289517</td>\n",
       "      <td>0.870427</td>\n",
       "      <td>-0.426021</td>\n",
       "      <td>0</td>\n",
       "      <td>SHA-256</td>\n",
       "      <td>PoW/PoS</td>\n",
       "      <td>1.288862e+06</td>\n",
       "      <td>22000000</td>\n",
       "      <td>BitcoinDark</td>\n",
       "    </tr>\n",
       "    <tr>\n",
       "      <th>XPY</th>\n",
       "      <td>-0.248917</td>\n",
       "      <td>0.785630</td>\n",
       "      <td>-0.137369</td>\n",
       "      <td>0</td>\n",
       "      <td>SHA-256</td>\n",
       "      <td>PoS</td>\n",
       "      <td>1.199533e+07</td>\n",
       "      <td>12500000</td>\n",
       "      <td>PayCoin</td>\n",
       "    </tr>\n",
       "    <tr>\n",
       "      <th>PRC</th>\n",
       "      <td>-0.184221</td>\n",
       "      <td>-1.147398</td>\n",
       "      <td>0.023113</td>\n",
       "      <td>1</td>\n",
       "      <td>Scrypt</td>\n",
       "      <td>PoW</td>\n",
       "      <td>5.768310e+06</td>\n",
       "      <td>21000000</td>\n",
       "      <td>ProsperCoin</td>\n",
       "    </tr>\n",
       "    <tr>\n",
       "      <th>KOBO</th>\n",
       "      <td>-0.220920</td>\n",
       "      <td>1.883592</td>\n",
       "      <td>-0.729695</td>\n",
       "      <td>0</td>\n",
       "      <td>X15</td>\n",
       "      <td>PoW/PoS</td>\n",
       "      <td>2.554254e+07</td>\n",
       "      <td>350000000</td>\n",
       "      <td>KoboCoin</td>\n",
       "    </tr>\n",
       "    <tr>\n",
       "      <th>SPR</th>\n",
       "      <td>-0.235690</td>\n",
       "      <td>-0.903943</td>\n",
       "      <td>0.065431</td>\n",
       "      <td>1</td>\n",
       "      <td>X11</td>\n",
       "      <td>PoW</td>\n",
       "      <td>1.114973e+07</td>\n",
       "      <td>20000000</td>\n",
       "      <td>Spreadcoin</td>\n",
       "    </tr>\n",
       "    <tr>\n",
       "      <th>ARG</th>\n",
       "      <td>-0.183852</td>\n",
       "      <td>-1.147420</td>\n",
       "      <td>0.023110</td>\n",
       "      <td>1</td>\n",
       "      <td>Scrypt</td>\n",
       "      <td>PoW</td>\n",
       "      <td>1.220580e+07</td>\n",
       "      <td>64000000</td>\n",
       "      <td>Argentum</td>\n",
       "    </tr>\n",
       "    <tr>\n",
       "      <th>AUR</th>\n",
       "      <td>-0.316819</td>\n",
       "      <td>0.966018</td>\n",
       "      <td>-0.607135</td>\n",
       "      <td>0</td>\n",
       "      <td>Scrypt</td>\n",
       "      <td>PoW/PoS</td>\n",
       "      <td>1.813510e+07</td>\n",
       "      <td>16768584</td>\n",
       "      <td>Aurora Coin</td>\n",
       "    </tr>\n",
       "    <tr>\n",
       "      <th>XMY</th>\n",
       "      <td>-0.098864</td>\n",
       "      <td>-1.878920</td>\n",
       "      <td>0.417095</td>\n",
       "      <td>1</td>\n",
       "      <td>Multiple</td>\n",
       "      <td>PoW</td>\n",
       "      <td>1.688254e+09</td>\n",
       "      <td>2000000000</td>\n",
       "      <td>MyriadCoin</td>\n",
       "    </tr>\n",
       "    <tr>\n",
       "      <th>MOON</th>\n",
       "      <td>2.423785</td>\n",
       "      <td>-1.354159</td>\n",
       "      <td>0.010948</td>\n",
       "      <td>1</td>\n",
       "      <td>Scrypt</td>\n",
       "      <td>PoW</td>\n",
       "      <td>8.800000e+01</td>\n",
       "      <td>384000000000</td>\n",
       "      <td>MoonCoin</td>\n",
       "    </tr>\n",
       "    <tr>\n",
       "      <th>ZET</th>\n",
       "      <td>-0.153784</td>\n",
       "      <td>-1.243008</td>\n",
       "      <td>0.204171</td>\n",
       "      <td>1</td>\n",
       "      <td>SHA-256</td>\n",
       "      <td>PoW</td>\n",
       "      <td>1.702044e+08</td>\n",
       "      <td>169795588</td>\n",
       "      <td>ZetaCoin</td>\n",
       "    </tr>\n",
       "    <tr>\n",
       "      <th>SXC</th>\n",
       "      <td>-0.181198</td>\n",
       "      <td>-1.147482</td>\n",
       "      <td>0.023070</td>\n",
       "      <td>1</td>\n",
       "      <td>Scrypt</td>\n",
       "      <td>PoW</td>\n",
       "      <td>1.289410e+08</td>\n",
       "      <td>250000000</td>\n",
       "      <td>SexCoin</td>\n",
       "    </tr>\n",
       "    <tr>\n",
       "      <th>QTL</th>\n",
       "      <td>-0.183665</td>\n",
       "      <td>-1.147440</td>\n",
       "      <td>0.023110</td>\n",
       "      <td>1</td>\n",
       "      <td>Scrypt</td>\n",
       "      <td>PoW</td>\n",
       "      <td>7.357795e+06</td>\n",
       "      <td>100000000</td>\n",
       "      <td>Quatloo</td>\n",
       "    </tr>\n",
       "    <tr>\n",
       "      <th>QRK</th>\n",
       "      <td>-0.232340</td>\n",
       "      <td>-0.366284</td>\n",
       "      <td>0.029318</td>\n",
       "      <td>1</td>\n",
       "      <td>Quark</td>\n",
       "      <td>PoW</td>\n",
       "      <td>2.595572e+08</td>\n",
       "      <td>247000000</td>\n",
       "      <td>QuarkCoin</td>\n",
       "    </tr>\n",
       "    <tr>\n",
       "      <th>RIC</th>\n",
       "      <td>-0.200392</td>\n",
       "      <td>-1.487677</td>\n",
       "      <td>0.254386</td>\n",
       "      <td>1</td>\n",
       "      <td>Groestl</td>\n",
       "      <td>PoW</td>\n",
       "      <td>4.954859e+07</td>\n",
       "      <td>84000000</td>\n",
       "      <td>Riecoin</td>\n",
       "    </tr>\n",
       "    <tr>\n",
       "      <th>DGC</th>\n",
       "      <td>-0.183706</td>\n",
       "      <td>-1.147404</td>\n",
       "      <td>0.023104</td>\n",
       "      <td>1</td>\n",
       "      <td>Scrypt</td>\n",
       "      <td>PoW</td>\n",
       "      <td>3.344299e+07</td>\n",
       "      <td>48166000</td>\n",
       "      <td>Digitalcoin</td>\n",
       "    </tr>\n",
       "    <tr>\n",
       "      <th>BTB</th>\n",
       "      <td>-0.317145</td>\n",
       "      <td>0.966021</td>\n",
       "      <td>-0.607129</td>\n",
       "      <td>0</td>\n",
       "      <td>Scrypt</td>\n",
       "      <td>PoW/PoS</td>\n",
       "      <td>4.257948e+04</td>\n",
       "      <td>500000</td>\n",
       "      <td>BitBar</td>\n",
       "    </tr>\n",
       "    <tr>\n",
       "      <th>CAT</th>\n",
       "      <td>-0.184203</td>\n",
       "      <td>-1.147398</td>\n",
       "      <td>0.023113</td>\n",
       "      <td>1</td>\n",
       "      <td>Scrypt</td>\n",
       "      <td>PoW</td>\n",
       "      <td>7.219957e+06</td>\n",
       "      <td>21000000</td>\n",
       "      <td>Catcoin</td>\n",
       "    </tr>\n",
       "    <tr>\n",
       "      <th>CBX</th>\n",
       "      <td>-0.317130</td>\n",
       "      <td>0.966021</td>\n",
       "      <td>-0.607129</td>\n",
       "      <td>0</td>\n",
       "      <td>Scrypt</td>\n",
       "      <td>PoW/PoS</td>\n",
       "      <td>1.039117e+06</td>\n",
       "      <td>1000000</td>\n",
       "      <td>CryptoBullion</td>\n",
       "    </tr>\n",
       "    <tr>\n",
       "      <th>CCN</th>\n",
       "      <td>-0.184287</td>\n",
       "      <td>-1.147395</td>\n",
       "      <td>0.023114</td>\n",
       "      <td>1</td>\n",
       "      <td>Scrypt</td>\n",
       "      <td>PoW</td>\n",
       "      <td>4.703880e+06</td>\n",
       "      <td>13140000</td>\n",
       "      <td>CannaCoin</td>\n",
       "    </tr>\n",
       "    <tr>\n",
       "      <th>CRYPT</th>\n",
       "      <td>-0.235777</td>\n",
       "      <td>-0.903944</td>\n",
       "      <td>0.065433</td>\n",
       "      <td>1</td>\n",
       "      <td>X11</td>\n",
       "      <td>PoW</td>\n",
       "      <td>4.996986e+06</td>\n",
       "      <td>18000000</td>\n",
       "      <td>CryptCoin</td>\n",
       "    </tr>\n",
       "    <tr>\n",
       "      <th>...</th>\n",
       "      <td>...</td>\n",
       "      <td>...</td>\n",
       "      <td>...</td>\n",
       "      <td>...</td>\n",
       "      <td>...</td>\n",
       "      <td>...</td>\n",
       "      <td>...</td>\n",
       "      <td>...</td>\n",
       "      <td>...</td>\n",
       "    </tr>\n",
       "    <tr>\n",
       "      <th>CRW</th>\n",
       "      <td>-0.156406</td>\n",
       "      <td>-1.242986</td>\n",
       "      <td>0.204217</td>\n",
       "      <td>1</td>\n",
       "      <td>SHA-256</td>\n",
       "      <td>PoW</td>\n",
       "      <td>2.298693e+07</td>\n",
       "      <td>42000000</td>\n",
       "      <td>Crown Coin</td>\n",
       "    </tr>\n",
       "    <tr>\n",
       "      <th>GEN</th>\n",
       "      <td>-0.316333</td>\n",
       "      <td>0.966032</td>\n",
       "      <td>-0.607147</td>\n",
       "      <td>0</td>\n",
       "      <td>Scrypt</td>\n",
       "      <td>PoW/PoS</td>\n",
       "      <td>6.000000e+07</td>\n",
       "      <td>15000000</td>\n",
       "      <td>Genstake</td>\n",
       "    </tr>\n",
       "    <tr>\n",
       "      <th>SMLY</th>\n",
       "      <td>0.507572</td>\n",
       "      <td>-1.164869</td>\n",
       "      <td>0.012997</td>\n",
       "      <td>1</td>\n",
       "      <td>Scrypt</td>\n",
       "      <td>PoW</td>\n",
       "      <td>2.958399e+10</td>\n",
       "      <td>50000000000</td>\n",
       "      <td>SmileyCoin</td>\n",
       "    </tr>\n",
       "    <tr>\n",
       "      <th>MI</th>\n",
       "      <td>-0.309616</td>\n",
       "      <td>0.965935</td>\n",
       "      <td>-0.607258</td>\n",
       "      <td>0</td>\n",
       "      <td>Scrypt</td>\n",
       "      <td>PoW/PoS</td>\n",
       "      <td>4.043165e+08</td>\n",
       "      <td>400000000</td>\n",
       "      <td>XiaoMiCoin</td>\n",
       "    </tr>\n",
       "    <tr>\n",
       "      <th>GRS</th>\n",
       "      <td>-0.199967</td>\n",
       "      <td>-1.487681</td>\n",
       "      <td>0.254379</td>\n",
       "      <td>1</td>\n",
       "      <td>Groestl</td>\n",
       "      <td>PoW</td>\n",
       "      <td>7.329820e+07</td>\n",
       "      <td>105000000</td>\n",
       "      <td>Groestlcoin</td>\n",
       "    </tr>\n",
       "    <tr>\n",
       "      <th>CPC</th>\n",
       "      <td>-0.364865</td>\n",
       "      <td>1.209426</td>\n",
       "      <td>-0.564875</td>\n",
       "      <td>0</td>\n",
       "      <td>X11</td>\n",
       "      <td>PoW/PoS</td>\n",
       "      <td>2.013643e+08</td>\n",
       "      <td>208000000</td>\n",
       "      <td>CapriCoin</td>\n",
       "    </tr>\n",
       "    <tr>\n",
       "      <th>CLUB</th>\n",
       "      <td>-0.314828</td>\n",
       "      <td>0.965968</td>\n",
       "      <td>-0.607164</td>\n",
       "      <td>0</td>\n",
       "      <td>Scrypt</td>\n",
       "      <td>PoW/PoS</td>\n",
       "      <td>1.036219e+08</td>\n",
       "      <td>160000000</td>\n",
       "      <td>ClubCoin</td>\n",
       "    </tr>\n",
       "    <tr>\n",
       "      <th>RADS</th>\n",
       "      <td>-0.325634</td>\n",
       "      <td>1.802793</td>\n",
       "      <td>-0.220268</td>\n",
       "      <td>0</td>\n",
       "      <td>PoS</td>\n",
       "      <td>PoS</td>\n",
       "      <td>3.821246e+06</td>\n",
       "      <td>9000000</td>\n",
       "      <td>Radium</td>\n",
       "    </tr>\n",
       "    <tr>\n",
       "      <th>BTA</th>\n",
       "      <td>-0.184338</td>\n",
       "      <td>-1.147390</td>\n",
       "      <td>0.023114</td>\n",
       "      <td>1</td>\n",
       "      <td>Scrypt</td>\n",
       "      <td>PoW</td>\n",
       "      <td>5.052556e+06</td>\n",
       "      <td>5000000</td>\n",
       "      <td>Bata</td>\n",
       "    </tr>\n",
       "    <tr>\n",
       "      <th>PAK</th>\n",
       "      <td>-0.182366</td>\n",
       "      <td>-1.147465</td>\n",
       "      <td>0.023090</td>\n",
       "      <td>1</td>\n",
       "      <td>Scrypt</td>\n",
       "      <td>PoW</td>\n",
       "      <td>6.968446e+07</td>\n",
       "      <td>182000000</td>\n",
       "      <td>Pakcoin</td>\n",
       "    </tr>\n",
       "    <tr>\n",
       "      <th>CRB</th>\n",
       "      <td>-0.362611</td>\n",
       "      <td>0.730194</td>\n",
       "      <td>-0.257718</td>\n",
       "      <td>0</td>\n",
       "      <td>X11</td>\n",
       "      <td>Proof of Trust</td>\n",
       "      <td>1.690102e+07</td>\n",
       "      <td>16504333</td>\n",
       "      <td>Creditbit</td>\n",
       "    </tr>\n",
       "    <tr>\n",
       "      <th>OK</th>\n",
       "      <td>-0.288079</td>\n",
       "      <td>0.870406</td>\n",
       "      <td>-0.426044</td>\n",
       "      <td>0</td>\n",
       "      <td>SHA-256</td>\n",
       "      <td>PoW/PoS</td>\n",
       "      <td>7.467606e+07</td>\n",
       "      <td>105000000</td>\n",
       "      <td>OKCash</td>\n",
       "    </tr>\n",
       "    <tr>\n",
       "      <th>LSK</th>\n",
       "      <td>4.178385</td>\n",
       "      <td>1.789154</td>\n",
       "      <td>-0.273681</td>\n",
       "      <td>0</td>\n",
       "      <td>DPoS</td>\n",
       "      <td>DPoS</td>\n",
       "      <td>1.200121e+08</td>\n",
       "      <td>159918400</td>\n",
       "      <td>Lisk</td>\n",
       "    </tr>\n",
       "    <tr>\n",
       "      <th>XHI</th>\n",
       "      <td>-0.089511</td>\n",
       "      <td>0.879018</td>\n",
       "      <td>-0.321677</td>\n",
       "      <td>0</td>\n",
       "      <td>Scrypt</td>\n",
       "      <td>PoS</td>\n",
       "      <td>1.000024e+10</td>\n",
       "      <td>10008835635</td>\n",
       "      <td>HiCoin</td>\n",
       "    </tr>\n",
       "    <tr>\n",
       "      <th>XWC</th>\n",
       "      <td>-0.312110</td>\n",
       "      <td>0.965940</td>\n",
       "      <td>-0.607211</td>\n",
       "      <td>0</td>\n",
       "      <td>Scrypt</td>\n",
       "      <td>PoW/PoS</td>\n",
       "      <td>2.520056e+08</td>\n",
       "      <td>300000000</td>\n",
       "      <td>WhiteCoin</td>\n",
       "    </tr>\n",
       "    <tr>\n",
       "      <th>FSC</th>\n",
       "      <td>-0.328579</td>\n",
       "      <td>0.549352</td>\n",
       "      <td>-0.353660</td>\n",
       "      <td>0</td>\n",
       "      <td>NeoScrypt</td>\n",
       "      <td>PoW/PoS</td>\n",
       "      <td>1.120385e+06</td>\n",
       "      <td>60168145</td>\n",
       "      <td>FriendshipCoin</td>\n",
       "    </tr>\n",
       "    <tr>\n",
       "      <th>J</th>\n",
       "      <td>-0.132499</td>\n",
       "      <td>-1.878383</td>\n",
       "      <td>0.417644</td>\n",
       "      <td>1</td>\n",
       "      <td>Multiple</td>\n",
       "      <td>PoW</td>\n",
       "      <td>3.332922e+06</td>\n",
       "      <td>2800000</td>\n",
       "      <td>JoinCoin</td>\n",
       "    </tr>\n",
       "    <tr>\n",
       "      <th>TRI</th>\n",
       "      <td>-0.226795</td>\n",
       "      <td>1.772733</td>\n",
       "      <td>-0.685253</td>\n",
       "      <td>0</td>\n",
       "      <td>X13</td>\n",
       "      <td>PoW/PoS</td>\n",
       "      <td>1.407778e+05</td>\n",
       "      <td>120000</td>\n",
       "      <td>Triangles Coin</td>\n",
       "    </tr>\n",
       "    <tr>\n",
       "      <th>VOLLAR</th>\n",
       "      <td>-0.152532</td>\n",
       "      <td>-2.122930</td>\n",
       "      <td>0.462945</td>\n",
       "      <td>1</td>\n",
       "      <td>Equihash+Scrypt</td>\n",
       "      <td>PoW</td>\n",
       "      <td>1.000000e+08</td>\n",
       "      <td>2100000000</td>\n",
       "      <td>Vollar</td>\n",
       "    </tr>\n",
       "    <tr>\n",
       "      <th>RCC</th>\n",
       "      <td>-0.175123</td>\n",
       "      <td>-1.914371</td>\n",
       "      <td>0.426023</td>\n",
       "      <td>1</td>\n",
       "      <td>Ethash</td>\n",
       "      <td>PoW</td>\n",
       "      <td>2.448794e+07</td>\n",
       "      <td>24487944</td>\n",
       "      <td>Reality Clash</td>\n",
       "    </tr>\n",
       "    <tr>\n",
       "      <th>TCH</th>\n",
       "      <td>-0.230441</td>\n",
       "      <td>0.785414</td>\n",
       "      <td>-0.137686</td>\n",
       "      <td>0</td>\n",
       "      <td>SHA-256</td>\n",
       "      <td>PoS</td>\n",
       "      <td>1.000000e+09</td>\n",
       "      <td>1000000000</td>\n",
       "      <td>TigerCash</td>\n",
       "    </tr>\n",
       "    <tr>\n",
       "      <th>WAVES</th>\n",
       "      <td>-0.384138</td>\n",
       "      <td>3.393068</td>\n",
       "      <td>13.270386</td>\n",
       "      <td>3</td>\n",
       "      <td>Leased POS</td>\n",
       "      <td>LPoS</td>\n",
       "      <td>1.000000e+08</td>\n",
       "      <td>100000000</td>\n",
       "      <td>Waves</td>\n",
       "    </tr>\n",
       "    <tr>\n",
       "      <th>PART</th>\n",
       "      <td>-0.325571</td>\n",
       "      <td>1.802795</td>\n",
       "      <td>-0.220270</td>\n",
       "      <td>0</td>\n",
       "      <td>PoS</td>\n",
       "      <td>PoS</td>\n",
       "      <td>9.283138e+06</td>\n",
       "      <td>8634140</td>\n",
       "      <td>Particl</td>\n",
       "    </tr>\n",
       "    <tr>\n",
       "      <th>BTT</th>\n",
       "      <td>33.422758</td>\n",
       "      <td>1.366987</td>\n",
       "      <td>-0.909411</td>\n",
       "      <td>2</td>\n",
       "      <td>TRC10</td>\n",
       "      <td>DPoS</td>\n",
       "      <td>9.899887e+11</td>\n",
       "      <td>990000000000</td>\n",
       "      <td>BitTorrent</td>\n",
       "    </tr>\n",
       "    <tr>\n",
       "      <th>NXT</th>\n",
       "      <td>-0.330141</td>\n",
       "      <td>2.020203</td>\n",
       "      <td>-0.146882</td>\n",
       "      <td>0</td>\n",
       "      <td>PoS</td>\n",
       "      <td>PoS/LPoS</td>\n",
       "      <td>1.000000e+09</td>\n",
       "      <td>1000000000</td>\n",
       "      <td>Nxt</td>\n",
       "    </tr>\n",
       "    <tr>\n",
       "      <th>ZEPH</th>\n",
       "      <td>2.876881</td>\n",
       "      <td>0.806545</td>\n",
       "      <td>-0.167668</td>\n",
       "      <td>0</td>\n",
       "      <td>SHA-256</td>\n",
       "      <td>DPoS</td>\n",
       "      <td>2.000000e+09</td>\n",
       "      <td>2000000000</td>\n",
       "      <td>ZEPHYR</td>\n",
       "    </tr>\n",
       "    <tr>\n",
       "      <th>GAP</th>\n",
       "      <td>-0.315273</td>\n",
       "      <td>0.965891</td>\n",
       "      <td>-0.607141</td>\n",
       "      <td>0</td>\n",
       "      <td>Scrypt</td>\n",
       "      <td>PoW/PoS</td>\n",
       "      <td>1.493105e+07</td>\n",
       "      <td>250000000</td>\n",
       "      <td>Gapcoin</td>\n",
       "    </tr>\n",
       "    <tr>\n",
       "      <th>BDX</th>\n",
       "      <td>0.271215</td>\n",
       "      <td>-2.231503</td>\n",
       "      <td>0.473134</td>\n",
       "      <td>1</td>\n",
       "      <td>CryptoNight</td>\n",
       "      <td>PoW</td>\n",
       "      <td>9.802226e+08</td>\n",
       "      <td>1400222610</td>\n",
       "      <td>Beldex</td>\n",
       "    </tr>\n",
       "    <tr>\n",
       "      <th>ZEN</th>\n",
       "      <td>-0.172243</td>\n",
       "      <td>-1.952853</td>\n",
       "      <td>0.448920</td>\n",
       "      <td>1</td>\n",
       "      <td>Equihash</td>\n",
       "      <td>PoW</td>\n",
       "      <td>7.296538e+06</td>\n",
       "      <td>21000000</td>\n",
       "      <td>Horizen</td>\n",
       "    </tr>\n",
       "    <tr>\n",
       "      <th>XBC</th>\n",
       "      <td>-0.276604</td>\n",
       "      <td>0.881215</td>\n",
       "      <td>-0.318475</td>\n",
       "      <td>0</td>\n",
       "      <td>Scrypt</td>\n",
       "      <td>PoS</td>\n",
       "      <td>1.283270e+05</td>\n",
       "      <td>1000000</td>\n",
       "      <td>BitcoinPlus</td>\n",
       "    </tr>\n",
       "  </tbody>\n",
       "</table>\n",
       "<p>497 rows × 9 columns</p>\n",
       "</div>"
      ],
      "text/plain": [
       "                0         1          2  class        Algorithm  \\\n",
       "42      -0.317149  0.966021  -0.607129      0           Scrypt   \n",
       "404     -0.300967  0.966071  -0.607450      0           Scrypt   \n",
       "1337     2.255810  1.612916  -0.703654      0              X13   \n",
       "BTC     -0.156609 -1.242977   0.204219      1          SHA-256   \n",
       "LTC     -0.183111 -1.147414   0.023095      1           Scrypt   \n",
       "DASH    -0.368419  1.209465  -0.564813      0              X11   \n",
       "ETC     -0.172805 -1.914442   0.425992      1           Ethash   \n",
       "ZEC     -0.172242 -1.952853   0.448920      1         Equihash   \n",
       "BTS     -0.252435  1.813580  -0.183012      0          SHA-512   \n",
       "DGB      0.145945 -1.886049   0.413689      1         Multiple   \n",
       "BTCD    -0.289517  0.870427  -0.426021      0          SHA-256   \n",
       "XPY     -0.248917  0.785630  -0.137369      0          SHA-256   \n",
       "PRC     -0.184221 -1.147398   0.023113      1           Scrypt   \n",
       "KOBO    -0.220920  1.883592  -0.729695      0              X15   \n",
       "SPR     -0.235690 -0.903943   0.065431      1              X11   \n",
       "ARG     -0.183852 -1.147420   0.023110      1           Scrypt   \n",
       "AUR     -0.316819  0.966018  -0.607135      0           Scrypt   \n",
       "XMY     -0.098864 -1.878920   0.417095      1         Multiple   \n",
       "MOON     2.423785 -1.354159   0.010948      1           Scrypt   \n",
       "ZET     -0.153784 -1.243008   0.204171      1          SHA-256   \n",
       "SXC     -0.181198 -1.147482   0.023070      1           Scrypt   \n",
       "QTL     -0.183665 -1.147440   0.023110      1           Scrypt   \n",
       "QRK     -0.232340 -0.366284   0.029318      1            Quark   \n",
       "RIC     -0.200392 -1.487677   0.254386      1          Groestl   \n",
       "DGC     -0.183706 -1.147404   0.023104      1           Scrypt   \n",
       "BTB     -0.317145  0.966021  -0.607129      0           Scrypt   \n",
       "CAT     -0.184203 -1.147398   0.023113      1           Scrypt   \n",
       "CBX     -0.317130  0.966021  -0.607129      0           Scrypt   \n",
       "CCN     -0.184287 -1.147395   0.023114      1           Scrypt   \n",
       "CRYPT   -0.235777 -0.903944   0.065433      1              X11   \n",
       "...           ...       ...        ...    ...              ...   \n",
       "CRW     -0.156406 -1.242986   0.204217      1          SHA-256   \n",
       "GEN     -0.316333  0.966032  -0.607147      0           Scrypt   \n",
       "SMLY     0.507572 -1.164869   0.012997      1           Scrypt   \n",
       "MI      -0.309616  0.965935  -0.607258      0           Scrypt   \n",
       "GRS     -0.199967 -1.487681   0.254379      1          Groestl   \n",
       "CPC     -0.364865  1.209426  -0.564875      0              X11   \n",
       "CLUB    -0.314828  0.965968  -0.607164      0           Scrypt   \n",
       "RADS    -0.325634  1.802793  -0.220268      0              PoS   \n",
       "BTA     -0.184338 -1.147390   0.023114      1           Scrypt   \n",
       "PAK     -0.182366 -1.147465   0.023090      1           Scrypt   \n",
       "CRB     -0.362611  0.730194  -0.257718      0              X11   \n",
       "OK      -0.288079  0.870406  -0.426044      0          SHA-256   \n",
       "LSK      4.178385  1.789154  -0.273681      0             DPoS   \n",
       "XHI     -0.089511  0.879018  -0.321677      0           Scrypt   \n",
       "XWC     -0.312110  0.965940  -0.607211      0           Scrypt   \n",
       "FSC     -0.328579  0.549352  -0.353660      0        NeoScrypt   \n",
       "J       -0.132499 -1.878383   0.417644      1         Multiple   \n",
       "TRI     -0.226795  1.772733  -0.685253      0              X13   \n",
       "VOLLAR  -0.152532 -2.122930   0.462945      1  Equihash+Scrypt   \n",
       "RCC     -0.175123 -1.914371   0.426023      1           Ethash   \n",
       "TCH     -0.230441  0.785414  -0.137686      0          SHA-256   \n",
       "WAVES   -0.384138  3.393068  13.270386      3       Leased POS   \n",
       "PART    -0.325571  1.802795  -0.220270      0              PoS   \n",
       "BTT     33.422758  1.366987  -0.909411      2            TRC10   \n",
       "NXT     -0.330141  2.020203  -0.146882      0              PoS   \n",
       "ZEPH     2.876881  0.806545  -0.167668      0          SHA-256   \n",
       "GAP     -0.315273  0.965891  -0.607141      0           Scrypt   \n",
       "BDX      0.271215 -2.231503   0.473134      1      CryptoNight   \n",
       "ZEN     -0.172243 -1.952853   0.448920      1         Equihash   \n",
       "XBC     -0.276604  0.881215  -0.318475      0           Scrypt   \n",
       "\n",
       "             ProofType  TotalCoinsMined TotalCoinSupply          CoinName  \n",
       "42             PoW/PoS     4.199995e+01              42           42 Coin  \n",
       "404            PoW/PoS     1.055185e+09       532000000           404Coin  \n",
       "1337           PoW/PoS     2.927942e+10    314159265359         EliteCoin  \n",
       "BTC                PoW     1.792718e+07        21000000           Bitcoin  \n",
       "LTC                PoW     6.303924e+07        84000000          Litecoin  \n",
       "DASH           PoW/PoS     9.031294e+06        22000000              Dash  \n",
       "ETC                PoW     1.133597e+08       210000000  Ethereum Classic  \n",
       "ZEC                PoW     7.383056e+06        21000000             ZCash  \n",
       "BTS                PoS     2.741570e+09      3600570502         Bitshares  \n",
       "DGB                PoW     1.140622e+10     21000000000          DigiByte  \n",
       "BTCD           PoW/PoS     1.288862e+06        22000000       BitcoinDark  \n",
       "XPY                PoS     1.199533e+07        12500000           PayCoin  \n",
       "PRC                PoW     5.768310e+06        21000000       ProsperCoin  \n",
       "KOBO           PoW/PoS     2.554254e+07       350000000          KoboCoin  \n",
       "SPR                PoW     1.114973e+07        20000000        Spreadcoin  \n",
       "ARG                PoW     1.220580e+07        64000000          Argentum  \n",
       "AUR            PoW/PoS     1.813510e+07        16768584       Aurora Coin  \n",
       "XMY                PoW     1.688254e+09      2000000000        MyriadCoin  \n",
       "MOON               PoW     8.800000e+01    384000000000          MoonCoin  \n",
       "ZET                PoW     1.702044e+08       169795588          ZetaCoin  \n",
       "SXC                PoW     1.289410e+08       250000000           SexCoin  \n",
       "QTL                PoW     7.357795e+06       100000000           Quatloo  \n",
       "QRK                PoW     2.595572e+08       247000000         QuarkCoin  \n",
       "RIC                PoW     4.954859e+07        84000000           Riecoin  \n",
       "DGC                PoW     3.344299e+07        48166000      Digitalcoin   \n",
       "BTB            PoW/PoS     4.257948e+04          500000            BitBar  \n",
       "CAT                PoW     7.219957e+06       21000000            Catcoin  \n",
       "CBX            PoW/PoS     1.039117e+06         1000000     CryptoBullion  \n",
       "CCN                PoW     4.703880e+06        13140000         CannaCoin  \n",
       "CRYPT              PoW     4.996986e+06        18000000         CryptCoin  \n",
       "...                ...              ...             ...               ...  \n",
       "CRW                PoW     2.298693e+07        42000000        Crown Coin  \n",
       "GEN            PoW/PoS     6.000000e+07        15000000          Genstake  \n",
       "SMLY               PoW     2.958399e+10     50000000000        SmileyCoin  \n",
       "MI             PoW/PoS     4.043165e+08       400000000        XiaoMiCoin  \n",
       "GRS                PoW     7.329820e+07       105000000       Groestlcoin  \n",
       "CPC            PoW/PoS     2.013643e+08       208000000         CapriCoin  \n",
       "CLUB           PoW/PoS     1.036219e+08       160000000          ClubCoin  \n",
       "RADS               PoS     3.821246e+06         9000000            Radium  \n",
       "BTA                PoW     5.052556e+06         5000000              Bata  \n",
       "PAK                PoW     6.968446e+07       182000000           Pakcoin  \n",
       "CRB     Proof of Trust     1.690102e+07        16504333        Creditbit   \n",
       "OK             PoW/PoS     7.467606e+07       105000000            OKCash  \n",
       "LSK               DPoS     1.200121e+08       159918400              Lisk  \n",
       "XHI                PoS     1.000024e+10     10008835635            HiCoin  \n",
       "XWC            PoW/PoS     2.520056e+08       300000000         WhiteCoin  \n",
       "FSC            PoW/PoS     1.120385e+06        60168145    FriendshipCoin  \n",
       "J                  PoW     3.332922e+06         2800000          JoinCoin  \n",
       "TRI            PoW/PoS     1.407778e+05          120000    Triangles Coin  \n",
       "VOLLAR             PoW     1.000000e+08      2100000000            Vollar  \n",
       "RCC                PoW     2.448794e+07        24487944     Reality Clash  \n",
       "TCH                PoS     1.000000e+09      1000000000         TigerCash  \n",
       "WAVES             LPoS     1.000000e+08       100000000             Waves  \n",
       "PART               PoS     9.283138e+06         8634140           Particl  \n",
       "BTT               DPoS     9.899887e+11    990000000000        BitTorrent  \n",
       "NXT           PoS/LPoS     1.000000e+09      1000000000               Nxt  \n",
       "ZEPH              DPoS     2.000000e+09      2000000000            ZEPHYR  \n",
       "GAP            PoW/PoS     1.493105e+07       250000000           Gapcoin  \n",
       "BDX                PoW     9.802226e+08      1400222610            Beldex  \n",
       "ZEN                PoW     7.296538e+06        21000000           Horizen  \n",
       "XBC                PoS     1.283270e+05         1000000       BitcoinPlus  \n",
       "\n",
       "[497 rows x 9 columns]"
      ]
     },
     "execution_count": 95,
     "metadata": {},
     "output_type": "execute_result"
    }
   ],
   "source": [
    "# Initialize the K-Means model\n",
    "model = KMeans(n_clusters=4, random_state=0)\n",
    "\n",
    "# Fit the model\n",
    "model.fit(crypto_pca)\n",
    "\n",
    "# Predict clusters\n",
    "predictions = model.predict(crypto_pca)\n",
    "\n",
    "# Create a new DataFrame including predicted clusters and cryptocurrencies features\n",
    "crypto_pca[\"class\"] = model.labels_\n",
    "clustered_df = pd.concat([crypto_pca, crypto_df, CoinName], axis = 1, join = 'outer')\n",
    "clustered_df"
   ]
  },
  {
   "cell_type": "markdown",
   "metadata": {},
   "source": [
    "### Visualizing Results\n",
    "\n",
    "#### 3D-Scatter with Clusters"
   ]
  },
  {
   "cell_type": "code",
   "execution_count": 96,
   "metadata": {},
   "outputs": [
    {
     "data": {
      "application/vnd.plotly.v1+json": {
       "config": {
        "plotlyServerURL": "https://plot.ly"
       },
       "data": [
        {
         "hovertemplate": "CoinName=42 Coin<br>Algorithm=Scrypt<br>0=%{x}<br>1=%{y}<br>2=%{z}<extra></extra>",
         "legendgroup": "42 Coin, Scrypt",
         "marker": {
          "color": "#636efa",
          "symbol": "circle"
         },
         "mode": "markers",
         "name": "42 Coin, Scrypt",
         "scene": "scene",
         "showlegend": true,
         "type": "scatter3d",
         "x": [
          -0.3171492143304829
         ],
         "y": [
          0.9660209118980823
         ],
         "z": [
          -0.6071291346845705
         ]
        },
        {
         "hovertemplate": "CoinName=404Coin<br>Algorithm=Scrypt<br>0=%{x}<br>1=%{y}<br>2=%{z}<extra></extra>",
         "legendgroup": "404Coin, Scrypt",
         "marker": {
          "color": "#EF553B",
          "symbol": "circle"
         },
         "mode": "markers",
         "name": "404Coin, Scrypt",
         "scene": "scene",
         "showlegend": true,
         "type": "scatter3d",
         "x": [
          -0.30096680262237846
         ],
         "y": [
          0.9660712740318786
         ],
         "z": [
          -0.6074503918503837
         ]
        },
        {
         "hovertemplate": "CoinName=EliteCoin<br>Algorithm=X13<br>0=%{x}<br>1=%{y}<br>2=%{z}<extra></extra>",
         "legendgroup": "EliteCoin, X13",
         "marker": {
          "color": "#00cc96",
          "symbol": "diamond"
         },
         "mode": "markers",
         "name": "EliteCoin, X13",
         "scene": "scene",
         "showlegend": true,
         "type": "scatter3d",
         "x": [
          2.25581013205786
         ],
         "y": [
          1.6129160574045958
         ],
         "z": [
          -0.7036543886897965
         ]
        },
        {
         "hovertemplate": "CoinName=Bitcoin<br>Algorithm=SHA-256<br>0=%{x}<br>1=%{y}<br>2=%{z}<extra></extra>",
         "legendgroup": "Bitcoin, SHA-256",
         "marker": {
          "color": "#ab63fa",
          "symbol": "square"
         },
         "mode": "markers",
         "name": "Bitcoin, SHA-256",
         "scene": "scene",
         "showlegend": true,
         "type": "scatter3d",
         "x": [
          -0.15660856516909066
         ],
         "y": [
          -1.2429767131098177
         ],
         "z": [
          0.20421942262761547
         ]
        },
        {
         "hovertemplate": "CoinName=Litecoin<br>Algorithm=Scrypt<br>0=%{x}<br>1=%{y}<br>2=%{z}<extra></extra>",
         "legendgroup": "Litecoin, Scrypt",
         "marker": {
          "color": "#FFA15A",
          "symbol": "circle"
         },
         "mode": "markers",
         "name": "Litecoin, Scrypt",
         "scene": "scene",
         "showlegend": true,
         "type": "scatter3d",
         "x": [
          -0.18311053108582112
         ],
         "y": [
          -1.147414109453003
         ],
         "z": [
          0.023094723216862394
         ]
        },
        {
         "hovertemplate": "CoinName=Dash<br>Algorithm=X11<br>0=%{x}<br>1=%{y}<br>2=%{z}<extra></extra>",
         "legendgroup": "Dash, X11",
         "marker": {
          "color": "#19d3f3",
          "symbol": "x"
         },
         "mode": "markers",
         "name": "Dash, X11",
         "scene": "scene",
         "showlegend": true,
         "type": "scatter3d",
         "x": [
          -0.3684193536134989
         ],
         "y": [
          1.209464751739527
         ],
         "z": [
          -0.5648132430843875
         ]
        },
        {
         "hovertemplate": "CoinName=Ethereum Classic<br>Algorithm=Ethash<br>0=%{x}<br>1=%{y}<br>2=%{z}<extra></extra>",
         "legendgroup": "Ethereum Classic, Ethash",
         "marker": {
          "color": "#FF6692",
          "symbol": "cross"
         },
         "mode": "markers",
         "name": "Ethereum Classic, Ethash",
         "scene": "scene",
         "showlegend": true,
         "type": "scatter3d",
         "x": [
          -0.1728047871093127
         ],
         "y": [
          -1.914442311950901
         ],
         "z": [
          0.4259915087886051
         ]
        },
        {
         "hovertemplate": "CoinName=ZCash<br>Algorithm=Equihash<br>0=%{x}<br>1=%{y}<br>2=%{z}<extra></extra>",
         "legendgroup": "ZCash, Equihash",
         "marker": {
          "color": "#B6E880",
          "symbol": "circle"
         },
         "mode": "markers",
         "name": "ZCash, Equihash",
         "scene": "scene",
         "showlegend": true,
         "type": "scatter3d",
         "x": [
          -0.1722424612057986
         ],
         "y": [
          -1.952852913625633
         ],
         "z": [
          0.4489195069935002
         ]
        },
        {
         "hovertemplate": "CoinName=Bitshares<br>Algorithm=SHA-512<br>0=%{x}<br>1=%{y}<br>2=%{z}<extra></extra>",
         "legendgroup": "Bitshares, SHA-512",
         "marker": {
          "color": "#FF97FF",
          "symbol": "diamond"
         },
         "mode": "markers",
         "name": "Bitshares, SHA-512",
         "scene": "scene",
         "showlegend": true,
         "type": "scatter3d",
         "x": [
          -0.25243485689863565
         ],
         "y": [
          1.813579759415864
         ],
         "z": [
          -0.18301225935984433
         ]
        },
        {
         "hovertemplate": "CoinName=DigiByte<br>Algorithm=Multiple<br>0=%{x}<br>1=%{y}<br>2=%{z}<extra></extra>",
         "legendgroup": "DigiByte, Multiple",
         "marker": {
          "color": "#FECB52",
          "symbol": "square"
         },
         "mode": "markers",
         "name": "DigiByte, Multiple",
         "scene": "scene",
         "showlegend": true,
         "type": "scatter3d",
         "x": [
          0.14594513508476284
         ],
         "y": [
          -1.886049134945738
         ],
         "z": [
          0.41368907871875665
         ]
        },
        {
         "hovertemplate": "CoinName=BitcoinDark<br>Algorithm=SHA-256<br>0=%{x}<br>1=%{y}<br>2=%{z}<extra></extra>",
         "legendgroup": "BitcoinDark, SHA-256",
         "marker": {
          "color": "#636efa",
          "symbol": "square"
         },
         "mode": "markers",
         "name": "BitcoinDark, SHA-256",
         "scene": "scene",
         "showlegend": true,
         "type": "scatter3d",
         "x": [
          -0.28951719994299396
         ],
         "y": [
          0.8704273505279243
         ],
         "z": [
          -0.4260205143840675
         ]
        },
        {
         "hovertemplate": "CoinName=PayCoin<br>Algorithm=SHA-256<br>0=%{x}<br>1=%{y}<br>2=%{z}<extra></extra>",
         "legendgroup": "PayCoin, SHA-256",
         "marker": {
          "color": "#EF553B",
          "symbol": "square"
         },
         "mode": "markers",
         "name": "PayCoin, SHA-256",
         "scene": "scene",
         "showlegend": true,
         "type": "scatter3d",
         "x": [
          -0.24891742157097657
         ],
         "y": [
          0.7856302377850256
         ],
         "z": [
          -0.13736948769707996
         ]
        },
        {
         "hovertemplate": "CoinName=ProsperCoin<br>Algorithm=Scrypt<br>0=%{x}<br>1=%{y}<br>2=%{z}<extra></extra>",
         "legendgroup": "ProsperCoin, Scrypt",
         "marker": {
          "color": "#00cc96",
          "symbol": "circle"
         },
         "mode": "markers",
         "name": "ProsperCoin, Scrypt",
         "scene": "scene",
         "showlegend": true,
         "type": "scatter3d",
         "x": [
          -0.18422063040732026
         ],
         "y": [
          -1.1473984677000408
         ],
         "z": [
          0.023113241008879036
         ]
        },
        {
         "hovertemplate": "CoinName=KoboCoin<br>Algorithm=X15<br>0=%{x}<br>1=%{y}<br>2=%{z}<extra></extra>",
         "legendgroup": "KoboCoin, X15",
         "marker": {
          "color": "#ab63fa",
          "symbol": "x"
         },
         "mode": "markers",
         "name": "KoboCoin, X15",
         "scene": "scene",
         "showlegend": true,
         "type": "scatter3d",
         "x": [
          -0.22092014500560306
         ],
         "y": [
          1.8835918106094545
         ],
         "z": [
          -0.7296946216799783
         ]
        },
        {
         "hovertemplate": "CoinName=Spreadcoin<br>Algorithm=X11<br>0=%{x}<br>1=%{y}<br>2=%{z}<extra></extra>",
         "legendgroup": "Spreadcoin, X11",
         "marker": {
          "color": "#FFA15A",
          "symbol": "x"
         },
         "mode": "markers",
         "name": "Spreadcoin, X11",
         "scene": "scene",
         "showlegend": true,
         "type": "scatter3d",
         "x": [
          -0.23569046605715002
         ],
         "y": [
          -0.9039434083041858
         ],
         "z": [
          0.0654309143077383
         ]
        },
        {
         "hovertemplate": "CoinName=Argentum<br>Algorithm=Scrypt<br>0=%{x}<br>1=%{y}<br>2=%{z}<extra></extra>",
         "legendgroup": "Argentum, Scrypt",
         "marker": {
          "color": "#19d3f3",
          "symbol": "circle"
         },
         "mode": "markers",
         "name": "Argentum, Scrypt",
         "scene": "scene",
         "showlegend": true,
         "type": "scatter3d",
         "x": [
          -0.1838518836432412
         ],
         "y": [
          -1.1474195666795883
         ],
         "z": [
          0.02311002138860331
         ]
        },
        {
         "hovertemplate": "CoinName=Aurora Coin<br>Algorithm=Scrypt<br>0=%{x}<br>1=%{y}<br>2=%{z}<extra></extra>",
         "legendgroup": "Aurora Coin, Scrypt",
         "marker": {
          "color": "#FF6692",
          "symbol": "circle"
         },
         "mode": "markers",
         "name": "Aurora Coin, Scrypt",
         "scene": "scene",
         "showlegend": true,
         "type": "scatter3d",
         "x": [
          -0.31681930086560733
         ],
         "y": [
          0.9660176715361682
         ],
         "z": [
          -0.607134897628914
         ]
        },
        {
         "hovertemplate": "CoinName=MyriadCoin<br>Algorithm=Multiple<br>0=%{x}<br>1=%{y}<br>2=%{z}<extra></extra>",
         "legendgroup": "MyriadCoin, Multiple",
         "marker": {
          "color": "#B6E880",
          "symbol": "square"
         },
         "mode": "markers",
         "name": "MyriadCoin, Multiple",
         "scene": "scene",
         "showlegend": true,
         "type": "scatter3d",
         "x": [
          -0.09886382878389668
         ],
         "y": [
          -1.8789204085381774
         ],
         "z": [
          0.41709456759698793
         ]
        },
        {
         "hovertemplate": "CoinName=MoonCoin<br>Algorithm=Scrypt<br>0=%{x}<br>1=%{y}<br>2=%{z}<extra></extra>",
         "legendgroup": "MoonCoin, Scrypt",
         "marker": {
          "color": "#FF97FF",
          "symbol": "circle"
         },
         "mode": "markers",
         "name": "MoonCoin, Scrypt",
         "scene": "scene",
         "showlegend": true,
         "type": "scatter3d",
         "x": [
          2.423785193518309
         ],
         "y": [
          -1.3541585360417066
         ],
         "z": [
          0.010947822812359998
         ]
        },
        {
         "hovertemplate": "CoinName=ZetaCoin<br>Algorithm=SHA-256<br>0=%{x}<br>1=%{y}<br>2=%{z}<extra></extra>",
         "legendgroup": "ZetaCoin, SHA-256",
         "marker": {
          "color": "#FECB52",
          "symbol": "square"
         },
         "mode": "markers",
         "name": "ZetaCoin, SHA-256",
         "scene": "scene",
         "showlegend": true,
         "type": "scatter3d",
         "x": [
          -0.1537840450657708
         ],
         "y": [
          -1.2430082257339148
         ],
         "z": [
          0.2041707788287615
         ]
        },
        {
         "hovertemplate": "CoinName=SexCoin<br>Algorithm=Scrypt<br>0=%{x}<br>1=%{y}<br>2=%{z}<extra></extra>",
         "legendgroup": "SexCoin, Scrypt",
         "marker": {
          "color": "#636efa",
          "symbol": "circle"
         },
         "mode": "markers",
         "name": "SexCoin, Scrypt",
         "scene": "scene",
         "showlegend": true,
         "type": "scatter3d",
         "x": [
          -0.18119802547529182
         ],
         "y": [
          -1.147482457808592
         ],
         "z": [
          0.023070451873871706
         ]
        },
        {
         "hovertemplate": "CoinName=Quatloo<br>Algorithm=Scrypt<br>0=%{x}<br>1=%{y}<br>2=%{z}<extra></extra>",
         "legendgroup": "Quatloo, Scrypt",
         "marker": {
          "color": "#EF553B",
          "symbol": "circle"
         },
         "mode": "markers",
         "name": "Quatloo, Scrypt",
         "scene": "scene",
         "showlegend": true,
         "type": "scatter3d",
         "x": [
          -0.1836651107487383
         ],
         "y": [
          -1.1474404988469242
         ],
         "z": [
          0.023110279213666454
         ]
        },
        {
         "hovertemplate": "CoinName=QuarkCoin<br>Algorithm=Quark<br>0=%{x}<br>1=%{y}<br>2=%{z}<extra></extra>",
         "legendgroup": "QuarkCoin, Quark",
         "marker": {
          "color": "#00cc96",
          "symbol": "cross"
         },
         "mode": "markers",
         "name": "QuarkCoin, Quark",
         "scene": "scene",
         "showlegend": true,
         "type": "scatter3d",
         "x": [
          -0.23233971609148693
         ],
         "y": [
          -0.3662842758722725
         ],
         "z": [
          0.02931845490523293
         ]
        },
        {
         "hovertemplate": "CoinName=Riecoin<br>Algorithm=Groestl<br>0=%{x}<br>1=%{y}<br>2=%{z}<extra></extra>",
         "legendgroup": "Riecoin, Groestl",
         "marker": {
          "color": "#ab63fa",
          "symbol": "circle"
         },
         "mode": "markers",
         "name": "Riecoin, Groestl",
         "scene": "scene",
         "showlegend": true,
         "type": "scatter3d",
         "x": [
          -0.2003920537931298
         ],
         "y": [
          -1.487677086395854
         ],
         "z": [
          0.25438631895583347
         ]
        },
        {
         "hovertemplate": "CoinName=Digitalcoin <br>Algorithm=Scrypt<br>0=%{x}<br>1=%{y}<br>2=%{z}<extra></extra>",
         "legendgroup": "Digitalcoin , Scrypt",
         "marker": {
          "color": "#FFA15A",
          "symbol": "circle"
         },
         "mode": "markers",
         "name": "Digitalcoin , Scrypt",
         "scene": "scene",
         "showlegend": true,
         "type": "scatter3d",
         "x": [
          -0.18370646281104133
         ],
         "y": [
          -1.147404261572665
         ],
         "z": [
          0.023104396611893493
         ]
        },
        {
         "hovertemplate": "CoinName=BitBar<br>Algorithm=Scrypt<br>0=%{x}<br>1=%{y}<br>2=%{z}<extra></extra>",
         "legendgroup": "BitBar, Scrypt",
         "marker": {
          "color": "#19d3f3",
          "symbol": "circle"
         },
         "mode": "markers",
         "name": "BitBar, Scrypt",
         "scene": "scene",
         "showlegend": true,
         "type": "scatter3d",
         "x": [
          -0.31714531181005406
         ],
         "y": [
          0.9660206562678595
         ],
         "z": [
          -0.6071291627978728
         ]
        },
        {
         "hovertemplate": "CoinName=Catcoin<br>Algorithm=Scrypt<br>0=%{x}<br>1=%{y}<br>2=%{z}<extra></extra>",
         "legendgroup": "Catcoin, Scrypt",
         "marker": {
          "color": "#FF6692",
          "symbol": "circle"
         },
         "mode": "markers",
         "name": "Catcoin, Scrypt",
         "scene": "scene",
         "showlegend": true,
         "type": "scatter3d",
         "x": [
          -0.18420333896696908
         ],
         "y": [
          -1.1473980043219623
         ],
         "z": [
          0.02311282223780177
         ]
        },
        {
         "hovertemplate": "CoinName=CryptoBullion<br>Algorithm=Scrypt<br>0=%{x}<br>1=%{y}<br>2=%{z}<extra></extra>",
         "legendgroup": "CryptoBullion, Scrypt",
         "marker": {
          "color": "#B6E880",
          "symbol": "circle"
         },
         "mode": "markers",
         "name": "CryptoBullion, Scrypt",
         "scene": "scene",
         "showlegend": true,
         "type": "scatter3d",
         "x": [
          -0.31713004533751116
         ],
         "y": [
          0.9660207051399213
         ],
         "z": [
          -0.6071294661223754
         ]
        },
        {
         "hovertemplate": "CoinName=CannaCoin<br>Algorithm=Scrypt<br>0=%{x}<br>1=%{y}<br>2=%{z}<extra></extra>",
         "legendgroup": "CannaCoin, Scrypt",
         "marker": {
          "color": "#FF97FF",
          "symbol": "circle"
         },
         "mode": "markers",
         "name": "CannaCoin, Scrypt",
         "scene": "scene",
         "showlegend": true,
         "type": "scatter3d",
         "x": [
          -0.18428669642715356
         ],
         "y": [
          -1.147394575161478
         ],
         "z": [
          0.02311379713440742
         ]
        },
        {
         "hovertemplate": "CoinName=CryptCoin<br>Algorithm=X11<br>0=%{x}<br>1=%{y}<br>2=%{z}<extra></extra>",
         "legendgroup": "CryptCoin, X11",
         "marker": {
          "color": "#FECB52",
          "symbol": "x"
         },
         "mode": "markers",
         "name": "CryptCoin, X11",
         "scene": "scene",
         "showlegend": true,
         "type": "scatter3d",
         "x": [
          -0.23577733961828062
         ],
         "y": [
          -0.903944295389469
         ],
         "z": [
          0.06543275262633029
         ]
        },
        {
         "hovertemplate": "CoinName=CasinoCoin<br>Algorithm=Scrypt<br>0=%{x}<br>1=%{y}<br>2=%{z}<extra></extra>",
         "legendgroup": "CasinoCoin, Scrypt",
         "marker": {
          "color": "#636efa",
          "symbol": "circle"
         },
         "mode": "markers",
         "name": "CasinoCoin, Scrypt",
         "scene": "scene",
         "showlegend": true,
         "type": "scatter3d",
         "x": [
          0.6329103674402146
         ],
         "y": [
          0.3819755193814378
         ],
         "z": [
          -0.3258670597612821
         ]
        },
        {
         "hovertemplate": "CoinName=Diamond<br>Algorithm=Groestl<br>0=%{x}<br>1=%{y}<br>2=%{z}<extra></extra>",
         "legendgroup": "Diamond, Groestl",
         "marker": {
          "color": "#EF553B",
          "symbol": "circle"
         },
         "mode": "markers",
         "name": "Diamond, Groestl",
         "scene": "scene",
         "showlegend": true,
         "type": "scatter3d",
         "x": [
          -0.3342009307150146
         ],
         "y": [
          0.6257609376542688
         ],
         "z": [
          -0.3758425227848247
         ]
        },
        {
         "hovertemplate": "CoinName=Verge<br>Algorithm=Multiple<br>0=%{x}<br>1=%{y}<br>2=%{z}<extra></extra>",
         "legendgroup": "Verge, Multiple",
         "marker": {
          "color": "#00cc96",
          "symbol": "square"
         },
         "mode": "markers",
         "name": "Verge, Multiple",
         "scene": "scene",
         "showlegend": true,
         "type": "scatter3d",
         "x": [
          0.16963355969269683
         ],
         "y": [
          -1.882211789995393
         ],
         "z": [
          0.4125250416610013
         ]
        },
        {
         "hovertemplate": "CoinName=DevCoin<br>Algorithm=SHA-256<br>0=%{x}<br>1=%{y}<br>2=%{z}<extra></extra>",
         "legendgroup": "DevCoin, SHA-256",
         "marker": {
          "color": "#ab63fa",
          "symbol": "square"
         },
         "mode": "markers",
         "name": "DevCoin, SHA-256",
         "scene": "scene",
         "showlegend": true,
         "type": "scatter3d",
         "x": [
          0.20929889366270124
         ],
         "y": [
          -1.2482860602706718
         ],
         "z": [
          0.19814395289060505
         ]
        },
        {
         "hovertemplate": "CoinName=EarthCoin<br>Algorithm=Scrypt<br>0=%{x}<br>1=%{y}<br>2=%{z}<extra></extra>",
         "legendgroup": "EarthCoin, Scrypt",
         "marker": {
          "color": "#FFA15A",
          "symbol": "circle"
         },
         "mode": "markers",
         "name": "EarthCoin, Scrypt",
         "scene": "scene",
         "showlegend": true,
         "type": "scatter3d",
         "x": [
          0.05662294426490378
         ],
         "y": [
          -1.1506556813910105
         ],
         "z": [
          0.01907054254018797
         ]
        },
        {
         "hovertemplate": "CoinName=E-Gulden<br>Algorithm=Scrypt<br>0=%{x}<br>1=%{y}<br>2=%{z}<extra></extra>",
         "legendgroup": "E-Gulden, Scrypt",
         "marker": {
          "color": "#19d3f3",
          "symbol": "circle"
         },
         "mode": "markers",
         "name": "E-Gulden, Scrypt",
         "scene": "scene",
         "showlegend": true,
         "type": "scatter3d",
         "x": [
          -0.18404026288511485
         ],
         "y": [
          -1.1473936341896942
         ],
         "z": [
          0.02310887279547096
         ]
        },
        {
         "hovertemplate": "CoinName=Einsteinium<br>Algorithm=Scrypt<br>0=%{x}<br>1=%{y}<br>2=%{z}<extra></extra>",
         "legendgroup": "Einsteinium, Scrypt",
         "marker": {
          "color": "#FF6692",
          "symbol": "circle"
         },
         "mode": "markers",
         "name": "Einsteinium, Scrypt",
         "scene": "scene",
         "showlegend": true,
         "type": "scatter3d",
         "x": [
          -0.17978860170828337
         ],
         "y": [
          -1.1474805624413469
         ],
         "z": [
          0.023042930825708886
         ]
        },
        {
         "hovertemplate": "CoinName=Emerald<br>Algorithm=Scrypt<br>0=%{x}<br>1=%{y}<br>2=%{z}<extra></extra>",
         "legendgroup": "Emerald, Scrypt",
         "marker": {
          "color": "#B6E880",
          "symbol": "circle"
         },
         "mode": "markers",
         "name": "Emerald, Scrypt",
         "scene": "scene",
         "showlegend": true,
         "type": "scatter3d",
         "x": [
          -0.18398238767631214
         ],
         "y": [
          -1.1474000085381129
         ],
         "z": [
          0.023108932062262943
         ]
        },
        {
         "hovertemplate": "CoinName=Franko<br>Algorithm=Scrypt<br>0=%{x}<br>1=%{y}<br>2=%{z}<extra></extra>",
         "legendgroup": "Franko, Scrypt",
         "marker": {
          "color": "#FF97FF",
          "symbol": "circle"
         },
         "mode": "markers",
         "name": "Franko, Scrypt",
         "scene": "scene",
         "showlegend": true,
         "type": "scatter3d",
         "x": [
          -0.18434204908554647
         ],
         "y": [
          -1.1473946865773395
         ],
         "z": [
          0.023114884792004423
         ]
        },
        {
         "hovertemplate": "CoinName=FeatherCoin<br>Algorithm=NeoScrypt<br>0=%{x}<br>1=%{y}<br>2=%{z}<extra></extra>",
         "legendgroup": "FeatherCoin, NeoScrypt",
         "marker": {
          "color": "#FECB52",
          "symbol": "diamond"
         },
         "mode": "markers",
         "name": "FeatherCoin, NeoScrypt",
         "scene": "scene",
         "showlegend": true,
         "type": "scatter3d",
         "x": [
          -0.1915157530513945
         ],
         "y": [
          -1.564140609799845
         ],
         "z": [
          0.27651578404815674
         ]
        },
        {
         "hovertemplate": "CoinName=GrandCoin<br>Algorithm=Scrypt<br>0=%{x}<br>1=%{y}<br>2=%{z}<extra></extra>",
         "legendgroup": "GrandCoin, Scrypt",
         "marker": {
          "color": "#636efa",
          "symbol": "circle"
         },
         "mode": "markers",
         "name": "GrandCoin, Scrypt",
         "scene": "scene",
         "showlegend": true,
         "type": "scatter3d",
         "x": [
          -0.16425151007339164
         ],
         "y": [
          -1.147871725498025
         ],
         "z": [
          0.022815503197837202
         ]
        },
        {
         "hovertemplate": "CoinName=GlobalCoin<br>Algorithm=Scrypt<br>0=%{x}<br>1=%{y}<br>2=%{z}<extra></extra>",
         "legendgroup": "GlobalCoin, Scrypt",
         "marker": {
          "color": "#EF553B",
          "symbol": "circle"
         },
         "mode": "markers",
         "name": "GlobalCoin, Scrypt",
         "scene": "scene",
         "showlegend": true,
         "type": "scatter3d",
         "x": [
          -0.1831742533989514
         ],
         "y": [
          -1.1474057303518488
         ],
         "z": [
          0.023094407127072204
         ]
        },
        {
         "hovertemplate": "CoinName=GoldCoin<br>Algorithm=Scrypt<br>0=%{x}<br>1=%{y}<br>2=%{z}<extra></extra>",
         "legendgroup": "GoldCoin, Scrypt",
         "marker": {
          "color": "#00cc96",
          "symbol": "circle"
         },
         "mode": "markers",
         "name": "GoldCoin, Scrypt",
         "scene": "scene",
         "showlegend": true,
         "type": "scatter3d",
         "x": [
          -0.18344504621061625
         ],
         "y": [
          -1.1474146050749037
         ],
         "z": [
          0.023101263548428005
         ]
        },
        {
         "hovertemplate": "CoinName=HoboNickels<br>Algorithm=Scrypt<br>0=%{x}<br>1=%{y}<br>2=%{z}<extra></extra>",
         "legendgroup": "HoboNickels, Scrypt",
         "marker": {
          "color": "#ab63fa",
          "symbol": "circle"
         },
         "mode": "markers",
         "name": "HoboNickels, Scrypt",
         "scene": "scene",
         "showlegend": true,
         "type": "scatter3d",
         "x": [
          -0.3152708348644768
         ],
         "y": [
          0.9659847911996613
         ],
         "z": [
          -0.6071586888205368
         ]
        },
        {
         "hovertemplate": "CoinName=Infinite Coin<br>Algorithm=Scrypt<br>0=%{x}<br>1=%{y}<br>2=%{z}<extra></extra>",
         "legendgroup": "Infinite Coin, Scrypt",
         "marker": {
          "color": "#FFA15A",
          "symbol": "circle"
         },
         "mode": "markers",
         "name": "Infinite Coin, Scrypt",
         "scene": "scene",
         "showlegend": true,
         "type": "scatter3d",
         "x": [
          1.5100850174224196
         ],
         "y": [
          -1.1672547458629607
         ],
         "z": [
          -0.005890323606624758
         ]
        },
        {
         "hovertemplate": "CoinName=IOCoin<br>Algorithm=X11<br>0=%{x}<br>1=%{y}<br>2=%{z}<extra></extra>",
         "legendgroup": "IOCoin, X11",
         "marker": {
          "color": "#19d3f3",
          "symbol": "x"
         },
         "mode": "markers",
         "name": "IOCoin, X11",
         "scene": "scene",
         "showlegend": true,
         "type": "scatter3d",
         "x": [
          -0.36831668011611085
         ],
         "y": [
          1.2094675031961422
         ],
         "z": [
          -0.5648157296725625
         ]
        },
        {
         "hovertemplate": "CoinName=IXcoin<br>Algorithm=SHA-256<br>0=%{x}<br>1=%{y}<br>2=%{z}<extra></extra>",
         "legendgroup": "IXcoin, SHA-256",
         "marker": {
          "color": "#FF6692",
          "symbol": "square"
         },
         "mode": "markers",
         "name": "IXcoin, SHA-256",
         "scene": "scene",
         "showlegend": true,
         "type": "scatter3d",
         "x": [
          -0.15657089860386594
         ],
         "y": [
          -1.2429757037167173
         ],
         "z": [
          0.2042185104035457
         ]
        },
        {
         "hovertemplate": "CoinName=KrugerCoin<br>Algorithm=Scrypt<br>0=%{x}<br>1=%{y}<br>2=%{z}<extra></extra>",
         "legendgroup": "KrugerCoin, Scrypt",
         "marker": {
          "color": "#B6E880",
          "symbol": "circle"
         },
         "mode": "markers",
         "name": "KrugerCoin, Scrypt",
         "scene": "scene",
         "showlegend": true,
         "type": "scatter3d",
         "x": [
          -0.18082519293404123
         ],
         "y": [
          -1.1474835769969742
         ],
         "z": [
          0.023063470504171006
         ]
        },
        {
         "hovertemplate": "CoinName=LuckyCoin<br>Algorithm=Scrypt<br>0=%{x}<br>1=%{y}<br>2=%{z}<extra></extra>",
         "legendgroup": "LuckyCoin, Scrypt",
         "marker": {
          "color": "#FF97FF",
          "symbol": "circle"
         },
         "mode": "markers",
         "name": "LuckyCoin, Scrypt",
         "scene": "scene",
         "showlegend": true,
         "type": "scatter3d",
         "x": [
          -0.1840659250002855
         ],
         "y": [
          -1.1473936014047377
         ],
         "z": [
          0.023109361480751375
         ]
        },
        {
         "hovertemplate": "CoinName=Litebar <br>Algorithm=Scrypt<br>0=%{x}<br>1=%{y}<br>2=%{z}<extra></extra>",
         "legendgroup": "Litebar , Scrypt",
         "marker": {
          "color": "#FECB52",
          "symbol": "circle"
         },
         "mode": "markers",
         "name": "Litebar , Scrypt",
         "scene": "scene",
         "showlegend": true,
         "type": "scatter3d",
         "x": [
          -0.18440965308475915
         ],
         "y": [
          -1.147389375693188
         ],
         "z": [
          0.023115209116354302
         ]
        },
        {
         "hovertemplate": "CoinName=MaxCoin<br>Algorithm=SHA3<br>0=%{x}<br>1=%{y}<br>2=%{z}<extra></extra>",
         "legendgroup": "MaxCoin, SHA3",
         "marker": {
          "color": "#636efa",
          "symbol": "square"
         },
         "mode": "markers",
         "name": "MaxCoin, SHA3",
         "scene": "scene",
         "showlegend": true,
         "type": "scatter3d",
         "x": [
          -0.38291558166147666
         ],
         "y": [
          2.0177478769681993
         ],
         "z": [
          -0.7183481724369706
         ]
        },
        {
         "hovertemplate": "CoinName=MegaCoin<br>Algorithm=Scrypt<br>0=%{x}<br>1=%{y}<br>2=%{z}<extra></extra>",
         "legendgroup": "MegaCoin, Scrypt",
         "marker": {
          "color": "#EF553B",
          "symbol": "circle"
         },
         "mode": "markers",
         "name": "MegaCoin, Scrypt",
         "scene": "scene",
         "showlegend": true,
         "type": "scatter3d",
         "x": [
          -0.18369225183172294
         ],
         "y": [
          -1.1473994382569692
         ],
         "z": [
          0.023103233537113303
         ]
        },
        {
         "hovertemplate": "CoinName=MediterraneanCoin<br>Algorithm=HybridScryptHash256<br>0=%{x}<br>1=%{y}<br>2=%{z}<extra></extra>",
         "legendgroup": "MediterraneanCoin, HybridScryptHash256",
         "marker": {
          "color": "#00cc96",
          "symbol": "x"
         },
         "mode": "markers",
         "name": "MediterraneanCoin, HybridScryptHash256",
         "scene": "scene",
         "showlegend": true,
         "type": "scatter3d",
         "x": [
          -0.1737953762295482
         ],
         "y": [
          -2.1210194179723905
         ],
         "z": [
          0.46309949985286464
         ]
        },
        {
         "hovertemplate": "CoinName=MinCoin<br>Algorithm=Scrypt<br>0=%{x}<br>1=%{y}<br>2=%{z}<extra></extra>",
         "legendgroup": "MinCoin, Scrypt",
         "marker": {
          "color": "#ab63fa",
          "symbol": "circle"
         },
         "mode": "markers",
         "name": "MinCoin, Scrypt",
         "scene": "scene",
         "showlegend": true,
         "type": "scatter3d",
         "x": [
          -0.1842949173959573
         ],
         "y": [
          -1.1473925331564525
         ],
         "z": [
          0.023113579209191853
         ]
        },
        {
         "hovertemplate": "CoinName=MazaCoin<br>Algorithm=SHA-256<br>0=%{x}<br>1=%{y}<br>2=%{z}<extra></extra>",
         "legendgroup": "MazaCoin, SHA-256",
         "marker": {
          "color": "#FFA15A",
          "symbol": "square"
         },
         "mode": "markers",
         "name": "MazaCoin, SHA-256",
         "scene": "scene",
         "showlegend": true,
         "type": "scatter3d",
         "x": [
          -0.25402683636058543
         ],
         "y": [
          0.8696512875593849
         ],
         "z": [
          -0.42656166176946286
         ]
        },
        {
         "hovertemplate": "CoinName=Nautilus Coin<br>Algorithm=Scrypt<br>0=%{x}<br>1=%{y}<br>2=%{z}<extra></extra>",
         "legendgroup": "Nautilus Coin, Scrypt",
         "marker": {
          "color": "#19d3f3",
          "symbol": "circle"
         },
         "mode": "markers",
         "name": "Nautilus Coin, Scrypt",
         "scene": "scene",
         "showlegend": true,
         "type": "scatter3d",
         "x": [
          -0.2763098137319927
         ],
         "y": [
          0.8812117186486216
         ],
         "z": [
          -0.31848050070555955
         ]
        },
        {
         "hovertemplate": "CoinName=NobleCoin<br>Algorithm=Scrypt<br>0=%{x}<br>1=%{y}<br>2=%{z}<extra></extra>",
         "legendgroup": "NobleCoin, Scrypt",
         "marker": {
          "color": "#FF6692",
          "symbol": "circle"
         },
         "mode": "markers",
         "name": "NobleCoin, Scrypt",
         "scene": "scene",
         "showlegend": true,
         "type": "scatter3d",
         "x": [
          -0.05436484847519912
         ],
         "y": [
          -1.1547106675496095
         ],
         "z": [
          0.0219577049389043
         ]
        },
        {
         "hovertemplate": "CoinName=Namecoin<br>Algorithm=SHA-256<br>0=%{x}<br>1=%{y}<br>2=%{z}<extra></extra>",
         "legendgroup": "Namecoin, SHA-256",
         "marker": {
          "color": "#B6E880",
          "symbol": "square"
         },
         "mode": "markers",
         "name": "Namecoin, SHA-256",
         "scene": "scene",
         "showlegend": true,
         "type": "scatter3d",
         "x": [
          -0.15664657241811988
         ],
         "y": [
          -1.2429777316326058
         ],
         "z": [
          0.2042203431025038
         ]
        },
        {
         "hovertemplate": "CoinName=NyanCoin<br>Algorithm=Scrypt<br>0=%{x}<br>1=%{y}<br>2=%{z}<extra></extra>",
         "legendgroup": "NyanCoin, Scrypt",
         "marker": {
          "color": "#FF97FF",
          "symbol": "circle"
         },
         "mode": "markers",
         "name": "NyanCoin, Scrypt",
         "scene": "scene",
         "showlegend": true,
         "type": "scatter3d",
         "x": [
          -0.17815607104733663
         ],
         "y": [
          -1.1474636210313522
         ],
         "z": [
          0.02300833507987612
         ]
        },
        {
         "hovertemplate": "CoinName=Orbitcoin<br>Algorithm=NeoScrypt<br>0=%{x}<br>1=%{y}<br>2=%{z}<extra></extra>",
         "legendgroup": "Orbitcoin, NeoScrypt",
         "marker": {
          "color": "#FECB52",
          "symbol": "diamond"
         },
         "mode": "markers",
         "name": "Orbitcoin, NeoScrypt",
         "scene": "scene",
         "showlegend": true,
         "type": "scatter3d",
         "x": [
          -0.3289367953129037
         ],
         "y": [
          0.5493826158141337
         ],
         "z": [
          -0.35365912599400395
         ]
        },
        {
         "hovertemplate": "CoinName=PotCoin<br>Algorithm=Scrypt<br>0=%{x}<br>1=%{y}<br>2=%{z}<extra></extra>",
         "legendgroup": "PotCoin, Scrypt",
         "marker": {
          "color": "#636efa",
          "symbol": "circle"
         },
         "mode": "markers",
         "name": "PotCoin, Scrypt",
         "scene": "scene",
         "showlegend": true,
         "type": "scatter3d",
         "x": [
          -0.3116440345965271
         ],
         "y": [
          0.9658658382118495
         ],
         "z": [
          -0.6072066810793549
         ]
        },
        {
         "hovertemplate": "CoinName=PhoenixCoin<br>Algorithm=Scrypt<br>0=%{x}<br>1=%{y}<br>2=%{z}<extra></extra>",
         "legendgroup": "PhoenixCoin, Scrypt",
         "marker": {
          "color": "#EF553B",
          "symbol": "circle"
         },
         "mode": "markers",
         "name": "PhoenixCoin, Scrypt",
         "scene": "scene",
         "showlegend": true,
         "type": "scatter3d",
         "x": [
          -0.3156026027497616
         ],
         "y": [
          0.9659917510346683
         ],
         "z": [
          -0.6071535757559501
         ]
        },
        {
         "hovertemplate": "CoinName=RonPaulCoin<br>Algorithm=Scrypt<br>0=%{x}<br>1=%{y}<br>2=%{z}<extra></extra>",
         "legendgroup": "RonPaulCoin, Scrypt",
         "marker": {
          "color": "#00cc96",
          "symbol": "circle"
         },
         "mode": "markers",
         "name": "RonPaulCoin, Scrypt",
         "scene": "scene",
         "showlegend": true,
         "type": "scatter3d",
         "x": [
          -0.18427618794696365
         ],
         "y": [
          -1.1473999565376063
         ],
         "z": [
          0.023114586523784453
         ]
        },
        {
         "hovertemplate": "CoinName=StableCoin<br>Algorithm=Scrypt<br>0=%{x}<br>1=%{y}<br>2=%{z}<extra></extra>",
         "legendgroup": "StableCoin, Scrypt",
         "marker": {
          "color": "#ab63fa",
          "symbol": "circle"
         },
         "mode": "markers",
         "name": "StableCoin, Scrypt",
         "scene": "scene",
         "showlegend": true,
         "type": "scatter3d",
         "x": [
          -0.18244547739515443
         ],
         "y": [
          -1.1475158871737456
         ],
         "z": [
          0.023100663167651178
         ]
        },
        {
         "hovertemplate": "CoinName=SmartCoin<br>Algorithm=Scrypt<br>0=%{x}<br>1=%{y}<br>2=%{z}<extra></extra>",
         "legendgroup": "SmartCoin, Scrypt",
         "marker": {
          "color": "#FFA15A",
          "symbol": "circle"
         },
         "mode": "markers",
         "name": "SmartCoin, Scrypt",
         "scene": "scene",
         "showlegend": true,
         "type": "scatter3d",
         "x": [
          -0.1837793523525114
         ],
         "y": [
          -1.1474084008157803
         ],
         "z": [
          0.02310656482628546
         ]
        },
        {
         "hovertemplate": "CoinName=SyncCoin<br>Algorithm=X11<br>0=%{x}<br>1=%{y}<br>2=%{z}<extra></extra>",
         "legendgroup": "SyncCoin, X11",
         "marker": {
          "color": "#19d3f3",
          "symbol": "x"
         },
         "mode": "markers",
         "name": "SyncCoin, X11",
         "scene": "scene",
         "showlegend": true,
         "type": "scatter3d",
         "x": [
          -0.36867633911438985
         ],
         "y": [
          1.2094737148812973
         ],
         "z": [
          -0.5648099409969438
         ]
        },
        {
         "hovertemplate": "CoinName=SysCoin<br>Algorithm=SHA-256<br>0=%{x}<br>1=%{y}<br>2=%{z}<extra></extra>",
         "legendgroup": "SysCoin, SHA-256",
         "marker": {
          "color": "#FF6692",
          "symbol": "square"
         },
         "mode": "markers",
         "name": "SysCoin, SHA-256",
         "scene": "scene",
         "showlegend": true,
         "type": "scatter3d",
         "x": [
          -0.1442229993189284
         ],
         "y": [
          -1.2432694605955612
         ],
         "z": [
          0.20403461042109206
         ]
        },
        {
         "hovertemplate": "CoinName=TeslaCoin<br>Algorithm=Multiple<br>0=%{x}<br>1=%{y}<br>2=%{z}<extra></extra>",
         "legendgroup": "TeslaCoin, Multiple",
         "marker": {
          "color": "#B6E880",
          "symbol": "square"
         },
         "mode": "markers",
         "name": "TeslaCoin, Multiple",
         "scene": "scene",
         "showlegend": true,
         "type": "scatter3d",
         "x": [
          -0.2231033202914826
         ],
         "y": [
          0.15019365192005843
         ],
         "z": [
          0.07602775582390871
         ]
        },
        {
         "hovertemplate": "CoinName=TigerCoin<br>Algorithm=SHA-256<br>0=%{x}<br>1=%{y}<br>2=%{z}<extra></extra>",
         "legendgroup": "TigerCoin, SHA-256",
         "marker": {
          "color": "#FF97FF",
          "symbol": "square"
         },
         "mode": "markers",
         "name": "TigerCoin, SHA-256",
         "scene": "scene",
         "showlegend": true,
         "type": "scatter3d",
         "x": [
          -0.15612683412431147
         ],
         "y": [
          -1.2429825447624467
         ],
         "z": [
          0.20421121052492405
         ]
        },
        {
         "hovertemplate": "CoinName=TittieCoin<br>Algorithm=PHI1612<br>0=%{x}<br>1=%{y}<br>2=%{z}<extra></extra>",
         "legendgroup": "TittieCoin, PHI1612",
         "marker": {
          "color": "#FECB52",
          "symbol": "cross"
         },
         "mode": "markers",
         "name": "TittieCoin, PHI1612",
         "scene": "scene",
         "showlegend": true,
         "type": "scatter3d",
         "x": [
          -0.28748800951650044
         ],
         "y": [
          1.779965444257769
         ],
         "z": [
          -0.3634634637245242
         ]
        },
        {
         "hovertemplate": "CoinName=TorCoin<br>Algorithm=X11<br>0=%{x}<br>1=%{y}<br>2=%{z}<extra></extra>",
         "legendgroup": "TorCoin, X11",
         "marker": {
          "color": "#636efa",
          "symbol": "x"
         },
         "mode": "markers",
         "name": "TorCoin, X11",
         "scene": "scene",
         "showlegend": true,
         "type": "scatter3d",
         "x": [
          -0.36859138196200797
         ],
         "y": [
          1.209468787479889
         ],
         "z": [
          -0.564810670554573
         ]
        },
        {
         "hovertemplate": "CoinName=TerraCoin<br>Algorithm=SHA-256<br>0=%{x}<br>1=%{y}<br>2=%{z}<extra></extra>",
         "legendgroup": "TerraCoin, SHA-256",
         "marker": {
          "color": "#EF553B",
          "symbol": "square"
         },
         "mode": "markers",
         "name": "TerraCoin, SHA-256",
         "scene": "scene",
         "showlegend": true,
         "type": "scatter3d",
         "x": [
          -0.15640627234611373
         ],
         "y": [
          -1.2429864221515907
         ],
         "z": [
          0.2042173124321408
         ]
        },
        {
         "hovertemplate": "CoinName=UnbreakableCoin<br>Algorithm=SHA-256<br>0=%{x}<br>1=%{y}<br>2=%{z}<extra></extra>",
         "legendgroup": "UnbreakableCoin, SHA-256",
         "marker": {
          "color": "#00cc96",
          "symbol": "square"
         },
         "mode": "markers",
         "name": "UnbreakableCoin, SHA-256",
         "scene": "scene",
         "showlegend": true,
         "type": "scatter3d",
         "x": [
          -0.15639422846114992
         ],
         "y": [
          -1.2430134776904949
         ],
         "z": [
          0.20422206753519076
         ]
        },
        {
         "hovertemplate": "CoinName=Unobtanium<br>Algorithm=SHA-256<br>0=%{x}<br>1=%{y}<br>2=%{z}<extra></extra>",
         "legendgroup": "Unobtanium, SHA-256",
         "marker": {
          "color": "#ab63fa",
          "symbol": "square"
         },
         "mode": "markers",
         "name": "Unobtanium, SHA-256",
         "scene": "scene",
         "showlegend": true,
         "type": "scatter3d",
         "x": [
          -0.15696065221955105
         ],
         "y": [
          -1.2429711983919416
         ],
         "z": [
          0.2042251938026582
         ]
        },
        {
         "hovertemplate": "CoinName=UnitaryStatus Dollar<br>Algorithm=Scrypt<br>0=%{x}<br>1=%{y}<br>2=%{z}<extra></extra>",
         "legendgroup": "UnitaryStatus Dollar, Scrypt",
         "marker": {
          "color": "#FFA15A",
          "symbol": "circle"
         },
         "mode": "markers",
         "name": "UnitaryStatus Dollar, Scrypt",
         "scene": "scene",
         "showlegend": true,
         "type": "scatter3d",
         "x": [
          -0.29319135521089035
         ],
         "y": [
          0.9655101672860299
         ],
         "z": [
          -0.6074968595034639
         ]
        },
        {
         "hovertemplate": "CoinName=UltraCoin<br>Algorithm=Scrypt<br>0=%{x}<br>1=%{y}<br>2=%{z}<extra></extra>",
         "legendgroup": "UltraCoin, Scrypt",
         "marker": {
          "color": "#19d3f3",
          "symbol": "circle"
         },
         "mode": "markers",
         "name": "UltraCoin, Scrypt",
         "scene": "scene",
         "showlegend": true,
         "type": "scatter3d",
         "x": [
          -0.31587160994059044
         ],
         "y": [
          0.9659831011851655
         ],
         "z": [
          -0.6071467952109395
         ]
        },
        {
         "hovertemplate": "CoinName=ViaCoin<br>Algorithm=Scrypt<br>0=%{x}<br>1=%{y}<br>2=%{z}<extra></extra>",
         "legendgroup": "ViaCoin, Scrypt",
         "marker": {
          "color": "#FF6692",
          "symbol": "circle"
         },
         "mode": "markers",
         "name": "ViaCoin, Scrypt",
         "scene": "scene",
         "showlegend": true,
         "type": "scatter3d",
         "x": [
          -0.1839999915033835
         ],
         "y": [
          -1.1473939959551658
         ],
         "z": [
          0.023108163107258013
         ]
        },
        {
         "hovertemplate": "CoinName=Vertcoin<br>Algorithm=Lyra2REv2<br>0=%{x}<br>1=%{y}<br>2=%{z}<extra></extra>",
         "legendgroup": "Vertcoin, Lyra2REv2",
         "marker": {
          "color": "#B6E880",
          "symbol": "circle"
         },
         "mode": "markers",
         "name": "Vertcoin, Lyra2REv2",
         "scene": "scene",
         "showlegend": true,
         "type": "scatter3d",
         "x": [
          -0.2055331438062269
         ],
         "y": [
          -1.1868329050046083
         ],
         "z": [
          0.22133616241480747
         ]
        },
        {
         "hovertemplate": "CoinName=WorldCoin<br>Algorithm=Scrypt<br>0=%{x}<br>1=%{y}<br>2=%{z}<extra></extra>",
         "legendgroup": "WorldCoin, Scrypt",
         "marker": {
          "color": "#FF97FF",
          "symbol": "circle"
         },
         "mode": "markers",
         "name": "WorldCoin, Scrypt",
         "scene": "scene",
         "showlegend": true,
         "type": "scatter3d",
         "x": [
          -0.18120446685609418
         ],
         "y": [
          -1.1474937408247177
         ],
         "z": [
          0.023072655913002754
         ]
        },
        {
         "hovertemplate": "CoinName=X11 Coin<br>Algorithm=X11<br>0=%{x}<br>1=%{y}<br>2=%{z}<extra></extra>",
         "legendgroup": "X11 Coin, X11",
         "marker": {
          "color": "#FECB52",
          "symbol": "x"
         },
         "mode": "markers",
         "name": "X11 Coin, X11",
         "scene": "scene",
         "showlegend": true,
         "type": "scatter3d",
         "x": [
          -0.3685562071002212
         ],
         "y": [
          1.2094729722662259
         ],
         "z": [
          -0.5648121200793587
         ]
        },
        {
         "hovertemplate": "CoinName=JouleCoin<br>Algorithm=SHA-256<br>0=%{x}<br>1=%{y}<br>2=%{z}<extra></extra>",
         "legendgroup": "JouleCoin, SHA-256",
         "marker": {
          "color": "#636efa",
          "symbol": "square"
         },
         "mode": "markers",
         "name": "JouleCoin, SHA-256",
         "scene": "scene",
         "showlegend": true,
         "type": "scatter3d",
         "x": [
          -0.15619220887448673
         ],
         "y": [
          -1.2429828470973106
         ],
         "z": [
          0.20421252658716813
         ]
        },
        {
         "hovertemplate": "CoinName=ZCC Coin<br>Algorithm=Scrypt<br>0=%{x}<br>1=%{y}<br>2=%{z}<extra></extra>",
         "legendgroup": "ZCC Coin, Scrypt",
         "marker": {
          "color": "#EF553B",
          "symbol": "circle"
         },
         "mode": "markers",
         "name": "ZCC Coin, Scrypt",
         "scene": "scene",
         "showlegend": true,
         "type": "scatter3d",
         "x": [
          -0.30859418175691655
         ],
         "y": [
          0.965529689332247
         ],
         "z": [
          -0.6072035137431584
         ]
        },
        {
         "hovertemplate": "CoinName=ByteCoin<br>Algorithm=CryptoNight<br>0=%{x}<br>1=%{y}<br>2=%{z}<extra></extra>",
         "legendgroup": "ByteCoin, CryptoNight",
         "marker": {
          "color": "#00cc96",
          "symbol": "diamond"
         },
         "mode": "markers",
         "name": "ByteCoin, CryptoNight",
         "scene": "scene",
         "showlegend": true,
         "type": "scatter3d",
         "x": [
          3.695505554171985
         ],
         "y": [
          -2.2716347632363902
         ],
         "z": [
          0.41451628672901447
         ]
        },
        {
         "hovertemplate": "CoinName=DigitalNote <br>Algorithm=CryptoNight<br>0=%{x}<br>1=%{y}<br>2=%{z}<extra></extra>",
         "legendgroup": "DigitalNote , CryptoNight",
         "marker": {
          "color": "#ab63fa",
          "symbol": "diamond"
         },
         "mode": "markers",
         "name": "DigitalNote , CryptoNight",
         "scene": "scene",
         "showlegend": true,
         "type": "scatter3d",
         "x": [
          0.40021950231822173
         ],
         "y": [
          -2.2342416892692727
         ],
         "z": [
          0.47115180191914496
         ]
        },
        {
         "hovertemplate": "CoinName=BurstCoin<br>Algorithm=Shabal256<br>0=%{x}<br>1=%{y}<br>2=%{z}<extra></extra>",
         "legendgroup": "BurstCoin, Shabal256",
         "marker": {
          "color": "#FFA15A",
          "symbol": "square"
         },
         "mode": "markers",
         "name": "BurstCoin, Shabal256",
         "scene": "scene",
         "showlegend": true,
         "type": "scatter3d",
         "x": [
          -0.011978867118872734
         ],
         "y": [
          0.8049833861711078
         ],
         "z": [
          -0.20849951470037778
         ]
        },
        {
         "hovertemplate": "CoinName=StorjCoin<br>Algorithm=Counterparty<br>0=%{x}<br>1=%{y}<br>2=%{z}<extra></extra>",
         "legendgroup": "StorjCoin, Counterparty",
         "marker": {
          "color": "#19d3f3",
          "symbol": "x"
         },
         "mode": "markers",
         "name": "StorjCoin, Counterparty",
         "scene": "scene",
         "showlegend": true,
         "type": "scatter3d",
         "x": [
          -0.31438167815111673
         ],
         "y": [
          1.7389328038986835
         ],
         "z": [
          -0.2181803521350126
         ]
        },
        {
         "hovertemplate": "CoinName=MonaCoin<br>Algorithm=Scrypt<br>0=%{x}<br>1=%{y}<br>2=%{z}<extra></extra>",
         "legendgroup": "MonaCoin, Scrypt",
         "marker": {
          "color": "#FF6692",
          "symbol": "circle"
         },
         "mode": "markers",
         "name": "MonaCoin, Scrypt",
         "scene": "scene",
         "showlegend": true,
         "type": "scatter3d",
         "x": [
          -0.18290566968091446
         ],
         "y": [
          -1.147423836119376
         ],
         "z": [
          0.023092566751655226
         ]
        },
        {
         "hovertemplate": "CoinName=Neutron<br>Algorithm=SHA-256<br>0=%{x}<br>1=%{y}<br>2=%{z}<extra></extra>",
         "legendgroup": "Neutron, SHA-256",
         "marker": {
          "color": "#B6E880",
          "symbol": "square"
         },
         "mode": "markers",
         "name": "Neutron, SHA-256",
         "scene": "scene",
         "showlegend": true,
         "type": "scatter3d",
         "x": [
          -0.2887541075390329
         ],
         "y": [
          0.8704146578256763
         ],
         "z": [
          -0.42603288599558686
         ]
        },
        {
         "hovertemplate": "CoinName=Gulden<br>Algorithm=Scrypt<br>0=%{x}<br>1=%{y}<br>2=%{z}<extra></extra>",
         "legendgroup": "Gulden, Scrypt",
         "marker": {
          "color": "#FF97FF",
          "symbol": "circle"
         },
         "mode": "markers",
         "name": "Gulden, Scrypt",
         "scene": "scene",
         "showlegend": true,
         "type": "scatter3d",
         "x": [
          -0.16807732505755207
         ],
         "y": [
          -1.148161136086505
         ],
         "z": [
          0.022942608011338815
         ]
        },
        {
         "hovertemplate": "CoinName=PesetaCoin<br>Algorithm=Scrypt<br>0=%{x}<br>1=%{y}<br>2=%{z}<extra></extra>",
         "legendgroup": "PesetaCoin, Scrypt",
         "marker": {
          "color": "#FECB52",
          "symbol": "circle"
         },
         "mode": "markers",
         "name": "PesetaCoin, Scrypt",
         "scene": "scene",
         "showlegend": true,
         "type": "scatter3d",
         "x": [
          -0.18166378888490442
         ],
         "y": [
          -1.1474346970619766
         ],
         "z": [
          0.023070627129886122
         ]
        },
        {
         "hovertemplate": "CoinName=Kore<br>Algorithm=X13<br>0=%{x}<br>1=%{y}<br>2=%{z}<extra></extra>",
         "legendgroup": "Kore, X13",
         "marker": {
          "color": "#636efa",
          "symbol": "diamond"
         },
         "mode": "markers",
         "name": "Kore, X13",
         "scene": "scene",
         "showlegend": true,
         "type": "scatter3d",
         "x": [
          -0.22669187094006987
         ],
         "y": [
          1.772726927678909
         ],
         "z": [
          -0.6852541076362906
         ]
        },
        {
         "hovertemplate": "CoinName=Wild Beast Coin<br>Algorithm=Scrypt<br>0=%{x}<br>1=%{y}<br>2=%{z}<extra></extra>",
         "legendgroup": "Wild Beast Coin, Scrypt",
         "marker": {
          "color": "#EF553B",
          "symbol": "circle"
         },
         "mode": "markers",
         "name": "Wild Beast Coin, Scrypt",
         "scene": "scene",
         "showlegend": true,
         "type": "scatter3d",
         "x": [
          -0.1844119601733664
         ],
         "y": [
          -1.1473903582940246
         ],
         "z": [
          0.023115434721763323
         ]
        },
        {
         "hovertemplate": "CoinName=Dnotes<br>Algorithm=Scrypt<br>0=%{x}<br>1=%{y}<br>2=%{z}<extra></extra>",
         "legendgroup": "Dnotes, Scrypt",
         "marker": {
          "color": "#00cc96",
          "symbol": "circle"
         },
         "mode": "markers",
         "name": "Dnotes, Scrypt",
         "scene": "scene",
         "showlegend": true,
         "type": "scatter3d",
         "x": [
          -0.2711360103077986
         ],
         "y": [
          0.8810017835487521
         ],
         "z": [
          -0.3185415457441519
         ]
        },
        {
         "hovertemplate": "CoinName=Flo<br>Algorithm=Scrypt<br>0=%{x}<br>1=%{y}<br>2=%{z}<extra></extra>",
         "legendgroup": "Flo, Scrypt",
         "marker": {
          "color": "#ab63fa",
          "symbol": "circle"
         },
         "mode": "markers",
         "name": "Flo, Scrypt",
         "scene": "scene",
         "showlegend": true,
         "type": "scatter3d",
         "x": [
          -0.1815314320579745
         ],
         "y": [
          -1.1474265491538809
         ],
         "z": [
          0.023066573533074498
         ]
        },
        {
         "hovertemplate": "CoinName=Sativa Coin<br>Algorithm=X13<br>0=%{x}<br>1=%{y}<br>2=%{z}<extra></extra>",
         "legendgroup": "Sativa Coin, X13",
         "marker": {
          "color": "#FFA15A",
          "symbol": "diamond"
         },
         "mode": "markers",
         "name": "Sativa Coin, X13",
         "scene": "scene",
         "showlegend": true,
         "type": "scatter3d",
         "x": [
          -0.226645011527836
         ],
         "y": [
          1.7727296243857755
         ],
         "z": [
          -0.6852555081167914
         ]
        },
        {
         "hovertemplate": "CoinName=ArtByte<br>Algorithm=Scrypt<br>0=%{x}<br>1=%{y}<br>2=%{z}<extra></extra>",
         "legendgroup": "ArtByte, Scrypt",
         "marker": {
          "color": "#19d3f3",
          "symbol": "circle"
         },
         "mode": "markers",
         "name": "ArtByte, Scrypt",
         "scene": "scene",
         "showlegend": true,
         "type": "scatter3d",
         "x": [
          -0.16819935482711093
         ],
         "y": [
          -1.1476744789176783
         ],
         "z": [
          0.02285525245736796
         ]
        },
        {
         "hovertemplate": "CoinName=Folding Coin<br>Algorithm=Stanford Folding<br>0=%{x}<br>1=%{y}<br>2=%{z}<extra></extra>",
         "legendgroup": "Folding Coin, Stanford Folding",
         "marker": {
          "color": "#FF6692",
          "symbol": "cross"
         },
         "mode": "markers",
         "name": "Folding Coin, Stanford Folding",
         "scene": "scene",
         "showlegend": true,
         "type": "scatter3d",
         "x": [
          -0.15267719331449012
         ],
         "y": [
          -2.1214267017467683
         ],
         "z": [
          0.46265830161194293
         ]
        },
        {
         "hovertemplate": "CoinName=Ucoin<br>Algorithm=X11<br>0=%{x}<br>1=%{y}<br>2=%{z}<extra></extra>",
         "legendgroup": "Ucoin, X11",
         "marker": {
          "color": "#B6E880",
          "symbol": "x"
         },
         "mode": "markers",
         "name": "Ucoin, X11",
         "scene": "scene",
         "showlegend": true,
         "type": "scatter3d",
         "x": [
          -0.32797170199610753
         ],
         "y": [
          1.1246581586753976
         ],
         "z": [
          -0.27615753605396737
         ]
        },
        {
         "hovertemplate": "CoinName=OmniCron<br>Algorithm=Scrypt<br>0=%{x}<br>1=%{y}<br>2=%{z}<extra></extra>",
         "legendgroup": "OmniCron, Scrypt",
         "marker": {
          "color": "#FF97FF",
          "symbol": "circle"
         },
         "mode": "markers",
         "name": "OmniCron, Scrypt",
         "scene": "scene",
         "showlegend": true,
         "type": "scatter3d",
         "x": [
          -0.18428829400946933
         ],
         "y": [
          -1.1473875798338988
         ],
         "z": [
          0.023112538447441253
         ]
        },
        {
         "hovertemplate": "CoinName=Vtorrent<br>Algorithm=Scrypt<br>0=%{x}<br>1=%{y}<br>2=%{z}<extra></extra>",
         "legendgroup": "Vtorrent, Scrypt",
         "marker": {
          "color": "#FECB52",
          "symbol": "circle"
         },
         "mode": "markers",
         "name": "Vtorrent, Scrypt",
         "scene": "scene",
         "showlegend": true,
         "type": "scatter3d",
         "x": [
          -0.3168751396159713
         ],
         "y": [
          0.9660138469876294
         ],
         "z": [
          -0.6071331161386038
         ]
        },
        {
         "hovertemplate": "CoinName=GreenCoin<br>Algorithm=Scrypt<br>0=%{x}<br>1=%{y}<br>2=%{z}<extra></extra>",
         "legendgroup": "GreenCoin, Scrypt",
         "marker": {
          "color": "#636efa",
          "symbol": "circle"
         },
         "mode": "markers",
         "name": "GreenCoin, Scrypt",
         "scene": "scene",
         "showlegend": true,
         "type": "scatter3d",
         "x": [
          -0.061593101843962945
         ],
         "y": [
          -1.1513019642538096
         ],
         "z": [
          0.021468710811168447
         ]
        },
        {
         "hovertemplate": "CoinName=Cryptonite<br>Algorithm=M7 POW<br>0=%{x}<br>1=%{y}<br>2=%{z}<extra></extra>",
         "legendgroup": "Cryptonite, M7 POW",
         "marker": {
          "color": "#EF553B",
          "symbol": "circle"
         },
         "mode": "markers",
         "name": "Cryptonite, M7 POW",
         "scene": "scene",
         "showlegend": true,
         "type": "scatter3d",
         "x": [
          -0.14396928697844352
         ],
         "y": [
          -2.122294031529601
         ],
         "z": [
          0.4626114950235871
         ]
        },
        {
         "hovertemplate": "CoinName=MasterCoin<br>Algorithm=Scrypt<br>0=%{x}<br>1=%{y}<br>2=%{z}<extra></extra>",
         "legendgroup": "MasterCoin, Scrypt",
         "marker": {
          "color": "#00cc96",
          "symbol": "circle"
         },
         "mode": "markers",
         "name": "MasterCoin, Scrypt",
         "scene": "scene",
         "showlegend": true,
         "type": "scatter3d",
         "x": [
          -0.18442039049445477
         ],
         "y": [
          -1.1473891371080744
         ],
         "z": [
          0.02311537213851824
         ]
        },
        {
         "hovertemplate": "CoinName=SoonCoin<br>Algorithm=SHA-256<br>0=%{x}<br>1=%{y}<br>2=%{z}<extra></extra>",
         "legendgroup": "SoonCoin, SHA-256",
         "marker": {
          "color": "#ab63fa",
          "symbol": "square"
         },
         "mode": "markers",
         "name": "SoonCoin, SHA-256",
         "scene": "scene",
         "showlegend": true,
         "type": "scatter3d",
         "x": [
          -0.1566736567856163
         ],
         "y": [
          -1.2429784574427116
         ],
         "z": [
          0.20422099904264074
         ]
        },
        {
         "hovertemplate": "CoinName=1Credit<br>Algorithm=Scrypt<br>0=%{x}<br>1=%{y}<br>2=%{z}<extra></extra>",
         "legendgroup": "1Credit, Scrypt",
         "marker": {
          "color": "#FFA15A",
          "symbol": "circle"
         },
         "mode": "markers",
         "name": "1Credit, Scrypt",
         "scene": "scene",
         "showlegend": true,
         "type": "scatter3d",
         "x": [
          0.44045443719383714
         ],
         "y": [
          -1.1969275075023333
         ],
         "z": [
          0.02020035548910842
         ]
        },
        {
         "hovertemplate": "CoinName=Nexus<br>Algorithm=SHA3<br>0=%{x}<br>1=%{y}<br>2=%{z}<extra></extra>",
         "legendgroup": "Nexus, SHA3",
         "marker": {
          "color": "#19d3f3",
          "symbol": "square"
         },
         "mode": "markers",
         "name": "Nexus, SHA3",
         "scene": "scene",
         "showlegend": true,
         "type": "scatter3d",
         "x": [
          -0.38553147115123215
         ],
         "y": [
          2.268298375027684
         ],
         "z": [
          -0.56391710757933
         ]
        },
        {
         "hovertemplate": "CoinName=MarsCoin <br>Algorithm=X11<br>0=%{x}<br>1=%{y}<br>2=%{z}<extra></extra>",
         "legendgroup": "MarsCoin , X11",
         "marker": {
          "color": "#FF6692",
          "symbol": "x"
         },
         "mode": "markers",
         "name": "MarsCoin , X11",
         "scene": "scene",
         "showlegend": true,
         "type": "scatter3d",
         "x": [
          -0.23535116760982172
         ],
         "y": [
          -0.90394368200189
         ],
         "z": [
          0.0654244235733749
         ]
        },
        {
         "hovertemplate": "CoinName=Crypto<br>Algorithm=Lyra2RE<br>0=%{x}<br>1=%{y}<br>2=%{z}<extra></extra>",
         "legendgroup": "Crypto, Lyra2RE",
         "marker": {
          "color": "#B6E880",
          "symbol": "diamond"
         },
         "mode": "markers",
         "name": "Crypto, Lyra2RE",
         "scene": "scene",
         "showlegend": true,
         "type": "scatter3d",
         "x": [
          -0.1764798613582585
         ],
         "y": [
          -2.1325994448533234
         ],
         "z": [
          0.4659449492093324
         ]
        },
        {
         "hovertemplate": "CoinName=Anarchists Prime<br>Algorithm=SHA-256<br>0=%{x}<br>1=%{y}<br>2=%{z}<extra></extra>",
         "legendgroup": "Anarchists Prime, SHA-256",
         "marker": {
          "color": "#FF97FF",
          "symbol": "square"
         },
         "mode": "markers",
         "name": "Anarchists Prime, SHA-256",
         "scene": "scene",
         "showlegend": true,
         "type": "scatter3d",
         "x": [
          -0.15642393024551207
         ],
         "y": [
          -1.2429953682110884
         ],
         "z": [
          0.2042193019259488
         ]
        },
        {
         "hovertemplate": "CoinName=Droidz<br>Algorithm=QUAIT<br>0=%{x}<br>1=%{y}<br>2=%{z}<extra></extra>",
         "legendgroup": "Droidz, QUAIT",
         "marker": {
          "color": "#FECB52",
          "symbol": "square"
         },
         "mode": "markers",
         "name": "Droidz, QUAIT",
         "scene": "scene",
         "showlegend": true,
         "type": "scatter3d",
         "x": [
          -0.383735541650703
         ],
         "y": [
          1.9007916469219563
         ],
         "z": [
          -0.7938037646903133
         ]
        },
        {
         "hovertemplate": "CoinName=BowsCoin<br>Algorithm=X11<br>0=%{x}<br>1=%{y}<br>2=%{z}<extra></extra>",
         "legendgroup": "BowsCoin, X11",
         "marker": {
          "color": "#636efa",
          "symbol": "x"
         },
         "mode": "markers",
         "name": "BowsCoin, X11",
         "scene": "scene",
         "showlegend": true,
         "type": "scatter3d",
         "x": [
          -0.23562752128965503
         ],
         "y": [
          -0.9039424419841869
         ],
         "z": [
          0.06542952269614578
         ]
        },
        {
         "hovertemplate": "CoinName=Song Coin<br>Algorithm=Scrypt<br>0=%{x}<br>1=%{y}<br>2=%{z}<extra></extra>",
         "legendgroup": "Song Coin, Scrypt",
         "marker": {
          "color": "#EF553B",
          "symbol": "circle"
         },
         "mode": "markers",
         "name": "Song Coin, Scrypt",
         "scene": "scene",
         "showlegend": true,
         "type": "scatter3d",
         "x": [
          -0.18261607324364454
         ],
         "y": [
          -1.1474918124820213
         ],
         "z": [
          0.023099514194097445
         ]
        },
        {
         "hovertemplate": "CoinName=BitZeny<br>Algorithm=Scrypt<br>0=%{x}<br>1=%{y}<br>2=%{z}<extra></extra>",
         "legendgroup": "BitZeny, Scrypt",
         "marker": {
          "color": "#00cc96",
          "symbol": "circle"
         },
         "mode": "markers",
         "name": "BitZeny, Scrypt",
         "scene": "scene",
         "showlegend": true,
         "type": "scatter3d",
         "x": [
          -0.181833229057486
         ],
         "y": [
          -1.1474994800698575
         ],
         "z": [
          0.023085835490446825
         ]
        },
        {
         "hovertemplate": "CoinName=Diggits<br>Algorithm=Scrypt<br>0=%{x}<br>1=%{y}<br>2=%{z}<extra></extra>",
         "legendgroup": "Diggits, Scrypt",
         "marker": {
          "color": "#ab63fa",
          "symbol": "circle"
         },
         "mode": "markers",
         "name": "Diggits, Scrypt",
         "scene": "scene",
         "showlegend": true,
         "type": "scatter3d",
         "x": [
          -0.27474205816026964
         ],
         "y": [
          0.8811933408000789
         ],
         "z": [
          -0.3185073370933696
         ]
        },
        {
         "hovertemplate": "CoinName=Expanse<br>Algorithm=Ethash<br>0=%{x}<br>1=%{y}<br>2=%{z}<extra></extra>",
         "legendgroup": "Expanse, Ethash",
         "marker": {
          "color": "#FFA15A",
          "symbol": "cross"
         },
         "mode": "markers",
         "name": "Expanse, Ethash",
         "scene": "scene",
         "showlegend": true,
         "type": "scatter3d",
         "x": [
          -0.1753416040209445
         ],
         "y": [
          -1.914371173527502
         ],
         "z": [
          0.4260273016483122
         ]
        },
        {
         "hovertemplate": "CoinName=Paycon<br>Algorithm=X13<br>0=%{x}<br>1=%{y}<br>2=%{z}<extra></extra>",
         "legendgroup": "Paycon, X13",
         "marker": {
          "color": "#19d3f3",
          "symbol": "diamond"
         },
         "mode": "markers",
         "name": "Paycon, X13",
         "scene": "scene",
         "showlegend": true,
         "type": "scatter3d",
         "x": [
          -0.2261833825377431
         ],
         "y": [
          1.77271317591932
         ],
         "z": [
          -0.6852613756268129
         ]
        },
        {
         "hovertemplate": "CoinName=Emercoin<br>Algorithm=SHA-256<br>0=%{x}<br>1=%{y}<br>2=%{z}<extra></extra>",
         "legendgroup": "Emercoin, SHA-256",
         "marker": {
          "color": "#FF6692",
          "symbol": "square"
         },
         "mode": "markers",
         "name": "Emercoin, SHA-256",
         "scene": "scene",
         "showlegend": true,
         "type": "scatter3d",
         "x": [
          -0.2823768380187753
         ],
         "y": [
          0.8699140680095628
         ],
         "z": [
          -0.42606355419654457
         ]
        },
        {
         "hovertemplate": "CoinName=EverGreenCoin<br>Algorithm=X15<br>0=%{x}<br>1=%{y}<br>2=%{z}<extra></extra>",
         "legendgroup": "EverGreenCoin, X15",
         "marker": {
          "color": "#B6E880",
          "symbol": "x"
         },
         "mode": "markers",
         "name": "EverGreenCoin, X15",
         "scene": "scene",
         "showlegend": true,
         "type": "scatter3d",
         "x": [
          -0.22326188609928996
         ],
         "y": [
          1.8837622776157283
         ],
         "z": [
          -0.7296808993694013
         ]
        },
        {
         "hovertemplate": "CoinName=MindCoin<br>Algorithm=X11<br>0=%{x}<br>1=%{y}<br>2=%{z}<extra></extra>",
         "legendgroup": "MindCoin, X11",
         "marker": {
          "color": "#FF97FF",
          "symbol": "x"
         },
         "mode": "markers",
         "name": "MindCoin, X11",
         "scene": "scene",
         "showlegend": true,
         "type": "scatter3d",
         "x": [
          -0.23566143650170407
         ],
         "y": [
          -0.9039397484411876
         ],
         "z": [
          0.06542968001754769
         ]
        },
        {
         "hovertemplate": "CoinName=I0coin<br>Algorithm=SHA-256<br>0=%{x}<br>1=%{y}<br>2=%{z}<extra></extra>",
         "legendgroup": "I0coin, SHA-256",
         "marker": {
          "color": "#FECB52",
          "symbol": "square"
         },
         "mode": "markers",
         "name": "I0coin, SHA-256",
         "scene": "scene",
         "showlegend": true,
         "type": "scatter3d",
         "x": [
          -0.1565719929483668
         ],
         "y": [
          -1.2429757330430906
         ],
         "z": [
          0.204218536906822
         ]
        },
        {
         "hovertemplate": "CoinName=Decred<br>Algorithm=BLAKE256<br>0=%{x}<br>1=%{y}<br>2=%{z}<extra></extra>",
         "legendgroup": "Decred, BLAKE256",
         "marker": {
          "color": "#636efa",
          "symbol": "x"
         },
         "mode": "markers",
         "name": "Decred, BLAKE256",
         "scene": "scene",
         "showlegend": true,
         "type": "scatter3d",
         "x": [
          -0.0733849661490827
         ],
         "y": [
          0.9288589245012794
         ],
         "z": [
          -0.4865488384278751
         ]
        },
        {
         "hovertemplate": "CoinName=Revolution VR<br>Algorithm=Scrypt<br>0=%{x}<br>1=%{y}<br>2=%{z}<extra></extra>",
         "legendgroup": "Revolution VR, Scrypt",
         "marker": {
          "color": "#EF553B",
          "symbol": "circle"
         },
         "mode": "markers",
         "name": "Revolution VR, Scrypt",
         "scene": "scene",
         "showlegend": true,
         "type": "scatter3d",
         "x": [
          -0.18050417145394157
         ],
         "y": [
          -1.1474350445707473
         ],
         "z": [
          0.023048335430234997
         ]
        },
        {
         "hovertemplate": "CoinName=HOdlcoin<br>Algorithm=1GB AES Pattern Search<br>0=%{x}<br>1=%{y}<br>2=%{z}<extra></extra>",
         "legendgroup": "HOdlcoin, 1GB AES Pattern Search",
         "marker": {
          "color": "#00cc96",
          "symbol": "cross"
         },
         "mode": "markers",
         "name": "HOdlcoin, 1GB AES Pattern Search",
         "scene": "scene",
         "showlegend": true,
         "type": "scatter3d",
         "x": [
          -0.17558673399258334
         ],
         "y": [
          -2.120916075889134
         ],
         "z": [
          0.4631236340617323
         ]
        },
        {
         "hovertemplate": "CoinName=EDRCoin<br>Algorithm=SHA-256<br>0=%{x}<br>1=%{y}<br>2=%{z}<extra></extra>",
         "legendgroup": "EDRCoin, SHA-256",
         "marker": {
          "color": "#ab63fa",
          "symbol": "square"
         },
         "mode": "markers",
         "name": "EDRCoin, SHA-256",
         "scene": "scene",
         "showlegend": true,
         "type": "scatter3d",
         "x": [
          -0.28948884044011025
         ],
         "y": [
          0.8704281105092615
         ],
         "z": [
          -0.42602120120594783
         ]
        },
        {
         "hovertemplate": "CoinName=Hitcoin<br>Algorithm=X11<br>0=%{x}<br>1=%{y}<br>2=%{z}<extra></extra>",
         "legendgroup": "Hitcoin, X11",
         "marker": {
          "color": "#FFA15A",
          "symbol": "x"
         },
         "mode": "markers",
         "name": "Hitcoin, X11",
         "scene": "scene",
         "showlegend": true,
         "type": "scatter3d",
         "x": [
          -0.05735880535705743
         ],
         "y": [
          1.1986876593681275
         ],
         "z": [
          -0.5688234445470284
         ]
        },
        {
         "hovertemplate": "CoinName=Gamecredits<br>Algorithm=Scrypt<br>0=%{x}<br>1=%{y}<br>2=%{z}<extra></extra>",
         "legendgroup": "Gamecredits, Scrypt",
         "marker": {
          "color": "#19d3f3",
          "symbol": "circle"
         },
         "mode": "markers",
         "name": "Gamecredits, Scrypt",
         "scene": "scene",
         "showlegend": true,
         "type": "scatter3d",
         "x": [
          -0.18302956961871172
         ],
         "y": [
          -1.1474119398379632
         ],
         "z": [
          0.023092762459394536
         ]
        },
        {
         "hovertemplate": "CoinName=DubaiCoin<br>Algorithm=SHA-256<br>0=%{x}<br>1=%{y}<br>2=%{z}<extra></extra>",
         "legendgroup": "DubaiCoin, SHA-256",
         "marker": {
          "color": "#FF6692",
          "symbol": "square"
         },
         "mode": "markers",
         "name": "DubaiCoin, SHA-256",
         "scene": "scene",
         "showlegend": true,
         "type": "scatter3d",
         "x": [
          -0.28954956824257894
         ],
         "y": [
          0.8704347686542253
         ],
         "z": [
          -0.42602125779256383
         ]
        },
        {
         "hovertemplate": "CoinName=DubaiCoin<br>Algorithm=Dagger-Hashimoto<br>0=%{x}<br>1=%{y}<br>2=%{z}<extra></extra>",
         "legendgroup": "DubaiCoin, Dagger-Hashimoto",
         "marker": {
          "color": "#FF6692",
          "symbol": "diamond"
         },
         "mode": "markers",
         "name": "DubaiCoin, Dagger-Hashimoto",
         "scene": "scene",
         "showlegend": true,
         "type": "scatter3d",
         "x": [
          -0.1766039691539656
         ],
         "y": [
          -2.120839979761473
         ],
         "z": [
          0.4631339748356809
         ]
        },
        {
         "hovertemplate": "CoinName=CarpeDiemCoin<br>Algorithm=SHA-256<br>0=%{x}<br>1=%{y}<br>2=%{z}<extra></extra>",
         "legendgroup": "CarpeDiemCoin, SHA-256",
         "marker": {
          "color": "#B6E880",
          "symbol": "square"
         },
         "mode": "markers",
         "name": "CarpeDiemCoin, SHA-256",
         "scene": "scene",
         "showlegend": true,
         "type": "scatter3d",
         "x": [
          0.24888391407138946
         ],
         "y": [
          -1.2476764792556416
         ],
         "z": [
          0.1972684432564175
         ]
        },
        {
         "hovertemplate": "CoinName=BillaryCoin<br>Algorithm=Scrypt<br>0=%{x}<br>1=%{y}<br>2=%{z}<extra></extra>",
         "legendgroup": "BillaryCoin, Scrypt",
         "marker": {
          "color": "#FF97FF",
          "symbol": "circle"
         },
         "mode": "markers",
         "name": "BillaryCoin, Scrypt",
         "scene": "scene",
         "showlegend": true,
         "type": "scatter3d",
         "x": [
          -0.31675675189493857
         ],
         "y": [
          0.966001168965561
         ],
         "z": [
          -0.6071330614762975
         ]
        },
        {
         "hovertemplate": "CoinName=GPU Coin<br>Algorithm=Scrypt<br>0=%{x}<br>1=%{y}<br>2=%{z}<extra></extra>",
         "legendgroup": "GPU Coin, Scrypt",
         "marker": {
          "color": "#FECB52",
          "symbol": "circle"
         },
         "mode": "markers",
         "name": "GPU Coin, Scrypt",
         "scene": "scene",
         "showlegend": true,
         "type": "scatter3d",
         "x": [
          -0.27462885449288604
         ],
         "y": [
          0.8811091582783124
         ],
         "z": [
          -0.31849400168400377
         ]
        },
        {
         "hovertemplate": "CoinName=Adzcoin<br>Algorithm=X11<br>0=%{x}<br>1=%{y}<br>2=%{z}<extra></extra>",
         "legendgroup": "Adzcoin, X11",
         "marker": {
          "color": "#636efa",
          "symbol": "x"
         },
         "mode": "markers",
         "name": "Adzcoin, X11",
         "scene": "scene",
         "showlegend": true,
         "type": "scatter3d",
         "x": [
          -0.23485123808757505
         ],
         "y": [
          -0.9039670293812829
         ],
         "z": [
          0.06541908939756054
         ]
        },
        {
         "hovertemplate": "CoinName=SoilCoin<br>Algorithm=Dagger<br>0=%{x}<br>1=%{y}<br>2=%{z}<extra></extra>",
         "legendgroup": "SoilCoin, Dagger",
         "marker": {
          "color": "#EF553B",
          "symbol": "circle"
         },
         "mode": "markers",
         "name": "SoilCoin, Dagger",
         "scene": "scene",
         "showlegend": true,
         "type": "scatter3d",
         "x": [
          -0.17610375802073475
         ],
         "y": [
          -2.1286670982649794
         ],
         "z": [
          0.4649876029412358
         ]
        },
        {
         "hovertemplate": "CoinName=YoCoin<br>Algorithm=Scrypt<br>0=%{x}<br>1=%{y}<br>2=%{z}<extra></extra>",
         "legendgroup": "YoCoin, Scrypt",
         "marker": {
          "color": "#00cc96",
          "symbol": "circle"
         },
         "mode": "markers",
         "name": "YoCoin, Scrypt",
         "scene": "scene",
         "showlegend": true,
         "type": "scatter3d",
         "x": [
          -0.18328091469665905
         ],
         "y": [
          -1.1474794489541753
         ],
         "z": [
          0.0231100523469346
         ]
        },
        {
         "hovertemplate": "CoinName=SibCoin<br>Algorithm=X11GOST<br>0=%{x}<br>1=%{y}<br>2=%{z}<extra></extra>",
         "legendgroup": "SibCoin, X11GOST",
         "marker": {
          "color": "#ab63fa",
          "symbol": "diamond"
         },
         "mode": "markers",
         "name": "SibCoin, X11GOST",
         "scene": "scene",
         "showlegend": true,
         "type": "scatter3d",
         "x": [
          -0.17609343767290558
         ],
         "y": [
          -2.120853153447474
         ],
         "z": [
          0.4631239517548743
         ]
        },
        {
         "hovertemplate": "CoinName=EuropeCoin<br>Algorithm=X11<br>0=%{x}<br>1=%{y}<br>2=%{z}<extra></extra>",
         "legendgroup": "EuropeCoin, X11",
         "marker": {
          "color": "#FFA15A",
          "symbol": "x"
         },
         "mode": "markers",
         "name": "EuropeCoin, X11",
         "scene": "scene",
         "showlegend": true,
         "type": "scatter3d",
         "x": [
          -0.36594417547802993
         ],
         "y": [
          1.2092702675991776
         ],
         "z": [
          -0.5648251106629202
         ]
        },
        {
         "hovertemplate": "CoinName=ZeitCoin<br>Algorithm=Scrypt<br>0=%{x}<br>1=%{y}<br>2=%{z}<extra></extra>",
         "legendgroup": "ZeitCoin, Scrypt",
         "marker": {
          "color": "#19d3f3",
          "symbol": "circle"
         },
         "mode": "markers",
         "name": "ZeitCoin, Scrypt",
         "scene": "scene",
         "showlegend": true,
         "type": "scatter3d",
         "x": [
          0.8362052794027136
         ],
         "y": [
          0.8397090315979503
         ],
         "z": [
          -0.3322777813615802
         ]
        },
        {
         "hovertemplate": "CoinName=SwingCoin<br>Algorithm=SHA-256<br>0=%{x}<br>1=%{y}<br>2=%{z}<extra></extra>",
         "legendgroup": "SwingCoin, SHA-256",
         "marker": {
          "color": "#FF6692",
          "symbol": "square"
         },
         "mode": "markers",
         "name": "SwingCoin, SHA-256",
         "scene": "scene",
         "showlegend": true,
         "type": "scatter3d",
         "x": [
          -0.2893581541133647
         ],
         "y": [
          0.8704186439922079
         ],
         "z": [
          -0.4260219756369433
         ]
        },
        {
         "hovertemplate": "CoinName=SafeExchangeCoin<br>Algorithm=Scrypt<br>0=%{x}<br>1=%{y}<br>2=%{z}<extra></extra>",
         "legendgroup": "SafeExchangeCoin, Scrypt",
         "marker": {
          "color": "#B6E880",
          "symbol": "circle"
         },
         "mode": "markers",
         "name": "SafeExchangeCoin, Scrypt",
         "scene": "scene",
         "showlegend": true,
         "type": "scatter3d",
         "x": [
          -0.07507687570287165
         ],
         "y": [
          0.39027482604756364
         ],
         "z": [
          -0.3137479385115776
         ]
        },
        {
         "hovertemplate": "CoinName=Nebuchadnezzar<br>Algorithm=PoS<br>0=%{x}<br>1=%{y}<br>2=%{z}<extra></extra>",
         "legendgroup": "Nebuchadnezzar, PoS",
         "marker": {
          "color": "#FF97FF",
          "symbol": "square"
         },
         "mode": "markers",
         "name": "Nebuchadnezzar, PoS",
         "scene": "scene",
         "showlegend": true,
         "type": "scatter3d",
         "x": [
          -0.3253663859984915
         ],
         "y": [
          1.8027926683698017
         ],
         "z": [
          -0.22027302964325068
         ]
        },
        {
         "hovertemplate": "CoinName=Francs<br>Algorithm=Scrypt<br>0=%{x}<br>1=%{y}<br>2=%{z}<extra></extra>",
         "legendgroup": "Francs, Scrypt",
         "marker": {
          "color": "#FECB52",
          "symbol": "circle"
         },
         "mode": "markers",
         "name": "Francs, Scrypt",
         "scene": "scene",
         "showlegend": true,
         "type": "scatter3d",
         "x": [
          -0.1842178636050393
         ],
         "y": [
          -1.1473976730735658
         ],
         "z": [
          0.023113041191168523
         ]
        },
        {
         "hovertemplate": "CoinName=BolivarCoin<br>Algorithm=X11<br>0=%{x}<br>1=%{y}<br>2=%{z}<extra></extra>",
         "legendgroup": "BolivarCoin, X11",
         "marker": {
          "color": "#636efa",
          "symbol": "x"
         },
         "mode": "markers",
         "name": "BolivarCoin, X11",
         "scene": "scene",
         "showlegend": true,
         "type": "scatter3d",
         "x": [
          -0.23562667408785434
         ],
         "y": [
          -0.903945301206283
         ],
         "z": [
          0.06543003341897738
         ]
        },
        {
         "hovertemplate": "CoinName=Ratecoin<br>Algorithm=X11<br>0=%{x}<br>1=%{y}<br>2=%{z}<extra></extra>",
         "legendgroup": "Ratecoin, X11",
         "marker": {
          "color": "#EF553B",
          "symbol": "x"
         },
         "mode": "markers",
         "name": "Ratecoin, X11",
         "scene": "scene",
         "showlegend": true,
         "type": "scatter3d",
         "x": [
          -0.36656417730266916
         ],
         "y": [
          1.2094762814622653
         ],
         "z": [
          -0.56485113355324
         ]
        },
        {
         "hovertemplate": "CoinName=Revenu<br>Algorithm=SHA-256<br>0=%{x}<br>1=%{y}<br>2=%{z}<extra></extra>",
         "legendgroup": "Revenu, SHA-256",
         "marker": {
          "color": "#00cc96",
          "symbol": "square"
         },
         "mode": "markers",
         "name": "Revenu, SHA-256",
         "scene": "scene",
         "showlegend": true,
         "type": "scatter3d",
         "x": [
          -0.28815494092555566
         ],
         "y": [
          0.8703192378827296
         ],
         "z": [
          -0.4260268477997284
         ]
        },
        {
         "hovertemplate": "CoinName=Clockcoin<br>Algorithm=SHA-256<br>0=%{x}<br>1=%{y}<br>2=%{z}<extra></extra>",
         "legendgroup": "Clockcoin, SHA-256",
         "marker": {
          "color": "#ab63fa",
          "symbol": "square"
         },
         "mode": "markers",
         "name": "Clockcoin, SHA-256",
         "scene": "scene",
         "showlegend": true,
         "type": "scatter3d",
         "x": [
          -0.2859175786367835
         ],
         "y": [
          0.8701614114752986
         ],
         "z": [
          -0.426040887945961
         ]
        },
        {
         "hovertemplate": "CoinName=VIP Tokens<br>Algorithm=NIST5<br>0=%{x}<br>1=%{y}<br>2=%{z}<extra></extra>",
         "legendgroup": "VIP Tokens, NIST5",
         "marker": {
          "color": "#FFA15A",
          "symbol": "x"
         },
         "mode": "markers",
         "name": "VIP Tokens, NIST5",
         "scene": "scene",
         "showlegend": true,
         "type": "scatter3d",
         "x": [
          -0.3303396734871195
         ],
         "y": [
          1.4822785862318064
         ],
         "z": [
          -0.6312097507595857
         ]
        },
        {
         "hovertemplate": "CoinName=BitSend<br>Algorithm=X11<br>0=%{x}<br>1=%{y}<br>2=%{z}<extra></extra>",
         "legendgroup": "BitSend, X11",
         "marker": {
          "color": "#19d3f3",
          "symbol": "x"
         },
         "mode": "markers",
         "name": "BitSend, X11",
         "scene": "scene",
         "showlegend": true,
         "type": "scatter3d",
         "x": [
          -0.3674417427263977
         ],
         "y": [
          1.209406653551298
         ],
         "z": [
          -0.5648213804685166
         ]
        },
        {
         "hovertemplate": "CoinName=Omni<br>Algorithm=Scrypt<br>0=%{x}<br>1=%{y}<br>2=%{z}<extra></extra>",
         "legendgroup": "Omni, Scrypt",
         "marker": {
          "color": "#FF6692",
          "symbol": "circle"
         },
         "mode": "markers",
         "name": "Omni, Scrypt",
         "scene": "scene",
         "showlegend": true,
         "type": "scatter3d",
         "x": [
          -0.18442044716707928
         ],
         "y": [
          -1.147389136443736
         ],
         "z": [
          0.023115373108623917
         ]
        },
        {
         "hovertemplate": "CoinName=Let it Ride<br>Algorithm=POS 3.0<br>0=%{x}<br>1=%{y}<br>2=%{z}<extra></extra>",
         "legendgroup": "Let it Ride, POS 3.0",
         "marker": {
          "color": "#B6E880",
          "symbol": "cross"
         },
         "mode": "markers",
         "name": "Let it Ride, POS 3.0",
         "scene": "scene",
         "showlegend": true,
         "type": "scatter3d",
         "x": [
          -0.32012164850060226
         ],
         "y": [
          1.7457796076830001
         ],
         "z": [
          -0.21903015662687148
         ]
        },
        {
         "hovertemplate": "CoinName=PutinCoin<br>Algorithm=Scrypt<br>0=%{x}<br>1=%{y}<br>2=%{z}<extra></extra>",
         "legendgroup": "PutinCoin, Scrypt",
         "marker": {
          "color": "#FF97FF",
          "symbol": "circle"
         },
         "mode": "markers",
         "name": "PutinCoin, Scrypt",
         "scene": "scene",
         "showlegend": true,
         "type": "scatter3d",
         "x": [
          -0.293879516540747
         ],
         "y": [
          0.9652035333054828
         ],
         "z": [
          -0.607427069264116
         ]
        },
        {
         "hovertemplate": "CoinName=iBankCoin<br>Algorithm=Scrypt<br>0=%{x}<br>1=%{y}<br>2=%{z}<extra></extra>",
         "legendgroup": "iBankCoin, Scrypt",
         "marker": {
          "color": "#FECB52",
          "symbol": "circle"
         },
         "mode": "markers",
         "name": "iBankCoin, Scrypt",
         "scene": "scene",
         "showlegend": true,
         "type": "scatter3d",
         "x": [
          -0.3167941770433853
         ],
         "y": [
          0.9659984849189996
         ],
         "z": [
          -0.6071318452085889
         ]
        },
        {
         "hovertemplate": "CoinName=Frankywillcoin<br>Algorithm=Scrypt<br>0=%{x}<br>1=%{y}<br>2=%{z}<extra></extra>",
         "legendgroup": "Frankywillcoin, Scrypt",
         "marker": {
          "color": "#636efa",
          "symbol": "circle"
         },
         "mode": "markers",
         "name": "Frankywillcoin, Scrypt",
         "scene": "scene",
         "showlegend": true,
         "type": "scatter3d",
         "x": [
          -0.3152788314704605
         ],
         "y": [
          0.9659989865332239
         ],
         "z": [
          -0.6071611513590377
         ]
        },
        {
         "hovertemplate": "CoinName=MudraCoin<br>Algorithm=X13<br>0=%{x}<br>1=%{y}<br>2=%{z}<extra></extra>",
         "legendgroup": "MudraCoin, X13",
         "marker": {
          "color": "#EF553B",
          "symbol": "diamond"
         },
         "mode": "markers",
         "name": "MudraCoin, X13",
         "scene": "scene",
         "showlegend": true,
         "type": "scatter3d",
         "x": [
          -0.18484269075405213
         ],
         "y": [
          1.6878210014824742
         ],
         "z": [
          -0.39660710945650685
         ]
        },
        {
         "hovertemplate": "CoinName=PizzaCoin<br>Algorithm=X11<br>0=%{x}<br>1=%{y}<br>2=%{z}<extra></extra>",
         "legendgroup": "PizzaCoin, X11",
         "marker": {
          "color": "#00cc96",
          "symbol": "x"
         },
         "mode": "markers",
         "name": "PizzaCoin, X11",
         "scene": "scene",
         "showlegend": true,
         "type": "scatter3d",
         "x": [
          -0.23577290291290157
         ],
         "y": [
          -0.9039492198637569
         ],
         "z": [
          0.06543357484764653
         ]
        },
        {
         "hovertemplate": "CoinName=Lutetium Coin<br>Algorithm=X11<br>0=%{x}<br>1=%{y}<br>2=%{z}<extra></extra>",
         "legendgroup": "Lutetium Coin, X11",
         "marker": {
          "color": "#ab63fa",
          "symbol": "x"
         },
         "mode": "markers",
         "name": "Lutetium Coin, X11",
         "scene": "scene",
         "showlegend": true,
         "type": "scatter3d",
         "x": [
          -0.31585116606494434
         ],
         "y": [
          1.1245240196032853
         ],
         "z": [
          -0.2763664759996481
         ]
        },
        {
         "hovertemplate": "CoinName=Komodo<br>Algorithm=Equihash<br>0=%{x}<br>1=%{y}<br>2=%{z}<extra></extra>",
         "legendgroup": "Komodo, Equihash",
         "marker": {
          "color": "#FFA15A",
          "symbol": "circle"
         },
         "mode": "markers",
         "name": "Komodo, Equihash",
         "scene": "scene",
         "showlegend": true,
         "type": "scatter3d",
         "x": [
          -0.2596691250991707
         ],
         "y": [
          -1.2659116968308932
         ],
         "z": [
          0.5070253903798321
         ]
        },
        {
         "hovertemplate": "CoinName=GoldBlocks<br>Algorithm=X11<br>0=%{x}<br>1=%{y}<br>2=%{z}<extra></extra>",
         "legendgroup": "GoldBlocks, X11",
         "marker": {
          "color": "#19d3f3",
          "symbol": "x"
         },
         "mode": "markers",
         "name": "GoldBlocks, X11",
         "scene": "scene",
         "showlegend": true,
         "type": "scatter3d",
         "x": [
          -0.3681513576202884
         ],
         "y": [
          1.2094517600494918
         ],
         "z": [
          -0.5648160148345052
         ]
        },
        {
         "hovertemplate": "CoinName=CarterCoin<br>Algorithm=Scrypt<br>0=%{x}<br>1=%{y}<br>2=%{z}<extra></extra>",
         "legendgroup": "CarterCoin, Scrypt",
         "marker": {
          "color": "#FF6692",
          "symbol": "circle"
         },
         "mode": "markers",
         "name": "CarterCoin, Scrypt",
         "scene": "scene",
         "showlegend": true,
         "type": "scatter3d",
         "x": [
          -0.3160237438639524
         ],
         "y": [
          0.9659862290959458
         ],
         "z": [
          -0.6071444388719843
         ]
        },
        {
         "hovertemplate": "CoinName=Karbo<br>Algorithm=CryptoNight<br>0=%{x}<br>1=%{y}<br>2=%{z}<extra></extra>",
         "legendgroup": "Karbo, CryptoNight",
         "marker": {
          "color": "#B6E880",
          "symbol": "diamond"
         },
         "mode": "markers",
         "name": "Karbo, CryptoNight",
         "scene": "scene",
         "showlegend": true,
         "type": "scatter3d",
         "x": [
          0.2501897419519437
         ],
         "y": [
          -2.2310645956925232
         ],
         "z": [
          0.4734585095079404
         ]
        },
        {
         "hovertemplate": "CoinName=BitTokens<br>Algorithm=SHA-256<br>0=%{x}<br>1=%{y}<br>2=%{z}<extra></extra>",
         "legendgroup": "BitTokens, SHA-256",
         "marker": {
          "color": "#FF97FF",
          "symbol": "square"
         },
         "mode": "markers",
         "name": "BitTokens, SHA-256",
         "scene": "scene",
         "showlegend": true,
         "type": "scatter3d",
         "x": [
          -0.28953225207467165
         ],
         "y": [
          0.8704276676404854
         ],
         "z": [
          -0.426020282655648
         ]
        },
        {
         "hovertemplate": "CoinName=ZayedCoin<br>Algorithm=SHA-256<br>0=%{x}<br>1=%{y}<br>2=%{z}<extra></extra>",
         "legendgroup": "ZayedCoin, SHA-256",
         "marker": {
          "color": "#FECB52",
          "symbol": "square"
         },
         "mode": "markers",
         "name": "ZayedCoin, SHA-256",
         "scene": "scene",
         "showlegend": true,
         "type": "scatter3d",
         "x": [
          -0.15682424013549356
         ],
         "y": [
          -1.2429743772910171
         ],
         "z": [
          0.2042231499571185
         ]
        },
        {
         "hovertemplate": "CoinName=MustangCoin<br>Algorithm=X11<br>0=%{x}<br>1=%{y}<br>2=%{z}<extra></extra>",
         "legendgroup": "MustangCoin, X11",
         "marker": {
          "color": "#636efa",
          "symbol": "x"
         },
         "mode": "markers",
         "name": "MustangCoin, X11",
         "scene": "scene",
         "showlegend": true,
         "type": "scatter3d",
         "x": [
          -0.3686481497260593
         ],
         "y": [
          1.209472309580232
         ],
         "z": [
          -0.5648102254012017
         ]
        },
        {
         "hovertemplate": "CoinName=ZoneCoin<br>Algorithm=Scrypt<br>0=%{x}<br>1=%{y}<br>2=%{z}<extra></extra>",
         "legendgroup": "ZoneCoin, Scrypt",
         "marker": {
          "color": "#EF553B",
          "symbol": "circle"
         },
         "mode": "markers",
         "name": "ZoneCoin, Scrypt",
         "scene": "scene",
         "showlegend": true,
         "type": "scatter3d",
         "x": [
          -0.3169758228347686
         ],
         "y": [
          0.9660104283853596
         ],
         "z": [
          -0.6071305449416213
         ]
        },
        {
         "hovertemplate": "CoinName=Circuits of Value<br>Algorithm=Multiple<br>0=%{x}<br>1=%{y}<br>2=%{z}<extra></extra>",
         "legendgroup": "Circuits of Value, Multiple",
         "marker": {
          "color": "#00cc96",
          "symbol": "square"
         },
         "mode": "markers",
         "name": "Circuits of Value, Multiple",
         "scene": "scene",
         "showlegend": true,
         "type": "scatter3d",
         "x": [
          -0.1124958267986439
         ],
         "y": [
          -1.8787093353424016
         ],
         "z": [
          0.4173184646822855
         ]
        },
        {
         "hovertemplate": "CoinName=DopeCoin<br>Algorithm=Scrypt<br>0=%{x}<br>1=%{y}<br>2=%{z}<extra></extra>",
         "legendgroup": "DopeCoin, Scrypt",
         "marker": {
          "color": "#ab63fa",
          "symbol": "circle"
         },
         "mode": "markers",
         "name": "DopeCoin, Scrypt",
         "scene": "scene",
         "showlegend": true,
         "type": "scatter3d",
         "x": [
          -0.1816817165535076
         ],
         "y": [
          -1.14745939575082
         ],
         "z": [
          0.023075525590675414
         ]
        },
        {
         "hovertemplate": "CoinName=DollarCoin<br>Algorithm=SHA-256<br>0=%{x}<br>1=%{y}<br>2=%{z}<extra></extra>",
         "legendgroup": "DollarCoin, SHA-256",
         "marker": {
          "color": "#FFA15A",
          "symbol": "square"
         },
         "mode": "markers",
         "name": "DollarCoin, SHA-256",
         "scene": "scene",
         "showlegend": true,
         "type": "scatter3d",
         "x": [
          -0.15678401009586634
         ],
         "y": [
          -1.242973949290529
         ],
         "z": [
          0.20422229548414794
         ]
        },
        {
         "hovertemplate": "CoinName=Swiscoin<br>Algorithm=Scrypt<br>0=%{x}<br>1=%{y}<br>2=%{z}<extra></extra>",
         "legendgroup": "Swiscoin, Scrypt",
         "marker": {
          "color": "#19d3f3",
          "symbol": "circle"
         },
         "mode": "markers",
         "name": "Swiscoin, Scrypt",
         "scene": "scene",
         "showlegend": true,
         "type": "scatter3d",
         "x": [
          -0.2373639372832029
         ],
         "y": [
          0.26415948347866536
         ],
         "z": [
          -0.3426852022867807
         ]
        },
        {
         "hovertemplate": "CoinName=Shilling<br>Algorithm=Scrypt<br>0=%{x}<br>1=%{y}<br>2=%{z}<extra></extra>",
         "legendgroup": "Shilling, Scrypt",
         "marker": {
          "color": "#FF6692",
          "symbol": "circle"
         },
         "mode": "markers",
         "name": "Shilling, Scrypt",
         "scene": "scene",
         "showlegend": true,
         "type": "scatter3d",
         "x": [
          -0.18409576263337882
         ],
         "y": [
          -1.1474016058109628
         ],
         "z": [
          0.02311141220235201
         ]
        },
        {
         "hovertemplate": "CoinName=BuzzCoin<br>Algorithm=SHA-256D<br>0=%{x}<br>1=%{y}<br>2=%{z}<extra></extra>",
         "legendgroup": "BuzzCoin, SHA-256D",
         "marker": {
          "color": "#B6E880",
          "symbol": "circle"
         },
         "mode": "markers",
         "name": "BuzzCoin, SHA-256D",
         "scene": "scene",
         "showlegend": true,
         "type": "scatter3d",
         "x": [
          0.051648436842590455
         ],
         "y": [
          1.9043376227232327
         ],
         "z": [
          -0.8067395924312821
         ]
        },
        {
         "hovertemplate": "CoinName=Opair<br>Algorithm=PoS<br>0=%{x}<br>1=%{y}<br>2=%{z}<extra></extra>",
         "legendgroup": "Opair, PoS",
         "marker": {
          "color": "#FF97FF",
          "symbol": "square"
         },
         "mode": "markers",
         "name": "Opair, PoS",
         "scene": "scene",
         "showlegend": true,
         "type": "scatter3d",
         "x": [
          -0.32435597613671663
         ],
         "y": [
          1.802780839459224
         ],
         "z": [
          -0.2202903284073102
         ]
        },
        {
         "hovertemplate": "CoinName=Halloween Coin<br>Algorithm=X11<br>0=%{x}<br>1=%{y}<br>2=%{z}<extra></extra>",
         "legendgroup": "Halloween Coin, X11",
         "marker": {
          "color": "#FECB52",
          "symbol": "x"
         },
         "mode": "markers",
         "name": "Halloween Coin, X11",
         "scene": "scene",
         "showlegend": true,
         "type": "scatter3d",
         "x": [
          -0.3553352665610411
         ],
         "y": [
          1.2087505091861415
         ],
         "z": [
          -0.5649338253411901
         ]
        },
        {
         "hovertemplate": "CoinName=ZCoin<br>Algorithm=Lyra2Z<br>0=%{x}<br>1=%{y}<br>2=%{z}<extra></extra>",
         "legendgroup": "ZCoin, Lyra2Z",
         "marker": {
          "color": "#636efa",
          "symbol": "diamond"
         },
         "mode": "markers",
         "name": "ZCoin, Lyra2Z",
         "scene": "scene",
         "showlegend": true,
         "type": "scatter3d",
         "x": [
          -0.17654541251050096
         ],
         "y": [
          -2.1326123349389654
         ],
         "z": [
          0.4659446213160682
         ]
        },
        {
         "hovertemplate": "CoinName=CoffeeCoin<br>Algorithm=PoS<br>0=%{x}<br>1=%{y}<br>2=%{z}<extra></extra>",
         "legendgroup": "CoffeeCoin, PoS",
         "marker": {
          "color": "#EF553B",
          "symbol": "square"
         },
         "mode": "markers",
         "name": "CoffeeCoin, PoS",
         "scene": "scene",
         "showlegend": true,
         "type": "scatter3d",
         "x": [
          -0.3236973182753965
         ],
         "y": [
          1.8028229866914014
         ],
         "z": [
          -0.22031079560863243
         ]
        },
        {
         "hovertemplate": "CoinName=RoyalCoin<br>Algorithm=X13<br>0=%{x}<br>1=%{y}<br>2=%{z}<extra></extra>",
         "legendgroup": "RoyalCoin, X13",
         "marker": {
          "color": "#00cc96",
          "symbol": "diamond"
         },
         "mode": "markers",
         "name": "RoyalCoin, X13",
         "scene": "scene",
         "showlegend": true,
         "type": "scatter3d",
         "x": [
          -0.1862139333073431
         ],
         "y": [
          1.6879265497440221
         ],
         "z": [
          -0.3966001301446633
         ]
        },
        {
         "hovertemplate": "CoinName=GanjaCoin V2<br>Algorithm=X14<br>0=%{x}<br>1=%{y}<br>2=%{z}<extra></extra>",
         "legendgroup": "GanjaCoin V2, X14",
         "marker": {
          "color": "#ab63fa",
          "symbol": "square"
         },
         "mode": "markers",
         "name": "GanjaCoin V2, X14",
         "scene": "scene",
         "showlegend": true,
         "type": "scatter3d",
         "x": [
          -0.38102742798098177
         ],
         "y": [
          1.9007499051524523
         ],
         "z": [
          -0.7938623682072456
         ]
        },
        {
         "hovertemplate": "CoinName=TeamUP<br>Algorithm=PoS<br>0=%{x}<br>1=%{y}<br>2=%{z}<extra></extra>",
         "legendgroup": "TeamUP, PoS",
         "marker": {
          "color": "#FFA15A",
          "symbol": "square"
         },
         "mode": "markers",
         "name": "TeamUP, PoS",
         "scene": "scene",
         "showlegend": true,
         "type": "scatter3d",
         "x": [
          -0.3234837517415684
         ],
         "y": [
          1.8026406641596355
         ],
         "z": [
          -0.2202813043794307
         ]
        },
        {
         "hovertemplate": "CoinName=LanaCoin<br>Algorithm=SHA-256D<br>0=%{x}<br>1=%{y}<br>2=%{z}<extra></extra>",
         "legendgroup": "LanaCoin, SHA-256D",
         "marker": {
          "color": "#19d3f3",
          "symbol": "circle"
         },
         "mode": "markers",
         "name": "LanaCoin, SHA-256D",
         "scene": "scene",
         "showlegend": true,
         "type": "scatter3d",
         "x": [
          -0.25352627316759735
         ],
         "y": [
          1.9051612088284346
         ],
         "z": [
          -0.8010080785537123
         ]
        },
        {
         "hovertemplate": "CoinName=Elementrem<br>Algorithm=Ethash<br>0=%{x}<br>1=%{y}<br>2=%{z}<extra></extra>",
         "legendgroup": "Elementrem, Ethash",
         "marker": {
          "color": "#FF6692",
          "symbol": "cross"
         },
         "mode": "markers",
         "name": "Elementrem, Ethash",
         "scene": "scene",
         "showlegend": true,
         "type": "scatter3d",
         "x": [
          -0.17509130767751263
         ],
         "y": [
          -1.9143711659149192
         ],
         "z": [
          0.4260224748911973
         ]
        },
        {
         "hovertemplate": "CoinName=ZClassic<br>Algorithm=Equihash<br>0=%{x}<br>1=%{y}<br>2=%{z}<extra></extra>",
         "legendgroup": "ZClassic, Equihash",
         "marker": {
          "color": "#B6E880",
          "symbol": "circle"
         },
         "mode": "markers",
         "name": "ZClassic, Equihash",
         "scene": "scene",
         "showlegend": true,
         "type": "scatter3d",
         "x": [
          -0.17226353886395462
         ],
         "y": [
          -1.9528534784672278
         ],
         "z": [
          0.4489200174607276
         ]
        },
        {
         "hovertemplate": "CoinName=ARK<br>Algorithm=DPoS<br>0=%{x}<br>1=%{y}<br>2=%{z}<extra></extra>",
         "legendgroup": "ARK, DPoS",
         "marker": {
          "color": "#FF97FF",
          "symbol": "x"
         },
         "mode": "markers",
         "name": "ARK, DPoS",
         "scene": "scene",
         "showlegend": true,
         "type": "scatter3d",
         "x": [
          4.178006968486555
         ],
         "y": [
          1.7891686339151824
         ],
         "z": [
          -0.2736762323989625
         ]
        },
        {
         "hovertemplate": "CoinName=InsaneCoin<br>Algorithm=X11<br>0=%{x}<br>1=%{y}<br>2=%{z}<extra></extra>",
         "legendgroup": "InsaneCoin, X11",
         "marker": {
          "color": "#FECB52",
          "symbol": "x"
         },
         "mode": "markers",
         "name": "InsaneCoin, X11",
         "scene": "scene",
         "showlegend": true,
         "type": "scatter3d",
         "x": [
          -0.36825410063104147
         ],
         "y": [
          1.2094634163576123
         ],
         "z": [
          -0.5648161827663613
         ]
        },
        {
         "hovertemplate": "CoinName=KiloCoin<br>Algorithm=Scrypt<br>0=%{x}<br>1=%{y}<br>2=%{z}<extra></extra>",
         "legendgroup": "KiloCoin, Scrypt",
         "marker": {
          "color": "#636efa",
          "symbol": "circle"
         },
         "mode": "markers",
         "name": "KiloCoin, Scrypt",
         "scene": "scene",
         "showlegend": true,
         "type": "scatter3d",
         "x": [
          -0.11417143124086172
         ],
         "y": [
          -1.1527109645884444
         ],
         "z": [
          0.022742074000998334
         ]
        },
        {
         "hovertemplate": "CoinName=ArtexCoin<br>Algorithm=X11<br>0=%{x}<br>1=%{y}<br>2=%{z}<extra></extra>",
         "legendgroup": "ArtexCoin, X11",
         "marker": {
          "color": "#EF553B",
          "symbol": "x"
         },
         "mode": "markers",
         "name": "ArtexCoin, X11",
         "scene": "scene",
         "showlegend": true,
         "type": "scatter3d",
         "x": [
          -0.22274784391746985
         ],
         "y": [
          -0.903942401435783
         ],
         "z": [
          0.06518121354891397
         ]
        },
        {
         "hovertemplate": "CoinName=EmberCoin<br>Algorithm=X13<br>0=%{x}<br>1=%{y}<br>2=%{z}<extra></extra>",
         "legendgroup": "EmberCoin, X13",
         "marker": {
          "color": "#00cc96",
          "symbol": "diamond"
         },
         "mode": "markers",
         "name": "EmberCoin, X13",
         "scene": "scene",
         "showlegend": true,
         "type": "scatter3d",
         "x": [
          0.8771403472044341
         ],
         "y": [
          1.8017037915612102
         ],
         "z": [
          -0.7118758666195216
         ]
        },
        {
         "hovertemplate": "CoinName=XenixCoin<br>Algorithm=X11<br>0=%{x}<br>1=%{y}<br>2=%{z}<extra></extra>",
         "legendgroup": "XenixCoin, X11",
         "marker": {
          "color": "#ab63fa",
          "symbol": "x"
         },
         "mode": "markers",
         "name": "XenixCoin, X11",
         "scene": "scene",
         "showlegend": true,
         "type": "scatter3d",
         "x": [
          -0.36860428793273126
         ],
         "y": [
          1.2094728701877429
         ],
         "z": [
          -0.5648111743333248
         ]
        },
        {
         "hovertemplate": "CoinName=FreeCoin<br>Algorithm=PoS<br>0=%{x}<br>1=%{y}<br>2=%{z}<extra></extra>",
         "legendgroup": "FreeCoin, PoS",
         "marker": {
          "color": "#FFA15A",
          "symbol": "square"
         },
         "mode": "markers",
         "name": "FreeCoin, PoS",
         "scene": "scene",
         "showlegend": true,
         "type": "scatter3d",
         "x": [
          -0.32480527090481787
         ],
         "y": [
          1.8027860907575801
         ],
         "z": [
          -0.22028263464962516
         ]
        },
        {
         "hovertemplate": "CoinName=PLNCoin<br>Algorithm=Scrypt<br>0=%{x}<br>1=%{y}<br>2=%{z}<extra></extra>",
         "legendgroup": "PLNCoin, Scrypt",
         "marker": {
          "color": "#19d3f3",
          "symbol": "circle"
         },
         "mode": "markers",
         "name": "PLNCoin, Scrypt",
         "scene": "scene",
         "showlegend": true,
         "type": "scatter3d",
         "x": [
          -0.3166838779346934
         ],
         "y": [
          0.9660056147161976
         ],
         "z": [
          -0.6071352858904738
         ]
        },
        {
         "hovertemplate": "CoinName=AquariusCoin<br>Algorithm=Scrypt<br>0=%{x}<br>1=%{y}<br>2=%{z}<extra></extra>",
         "legendgroup": "AquariusCoin, Scrypt",
         "marker": {
          "color": "#FF6692",
          "symbol": "circle"
         },
         "mode": "markers",
         "name": "AquariusCoin, Scrypt",
         "scene": "scene",
         "showlegend": true,
         "type": "scatter3d",
         "x": [
          -0.3168347629663804
         ],
         "y": [
          0.9659990784155759
         ],
         "z": [
          -0.6071311721727031
         ]
        },
        {
         "hovertemplate": "CoinName=Kurrent<br>Algorithm=X11<br>0=%{x}<br>1=%{y}<br>2=%{z}<extra></extra>",
         "legendgroup": "Kurrent, X11",
         "marker": {
          "color": "#B6E880",
          "symbol": "x"
         },
         "mode": "markers",
         "name": "Kurrent, X11",
         "scene": "scene",
         "showlegend": true,
         "type": "scatter3d",
         "x": [
          -0.2336795396088373
         ],
         "y": [
          -0.9040393793843204
         ],
         "z": [
          0.06540983739661906
         ]
        },
        {
         "hovertemplate": "CoinName=Creatio<br>Algorithm=PoS<br>0=%{x}<br>1=%{y}<br>2=%{z}<extra></extra>",
         "legendgroup": "Creatio, PoS",
         "marker": {
          "color": "#FF97FF",
          "symbol": "square"
         },
         "mode": "markers",
         "name": "Creatio, PoS",
         "scene": "scene",
         "showlegend": true,
         "type": "scatter3d",
         "x": [
          -0.3253663859984915
         ],
         "y": [
          1.8027926683698017
         ],
         "z": [
          -0.22027302964325068
         ]
        },
        {
         "hovertemplate": "CoinName=Eternity<br>Algorithm=X11<br>0=%{x}<br>1=%{y}<br>2=%{z}<extra></extra>",
         "legendgroup": "Eternity, X11",
         "marker": {
          "color": "#FECB52",
          "symbol": "x"
         },
         "mode": "markers",
         "name": "Eternity, X11",
         "scene": "scene",
         "showlegend": true,
         "type": "scatter3d",
         "x": [
          -0.3681965287253677
         ],
         "y": [
          1.209443344735055
         ],
         "z": [
          -0.5648135927606949
         ]
        },
        {
         "hovertemplate": "CoinName=Eurocoin<br>Algorithm=SHA-256<br>0=%{x}<br>1=%{y}<br>2=%{z}<extra></extra>",
         "legendgroup": "Eurocoin, SHA-256",
         "marker": {
          "color": "#636efa",
          "symbol": "square"
         },
         "mode": "markers",
         "name": "Eurocoin, SHA-256",
         "scene": "scene",
         "showlegend": true,
         "type": "scatter3d",
         "x": [
          -0.28939823574417317
         ],
         "y": [
          0.8704319795074525
         ],
         "z": [
          -0.42602366112737455
         ]
        },
        {
         "hovertemplate": "CoinName=BitcoinFast<br>Algorithm=Scrypt<br>0=%{x}<br>1=%{y}<br>2=%{z}<extra></extra>",
         "legendgroup": "BitcoinFast, Scrypt",
         "marker": {
          "color": "#EF553B",
          "symbol": "circle"
         },
         "mode": "markers",
         "name": "BitcoinFast, Scrypt",
         "scene": "scene",
         "showlegend": true,
         "type": "scatter3d",
         "x": [
          -0.31668393265512623
         ],
         "y": [
          0.9660096047166272
         ],
         "z": [
          -0.6071360203336112
         ]
        },
        {
         "hovertemplate": "CoinName=Stakenet<br>Algorithm=X11<br>0=%{x}<br>1=%{y}<br>2=%{z}<extra></extra>",
         "legendgroup": "Stakenet, X11",
         "marker": {
          "color": "#00cc96",
          "symbol": "x"
         },
         "mode": "markers",
         "name": "Stakenet, X11",
         "scene": "scene",
         "showlegend": true,
         "type": "scatter3d",
         "x": [
          -0.36088245268889196
         ],
         "y": [
          0.7301683391216299
         ],
         "z": [
          -0.25775526428061946
         ]
        },
        {
         "hovertemplate": "CoinName=BitConnect Coin<br>Algorithm=Scrypt<br>0=%{x}<br>1=%{y}<br>2=%{z}<extra></extra>",
         "legendgroup": "BitConnect Coin, Scrypt",
         "marker": {
          "color": "#ab63fa",
          "symbol": "circle"
         },
         "mode": "markers",
         "name": "BitConnect Coin, Scrypt",
         "scene": "scene",
         "showlegend": true,
         "type": "scatter3d",
         "x": [
          -0.3168270434344051
         ],
         "y": [
          0.9660093720238075
         ],
         "z": [
          -0.6071332184699159
         ]
        },
        {
         "hovertemplate": "CoinName=MoneyCoin<br>Algorithm=Scrypt<br>0=%{x}<br>1=%{y}<br>2=%{z}<extra></extra>",
         "legendgroup": "MoneyCoin, Scrypt",
         "marker": {
          "color": "#FFA15A",
          "symbol": "circle"
         },
         "mode": "markers",
         "name": "MoneyCoin, Scrypt",
         "scene": "scene",
         "showlegend": true,
         "type": "scatter3d",
         "x": [
          -0.31259977421122737
         ],
         "y": [
          0.9656740400734419
         ],
         "z": [
          -0.6071529006186723
         ]
        },
        {
         "hovertemplate": "CoinName=Enigma<br>Algorithm=X11<br>0=%{x}<br>1=%{y}<br>2=%{z}<extra></extra>",
         "legendgroup": "Enigma, X11",
         "marker": {
          "color": "#19d3f3",
          "symbol": "x"
         },
         "mode": "markers",
         "name": "Enigma, X11",
         "scene": "scene",
         "showlegend": true,
         "type": "scatter3d",
         "x": [
          -0.36863269472697746
         ],
         "y": [
          1.2094712827823828
         ],
         "z": [
          -0.5648103340762499
         ]
        },
        {
         "hovertemplate": "CoinName=Cannabis Industry Coin<br>Algorithm=CryptoNight<br>0=%{x}<br>1=%{y}<br>2=%{z}<extra></extra>",
         "legendgroup": "Cannabis Industry Coin, CryptoNight",
         "marker": {
          "color": "#FF6692",
          "symbol": "diamond"
         },
         "mode": "markers",
         "name": "Cannabis Industry Coin, CryptoNight",
         "scene": "scene",
         "showlegend": true,
         "type": "scatter3d",
         "x": [
          0.25018293005958
         ],
         "y": [
          -2.2310727035335867
         ],
         "z": [
          0.47346013539304116
         ]
        },
        {
         "hovertemplate": "CoinName=Russiacoin<br>Algorithm=Scrypt<br>0=%{x}<br>1=%{y}<br>2=%{z}<extra></extra>",
         "legendgroup": "Russiacoin, Scrypt",
         "marker": {
          "color": "#B6E880",
          "symbol": "circle"
         },
         "mode": "markers",
         "name": "Russiacoin, Scrypt",
         "scene": "scene",
         "showlegend": true,
         "type": "scatter3d",
         "x": [
          -0.31607133976986906
         ],
         "y": [
          0.9659460476207706
         ],
         "z": [
          -0.6071361144255947
         ]
        },
        {
         "hovertemplate": "CoinName=PandaCoin<br>Algorithm=Scrypt<br>0=%{x}<br>1=%{y}<br>2=%{z}<extra></extra>",
         "legendgroup": "PandaCoin, Scrypt",
         "marker": {
          "color": "#FF97FF",
          "symbol": "circle"
         },
         "mode": "markers",
         "name": "PandaCoin, Scrypt",
         "scene": "scene",
         "showlegend": true,
         "type": "scatter3d",
         "x": [
          0.3470052115622563
         ],
         "y": [
          0.8745006542018463
         ],
         "z": [
          -0.32926003242461604
         ]
        },
        {
         "hovertemplate": "CoinName=GameUnits<br>Algorithm=Scrypt<br>0=%{x}<br>1=%{y}<br>2=%{z}<extra></extra>",
         "legendgroup": "GameUnits, Scrypt",
         "marker": {
          "color": "#FECB52",
          "symbol": "circle"
         },
         "mode": "markers",
         "name": "GameUnits, Scrypt",
         "scene": "scene",
         "showlegend": true,
         "type": "scatter3d",
         "x": [
          -0.31701954729823656
         ],
         "y": [
          0.9660150205030041
         ],
         "z": [
          -0.6071305484863418
         ]
        },
        {
         "hovertemplate": "CoinName=GAKHcoin<br>Algorithm=Scrypt<br>0=%{x}<br>1=%{y}<br>2=%{z}<extra></extra>",
         "legendgroup": "GAKHcoin, Scrypt",
         "marker": {
          "color": "#636efa",
          "symbol": "circle"
         },
         "mode": "markers",
         "name": "GAKHcoin, Scrypt",
         "scene": "scene",
         "showlegend": true,
         "type": "scatter3d",
         "x": [
          -0.31708719714086037
         ],
         "y": [
          0.9660201849081497
         ],
         "z": [
          -0.6071301962769388
         ]
        },
        {
         "hovertemplate": "CoinName=Allsafe<br>Algorithm=Quark<br>0=%{x}<br>1=%{y}<br>2=%{z}<extra></extra>",
         "legendgroup": "Allsafe, Quark",
         "marker": {
          "color": "#EF553B",
          "symbol": "cross"
         },
         "mode": "markers",
         "name": "Allsafe, Quark",
         "scene": "scene",
         "showlegend": true,
         "type": "scatter3d",
         "x": [
          -0.32906243734156254
         ],
         "y": [
          1.6623654193345743
         ],
         "z": [
          -0.31219324173464197
         ]
        },
        {
         "hovertemplate": "CoinName=LiteCreed<br>Algorithm=QuBit<br>0=%{x}<br>1=%{y}<br>2=%{z}<extra></extra>",
         "legendgroup": "LiteCreed, QuBit",
         "marker": {
          "color": "#00cc96",
          "symbol": "cross"
         },
         "mode": "markers",
         "name": "LiteCreed, QuBit",
         "scene": "scene",
         "showlegend": true,
         "type": "scatter3d",
         "x": [
          -0.34560336077465326
         ],
         "y": [
          0.9464099903896475
         ],
         "z": [
          -0.48080695861771827
         ]
        },
        {
         "hovertemplate": "CoinName=OsmiumCoin<br>Algorithm=Scrypt<br>0=%{x}<br>1=%{y}<br>2=%{z}<extra></extra>",
         "legendgroup": "OsmiumCoin, Scrypt",
         "marker": {
          "color": "#ab63fa",
          "symbol": "circle"
         },
         "mode": "markers",
         "name": "OsmiumCoin, Scrypt",
         "scene": "scene",
         "showlegend": true,
         "type": "scatter3d",
         "x": [
          -0.18440289176495636
         ],
         "y": [
          -1.147390177445192
         ],
         "z": [
          0.023115226559049462
         ]
        },
        {
         "hovertemplate": "CoinName=Bikercoins<br>Algorithm=CryptoNight<br>0=%{x}<br>1=%{y}<br>2=%{z}<extra></extra>",
         "legendgroup": "Bikercoins, CryptoNight",
         "marker": {
          "color": "#FFA15A",
          "symbol": "diamond"
         },
         "mode": "markers",
         "name": "Bikercoins, CryptoNight",
         "scene": "scene",
         "showlegend": true,
         "type": "scatter3d",
         "x": [
          0.2503099056414231
         ],
         "y": [
          -2.2310721827523303
         ],
         "z": [
          0.4734575914878884
         ]
        },
        {
         "hovertemplate": "CoinName=HexxCoin<br>Algorithm=Lyra2RE<br>0=%{x}<br>1=%{y}<br>2=%{z}<extra></extra>",
         "legendgroup": "HexxCoin, Lyra2RE",
         "marker": {
          "color": "#19d3f3",
          "symbol": "diamond"
         },
         "mode": "markers",
         "name": "HexxCoin, Lyra2RE",
         "scene": "scene",
         "showlegend": true,
         "type": "scatter3d",
         "x": [
          -0.17700014402951125
         ],
         "y": [
          -2.132573192441954
         ],
         "z": [
          0.46595014026456916
         ]
        },
        {
         "hovertemplate": "CoinName=Klingon Empire Darsek<br>Algorithm=Scrypt<br>0=%{x}<br>1=%{y}<br>2=%{z}<extra></extra>",
         "legendgroup": "Klingon Empire Darsek, Scrypt",
         "marker": {
          "color": "#FF6692",
          "symbol": "circle"
         },
         "mode": "markers",
         "name": "Klingon Empire Darsek, Scrypt",
         "scene": "scene",
         "showlegend": true,
         "type": "scatter3d",
         "x": [
          -0.3134676329830064
         ],
         "y": [
          0.9657593306948
         ],
         "z": [
          -0.607151891623911
         ]
        },
        {
         "hovertemplate": "CoinName=Internet of People<br>Algorithm=SHA-256<br>0=%{x}<br>1=%{y}<br>2=%{z}<extra></extra>",
         "legendgroup": "Internet of People, SHA-256",
         "marker": {
          "color": "#B6E880",
          "symbol": "square"
         },
         "mode": "markers",
         "name": "Internet of People, SHA-256",
         "scene": "scene",
         "showlegend": true,
         "type": "scatter3d",
         "x": [
          -0.2895092549421898
         ],
         "y": [
          0.8704282839203811
         ],
         "z": [
          -0.42602083960947845
         ]
        },
        {
         "hovertemplate": "CoinName=KushCoin<br>Algorithm=X11<br>0=%{x}<br>1=%{y}<br>2=%{z}<extra></extra>",
         "legendgroup": "KushCoin, X11",
         "marker": {
          "color": "#FF97FF",
          "symbol": "x"
         },
         "mode": "markers",
         "name": "KushCoin, X11",
         "scene": "scene",
         "showlegend": true,
         "type": "scatter3d",
         "x": [
          -0.3685454164631354
         ],
         "y": [
          1.2094704846997737
         ],
         "z": [
          -0.5648118695609398
         ]
        },
        {
         "hovertemplate": "CoinName=Printerium<br>Algorithm=Scrypt<br>0=%{x}<br>1=%{y}<br>2=%{z}<extra></extra>",
         "legendgroup": "Printerium, Scrypt",
         "marker": {
          "color": "#FECB52",
          "symbol": "circle"
         },
         "mode": "markers",
         "name": "Printerium, Scrypt",
         "scene": "scene",
         "showlegend": true,
         "type": "scatter3d",
         "x": [
          -0.3168725547263808
         ],
         "y": [
          0.9660139162578084
         ],
         "z": [
          -0.6071331787405021
         ]
        },
        {
         "hovertemplate": "CoinName=PacCoin<br>Algorithm=X11<br>0=%{x}<br>1=%{y}<br>2=%{z}<extra></extra>",
         "legendgroup": "PacCoin, X11",
         "marker": {
          "color": "#636efa",
          "symbol": "x"
         },
         "mode": "markers",
         "name": "PacCoin, X11",
         "scene": "scene",
         "showlegend": true,
         "type": "scatter3d",
         "x": [
          0.4496604172757784
         ],
         "y": [
          -0.9576110218748389
         ],
         "z": [
          0.06211117163154207
         ]
        },
        {
         "hovertemplate": "CoinName=Impeach<br>Algorithm=Scrypt<br>0=%{x}<br>1=%{y}<br>2=%{z}<extra></extra>",
         "legendgroup": "Impeach, Scrypt",
         "marker": {
          "color": "#EF553B",
          "symbol": "circle"
         },
         "mode": "markers",
         "name": "Impeach, Scrypt",
         "scene": "scene",
         "showlegend": true,
         "type": "scatter3d",
         "x": [
          -0.3169965679188251
         ],
         "y": [
          0.9660092000070798
         ],
         "z": [
          -0.6071299185726872
         ]
        },
        {
         "hovertemplate": "CoinName=Citadel<br>Algorithm=CryptoNight-V7<br>0=%{x}<br>1=%{y}<br>2=%{z}<extra></extra>",
         "legendgroup": "Citadel, CryptoNight-V7",
         "marker": {
          "color": "#00cc96",
          "symbol": "circle"
         },
         "mode": "markers",
         "name": "Citadel, CryptoNight-V7",
         "scene": "scene",
         "showlegend": true,
         "type": "scatter3d",
         "x": [
          -0.17205403834673122
         ],
         "y": [
          -2.1329868562860548
         ],
         "z": [
          0.46588260049370445
         ]
        },
        {
         "hovertemplate": "CoinName=Zilbercoin<br>Algorithm=Scrypt<br>0=%{x}<br>1=%{y}<br>2=%{z}<extra></extra>",
         "legendgroup": "Zilbercoin, Scrypt",
         "marker": {
          "color": "#ab63fa",
          "symbol": "circle"
         },
         "mode": "markers",
         "name": "Zilbercoin, Scrypt",
         "scene": "scene",
         "showlegend": true,
         "type": "scatter3d",
         "x": [
          -0.27620405601326453
         ],
         "y": [
          0.881186583669467
         ],
         "z": [
          -0.3184779062975915
         ]
        },
        {
         "hovertemplate": "CoinName=FirstCoin<br>Algorithm=Scrypt<br>0=%{x}<br>1=%{y}<br>2=%{z}<extra></extra>",
         "legendgroup": "FirstCoin, Scrypt",
         "marker": {
          "color": "#FFA15A",
          "symbol": "circle"
         },
         "mode": "markers",
         "name": "FirstCoin, Scrypt",
         "scene": "scene",
         "showlegend": true,
         "type": "scatter3d",
         "x": [
          -0.279411201600707
         ],
         "y": [
          0.26688593180022785
         ],
         "z": [
          -0.34217682475122635
         ]
        },
        {
         "hovertemplate": "CoinName=BeaverCoin<br>Algorithm=Scrypt<br>0=%{x}<br>1=%{y}<br>2=%{z}<extra></extra>",
         "legendgroup": "BeaverCoin, Scrypt",
         "marker": {
          "color": "#19d3f3",
          "symbol": "circle"
         },
         "mode": "markers",
         "name": "BeaverCoin, Scrypt",
         "scene": "scene",
         "showlegend": true,
         "type": "scatter3d",
         "x": [
          -0.18437204748900915
         ],
         "y": [
          -1.147389816101523
         ],
         "z": [
          0.0231145653173234
         ]
        },
        {
         "hovertemplate": "CoinName=FindCoin<br>Algorithm=X13<br>0=%{x}<br>1=%{y}<br>2=%{z}<extra></extra>",
         "legendgroup": "FindCoin, X13",
         "marker": {
          "color": "#FF6692",
          "symbol": "diamond"
         },
         "mode": "markers",
         "name": "FindCoin, X13",
         "scene": "scene",
         "showlegend": true,
         "type": "scatter3d",
         "x": [
          -0.18598902477108134
         ],
         "y": [
          1.6879239132775417
         ],
         "z": [
          -0.3966039800641339
         ]
        },
        {
         "hovertemplate": "CoinName=VaultCoin<br>Algorithm=X11<br>0=%{x}<br>1=%{y}<br>2=%{z}<extra></extra>",
         "legendgroup": "VaultCoin, X11",
         "marker": {
          "color": "#B6E880",
          "symbol": "x"
         },
         "mode": "markers",
         "name": "VaultCoin, X11",
         "scene": "scene",
         "showlegend": true,
         "type": "scatter3d",
         "x": [
          -0.22880494918054986
         ],
         "y": [
          -0.9044649611532483
         ],
         "z": [
          0.0653943120557744
         ]
        },
        {
         "hovertemplate": "CoinName=Zero<br>Algorithm=Equihash<br>0=%{x}<br>1=%{y}<br>2=%{z}<extra></extra>",
         "legendgroup": "Zero, Equihash",
         "marker": {
          "color": "#FF97FF",
          "symbol": "circle"
         },
         "mode": "markers",
         "name": "Zero, Equihash",
         "scene": "scene",
         "showlegend": true,
         "type": "scatter3d",
         "x": [
          -0.17227512617684065
         ],
         "y": [
          -1.952850907059907
         ],
         "z": [
          0.44891976684623813
         ]
        },
        {
         "hovertemplate": "CoinName=OpenChat<br>Algorithm=Scrypt<br>0=%{x}<br>1=%{y}<br>2=%{z}<extra></extra>",
         "legendgroup": "OpenChat, Scrypt",
         "marker": {
          "color": "#FECB52",
          "symbol": "circle"
         },
         "mode": "markers",
         "name": "OpenChat, Scrypt",
         "scene": "scene",
         "showlegend": true,
         "type": "scatter3d",
         "x": [
          -0.29844537866026144
         ],
         "y": [
          0.9658016581666201
         ],
         "z": [
          -0.6074493015502711
         ]
        },
        {
         "hovertemplate": "CoinName=Canada eCoin<br>Algorithm=Scrypt<br>0=%{x}<br>1=%{y}<br>2=%{z}<extra></extra>",
         "legendgroup": "Canada eCoin, Scrypt",
         "marker": {
          "color": "#636efa",
          "symbol": "circle"
         },
         "mode": "markers",
         "name": "Canada eCoin, Scrypt",
         "scene": "scene",
         "showlegend": true,
         "type": "scatter3d",
         "x": [
          -0.18256345872224644
         ],
         "y": [
          -1.1474109766446836
         ],
         "z": [
          0.023083598960516222
         ]
        },
        {
         "hovertemplate": "CoinName=Zoin<br>Algorithm=Lyra2RE<br>0=%{x}<br>1=%{y}<br>2=%{z}<extra></extra>",
         "legendgroup": "Zoin, Lyra2RE",
         "marker": {
          "color": "#EF553B",
          "symbol": "diamond"
         },
         "mode": "markers",
         "name": "Zoin, Lyra2RE",
         "scene": "scene",
         "showlegend": true,
         "type": "scatter3d",
         "x": [
          -0.1767268676585883
         ],
         "y": [
          -2.1325737944450935
         ],
         "z": [
          0.46594498285926356
         ]
        },
        {
         "hovertemplate": "CoinName=RenosCoin<br>Algorithm=Scrypt<br>0=%{x}<br>1=%{y}<br>2=%{z}<extra></extra>",
         "legendgroup": "RenosCoin, Scrypt",
         "marker": {
          "color": "#00cc96",
          "symbol": "circle"
         },
         "mode": "markers",
         "name": "RenosCoin, Scrypt",
         "scene": "scene",
         "showlegend": true,
         "type": "scatter3d",
         "x": [
          -0.27594919186587985
         ],
         "y": [
          0.8812082364283608
         ],
         "z": [
          -0.31848681108071397
         ]
        },
        {
         "hovertemplate": "CoinName=VirtacoinPlus<br>Algorithm=X11<br>0=%{x}<br>1=%{y}<br>2=%{z}<extra></extra>",
         "legendgroup": "VirtacoinPlus, X11",
         "marker": {
          "color": "#ab63fa",
          "symbol": "x"
         },
         "mode": "markers",
         "name": "VirtacoinPlus, X11",
         "scene": "scene",
         "showlegend": true,
         "type": "scatter3d",
         "x": [
          -0.3678403472474712
         ],
         "y": [
          1.2094240704736055
         ],
         "z": [
          -0.5648169065003315
         ]
        },
        {
         "hovertemplate": "CoinName=TajCoin<br>Algorithm=Blake2S<br>0=%{x}<br>1=%{y}<br>2=%{z}<extra></extra>",
         "legendgroup": "TajCoin, Blake2S",
         "marker": {
          "color": "#FFA15A",
          "symbol": "square"
         },
         "mode": "markers",
         "name": "TajCoin, Blake2S",
         "scene": "scene",
         "showlegend": true,
         "type": "scatter3d",
         "x": [
          -0.38333050293895315
         ],
         "y": [
          1.9007612187454492
         ],
         "z": [
          -0.7938078573101788
         ]
        },
        {
         "hovertemplate": "CoinName=Impact<br>Algorithm=X11<br>0=%{x}<br>1=%{y}<br>2=%{z}<extra></extra>",
         "legendgroup": "Impact, X11",
         "marker": {
          "color": "#19d3f3",
          "symbol": "x"
         },
         "mode": "markers",
         "name": "Impact, X11",
         "scene": "scene",
         "showlegend": true,
         "type": "scatter3d",
         "x": [
          -0.36661142898585014
         ],
         "y": [
          1.2094497983577952
         ],
         "z": [
          -0.5648453408367323
         ]
        },
        {
         "hovertemplate": "CoinName=EB3coin<br>Algorithm=Scrypt<br>0=%{x}<br>1=%{y}<br>2=%{z}<extra></extra>",
         "legendgroup": "EB3coin, Scrypt",
         "marker": {
          "color": "#FF6692",
          "symbol": "circle"
         },
         "mode": "markers",
         "name": "EB3coin, Scrypt",
         "scene": "scene",
         "showlegend": true,
         "type": "scatter3d",
         "x": [
          -0.1564995614548819
         ],
         "y": [
          -1.1495223905955274
         ],
         "z": [
          0.02297033267222566
         ]
        },
        {
         "hovertemplate": "CoinName=Atmos<br>Algorithm=PoS<br>0=%{x}<br>1=%{y}<br>2=%{z}<extra></extra>",
         "legendgroup": "Atmos, PoS",
         "marker": {
          "color": "#B6E880",
          "symbol": "square"
         },
         "mode": "markers",
         "name": "Atmos, PoS",
         "scene": "scene",
         "showlegend": true,
         "type": "scatter3d",
         "x": [
          -0.32366754112685614
         ],
         "y": [
          1.8027731419318038
         ],
         "z": [
          -0.22030218151877617
         ]
        },
        {
         "hovertemplate": "CoinName=HappyCoin<br>Algorithm=X11<br>0=%{x}<br>1=%{y}<br>2=%{z}<extra></extra>",
         "legendgroup": "HappyCoin, X11",
         "marker": {
          "color": "#FF97FF",
          "symbol": "x"
         },
         "mode": "markers",
         "name": "HappyCoin, X11",
         "scene": "scene",
         "showlegend": true,
         "type": "scatter3d",
         "x": [
          -0.3677407832347604
         ],
         "y": [
          1.209426738601878
         ],
         "z": [
          -0.5648193177817522
         ]
        },
        {
         "hovertemplate": "CoinName=Coinonat<br>Algorithm=NIST5<br>0=%{x}<br>1=%{y}<br>2=%{z}<extra></extra>",
         "legendgroup": "Coinonat, NIST5",
         "marker": {
          "color": "#FECB52",
          "symbol": "x"
         },
         "mode": "markers",
         "name": "Coinonat, NIST5",
         "scene": "scene",
         "showlegend": true,
         "type": "scatter3d",
         "x": [
          -0.19877944221354768
         ],
         "y": [
          -0.631132253908372
         ],
         "z": [
          -0.0009425693171069935
         ]
        },
        {
         "hovertemplate": "CoinName=MacronCoin<br>Algorithm=PoS<br>0=%{x}<br>1=%{y}<br>2=%{z}<extra></extra>",
         "legendgroup": "MacronCoin, PoS",
         "marker": {
          "color": "#636efa",
          "symbol": "square"
         },
         "mode": "markers",
         "name": "MacronCoin, PoS",
         "scene": "scene",
         "showlegend": true,
         "type": "scatter3d",
         "x": [
          -0.31824199697911304
         ],
         "y": [
          1.8027098056717554
         ],
         "z": [
          -0.22039510310313914
         ]
        },
        {
         "hovertemplate": "CoinName=Condensate<br>Algorithm=X11<br>0=%{x}<br>1=%{y}<br>2=%{z}<extra></extra>",
         "legendgroup": "Condensate, X11",
         "marker": {
          "color": "#EF553B",
          "symbol": "x"
         },
         "mode": "markers",
         "name": "Condensate, X11",
         "scene": "scene",
         "showlegend": true,
         "type": "scatter3d",
         "x": [
          -0.3638310131102888
         ],
         "y": [
          1.2092433205361781
         ],
         "z": [
          -0.5648608821010307
         ]
        },
        {
         "hovertemplate": "CoinName=Independent Money System<br>Algorithm=Scrypt<br>0=%{x}<br>1=%{y}<br>2=%{z}<extra></extra>",
         "legendgroup": "Independent Money System, Scrypt",
         "marker": {
          "color": "#00cc96",
          "symbol": "circle"
         },
         "mode": "markers",
         "name": "Independent Money System, Scrypt",
         "scene": "scene",
         "showlegend": true,
         "type": "scatter3d",
         "x": [
          -0.316941184847471
         ],
         "y": [
          0.9660112037890395
         ],
         "z": [
          -0.6071313556465422
         ]
        },
        {
         "hovertemplate": "CoinName=ArgusCoin<br>Algorithm=Scrypt<br>0=%{x}<br>1=%{y}<br>2=%{z}<extra></extra>",
         "legendgroup": "ArgusCoin, Scrypt",
         "marker": {
          "color": "#ab63fa",
          "symbol": "circle"
         },
         "mode": "markers",
         "name": "ArgusCoin, Scrypt",
         "scene": "scene",
         "showlegend": true,
         "type": "scatter3d",
         "x": [
          -0.31694127889373097
         ],
         "y": [
          0.9660058784395329
         ],
         "z": [
          -0.6071303721833763
         ]
        },
        {
         "hovertemplate": "CoinName=LomoCoin<br>Algorithm=Scrypt<br>0=%{x}<br>1=%{y}<br>2=%{z}<extra></extra>",
         "legendgroup": "LomoCoin, Scrypt",
         "marker": {
          "color": "#FFA15A",
          "symbol": "circle"
         },
         "mode": "markers",
         "name": "LomoCoin, Scrypt",
         "scene": "scene",
         "showlegend": true,
         "type": "scatter3d",
         "x": [
          -0.31035102710146906
         ],
         "y": [
          0.9654826091814173
         ],
         "z": [
          -0.6071609657539458
         ]
        },
        {
         "hovertemplate": "CoinName=ProCurrency<br>Algorithm=SHA-256<br>0=%{x}<br>1=%{y}<br>2=%{z}<extra></extra>",
         "legendgroup": "ProCurrency, SHA-256",
         "marker": {
          "color": "#19d3f3",
          "symbol": "square"
         },
         "mode": "markers",
         "name": "ProCurrency, SHA-256",
         "scene": "scene",
         "showlegend": true,
         "type": "scatter3d",
         "x": [
          0.26146986890078916
         ],
         "y": [
          0.7452805598530472
         ],
         "z": [
          -0.13977114984744612
         ]
        },
        {
         "hovertemplate": "CoinName=GoldReserve<br>Algorithm=X11<br>0=%{x}<br>1=%{y}<br>2=%{z}<extra></extra>",
         "legendgroup": "GoldReserve, X11",
         "marker": {
          "color": "#FF6692",
          "symbol": "x"
         },
         "mode": "markers",
         "name": "GoldReserve, X11",
         "scene": "scene",
         "showlegend": true,
         "type": "scatter3d",
         "x": [
          -0.3682001319313872
         ],
         "y": [
          1.2094576578034737
         ],
         "z": [
          -0.5648161617003318
         ]
        },
        {
         "hovertemplate": "CoinName=BenjiRolls<br>Algorithm=Scrypt<br>0=%{x}<br>1=%{y}<br>2=%{z}<extra></extra>",
         "legendgroup": "BenjiRolls, Scrypt",
         "marker": {
          "color": "#B6E880",
          "symbol": "circle"
         },
         "mode": "markers",
         "name": "BenjiRolls, Scrypt",
         "scene": "scene",
         "showlegend": true,
         "type": "scatter3d",
         "x": [
          -0.18394919343594376
         ],
         "y": [
          -1.1474016553775495
         ],
         "z": [
          0.02310859569570616
         ]
        },
        {
         "hovertemplate": "CoinName=GrowthCoin<br>Algorithm=Scrypt<br>0=%{x}<br>1=%{y}<br>2=%{z}<extra></extra>",
         "legendgroup": "GrowthCoin, Scrypt",
         "marker": {
          "color": "#FF97FF",
          "symbol": "circle"
         },
         "mode": "markers",
         "name": "GrowthCoin, Scrypt",
         "scene": "scene",
         "showlegend": true,
         "type": "scatter3d",
         "x": [
          -0.2595124405074794
         ],
         "y": [
          0.8802325512897368
         ],
         "z": [
          -0.31862383478112677
         ]
        },
        {
         "hovertemplate": "CoinName=ILCoin<br>Algorithm=SHA-256<br>0=%{x}<br>1=%{y}<br>2=%{z}<extra></extra>",
         "legendgroup": "ILCoin, SHA-256",
         "marker": {
          "color": "#FECB52",
          "symbol": "square"
         },
         "mode": "markers",
         "name": "ILCoin, SHA-256",
         "scene": "scene",
         "showlegend": true,
         "type": "scatter3d",
         "x": [
          -0.12428767621559804
         ],
         "y": [
          -1.2438966474137618
         ],
         "z": [
          0.20376589872970655
         ]
        },
        {
         "hovertemplate": "CoinName=Phreak<br>Algorithm=PoS<br>0=%{x}<br>1=%{y}<br>2=%{z}<extra></extra>",
         "legendgroup": "Phreak, PoS",
         "marker": {
          "color": "#636efa",
          "symbol": "square"
         },
         "mode": "markers",
         "name": "Phreak, PoS",
         "scene": "scene",
         "showlegend": true,
         "type": "scatter3d",
         "x": [
          -0.3254010198971861
         ],
         "y": [
          1.8027845354326777
         ],
         "z": [
          -0.22027086276375493
         ]
        },
        {
         "hovertemplate": "CoinName=Degas Coin<br>Algorithm=Scrypt<br>0=%{x}<br>1=%{y}<br>2=%{z}<extra></extra>",
         "legendgroup": "Degas Coin, Scrypt",
         "marker": {
          "color": "#EF553B",
          "symbol": "circle"
         },
         "mode": "markers",
         "name": "Degas Coin, Scrypt",
         "scene": "scene",
         "showlegend": true,
         "type": "scatter3d",
         "x": [
          -0.3161816135898365
         ],
         "y": [
          0.9659711912635535
         ],
         "z": [
          -0.6071386233666325
         ]
        },
        {
         "hovertemplate": "CoinName=HTML5 Coin<br>Algorithm=X15<br>0=%{x}<br>1=%{y}<br>2=%{z}<extra></extra>",
         "legendgroup": "HTML5 Coin, X15",
         "marker": {
          "color": "#00cc96",
          "symbol": "x"
         },
         "mode": "markers",
         "name": "HTML5 Coin, X15",
         "scene": "scene",
         "showlegend": true,
         "type": "scatter3d",
         "x": [
          0.8720133754266101
         ],
         "y": [
          1.8482892177376435
         ],
         "z": [
          -0.744257294193125
         ]
        },
        {
         "hovertemplate": "CoinName=Ultimate Secure Cash<br>Algorithm=SHA-256<br>0=%{x}<br>1=%{y}<br>2=%{z}<extra></extra>",
         "legendgroup": "Ultimate Secure Cash, SHA-256",
         "marker": {
          "color": "#ab63fa",
          "symbol": "square"
         },
         "mode": "markers",
         "name": "Ultimate Secure Cash, SHA-256",
         "scene": "scene",
         "showlegend": true,
         "type": "scatter3d",
         "x": [
          -0.24766298673840334
         ],
         "y": [
          0.7855287033561714
         ],
         "z": [
          -0.13737495501510807
         ]
        },
        {
         "hovertemplate": "CoinName=EquiTrader<br>Algorithm=Scrypt<br>0=%{x}<br>1=%{y}<br>2=%{z}<extra></extra>",
         "legendgroup": "EquiTrader, Scrypt",
         "marker": {
          "color": "#FFA15A",
          "symbol": "circle"
         },
         "mode": "markers",
         "name": "EquiTrader, Scrypt",
         "scene": "scene",
         "showlegend": true,
         "type": "scatter3d",
         "x": [
          -0.183780064184276
         ],
         "y": [
          -1.147423405904197
         ],
         "z": [
          0.023109344517389715
         ]
        },
        {
         "hovertemplate": "CoinName=QTUM<br>Algorithm=POS 3.0<br>0=%{x}<br>1=%{y}<br>2=%{z}<extra></extra>",
         "legendgroup": "QTUM, POS 3.0",
         "marker": {
          "color": "#19d3f3",
          "symbol": "cross"
         },
         "mode": "markers",
         "name": "QTUM, POS 3.0",
         "scene": "scene",
         "showlegend": true,
         "type": "scatter3d",
         "x": [
          -0.3189384711627947
         ],
         "y": [
          1.7457634025986006
         ],
         "z": [
          -0.21904997941614593
         ]
        },
        {
         "hovertemplate": "CoinName=Quantum Resistant Ledger<br>Algorithm=CryptoNight-V7<br>0=%{x}<br>1=%{y}<br>2=%{z}<extra></extra>",
         "legendgroup": "Quantum Resistant Ledger, CryptoNight-V7",
         "marker": {
          "color": "#FF6692",
          "symbol": "circle"
         },
         "mode": "markers",
         "name": "Quantum Resistant Ledger, CryptoNight-V7",
         "scene": "scene",
         "showlegend": true,
         "type": "scatter3d",
         "x": [
          -0.171905749393729
         ],
         "y": [
          -2.1329252439107766
         ],
         "z": [
          0.46586838435788974
         ]
        },
        {
         "hovertemplate": "CoinName=Espers<br>Algorithm=536<br>0=%{x}<br>1=%{y}<br>2=%{z}<extra></extra>",
         "legendgroup": "Espers, 536",
         "marker": {
          "color": "#B6E880",
          "symbol": "x"
         },
         "mode": "markers",
         "name": "Espers, 536",
         "scene": "scene",
         "showlegend": true,
         "type": "scatter3d",
         "x": [
          0.5706601587484892
         ],
         "y": [
          1.8634097813083907
         ],
         "z": [
          -0.8100769289147332
         ]
        },
        {
         "hovertemplate": "CoinName=Nano<br>Algorithm=Blake2b<br>0=%{x}<br>1=%{y}<br>2=%{z}<extra></extra>",
         "legendgroup": "Nano, Blake2b",
         "marker": {
          "color": "#FF97FF",
          "symbol": "cross"
         },
         "mode": "markers",
         "name": "Nano, Blake2b",
         "scene": "scene",
         "showlegend": true,
         "type": "scatter3d",
         "x": [
          -0.17058050561283064
         ],
         "y": [
          -2.1211067786410207
         ],
         "z": [
          0.46303723439278427
         ]
        },
        {
         "hovertemplate": "CoinName=ChanCoin<br>Algorithm=Cloverhash<br>0=%{x}<br>1=%{y}<br>2=%{z}<extra></extra>",
         "legendgroup": "ChanCoin, Cloverhash",
         "marker": {
          "color": "#FECB52",
          "symbol": "circle"
         },
         "mode": "markers",
         "name": "ChanCoin, Cloverhash",
         "scene": "scene",
         "showlegend": true,
         "type": "scatter3d",
         "x": [
          -0.17600850768285606
         ],
         "y": [
          -2.1208586064858657
         ],
         "z": [
          0.4631229144599863
         ]
        },
        {
         "hovertemplate": "CoinName=Dinastycoin<br>Algorithm=CryptoNight<br>0=%{x}<br>1=%{y}<br>2=%{z}<extra></extra>",
         "legendgroup": "Dinastycoin, CryptoNight",
         "marker": {
          "color": "#636efa",
          "symbol": "diamond"
         },
         "mode": "markers",
         "name": "Dinastycoin, CryptoNight",
         "scene": "scene",
         "showlegend": true,
         "type": "scatter3d",
         "x": [
          0.2851667628306044
         ],
         "y": [
          -2.231561035262817
         ],
         "z": [
          0.4728757141592607
         ]
        },
        {
         "hovertemplate": "CoinName=Denarius<br>Algorithm=NIST5<br>0=%{x}<br>1=%{y}<br>2=%{z}<extra></extra>",
         "legendgroup": "Denarius, NIST5",
         "marker": {
          "color": "#EF553B",
          "symbol": "x"
         },
         "mode": "markers",
         "name": "Denarius, NIST5",
         "scene": "scene",
         "showlegend": true,
         "type": "scatter3d",
         "x": [
          -0.33182739238706577
         ],
         "y": [
          1.48229635667375
         ],
         "z": [
          -0.6311843453973024
         ]
        },
        {
         "hovertemplate": "CoinName=DigitalPrice<br>Algorithm=X11<br>0=%{x}<br>1=%{y}<br>2=%{z}<extra></extra>",
         "legendgroup": "DigitalPrice, X11",
         "marker": {
          "color": "#00cc96",
          "symbol": "x"
         },
         "mode": "markers",
         "name": "DigitalPrice, X11",
         "scene": "scene",
         "showlegend": true,
         "type": "scatter3d",
         "x": [
          -0.23486133713523616
         ],
         "y": [
          -0.9039788277188154
         ],
         "z": [
          0.06542145894319734
         ]
        },
        {
         "hovertemplate": "CoinName=Virta Unique Coin<br>Algorithm=NIST5<br>0=%{x}<br>1=%{y}<br>2=%{z}<extra></extra>",
         "legendgroup": "Virta Unique Coin, NIST5",
         "marker": {
          "color": "#ab63fa",
          "symbol": "x"
         },
         "mode": "markers",
         "name": "Virta Unique Coin, NIST5",
         "scene": "scene",
         "showlegend": true,
         "type": "scatter3d",
         "x": [
          -0.3303801936075746
         ],
         "y": [
          1.4822558859274482
         ],
         "z": [
          -0.6312047851216634
         ]
        },
        {
         "hovertemplate": "CoinName=Bitcoin Planet<br>Algorithm=Skein<br>0=%{x}<br>1=%{y}<br>2=%{z}<extra></extra>",
         "legendgroup": "Bitcoin Planet, Skein",
         "marker": {
          "color": "#FFA15A",
          "symbol": "diamond"
         },
         "mode": "markers",
         "name": "Bitcoin Planet, Skein",
         "scene": "scene",
         "showlegend": true,
         "type": "scatter3d",
         "x": [
          -0.3830600936763413
         ],
         "y": [
          1.9041724772024489
         ],
         "z": [
          -0.7954124026909779
         ]
        },
        {
         "hovertemplate": "CoinName=Unify<br>Algorithm=Scrypt<br>0=%{x}<br>1=%{y}<br>2=%{z}<extra></extra>",
         "legendgroup": "Unify, Scrypt",
         "marker": {
          "color": "#19d3f3",
          "symbol": "circle"
         },
         "mode": "markers",
         "name": "Unify, Scrypt",
         "scene": "scene",
         "showlegend": true,
         "type": "scatter3d",
         "x": [
          -0.1840850491652347
         ],
         "y": [
          -1.147393592844253
         ],
         "z": [
          0.02310972858917224
         ]
        },
        {
         "hovertemplate": "CoinName=BritCoin<br>Algorithm=X13<br>0=%{x}<br>1=%{y}<br>2=%{z}<extra></extra>",
         "legendgroup": "BritCoin, X13",
         "marker": {
          "color": "#FF6692",
          "symbol": "diamond"
         },
         "mode": "markers",
         "name": "BritCoin, X13",
         "scene": "scene",
         "showlegend": true,
         "type": "scatter3d",
         "x": [
          -0.22634036446666086
         ],
         "y": [
          1.772723378726451
         ],
         "z": [
          -0.68526022997867
         ]
        },
        {
         "hovertemplate": "CoinName=SocialCoin<br>Algorithm=Scrypt<br>0=%{x}<br>1=%{y}<br>2=%{z}<extra></extra>",
         "legendgroup": "SocialCoin, Scrypt",
         "marker": {
          "color": "#B6E880",
          "symbol": "circle"
         },
         "mode": "markers",
         "name": "SocialCoin, Scrypt",
         "scene": "scene",
         "showlegend": true,
         "type": "scatter3d",
         "x": [
          -0.18386100320310245
         ],
         "y": [
          -1.1474277363618
         ],
         "z": [
          0.02311170316172624
         ]
        },
        {
         "hovertemplate": "CoinName=ArcticCoin<br>Algorithm=X11<br>0=%{x}<br>1=%{y}<br>2=%{z}<extra></extra>",
         "legendgroup": "ArcticCoin, X11",
         "marker": {
          "color": "#FF97FF",
          "symbol": "x"
         },
         "mode": "markers",
         "name": "ArcticCoin, X11",
         "scene": "scene",
         "showlegend": true,
         "type": "scatter3d",
         "x": [
          -0.23524138164947195
         ],
         "y": [
          -0.9039601929418564
         ],
         "z": [
          0.06542535060747394
         ]
        },
        {
         "hovertemplate": "CoinName=DAS<br>Algorithm=X11<br>0=%{x}<br>1=%{y}<br>2=%{z}<extra></extra>",
         "legendgroup": "DAS, X11",
         "marker": {
          "color": "#FECB52",
          "symbol": "x"
         },
         "mode": "markers",
         "name": "DAS, X11",
         "scene": "scene",
         "showlegend": true,
         "type": "scatter3d",
         "x": [
          -0.23579950595137442
         ],
         "y": [
          -0.9039455378387449
         ],
         "z": [
          0.06543340898868562
         ]
        },
        {
         "hovertemplate": "CoinName=Linda<br>Algorithm=Scrypt<br>0=%{x}<br>1=%{y}<br>2=%{z}<extra></extra>",
         "legendgroup": "Linda, Scrypt",
         "marker": {
          "color": "#636efa",
          "symbol": "circle"
         },
         "mode": "markers",
         "name": "Linda, Scrypt",
         "scene": "scene",
         "showlegend": true,
         "type": "scatter3d",
         "x": [
          0.1302020333104723
         ],
         "y": [
          0.9419850150473698
         ],
         "z": [
          -0.6113227588185995
         ]
        },
        {
         "hovertemplate": "CoinName=LeviarCoin<br>Algorithm=CryptoNight<br>0=%{x}<br>1=%{y}<br>2=%{z}<extra></extra>",
         "legendgroup": "LeviarCoin, CryptoNight",
         "marker": {
          "color": "#EF553B",
          "symbol": "diamond"
         },
         "mode": "markers",
         "name": "LeviarCoin, CryptoNight",
         "scene": "scene",
         "showlegend": true,
         "type": "scatter3d",
         "x": [
          0.25056411223916614
         ],
         "y": [
          -2.2310862644536074
         ],
         "z": [
          0.47345528650508945
         ]
        },
        {
         "hovertemplate": "CoinName=DeepOnion<br>Algorithm=X13<br>0=%{x}<br>1=%{y}<br>2=%{z}<extra></extra>",
         "legendgroup": "DeepOnion, X13",
         "marker": {
          "color": "#00cc96",
          "symbol": "diamond"
         },
         "mode": "markers",
         "name": "DeepOnion, X13",
         "scene": "scene",
         "showlegend": true,
         "type": "scatter3d",
         "x": [
          -0.22640804080403137
         ],
         "y": [
          1.7727295637769818
         ],
         "z": [
          -0.6852600653994968
         ]
        },
        {
         "hovertemplate": "CoinName=Bitcore<br>Algorithm=Time Travel<br>0=%{x}<br>1=%{y}<br>2=%{z}<extra></extra>",
         "legendgroup": "Bitcore, Time Travel",
         "marker": {
          "color": "#ab63fa",
          "symbol": "square"
         },
         "mode": "markers",
         "name": "Bitcore, Time Travel",
         "scene": "scene",
         "showlegend": true,
         "type": "scatter3d",
         "x": [
          -0.1761152439727842
         ],
         "y": [
          -2.12084975240523
         ],
         "z": [
          0.46312383151718645
         ]
        },
        {
         "hovertemplate": "CoinName=gCn Coin<br>Algorithm=Scrypt<br>0=%{x}<br>1=%{y}<br>2=%{z}<extra></extra>",
         "legendgroup": "gCn Coin, Scrypt",
         "marker": {
          "color": "#FFA15A",
          "symbol": "circle"
         },
         "mode": "markers",
         "name": "gCn Coin, Scrypt",
         "scene": "scene",
         "showlegend": true,
         "type": "scatter3d",
         "x": [
          3.116262256657285
         ],
         "y": [
          -1.2030328796355945
         ],
         "z": [
          -0.03025993853886857
         ]
        },
        {
         "hovertemplate": "CoinName=SmartCash<br>Algorithm=Keccak<br>0=%{x}<br>1=%{y}<br>2=%{z}<extra></extra>",
         "legendgroup": "SmartCash, Keccak",
         "marker": {
          "color": "#19d3f3",
          "symbol": "x"
         },
         "mode": "markers",
         "name": "SmartCash, Keccak",
         "scene": "scene",
         "showlegend": true,
         "type": "scatter3d",
         "x": [
          -0.1358051736124705
         ],
         "y": [
          -1.1698912721708914
         ],
         "z": [
          0.1482448195604695
         ]
        },
        {
         "hovertemplate": "CoinName=Signatum<br>Algorithm=SkunkHash v2 Raptor<br>0=%{x}<br>1=%{y}<br>2=%{z}<extra></extra>",
         "legendgroup": "Signatum, SkunkHash v2 Raptor",
         "marker": {
          "color": "#FF6692",
          "symbol": "cross"
         },
         "mode": "markers",
         "name": "Signatum, SkunkHash v2 Raptor",
         "scene": "scene",
         "showlegend": true,
         "type": "scatter3d",
         "x": [
          -0.3171704651913191
         ],
         "y": [
          1.7393387395452076
         ],
         "z": [
          -0.21819012265012436
         ]
        },
        {
         "hovertemplate": "CoinName=Onix<br>Algorithm=X11<br>0=%{x}<br>1=%{y}<br>2=%{z}<extra></extra>",
         "legendgroup": "Onix, X11",
         "marker": {
          "color": "#B6E880",
          "symbol": "x"
         },
         "mode": "markers",
         "name": "Onix, X11",
         "scene": "scene",
         "showlegend": true,
         "type": "scatter3d",
         "x": [
          -0.2270287851525573
         ],
         "y": [
          -0.9044894114358516
         ],
         "z": [
          0.06536457721656382
         ]
        },
        {
         "hovertemplate": "CoinName=Cream<br>Algorithm=Skein<br>0=%{x}<br>1=%{y}<br>2=%{z}<extra></extra>",
         "legendgroup": "Cream, Skein",
         "marker": {
          "color": "#FF97FF",
          "symbol": "diamond"
         },
         "mode": "markers",
         "name": "Cream, Skein",
         "scene": "scene",
         "showlegend": true,
         "type": "scatter3d",
         "x": [
          -0.38257734684437916
         ],
         "y": [
          1.9041854139095584
         ],
         "z": [
          -0.7954240940484799
         ]
        },
        {
         "hovertemplate": "CoinName=Bitcoin Cash<br>Algorithm=SHA-256<br>0=%{x}<br>1=%{y}<br>2=%{z}<extra></extra>",
         "legendgroup": "Bitcoin Cash, SHA-256",
         "marker": {
          "color": "#FECB52",
          "symbol": "square"
         },
         "mode": "markers",
         "name": "Bitcoin Cash, SHA-256",
         "scene": "scene",
         "showlegend": true,
         "type": "scatter3d",
         "x": [
          -0.15660775024089185
         ],
         "y": [
          -1.2429766912712745
         ],
         "z": [
          0.20421940289135568
         ]
        },
        {
         "hovertemplate": "CoinName=Monoeci<br>Algorithm=X11<br>0=%{x}<br>1=%{y}<br>2=%{z}<extra></extra>",
         "legendgroup": "Monoeci, X11",
         "marker": {
          "color": "#636efa",
          "symbol": "x"
         },
         "mode": "markers",
         "name": "Monoeci, X11",
         "scene": "scene",
         "showlegend": true,
         "type": "scatter3d",
         "x": [
          -0.3684620642532829
         ],
         "y": [
          1.2094726079533213
         ],
         "z": [
          -0.5648138678624306
         ]
        },
        {
         "hovertemplate": "CoinName=Draftcoin<br>Algorithm=Scrypt<br>0=%{x}<br>1=%{y}<br>2=%{z}<extra></extra>",
         "legendgroup": "Draftcoin, Scrypt",
         "marker": {
          "color": "#EF553B",
          "symbol": "circle"
         },
         "mode": "markers",
         "name": "Draftcoin, Scrypt",
         "scene": "scene",
         "showlegend": true,
         "type": "scatter3d",
         "x": [
          -0.27627190713907546
         ],
         "y": [
          0.8812118512422351
         ],
         "z": [
          -0.3184812559318903
         ]
        },
        {
         "hovertemplate": "CoinName=Vechain<br>Algorithm=VeChainThor Authority<br>0=%{x}<br>1=%{y}<br>2=%{z}<extra></extra>",
         "legendgroup": "Vechain, VeChainThor Authority",
         "marker": {
          "color": "#00cc96",
          "symbol": "circle"
         },
         "mode": "markers",
         "name": "Vechain, VeChainThor Authority",
         "scene": "scene",
         "showlegend": true,
         "type": "scatter3d",
         "x": [
          4.062828764884901
         ],
         "y": [
          2.8253072417135945
         ],
         "z": [
          6.654913001834197
         ]
        },
        {
         "hovertemplate": "CoinName=Sojourn Coin<br>Algorithm=Scrypt<br>0=%{x}<br>1=%{y}<br>2=%{z}<extra></extra>",
         "legendgroup": "Sojourn Coin, Scrypt",
         "marker": {
          "color": "#ab63fa",
          "symbol": "circle"
         },
         "mode": "markers",
         "name": "Sojourn Coin, Scrypt",
         "scene": "scene",
         "showlegend": true,
         "type": "scatter3d",
         "x": [
          -0.1131077592018174
         ],
         "y": [
          -1.1530427008674953
         ],
         "z": [
          0.0227827186508515
         ]
        },
        {
         "hovertemplate": "CoinName=Stakecoin<br>Algorithm=PoS<br>0=%{x}<br>1=%{y}<br>2=%{z}<extra></extra>",
         "legendgroup": "Stakecoin, PoS",
         "marker": {
          "color": "#FFA15A",
          "symbol": "square"
         },
         "mode": "markers",
         "name": "Stakecoin, PoS",
         "scene": "scene",
         "showlegend": true,
         "type": "scatter3d",
         "x": [
          -0.3252744150440749
         ],
         "y": [
          1.8027651610182804
         ],
         "z": [
          -0.22026973213422085
         ]
        },
        {
         "hovertemplate": "CoinName=FrazCoin<br>Algorithm=Scrypt<br>0=%{x}<br>1=%{y}<br>2=%{z}<extra></extra>",
         "legendgroup": "FrazCoin, Scrypt",
         "marker": {
          "color": "#19d3f3",
          "symbol": "circle"
         },
         "mode": "markers",
         "name": "FrazCoin, Scrypt",
         "scene": "scene",
         "showlegend": true,
         "type": "scatter3d",
         "x": [
          -0.1841805417575411
         ],
         "y": [
          -1.1473966729182505
         ],
         "z": [
          0.023112137315611316
         ]
        },
        {
         "hovertemplate": "CoinName=Kronecoin<br>Algorithm=Scrypt<br>0=%{x}<br>1=%{y}<br>2=%{z}<extra></extra>",
         "legendgroup": "Kronecoin, Scrypt",
         "marker": {
          "color": "#FF6692",
          "symbol": "circle"
         },
         "mode": "markers",
         "name": "Kronecoin, Scrypt",
         "scene": "scene",
         "showlegend": true,
         "type": "scatter3d",
         "x": [
          -0.18365352744834346
         ],
         "y": [
          -1.147428660734211
         ],
         "z": [
          0.02310787372179808
         ]
        },
        {
         "hovertemplate": "CoinName=AdCoin<br>Algorithm=Scrypt<br>0=%{x}<br>1=%{y}<br>2=%{z}<extra></extra>",
         "legendgroup": "AdCoin, Scrypt",
         "marker": {
          "color": "#B6E880",
          "symbol": "circle"
         },
         "mode": "markers",
         "name": "AdCoin, Scrypt",
         "scene": "scene",
         "showlegend": true,
         "type": "scatter3d",
         "x": [
          -0.18336387894814873
         ],
         "y": [
          -1.1474324264012485
         ],
         "z": [
          0.02310298386041197
         ]
        },
        {
         "hovertemplate": "CoinName=Linx<br>Algorithm=Scrypt<br>0=%{x}<br>1=%{y}<br>2=%{z}<extra></extra>",
         "legendgroup": "Linx, Scrypt",
         "marker": {
          "color": "#FF97FF",
          "symbol": "circle"
         },
         "mode": "markers",
         "name": "Linx, Scrypt",
         "scene": "scene",
         "showlegend": true,
         "type": "scatter3d",
         "x": [
          -0.1833511359742381
         ],
         "y": [
          -1.1474320849135147
         ],
         "z": [
          0.0231026752459298
         ]
        },
        {
         "hovertemplate": "CoinName=CoinonatX<br>Algorithm=Scrypt<br>0=%{x}<br>1=%{y}<br>2=%{z}<extra></extra>",
         "legendgroup": "CoinonatX, Scrypt",
         "marker": {
          "color": "#FECB52",
          "symbol": "circle"
         },
         "mode": "markers",
         "name": "CoinonatX, Scrypt",
         "scene": "scene",
         "showlegend": true,
         "type": "scatter3d",
         "x": [
          -0.31658872848798925
         ],
         "y": [
          0.9660011672272606
         ],
         "z": [
          -0.6071363004057185
         ]
        },
        {
         "hovertemplate": "CoinName=Ethereum Dark<br>Algorithm=Scrypt<br>0=%{x}<br>1=%{y}<br>2=%{z}<extra></extra>",
         "legendgroup": "Ethereum Dark, Scrypt",
         "marker": {
          "color": "#636efa",
          "symbol": "circle"
         },
         "mode": "markers",
         "name": "Ethereum Dark, Scrypt",
         "scene": "scene",
         "showlegend": true,
         "type": "scatter3d",
         "x": [
          -0.3170706590029241
         ],
         "y": [
          0.9660199910415805
         ],
         "z": [
          -0.6071304793720155
         ]
        },
        {
         "hovertemplate": "CoinName=Sumokoin<br>Algorithm=CryptoNight<br>0=%{x}<br>1=%{y}<br>2=%{z}<extra></extra>",
         "legendgroup": "Sumokoin, CryptoNight",
         "marker": {
          "color": "#EF553B",
          "symbol": "diamond"
         },
         "mode": "markers",
         "name": "Sumokoin, CryptoNight",
         "scene": "scene",
         "showlegend": true,
         "type": "scatter3d",
         "x": [
          0.25073896486522673
         ],
         "y": [
          -2.2311067155262134
         ],
         "z": [
          0.47345568545304123
         ]
        },
        {
         "hovertemplate": "CoinName=Obsidian<br>Algorithm=SHA-512<br>0=%{x}<br>1=%{y}<br>2=%{z}<extra></extra>",
         "legendgroup": "Obsidian, SHA-512",
         "marker": {
          "color": "#00cc96",
          "symbol": "diamond"
         },
         "mode": "markers",
         "name": "Obsidian, SHA-512",
         "scene": "scene",
         "showlegend": true,
         "type": "scatter3d",
         "x": [
          -0.3086287396419259
         ],
         "y": [
          1.8146021690155225
         ],
         "z": [
          -0.18211738826317694
         ]
        },
        {
         "hovertemplate": "CoinName=Cardano<br>Algorithm=Ouroboros<br>0=%{x}<br>1=%{y}<br>2=%{z}<extra></extra>",
         "legendgroup": "Cardano, Ouroboros",
         "marker": {
          "color": "#ab63fa",
          "symbol": "diamond"
         },
         "mode": "markers",
         "name": "Cardano, Ouroboros",
         "scene": "scene",
         "showlegend": true,
         "type": "scatter3d",
         "x": [
          0.6390700551316941
         ],
         "y": [
          1.7090537447914755
         ],
         "z": [
          -0.2358797743561201
         ]
        },
        {
         "hovertemplate": "CoinName=Regalcoin<br>Algorithm=X11<br>0=%{x}<br>1=%{y}<br>2=%{z}<extra></extra>",
         "legendgroup": "Regalcoin, X11",
         "marker": {
          "color": "#FFA15A",
          "symbol": "x"
         },
         "mode": "markers",
         "name": "Regalcoin, X11",
         "scene": "scene",
         "showlegend": true,
         "type": "scatter3d",
         "x": [
          -0.36840646279785616
         ],
         "y": [
          1.2094614947822504
         ],
         "z": [
          -0.5648128912284771
         ]
        },
        {
         "hovertemplate": "CoinName=BitcoinZ<br>Algorithm=Equihash<br>0=%{x}<br>1=%{y}<br>2=%{z}<extra></extra>",
         "legendgroup": "BitcoinZ, Equihash",
         "marker": {
          "color": "#19d3f3",
          "symbol": "circle"
         },
         "mode": "markers",
         "name": "BitcoinZ, Equihash",
         "scene": "scene",
         "showlegend": true,
         "type": "scatter3d",
         "x": [
          0.032241794237486535
         ],
         "y": [
          -1.962488099020625
         ],
         "z": [
          0.4467534495093537
         ]
        },
        {
         "hovertemplate": "CoinName=TrezarCoin<br>Algorithm=NeoScrypt<br>0=%{x}<br>1=%{y}<br>2=%{z}<extra></extra>",
         "legendgroup": "TrezarCoin, NeoScrypt",
         "marker": {
          "color": "#FF6692",
          "symbol": "diamond"
         },
         "mode": "markers",
         "name": "TrezarCoin, NeoScrypt",
         "scene": "scene",
         "showlegend": true,
         "type": "scatter3d",
         "x": [
          -0.3241083555094686
         ],
         "y": [
          0.5492265325827234
         ],
         "z": [
          -0.3537234397204971
         ]
        },
        {
         "hovertemplate": "CoinName=Elements<br>Algorithm=X11<br>0=%{x}<br>1=%{y}<br>2=%{z}<extra></extra>",
         "legendgroup": "Elements, X11",
         "marker": {
          "color": "#B6E880",
          "symbol": "x"
         },
         "mode": "markers",
         "name": "Elements, X11",
         "scene": "scene",
         "showlegend": true,
         "type": "scatter3d",
         "x": [
          -0.1915377568835769
         ],
         "y": [
          -0.9040426555970795
         ],
         "z": [
          0.06459800830163324
         ]
        },
        {
         "hovertemplate": "CoinName=TerraNovaCoin<br>Algorithm=Scrypt<br>0=%{x}<br>1=%{y}<br>2=%{z}<extra></extra>",
         "legendgroup": "TerraNovaCoin, Scrypt",
         "marker": {
          "color": "#FF97FF",
          "symbol": "circle"
         },
         "mode": "markers",
         "name": "TerraNovaCoin, Scrypt",
         "scene": "scene",
         "showlegend": true,
         "type": "scatter3d",
         "x": [
          -0.3170287626819509
         ],
         "y": [
          0.9660128042325268
         ],
         "z": [
          -0.607129962290023
         ]
        },
        {
         "hovertemplate": "CoinName=VIVO Coin<br>Algorithm=NeoScrypt<br>0=%{x}<br>1=%{y}<br>2=%{z}<extra></extra>",
         "legendgroup": "VIVO Coin, NeoScrypt",
         "marker": {
          "color": "#FECB52",
          "symbol": "diamond"
         },
         "mode": "markers",
         "name": "VIVO Coin, NeoScrypt",
         "scene": "scene",
         "showlegend": true,
         "type": "scatter3d",
         "x": [
          -0.19605051310171934
         ],
         "y": [
          -1.5640395040940398
         ],
         "z": [
          0.27658457035164064
         ]
        },
        {
         "hovertemplate": "CoinName=Rupee<br>Algorithm=Lyra2REv2<br>0=%{x}<br>1=%{y}<br>2=%{z}<extra></extra>",
         "legendgroup": "Rupee, Lyra2REv2",
         "marker": {
          "color": "#636efa",
          "symbol": "circle"
         },
         "mode": "markers",
         "name": "Rupee, Lyra2REv2",
         "scene": "scene",
         "showlegend": true,
         "type": "scatter3d",
         "x": [
          -0.29844482507908754
         ],
         "y": [
          0.8417949961085011
         ],
         "z": [
          -0.12024498817810063
         ]
        },
        {
         "hovertemplate": "CoinName=Bitcoin Gold<br>Algorithm=Equihash<br>0=%{x}<br>1=%{y}<br>2=%{z}<extra></extra>",
         "legendgroup": "Bitcoin Gold, Equihash",
         "marker": {
          "color": "#EF553B",
          "symbol": "circle"
         },
         "mode": "markers",
         "name": "Bitcoin Gold, Equihash",
         "scene": "scene",
         "showlegend": true,
         "type": "scatter3d",
         "x": [
          -0.17212549753261175
         ],
         "y": [
          -1.9528497792191881
         ],
         "z": [
          0.44891667432008364
         ]
        },
        {
         "hovertemplate": "CoinName=WomenCoin<br>Algorithm=Scrypt<br>0=%{x}<br>1=%{y}<br>2=%{z}<extra></extra>",
         "legendgroup": "WomenCoin, Scrypt",
         "marker": {
          "color": "#00cc96",
          "symbol": "circle"
         },
         "mode": "markers",
         "name": "WomenCoin, Scrypt",
         "scene": "scene",
         "showlegend": true,
         "type": "scatter3d",
         "x": [
          0.4298866479077137
         ],
         "y": [
          0.9680280335028916
         ],
         "z": [
          -0.621900896115945
         ]
        },
        {
         "hovertemplate": "CoinName=Theresa May Coin<br>Algorithm=SHA-256<br>0=%{x}<br>1=%{y}<br>2=%{z}<extra></extra>",
         "legendgroup": "Theresa May Coin, SHA-256",
         "marker": {
          "color": "#ab63fa",
          "symbol": "square"
         },
         "mode": "markers",
         "name": "Theresa May Coin, SHA-256",
         "scene": "scene",
         "showlegend": true,
         "type": "scatter3d",
         "x": [
          -0.2879062855446095
         ],
         "y": [
          0.8704143224563804
         ],
         "z": [
          -0.4260491689649793
         ]
        },
        {
         "hovertemplate": "CoinName=NamoCoin<br>Algorithm=NIST5<br>0=%{x}<br>1=%{y}<br>2=%{z}<extra></extra>",
         "legendgroup": "NamoCoin, NIST5",
         "marker": {
          "color": "#FFA15A",
          "symbol": "x"
         },
         "mode": "markers",
         "name": "NamoCoin, NIST5",
         "scene": "scene",
         "showlegend": true,
         "type": "scatter3d",
         "x": [
          -0.31711711667577897
         ],
         "y": [
          1.4818331915546654
         ],
         "z": [
          -0.6313825606778873
         ]
        },
        {
         "hovertemplate": "CoinName=LUXCoin<br>Algorithm=PHI1612<br>0=%{x}<br>1=%{y}<br>2=%{z}<extra></extra>",
         "legendgroup": "LUXCoin, PHI1612",
         "marker": {
          "color": "#19d3f3",
          "symbol": "cross"
         },
         "mode": "markers",
         "name": "LUXCoin, PHI1612",
         "scene": "scene",
         "showlegend": true,
         "type": "scatter3d",
         "x": [
          -0.3624649589819232
         ],
         "y": [
          1.8654620363345908
         ],
         "z": [
          -0.6515806867077459
         ]
        },
        {
         "hovertemplate": "CoinName=Pirl<br>Algorithm=Dagger<br>0=%{x}<br>1=%{y}<br>2=%{z}<extra></extra>",
         "legendgroup": "Pirl, Dagger",
         "marker": {
          "color": "#FF6692",
          "symbol": "circle"
         },
         "mode": "markers",
         "name": "Pirl, Dagger",
         "scene": "scene",
         "showlegend": true,
         "type": "scatter3d",
         "x": [
          -0.17490893444613947
         ],
         "y": [
          -2.128726080889341
         ],
         "z": [
          0.4649754410414398
         ]
        },
        {
         "hovertemplate": "CoinName=Xios<br>Algorithm=Scrypt<br>0=%{x}<br>1=%{y}<br>2=%{z}<extra></extra>",
         "legendgroup": "Xios, Scrypt",
         "marker": {
          "color": "#B6E880",
          "symbol": "circle"
         },
         "mode": "markers",
         "name": "Xios, Scrypt",
         "scene": "scene",
         "showlegend": true,
         "type": "scatter3d",
         "x": [
          -0.31698097200687414
         ],
         "y": [
          0.9660102903972327
         ],
         "z": [
          -0.6071304202368943
         ]
        },
        {
         "hovertemplate": "CoinName=Bitcloud 2.0<br>Algorithm=Quark<br>0=%{x}<br>1=%{y}<br>2=%{z}<extra></extra>",
         "legendgroup": "Bitcloud 2.0, Quark",
         "marker": {
          "color": "#FF97FF",
          "symbol": "cross"
         },
         "mode": "markers",
         "name": "Bitcloud 2.0, Quark",
         "scene": "scene",
         "showlegend": true,
         "type": "scatter3d",
         "x": [
          -0.3681021074032354
         ],
         "y": [
          1.7470778955639639
         ],
         "z": [
          -0.6008587435679799
         ]
        },
        {
         "hovertemplate": "CoinName=eBoost<br>Algorithm=Scrypt<br>0=%{x}<br>1=%{y}<br>2=%{z}<extra></extra>",
         "legendgroup": "eBoost, Scrypt",
         "marker": {
          "color": "#FECB52",
          "symbol": "circle"
         },
         "mode": "markers",
         "name": "eBoost, Scrypt",
         "scene": "scene",
         "showlegend": true,
         "type": "scatter3d",
         "x": [
          -0.18256171256232995
         ],
         "y": [
          -1.1474109298508819
         ],
         "z": [
          0.02308355667131099
         ]
        },
        {
         "hovertemplate": "CoinName=KekCoin<br>Algorithm=POS 2.0<br>0=%{x}<br>1=%{y}<br>2=%{z}<extra></extra>",
         "legendgroup": "KekCoin, POS 2.0",
         "marker": {
          "color": "#636efa",
          "symbol": "square"
         },
         "mode": "markers",
         "name": "KekCoin, POS 2.0",
         "scene": "scene",
         "showlegend": true,
         "type": "scatter3d",
         "x": [
          -0.32018561298288617
         ],
         "y": [
          1.739400015418362
         ],
         "z": [
          -0.21812773450135212
         ]
        },
        {
         "hovertemplate": "CoinName=BlackholeCoin<br>Algorithm=Scrypt<br>0=%{x}<br>1=%{y}<br>2=%{z}<extra></extra>",
         "legendgroup": "BlackholeCoin, Scrypt",
         "marker": {
          "color": "#EF553B",
          "symbol": "circle"
         },
         "mode": "markers",
         "name": "BlackholeCoin, Scrypt",
         "scene": "scene",
         "showlegend": true,
         "type": "scatter3d",
         "x": [
          -0.3168538655511272
         ],
         "y": [
          0.9660181720426488
         ],
         "z": [
          -0.6071343235324732
         ]
        },
        {
         "hovertemplate": "CoinName=Infinity Economics<br>Algorithm=SHA-256<br>0=%{x}<br>1=%{y}<br>2=%{z}<extra></extra>",
         "legendgroup": "Infinity Economics, SHA-256",
         "marker": {
          "color": "#00cc96",
          "symbol": "square"
         },
         "mode": "markers",
         "name": "Infinity Economics, SHA-256",
         "scene": "scene",
         "showlegend": true,
         "type": "scatter3d",
         "x": [
          -0.08081068017267126
         ],
         "y": [
          0.783659855880988
         ],
         "z": [
          -0.1402471331063487
         ]
        },
        {
         "hovertemplate": "CoinName=Pura<br>Algorithm=X11<br>0=%{x}<br>1=%{y}<br>2=%{z}<extra></extra>",
         "legendgroup": "Pura, X11",
         "marker": {
          "color": "#ab63fa",
          "symbol": "x"
         },
         "mode": "markers",
         "name": "Pura, X11",
         "scene": "scene",
         "showlegend": true,
         "type": "scatter3d",
         "x": [
          -0.2314947386762775
         ],
         "y": [
          -0.9040687295567945
         ],
         "z": [
          0.065373127847909
         ]
        },
        {
         "hovertemplate": "CoinName=Innova<br>Algorithm=NeoScrypt<br>0=%{x}<br>1=%{y}<br>2=%{z}<extra></extra>",
         "legendgroup": "Innova, NeoScrypt",
         "marker": {
          "color": "#FFA15A",
          "symbol": "diamond"
         },
         "mode": "markers",
         "name": "Innova, NeoScrypt",
         "scene": "scene",
         "showlegend": true,
         "type": "scatter3d",
         "x": [
          -0.1959019367163058
         ],
         "y": [
          -1.5640484911911716
         ],
         "z": [
          0.27658336265198813
         ]
        },
        {
         "hovertemplate": "CoinName=Ellaism<br>Algorithm=Ethash<br>0=%{x}<br>1=%{y}<br>2=%{z}<extra></extra>",
         "legendgroup": "Ellaism, Ethash",
         "marker": {
          "color": "#19d3f3",
          "symbol": "cross"
         },
         "mode": "markers",
         "name": "Ellaism, Ethash",
         "scene": "scene",
         "showlegend": true,
         "type": "scatter3d",
         "x": [
          -0.1735276779784323
         ],
         "y": [
          -1.914512117762997
         ],
         "z": [
          0.4260183127636342
         ]
        },
        {
         "hovertemplate": "CoinName=GoByte<br>Algorithm=NeoScrypt<br>0=%{x}<br>1=%{y}<br>2=%{z}<extra></extra>",
         "legendgroup": "GoByte, NeoScrypt",
         "marker": {
          "color": "#FF6692",
          "symbol": "diamond"
         },
         "mode": "markers",
         "name": "GoByte, NeoScrypt",
         "scene": "scene",
         "showlegend": true,
         "type": "scatter3d",
         "x": [
          -0.19599806161282296
         ],
         "y": [
          -1.564041556803407
         ],
         "z": [
          0.27658393754917343
         ]
        },
        {
         "hovertemplate": "CoinName=Magnet<br>Algorithm=X11<br>0=%{x}<br>1=%{y}<br>2=%{z}<extra></extra>",
         "legendgroup": "Magnet, X11",
         "marker": {
          "color": "#B6E880",
          "symbol": "x"
         },
         "mode": "markers",
         "name": "Magnet, X11",
         "scene": "scene",
         "showlegend": true,
         "type": "scatter3d",
         "x": [
          -0.3672432719436715
         ],
         "y": [
          1.2094083697880869
         ],
         "z": [
          -0.5648255230631065
         ]
        },
        {
         "hovertemplate": "CoinName=Lamden Tau<br>Algorithm=DPoS<br>0=%{x}<br>1=%{y}<br>2=%{z}<extra></extra>",
         "legendgroup": "Lamden Tau, DPoS",
         "marker": {
          "color": "#FF97FF",
          "symbol": "x"
         },
         "mode": "markers",
         "name": "Lamden Tau, DPoS",
         "scene": "scene",
         "showlegend": true,
         "type": "scatter3d",
         "x": [
          4.182696815989532
         ],
         "y": [
          1.7890241324904514
         ],
         "z": [
          -0.2737400092012702
         ]
        },
        {
         "hovertemplate": "CoinName=Electra<br>Algorithm=NIST5<br>0=%{x}<br>1=%{y}<br>2=%{z}<extra></extra>",
         "legendgroup": "Electra, NIST5",
         "marker": {
          "color": "#FECB52",
          "symbol": "x"
         },
         "mode": "markers",
         "name": "Electra, NIST5",
         "scene": "scene",
         "showlegend": true,
         "type": "scatter3d",
         "x": [
          0.2101014019372574
         ],
         "y": [
          1.4752117925318469
         ],
         "z": [
          -0.6403260183367098
         ]
        },
        {
         "hovertemplate": "CoinName=Bitcoin Diamond<br>Algorithm=X13<br>0=%{x}<br>1=%{y}<br>2=%{z}<extra></extra>",
         "legendgroup": "Bitcoin Diamond, X13",
         "marker": {
          "color": "#636efa",
          "symbol": "diamond"
         },
         "mode": "markers",
         "name": "Bitcoin Diamond, X13",
         "scene": "scene",
         "showlegend": true,
         "type": "scatter3d",
         "x": [
          -0.22318491509366248
         ],
         "y": [
          1.7726782521865816
         ],
         "z": [
          -0.6853127440925926
         ]
        },
        {
         "hovertemplate": "CoinName=SHIELD<br>Algorithm=Multiple<br>0=%{x}<br>1=%{y}<br>2=%{z}<extra></extra>",
         "legendgroup": "SHIELD, Multiple",
         "marker": {
          "color": "#EF553B",
          "symbol": "square"
         },
         "mode": "markers",
         "name": "SHIELD, Multiple",
         "scene": "scene",
         "showlegend": true,
         "type": "scatter3d",
         "x": [
          -0.1223370525758438
         ],
         "y": [
          -1.8785840017389372
         ],
         "z": [
          0.41748508596239253
         ]
        },
        {
         "hovertemplate": "CoinName=Cash & Back Coin<br>Algorithm=Scrypt<br>0=%{x}<br>1=%{y}<br>2=%{z}<extra></extra>",
         "legendgroup": "Cash & Back Coin, Scrypt",
         "marker": {
          "color": "#00cc96",
          "symbol": "circle"
         },
         "mode": "markers",
         "name": "Cash & Back Coin, Scrypt",
         "scene": "scene",
         "showlegend": true,
         "type": "scatter3d",
         "x": [
          -0.31440093251778456
         ],
         "y": [
          0.9659432596223442
         ],
         "z": [
          -0.6071678035505549
         ]
        },
        {
         "hovertemplate": "CoinName=UltraNote<br>Algorithm=CryptoNight<br>0=%{x}<br>1=%{y}<br>2=%{z}<extra></extra>",
         "legendgroup": "UltraNote, CryptoNight",
         "marker": {
          "color": "#ab63fa",
          "symbol": "diamond"
         },
         "mode": "markers",
         "name": "UltraNote, CryptoNight",
         "scene": "scene",
         "showlegend": true,
         "type": "scatter3d",
         "x": [
          1.0570458057330778
         ],
         "y": [
          -2.2706760831049033
         ],
         "z": [
          0.46520528081149604
         ]
        },
        {
         "hovertemplate": "CoinName=BitCoal<br>Algorithm=CryptoNight<br>0=%{x}<br>1=%{y}<br>2=%{z}<extra></extra>",
         "legendgroup": "BitCoal, CryptoNight",
         "marker": {
          "color": "#FFA15A",
          "symbol": "diamond"
         },
         "mode": "markers",
         "name": "BitCoal, CryptoNight",
         "scene": "scene",
         "showlegend": true,
         "type": "scatter3d",
         "x": [
          0.2501671470287367
         ],
         "y": [
          -2.2310670023974146
         ],
         "z": [
          0.4734593887463463
         ]
        },
        {
         "hovertemplate": "CoinName=DaxxCoin<br>Algorithm=Ethash<br>0=%{x}<br>1=%{y}<br>2=%{z}<extra></extra>",
         "legendgroup": "DaxxCoin, Ethash",
         "marker": {
          "color": "#19d3f3",
          "symbol": "cross"
         },
         "mode": "markers",
         "name": "DaxxCoin, Ethash",
         "scene": "scene",
         "showlegend": true,
         "type": "scatter3d",
         "x": [
          -0.10145447293176818
         ],
         "y": [
          -1.9195837704237748
         ],
         "z": [
          0.4255637297291604
         ]
        },
        {
         "hovertemplate": "CoinName=Bulwark<br>Algorithm=NIST5<br>0=%{x}<br>1=%{y}<br>2=%{z}<extra></extra>",
         "legendgroup": "Bulwark, NIST5",
         "marker": {
          "color": "#FF6692",
          "symbol": "x"
         },
         "mode": "markers",
         "name": "Bulwark, NIST5",
         "scene": "scene",
         "showlegend": true,
         "type": "scatter3d",
         "x": [
          -0.2910621797685028
         ],
         "y": [
          1.3974840685491294
         ],
         "z": [
          -0.34253371068578903
         ]
        },
        {
         "hovertemplate": "CoinName=Kalkulus<br>Algorithm=Quark<br>0=%{x}<br>1=%{y}<br>2=%{z}<extra></extra>",
         "legendgroup": "Kalkulus, Quark",
         "marker": {
          "color": "#B6E880",
          "symbol": "cross"
         },
         "mode": "markers",
         "name": "Kalkulus, Quark",
         "scene": "scene",
         "showlegend": true,
         "type": "scatter3d",
         "x": [
          -0.3289517893657341
         ],
         "y": [
          1.6623647820853205
         ],
         "z": [
          -0.31219525740106874
         ]
        },
        {
         "hovertemplate": "CoinName=AC3<br>Algorithm=X11<br>0=%{x}<br>1=%{y}<br>2=%{z}<extra></extra>",
         "legendgroup": "AC3, X11",
         "marker": {
          "color": "#FF97FF",
          "symbol": "x"
         },
         "mode": "markers",
         "name": "AC3, X11",
         "scene": "scene",
         "showlegend": true,
         "type": "scatter3d",
         "x": [
          -0.23126669933124178
         ],
         "y": [
          -0.9042067148068865
         ],
         "z": [
          0.06539416713440575
         ]
        },
        {
         "hovertemplate": "CoinName=Lethean<br>Algorithm=CryptoNight-V7<br>0=%{x}<br>1=%{y}<br>2=%{z}<extra></extra>",
         "legendgroup": "Lethean, CryptoNight-V7",
         "marker": {
          "color": "#FECB52",
          "symbol": "circle"
         },
         "mode": "markers",
         "name": "Lethean, CryptoNight-V7",
         "scene": "scene",
         "showlegend": true,
         "type": "scatter3d",
         "x": [
          -0.16139655478611406
         ],
         "y": [
          -2.1332880745371203
         ],
         "z": [
          0.46573266469198465
         ]
        },
        {
         "hovertemplate": "CoinName=GermanCoin<br>Algorithm=Scrypt<br>0=%{x}<br>1=%{y}<br>2=%{z}<extra></extra>",
         "legendgroup": "GermanCoin, Scrypt",
         "marker": {
          "color": "#636efa",
          "symbol": "circle"
         },
         "mode": "markers",
         "name": "GermanCoin, Scrypt",
         "scene": "scene",
         "showlegend": true,
         "type": "scatter3d",
         "x": [
          0.08096624295654202
         ],
         "y": [
          0.9406655884721927
         ],
         "z": [
          -0.6101303465875904
         ]
        },
        {
         "hovertemplate": "CoinName=LiteCoin Ultra<br>Algorithm=Scrypt<br>0=%{x}<br>1=%{y}<br>2=%{z}<extra></extra>",
         "legendgroup": "LiteCoin Ultra, Scrypt",
         "marker": {
          "color": "#EF553B",
          "symbol": "circle"
         },
         "mode": "markers",
         "name": "LiteCoin Ultra, Scrypt",
         "scene": "scene",
         "showlegend": true,
         "type": "scatter3d",
         "x": [
          -0.31603009169575796
         ],
         "y": [
          0.9659428301033058
         ],
         "z": [
          -0.6071363165270315
         ]
        },
        {
         "hovertemplate": "CoinName=PopularCoin<br>Algorithm=Scrypt<br>0=%{x}<br>1=%{y}<br>2=%{z}<extra></extra>",
         "legendgroup": "PopularCoin, Scrypt",
         "marker": {
          "color": "#00cc96",
          "symbol": "circle"
         },
         "mode": "markers",
         "name": "PopularCoin, Scrypt",
         "scene": "scene",
         "showlegend": true,
         "type": "scatter3d",
         "x": [
          -0.10325081963674437
         ],
         "y": [
          -1.1488159058463745
         ],
         "z": [
          0.021813543340517192
         ]
        },
        {
         "hovertemplate": "CoinName=PhantomX<br>Algorithm=X11<br>0=%{x}<br>1=%{y}<br>2=%{z}<extra></extra>",
         "legendgroup": "PhantomX, X11",
         "marker": {
          "color": "#ab63fa",
          "symbol": "x"
         },
         "mode": "markers",
         "name": "PhantomX, X11",
         "scene": "scene",
         "showlegend": true,
         "type": "scatter3d",
         "x": [
          -0.3677986509555016
         ],
         "y": [
          1.209461211924711
         ],
         "z": [
          -0.5648245568267841
         ]
        },
        {
         "hovertemplate": "CoinName=Photon<br>Algorithm=BLAKE256<br>0=%{x}<br>1=%{y}<br>2=%{z}<extra></extra>",
         "legendgroup": "Photon, BLAKE256",
         "marker": {
          "color": "#FFA15A",
          "symbol": "x"
         },
         "mode": "markers",
         "name": "Photon, BLAKE256",
         "scene": "scene",
         "showlegend": true,
         "type": "scatter3d",
         "x": [
          1.0287833288474844
         ],
         "y": [
          -1.2233997177017502
         ],
         "z": [
          0.13216743686179194
         ]
        },
        {
         "hovertemplate": "CoinName=Sucre<br>Algorithm=X11<br>0=%{x}<br>1=%{y}<br>2=%{z}<extra></extra>",
         "legendgroup": "Sucre, X11",
         "marker": {
          "color": "#19d3f3",
          "symbol": "x"
         },
         "mode": "markers",
         "name": "Sucre, X11",
         "scene": "scene",
         "showlegend": true,
         "type": "scatter3d",
         "x": [
          -0.2357742610655786
         ],
         "y": [
          -0.903945509756528
         ],
         "z": [
          0.06543291712701722
         ]
        },
        {
         "hovertemplate": "CoinName=SparksPay<br>Algorithm=NeoScrypt<br>0=%{x}<br>1=%{y}<br>2=%{z}<extra></extra>",
         "legendgroup": "SparksPay, NeoScrypt",
         "marker": {
          "color": "#FF6692",
          "symbol": "diamond"
         },
         "mode": "markers",
         "name": "SparksPay, NeoScrypt",
         "scene": "scene",
         "showlegend": true,
         "type": "scatter3d",
         "x": [
          -0.1960474145224283
         ],
         "y": [
          -1.5640350981696742
         ],
         "z": [
          0.27658369844793734
         ]
        },
        {
         "hovertemplate": "CoinName=Digiwage<br>Algorithm=Quark<br>0=%{x}<br>1=%{y}<br>2=%{z}<extra></extra>",
         "legendgroup": "Digiwage, Quark",
         "marker": {
          "color": "#B6E880",
          "symbol": "cross"
         },
         "mode": "markers",
         "name": "Digiwage, Quark",
         "scene": "scene",
         "showlegend": true,
         "type": "scatter3d",
         "x": [
          -0.32814935352151586
         ],
         "y": [
          1.6623142377188507
         ],
         "z": [
          -0.31220141009835284
         ]
        },
        {
         "hovertemplate": "CoinName=GunCoin<br>Algorithm=NeoScrypt<br>0=%{x}<br>1=%{y}<br>2=%{z}<extra></extra>",
         "legendgroup": "GunCoin, NeoScrypt",
         "marker": {
          "color": "#FF97FF",
          "symbol": "diamond"
         },
         "mode": "markers",
         "name": "GunCoin, NeoScrypt",
         "scene": "scene",
         "showlegend": true,
         "type": "scatter3d",
         "x": [
          -0.18931633605317935
         ],
         "y": [
          -1.5641998285071321
         ],
         "z": [
          0.2764842985490943
         ]
        },
        {
         "hovertemplate": "CoinName=IrishCoin<br>Algorithm=Scrypt<br>0=%{x}<br>1=%{y}<br>2=%{z}<extra></extra>",
         "legendgroup": "IrishCoin, Scrypt",
         "marker": {
          "color": "#FECB52",
          "symbol": "circle"
         },
         "mode": "markers",
         "name": "IrishCoin, Scrypt",
         "scene": "scene",
         "showlegend": true,
         "type": "scatter3d",
         "x": [
          -0.18345549816454254
         ],
         "y": [
          -1.1474089442943103
         ],
         "z": [
          0.02310042156519037
         ]
        },
        {
         "hovertemplate": "CoinName=Trollcoin<br>Algorithm=Scrypt<br>0=%{x}<br>1=%{y}<br>2=%{z}<extra></extra>",
         "legendgroup": "Trollcoin, Scrypt",
         "marker": {
          "color": "#636efa",
          "symbol": "circle"
         },
         "mode": "markers",
         "name": "Trollcoin, Scrypt",
         "scene": "scene",
         "showlegend": true,
         "type": "scatter3d",
         "x": [
          -0.30399617705185455
         ],
         "y": [
          0.9657249553478902
         ],
         "z": [
          -0.6073281510934704
         ]
        },
        {
         "hovertemplate": "CoinName=Litecoin Plus<br>Algorithm=Scrypt<br>0=%{x}<br>1=%{y}<br>2=%{z}<extra></extra>",
         "legendgroup": "Litecoin Plus, Scrypt",
         "marker": {
          "color": "#EF553B",
          "symbol": "circle"
         },
         "mode": "markers",
         "name": "Litecoin Plus, Scrypt",
         "scene": "scene",
         "showlegend": true,
         "type": "scatter3d",
         "x": [
          -0.31709221373841084
         ],
         "y": [
          0.9660195575114875
         ],
         "z": [
          -0.6071299839127724
         ]
        },
        {
         "hovertemplate": "CoinName=Monkey Project<br>Algorithm=X11<br>0=%{x}<br>1=%{y}<br>2=%{z}<extra></extra>",
         "legendgroup": "Monkey Project, X11",
         "marker": {
          "color": "#00cc96",
          "symbol": "x"
         },
         "mode": "markers",
         "name": "Monkey Project, X11",
         "scene": "scene",
         "showlegend": true,
         "type": "scatter3d",
         "x": [
          -0.32794445229830343
         ],
         "y": [
          1.124658168434667
         ],
         "z": [
          -0.2761580631879637
         ]
        },
        {
         "hovertemplate": "CoinName=Pioneer Coin<br>Algorithm=X11<br>0=%{x}<br>1=%{y}<br>2=%{z}<extra></extra>",
         "legendgroup": "Pioneer Coin, X11",
         "marker": {
          "color": "#ab63fa",
          "symbol": "x"
         },
         "mode": "markers",
         "name": "Pioneer Coin, X11",
         "scene": "scene",
         "showlegend": true,
         "type": "scatter3d",
         "x": [
          -0.23570191275568253
         ],
         "y": [
          -0.9039458764983112
         ],
         "z": [
          0.06543158995903049
         ]
        },
        {
         "hovertemplate": "CoinName=UnitedBitcoin<br>Algorithm=SHA-256<br>0=%{x}<br>1=%{y}<br>2=%{z}<extra></extra>",
         "legendgroup": "UnitedBitcoin, SHA-256",
         "marker": {
          "color": "#FFA15A",
          "symbol": "square"
         },
         "mode": "markers",
         "name": "UnitedBitcoin, SHA-256",
         "scene": "scene",
         "showlegend": true,
         "type": "scatter3d",
         "x": [
          -0.15658756189338574
         ],
         "y": [
          -1.2429755493800645
         ],
         "z": [
          0.20421880319812508
         ]
        },
        {
         "hovertemplate": "CoinName=Interzone<br>Algorithm=C11<br>0=%{x}<br>1=%{y}<br>2=%{z}<extra></extra>",
         "legendgroup": "Interzone, C11",
         "marker": {
          "color": "#19d3f3",
          "symbol": "x"
         },
         "mode": "markers",
         "name": "Interzone, C11",
         "scene": "scene",
         "showlegend": true,
         "type": "scatter3d",
         "x": [
          -0.21381181927633894
         ],
         "y": [
          -1.1669452854183375
         ],
         "z": [
          0.14944983523126207
         ]
        },
        {
         "hovertemplate": "CoinName=TokenPay<br>Algorithm=POS 3.0<br>0=%{x}<br>1=%{y}<br>2=%{z}<extra></extra>",
         "legendgroup": "TokenPay, POS 3.0",
         "marker": {
          "color": "#FF6692",
          "symbol": "cross"
         },
         "mode": "markers",
         "name": "TokenPay, POS 3.0",
         "scene": "scene",
         "showlegend": true,
         "type": "scatter3d",
         "x": [
          -0.3203955059920492
         ],
         "y": [
          1.7457783929090351
         ],
         "z": [
          -0.21902465312217978
         ]
        },
        {
         "hovertemplate": "CoinName=1717 Masonic Commemorative Token<br>Algorithm=Ethash<br>0=%{x}<br>1=%{y}<br>2=%{z}<extra></extra>",
         "legendgroup": "1717 Masonic Commemorative Token, Ethash",
         "marker": {
          "color": "#B6E880",
          "symbol": "cross"
         },
         "mode": "markers",
         "name": "1717 Masonic Commemorative Token, Ethash",
         "scene": "scene",
         "showlegend": true,
         "type": "scatter3d",
         "x": [
          -0.26773165306478447
         ],
         "y": [
          0.11423849244709747
         ],
         "z": [
          0.0844394561159486
         ]
        },
        {
         "hovertemplate": "CoinName=My Big Coin<br>Algorithm=Scrypt<br>0=%{x}<br>1=%{y}<br>2=%{z}<extra></extra>",
         "legendgroup": "My Big Coin, Scrypt",
         "marker": {
          "color": "#FF97FF",
          "symbol": "circle"
         },
         "mode": "markers",
         "name": "My Big Coin, Scrypt",
         "scene": "scene",
         "showlegend": true,
         "type": "scatter3d",
         "x": [
          -0.2821314004601526
         ],
         "y": [
          0.2669067960616756
         ],
         "z": [
          -0.3421138903166293
         ]
        },
        {
         "hovertemplate": "CoinName=TurtleCoin<br>Algorithm=CryptoNight<br>0=%{x}<br>1=%{y}<br>2=%{z}<extra></extra>",
         "legendgroup": "TurtleCoin, CryptoNight",
         "marker": {
          "color": "#FECB52",
          "symbol": "diamond"
         },
         "mode": "markers",
         "name": "TurtleCoin, CryptoNight",
         "scene": "scene",
         "showlegend": true,
         "type": "scatter3d",
         "x": [
          7.675241540976405
         ],
         "y": [
          -2.752561346380464
         ],
         "z": [
          0.4264444585933301
         ]
        },
        {
         "hovertemplate": "CoinName=MUNcoin<br>Algorithm=SkunkHash<br>0=%{x}<br>1=%{y}<br>2=%{z}<extra></extra>",
         "legendgroup": "MUNcoin, SkunkHash",
         "marker": {
          "color": "#636efa",
          "symbol": "cross"
         },
         "mode": "markers",
         "name": "MUNcoin, SkunkHash",
         "scene": "scene",
         "showlegend": true,
         "type": "scatter3d",
         "x": [
          -0.17640346152010886
         ],
         "y": [
          -2.1208531304884075
         ],
         "z": [
          0.4631315794210791
         ]
        },
        {
         "hovertemplate": "CoinName=Unified Society USDEX<br>Algorithm=Scrypt<br>0=%{x}<br>1=%{y}<br>2=%{z}<extra></extra>",
         "legendgroup": "Unified Society USDEX, Scrypt",
         "marker": {
          "color": "#EF553B",
          "symbol": "circle"
         },
         "mode": "markers",
         "name": "Unified Society USDEX, Scrypt",
         "scene": "scene",
         "showlegend": true,
         "type": "scatter3d",
         "x": [
          -0.31277602146672956
         ],
         "y": [
          0.9659709535919412
         ],
         "z": [
          -0.607204234477942
         ]
        },
        {
         "hovertemplate": "CoinName=Niobio Cash<br>Algorithm=CryptoNight<br>0=%{x}<br>1=%{y}<br>2=%{z}<extra></extra>",
         "legendgroup": "Niobio Cash, CryptoNight",
         "marker": {
          "color": "#00cc96",
          "symbol": "diamond"
         },
         "mode": "markers",
         "name": "Niobio Cash, CryptoNight",
         "scene": "scene",
         "showlegend": true,
         "type": "scatter3d",
         "x": [
          0.25390618248182595
         ],
         "y": [
          -2.2311998790057515
         ],
         "z": [
          0.4734117993696916
         ]
        },
        {
         "hovertemplate": "CoinName=ShareChain<br>Algorithm=Scrypt<br>0=%{x}<br>1=%{y}<br>2=%{z}<extra></extra>",
         "legendgroup": "ShareChain, Scrypt",
         "marker": {
          "color": "#ab63fa",
          "symbol": "circle"
         },
         "mode": "markers",
         "name": "ShareChain, Scrypt",
         "scene": "scene",
         "showlegend": true,
         "type": "scatter3d",
         "x": [
          0.002606387448111802
         ],
         "y": [
          -1.1495815386919195
         ],
         "z": [
          0.01991390168337537
         ]
        },
        {
         "hovertemplate": "CoinName=Travelflex<br>Algorithm=Dagger<br>0=%{x}<br>1=%{y}<br>2=%{z}<extra></extra>",
         "legendgroup": "Travelflex, Dagger",
         "marker": {
          "color": "#FFA15A",
          "symbol": "circle"
         },
         "mode": "markers",
         "name": "Travelflex, Dagger",
         "scene": "scene",
         "showlegend": true,
         "type": "scatter3d",
         "x": [
          -0.17441780621078284
         ],
         "y": [
          -2.128672351624002
         ],
         "z": [
          0.46495606859260946
         ]
        },
        {
         "hovertemplate": "CoinName=KREDS<br>Algorithm=Lyra2REv2<br>0=%{x}<br>1=%{y}<br>2=%{z}<extra></extra>",
         "legendgroup": "KREDS, Lyra2REv2",
         "marker": {
          "color": "#19d3f3",
          "symbol": "circle"
         },
         "mode": "markers",
         "name": "KREDS, Lyra2REv2",
         "scene": "scene",
         "showlegend": true,
         "type": "scatter3d",
         "x": [
          -0.19157315491240262
         ],
         "y": [
          -1.1871908126394128
         ],
         "z": [
          0.22113300891226587
         ]
        },
        {
         "hovertemplate": "CoinName=Tokyo Coin<br>Algorithm=X13<br>0=%{x}<br>1=%{y}<br>2=%{z}<extra></extra>",
         "legendgroup": "Tokyo Coin, X13",
         "marker": {
          "color": "#FF6692",
          "symbol": "diamond"
         },
         "mode": "markers",
         "name": "Tokyo Coin, X13",
         "scene": "scene",
         "showlegend": true,
         "type": "scatter3d",
         "x": [
          -0.17808367979553613
         ],
         "y": [
          1.687569841436439
         ],
         "z": [
          -0.39669111580426236
         ]
        },
        {
         "hovertemplate": "CoinName=BiblePay<br>Algorithm=Proof-of-BibleHash<br>0=%{x}<br>1=%{y}<br>2=%{z}<extra></extra>",
         "legendgroup": "BiblePay, Proof-of-BibleHash",
         "marker": {
          "color": "#B6E880",
          "symbol": "circle"
         },
         "mode": "markers",
         "name": "BiblePay, Proof-of-BibleHash",
         "scene": "scene",
         "showlegend": true,
         "type": "scatter3d",
         "x": [
          -0.18968020652802314
         ],
         "y": [
          3.349705478686334
         ],
         "z": [
          13.042731484789964
         ]
        },
        {
         "hovertemplate": "CoinName=LitecoinCash<br>Algorithm=SHA-256 + Hive<br>0=%{x}<br>1=%{y}<br>2=%{z}<extra></extra>",
         "legendgroup": "LitecoinCash, SHA-256 + Hive",
         "marker": {
          "color": "#FF97FF",
          "symbol": "diamond"
         },
         "mode": "markers",
         "name": "LitecoinCash, SHA-256 + Hive",
         "scene": "scene",
         "showlegend": true,
         "type": "scatter3d",
         "x": [
          -0.3433652568610013
         ],
         "y": [
          3.38862653490132
         ],
         "z": [
          13.20719092615281
         ]
        },
        {
         "hovertemplate": "CoinName=BitFlip<br>Algorithm=Scrypt<br>0=%{x}<br>1=%{y}<br>2=%{z}<extra></extra>",
         "legendgroup": "BitFlip, Scrypt",
         "marker": {
          "color": "#FECB52",
          "symbol": "circle"
         },
         "mode": "markers",
         "name": "BitFlip, Scrypt",
         "scene": "scene",
         "showlegend": true,
         "type": "scatter3d",
         "x": [
          -0.18401203480355086
         ],
         "y": [
          -1.1474065668763862
         ],
         "z": [
          0.023110712549762782
         ]
        },
        {
         "hovertemplate": "CoinName=LottoCoin<br>Algorithm=Scrypt<br>0=%{x}<br>1=%{y}<br>2=%{z}<extra></extra>",
         "legendgroup": "LottoCoin, Scrypt",
         "marker": {
          "color": "#636efa",
          "symbol": "circle"
         },
         "mode": "markers",
         "name": "LottoCoin, Scrypt",
         "scene": "scene",
         "showlegend": true,
         "type": "scatter3d",
         "x": [
          0.11320373316079153
         ],
         "y": [
          -1.1526748102675044
         ],
         "z": [
          0.018351943031333046
         ]
        },
        {
         "hovertemplate": "CoinName=Crypto Improvement Fund<br>Algorithm=X11<br>0=%{x}<br>1=%{y}<br>2=%{z}<extra></extra>",
         "legendgroup": "Crypto Improvement Fund, X11",
         "marker": {
          "color": "#EF553B",
          "symbol": "x"
         },
         "mode": "markers",
         "name": "Crypto Improvement Fund, X11",
         "scene": "scene",
         "showlegend": true,
         "type": "scatter3d",
         "x": [
          -0.23004611196660552
         ],
         "y": [
          -0.904137981292379
         ],
         "z": [
          0.06535796594842663
         ]
        },
        {
         "hovertemplate": "CoinName=Stipend<br>Algorithm=C11<br>0=%{x}<br>1=%{y}<br>2=%{z}<extra></extra>",
         "legendgroup": "Stipend, C11",
         "marker": {
          "color": "#00cc96",
          "symbol": "x"
         },
         "mode": "markers",
         "name": "Stipend, C11",
         "scene": "scene",
         "showlegend": true,
         "type": "scatter3d",
         "x": [
          -0.3465618369640006
         ],
         "y": [
          0.9464663858742336
         ],
         "z": [
          -0.4807945620495314
         ]
        },
        {
         "hovertemplate": "CoinName=Poa Network<br>Algorithm=Proof-of-Authority<br>0=%{x}<br>1=%{y}<br>2=%{z}<extra></extra>",
         "legendgroup": "Poa Network, Proof-of-Authority",
         "marker": {
          "color": "#ab63fa",
          "symbol": "square"
         },
         "mode": "markers",
         "name": "Poa Network, Proof-of-Authority",
         "scene": "scene",
         "showlegend": true,
         "type": "scatter3d",
         "x": [
          -0.37601093017350284
         ],
         "y": [
          3.3921125649714727
         ],
         "z": [
          13.258023282731404
         ]
        },
        {
         "hovertemplate": "CoinName=Pushi<br>Algorithm=X11<br>0=%{x}<br>1=%{y}<br>2=%{z}<extra></extra>",
         "legendgroup": "Pushi, X11",
         "marker": {
          "color": "#FFA15A",
          "symbol": "x"
         },
         "mode": "markers",
         "name": "Pushi, X11",
         "scene": "scene",
         "showlegend": true,
         "type": "scatter3d",
         "x": [
          -0.36848073182278596
         ],
         "y": [
          1.209460945474829
         ],
         "z": [
          -0.5648113581716271
         ]
        },
        {
         "hovertemplate": "CoinName=Ellerium<br>Algorithm=XEVAN<br>0=%{x}<br>1=%{y}<br>2=%{z}<extra></extra>",
         "legendgroup": "Ellerium, XEVAN",
         "marker": {
          "color": "#19d3f3",
          "symbol": "x"
         },
         "mode": "markers",
         "name": "Ellerium, XEVAN",
         "scene": "scene",
         "showlegend": true,
         "type": "scatter3d",
         "x": [
          -0.28776419149615146
         ],
         "y": [
          1.5048704869776723
         ],
         "z": [
          -0.5325735317234553
         ]
        },
        {
         "hovertemplate": "CoinName=Velox<br>Algorithm=Scrypt<br>0=%{x}<br>1=%{y}<br>2=%{z}<extra></extra>",
         "legendgroup": "Velox, Scrypt",
         "marker": {
          "color": "#FF6692",
          "symbol": "circle"
         },
         "mode": "markers",
         "name": "Velox, Scrypt",
         "scene": "scene",
         "showlegend": true,
         "type": "scatter3d",
         "x": [
          -0.2754656251345452
         ],
         "y": [
          0.881156659013031
         ],
         "z": [
          -0.31848662601228084
         ]
        },
        {
         "hovertemplate": "CoinName=Ontology<br>Algorithm=VBFT<br>0=%{x}<br>1=%{y}<br>2=%{z}<extra></extra>",
         "legendgroup": "Ontology, VBFT",
         "marker": {
          "color": "#B6E880",
          "symbol": "cross"
         },
         "mode": "markers",
         "name": "Ontology, VBFT",
         "scene": "scene",
         "showlegend": true,
         "type": "scatter3d",
         "x": [
          -0.29792140507808396
         ],
         "y": [
          1.7387847391646212
         ],
         "z": [
          -0.21855696246770207
         ]
        },
        {
         "hovertemplate": "CoinName=Callisto Network<br>Algorithm=Ethash<br>0=%{x}<br>1=%{y}<br>2=%{z}<extra></extra>",
         "legendgroup": "Callisto Network, Ethash",
         "marker": {
          "color": "#FF97FF",
          "symbol": "cross"
         },
         "mode": "markers",
         "name": "Callisto Network, Ethash",
         "scene": "scene",
         "showlegend": true,
         "type": "scatter3d",
         "x": [
          -0.1284824808664409
         ],
         "y": [
          -1.9177863853766965
         ],
         "z": [
          0.4257534693091624
         ]
        },
        {
         "hovertemplate": "CoinName=BitTube<br>Algorithm=CryptoNight<br>0=%{x}<br>1=%{y}<br>2=%{z}<extra></extra>",
         "legendgroup": "BitTube, CryptoNight",
         "marker": {
          "color": "#FECB52",
          "symbol": "diamond"
         },
         "mode": "markers",
         "name": "BitTube, CryptoNight",
         "scene": "scene",
         "showlegend": true,
         "type": "scatter3d",
         "x": [
          0.25777438711504774
         ],
         "y": [
          -2.2315746180322624
         ],
         "z": [
          0.4734063035868941
         ]
        },
        {
         "hovertemplate": "CoinName=Poseidon<br>Algorithm=Scrypt<br>0=%{x}<br>1=%{y}<br>2=%{z}<extra></extra>",
         "legendgroup": "Poseidon, Scrypt",
         "marker": {
          "color": "#636efa",
          "symbol": "circle"
         },
         "mode": "markers",
         "name": "Poseidon, Scrypt",
         "scene": "scene",
         "showlegend": true,
         "type": "scatter3d",
         "x": [
          -0.18424085747688448
         ],
         "y": [
          -1.1473990097474605
         ],
         "z": [
          0.02311373087620845
         ]
        },
        {
         "hovertemplate": "CoinName=Aidos Kuneen<br>Algorithm=IMesh<br>0=%{x}<br>1=%{y}<br>2=%{z}<extra></extra>",
         "legendgroup": "Aidos Kuneen, IMesh",
         "marker": {
          "color": "#EF553B",
          "symbol": "circle"
         },
         "mode": "markers",
         "name": "Aidos Kuneen, IMesh",
         "scene": "scene",
         "showlegend": true,
         "type": "scatter3d",
         "x": [
          -0.17593889933191476
         ],
         "y": [
          -2.1208494786578966
         ],
         "z": [
          0.46311943741565686
         ]
        },
        {
         "hovertemplate": "CoinName=Bitspace<br>Algorithm=NIST5<br>0=%{x}<br>1=%{y}<br>2=%{z}<extra></extra>",
         "legendgroup": "Bitspace, NIST5",
         "marker": {
          "color": "#00cc96",
          "symbol": "x"
         },
         "mode": "markers",
         "name": "Bitspace, NIST5",
         "scene": "scene",
         "showlegend": true,
         "type": "scatter3d",
         "x": [
          -0.33144115548240904
         ],
         "y": [
          1.4822778878412066
         ],
         "z": [
          -0.6311883870313876
         ]
        },
        {
         "hovertemplate": "CoinName=Briacoin<br>Algorithm=Scrypt<br>0=%{x}<br>1=%{y}<br>2=%{z}<extra></extra>",
         "legendgroup": "Briacoin, Scrypt",
         "marker": {
          "color": "#ab63fa",
          "symbol": "circle"
         },
         "mode": "markers",
         "name": "Briacoin, Scrypt",
         "scene": "scene",
         "showlegend": true,
         "type": "scatter3d",
         "x": [
          -0.3171187655164333
         ],
         "y": [
          0.9660195664551549
         ],
         "z": [
          -0.6071294736812785
         ]
        },
        {
         "hovertemplate": "CoinName=Ignition<br>Algorithm=Scrypt<br>0=%{x}<br>1=%{y}<br>2=%{z}<extra></extra>",
         "legendgroup": "Ignition, Scrypt",
         "marker": {
          "color": "#FFA15A",
          "symbol": "circle"
         },
         "mode": "markers",
         "name": "Ignition, Scrypt",
         "scene": "scene",
         "showlegend": true,
         "type": "scatter3d",
         "x": [
          -0.3171011726103292
         ],
         "y": [
          0.9660185969491918
         ],
         "z": [
          -0.6071296341330218
         ]
        },
        {
         "hovertemplate": "CoinName=Bitrolium<br>Algorithm=Equihash<br>0=%{x}<br>1=%{y}<br>2=%{z}<extra></extra>",
         "legendgroup": "Bitrolium, Equihash",
         "marker": {
          "color": "#19d3f3",
          "symbol": "circle"
         },
         "mode": "markers",
         "name": "Bitrolium, Equihash",
         "scene": "scene",
         "showlegend": true,
         "type": "scatter3d",
         "x": [
          -0.17114762766892683
         ],
         "y": [
          -1.9528588777336164
         ],
         "z": [
          0.44889949957193986
         ]
        },
        {
         "hovertemplate": "CoinName=MedicCoin<br>Algorithm=Scrypt<br>0=%{x}<br>1=%{y}<br>2=%{z}<extra></extra>",
         "legendgroup": "MedicCoin, Scrypt",
         "marker": {
          "color": "#FF6692",
          "symbol": "circle"
         },
         "mode": "markers",
         "name": "MedicCoin, Scrypt",
         "scene": "scene",
         "showlegend": true,
         "type": "scatter3d",
         "x": [
          -0.27003238156422754
         ],
         "y": [
          0.8810313587232927
         ],
         "z": [
          -0.31856827387023395
         ]
        },
        {
         "hovertemplate": "CoinName=Alpenschillling<br>Algorithm=Lyra2Z<br>0=%{x}<br>1=%{y}<br>2=%{z}<extra></extra>",
         "legendgroup": "Alpenschillling, Lyra2Z",
         "marker": {
          "color": "#B6E880",
          "symbol": "diamond"
         },
         "mode": "markers",
         "name": "Alpenschillling, Lyra2Z",
         "scene": "scene",
         "showlegend": true,
         "type": "scatter3d",
         "x": [
          -0.17441757775167346
         ],
         "y": [
          -2.1327560390815647
         ],
         "z": [
          0.465930089470803
         ]
        },
        {
         "hovertemplate": "CoinName=Bitcoin Green<br>Algorithm=Green Protocol<br>0=%{x}<br>1=%{y}<br>2=%{z}<extra></extra>",
         "legendgroup": "Bitcoin Green, Green Protocol",
         "marker": {
          "color": "#FF97FF",
          "symbol": "diamond"
         },
         "mode": "markers",
         "name": "Bitcoin Green, Green Protocol",
         "scene": "scene",
         "showlegend": true,
         "type": "scatter3d",
         "x": [
          -0.3202326266470939
         ],
         "y": [
          1.7393984803843257
         ],
         "z": [
          -0.21812628056967343
         ]
        },
        {
         "hovertemplate": "CoinName=Deviant Coin<br>Algorithm=PoS<br>0=%{x}<br>1=%{y}<br>2=%{z}<extra></extra>",
         "legendgroup": "Deviant Coin, PoS",
         "marker": {
          "color": "#FECB52",
          "symbol": "square"
         },
         "mode": "markers",
         "name": "Deviant Coin, PoS",
         "scene": "scene",
         "showlegend": true,
         "type": "scatter3d",
         "x": [
          -0.3248821610481234
         ],
         "y": [
          1.8027566519539917
         ],
         "z": [
          -0.220275725706405
         ]
        },
        {
         "hovertemplate": "CoinName=Abjcoin<br>Algorithm=Scrypt<br>0=%{x}<br>1=%{y}<br>2=%{z}<extra></extra>",
         "legendgroup": "Abjcoin, Scrypt",
         "marker": {
          "color": "#636efa",
          "symbol": "circle"
         },
         "mode": "markers",
         "name": "Abjcoin, Scrypt",
         "scene": "scene",
         "showlegend": true,
         "type": "scatter3d",
         "x": [
          -0.3168277555156866
         ],
         "y": [
          0.9660079119786116
         ],
         "z": [
          -0.6071329356040903
         ]
        },
        {
         "hovertemplate": "CoinName=Semux<br>Algorithm=Semux BFT consensus<br>0=%{x}<br>1=%{y}<br>2=%{z}<extra></extra>",
         "legendgroup": "Semux, Semux BFT consensus",
         "marker": {
          "color": "#EF553B",
          "symbol": "square"
         },
         "mode": "markers",
         "name": "Semux, Semux BFT consensus",
         "scene": "scene",
         "showlegend": true,
         "type": "scatter3d",
         "x": [
          4.504287712455207
         ],
         "y": [
          1.7799400231428841
         ],
         "z": [
          -0.27728255297652005
         ]
        },
        {
         "hovertemplate": "CoinName=FuturoCoin<br>Algorithm=X11<br>0=%{x}<br>1=%{y}<br>2=%{z}<extra></extra>",
         "legendgroup": "FuturoCoin, X11",
         "marker": {
          "color": "#00cc96",
          "symbol": "x"
         },
         "mode": "markers",
         "name": "FuturoCoin, X11",
         "scene": "scene",
         "showlegend": true,
         "type": "scatter3d",
         "x": [
          -0.23490109227893569
         ],
         "y": [
          -0.9039798930818914
         ],
         "z": [
          0.06542242174930375
         ]
        },
        {
         "hovertemplate": "CoinName=Carebit<br>Algorithm=Quark<br>0=%{x}<br>1=%{y}<br>2=%{z}<extra></extra>",
         "legendgroup": "Carebit, Quark",
         "marker": {
          "color": "#ab63fa",
          "symbol": "cross"
         },
         "mode": "markers",
         "name": "Carebit, Quark",
         "scene": "scene",
         "showlegend": true,
         "type": "scatter3d",
         "x": [
          -0.3668034084681305
         ],
         "y": [
          1.7471126982527356
         ],
         "z": [
          -0.6008901959826463
         ]
        },
        {
         "hovertemplate": "CoinName=Zealium<br>Algorithm=PoS<br>0=%{x}<br>1=%{y}<br>2=%{z}<extra></extra>",
         "legendgroup": "Zealium, PoS",
         "marker": {
          "color": "#FFA15A",
          "symbol": "square"
         },
         "mode": "markers",
         "name": "Zealium, PoS",
         "scene": "scene",
         "showlegend": true,
         "type": "scatter3d",
         "x": [
          -0.3250651601069608
         ],
         "y": [
          1.8027575117744394
         ],
         "z": [
          -0.22027235624279537
         ]
        },
        {
         "hovertemplate": "CoinName=Monero Classic<br>Algorithm=CryptoNight<br>0=%{x}<br>1=%{y}<br>2=%{z}<extra></extra>",
         "legendgroup": "Monero Classic, CryptoNight",
         "marker": {
          "color": "#19d3f3",
          "symbol": "diamond"
         },
         "mode": "markers",
         "name": "Monero Classic, CryptoNight",
         "scene": "scene",
         "showlegend": true,
         "type": "scatter3d",
         "x": [
          0.2503444055248822
         ],
         "y": [
          -2.231066503043249
         ],
         "z": [
          0.47345587940862854
         ]
        },
        {
         "hovertemplate": "CoinName=Proton<br>Algorithm=X16R<br>0=%{x}<br>1=%{y}<br>2=%{z}<extra></extra>",
         "legendgroup": "Proton, X16R",
         "marker": {
          "color": "#FF6692",
          "symbol": "x"
         },
         "mode": "markers",
         "name": "Proton, X16R",
         "scene": "scene",
         "showlegend": true,
         "type": "scatter3d",
         "x": [
          -0.3006460170809561
         ],
         "y": [
          0.8418526676641933
         ],
         "z": [
          -0.12018308137660581
         ]
        },
        {
         "hovertemplate": "CoinName=iDealCash<br>Algorithm=Scrypt<br>0=%{x}<br>1=%{y}<br>2=%{z}<extra></extra>",
         "legendgroup": "iDealCash, Scrypt",
         "marker": {
          "color": "#B6E880",
          "symbol": "circle"
         },
         "mode": "markers",
         "name": "iDealCash, Scrypt",
         "scene": "scene",
         "showlegend": true,
         "type": "scatter3d",
         "x": [
          -0.2656339642627489
         ],
         "y": [
          0.9637111532627721
         ],
         "z": [
          -0.6076965045494158
         ]
        },
        {
         "hovertemplate": "CoinName=Jumpcoin<br>Algorithm=NIST5<br>0=%{x}<br>1=%{y}<br>2=%{z}<extra></extra>",
         "legendgroup": "Jumpcoin, NIST5",
         "marker": {
          "color": "#FF97FF",
          "symbol": "x"
         },
         "mode": "markers",
         "name": "Jumpcoin, NIST5",
         "scene": "scene",
         "showlegend": true,
         "type": "scatter3d",
         "x": [
          -0.19883415796365478
         ],
         "y": [
          -0.6311140856290441
         ],
         "z": [
          -0.0009448635319358698
         ]
        },
        {
         "hovertemplate": "CoinName=Infinex<br>Algorithm=Lyra2RE<br>0=%{x}<br>1=%{y}<br>2=%{z}<extra></extra>",
         "legendgroup": "Infinex, Lyra2RE",
         "marker": {
          "color": "#FECB52",
          "symbol": "diamond"
         },
         "mode": "markers",
         "name": "Infinex, Lyra2RE",
         "scene": "scene",
         "showlegend": true,
         "type": "scatter3d",
         "x": [
          -0.17685119273384906
         ],
         "y": [
          -2.1325809302649463
         ],
         "z": [
          0.46594869505181813
         ]
        },
        {
         "hovertemplate": "CoinName=Bitcoin Incognito<br>Algorithm=XEVAN<br>0=%{x}<br>1=%{y}<br>2=%{z}<extra></extra>",
         "legendgroup": "Bitcoin Incognito, XEVAN",
         "marker": {
          "color": "#636efa",
          "symbol": "x"
         },
         "mode": "markers",
         "name": "Bitcoin Incognito, XEVAN",
         "scene": "scene",
         "showlegend": true,
         "type": "scatter3d",
         "x": [
          -0.23694926322920135
         ],
         "y": [
          1.292360864776234
         ],
         "z": [
          -0.1934195507163019
         ]
        },
        {
         "hovertemplate": "CoinName=KEYCO<br>Algorithm=Tribus<br>0=%{x}<br>1=%{y}<br>2=%{z}<extra></extra>",
         "legendgroup": "KEYCO, Tribus",
         "marker": {
          "color": "#EF553B",
          "symbol": "cross"
         },
         "mode": "markers",
         "name": "KEYCO, Tribus",
         "scene": "scene",
         "showlegend": true,
         "type": "scatter3d",
         "x": [
          -0.17646345068860209
         ],
         "y": [
          -2.120857008599693
         ],
         "z": [
          0.4631338054491981
         ]
        },
        {
         "hovertemplate": "CoinName=HollyWoodCoin<br>Algorithm=Scrypt<br>0=%{x}<br>1=%{y}<br>2=%{z}<extra></extra>",
         "legendgroup": "HollyWoodCoin, Scrypt",
         "marker": {
          "color": "#00cc96",
          "symbol": "circle"
         },
         "mode": "markers",
         "name": "HollyWoodCoin, Scrypt",
         "scene": "scene",
         "showlegend": true,
         "type": "scatter3d",
         "x": [
          -0.2759747835724362
         ],
         "y": [
          0.8812136216996147
         ],
         "z": [
          -0.3184873104051692
         ]
        },
        {
         "hovertemplate": "CoinName=GINcoin<br>Algorithm=Lyra2Z<br>0=%{x}<br>1=%{y}<br>2=%{z}<extra></extra>",
         "legendgroup": "GINcoin, Lyra2Z",
         "marker": {
          "color": "#ab63fa",
          "symbol": "diamond"
         },
         "mode": "markers",
         "name": "GINcoin, Lyra2Z",
         "scene": "scene",
         "showlegend": true,
         "type": "scatter3d",
         "x": [
          -0.17662637898430006
         ],
         "y": [
          -2.1326066514411535
         ],
         "z": [
          0.46594513456386455
         ]
        },
        {
         "hovertemplate": "CoinName=PlatinCoin<br>Algorithm=CryptoNight<br>0=%{x}<br>1=%{y}<br>2=%{z}<extra></extra>",
         "legendgroup": "PlatinCoin, CryptoNight",
         "marker": {
          "color": "#FFA15A",
          "symbol": "diamond"
         },
         "mode": "markers",
         "name": "PlatinCoin, CryptoNight",
         "scene": "scene",
         "showlegend": true,
         "type": "scatter3d",
         "x": [
          0.2541049889010683
         ],
         "y": [
          -2.231384758824681
         ],
         "z": [
          0.4734420465510813
         ]
        },
        {
         "hovertemplate": "CoinName=Loki<br>Algorithm=CryptoNight Heavy<br>0=%{x}<br>1=%{y}<br>2=%{z}<extra></extra>",
         "legendgroup": "Loki, CryptoNight Heavy",
         "marker": {
          "color": "#19d3f3",
          "symbol": "circle"
         },
         "mode": "markers",
         "name": "Loki, CryptoNight Heavy",
         "scene": "scene",
         "showlegend": true,
         "type": "scatter3d",
         "x": [
          0.511966482189029
         ],
         "y": [
          -2.155437289675167
         ],
         "z": [
          0.44679815425948916
         ]
        },
        {
         "hovertemplate": "CoinName=Newton Coin<br>Algorithm=CryptoNight<br>0=%{x}<br>1=%{y}<br>2=%{z}<extra></extra>",
         "legendgroup": "Newton Coin, CryptoNight",
         "marker": {
          "color": "#FF6692",
          "symbol": "diamond"
         },
         "mode": "markers",
         "name": "Newton Coin, CryptoNight",
         "scene": "scene",
         "showlegend": true,
         "type": "scatter3d",
         "x": [
          1.9916833488580283
         ],
         "y": [
          -2.316957211319312
         ],
         "z": [
          0.45571805928065334
         ]
        },
        {
         "hovertemplate": "CoinName=Swisscoin<br>Algorithm=Scrypt<br>0=%{x}<br>1=%{y}<br>2=%{z}<extra></extra>",
         "legendgroup": "Swisscoin, Scrypt",
         "marker": {
          "color": "#B6E880",
          "symbol": "circle"
         },
         "mode": "markers",
         "name": "Swisscoin, Scrypt",
         "scene": "scene",
         "showlegend": true,
         "type": "scatter3d",
         "x": [
          -0.12637008326711607
         ],
         "y": [
          0.9637845237524431
         ],
         "z": [
          -0.6103948368384331
         ]
        },
        {
         "hovertemplate": "CoinName=Xt3ch<br>Algorithm=Scrypt<br>0=%{x}<br>1=%{y}<br>2=%{z}<extra></extra>",
         "legendgroup": "Xt3ch, Scrypt",
         "marker": {
          "color": "#FF97FF",
          "symbol": "circle"
         },
         "mode": "markers",
         "name": "Xt3ch, Scrypt",
         "scene": "scene",
         "showlegend": true,
         "type": "scatter3d",
         "x": [
          -0.27622269804793964
         ],
         "y": [
          0.881194009393161
         ],
         "z": [
          -0.3184789157292198
         ]
        },
        {
         "hovertemplate": "CoinName=MassGrid<br>Algorithm=Jump Consistent Hash<br>0=%{x}<br>1=%{y}<br>2=%{z}<extra></extra>",
         "legendgroup": "MassGrid, Jump Consistent Hash",
         "marker": {
          "color": "#FECB52",
          "symbol": "diamond"
         },
         "mode": "markers",
         "name": "MassGrid, Jump Consistent Hash",
         "scene": "scene",
         "showlegend": true,
         "type": "scatter3d",
         "x": [
          -0.17235947779159055
         ],
         "y": [
          -2.120928662351993
         ],
         "z": [
          0.46304661777621847
         ]
        },
        {
         "hovertemplate": "CoinName=TheVig<br>Algorithm=SHA-256D<br>0=%{x}<br>1=%{y}<br>2=%{z}<extra></extra>",
         "legendgroup": "TheVig, SHA-256D",
         "marker": {
          "color": "#636efa",
          "symbol": "circle"
         },
         "mode": "markers",
         "name": "TheVig, SHA-256D",
         "scene": "scene",
         "showlegend": true,
         "type": "scatter3d",
         "x": [
          -0.3163239178841441
         ],
         "y": [
          1.9088142351509083
         ],
         "z": [
          -0.8004708120319176
         ]
        },
        {
         "hovertemplate": "CoinName=PluraCoin<br>Algorithm=CryptoNight<br>0=%{x}<br>1=%{y}<br>2=%{z}<extra></extra>",
         "legendgroup": "PluraCoin, CryptoNight",
         "marker": {
          "color": "#EF553B",
          "symbol": "diamond"
         },
         "mode": "markers",
         "name": "PluraCoin, CryptoNight",
         "scene": "scene",
         "showlegend": true,
         "type": "scatter3d",
         "x": [
          0.26349239632672555
         ],
         "y": [
          -2.2314213861402403
         ],
         "z": [
          0.473267822533335
         ]
        },
        {
         "hovertemplate": "CoinName=EmaratCoin<br>Algorithm=Scrypt<br>0=%{x}<br>1=%{y}<br>2=%{z}<extra></extra>",
         "legendgroup": "EmaratCoin, Scrypt",
         "marker": {
          "color": "#00cc96",
          "symbol": "circle"
         },
         "mode": "markers",
         "name": "EmaratCoin, Scrypt",
         "scene": "scene",
         "showlegend": true,
         "type": "scatter3d",
         "x": [
          -0.31632138482409283
         ],
         "y": [
          0.9659825757663085
         ],
         "z": [
          -0.6071380273442124
         ]
        },
        {
         "hovertemplate": "CoinName=Dekado<br>Algorithm=X15<br>0=%{x}<br>1=%{y}<br>2=%{z}<extra></extra>",
         "legendgroup": "Dekado, X15",
         "marker": {
          "color": "#ab63fa",
          "symbol": "x"
         },
         "mode": "markers",
         "name": "Dekado, X15",
         "scene": "scene",
         "showlegend": true,
         "type": "scatter3d",
         "x": [
          -0.18209287128396978
         ],
         "y": [
          1.7989276786610022
         ],
         "z": [
          -0.44103393670965546
         ]
        },
        {
         "hovertemplate": "CoinName=Lynx<br>Algorithm=Scrypt<br>0=%{x}<br>1=%{y}<br>2=%{z}<extra></extra>",
         "legendgroup": "Lynx, Scrypt",
         "marker": {
          "color": "#FFA15A",
          "symbol": "circle"
         },
         "mode": "markers",
         "name": "Lynx, Scrypt",
         "scene": "scene",
         "showlegend": true,
         "type": "scatter3d",
         "x": [
          2.142036859362671
         ],
         "y": [
          0.21996588518099794
         ],
         "z": [
          -0.39272285661723244
         ]
        },
        {
         "hovertemplate": "CoinName=Poseidon Quark<br>Algorithm=Quark<br>0=%{x}<br>1=%{y}<br>2=%{z}<extra></extra>",
         "legendgroup": "Poseidon Quark, Quark",
         "marker": {
          "color": "#19d3f3",
          "symbol": "cross"
         },
         "mode": "markers",
         "name": "Poseidon Quark, Quark",
         "scene": "scene",
         "showlegend": true,
         "type": "scatter3d",
         "x": [
          -0.32484229835990774
         ],
         "y": [
          1.6620210054466207
         ],
         "z": [
          -0.31221111230057325
         ]
        },
        {
         "hovertemplate": "CoinName=BitcoinWSpectrum<br>Algorithm=SHA-256<br>0=%{x}<br>1=%{y}<br>2=%{z}<extra></extra>",
         "legendgroup": "BitcoinWSpectrum, SHA-256",
         "marker": {
          "color": "#FF6692",
          "symbol": "square"
         },
         "mode": "markers",
         "name": "BitcoinWSpectrum, SHA-256",
         "scene": "scene",
         "showlegend": true,
         "type": "scatter3d",
         "x": [
          -0.2477755822122198
         ],
         "y": [
          0.7855976058977767
         ],
         "z": [
          -0.1373854855092998
         ]
        },
        {
         "hovertemplate": "CoinName=Muse<br>Algorithm=DPoS<br>0=%{x}<br>1=%{y}<br>2=%{z}<extra></extra>",
         "legendgroup": "Muse, DPoS",
         "marker": {
          "color": "#B6E880",
          "symbol": "x"
         },
         "mode": "markers",
         "name": "Muse, DPoS",
         "scene": "scene",
         "showlegend": true,
         "type": "scatter3d",
         "x": [
          1.087590579788488
         ],
         "y": [
          1.7678471851968358
         ],
         "z": [
          -0.24398510548505567
         ]
        },
        {
         "hovertemplate": "CoinName=Motion<br>Algorithm=X16R<br>0=%{x}<br>1=%{y}<br>2=%{z}<extra></extra>",
         "legendgroup": "Motion, X16R",
         "marker": {
          "color": "#FF97FF",
          "symbol": "x"
         },
         "mode": "markers",
         "name": "Motion, X16R",
         "scene": "scene",
         "showlegend": true,
         "type": "scatter3d",
         "x": [
          -0.20857692378817355
         ],
         "y": [
          -1.186738067808038
         ],
         "z": [
          0.22140746216094298
         ]
        },
        {
         "hovertemplate": "CoinName=PlusOneCoin<br>Algorithm=HMQ1725<br>0=%{x}<br>1=%{y}<br>2=%{z}<extra></extra>",
         "legendgroup": "PlusOneCoin, HMQ1725",
         "marker": {
          "color": "#FECB52",
          "symbol": "square"
         },
         "mode": "markers",
         "name": "PlusOneCoin, HMQ1725",
         "scene": "scene",
         "showlegend": true,
         "type": "scatter3d",
         "x": [
          -0.17628558790175802
         ],
         "y": [
          -2.12085531427183
         ],
         "z": [
          0.46312909952679143
         ]
        },
        {
         "hovertemplate": "CoinName=Axe<br>Algorithm=X11<br>0=%{x}<br>1=%{y}<br>2=%{z}<extra></extra>",
         "legendgroup": "Axe, X11",
         "marker": {
          "color": "#636efa",
          "symbol": "x"
         },
         "mode": "markers",
         "name": "Axe, X11",
         "scene": "scene",
         "showlegend": true,
         "type": "scatter3d",
         "x": [
          -0.23575701003809377
         ],
         "y": [
          -0.9039459120390921
         ],
         "z": [
          0.0654326587068871
         ]
        },
        {
         "hovertemplate": "CoinName=Trivechain<br>Algorithm=X16R<br>0=%{x}<br>1=%{y}<br>2=%{z}<extra></extra>",
         "legendgroup": "Trivechain, X16R",
         "marker": {
          "color": "#EF553B",
          "symbol": "x"
         },
         "mode": "markers",
         "name": "Trivechain, X16R",
         "scene": "scene",
         "showlegend": true,
         "type": "scatter3d",
         "x": [
          -0.340540408132185
         ],
         "y": [
          0.9266484764334638
         ],
         "z": [
          -0.40884746654914006
         ]
        },
        {
         "hovertemplate": "CoinName=Dystem<br>Algorithm=Quark<br>0=%{x}<br>1=%{y}<br>2=%{z}<extra></extra>",
         "legendgroup": "Dystem, Quark",
         "marker": {
          "color": "#00cc96",
          "symbol": "cross"
         },
         "mode": "markers",
         "name": "Dystem, Quark",
         "scene": "scene",
         "showlegend": true,
         "type": "scatter3d",
         "x": [
          -0.32906260484113015
         ],
         "y": [
          1.6623610919576313
         ],
         "z": [
          -0.31219244081700953
         ]
        },
        {
         "hovertemplate": "CoinName=Giant<br>Algorithm=Quark<br>0=%{x}<br>1=%{y}<br>2=%{z}<extra></extra>",
         "legendgroup": "Giant, Quark",
         "marker": {
          "color": "#ab63fa",
          "symbol": "cross"
         },
         "mode": "markers",
         "name": "Giant, Quark",
         "scene": "scene",
         "showlegend": true,
         "type": "scatter3d",
         "x": [
          -0.36972088027376315
         ],
         "y": [
          1.7471749005717883
         ],
         "z": [
          -0.6008454174037571
         ]
        },
        {
         "hovertemplate": "CoinName=Peony Coin<br>Algorithm=Scrypt<br>0=%{x}<br>1=%{y}<br>2=%{z}<extra></extra>",
         "legendgroup": "Peony Coin, Scrypt",
         "marker": {
          "color": "#FFA15A",
          "symbol": "circle"
         },
         "mode": "markers",
         "name": "Peony Coin, Scrypt",
         "scene": "scene",
         "showlegend": true,
         "type": "scatter3d",
         "x": [
          -0.16194715001978943
         ],
         "y": [
          0.8721263546602321
         ],
         "z": [
          -0.319010494911793
         ]
        },
        {
         "hovertemplate": "CoinName=Absolute Coin<br>Algorithm=Lyra2REv2<br>0=%{x}<br>1=%{y}<br>2=%{z}<extra></extra>",
         "legendgroup": "Absolute Coin, Lyra2REv2",
         "marker": {
          "color": "#19d3f3",
          "symbol": "circle"
         },
         "mode": "markers",
         "name": "Absolute Coin, Lyra2REv2",
         "scene": "scene",
         "showlegend": true,
         "type": "scatter3d",
         "x": [
          -0.3389150854046182
         ],
         "y": [
          0.9265818905452557
         ],
         "z": [
          -0.40889662819202477
         ]
        },
        {
         "hovertemplate": "CoinName=Vitae<br>Algorithm=Quark<br>0=%{x}<br>1=%{y}<br>2=%{z}<extra></extra>",
         "legendgroup": "Vitae, Quark",
         "marker": {
          "color": "#FF6692",
          "symbol": "cross"
         },
         "mode": "markers",
         "name": "Vitae, Quark",
         "scene": "scene",
         "showlegend": true,
         "type": "scatter3d",
         "x": [
          -0.32782357350088076
         ],
         "y": [
          1.6623373776382162
         ],
         "z": [
          -0.31221195617383607
         ]
        },
        {
         "hovertemplate": "CoinName=HexCoin<br>Algorithm=Scrypt<br>0=%{x}<br>1=%{y}<br>2=%{z}<extra></extra>",
         "legendgroup": "HexCoin, Scrypt",
         "marker": {
          "color": "#B6E880",
          "symbol": "circle"
         },
         "mode": "markers",
         "name": "HexCoin, Scrypt",
         "scene": "scene",
         "showlegend": true,
         "type": "scatter3d",
         "x": [
          -0.18426495830045309
         ],
         "y": [
          -1.14740045192561
         ],
         "z": [
          0.023114461349849694
         ]
        },
        {
         "hovertemplate": "CoinName=TPCash<br>Algorithm=Scrypt<br>0=%{x}<br>1=%{y}<br>2=%{z}<extra></extra>",
         "legendgroup": "TPCash, Scrypt",
         "marker": {
          "color": "#FF97FF",
          "symbol": "circle"
         },
         "mode": "markers",
         "name": "TPCash, Scrypt",
         "scene": "scene",
         "showlegend": true,
         "type": "scatter3d",
         "x": [
          -0.3102926149468501
         ],
         "y": [
          0.965484174517296
         ],
         "z": [
          -0.6071623804030686
         ]
        },
        {
         "hovertemplate": "CoinName=Webchain<br>Algorithm=CryptoNight-V7<br>0=%{x}<br>1=%{y}<br>2=%{z}<extra></extra>",
         "legendgroup": "Webchain, CryptoNight-V7",
         "marker": {
          "color": "#FECB52",
          "symbol": "circle"
         },
         "mode": "markers",
         "name": "Webchain, CryptoNight-V7",
         "scene": "scene",
         "showlegend": true,
         "type": "scatter3d",
         "x": [
          -0.16136927194711773
         ],
         "y": [
          -2.1338280780000147
         ],
         "z": [
          0.4658316804376581
         ]
        },
        {
         "hovertemplate": "CoinName=Ryo<br>Algorithm=Cryptonight-GPU<br>0=%{x}<br>1=%{y}<br>2=%{z}<extra></extra>",
         "legendgroup": "Ryo, Cryptonight-GPU",
         "marker": {
          "color": "#636efa",
          "symbol": "x"
         },
         "mode": "markers",
         "name": "Ryo, Cryptonight-GPU",
         "scene": "scene",
         "showlegend": true,
         "type": "scatter3d",
         "x": [
          -0.17564268299900954
         ],
         "y": [
          -2.1209264396693635
         ],
         "z": [
          0.4631270136216027
         ]
        },
        {
         "hovertemplate": "CoinName=Urals Coin<br>Algorithm=XEVAN<br>0=%{x}<br>1=%{y}<br>2=%{z}<extra></extra>",
         "legendgroup": "Urals Coin, XEVAN",
         "marker": {
          "color": "#EF553B",
          "symbol": "x"
         },
         "mode": "markers",
         "name": "Urals Coin, XEVAN",
         "scene": "scene",
         "showlegend": true,
         "type": "scatter3d",
         "x": [
          -0.15385746256050198
         ],
         "y": [
          -0.6086156223019223
         ],
         "z": [
          0.09766228737789868
         ]
        },
        {
         "hovertemplate": "CoinName=Qwertycoin<br>Algorithm=CryptoNight Heavy<br>0=%{x}<br>1=%{y}<br>2=%{z}<extra></extra>",
         "legendgroup": "Qwertycoin, CryptoNight Heavy",
         "marker": {
          "color": "#00cc96",
          "symbol": "circle"
         },
         "mode": "markers",
         "name": "Qwertycoin, CryptoNight Heavy",
         "scene": "scene",
         "showlegend": true,
         "type": "scatter3d",
         "x": [
          2.9495198269146226
         ],
         "y": [
          -2.2229145723837003
         ],
         "z": [
          0.41224407589071277
         ]
        },
        {
         "hovertemplate": "CoinName=ARENON<br>Algorithm=X11<br>0=%{x}<br>1=%{y}<br>2=%{z}<extra></extra>",
         "legendgroup": "ARENON, X11",
         "marker": {
          "color": "#ab63fa",
          "symbol": "x"
         },
         "mode": "markers",
         "name": "ARENON, X11",
         "scene": "scene",
         "showlegend": true,
         "type": "scatter3d",
         "x": [
          -0.32753648306833694
         ],
         "y": [
          1.1246446048758358
         ],
         "z": [
          -0.2761634280053298
         ]
        },
        {
         "hovertemplate": "CoinName=EUNO<br>Algorithm=X11<br>0=%{x}<br>1=%{y}<br>2=%{z}<extra></extra>",
         "legendgroup": "EUNO, X11",
         "marker": {
          "color": "#FFA15A",
          "symbol": "x"
         },
         "mode": "markers",
         "name": "EUNO, X11",
         "scene": "scene",
         "showlegend": true,
         "type": "scatter3d",
         "x": [
          -0.36797021484120906
         ],
         "y": [
          1.2094566143352639
         ],
         "z": [
          -0.5648204018233968
         ]
        },
        {
         "hovertemplate": "CoinName=MMOCoin<br>Algorithm=Scrypt<br>0=%{x}<br>1=%{y}<br>2=%{z}<extra></extra>",
         "legendgroup": "MMOCoin, Scrypt",
         "marker": {
          "color": "#19d3f3",
          "symbol": "circle"
         },
         "mode": "markers",
         "name": "MMOCoin, Scrypt",
         "scene": "scene",
         "showlegend": true,
         "type": "scatter3d",
         "x": [
          -0.2735628208842452
         ],
         "y": [
          0.8811096651205786
         ],
         "z": [
          -0.3185146467091175
         ]
        },
        {
         "hovertemplate": "CoinName=Ketan<br>Algorithm=PoS<br>0=%{x}<br>1=%{y}<br>2=%{z}<extra></extra>",
         "legendgroup": "Ketan, PoS",
         "marker": {
          "color": "#FF6692",
          "symbol": "square"
         },
         "mode": "markers",
         "name": "Ketan, PoS",
         "scene": "scene",
         "showlegend": true,
         "type": "scatter3d",
         "x": [
          -0.32420299286268284
         ],
         "y": [
          1.8026869536558006
         ],
         "z": [
          -0.2202759712339189
         ]
        },
        {
         "hovertemplate": "CoinName=Project Pai<br>Algorithm=SHA-256<br>0=%{x}<br>1=%{y}<br>2=%{z}<extra></extra>",
         "legendgroup": "Project Pai, SHA-256",
         "marker": {
          "color": "#B6E880",
          "symbol": "square"
         },
         "mode": "markers",
         "name": "Project Pai, SHA-256",
         "scene": "scene",
         "showlegend": true,
         "type": "scatter3d",
         "x": [
          -0.11768668690222178
         ],
         "y": [
          -1.243431560764539
         ],
         "z": [
          0.20355290923719896
         ]
        },
        {
         "hovertemplate": "CoinName=XDNA<br>Algorithm=Keccak<br>0=%{x}<br>1=%{y}<br>2=%{z}<extra></extra>",
         "legendgroup": "XDNA, Keccak",
         "marker": {
          "color": "#FF97FF",
          "symbol": "x"
         },
         "mode": "markers",
         "name": "XDNA, Keccak",
         "scene": "scene",
         "showlegend": true,
         "type": "scatter3d",
         "x": [
          -0.3266359726468189
         ],
         "y": [
          0.9453000175965848
         ],
         "z": [
          -0.4812079102821022
         ]
        },
        {
         "hovertemplate": "CoinName=PAXEX<br>Algorithm=X11<br>0=%{x}<br>1=%{y}<br>2=%{z}<extra></extra>",
         "legendgroup": "PAXEX, X11",
         "marker": {
          "color": "#FECB52",
          "symbol": "x"
         },
         "mode": "markers",
         "name": "PAXEX, X11",
         "scene": "scene",
         "showlegend": true,
         "type": "scatter3d",
         "x": [
          -0.3274067059181177
         ],
         "y": [
          1.1246156609973512
         ],
         "z": [
          -0.27616059454275077
         ]
        },
        {
         "hovertemplate": "CoinName=Azart<br>Algorithm=X11<br>0=%{x}<br>1=%{y}<br>2=%{z}<extra></extra>",
         "legendgroup": "Azart, X11",
         "marker": {
          "color": "#636efa",
          "symbol": "x"
         },
         "mode": "markers",
         "name": "Azart, X11",
         "scene": "scene",
         "showlegend": true,
         "type": "scatter3d",
         "x": [
          -0.23572956892103747
         ],
         "y": [
          -0.90394805859428
         ],
         "z": [
          0.06543252536755195
         ]
        },
        {
         "hovertemplate": "CoinName=ThunderStake<br>Algorithm=Scrypt<br>0=%{x}<br>1=%{y}<br>2=%{z}<extra></extra>",
         "legendgroup": "ThunderStake, Scrypt",
         "marker": {
          "color": "#EF553B",
          "symbol": "circle"
         },
         "mode": "markers",
         "name": "ThunderStake, Scrypt",
         "scene": "scene",
         "showlegend": true,
         "type": "scatter3d",
         "x": [
          -0.1822632817697511
         ],
         "y": [
          0.9566669364112101
         ],
         "z": [
          -0.6080052734332586
         ]
        },
        {
         "hovertemplate": "CoinName=Kcash<br>Algorithm=SHA-512<br>0=%{x}<br>1=%{y}<br>2=%{z}<extra></extra>",
         "legendgroup": "Kcash, SHA-512",
         "marker": {
          "color": "#00cc96",
          "symbol": "diamond"
         },
         "mode": "markers",
         "name": "Kcash, SHA-512",
         "scene": "scene",
         "showlegend": true,
         "type": "scatter3d",
         "x": [
          -0.30485063887472
         ],
         "y": [
          2.042745135325125
         ],
         "z": [
          -0.07077834786426229
         ]
        },
        {
         "hovertemplate": "CoinName=Xchange<br>Algorithm=X16R<br>0=%{x}<br>1=%{y}<br>2=%{z}<extra></extra>",
         "legendgroup": "Xchange, X16R",
         "marker": {
          "color": "#ab63fa",
          "symbol": "x"
         },
         "mode": "markers",
         "name": "Xchange, X16R",
         "scene": "scene",
         "showlegend": true,
         "type": "scatter3d",
         "x": [
          -0.20802825308289516
         ],
         "y": [
          -1.1867795074721703
         ],
         "z": [
          0.2214045233725374
         ]
        },
        {
         "hovertemplate": "CoinName=Acute Angle Cloud<br>Algorithm=ECC 256K1<br>0=%{x}<br>1=%{y}<br>2=%{z}<extra></extra>",
         "legendgroup": "Acute Angle Cloud, ECC 256K1",
         "marker": {
          "color": "#FFA15A",
          "symbol": "cross"
         },
         "mode": "markers",
         "name": "Acute Angle Cloud, ECC 256K1",
         "scene": "scene",
         "showlegend": true,
         "type": "scatter3d",
         "x": [
          -0.32413894212490707
         ],
         "y": [
          3.389200362819225
         ],
         "z": [
          13.168519730640131
         ]
        },
        {
         "hovertemplate": "CoinName=CrypticCoin<br>Algorithm=Equihash<br>0=%{x}<br>1=%{y}<br>2=%{z}<extra></extra>",
         "legendgroup": "CrypticCoin, Equihash",
         "marker": {
          "color": "#19d3f3",
          "symbol": "circle"
         },
         "mode": "markers",
         "name": "CrypticCoin, Equihash",
         "scene": "scene",
         "showlegend": true,
         "type": "scatter3d",
         "x": [
          -0.07040510514979739
         ],
         "y": [
          -1.9555843923913965
         ],
         "z": [
          0.44745973715562554
         ]
        },
        {
         "hovertemplate": "CoinName=Bettex coin<br>Algorithm=XEVAN<br>0=%{x}<br>1=%{y}<br>2=%{z}<extra></extra>",
         "legendgroup": "Bettex coin, XEVAN",
         "marker": {
          "color": "#FF6692",
          "symbol": "x"
         },
         "mode": "markers",
         "name": "Bettex coin, XEVAN",
         "scene": "scene",
         "showlegend": true,
         "type": "scatter3d",
         "x": [
          -0.24721948586613565
         ],
         "y": [
          1.42007225862956
         ],
         "z": [
          -0.24392123766767523
         ]
        },
        {
         "hovertemplate": "CoinName=Actinium<br>Algorithm=Lyra2Z<br>0=%{x}<br>1=%{y}<br>2=%{z}<extra></extra>",
         "legendgroup": "Actinium, Lyra2Z",
         "marker": {
          "color": "#B6E880",
          "symbol": "diamond"
         },
         "mode": "markers",
         "name": "Actinium, Lyra2Z",
         "scene": "scene",
         "showlegend": true,
         "type": "scatter3d",
         "x": [
          -0.17604795620793132
         ],
         "y": [
          -2.1326441061799803
         ],
         "z": [
          0.4659408876357351
         ]
        },
        {
         "hovertemplate": "CoinName=Bitcoin SV<br>Algorithm=SHA-256<br>0=%{x}<br>1=%{y}<br>2=%{z}<extra></extra>",
         "legendgroup": "Bitcoin SV, SHA-256",
         "marker": {
          "color": "#FF97FF",
          "symbol": "square"
         },
         "mode": "markers",
         "name": "Bitcoin SV, SHA-256",
         "scene": "scene",
         "showlegend": true,
         "type": "scatter3d",
         "x": [
          -0.15660778686907492
         ],
         "y": [
          -1.242976692252842
         ],
         "z": [
          0.20421940377843206
         ]
        },
        {
         "hovertemplate": "CoinName=BitMoney<br>Algorithm=XEVAN<br>0=%{x}<br>1=%{y}<br>2=%{z}<extra></extra>",
         "legendgroup": "BitMoney, XEVAN",
         "marker": {
          "color": "#FECB52",
          "symbol": "x"
         },
         "mode": "markers",
         "name": "BitMoney, XEVAN",
         "scene": "scene",
         "showlegend": true,
         "type": "scatter3d",
         "x": [
          0.5090777020206471
         ],
         "y": [
          1.220777209134723
         ],
         "z": [
          -0.19795556043187992
         ]
        },
        {
         "hovertemplate": "CoinName=FREDEnergy<br>Algorithm=CryptoNight<br>0=%{x}<br>1=%{y}<br>2=%{z}<extra></extra>",
         "legendgroup": "FREDEnergy, CryptoNight",
         "marker": {
          "color": "#636efa",
          "symbol": "diamond"
         },
         "mode": "markers",
         "name": "FREDEnergy, CryptoNight",
         "scene": "scene",
         "showlegend": true,
         "type": "scatter3d",
         "x": [
          0.32714949693469775
         ],
         "y": [
          -2.234816503732085
         ],
         "z": [
          0.47266644524448115
         ]
        },
        {
         "hovertemplate": "CoinName=HerbCoin<br>Algorithm=Quark<br>0=%{x}<br>1=%{y}<br>2=%{z}<extra></extra>",
         "legendgroup": "HerbCoin, Quark",
         "marker": {
          "color": "#EF553B",
          "symbol": "cross"
         },
         "mode": "markers",
         "name": "HerbCoin, Quark",
         "scene": "scene",
         "showlegend": true,
         "type": "scatter3d",
         "x": [
          -0.3690389723603119
         ],
         "y": [
          1.747157979626446
         ],
         "z": [
          -0.6008554444803443
         ]
        },
        {
         "hovertemplate": "CoinName=Universal Molecule<br>Algorithm=Blake<br>0=%{x}<br>1=%{y}<br>2=%{z}<extra></extra>",
         "legendgroup": "Universal Molecule, Blake",
         "marker": {
          "color": "#00cc96",
          "symbol": "circle"
         },
         "mode": "markers",
         "name": "Universal Molecule, Blake",
         "scene": "scene",
         "showlegend": true,
         "type": "scatter3d",
         "x": [
          -0.16712041877497238
         ],
         "y": [
          -2.1298368785960027
         ],
         "z": [
          0.46492418866974206
         ]
        },
        {
         "hovertemplate": "CoinName=Lithium<br>Algorithm=Blake<br>0=%{x}<br>1=%{y}<br>2=%{z}<extra></extra>",
         "legendgroup": "Lithium, Blake",
         "marker": {
          "color": "#ab63fa",
          "symbol": "circle"
         },
         "mode": "markers",
         "name": "Lithium, Blake",
         "scene": "scene",
         "showlegend": true,
         "type": "scatter3d",
         "x": [
          -0.16749309835721046
         ],
         "y": [
          -2.1297893055849295
         ],
         "z": [
          0.4649226040096127
         ]
        },
        {
         "hovertemplate": "CoinName=PirateCash<br>Algorithm=Equihash<br>0=%{x}<br>1=%{y}<br>2=%{z}<extra></extra>",
         "legendgroup": "PirateCash, Equihash",
         "marker": {
          "color": "#FFA15A",
          "symbol": "circle"
         },
         "mode": "markers",
         "name": "PirateCash, Equihash",
         "scene": "scene",
         "showlegend": true,
         "type": "scatter3d",
         "x": [
          -0.26377980261444695
         ],
         "y": [
          0.07570806789242755
         ],
         "z": [
          0.10732419674883754
         ]
        },
        {
         "hovertemplate": "CoinName=Exosis<br>Algorithm=Exosis<br>0=%{x}<br>1=%{y}<br>2=%{z}<extra></extra>",
         "legendgroup": "Exosis, Exosis",
         "marker": {
          "color": "#19d3f3",
          "symbol": "diamond"
         },
         "mode": "markers",
         "name": "Exosis, Exosis",
         "scene": "scene",
         "showlegend": true,
         "type": "scatter3d",
         "x": [
          -0.1764388695536788
         ],
         "y": [
          -2.1208603190413364
         ],
         "z": [
          0.4631338398730978
         ]
        },
        {
         "hovertemplate": "CoinName=Block-Logic<br>Algorithm=Scrypt<br>0=%{x}<br>1=%{y}<br>2=%{z}<extra></extra>",
         "legendgroup": "Block-Logic, Scrypt",
         "marker": {
          "color": "#FF6692",
          "symbol": "circle"
         },
         "mode": "markers",
         "name": "Block-Logic, Scrypt",
         "scene": "scene",
         "showlegend": true,
         "type": "scatter3d",
         "x": [
          -0.18319661165734735
         ],
         "y": [
          -1.1474423535800267
         ],
         "z": [
          0.023101589117226762
         ]
        },
        {
         "hovertemplate": "CoinName=Oduwa<br>Algorithm=Scrypt<br>0=%{x}<br>1=%{y}<br>2=%{z}<extra></extra>",
         "legendgroup": "Oduwa, Scrypt",
         "marker": {
          "color": "#B6E880",
          "symbol": "circle"
         },
         "mode": "markers",
         "name": "Oduwa, Scrypt",
         "scene": "scene",
         "showlegend": true,
         "type": "scatter3d",
         "x": [
          -0.31683055391950826
         ],
         "y": [
          0.9660143213190561
         ],
         "z": [
          -0.6071340631228083
         ]
        },
        {
         "hovertemplate": "CoinName=Beam<br>Algorithm=Equihash<br>0=%{x}<br>1=%{y}<br>2=%{z}<extra></extra>",
         "legendgroup": "Beam, Equihash",
         "marker": {
          "color": "#FF97FF",
          "symbol": "circle"
         },
         "mode": "markers",
         "name": "Beam, Equihash",
         "scene": "scene",
         "showlegend": true,
         "type": "scatter3d",
         "x": [
          -0.170262947886319
         ],
         "y": [
          -1.9529740787891188
         ],
         "z": [
          0.4489036798421789
         ]
        },
        {
         "hovertemplate": "CoinName=Galilel<br>Algorithm=Quark<br>0=%{x}<br>1=%{y}<br>2=%{z}<extra></extra>",
         "legendgroup": "Galilel, Quark",
         "marker": {
          "color": "#FECB52",
          "symbol": "cross"
         },
         "mode": "markers",
         "name": "Galilel, Quark",
         "scene": "scene",
         "showlegend": true,
         "type": "scatter3d",
         "x": [
          -0.36947951517023275
         ],
         "y": [
          1.7471713648193705
         ],
         "z": [
          -0.6008494188120229
         ]
        },
        {
         "hovertemplate": "CoinName=Bithereum<br>Algorithm=Equihash<br>0=%{x}<br>1=%{y}<br>2=%{z}<extra></extra>",
         "legendgroup": "Bithereum, Equihash",
         "marker": {
          "color": "#636efa",
          "symbol": "circle"
         },
         "mode": "markers",
         "name": "Bithereum, Equihash",
         "scene": "scene",
         "showlegend": true,
         "type": "scatter3d",
         "x": [
          -0.1719636710151944
         ],
         "y": [
          -1.952852565251798
         ],
         "z": [
          0.4489140681016154
         ]
        },
        {
         "hovertemplate": "CoinName=Crypto Sports<br>Algorithm=Quark<br>0=%{x}<br>1=%{y}<br>2=%{z}<extra></extra>",
         "legendgroup": "Crypto Sports, Quark",
         "marker": {
          "color": "#EF553B",
          "symbol": "cross"
         },
         "mode": "markers",
         "name": "Crypto Sports, Quark",
         "scene": "scene",
         "showlegend": true,
         "type": "scatter3d",
         "x": [
          -0.3291757468257741
         ],
         "y": [
          1.6623635572381639
         ],
         "z": [
          -0.31219071404043547
         ]
        },
        {
         "hovertemplate": "CoinName=Credit<br>Algorithm=Scrypt<br>0=%{x}<br>1=%{y}<br>2=%{z}<extra></extra>",
         "legendgroup": "Credit, Scrypt",
         "marker": {
          "color": "#00cc96",
          "symbol": "circle"
         },
         "mode": "markers",
         "name": "Credit, Scrypt",
         "scene": "scene",
         "showlegend": true,
         "type": "scatter3d",
         "x": [
          0.5580934124150104
         ],
         "y": [
          0.9355837610200587
         ],
         "z": [
          -0.6183919124540462
         ]
        },
        {
         "hovertemplate": "CoinName=SLICE<br>Algorithm=QuBit<br>0=%{x}<br>1=%{y}<br>2=%{z}<extra></extra>",
         "legendgroup": "SLICE, QuBit",
         "marker": {
          "color": "#ab63fa",
          "symbol": "cross"
         },
         "mode": "markers",
         "name": "SLICE, QuBit",
         "scene": "scene",
         "showlegend": true,
         "type": "scatter3d",
         "x": [
          -0.21294846062705877
         ],
         "y": [
          -1.167016842184488
         ],
         "z": [
          0.14944206715249836
         ]
        },
        {
         "hovertemplate": "CoinName=Dash Platinum<br>Algorithm=X11<br>0=%{x}<br>1=%{y}<br>2=%{z}<extra></extra>",
         "legendgroup": "Dash Platinum, X11",
         "marker": {
          "color": "#FFA15A",
          "symbol": "x"
         },
         "mode": "markers",
         "name": "Dash Platinum, X11",
         "scene": "scene",
         "showlegend": true,
         "type": "scatter3d",
         "x": [
          -0.3279972549897537
         ],
         "y": [
          1.124657690047643
         ],
         "z": [
          -0.2761569570443128
         ]
        },
        {
         "hovertemplate": "CoinName=Nasdacoin<br>Algorithm=Scrypt<br>0=%{x}<br>1=%{y}<br>2=%{z}<extra></extra>",
         "legendgroup": "Nasdacoin, Scrypt",
         "marker": {
          "color": "#19d3f3",
          "symbol": "circle"
         },
         "mode": "markers",
         "name": "Nasdacoin, Scrypt",
         "scene": "scene",
         "showlegend": true,
         "type": "scatter3d",
         "x": [
          -0.3163339254976282
         ],
         "y": [
          0.9659822396998448
         ],
         "z": [
          -0.6071377236291222
         ]
        },
        {
         "hovertemplate": "CoinName=Beetle Coin<br>Algorithm=XEVAN<br>0=%{x}<br>1=%{y}<br>2=%{z}<extra></extra>",
         "legendgroup": "Beetle Coin, XEVAN",
         "marker": {
          "color": "#FF6692",
          "symbol": "x"
         },
         "mode": "markers",
         "name": "Beetle Coin, XEVAN",
         "scene": "scene",
         "showlegend": true,
         "type": "scatter3d",
         "x": [
          -0.28241093112051097
         ],
         "y": [
          1.504696932480556
         ],
         "z": [
          -0.5326447426648288
         ]
        },
        {
         "hovertemplate": "CoinName=Titan Coin<br>Algorithm=SHA-256D<br>0=%{x}<br>1=%{y}<br>2=%{z}<extra></extra>",
         "legendgroup": "Titan Coin, SHA-256D",
         "marker": {
          "color": "#B6E880",
          "symbol": "circle"
         },
         "mode": "markers",
         "name": "Titan Coin, SHA-256D",
         "scene": "scene",
         "showlegend": true,
         "type": "scatter3d",
         "x": [
          -0.27276080064111846
         ],
         "y": [
          1.9064512860034577
         ],
         "z": [
          -0.8008750713115351
         ]
        },
        {
         "hovertemplate": "CoinName=Award<br>Algorithm=X11<br>0=%{x}<br>1=%{y}<br>2=%{z}<extra></extra>",
         "legendgroup": "Award, X11",
         "marker": {
          "color": "#FF97FF",
          "symbol": "x"
         },
         "mode": "markers",
         "name": "Award, X11",
         "scene": "scene",
         "showlegend": true,
         "type": "scatter3d",
         "x": [
          -0.3656399426661854
         ],
         "y": [
          1.2092524831366995
         ],
         "z": [
          -0.5648276975295148
         ]
        },
        {
         "hovertemplate": "CoinName=BLAST<br>Algorithm=SHA-256<br>0=%{x}<br>1=%{y}<br>2=%{z}<extra></extra>",
         "legendgroup": "BLAST, SHA-256",
         "marker": {
          "color": "#FECB52",
          "symbol": "square"
         },
         "mode": "markers",
         "name": "BLAST, SHA-256",
         "scene": "scene",
         "showlegend": true,
         "type": "scatter3d",
         "x": [
          -0.15590713711148055
         ],
         "y": [
          -1.2429888968564309
         ],
         "z": [
          0.2042081459975796
         ]
        },
        {
         "hovertemplate": "CoinName=Bitcoin Rhodium<br>Algorithm=X13<br>0=%{x}<br>1=%{y}<br>2=%{z}<extra></extra>",
         "legendgroup": "Bitcoin Rhodium, X13",
         "marker": {
          "color": "#636efa",
          "symbol": "diamond"
         },
         "mode": "markers",
         "name": "Bitcoin Rhodium, X13",
         "scene": "scene",
         "showlegend": true,
         "type": "scatter3d",
         "x": [
          -0.0940520267728106
         ],
         "y": [
          -0.34067792675726505
         ],
         "z": [
          -0.055008842955846265
         ]
        },
        {
         "hovertemplate": "CoinName=GlobalToken<br>Algorithm=SHA-256<br>0=%{x}<br>1=%{y}<br>2=%{z}<extra></extra>",
         "legendgroup": "GlobalToken, SHA-256",
         "marker": {
          "color": "#EF553B",
          "symbol": "square"
         },
         "mode": "markers",
         "name": "GlobalToken, SHA-256",
         "scene": "scene",
         "showlegend": true,
         "type": "scatter3d",
         "x": [
          -0.15481577068666047
         ],
         "y": [
          -1.2430345803522942
         ],
         "z": [
          0.20419552710365574
         ]
        },
        {
         "hovertemplate": "CoinName=Insane Coin<br>Algorithm=X11<br>0=%{x}<br>1=%{y}<br>2=%{z}<extra></extra>",
         "legendgroup": "Insane Coin, X11",
         "marker": {
          "color": "#00cc96",
          "symbol": "x"
         },
         "mode": "markers",
         "name": "Insane Coin, X11",
         "scene": "scene",
         "showlegend": true,
         "type": "scatter3d",
         "x": [
          -0.3681893831303609
         ],
         "y": [
          1.209465150664905
         ],
         "z": [
          -0.5648177501208977
         ]
        },
        {
         "hovertemplate": "CoinName=ALAX<br>Algorithm=DPoS<br>0=%{x}<br>1=%{y}<br>2=%{z}<extra></extra>",
         "legendgroup": "ALAX, DPoS",
         "marker": {
          "color": "#ab63fa",
          "symbol": "x"
         },
         "mode": "markers",
         "name": "ALAX, DPoS",
         "scene": "scene",
         "showlegend": true,
         "type": "scatter3d",
         "x": [
          4.194572915512863
         ],
         "y": [
          1.788982148931169
         ],
         "z": [
          -0.27396122428163505
         ]
        },
        {
         "hovertemplate": "CoinName=LiteDoge<br>Algorithm=Scrypt<br>0=%{x}<br>1=%{y}<br>2=%{z}<extra></extra>",
         "legendgroup": "LiteDoge, Scrypt",
         "marker": {
          "color": "#FFA15A",
          "symbol": "circle"
         },
         "mode": "markers",
         "name": "LiteDoge, Scrypt",
         "scene": "scene",
         "showlegend": true,
         "type": "scatter3d",
         "x": [
          0.10305143267691316
         ],
         "y": [
          0.9520646506891968
         ],
         "z": [
          -0.6126573672711644
         ]
        },
        {
         "hovertemplate": "CoinName=SolarCoin<br>Algorithm=Scrypt<br>0=%{x}<br>1=%{y}<br>2=%{z}<extra></extra>",
         "legendgroup": "SolarCoin, Scrypt",
         "marker": {
          "color": "#19d3f3",
          "symbol": "circle"
         },
         "mode": "markers",
         "name": "SolarCoin, Scrypt",
         "scene": "scene",
         "showlegend": true,
         "type": "scatter3d",
         "x": [
          0.4825478721310849
         ],
         "y": [
          -1.2001944190250482
         ],
         "z": [
          0.019991061780432383
         ]
        },
        {
         "hovertemplate": "CoinName=UFO Coin<br>Algorithm=NeoScrypt<br>0=%{x}<br>1=%{y}<br>2=%{z}<extra></extra>",
         "legendgroup": "UFO Coin, NeoScrypt",
         "marker": {
          "color": "#FF6692",
          "symbol": "diamond"
         },
         "mode": "markers",
         "name": "UFO Coin, NeoScrypt",
         "scene": "scene",
         "showlegend": true,
         "type": "scatter3d",
         "x": [
          -0.12355646366037258
         ],
         "y": [
          -1.5649592724364816
         ],
         "z": [
          0.2753565350523913
         ]
        },
        {
         "hovertemplate": "CoinName=OrangeCoin<br>Algorithm=Scrypt<br>0=%{x}<br>1=%{y}<br>2=%{z}<extra></extra>",
         "legendgroup": "OrangeCoin, Scrypt",
         "marker": {
          "color": "#B6E880",
          "symbol": "circle"
         },
         "mode": "markers",
         "name": "OrangeCoin, Scrypt",
         "scene": "scene",
         "showlegend": true,
         "type": "scatter3d",
         "x": [
          -0.3157486355425995
         ],
         "y": [
          0.9659143485299203
         ],
         "z": [
          -0.6071364924368448
         ]
        },
        {
         "hovertemplate": "CoinName=BlakeCoin<br>Algorithm=Blake<br>0=%{x}<br>1=%{y}<br>2=%{z}<extra></extra>",
         "legendgroup": "BlakeCoin, Blake",
         "marker": {
          "color": "#FF97FF",
          "symbol": "circle"
         },
         "mode": "markers",
         "name": "BlakeCoin, Blake",
         "scene": "scene",
         "showlegend": true,
         "type": "scatter3d",
         "x": [
          -0.12002937576953045
         ],
         "y": [
          -2.133542559859171
         ],
         "z": [
          0.464699429026048
         ]
        },
        {
         "hovertemplate": "CoinName=BitstarCoin<br>Algorithm=Scrypt<br>0=%{x}<br>1=%{y}<br>2=%{z}<extra></extra>",
         "legendgroup": "BitstarCoin, Scrypt",
         "marker": {
          "color": "#FECB52",
          "symbol": "circle"
         },
         "mode": "markers",
         "name": "BitstarCoin, Scrypt",
         "scene": "scene",
         "showlegend": true,
         "type": "scatter3d",
         "x": [
          -0.3165355954509598
         ],
         "y": [
          0.9659982652367857
         ],
         "z": [
          -0.6071367897949365
         ]
        },
        {
         "hovertemplate": "CoinName=NeosCoin<br>Algorithm=SHA-256<br>0=%{x}<br>1=%{y}<br>2=%{z}<extra></extra>",
         "legendgroup": "NeosCoin, SHA-256",
         "marker": {
          "color": "#636efa",
          "symbol": "square"
         },
         "mode": "markers",
         "name": "NeosCoin, SHA-256",
         "scene": "scene",
         "showlegend": true,
         "type": "scatter3d",
         "x": [
          -0.24895025243711738
         ],
         "y": [
          0.785623233887848
         ],
         "z": [
          -0.13736756369941835
         ]
        },
        {
         "hovertemplate": "CoinName=PinkCoin<br>Algorithm=X11<br>0=%{x}<br>1=%{y}<br>2=%{z}<extra></extra>",
         "legendgroup": "PinkCoin, X11",
         "marker": {
          "color": "#EF553B",
          "symbol": "x"
         },
         "mode": "markers",
         "name": "PinkCoin, X11",
         "scene": "scene",
         "showlegend": true,
         "type": "scatter3d",
         "x": [
          -0.3600825721352858
         ],
         "y": [
          1.2093437717039641
         ],
         "z": [
          -0.5649516633565702
         ]
        },
        {
         "hovertemplate": "CoinName=Crypto Escudo<br>Algorithm=Scrypt<br>0=%{x}<br>1=%{y}<br>2=%{z}<extra></extra>",
         "legendgroup": "Crypto Escudo, Scrypt",
         "marker": {
          "color": "#00cc96",
          "symbol": "circle"
         },
         "mode": "markers",
         "name": "Crypto Escudo, Scrypt",
         "scene": "scene",
         "showlegend": true,
         "type": "scatter3d",
         "x": [
          -0.16834618381239655
         ],
         "y": [
          -1.147678413658317
         ],
         "z": [
          0.02285880842095988
         ]
        },
        {
         "hovertemplate": "CoinName=AudioCoin<br>Algorithm=Scrypt<br>0=%{x}<br>1=%{y}<br>2=%{z}<extra></extra>",
         "legendgroup": "AudioCoin, Scrypt",
         "marker": {
          "color": "#ab63fa",
          "symbol": "circle"
         },
         "mode": "markers",
         "name": "AudioCoin, Scrypt",
         "scene": "scene",
         "showlegend": true,
         "type": "scatter3d",
         "x": [
          -0.23414867913157586
         ],
         "y": [
          0.9606801156877743
         ],
         "z": [
          -0.6077447682761782
         ]
        },
        {
         "hovertemplate": "CoinName=IncaKoin<br>Algorithm=SHA-256<br>0=%{x}<br>1=%{y}<br>2=%{z}<extra></extra>",
         "legendgroup": "IncaKoin, SHA-256",
         "marker": {
          "color": "#FFA15A",
          "symbol": "square"
         },
         "mode": "markers",
         "name": "IncaKoin, SHA-256",
         "scene": "scene",
         "showlegend": true,
         "type": "scatter3d",
         "x": [
          -0.07470055237120765
         ],
         "y": [
          0.8760629917683183
         ],
         "z": [
          -0.4312007184957654
         ]
        },
        {
         "hovertemplate": "CoinName=Piggy Coin<br>Algorithm=X11<br>0=%{x}<br>1=%{y}<br>2=%{z}<extra></extra>",
         "legendgroup": "Piggy Coin, X11",
         "marker": {
          "color": "#19d3f3",
          "symbol": "x"
         },
         "mode": "markers",
         "name": "Piggy Coin, X11",
         "scene": "scene",
         "showlegend": true,
         "type": "scatter3d",
         "x": [
          -0.35599692849944115
         ],
         "y": [
          1.2090930185797593
         ],
         "z": [
          -0.5649842060338193
         ]
        },
        {
         "hovertemplate": "CoinName=Crown Coin<br>Algorithm=SHA-256<br>0=%{x}<br>1=%{y}<br>2=%{z}<extra></extra>",
         "legendgroup": "Crown Coin, SHA-256",
         "marker": {
          "color": "#FF6692",
          "symbol": "square"
         },
         "mode": "markers",
         "name": "Crown Coin, SHA-256",
         "scene": "scene",
         "showlegend": true,
         "type": "scatter3d",
         "x": [
          -0.15640565850439503
         ],
         "y": [
          -1.242986405701787
         ],
         "z": [
          0.20421729756587434
         ]
        },
        {
         "hovertemplate": "CoinName=Genstake<br>Algorithm=Scrypt<br>0=%{x}<br>1=%{y}<br>2=%{z}<extra></extra>",
         "legendgroup": "Genstake, Scrypt",
         "marker": {
          "color": "#B6E880",
          "symbol": "circle"
         },
         "mode": "markers",
         "name": "Genstake, Scrypt",
         "scene": "scene",
         "showlegend": true,
         "type": "scatter3d",
         "x": [
          -0.31633263537825157
         ],
         "y": [
          0.9660319874877087
         ],
         "z": [
          -0.6071469187759456
         ]
        },
        {
         "hovertemplate": "CoinName=SmileyCoin<br>Algorithm=Scrypt<br>0=%{x}<br>1=%{y}<br>2=%{z}<extra></extra>",
         "legendgroup": "SmileyCoin, Scrypt",
         "marker": {
          "color": "#FF97FF",
          "symbol": "circle"
         },
         "mode": "markers",
         "name": "SmileyCoin, Scrypt",
         "scene": "scene",
         "showlegend": true,
         "type": "scatter3d",
         "x": [
          0.5075724062662292
         ],
         "y": [
          -1.1648686542901558
         ],
         "z": [
          0.0129968380195569
         ]
        },
        {
         "hovertemplate": "CoinName=XiaoMiCoin<br>Algorithm=Scrypt<br>0=%{x}<br>1=%{y}<br>2=%{z}<extra></extra>",
         "legendgroup": "XiaoMiCoin, Scrypt",
         "marker": {
          "color": "#FECB52",
          "symbol": "circle"
         },
         "mode": "markers",
         "name": "XiaoMiCoin, Scrypt",
         "scene": "scene",
         "showlegend": true,
         "type": "scatter3d",
         "x": [
          -0.30961626438530393
         ],
         "y": [
          0.9659345882670932
         ],
         "z": [
          -0.6072584466398041
         ]
        },
        {
         "hovertemplate": "CoinName=Groestlcoin<br>Algorithm=Groestl<br>0=%{x}<br>1=%{y}<br>2=%{z}<extra></extra>",
         "legendgroup": "Groestlcoin, Groestl",
         "marker": {
          "color": "#636efa",
          "symbol": "circle"
         },
         "mode": "markers",
         "name": "Groestlcoin, Groestl",
         "scene": "scene",
         "showlegend": true,
         "type": "scatter3d",
         "x": [
          -0.19996652085723532
         ],
         "y": [
          -1.4876808130224863
         ],
         "z": [
          0.2543788022412553
         ]
        },
        {
         "hovertemplate": "CoinName=CapriCoin<br>Algorithm=X11<br>0=%{x}<br>1=%{y}<br>2=%{z}<extra></extra>",
         "legendgroup": "CapriCoin, X11",
         "marker": {
          "color": "#EF553B",
          "symbol": "x"
         },
         "mode": "markers",
         "name": "CapriCoin, X11",
         "scene": "scene",
         "showlegend": true,
         "type": "scatter3d",
         "x": [
          -0.3648650034493508
         ],
         "y": [
          1.209425992102311
         ],
         "z": [
          -0.5648746210775142
         ]
        },
        {
         "hovertemplate": "CoinName= ClubCoin<br>Algorithm=Scrypt<br>0=%{x}<br>1=%{y}<br>2=%{z}<extra></extra>",
         "legendgroup": " ClubCoin, Scrypt",
         "marker": {
          "color": "#00cc96",
          "symbol": "circle"
         },
         "mode": "markers",
         "name": " ClubCoin, Scrypt",
         "scene": "scene",
         "showlegend": true,
         "type": "scatter3d",
         "x": [
          -0.31482815518219315
         ],
         "y": [
          0.9659678349273969
         ],
         "z": [
          -0.6071640974085746
         ]
        },
        {
         "hovertemplate": "CoinName=Radium<br>Algorithm=PoS<br>0=%{x}<br>1=%{y}<br>2=%{z}<extra></extra>",
         "legendgroup": "Radium, PoS",
         "marker": {
          "color": "#ab63fa",
          "symbol": "square"
         },
         "mode": "markers",
         "name": "Radium, PoS",
         "scene": "scene",
         "showlegend": true,
         "type": "scatter3d",
         "x": [
          -0.32563381547070536
         ],
         "y": [
          1.802793427058107
         ],
         "z": [
          -0.22026801384036343
         ]
        },
        {
         "hovertemplate": "CoinName=Bata<br>Algorithm=Scrypt<br>0=%{x}<br>1=%{y}<br>2=%{z}<extra></extra>",
         "legendgroup": "Bata, Scrypt",
         "marker": {
          "color": "#FFA15A",
          "symbol": "circle"
         },
         "mode": "markers",
         "name": "Bata, Scrypt",
         "scene": "scene",
         "showlegend": true,
         "type": "scatter3d",
         "x": [
          -0.1843378319020583
         ],
         "y": [
          -1.1473900807776087
         ],
         "z": [
          0.023113954479126758
         ]
        },
        {
         "hovertemplate": "CoinName=Pakcoin<br>Algorithm=Scrypt<br>0=%{x}<br>1=%{y}<br>2=%{z}<extra></extra>",
         "legendgroup": "Pakcoin, Scrypt",
         "marker": {
          "color": "#19d3f3",
          "symbol": "circle"
         },
         "mode": "markers",
         "name": "Pakcoin, Scrypt",
         "scene": "scene",
         "showlegend": true,
         "type": "scatter3d",
         "x": [
          -0.18236573719189164
         ],
         "y": [
          -1.1474647575525663
         ],
         "z": [
          0.023089700895228008
         ]
        },
        {
         "hovertemplate": "CoinName=Creditbit <br>Algorithm=X11<br>0=%{x}<br>1=%{y}<br>2=%{z}<extra></extra>",
         "legendgroup": "Creditbit , X11",
         "marker": {
          "color": "#FF6692",
          "symbol": "x"
         },
         "mode": "markers",
         "name": "Creditbit , X11",
         "scene": "scene",
         "showlegend": true,
         "type": "scatter3d",
         "x": [
          -0.3626107367933409
         ],
         "y": [
          0.7301941640220931
         ],
         "z": [
          -0.25771770695964114
         ]
        },
        {
         "hovertemplate": "CoinName=OKCash<br>Algorithm=SHA-256<br>0=%{x}<br>1=%{y}<br>2=%{z}<extra></extra>",
         "legendgroup": "OKCash, SHA-256",
         "marker": {
          "color": "#B6E880",
          "symbol": "square"
         },
         "mode": "markers",
         "name": "OKCash, SHA-256",
         "scene": "scene",
         "showlegend": true,
         "type": "scatter3d",
         "x": [
          -0.288079285351309
         ],
         "y": [
          0.8704060839800616
         ],
         "z": [
          -0.42604431513499413
         ]
        },
        {
         "hovertemplate": "CoinName=Lisk<br>Algorithm=DPoS<br>0=%{x}<br>1=%{y}<br>2=%{z}<extra></extra>",
         "legendgroup": "Lisk, DPoS",
         "marker": {
          "color": "#FF97FF",
          "symbol": "x"
         },
         "mode": "markers",
         "name": "Lisk, DPoS",
         "scene": "scene",
         "showlegend": true,
         "type": "scatter3d",
         "x": [
          4.178384819081003
         ],
         "y": [
          1.7891536015434695
         ],
         "z": [
          -0.2736807458181982
         ]
        },
        {
         "hovertemplate": "CoinName=HiCoin<br>Algorithm=Scrypt<br>0=%{x}<br>1=%{y}<br>2=%{z}<extra></extra>",
         "legendgroup": "HiCoin, Scrypt",
         "marker": {
          "color": "#FECB52",
          "symbol": "circle"
         },
         "mode": "markers",
         "name": "HiCoin, Scrypt",
         "scene": "scene",
         "showlegend": true,
         "type": "scatter3d",
         "x": [
          -0.0895111490594843
         ],
         "y": [
          0.8790180492140451
         ],
         "z": [
          -0.32167733975494484
         ]
        },
        {
         "hovertemplate": "CoinName=WhiteCoin<br>Algorithm=Scrypt<br>0=%{x}<br>1=%{y}<br>2=%{z}<extra></extra>",
         "legendgroup": "WhiteCoin, Scrypt",
         "marker": {
          "color": "#636efa",
          "symbol": "circle"
         },
         "mode": "markers",
         "name": "WhiteCoin, Scrypt",
         "scene": "scene",
         "showlegend": true,
         "type": "scatter3d",
         "x": [
          -0.3121097549045251
         ],
         "y": [
          0.9659398155489328
         ],
         "z": [
          -0.6072113392982814
         ]
        },
        {
         "hovertemplate": "CoinName=FriendshipCoin<br>Algorithm=NeoScrypt<br>0=%{x}<br>1=%{y}<br>2=%{z}<extra></extra>",
         "legendgroup": "FriendshipCoin, NeoScrypt",
         "marker": {
          "color": "#EF553B",
          "symbol": "diamond"
         },
         "mode": "markers",
         "name": "FriendshipCoin, NeoScrypt",
         "scene": "scene",
         "showlegend": true,
         "type": "scatter3d",
         "x": [
          -0.32857874313947033
         ],
         "y": [
          0.5493515771256964
         ],
         "z": [
          -0.35366030719836483
         ]
        },
        {
         "hovertemplate": "CoinName=JoinCoin<br>Algorithm=Multiple<br>0=%{x}<br>1=%{y}<br>2=%{z}<extra></extra>",
         "legendgroup": "JoinCoin, Multiple",
         "marker": {
          "color": "#00cc96",
          "symbol": "square"
         },
         "mode": "markers",
         "name": "JoinCoin, Multiple",
         "scene": "scene",
         "showlegend": true,
         "type": "scatter3d",
         "x": [
          -0.1324993909929214
         ],
         "y": [
          -1.8783828329327312
         ],
         "z": [
          0.4176439187252309
         ]
        },
        {
         "hovertemplate": "CoinName=Triangles Coin<br>Algorithm=X13<br>0=%{x}<br>1=%{y}<br>2=%{z}<extra></extra>",
         "legendgroup": "Triangles Coin, X13",
         "marker": {
          "color": "#ab63fa",
          "symbol": "diamond"
         },
         "mode": "markers",
         "name": "Triangles Coin, X13",
         "scene": "scene",
         "showlegend": true,
         "type": "scatter3d",
         "x": [
          -0.2267949765711993
         ],
         "y": [
          1.772732723960695
         ],
         "z": [
          -0.6852531883674255
         ]
        },
        {
         "hovertemplate": "CoinName=Vollar<br>Algorithm=Equihash+Scrypt<br>0=%{x}<br>1=%{y}<br>2=%{z}<extra></extra>",
         "legendgroup": "Vollar, Equihash+Scrypt",
         "marker": {
          "color": "#FFA15A",
          "symbol": "square"
         },
         "mode": "markers",
         "name": "Vollar, Equihash+Scrypt",
         "scene": "scene",
         "showlegend": true,
         "type": "scatter3d",
         "x": [
          -0.15253162399072584
         ],
         "y": [
          -2.1229300618137126
         ],
         "z": [
          0.46294515799748565
         ]
        },
        {
         "hovertemplate": "CoinName=Reality Clash<br>Algorithm=Ethash<br>0=%{x}<br>1=%{y}<br>2=%{z}<extra></extra>",
         "legendgroup": "Reality Clash, Ethash",
         "marker": {
          "color": "#19d3f3",
          "symbol": "cross"
         },
         "mode": "markers",
         "name": "Reality Clash, Ethash",
         "scene": "scene",
         "showlegend": true,
         "type": "scatter3d",
         "x": [
          -0.17512343329234847
         ],
         "y": [
          -1.9143707893257595
         ],
         "z": [
          0.4260230248082002
         ]
        },
        {
         "hovertemplate": "CoinName=TigerCash<br>Algorithm=SHA-256<br>0=%{x}<br>1=%{y}<br>2=%{z}<extra></extra>",
         "legendgroup": "TigerCash, SHA-256",
         "marker": {
          "color": "#FF6692",
          "symbol": "square"
         },
         "mode": "markers",
         "name": "TigerCash, SHA-256",
         "scene": "scene",
         "showlegend": true,
         "type": "scatter3d",
         "x": [
          -0.23044137169976858
         ],
         "y": [
          0.785413885809551
         ],
         "z": [
          -0.13768579807604903
         ]
        },
        {
         "hovertemplate": "CoinName=Waves<br>Algorithm=Leased POS<br>0=%{x}<br>1=%{y}<br>2=%{z}<extra></extra>",
         "legendgroup": "Waves, Leased POS",
         "marker": {
          "color": "#B6E880",
          "symbol": "x"
         },
         "mode": "markers",
         "name": "Waves, Leased POS",
         "scene": "scene",
         "showlegend": true,
         "type": "scatter3d",
         "x": [
          -0.3841376518171098
         ],
         "y": [
          3.3930679250572373
         ],
         "z": [
          13.270386229162641
         ]
        },
        {
         "hovertemplate": "CoinName=Particl<br>Algorithm=PoS<br>0=%{x}<br>1=%{y}<br>2=%{z}<extra></extra>",
         "legendgroup": "Particl, PoS",
         "marker": {
          "color": "#FF97FF",
          "symbol": "square"
         },
         "mode": "markers",
         "name": "Particl, PoS",
         "scene": "scene",
         "showlegend": true,
         "type": "scatter3d",
         "x": [
          -0.3255712405830699
         ],
         "y": [
          1.8027953675427162
         ],
         "z": [
          -0.22026957789416418
         ]
        },
        {
         "hovertemplate": "CoinName=BitTorrent<br>Algorithm=TRC10<br>0=%{x}<br>1=%{y}<br>2=%{z}<extra></extra>",
         "legendgroup": "BitTorrent, TRC10",
         "marker": {
          "color": "#FECB52",
          "symbol": "cross"
         },
         "mode": "markers",
         "name": "BitTorrent, TRC10",
         "scene": "scene",
         "showlegend": true,
         "type": "scatter3d",
         "x": [
          33.42275774475229
         ],
         "y": [
          1.366986763184592
         ],
         "z": [
          -0.9094113088431613
         ]
        },
        {
         "hovertemplate": "CoinName=Nxt<br>Algorithm=PoS<br>0=%{x}<br>1=%{y}<br>2=%{z}<extra></extra>",
         "legendgroup": "Nxt, PoS",
         "marker": {
          "color": "#636efa",
          "symbol": "square"
         },
         "mode": "markers",
         "name": "Nxt, PoS",
         "scene": "scene",
         "showlegend": true,
         "type": "scatter3d",
         "x": [
          -0.3301413753670797
         ],
         "y": [
          2.0202025970384736
         ],
         "z": [
          -0.146881765548886
         ]
        },
        {
         "hovertemplate": "CoinName=ZEPHYR<br>Algorithm=SHA-256<br>0=%{x}<br>1=%{y}<br>2=%{z}<extra></extra>",
         "legendgroup": "ZEPHYR, SHA-256",
         "marker": {
          "color": "#EF553B",
          "symbol": "square"
         },
         "mode": "markers",
         "name": "ZEPHYR, SHA-256",
         "scene": "scene",
         "showlegend": true,
         "type": "scatter3d",
         "x": [
          2.876880510670728
         ],
         "y": [
          0.8065449211508485
         ],
         "z": [
          -0.16766773870241722
         ]
        },
        {
         "hovertemplate": "CoinName=Gapcoin<br>Algorithm=Scrypt<br>0=%{x}<br>1=%{y}<br>2=%{z}<extra></extra>",
         "legendgroup": "Gapcoin, Scrypt",
         "marker": {
          "color": "#00cc96",
          "symbol": "circle"
         },
         "mode": "markers",
         "name": "Gapcoin, Scrypt",
         "scene": "scene",
         "showlegend": true,
         "type": "scatter3d",
         "x": [
          -0.3152733043501931
         ],
         "y": [
          0.9658910624429324
         ],
         "z": [
          -0.6071413636905615
         ]
        },
        {
         "hovertemplate": "CoinName=Beldex<br>Algorithm=CryptoNight<br>0=%{x}<br>1=%{y}<br>2=%{z}<extra></extra>",
         "legendgroup": "Beldex, CryptoNight",
         "marker": {
          "color": "#ab63fa",
          "symbol": "diamond"
         },
         "mode": "markers",
         "name": "Beldex, CryptoNight",
         "scene": "scene",
         "showlegend": true,
         "type": "scatter3d",
         "x": [
          0.2712153026452343
         ],
         "y": [
          -2.231502779714331
         ],
         "z": [
          0.47313393970848017
         ]
        },
        {
         "hovertemplate": "CoinName=Horizen<br>Algorithm=Equihash<br>0=%{x}<br>1=%{y}<br>2=%{z}<extra></extra>",
         "legendgroup": "Horizen, Equihash",
         "marker": {
          "color": "#FFA15A",
          "symbol": "circle"
         },
         "mode": "markers",
         "name": "Horizen, Equihash",
         "scene": "scene",
         "showlegend": true,
         "type": "scatter3d",
         "x": [
          -0.17224349178290813
         ],
         "y": [
          -1.9528529412431608
         ],
         "z": [
          0.44891953195243245
         ]
        },
        {
         "hovertemplate": "CoinName=BitcoinPlus<br>Algorithm=Scrypt<br>0=%{x}<br>1=%{y}<br>2=%{z}<extra></extra>",
         "legendgroup": "BitcoinPlus, Scrypt",
         "marker": {
          "color": "#19d3f3",
          "symbol": "circle"
         },
         "mode": "markers",
         "name": "BitcoinPlus, Scrypt",
         "scene": "scene",
         "showlegend": true,
         "type": "scatter3d",
         "x": [
          -0.2766041209932405
         ],
         "y": [
          0.8812147686748948
         ],
         "z": [
          -0.318475389112074
         ]
        }
       ],
       "layout": {
        "legend": {
         "title": {
          "text": "CoinName, Algorithm"
         },
         "tracegroupgap": 0
        },
        "margin": {
         "t": 60
        },
        "scene": {
         "domain": {
          "x": [
           0,
           1
          ],
          "y": [
           0,
           1
          ]
         },
         "xaxis": {
          "title": {
           "text": "0"
          }
         },
         "yaxis": {
          "title": {
           "text": "1"
          }
         },
         "zaxis": {
          "title": {
           "text": "2"
          }
         }
        },
        "template": {
         "data": {
          "bar": [
           {
            "error_x": {
             "color": "#2a3f5f"
            },
            "error_y": {
             "color": "#2a3f5f"
            },
            "marker": {
             "line": {
              "color": "#E5ECF6",
              "width": 0.5
             }
            },
            "type": "bar"
           }
          ],
          "barpolar": [
           {
            "marker": {
             "line": {
              "color": "#E5ECF6",
              "width": 0.5
             }
            },
            "type": "barpolar"
           }
          ],
          "carpet": [
           {
            "aaxis": {
             "endlinecolor": "#2a3f5f",
             "gridcolor": "white",
             "linecolor": "white",
             "minorgridcolor": "white",
             "startlinecolor": "#2a3f5f"
            },
            "baxis": {
             "endlinecolor": "#2a3f5f",
             "gridcolor": "white",
             "linecolor": "white",
             "minorgridcolor": "white",
             "startlinecolor": "#2a3f5f"
            },
            "type": "carpet"
           }
          ],
          "choropleth": [
           {
            "colorbar": {
             "outlinewidth": 0,
             "ticks": ""
            },
            "type": "choropleth"
           }
          ],
          "contour": [
           {
            "colorbar": {
             "outlinewidth": 0,
             "ticks": ""
            },
            "colorscale": [
             [
              0,
              "#0d0887"
             ],
             [
              0.1111111111111111,
              "#46039f"
             ],
             [
              0.2222222222222222,
              "#7201a8"
             ],
             [
              0.3333333333333333,
              "#9c179e"
             ],
             [
              0.4444444444444444,
              "#bd3786"
             ],
             [
              0.5555555555555556,
              "#d8576b"
             ],
             [
              0.6666666666666666,
              "#ed7953"
             ],
             [
              0.7777777777777778,
              "#fb9f3a"
             ],
             [
              0.8888888888888888,
              "#fdca26"
             ],
             [
              1,
              "#f0f921"
             ]
            ],
            "type": "contour"
           }
          ],
          "contourcarpet": [
           {
            "colorbar": {
             "outlinewidth": 0,
             "ticks": ""
            },
            "type": "contourcarpet"
           }
          ],
          "heatmap": [
           {
            "colorbar": {
             "outlinewidth": 0,
             "ticks": ""
            },
            "colorscale": [
             [
              0,
              "#0d0887"
             ],
             [
              0.1111111111111111,
              "#46039f"
             ],
             [
              0.2222222222222222,
              "#7201a8"
             ],
             [
              0.3333333333333333,
              "#9c179e"
             ],
             [
              0.4444444444444444,
              "#bd3786"
             ],
             [
              0.5555555555555556,
              "#d8576b"
             ],
             [
              0.6666666666666666,
              "#ed7953"
             ],
             [
              0.7777777777777778,
              "#fb9f3a"
             ],
             [
              0.8888888888888888,
              "#fdca26"
             ],
             [
              1,
              "#f0f921"
             ]
            ],
            "type": "heatmap"
           }
          ],
          "heatmapgl": [
           {
            "colorbar": {
             "outlinewidth": 0,
             "ticks": ""
            },
            "colorscale": [
             [
              0,
              "#0d0887"
             ],
             [
              0.1111111111111111,
              "#46039f"
             ],
             [
              0.2222222222222222,
              "#7201a8"
             ],
             [
              0.3333333333333333,
              "#9c179e"
             ],
             [
              0.4444444444444444,
              "#bd3786"
             ],
             [
              0.5555555555555556,
              "#d8576b"
             ],
             [
              0.6666666666666666,
              "#ed7953"
             ],
             [
              0.7777777777777778,
              "#fb9f3a"
             ],
             [
              0.8888888888888888,
              "#fdca26"
             ],
             [
              1,
              "#f0f921"
             ]
            ],
            "type": "heatmapgl"
           }
          ],
          "histogram": [
           {
            "marker": {
             "colorbar": {
              "outlinewidth": 0,
              "ticks": ""
             }
            },
            "type": "histogram"
           }
          ],
          "histogram2d": [
           {
            "colorbar": {
             "outlinewidth": 0,
             "ticks": ""
            },
            "colorscale": [
             [
              0,
              "#0d0887"
             ],
             [
              0.1111111111111111,
              "#46039f"
             ],
             [
              0.2222222222222222,
              "#7201a8"
             ],
             [
              0.3333333333333333,
              "#9c179e"
             ],
             [
              0.4444444444444444,
              "#bd3786"
             ],
             [
              0.5555555555555556,
              "#d8576b"
             ],
             [
              0.6666666666666666,
              "#ed7953"
             ],
             [
              0.7777777777777778,
              "#fb9f3a"
             ],
             [
              0.8888888888888888,
              "#fdca26"
             ],
             [
              1,
              "#f0f921"
             ]
            ],
            "type": "histogram2d"
           }
          ],
          "histogram2dcontour": [
           {
            "colorbar": {
             "outlinewidth": 0,
             "ticks": ""
            },
            "colorscale": [
             [
              0,
              "#0d0887"
             ],
             [
              0.1111111111111111,
              "#46039f"
             ],
             [
              0.2222222222222222,
              "#7201a8"
             ],
             [
              0.3333333333333333,
              "#9c179e"
             ],
             [
              0.4444444444444444,
              "#bd3786"
             ],
             [
              0.5555555555555556,
              "#d8576b"
             ],
             [
              0.6666666666666666,
              "#ed7953"
             ],
             [
              0.7777777777777778,
              "#fb9f3a"
             ],
             [
              0.8888888888888888,
              "#fdca26"
             ],
             [
              1,
              "#f0f921"
             ]
            ],
            "type": "histogram2dcontour"
           }
          ],
          "mesh3d": [
           {
            "colorbar": {
             "outlinewidth": 0,
             "ticks": ""
            },
            "type": "mesh3d"
           }
          ],
          "parcoords": [
           {
            "line": {
             "colorbar": {
              "outlinewidth": 0,
              "ticks": ""
             }
            },
            "type": "parcoords"
           }
          ],
          "pie": [
           {
            "automargin": true,
            "type": "pie"
           }
          ],
          "scatter": [
           {
            "marker": {
             "colorbar": {
              "outlinewidth": 0,
              "ticks": ""
             }
            },
            "type": "scatter"
           }
          ],
          "scatter3d": [
           {
            "line": {
             "colorbar": {
              "outlinewidth": 0,
              "ticks": ""
             }
            },
            "marker": {
             "colorbar": {
              "outlinewidth": 0,
              "ticks": ""
             }
            },
            "type": "scatter3d"
           }
          ],
          "scattercarpet": [
           {
            "marker": {
             "colorbar": {
              "outlinewidth": 0,
              "ticks": ""
             }
            },
            "type": "scattercarpet"
           }
          ],
          "scattergeo": [
           {
            "marker": {
             "colorbar": {
              "outlinewidth": 0,
              "ticks": ""
             }
            },
            "type": "scattergeo"
           }
          ],
          "scattergl": [
           {
            "marker": {
             "colorbar": {
              "outlinewidth": 0,
              "ticks": ""
             }
            },
            "type": "scattergl"
           }
          ],
          "scattermapbox": [
           {
            "marker": {
             "colorbar": {
              "outlinewidth": 0,
              "ticks": ""
             }
            },
            "type": "scattermapbox"
           }
          ],
          "scatterpolar": [
           {
            "marker": {
             "colorbar": {
              "outlinewidth": 0,
              "ticks": ""
             }
            },
            "type": "scatterpolar"
           }
          ],
          "scatterpolargl": [
           {
            "marker": {
             "colorbar": {
              "outlinewidth": 0,
              "ticks": ""
             }
            },
            "type": "scatterpolargl"
           }
          ],
          "scatterternary": [
           {
            "marker": {
             "colorbar": {
              "outlinewidth": 0,
              "ticks": ""
             }
            },
            "type": "scatterternary"
           }
          ],
          "surface": [
           {
            "colorbar": {
             "outlinewidth": 0,
             "ticks": ""
            },
            "colorscale": [
             [
              0,
              "#0d0887"
             ],
             [
              0.1111111111111111,
              "#46039f"
             ],
             [
              0.2222222222222222,
              "#7201a8"
             ],
             [
              0.3333333333333333,
              "#9c179e"
             ],
             [
              0.4444444444444444,
              "#bd3786"
             ],
             [
              0.5555555555555556,
              "#d8576b"
             ],
             [
              0.6666666666666666,
              "#ed7953"
             ],
             [
              0.7777777777777778,
              "#fb9f3a"
             ],
             [
              0.8888888888888888,
              "#fdca26"
             ],
             [
              1,
              "#f0f921"
             ]
            ],
            "type": "surface"
           }
          ],
          "table": [
           {
            "cells": {
             "fill": {
              "color": "#EBF0F8"
             },
             "line": {
              "color": "white"
             }
            },
            "header": {
             "fill": {
              "color": "#C8D4E3"
             },
             "line": {
              "color": "white"
             }
            },
            "type": "table"
           }
          ]
         },
         "layout": {
          "annotationdefaults": {
           "arrowcolor": "#2a3f5f",
           "arrowhead": 0,
           "arrowwidth": 1
          },
          "autotypenumbers": "strict",
          "coloraxis": {
           "colorbar": {
            "outlinewidth": 0,
            "ticks": ""
           }
          },
          "colorscale": {
           "diverging": [
            [
             0,
             "#8e0152"
            ],
            [
             0.1,
             "#c51b7d"
            ],
            [
             0.2,
             "#de77ae"
            ],
            [
             0.3,
             "#f1b6da"
            ],
            [
             0.4,
             "#fde0ef"
            ],
            [
             0.5,
             "#f7f7f7"
            ],
            [
             0.6,
             "#e6f5d0"
            ],
            [
             0.7,
             "#b8e186"
            ],
            [
             0.8,
             "#7fbc41"
            ],
            [
             0.9,
             "#4d9221"
            ],
            [
             1,
             "#276419"
            ]
           ],
           "sequential": [
            [
             0,
             "#0d0887"
            ],
            [
             0.1111111111111111,
             "#46039f"
            ],
            [
             0.2222222222222222,
             "#7201a8"
            ],
            [
             0.3333333333333333,
             "#9c179e"
            ],
            [
             0.4444444444444444,
             "#bd3786"
            ],
            [
             0.5555555555555556,
             "#d8576b"
            ],
            [
             0.6666666666666666,
             "#ed7953"
            ],
            [
             0.7777777777777778,
             "#fb9f3a"
            ],
            [
             0.8888888888888888,
             "#fdca26"
            ],
            [
             1,
             "#f0f921"
            ]
           ],
           "sequentialminus": [
            [
             0,
             "#0d0887"
            ],
            [
             0.1111111111111111,
             "#46039f"
            ],
            [
             0.2222222222222222,
             "#7201a8"
            ],
            [
             0.3333333333333333,
             "#9c179e"
            ],
            [
             0.4444444444444444,
             "#bd3786"
            ],
            [
             0.5555555555555556,
             "#d8576b"
            ],
            [
             0.6666666666666666,
             "#ed7953"
            ],
            [
             0.7777777777777778,
             "#fb9f3a"
            ],
            [
             0.8888888888888888,
             "#fdca26"
            ],
            [
             1,
             "#f0f921"
            ]
           ]
          },
          "colorway": [
           "#636efa",
           "#EF553B",
           "#00cc96",
           "#ab63fa",
           "#FFA15A",
           "#19d3f3",
           "#FF6692",
           "#B6E880",
           "#FF97FF",
           "#FECB52"
          ],
          "font": {
           "color": "#2a3f5f"
          },
          "geo": {
           "bgcolor": "white",
           "lakecolor": "white",
           "landcolor": "#E5ECF6",
           "showlakes": true,
           "showland": true,
           "subunitcolor": "white"
          },
          "hoverlabel": {
           "align": "left"
          },
          "hovermode": "closest",
          "mapbox": {
           "style": "light"
          },
          "paper_bgcolor": "white",
          "plot_bgcolor": "#E5ECF6",
          "polar": {
           "angularaxis": {
            "gridcolor": "white",
            "linecolor": "white",
            "ticks": ""
           },
           "bgcolor": "#E5ECF6",
           "radialaxis": {
            "gridcolor": "white",
            "linecolor": "white",
            "ticks": ""
           }
          },
          "scene": {
           "xaxis": {
            "backgroundcolor": "#E5ECF6",
            "gridcolor": "white",
            "gridwidth": 2,
            "linecolor": "white",
            "showbackground": true,
            "ticks": "",
            "zerolinecolor": "white"
           },
           "yaxis": {
            "backgroundcolor": "#E5ECF6",
            "gridcolor": "white",
            "gridwidth": 2,
            "linecolor": "white",
            "showbackground": true,
            "ticks": "",
            "zerolinecolor": "white"
           },
           "zaxis": {
            "backgroundcolor": "#E5ECF6",
            "gridcolor": "white",
            "gridwidth": 2,
            "linecolor": "white",
            "showbackground": true,
            "ticks": "",
            "zerolinecolor": "white"
           }
          },
          "shapedefaults": {
           "line": {
            "color": "#2a3f5f"
           }
          },
          "ternary": {
           "aaxis": {
            "gridcolor": "white",
            "linecolor": "white",
            "ticks": ""
           },
           "baxis": {
            "gridcolor": "white",
            "linecolor": "white",
            "ticks": ""
           },
           "bgcolor": "#E5ECF6",
           "caxis": {
            "gridcolor": "white",
            "linecolor": "white",
            "ticks": ""
           }
          },
          "title": {
           "x": 0.05
          },
          "xaxis": {
           "automargin": true,
           "gridcolor": "white",
           "linecolor": "white",
           "ticks": "",
           "title": {
            "standoff": 15
           },
           "zerolinecolor": "white",
           "zerolinewidth": 2
          },
          "yaxis": {
           "automargin": true,
           "gridcolor": "white",
           "linecolor": "white",
           "ticks": "",
           "title": {
            "standoff": 15
           },
           "zerolinecolor": "white",
           "zerolinewidth": 2
          }
         }
        },
        "width": 800
       }
      },
      "text/html": [
       "<div>                            <div id=\"d1f3dace-71bc-43a6-be26-378b57f9d3bc\" class=\"plotly-graph-div\" style=\"height:525px; width:800px;\"></div>            <script type=\"text/javascript\">                require([\"plotly\"], function(Plotly) {                    window.PLOTLYENV=window.PLOTLYENV || {};                                    if (document.getElementById(\"d1f3dace-71bc-43a6-be26-378b57f9d3bc\")) {                    Plotly.newPlot(                        \"d1f3dace-71bc-43a6-be26-378b57f9d3bc\",                        [{\"hovertemplate\": \"CoinName=42 Coin<br>Algorithm=Scrypt<br>0=%{x}<br>1=%{y}<br>2=%{z}<extra></extra>\", \"legendgroup\": \"42 Coin, Scrypt\", \"marker\": {\"color\": \"#636efa\", \"symbol\": \"circle\"}, \"mode\": \"markers\", \"name\": \"42 Coin, Scrypt\", \"scene\": \"scene\", \"showlegend\": true, \"type\": \"scatter3d\", \"x\": [-0.3171492143304829], \"y\": [0.9660209118980823], \"z\": [-0.6071291346845705]}, {\"hovertemplate\": \"CoinName=404Coin<br>Algorithm=Scrypt<br>0=%{x}<br>1=%{y}<br>2=%{z}<extra></extra>\", \"legendgroup\": \"404Coin, Scrypt\", \"marker\": {\"color\": \"#EF553B\", \"symbol\": \"circle\"}, \"mode\": \"markers\", \"name\": \"404Coin, Scrypt\", \"scene\": \"scene\", \"showlegend\": true, \"type\": \"scatter3d\", \"x\": [-0.30096680262237846], \"y\": [0.9660712740318786], \"z\": [-0.6074503918503837]}, {\"hovertemplate\": \"CoinName=EliteCoin<br>Algorithm=X13<br>0=%{x}<br>1=%{y}<br>2=%{z}<extra></extra>\", \"legendgroup\": \"EliteCoin, X13\", \"marker\": {\"color\": \"#00cc96\", \"symbol\": \"diamond\"}, \"mode\": \"markers\", \"name\": \"EliteCoin, X13\", \"scene\": \"scene\", \"showlegend\": true, \"type\": \"scatter3d\", \"x\": [2.25581013205786], \"y\": [1.6129160574045958], \"z\": [-0.7036543886897965]}, {\"hovertemplate\": \"CoinName=Bitcoin<br>Algorithm=SHA-256<br>0=%{x}<br>1=%{y}<br>2=%{z}<extra></extra>\", \"legendgroup\": \"Bitcoin, SHA-256\", \"marker\": {\"color\": \"#ab63fa\", \"symbol\": \"square\"}, \"mode\": \"markers\", \"name\": \"Bitcoin, SHA-256\", \"scene\": \"scene\", \"showlegend\": true, \"type\": \"scatter3d\", \"x\": [-0.15660856516909066], \"y\": [-1.2429767131098177], \"z\": [0.20421942262761547]}, {\"hovertemplate\": \"CoinName=Litecoin<br>Algorithm=Scrypt<br>0=%{x}<br>1=%{y}<br>2=%{z}<extra></extra>\", \"legendgroup\": \"Litecoin, Scrypt\", \"marker\": {\"color\": \"#FFA15A\", \"symbol\": \"circle\"}, \"mode\": \"markers\", \"name\": \"Litecoin, Scrypt\", \"scene\": \"scene\", \"showlegend\": true, \"type\": \"scatter3d\", \"x\": [-0.18311053108582112], \"y\": [-1.147414109453003], \"z\": [0.023094723216862394]}, {\"hovertemplate\": \"CoinName=Dash<br>Algorithm=X11<br>0=%{x}<br>1=%{y}<br>2=%{z}<extra></extra>\", \"legendgroup\": \"Dash, X11\", \"marker\": {\"color\": \"#19d3f3\", \"symbol\": \"x\"}, \"mode\": \"markers\", \"name\": \"Dash, X11\", \"scene\": \"scene\", \"showlegend\": true, \"type\": \"scatter3d\", \"x\": [-0.3684193536134989], \"y\": [1.209464751739527], \"z\": [-0.5648132430843875]}, {\"hovertemplate\": \"CoinName=Ethereum Classic<br>Algorithm=Ethash<br>0=%{x}<br>1=%{y}<br>2=%{z}<extra></extra>\", \"legendgroup\": \"Ethereum Classic, Ethash\", \"marker\": {\"color\": \"#FF6692\", \"symbol\": \"cross\"}, \"mode\": \"markers\", \"name\": \"Ethereum Classic, Ethash\", \"scene\": \"scene\", \"showlegend\": true, \"type\": \"scatter3d\", \"x\": [-0.1728047871093127], \"y\": [-1.914442311950901], \"z\": [0.4259915087886051]}, {\"hovertemplate\": \"CoinName=ZCash<br>Algorithm=Equihash<br>0=%{x}<br>1=%{y}<br>2=%{z}<extra></extra>\", \"legendgroup\": \"ZCash, Equihash\", \"marker\": {\"color\": \"#B6E880\", \"symbol\": \"circle\"}, \"mode\": \"markers\", \"name\": \"ZCash, Equihash\", \"scene\": \"scene\", \"showlegend\": true, \"type\": \"scatter3d\", \"x\": [-0.1722424612057986], \"y\": [-1.952852913625633], \"z\": [0.4489195069935002]}, {\"hovertemplate\": \"CoinName=Bitshares<br>Algorithm=SHA-512<br>0=%{x}<br>1=%{y}<br>2=%{z}<extra></extra>\", \"legendgroup\": \"Bitshares, SHA-512\", \"marker\": {\"color\": \"#FF97FF\", \"symbol\": \"diamond\"}, \"mode\": \"markers\", \"name\": \"Bitshares, SHA-512\", \"scene\": \"scene\", \"showlegend\": true, \"type\": \"scatter3d\", \"x\": [-0.25243485689863565], \"y\": [1.813579759415864], \"z\": [-0.18301225935984433]}, {\"hovertemplate\": \"CoinName=DigiByte<br>Algorithm=Multiple<br>0=%{x}<br>1=%{y}<br>2=%{z}<extra></extra>\", \"legendgroup\": \"DigiByte, Multiple\", \"marker\": {\"color\": \"#FECB52\", \"symbol\": \"square\"}, \"mode\": \"markers\", \"name\": \"DigiByte, Multiple\", \"scene\": \"scene\", \"showlegend\": true, \"type\": \"scatter3d\", \"x\": [0.14594513508476284], \"y\": [-1.886049134945738], \"z\": [0.41368907871875665]}, {\"hovertemplate\": \"CoinName=BitcoinDark<br>Algorithm=SHA-256<br>0=%{x}<br>1=%{y}<br>2=%{z}<extra></extra>\", \"legendgroup\": \"BitcoinDark, SHA-256\", \"marker\": {\"color\": \"#636efa\", \"symbol\": \"square\"}, \"mode\": \"markers\", \"name\": \"BitcoinDark, SHA-256\", \"scene\": \"scene\", \"showlegend\": true, \"type\": \"scatter3d\", \"x\": [-0.28951719994299396], \"y\": [0.8704273505279243], \"z\": [-0.4260205143840675]}, {\"hovertemplate\": \"CoinName=PayCoin<br>Algorithm=SHA-256<br>0=%{x}<br>1=%{y}<br>2=%{z}<extra></extra>\", \"legendgroup\": \"PayCoin, SHA-256\", \"marker\": {\"color\": \"#EF553B\", \"symbol\": \"square\"}, \"mode\": \"markers\", \"name\": \"PayCoin, SHA-256\", \"scene\": \"scene\", \"showlegend\": true, \"type\": \"scatter3d\", \"x\": [-0.24891742157097657], \"y\": [0.7856302377850256], \"z\": [-0.13736948769707996]}, {\"hovertemplate\": \"CoinName=ProsperCoin<br>Algorithm=Scrypt<br>0=%{x}<br>1=%{y}<br>2=%{z}<extra></extra>\", \"legendgroup\": \"ProsperCoin, Scrypt\", \"marker\": {\"color\": \"#00cc96\", \"symbol\": \"circle\"}, \"mode\": \"markers\", \"name\": \"ProsperCoin, Scrypt\", \"scene\": \"scene\", \"showlegend\": true, \"type\": \"scatter3d\", \"x\": [-0.18422063040732026], \"y\": [-1.1473984677000408], \"z\": [0.023113241008879036]}, {\"hovertemplate\": \"CoinName=KoboCoin<br>Algorithm=X15<br>0=%{x}<br>1=%{y}<br>2=%{z}<extra></extra>\", \"legendgroup\": \"KoboCoin, X15\", \"marker\": {\"color\": \"#ab63fa\", \"symbol\": \"x\"}, \"mode\": \"markers\", \"name\": \"KoboCoin, X15\", \"scene\": \"scene\", \"showlegend\": true, \"type\": \"scatter3d\", \"x\": [-0.22092014500560306], \"y\": [1.8835918106094545], \"z\": [-0.7296946216799783]}, {\"hovertemplate\": \"CoinName=Spreadcoin<br>Algorithm=X11<br>0=%{x}<br>1=%{y}<br>2=%{z}<extra></extra>\", \"legendgroup\": \"Spreadcoin, X11\", \"marker\": {\"color\": \"#FFA15A\", \"symbol\": \"x\"}, \"mode\": \"markers\", \"name\": \"Spreadcoin, X11\", \"scene\": \"scene\", \"showlegend\": true, \"type\": \"scatter3d\", \"x\": [-0.23569046605715002], \"y\": [-0.9039434083041858], \"z\": [0.0654309143077383]}, {\"hovertemplate\": \"CoinName=Argentum<br>Algorithm=Scrypt<br>0=%{x}<br>1=%{y}<br>2=%{z}<extra></extra>\", \"legendgroup\": \"Argentum, Scrypt\", \"marker\": {\"color\": \"#19d3f3\", \"symbol\": \"circle\"}, \"mode\": \"markers\", \"name\": \"Argentum, Scrypt\", \"scene\": \"scene\", \"showlegend\": true, \"type\": \"scatter3d\", \"x\": [-0.1838518836432412], \"y\": [-1.1474195666795883], \"z\": [0.02311002138860331]}, {\"hovertemplate\": \"CoinName=Aurora Coin<br>Algorithm=Scrypt<br>0=%{x}<br>1=%{y}<br>2=%{z}<extra></extra>\", \"legendgroup\": \"Aurora Coin, Scrypt\", \"marker\": {\"color\": \"#FF6692\", \"symbol\": \"circle\"}, \"mode\": \"markers\", \"name\": \"Aurora Coin, Scrypt\", \"scene\": \"scene\", \"showlegend\": true, \"type\": \"scatter3d\", \"x\": [-0.31681930086560733], \"y\": [0.9660176715361682], \"z\": [-0.607134897628914]}, {\"hovertemplate\": \"CoinName=MyriadCoin<br>Algorithm=Multiple<br>0=%{x}<br>1=%{y}<br>2=%{z}<extra></extra>\", \"legendgroup\": \"MyriadCoin, Multiple\", \"marker\": {\"color\": \"#B6E880\", \"symbol\": \"square\"}, \"mode\": \"markers\", \"name\": \"MyriadCoin, Multiple\", \"scene\": \"scene\", \"showlegend\": true, \"type\": \"scatter3d\", \"x\": [-0.09886382878389668], \"y\": [-1.8789204085381774], \"z\": [0.41709456759698793]}, {\"hovertemplate\": \"CoinName=MoonCoin<br>Algorithm=Scrypt<br>0=%{x}<br>1=%{y}<br>2=%{z}<extra></extra>\", \"legendgroup\": \"MoonCoin, Scrypt\", \"marker\": {\"color\": \"#FF97FF\", \"symbol\": \"circle\"}, \"mode\": \"markers\", \"name\": \"MoonCoin, Scrypt\", \"scene\": \"scene\", \"showlegend\": true, \"type\": \"scatter3d\", \"x\": [2.423785193518309], \"y\": [-1.3541585360417066], \"z\": [0.010947822812359998]}, {\"hovertemplate\": \"CoinName=ZetaCoin<br>Algorithm=SHA-256<br>0=%{x}<br>1=%{y}<br>2=%{z}<extra></extra>\", \"legendgroup\": \"ZetaCoin, SHA-256\", \"marker\": {\"color\": \"#FECB52\", \"symbol\": \"square\"}, \"mode\": \"markers\", \"name\": \"ZetaCoin, SHA-256\", \"scene\": \"scene\", \"showlegend\": true, \"type\": \"scatter3d\", \"x\": [-0.1537840450657708], \"y\": [-1.2430082257339148], \"z\": [0.2041707788287615]}, {\"hovertemplate\": \"CoinName=SexCoin<br>Algorithm=Scrypt<br>0=%{x}<br>1=%{y}<br>2=%{z}<extra></extra>\", \"legendgroup\": \"SexCoin, Scrypt\", \"marker\": {\"color\": \"#636efa\", \"symbol\": \"circle\"}, \"mode\": \"markers\", \"name\": \"SexCoin, Scrypt\", \"scene\": \"scene\", \"showlegend\": true, \"type\": \"scatter3d\", \"x\": [-0.18119802547529182], \"y\": [-1.147482457808592], \"z\": [0.023070451873871706]}, {\"hovertemplate\": \"CoinName=Quatloo<br>Algorithm=Scrypt<br>0=%{x}<br>1=%{y}<br>2=%{z}<extra></extra>\", \"legendgroup\": \"Quatloo, Scrypt\", \"marker\": {\"color\": \"#EF553B\", \"symbol\": \"circle\"}, \"mode\": \"markers\", \"name\": \"Quatloo, Scrypt\", \"scene\": \"scene\", \"showlegend\": true, \"type\": \"scatter3d\", \"x\": [-0.1836651107487383], \"y\": [-1.1474404988469242], \"z\": [0.023110279213666454]}, {\"hovertemplate\": \"CoinName=QuarkCoin<br>Algorithm=Quark<br>0=%{x}<br>1=%{y}<br>2=%{z}<extra></extra>\", \"legendgroup\": \"QuarkCoin, Quark\", \"marker\": {\"color\": \"#00cc96\", \"symbol\": \"cross\"}, \"mode\": \"markers\", \"name\": \"QuarkCoin, Quark\", \"scene\": \"scene\", \"showlegend\": true, \"type\": \"scatter3d\", \"x\": [-0.23233971609148693], \"y\": [-0.3662842758722725], \"z\": [0.02931845490523293]}, {\"hovertemplate\": \"CoinName=Riecoin<br>Algorithm=Groestl<br>0=%{x}<br>1=%{y}<br>2=%{z}<extra></extra>\", \"legendgroup\": \"Riecoin, Groestl\", \"marker\": {\"color\": \"#ab63fa\", \"symbol\": \"circle\"}, \"mode\": \"markers\", \"name\": \"Riecoin, Groestl\", \"scene\": \"scene\", \"showlegend\": true, \"type\": \"scatter3d\", \"x\": [-0.2003920537931298], \"y\": [-1.487677086395854], \"z\": [0.25438631895583347]}, {\"hovertemplate\": \"CoinName=Digitalcoin <br>Algorithm=Scrypt<br>0=%{x}<br>1=%{y}<br>2=%{z}<extra></extra>\", \"legendgroup\": \"Digitalcoin , Scrypt\", \"marker\": {\"color\": \"#FFA15A\", \"symbol\": \"circle\"}, \"mode\": \"markers\", \"name\": \"Digitalcoin , Scrypt\", \"scene\": \"scene\", \"showlegend\": true, \"type\": \"scatter3d\", \"x\": [-0.18370646281104133], \"y\": [-1.147404261572665], \"z\": [0.023104396611893493]}, {\"hovertemplate\": \"CoinName=BitBar<br>Algorithm=Scrypt<br>0=%{x}<br>1=%{y}<br>2=%{z}<extra></extra>\", \"legendgroup\": \"BitBar, Scrypt\", \"marker\": {\"color\": \"#19d3f3\", \"symbol\": \"circle\"}, \"mode\": \"markers\", \"name\": \"BitBar, Scrypt\", \"scene\": \"scene\", \"showlegend\": true, \"type\": \"scatter3d\", \"x\": [-0.31714531181005406], \"y\": [0.9660206562678595], \"z\": [-0.6071291627978728]}, {\"hovertemplate\": \"CoinName=Catcoin<br>Algorithm=Scrypt<br>0=%{x}<br>1=%{y}<br>2=%{z}<extra></extra>\", \"legendgroup\": \"Catcoin, Scrypt\", \"marker\": {\"color\": \"#FF6692\", \"symbol\": \"circle\"}, \"mode\": \"markers\", \"name\": \"Catcoin, Scrypt\", \"scene\": \"scene\", \"showlegend\": true, \"type\": \"scatter3d\", \"x\": [-0.18420333896696908], \"y\": [-1.1473980043219623], \"z\": [0.02311282223780177]}, {\"hovertemplate\": \"CoinName=CryptoBullion<br>Algorithm=Scrypt<br>0=%{x}<br>1=%{y}<br>2=%{z}<extra></extra>\", \"legendgroup\": \"CryptoBullion, Scrypt\", \"marker\": {\"color\": \"#B6E880\", \"symbol\": \"circle\"}, \"mode\": \"markers\", \"name\": \"CryptoBullion, Scrypt\", \"scene\": \"scene\", \"showlegend\": true, \"type\": \"scatter3d\", \"x\": [-0.31713004533751116], \"y\": [0.9660207051399213], \"z\": [-0.6071294661223754]}, {\"hovertemplate\": \"CoinName=CannaCoin<br>Algorithm=Scrypt<br>0=%{x}<br>1=%{y}<br>2=%{z}<extra></extra>\", \"legendgroup\": \"CannaCoin, Scrypt\", \"marker\": {\"color\": \"#FF97FF\", \"symbol\": \"circle\"}, \"mode\": \"markers\", \"name\": \"CannaCoin, Scrypt\", \"scene\": \"scene\", \"showlegend\": true, \"type\": \"scatter3d\", \"x\": [-0.18428669642715356], \"y\": [-1.147394575161478], \"z\": [0.02311379713440742]}, {\"hovertemplate\": \"CoinName=CryptCoin<br>Algorithm=X11<br>0=%{x}<br>1=%{y}<br>2=%{z}<extra></extra>\", \"legendgroup\": \"CryptCoin, X11\", \"marker\": {\"color\": \"#FECB52\", \"symbol\": \"x\"}, \"mode\": \"markers\", \"name\": \"CryptCoin, X11\", \"scene\": \"scene\", \"showlegend\": true, \"type\": \"scatter3d\", \"x\": [-0.23577733961828062], \"y\": [-0.903944295389469], \"z\": [0.06543275262633029]}, {\"hovertemplate\": \"CoinName=CasinoCoin<br>Algorithm=Scrypt<br>0=%{x}<br>1=%{y}<br>2=%{z}<extra></extra>\", \"legendgroup\": \"CasinoCoin, Scrypt\", \"marker\": {\"color\": \"#636efa\", \"symbol\": \"circle\"}, \"mode\": \"markers\", \"name\": \"CasinoCoin, Scrypt\", \"scene\": \"scene\", \"showlegend\": true, \"type\": \"scatter3d\", \"x\": [0.6329103674402146], \"y\": [0.3819755193814378], \"z\": [-0.3258670597612821]}, {\"hovertemplate\": \"CoinName=Diamond<br>Algorithm=Groestl<br>0=%{x}<br>1=%{y}<br>2=%{z}<extra></extra>\", \"legendgroup\": \"Diamond, Groestl\", \"marker\": {\"color\": \"#EF553B\", \"symbol\": \"circle\"}, \"mode\": \"markers\", \"name\": \"Diamond, Groestl\", \"scene\": \"scene\", \"showlegend\": true, \"type\": \"scatter3d\", \"x\": [-0.3342009307150146], \"y\": [0.6257609376542688], \"z\": [-0.3758425227848247]}, {\"hovertemplate\": \"CoinName=Verge<br>Algorithm=Multiple<br>0=%{x}<br>1=%{y}<br>2=%{z}<extra></extra>\", \"legendgroup\": \"Verge, Multiple\", \"marker\": {\"color\": \"#00cc96\", \"symbol\": \"square\"}, \"mode\": \"markers\", \"name\": \"Verge, Multiple\", \"scene\": \"scene\", \"showlegend\": true, \"type\": \"scatter3d\", \"x\": [0.16963355969269683], \"y\": [-1.882211789995393], \"z\": [0.4125250416610013]}, {\"hovertemplate\": \"CoinName=DevCoin<br>Algorithm=SHA-256<br>0=%{x}<br>1=%{y}<br>2=%{z}<extra></extra>\", \"legendgroup\": \"DevCoin, SHA-256\", \"marker\": {\"color\": \"#ab63fa\", \"symbol\": \"square\"}, \"mode\": \"markers\", \"name\": \"DevCoin, SHA-256\", \"scene\": \"scene\", \"showlegend\": true, \"type\": \"scatter3d\", \"x\": [0.20929889366270124], \"y\": [-1.2482860602706718], \"z\": [0.19814395289060505]}, {\"hovertemplate\": \"CoinName=EarthCoin<br>Algorithm=Scrypt<br>0=%{x}<br>1=%{y}<br>2=%{z}<extra></extra>\", \"legendgroup\": \"EarthCoin, Scrypt\", \"marker\": {\"color\": \"#FFA15A\", \"symbol\": \"circle\"}, \"mode\": \"markers\", \"name\": \"EarthCoin, Scrypt\", \"scene\": \"scene\", \"showlegend\": true, \"type\": \"scatter3d\", \"x\": [0.05662294426490378], \"y\": [-1.1506556813910105], \"z\": [0.01907054254018797]}, {\"hovertemplate\": \"CoinName=E-Gulden<br>Algorithm=Scrypt<br>0=%{x}<br>1=%{y}<br>2=%{z}<extra></extra>\", \"legendgroup\": \"E-Gulden, Scrypt\", \"marker\": {\"color\": \"#19d3f3\", \"symbol\": \"circle\"}, \"mode\": \"markers\", \"name\": \"E-Gulden, Scrypt\", \"scene\": \"scene\", \"showlegend\": true, \"type\": \"scatter3d\", \"x\": [-0.18404026288511485], \"y\": [-1.1473936341896942], \"z\": [0.02310887279547096]}, {\"hovertemplate\": \"CoinName=Einsteinium<br>Algorithm=Scrypt<br>0=%{x}<br>1=%{y}<br>2=%{z}<extra></extra>\", \"legendgroup\": \"Einsteinium, Scrypt\", \"marker\": {\"color\": \"#FF6692\", \"symbol\": \"circle\"}, \"mode\": \"markers\", \"name\": \"Einsteinium, Scrypt\", \"scene\": \"scene\", \"showlegend\": true, \"type\": \"scatter3d\", \"x\": [-0.17978860170828337], \"y\": [-1.1474805624413469], \"z\": [0.023042930825708886]}, {\"hovertemplate\": \"CoinName=Emerald<br>Algorithm=Scrypt<br>0=%{x}<br>1=%{y}<br>2=%{z}<extra></extra>\", \"legendgroup\": \"Emerald, Scrypt\", \"marker\": {\"color\": \"#B6E880\", \"symbol\": \"circle\"}, \"mode\": \"markers\", \"name\": \"Emerald, Scrypt\", \"scene\": \"scene\", \"showlegend\": true, \"type\": \"scatter3d\", \"x\": [-0.18398238767631214], \"y\": [-1.1474000085381129], \"z\": [0.023108932062262943]}, {\"hovertemplate\": \"CoinName=Franko<br>Algorithm=Scrypt<br>0=%{x}<br>1=%{y}<br>2=%{z}<extra></extra>\", \"legendgroup\": \"Franko, Scrypt\", \"marker\": {\"color\": \"#FF97FF\", \"symbol\": \"circle\"}, \"mode\": \"markers\", \"name\": \"Franko, Scrypt\", \"scene\": \"scene\", \"showlegend\": true, \"type\": \"scatter3d\", \"x\": [-0.18434204908554647], \"y\": [-1.1473946865773395], \"z\": [0.023114884792004423]}, {\"hovertemplate\": \"CoinName=FeatherCoin<br>Algorithm=NeoScrypt<br>0=%{x}<br>1=%{y}<br>2=%{z}<extra></extra>\", \"legendgroup\": \"FeatherCoin, NeoScrypt\", \"marker\": {\"color\": \"#FECB52\", \"symbol\": \"diamond\"}, \"mode\": \"markers\", \"name\": \"FeatherCoin, NeoScrypt\", \"scene\": \"scene\", \"showlegend\": true, \"type\": \"scatter3d\", \"x\": [-0.1915157530513945], \"y\": [-1.564140609799845], \"z\": [0.27651578404815674]}, {\"hovertemplate\": \"CoinName=GrandCoin<br>Algorithm=Scrypt<br>0=%{x}<br>1=%{y}<br>2=%{z}<extra></extra>\", \"legendgroup\": \"GrandCoin, Scrypt\", \"marker\": {\"color\": \"#636efa\", \"symbol\": \"circle\"}, \"mode\": \"markers\", \"name\": \"GrandCoin, Scrypt\", \"scene\": \"scene\", \"showlegend\": true, \"type\": \"scatter3d\", \"x\": [-0.16425151007339164], \"y\": [-1.147871725498025], \"z\": [0.022815503197837202]}, {\"hovertemplate\": \"CoinName=GlobalCoin<br>Algorithm=Scrypt<br>0=%{x}<br>1=%{y}<br>2=%{z}<extra></extra>\", \"legendgroup\": \"GlobalCoin, Scrypt\", \"marker\": {\"color\": \"#EF553B\", \"symbol\": \"circle\"}, \"mode\": \"markers\", \"name\": \"GlobalCoin, Scrypt\", \"scene\": \"scene\", \"showlegend\": true, \"type\": \"scatter3d\", \"x\": [-0.1831742533989514], \"y\": [-1.1474057303518488], \"z\": [0.023094407127072204]}, {\"hovertemplate\": \"CoinName=GoldCoin<br>Algorithm=Scrypt<br>0=%{x}<br>1=%{y}<br>2=%{z}<extra></extra>\", \"legendgroup\": \"GoldCoin, Scrypt\", \"marker\": {\"color\": \"#00cc96\", \"symbol\": \"circle\"}, \"mode\": \"markers\", \"name\": \"GoldCoin, Scrypt\", \"scene\": \"scene\", \"showlegend\": true, \"type\": \"scatter3d\", \"x\": [-0.18344504621061625], \"y\": [-1.1474146050749037], \"z\": [0.023101263548428005]}, {\"hovertemplate\": \"CoinName=HoboNickels<br>Algorithm=Scrypt<br>0=%{x}<br>1=%{y}<br>2=%{z}<extra></extra>\", \"legendgroup\": \"HoboNickels, Scrypt\", \"marker\": {\"color\": \"#ab63fa\", \"symbol\": \"circle\"}, \"mode\": \"markers\", \"name\": \"HoboNickels, Scrypt\", \"scene\": \"scene\", \"showlegend\": true, \"type\": \"scatter3d\", \"x\": [-0.3152708348644768], \"y\": [0.9659847911996613], \"z\": [-0.6071586888205368]}, {\"hovertemplate\": \"CoinName=Infinite Coin<br>Algorithm=Scrypt<br>0=%{x}<br>1=%{y}<br>2=%{z}<extra></extra>\", \"legendgroup\": \"Infinite Coin, Scrypt\", \"marker\": {\"color\": \"#FFA15A\", \"symbol\": \"circle\"}, \"mode\": \"markers\", \"name\": \"Infinite Coin, Scrypt\", \"scene\": \"scene\", \"showlegend\": true, \"type\": \"scatter3d\", \"x\": [1.5100850174224196], \"y\": [-1.1672547458629607], \"z\": [-0.005890323606624758]}, {\"hovertemplate\": \"CoinName=IOCoin<br>Algorithm=X11<br>0=%{x}<br>1=%{y}<br>2=%{z}<extra></extra>\", \"legendgroup\": \"IOCoin, X11\", \"marker\": {\"color\": \"#19d3f3\", \"symbol\": \"x\"}, \"mode\": \"markers\", \"name\": \"IOCoin, X11\", \"scene\": \"scene\", \"showlegend\": true, \"type\": \"scatter3d\", \"x\": [-0.36831668011611085], \"y\": [1.2094675031961422], \"z\": [-0.5648157296725625]}, {\"hovertemplate\": \"CoinName=IXcoin<br>Algorithm=SHA-256<br>0=%{x}<br>1=%{y}<br>2=%{z}<extra></extra>\", \"legendgroup\": \"IXcoin, SHA-256\", \"marker\": {\"color\": \"#FF6692\", \"symbol\": \"square\"}, \"mode\": \"markers\", \"name\": \"IXcoin, SHA-256\", \"scene\": \"scene\", \"showlegend\": true, \"type\": \"scatter3d\", \"x\": [-0.15657089860386594], \"y\": [-1.2429757037167173], \"z\": [0.2042185104035457]}, {\"hovertemplate\": \"CoinName=KrugerCoin<br>Algorithm=Scrypt<br>0=%{x}<br>1=%{y}<br>2=%{z}<extra></extra>\", \"legendgroup\": \"KrugerCoin, Scrypt\", \"marker\": {\"color\": \"#B6E880\", \"symbol\": \"circle\"}, \"mode\": \"markers\", \"name\": \"KrugerCoin, Scrypt\", \"scene\": \"scene\", \"showlegend\": true, \"type\": \"scatter3d\", \"x\": [-0.18082519293404123], \"y\": [-1.1474835769969742], \"z\": [0.023063470504171006]}, {\"hovertemplate\": \"CoinName=LuckyCoin<br>Algorithm=Scrypt<br>0=%{x}<br>1=%{y}<br>2=%{z}<extra></extra>\", \"legendgroup\": \"LuckyCoin, Scrypt\", \"marker\": {\"color\": \"#FF97FF\", \"symbol\": \"circle\"}, \"mode\": \"markers\", \"name\": \"LuckyCoin, Scrypt\", \"scene\": \"scene\", \"showlegend\": true, \"type\": \"scatter3d\", \"x\": [-0.1840659250002855], \"y\": [-1.1473936014047377], \"z\": [0.023109361480751375]}, {\"hovertemplate\": \"CoinName=Litebar <br>Algorithm=Scrypt<br>0=%{x}<br>1=%{y}<br>2=%{z}<extra></extra>\", \"legendgroup\": \"Litebar , Scrypt\", \"marker\": {\"color\": \"#FECB52\", \"symbol\": \"circle\"}, \"mode\": \"markers\", \"name\": \"Litebar , Scrypt\", \"scene\": \"scene\", \"showlegend\": true, \"type\": \"scatter3d\", \"x\": [-0.18440965308475915], \"y\": [-1.147389375693188], \"z\": [0.023115209116354302]}, {\"hovertemplate\": \"CoinName=MaxCoin<br>Algorithm=SHA3<br>0=%{x}<br>1=%{y}<br>2=%{z}<extra></extra>\", \"legendgroup\": \"MaxCoin, SHA3\", \"marker\": {\"color\": \"#636efa\", \"symbol\": \"square\"}, \"mode\": \"markers\", \"name\": \"MaxCoin, SHA3\", \"scene\": \"scene\", \"showlegend\": true, \"type\": \"scatter3d\", \"x\": [-0.38291558166147666], \"y\": [2.0177478769681993], \"z\": [-0.7183481724369706]}, {\"hovertemplate\": \"CoinName=MegaCoin<br>Algorithm=Scrypt<br>0=%{x}<br>1=%{y}<br>2=%{z}<extra></extra>\", \"legendgroup\": \"MegaCoin, Scrypt\", \"marker\": {\"color\": \"#EF553B\", \"symbol\": \"circle\"}, \"mode\": \"markers\", \"name\": \"MegaCoin, Scrypt\", \"scene\": \"scene\", \"showlegend\": true, \"type\": \"scatter3d\", \"x\": [-0.18369225183172294], \"y\": [-1.1473994382569692], \"z\": [0.023103233537113303]}, {\"hovertemplate\": \"CoinName=MediterraneanCoin<br>Algorithm=HybridScryptHash256<br>0=%{x}<br>1=%{y}<br>2=%{z}<extra></extra>\", \"legendgroup\": \"MediterraneanCoin, HybridScryptHash256\", \"marker\": {\"color\": \"#00cc96\", \"symbol\": \"x\"}, \"mode\": \"markers\", \"name\": \"MediterraneanCoin, HybridScryptHash256\", \"scene\": \"scene\", \"showlegend\": true, \"type\": \"scatter3d\", \"x\": [-0.1737953762295482], \"y\": [-2.1210194179723905], \"z\": [0.46309949985286464]}, {\"hovertemplate\": \"CoinName=MinCoin<br>Algorithm=Scrypt<br>0=%{x}<br>1=%{y}<br>2=%{z}<extra></extra>\", \"legendgroup\": \"MinCoin, Scrypt\", \"marker\": {\"color\": \"#ab63fa\", \"symbol\": \"circle\"}, \"mode\": \"markers\", \"name\": \"MinCoin, Scrypt\", \"scene\": \"scene\", \"showlegend\": true, \"type\": \"scatter3d\", \"x\": [-0.1842949173959573], \"y\": [-1.1473925331564525], \"z\": [0.023113579209191853]}, {\"hovertemplate\": \"CoinName=MazaCoin<br>Algorithm=SHA-256<br>0=%{x}<br>1=%{y}<br>2=%{z}<extra></extra>\", \"legendgroup\": \"MazaCoin, SHA-256\", \"marker\": {\"color\": \"#FFA15A\", \"symbol\": \"square\"}, \"mode\": \"markers\", \"name\": \"MazaCoin, SHA-256\", \"scene\": \"scene\", \"showlegend\": true, \"type\": \"scatter3d\", \"x\": [-0.25402683636058543], \"y\": [0.8696512875593849], \"z\": [-0.42656166176946286]}, {\"hovertemplate\": \"CoinName=Nautilus Coin<br>Algorithm=Scrypt<br>0=%{x}<br>1=%{y}<br>2=%{z}<extra></extra>\", \"legendgroup\": \"Nautilus Coin, Scrypt\", \"marker\": {\"color\": \"#19d3f3\", \"symbol\": \"circle\"}, \"mode\": \"markers\", \"name\": \"Nautilus Coin, Scrypt\", \"scene\": \"scene\", \"showlegend\": true, \"type\": \"scatter3d\", \"x\": [-0.2763098137319927], \"y\": [0.8812117186486216], \"z\": [-0.31848050070555955]}, {\"hovertemplate\": \"CoinName=NobleCoin<br>Algorithm=Scrypt<br>0=%{x}<br>1=%{y}<br>2=%{z}<extra></extra>\", \"legendgroup\": \"NobleCoin, Scrypt\", \"marker\": {\"color\": \"#FF6692\", \"symbol\": \"circle\"}, \"mode\": \"markers\", \"name\": \"NobleCoin, Scrypt\", \"scene\": \"scene\", \"showlegend\": true, \"type\": \"scatter3d\", \"x\": [-0.05436484847519912], \"y\": [-1.1547106675496095], \"z\": [0.0219577049389043]}, {\"hovertemplate\": \"CoinName=Namecoin<br>Algorithm=SHA-256<br>0=%{x}<br>1=%{y}<br>2=%{z}<extra></extra>\", \"legendgroup\": \"Namecoin, SHA-256\", \"marker\": {\"color\": \"#B6E880\", \"symbol\": \"square\"}, \"mode\": \"markers\", \"name\": \"Namecoin, SHA-256\", \"scene\": \"scene\", \"showlegend\": true, \"type\": \"scatter3d\", \"x\": [-0.15664657241811988], \"y\": [-1.2429777316326058], \"z\": [0.2042203431025038]}, {\"hovertemplate\": \"CoinName=NyanCoin<br>Algorithm=Scrypt<br>0=%{x}<br>1=%{y}<br>2=%{z}<extra></extra>\", \"legendgroup\": \"NyanCoin, Scrypt\", \"marker\": {\"color\": \"#FF97FF\", \"symbol\": \"circle\"}, \"mode\": \"markers\", \"name\": \"NyanCoin, Scrypt\", \"scene\": \"scene\", \"showlegend\": true, \"type\": \"scatter3d\", \"x\": [-0.17815607104733663], \"y\": [-1.1474636210313522], \"z\": [0.02300833507987612]}, {\"hovertemplate\": \"CoinName=Orbitcoin<br>Algorithm=NeoScrypt<br>0=%{x}<br>1=%{y}<br>2=%{z}<extra></extra>\", \"legendgroup\": \"Orbitcoin, NeoScrypt\", \"marker\": {\"color\": \"#FECB52\", \"symbol\": \"diamond\"}, \"mode\": \"markers\", \"name\": \"Orbitcoin, NeoScrypt\", \"scene\": \"scene\", \"showlegend\": true, \"type\": \"scatter3d\", \"x\": [-0.3289367953129037], \"y\": [0.5493826158141337], \"z\": [-0.35365912599400395]}, {\"hovertemplate\": \"CoinName=PotCoin<br>Algorithm=Scrypt<br>0=%{x}<br>1=%{y}<br>2=%{z}<extra></extra>\", \"legendgroup\": \"PotCoin, Scrypt\", \"marker\": {\"color\": \"#636efa\", \"symbol\": \"circle\"}, \"mode\": \"markers\", \"name\": \"PotCoin, Scrypt\", \"scene\": \"scene\", \"showlegend\": true, \"type\": \"scatter3d\", \"x\": [-0.3116440345965271], \"y\": [0.9658658382118495], \"z\": [-0.6072066810793549]}, {\"hovertemplate\": \"CoinName=PhoenixCoin<br>Algorithm=Scrypt<br>0=%{x}<br>1=%{y}<br>2=%{z}<extra></extra>\", \"legendgroup\": \"PhoenixCoin, Scrypt\", \"marker\": {\"color\": \"#EF553B\", \"symbol\": \"circle\"}, \"mode\": \"markers\", \"name\": \"PhoenixCoin, Scrypt\", \"scene\": \"scene\", \"showlegend\": true, \"type\": \"scatter3d\", \"x\": [-0.3156026027497616], \"y\": [0.9659917510346683], \"z\": [-0.6071535757559501]}, {\"hovertemplate\": \"CoinName=RonPaulCoin<br>Algorithm=Scrypt<br>0=%{x}<br>1=%{y}<br>2=%{z}<extra></extra>\", \"legendgroup\": \"RonPaulCoin, Scrypt\", \"marker\": {\"color\": \"#00cc96\", \"symbol\": \"circle\"}, \"mode\": \"markers\", \"name\": \"RonPaulCoin, Scrypt\", \"scene\": \"scene\", \"showlegend\": true, \"type\": \"scatter3d\", \"x\": [-0.18427618794696365], \"y\": [-1.1473999565376063], \"z\": [0.023114586523784453]}, {\"hovertemplate\": \"CoinName=StableCoin<br>Algorithm=Scrypt<br>0=%{x}<br>1=%{y}<br>2=%{z}<extra></extra>\", \"legendgroup\": \"StableCoin, Scrypt\", \"marker\": {\"color\": \"#ab63fa\", \"symbol\": \"circle\"}, \"mode\": \"markers\", \"name\": \"StableCoin, Scrypt\", \"scene\": \"scene\", \"showlegend\": true, \"type\": \"scatter3d\", \"x\": [-0.18244547739515443], \"y\": [-1.1475158871737456], \"z\": [0.023100663167651178]}, {\"hovertemplate\": \"CoinName=SmartCoin<br>Algorithm=Scrypt<br>0=%{x}<br>1=%{y}<br>2=%{z}<extra></extra>\", \"legendgroup\": \"SmartCoin, Scrypt\", \"marker\": {\"color\": \"#FFA15A\", \"symbol\": \"circle\"}, \"mode\": \"markers\", \"name\": \"SmartCoin, Scrypt\", \"scene\": \"scene\", \"showlegend\": true, \"type\": \"scatter3d\", \"x\": [-0.1837793523525114], \"y\": [-1.1474084008157803], \"z\": [0.02310656482628546]}, {\"hovertemplate\": \"CoinName=SyncCoin<br>Algorithm=X11<br>0=%{x}<br>1=%{y}<br>2=%{z}<extra></extra>\", \"legendgroup\": \"SyncCoin, X11\", \"marker\": {\"color\": \"#19d3f3\", \"symbol\": \"x\"}, \"mode\": \"markers\", \"name\": \"SyncCoin, X11\", \"scene\": \"scene\", \"showlegend\": true, \"type\": \"scatter3d\", \"x\": [-0.36867633911438985], \"y\": [1.2094737148812973], \"z\": [-0.5648099409969438]}, {\"hovertemplate\": \"CoinName=SysCoin<br>Algorithm=SHA-256<br>0=%{x}<br>1=%{y}<br>2=%{z}<extra></extra>\", \"legendgroup\": \"SysCoin, SHA-256\", \"marker\": {\"color\": \"#FF6692\", \"symbol\": \"square\"}, \"mode\": \"markers\", \"name\": \"SysCoin, SHA-256\", \"scene\": \"scene\", \"showlegend\": true, \"type\": \"scatter3d\", \"x\": [-0.1442229993189284], \"y\": [-1.2432694605955612], \"z\": [0.20403461042109206]}, {\"hovertemplate\": \"CoinName=TeslaCoin<br>Algorithm=Multiple<br>0=%{x}<br>1=%{y}<br>2=%{z}<extra></extra>\", \"legendgroup\": \"TeslaCoin, Multiple\", \"marker\": {\"color\": \"#B6E880\", \"symbol\": \"square\"}, \"mode\": \"markers\", \"name\": \"TeslaCoin, Multiple\", \"scene\": \"scene\", \"showlegend\": true, \"type\": \"scatter3d\", \"x\": [-0.2231033202914826], \"y\": [0.15019365192005843], \"z\": [0.07602775582390871]}, {\"hovertemplate\": \"CoinName=TigerCoin<br>Algorithm=SHA-256<br>0=%{x}<br>1=%{y}<br>2=%{z}<extra></extra>\", \"legendgroup\": \"TigerCoin, SHA-256\", \"marker\": {\"color\": \"#FF97FF\", \"symbol\": \"square\"}, \"mode\": \"markers\", \"name\": \"TigerCoin, SHA-256\", \"scene\": \"scene\", \"showlegend\": true, \"type\": \"scatter3d\", \"x\": [-0.15612683412431147], \"y\": [-1.2429825447624467], \"z\": [0.20421121052492405]}, {\"hovertemplate\": \"CoinName=TittieCoin<br>Algorithm=PHI1612<br>0=%{x}<br>1=%{y}<br>2=%{z}<extra></extra>\", \"legendgroup\": \"TittieCoin, PHI1612\", \"marker\": {\"color\": \"#FECB52\", \"symbol\": \"cross\"}, \"mode\": \"markers\", \"name\": \"TittieCoin, PHI1612\", \"scene\": \"scene\", \"showlegend\": true, \"type\": \"scatter3d\", \"x\": [-0.28748800951650044], \"y\": [1.779965444257769], \"z\": [-0.3634634637245242]}, {\"hovertemplate\": \"CoinName=TorCoin<br>Algorithm=X11<br>0=%{x}<br>1=%{y}<br>2=%{z}<extra></extra>\", \"legendgroup\": \"TorCoin, X11\", \"marker\": {\"color\": \"#636efa\", \"symbol\": \"x\"}, \"mode\": \"markers\", \"name\": \"TorCoin, X11\", \"scene\": \"scene\", \"showlegend\": true, \"type\": \"scatter3d\", \"x\": [-0.36859138196200797], \"y\": [1.209468787479889], \"z\": [-0.564810670554573]}, {\"hovertemplate\": \"CoinName=TerraCoin<br>Algorithm=SHA-256<br>0=%{x}<br>1=%{y}<br>2=%{z}<extra></extra>\", \"legendgroup\": \"TerraCoin, SHA-256\", \"marker\": {\"color\": \"#EF553B\", \"symbol\": \"square\"}, \"mode\": \"markers\", \"name\": \"TerraCoin, SHA-256\", \"scene\": \"scene\", \"showlegend\": true, \"type\": \"scatter3d\", \"x\": [-0.15640627234611373], \"y\": [-1.2429864221515907], \"z\": [0.2042173124321408]}, {\"hovertemplate\": \"CoinName=UnbreakableCoin<br>Algorithm=SHA-256<br>0=%{x}<br>1=%{y}<br>2=%{z}<extra></extra>\", \"legendgroup\": \"UnbreakableCoin, SHA-256\", \"marker\": {\"color\": \"#00cc96\", \"symbol\": \"square\"}, \"mode\": \"markers\", \"name\": \"UnbreakableCoin, SHA-256\", \"scene\": \"scene\", \"showlegend\": true, \"type\": \"scatter3d\", \"x\": [-0.15639422846114992], \"y\": [-1.2430134776904949], \"z\": [0.20422206753519076]}, {\"hovertemplate\": \"CoinName=Unobtanium<br>Algorithm=SHA-256<br>0=%{x}<br>1=%{y}<br>2=%{z}<extra></extra>\", \"legendgroup\": \"Unobtanium, SHA-256\", \"marker\": {\"color\": \"#ab63fa\", \"symbol\": \"square\"}, \"mode\": \"markers\", \"name\": \"Unobtanium, SHA-256\", \"scene\": \"scene\", \"showlegend\": true, \"type\": \"scatter3d\", \"x\": [-0.15696065221955105], \"y\": [-1.2429711983919416], \"z\": [0.2042251938026582]}, {\"hovertemplate\": \"CoinName=UnitaryStatus Dollar<br>Algorithm=Scrypt<br>0=%{x}<br>1=%{y}<br>2=%{z}<extra></extra>\", \"legendgroup\": \"UnitaryStatus Dollar, Scrypt\", \"marker\": {\"color\": \"#FFA15A\", \"symbol\": \"circle\"}, \"mode\": \"markers\", \"name\": \"UnitaryStatus Dollar, Scrypt\", \"scene\": \"scene\", \"showlegend\": true, \"type\": \"scatter3d\", \"x\": [-0.29319135521089035], \"y\": [0.9655101672860299], \"z\": [-0.6074968595034639]}, {\"hovertemplate\": \"CoinName=UltraCoin<br>Algorithm=Scrypt<br>0=%{x}<br>1=%{y}<br>2=%{z}<extra></extra>\", \"legendgroup\": \"UltraCoin, Scrypt\", \"marker\": {\"color\": \"#19d3f3\", \"symbol\": \"circle\"}, \"mode\": \"markers\", \"name\": \"UltraCoin, Scrypt\", \"scene\": \"scene\", \"showlegend\": true, \"type\": \"scatter3d\", \"x\": [-0.31587160994059044], \"y\": [0.9659831011851655], \"z\": [-0.6071467952109395]}, {\"hovertemplate\": \"CoinName=ViaCoin<br>Algorithm=Scrypt<br>0=%{x}<br>1=%{y}<br>2=%{z}<extra></extra>\", \"legendgroup\": \"ViaCoin, Scrypt\", \"marker\": {\"color\": \"#FF6692\", \"symbol\": \"circle\"}, \"mode\": \"markers\", \"name\": \"ViaCoin, Scrypt\", \"scene\": \"scene\", \"showlegend\": true, \"type\": \"scatter3d\", \"x\": [-0.1839999915033835], \"y\": [-1.1473939959551658], \"z\": [0.023108163107258013]}, {\"hovertemplate\": \"CoinName=Vertcoin<br>Algorithm=Lyra2REv2<br>0=%{x}<br>1=%{y}<br>2=%{z}<extra></extra>\", \"legendgroup\": \"Vertcoin, Lyra2REv2\", \"marker\": {\"color\": \"#B6E880\", \"symbol\": \"circle\"}, \"mode\": \"markers\", \"name\": \"Vertcoin, Lyra2REv2\", \"scene\": \"scene\", \"showlegend\": true, \"type\": \"scatter3d\", \"x\": [-0.2055331438062269], \"y\": [-1.1868329050046083], \"z\": [0.22133616241480747]}, {\"hovertemplate\": \"CoinName=WorldCoin<br>Algorithm=Scrypt<br>0=%{x}<br>1=%{y}<br>2=%{z}<extra></extra>\", \"legendgroup\": \"WorldCoin, Scrypt\", \"marker\": {\"color\": \"#FF97FF\", \"symbol\": \"circle\"}, \"mode\": \"markers\", \"name\": \"WorldCoin, Scrypt\", \"scene\": \"scene\", \"showlegend\": true, \"type\": \"scatter3d\", \"x\": [-0.18120446685609418], \"y\": [-1.1474937408247177], \"z\": [0.023072655913002754]}, {\"hovertemplate\": \"CoinName=X11 Coin<br>Algorithm=X11<br>0=%{x}<br>1=%{y}<br>2=%{z}<extra></extra>\", \"legendgroup\": \"X11 Coin, X11\", \"marker\": {\"color\": \"#FECB52\", \"symbol\": \"x\"}, \"mode\": \"markers\", \"name\": \"X11 Coin, X11\", \"scene\": \"scene\", \"showlegend\": true, \"type\": \"scatter3d\", \"x\": [-0.3685562071002212], \"y\": [1.2094729722662259], \"z\": [-0.5648121200793587]}, {\"hovertemplate\": \"CoinName=JouleCoin<br>Algorithm=SHA-256<br>0=%{x}<br>1=%{y}<br>2=%{z}<extra></extra>\", \"legendgroup\": \"JouleCoin, SHA-256\", \"marker\": {\"color\": \"#636efa\", \"symbol\": \"square\"}, \"mode\": \"markers\", \"name\": \"JouleCoin, SHA-256\", \"scene\": \"scene\", \"showlegend\": true, \"type\": \"scatter3d\", \"x\": [-0.15619220887448673], \"y\": [-1.2429828470973106], \"z\": [0.20421252658716813]}, {\"hovertemplate\": \"CoinName=ZCC Coin<br>Algorithm=Scrypt<br>0=%{x}<br>1=%{y}<br>2=%{z}<extra></extra>\", \"legendgroup\": \"ZCC Coin, Scrypt\", \"marker\": {\"color\": \"#EF553B\", \"symbol\": \"circle\"}, \"mode\": \"markers\", \"name\": \"ZCC Coin, Scrypt\", \"scene\": \"scene\", \"showlegend\": true, \"type\": \"scatter3d\", \"x\": [-0.30859418175691655], \"y\": [0.965529689332247], \"z\": [-0.6072035137431584]}, {\"hovertemplate\": \"CoinName=ByteCoin<br>Algorithm=CryptoNight<br>0=%{x}<br>1=%{y}<br>2=%{z}<extra></extra>\", \"legendgroup\": \"ByteCoin, CryptoNight\", \"marker\": {\"color\": \"#00cc96\", \"symbol\": \"diamond\"}, \"mode\": \"markers\", \"name\": \"ByteCoin, CryptoNight\", \"scene\": \"scene\", \"showlegend\": true, \"type\": \"scatter3d\", \"x\": [3.695505554171985], \"y\": [-2.2716347632363902], \"z\": [0.41451628672901447]}, {\"hovertemplate\": \"CoinName=DigitalNote <br>Algorithm=CryptoNight<br>0=%{x}<br>1=%{y}<br>2=%{z}<extra></extra>\", \"legendgroup\": \"DigitalNote , CryptoNight\", \"marker\": {\"color\": \"#ab63fa\", \"symbol\": \"diamond\"}, \"mode\": \"markers\", \"name\": \"DigitalNote , CryptoNight\", \"scene\": \"scene\", \"showlegend\": true, \"type\": \"scatter3d\", \"x\": [0.40021950231822173], \"y\": [-2.2342416892692727], \"z\": [0.47115180191914496]}, {\"hovertemplate\": \"CoinName=BurstCoin<br>Algorithm=Shabal256<br>0=%{x}<br>1=%{y}<br>2=%{z}<extra></extra>\", \"legendgroup\": \"BurstCoin, Shabal256\", \"marker\": {\"color\": \"#FFA15A\", \"symbol\": \"square\"}, \"mode\": \"markers\", \"name\": \"BurstCoin, Shabal256\", \"scene\": \"scene\", \"showlegend\": true, \"type\": \"scatter3d\", \"x\": [-0.011978867118872734], \"y\": [0.8049833861711078], \"z\": [-0.20849951470037778]}, {\"hovertemplate\": \"CoinName=StorjCoin<br>Algorithm=Counterparty<br>0=%{x}<br>1=%{y}<br>2=%{z}<extra></extra>\", \"legendgroup\": \"StorjCoin, Counterparty\", \"marker\": {\"color\": \"#19d3f3\", \"symbol\": \"x\"}, \"mode\": \"markers\", \"name\": \"StorjCoin, Counterparty\", \"scene\": \"scene\", \"showlegend\": true, \"type\": \"scatter3d\", \"x\": [-0.31438167815111673], \"y\": [1.7389328038986835], \"z\": [-0.2181803521350126]}, {\"hovertemplate\": \"CoinName=MonaCoin<br>Algorithm=Scrypt<br>0=%{x}<br>1=%{y}<br>2=%{z}<extra></extra>\", \"legendgroup\": \"MonaCoin, Scrypt\", \"marker\": {\"color\": \"#FF6692\", \"symbol\": \"circle\"}, \"mode\": \"markers\", \"name\": \"MonaCoin, Scrypt\", \"scene\": \"scene\", \"showlegend\": true, \"type\": \"scatter3d\", \"x\": [-0.18290566968091446], \"y\": [-1.147423836119376], \"z\": [0.023092566751655226]}, {\"hovertemplate\": \"CoinName=Neutron<br>Algorithm=SHA-256<br>0=%{x}<br>1=%{y}<br>2=%{z}<extra></extra>\", \"legendgroup\": \"Neutron, SHA-256\", \"marker\": {\"color\": \"#B6E880\", \"symbol\": \"square\"}, \"mode\": \"markers\", \"name\": \"Neutron, SHA-256\", \"scene\": \"scene\", \"showlegend\": true, \"type\": \"scatter3d\", \"x\": [-0.2887541075390329], \"y\": [0.8704146578256763], \"z\": [-0.42603288599558686]}, {\"hovertemplate\": \"CoinName=Gulden<br>Algorithm=Scrypt<br>0=%{x}<br>1=%{y}<br>2=%{z}<extra></extra>\", \"legendgroup\": \"Gulden, Scrypt\", \"marker\": {\"color\": \"#FF97FF\", \"symbol\": \"circle\"}, \"mode\": \"markers\", \"name\": \"Gulden, Scrypt\", \"scene\": \"scene\", \"showlegend\": true, \"type\": \"scatter3d\", \"x\": [-0.16807732505755207], \"y\": [-1.148161136086505], \"z\": [0.022942608011338815]}, {\"hovertemplate\": \"CoinName=PesetaCoin<br>Algorithm=Scrypt<br>0=%{x}<br>1=%{y}<br>2=%{z}<extra></extra>\", \"legendgroup\": \"PesetaCoin, Scrypt\", \"marker\": {\"color\": \"#FECB52\", \"symbol\": \"circle\"}, \"mode\": \"markers\", \"name\": \"PesetaCoin, Scrypt\", \"scene\": \"scene\", \"showlegend\": true, \"type\": \"scatter3d\", \"x\": [-0.18166378888490442], \"y\": [-1.1474346970619766], \"z\": [0.023070627129886122]}, {\"hovertemplate\": \"CoinName=Kore<br>Algorithm=X13<br>0=%{x}<br>1=%{y}<br>2=%{z}<extra></extra>\", \"legendgroup\": \"Kore, X13\", \"marker\": {\"color\": \"#636efa\", \"symbol\": \"diamond\"}, \"mode\": \"markers\", \"name\": \"Kore, X13\", \"scene\": \"scene\", \"showlegend\": true, \"type\": \"scatter3d\", \"x\": [-0.22669187094006987], \"y\": [1.772726927678909], \"z\": [-0.6852541076362906]}, {\"hovertemplate\": \"CoinName=Wild Beast Coin<br>Algorithm=Scrypt<br>0=%{x}<br>1=%{y}<br>2=%{z}<extra></extra>\", \"legendgroup\": \"Wild Beast Coin, Scrypt\", \"marker\": {\"color\": \"#EF553B\", \"symbol\": \"circle\"}, \"mode\": \"markers\", \"name\": \"Wild Beast Coin, Scrypt\", \"scene\": \"scene\", \"showlegend\": true, \"type\": \"scatter3d\", \"x\": [-0.1844119601733664], \"y\": [-1.1473903582940246], \"z\": [0.023115434721763323]}, {\"hovertemplate\": \"CoinName=Dnotes<br>Algorithm=Scrypt<br>0=%{x}<br>1=%{y}<br>2=%{z}<extra></extra>\", \"legendgroup\": \"Dnotes, Scrypt\", \"marker\": {\"color\": \"#00cc96\", \"symbol\": \"circle\"}, \"mode\": \"markers\", \"name\": \"Dnotes, Scrypt\", \"scene\": \"scene\", \"showlegend\": true, \"type\": \"scatter3d\", \"x\": [-0.2711360103077986], \"y\": [0.8810017835487521], \"z\": [-0.3185415457441519]}, {\"hovertemplate\": \"CoinName=Flo<br>Algorithm=Scrypt<br>0=%{x}<br>1=%{y}<br>2=%{z}<extra></extra>\", \"legendgroup\": \"Flo, Scrypt\", \"marker\": {\"color\": \"#ab63fa\", \"symbol\": \"circle\"}, \"mode\": \"markers\", \"name\": \"Flo, Scrypt\", \"scene\": \"scene\", \"showlegend\": true, \"type\": \"scatter3d\", \"x\": [-0.1815314320579745], \"y\": [-1.1474265491538809], \"z\": [0.023066573533074498]}, {\"hovertemplate\": \"CoinName=Sativa Coin<br>Algorithm=X13<br>0=%{x}<br>1=%{y}<br>2=%{z}<extra></extra>\", \"legendgroup\": \"Sativa Coin, X13\", \"marker\": {\"color\": \"#FFA15A\", \"symbol\": \"diamond\"}, \"mode\": \"markers\", \"name\": \"Sativa Coin, X13\", \"scene\": \"scene\", \"showlegend\": true, \"type\": \"scatter3d\", \"x\": [-0.226645011527836], \"y\": [1.7727296243857755], \"z\": [-0.6852555081167914]}, {\"hovertemplate\": \"CoinName=ArtByte<br>Algorithm=Scrypt<br>0=%{x}<br>1=%{y}<br>2=%{z}<extra></extra>\", \"legendgroup\": \"ArtByte, Scrypt\", \"marker\": {\"color\": \"#19d3f3\", \"symbol\": \"circle\"}, \"mode\": \"markers\", \"name\": \"ArtByte, Scrypt\", \"scene\": \"scene\", \"showlegend\": true, \"type\": \"scatter3d\", \"x\": [-0.16819935482711093], \"y\": [-1.1476744789176783], \"z\": [0.02285525245736796]}, {\"hovertemplate\": \"CoinName=Folding Coin<br>Algorithm=Stanford Folding<br>0=%{x}<br>1=%{y}<br>2=%{z}<extra></extra>\", \"legendgroup\": \"Folding Coin, Stanford Folding\", \"marker\": {\"color\": \"#FF6692\", \"symbol\": \"cross\"}, \"mode\": \"markers\", \"name\": \"Folding Coin, Stanford Folding\", \"scene\": \"scene\", \"showlegend\": true, \"type\": \"scatter3d\", \"x\": [-0.15267719331449012], \"y\": [-2.1214267017467683], \"z\": [0.46265830161194293]}, {\"hovertemplate\": \"CoinName=Ucoin<br>Algorithm=X11<br>0=%{x}<br>1=%{y}<br>2=%{z}<extra></extra>\", \"legendgroup\": \"Ucoin, X11\", \"marker\": {\"color\": \"#B6E880\", \"symbol\": \"x\"}, \"mode\": \"markers\", \"name\": \"Ucoin, X11\", \"scene\": \"scene\", \"showlegend\": true, \"type\": \"scatter3d\", \"x\": [-0.32797170199610753], \"y\": [1.1246581586753976], \"z\": [-0.27615753605396737]}, {\"hovertemplate\": \"CoinName=OmniCron<br>Algorithm=Scrypt<br>0=%{x}<br>1=%{y}<br>2=%{z}<extra></extra>\", \"legendgroup\": \"OmniCron, Scrypt\", \"marker\": {\"color\": \"#FF97FF\", \"symbol\": \"circle\"}, \"mode\": \"markers\", \"name\": \"OmniCron, Scrypt\", \"scene\": \"scene\", \"showlegend\": true, \"type\": \"scatter3d\", \"x\": [-0.18428829400946933], \"y\": [-1.1473875798338988], \"z\": [0.023112538447441253]}, {\"hovertemplate\": \"CoinName=Vtorrent<br>Algorithm=Scrypt<br>0=%{x}<br>1=%{y}<br>2=%{z}<extra></extra>\", \"legendgroup\": \"Vtorrent, Scrypt\", \"marker\": {\"color\": \"#FECB52\", \"symbol\": \"circle\"}, \"mode\": \"markers\", \"name\": \"Vtorrent, Scrypt\", \"scene\": \"scene\", \"showlegend\": true, \"type\": \"scatter3d\", \"x\": [-0.3168751396159713], \"y\": [0.9660138469876294], \"z\": [-0.6071331161386038]}, {\"hovertemplate\": \"CoinName=GreenCoin<br>Algorithm=Scrypt<br>0=%{x}<br>1=%{y}<br>2=%{z}<extra></extra>\", \"legendgroup\": \"GreenCoin, Scrypt\", \"marker\": {\"color\": \"#636efa\", \"symbol\": \"circle\"}, \"mode\": \"markers\", \"name\": \"GreenCoin, Scrypt\", \"scene\": \"scene\", \"showlegend\": true, \"type\": \"scatter3d\", \"x\": [-0.061593101843962945], \"y\": [-1.1513019642538096], \"z\": [0.021468710811168447]}, {\"hovertemplate\": \"CoinName=Cryptonite<br>Algorithm=M7 POW<br>0=%{x}<br>1=%{y}<br>2=%{z}<extra></extra>\", \"legendgroup\": \"Cryptonite, M7 POW\", \"marker\": {\"color\": \"#EF553B\", \"symbol\": \"circle\"}, \"mode\": \"markers\", \"name\": \"Cryptonite, M7 POW\", \"scene\": \"scene\", \"showlegend\": true, \"type\": \"scatter3d\", \"x\": [-0.14396928697844352], \"y\": [-2.122294031529601], \"z\": [0.4626114950235871]}, {\"hovertemplate\": \"CoinName=MasterCoin<br>Algorithm=Scrypt<br>0=%{x}<br>1=%{y}<br>2=%{z}<extra></extra>\", \"legendgroup\": \"MasterCoin, Scrypt\", \"marker\": {\"color\": \"#00cc96\", \"symbol\": \"circle\"}, \"mode\": \"markers\", \"name\": \"MasterCoin, Scrypt\", \"scene\": \"scene\", \"showlegend\": true, \"type\": \"scatter3d\", \"x\": [-0.18442039049445477], \"y\": [-1.1473891371080744], \"z\": [0.02311537213851824]}, {\"hovertemplate\": \"CoinName=SoonCoin<br>Algorithm=SHA-256<br>0=%{x}<br>1=%{y}<br>2=%{z}<extra></extra>\", \"legendgroup\": \"SoonCoin, SHA-256\", \"marker\": {\"color\": \"#ab63fa\", \"symbol\": \"square\"}, \"mode\": \"markers\", \"name\": \"SoonCoin, SHA-256\", \"scene\": \"scene\", \"showlegend\": true, \"type\": \"scatter3d\", \"x\": [-0.1566736567856163], \"y\": [-1.2429784574427116], \"z\": [0.20422099904264074]}, {\"hovertemplate\": \"CoinName=1Credit<br>Algorithm=Scrypt<br>0=%{x}<br>1=%{y}<br>2=%{z}<extra></extra>\", \"legendgroup\": \"1Credit, Scrypt\", \"marker\": {\"color\": \"#FFA15A\", \"symbol\": \"circle\"}, \"mode\": \"markers\", \"name\": \"1Credit, Scrypt\", \"scene\": \"scene\", \"showlegend\": true, \"type\": \"scatter3d\", \"x\": [0.44045443719383714], \"y\": [-1.1969275075023333], \"z\": [0.02020035548910842]}, {\"hovertemplate\": \"CoinName=Nexus<br>Algorithm=SHA3<br>0=%{x}<br>1=%{y}<br>2=%{z}<extra></extra>\", \"legendgroup\": \"Nexus, SHA3\", \"marker\": {\"color\": \"#19d3f3\", \"symbol\": \"square\"}, \"mode\": \"markers\", \"name\": \"Nexus, SHA3\", \"scene\": \"scene\", \"showlegend\": true, \"type\": \"scatter3d\", \"x\": [-0.38553147115123215], \"y\": [2.268298375027684], \"z\": [-0.56391710757933]}, {\"hovertemplate\": \"CoinName=MarsCoin <br>Algorithm=X11<br>0=%{x}<br>1=%{y}<br>2=%{z}<extra></extra>\", \"legendgroup\": \"MarsCoin , X11\", \"marker\": {\"color\": \"#FF6692\", \"symbol\": \"x\"}, \"mode\": \"markers\", \"name\": \"MarsCoin , X11\", \"scene\": \"scene\", \"showlegend\": true, \"type\": \"scatter3d\", \"x\": [-0.23535116760982172], \"y\": [-0.90394368200189], \"z\": [0.0654244235733749]}, {\"hovertemplate\": \"CoinName=Crypto<br>Algorithm=Lyra2RE<br>0=%{x}<br>1=%{y}<br>2=%{z}<extra></extra>\", \"legendgroup\": \"Crypto, Lyra2RE\", \"marker\": {\"color\": \"#B6E880\", \"symbol\": \"diamond\"}, \"mode\": \"markers\", \"name\": \"Crypto, Lyra2RE\", \"scene\": \"scene\", \"showlegend\": true, \"type\": \"scatter3d\", \"x\": [-0.1764798613582585], \"y\": [-2.1325994448533234], \"z\": [0.4659449492093324]}, {\"hovertemplate\": \"CoinName=Anarchists Prime<br>Algorithm=SHA-256<br>0=%{x}<br>1=%{y}<br>2=%{z}<extra></extra>\", \"legendgroup\": \"Anarchists Prime, SHA-256\", \"marker\": {\"color\": \"#FF97FF\", \"symbol\": \"square\"}, \"mode\": \"markers\", \"name\": \"Anarchists Prime, SHA-256\", \"scene\": \"scene\", \"showlegend\": true, \"type\": \"scatter3d\", \"x\": [-0.15642393024551207], \"y\": [-1.2429953682110884], \"z\": [0.2042193019259488]}, {\"hovertemplate\": \"CoinName=Droidz<br>Algorithm=QUAIT<br>0=%{x}<br>1=%{y}<br>2=%{z}<extra></extra>\", \"legendgroup\": \"Droidz, QUAIT\", \"marker\": {\"color\": \"#FECB52\", \"symbol\": \"square\"}, \"mode\": \"markers\", \"name\": \"Droidz, QUAIT\", \"scene\": \"scene\", \"showlegend\": true, \"type\": \"scatter3d\", \"x\": [-0.383735541650703], \"y\": [1.9007916469219563], \"z\": [-0.7938037646903133]}, {\"hovertemplate\": \"CoinName=BowsCoin<br>Algorithm=X11<br>0=%{x}<br>1=%{y}<br>2=%{z}<extra></extra>\", \"legendgroup\": \"BowsCoin, X11\", \"marker\": {\"color\": \"#636efa\", \"symbol\": \"x\"}, \"mode\": \"markers\", \"name\": \"BowsCoin, X11\", \"scene\": \"scene\", \"showlegend\": true, \"type\": \"scatter3d\", \"x\": [-0.23562752128965503], \"y\": [-0.9039424419841869], \"z\": [0.06542952269614578]}, {\"hovertemplate\": \"CoinName=Song Coin<br>Algorithm=Scrypt<br>0=%{x}<br>1=%{y}<br>2=%{z}<extra></extra>\", \"legendgroup\": \"Song Coin, Scrypt\", \"marker\": {\"color\": \"#EF553B\", \"symbol\": \"circle\"}, \"mode\": \"markers\", \"name\": \"Song Coin, Scrypt\", \"scene\": \"scene\", \"showlegend\": true, \"type\": \"scatter3d\", \"x\": [-0.18261607324364454], \"y\": [-1.1474918124820213], \"z\": [0.023099514194097445]}, {\"hovertemplate\": \"CoinName=BitZeny<br>Algorithm=Scrypt<br>0=%{x}<br>1=%{y}<br>2=%{z}<extra></extra>\", \"legendgroup\": \"BitZeny, Scrypt\", \"marker\": {\"color\": \"#00cc96\", \"symbol\": \"circle\"}, \"mode\": \"markers\", \"name\": \"BitZeny, Scrypt\", \"scene\": \"scene\", \"showlegend\": true, \"type\": \"scatter3d\", \"x\": [-0.181833229057486], \"y\": [-1.1474994800698575], \"z\": [0.023085835490446825]}, {\"hovertemplate\": \"CoinName=Diggits<br>Algorithm=Scrypt<br>0=%{x}<br>1=%{y}<br>2=%{z}<extra></extra>\", \"legendgroup\": \"Diggits, Scrypt\", \"marker\": {\"color\": \"#ab63fa\", \"symbol\": \"circle\"}, \"mode\": \"markers\", \"name\": \"Diggits, Scrypt\", \"scene\": \"scene\", \"showlegend\": true, \"type\": \"scatter3d\", \"x\": [-0.27474205816026964], \"y\": [0.8811933408000789], \"z\": [-0.3185073370933696]}, {\"hovertemplate\": \"CoinName=Expanse<br>Algorithm=Ethash<br>0=%{x}<br>1=%{y}<br>2=%{z}<extra></extra>\", \"legendgroup\": \"Expanse, Ethash\", \"marker\": {\"color\": \"#FFA15A\", \"symbol\": \"cross\"}, \"mode\": \"markers\", \"name\": \"Expanse, Ethash\", \"scene\": \"scene\", \"showlegend\": true, \"type\": \"scatter3d\", \"x\": [-0.1753416040209445], \"y\": [-1.914371173527502], \"z\": [0.4260273016483122]}, {\"hovertemplate\": \"CoinName=Paycon<br>Algorithm=X13<br>0=%{x}<br>1=%{y}<br>2=%{z}<extra></extra>\", \"legendgroup\": \"Paycon, X13\", \"marker\": {\"color\": \"#19d3f3\", \"symbol\": \"diamond\"}, \"mode\": \"markers\", \"name\": \"Paycon, X13\", \"scene\": \"scene\", \"showlegend\": true, \"type\": \"scatter3d\", \"x\": [-0.2261833825377431], \"y\": [1.77271317591932], \"z\": [-0.6852613756268129]}, {\"hovertemplate\": \"CoinName=Emercoin<br>Algorithm=SHA-256<br>0=%{x}<br>1=%{y}<br>2=%{z}<extra></extra>\", \"legendgroup\": \"Emercoin, SHA-256\", \"marker\": {\"color\": \"#FF6692\", \"symbol\": \"square\"}, \"mode\": \"markers\", \"name\": \"Emercoin, SHA-256\", \"scene\": \"scene\", \"showlegend\": true, \"type\": \"scatter3d\", \"x\": [-0.2823768380187753], \"y\": [0.8699140680095628], \"z\": [-0.42606355419654457]}, {\"hovertemplate\": \"CoinName=EverGreenCoin<br>Algorithm=X15<br>0=%{x}<br>1=%{y}<br>2=%{z}<extra></extra>\", \"legendgroup\": \"EverGreenCoin, X15\", \"marker\": {\"color\": \"#B6E880\", \"symbol\": \"x\"}, \"mode\": \"markers\", \"name\": \"EverGreenCoin, X15\", \"scene\": \"scene\", \"showlegend\": true, \"type\": \"scatter3d\", \"x\": [-0.22326188609928996], \"y\": [1.8837622776157283], \"z\": [-0.7296808993694013]}, {\"hovertemplate\": \"CoinName=MindCoin<br>Algorithm=X11<br>0=%{x}<br>1=%{y}<br>2=%{z}<extra></extra>\", \"legendgroup\": \"MindCoin, X11\", \"marker\": {\"color\": \"#FF97FF\", \"symbol\": \"x\"}, \"mode\": \"markers\", \"name\": \"MindCoin, X11\", \"scene\": \"scene\", \"showlegend\": true, \"type\": \"scatter3d\", \"x\": [-0.23566143650170407], \"y\": [-0.9039397484411876], \"z\": [0.06542968001754769]}, {\"hovertemplate\": \"CoinName=I0coin<br>Algorithm=SHA-256<br>0=%{x}<br>1=%{y}<br>2=%{z}<extra></extra>\", \"legendgroup\": \"I0coin, SHA-256\", \"marker\": {\"color\": \"#FECB52\", \"symbol\": \"square\"}, \"mode\": \"markers\", \"name\": \"I0coin, SHA-256\", \"scene\": \"scene\", \"showlegend\": true, \"type\": \"scatter3d\", \"x\": [-0.1565719929483668], \"y\": [-1.2429757330430906], \"z\": [0.204218536906822]}, {\"hovertemplate\": \"CoinName=Decred<br>Algorithm=BLAKE256<br>0=%{x}<br>1=%{y}<br>2=%{z}<extra></extra>\", \"legendgroup\": \"Decred, BLAKE256\", \"marker\": {\"color\": \"#636efa\", \"symbol\": \"x\"}, \"mode\": \"markers\", \"name\": \"Decred, BLAKE256\", \"scene\": \"scene\", \"showlegend\": true, \"type\": \"scatter3d\", \"x\": [-0.0733849661490827], \"y\": [0.9288589245012794], \"z\": [-0.4865488384278751]}, {\"hovertemplate\": \"CoinName=Revolution VR<br>Algorithm=Scrypt<br>0=%{x}<br>1=%{y}<br>2=%{z}<extra></extra>\", \"legendgroup\": \"Revolution VR, Scrypt\", \"marker\": {\"color\": \"#EF553B\", \"symbol\": \"circle\"}, \"mode\": \"markers\", \"name\": \"Revolution VR, Scrypt\", \"scene\": \"scene\", \"showlegend\": true, \"type\": \"scatter3d\", \"x\": [-0.18050417145394157], \"y\": [-1.1474350445707473], \"z\": [0.023048335430234997]}, {\"hovertemplate\": \"CoinName=HOdlcoin<br>Algorithm=1GB AES Pattern Search<br>0=%{x}<br>1=%{y}<br>2=%{z}<extra></extra>\", \"legendgroup\": \"HOdlcoin, 1GB AES Pattern Search\", \"marker\": {\"color\": \"#00cc96\", \"symbol\": \"cross\"}, \"mode\": \"markers\", \"name\": \"HOdlcoin, 1GB AES Pattern Search\", \"scene\": \"scene\", \"showlegend\": true, \"type\": \"scatter3d\", \"x\": [-0.17558673399258334], \"y\": [-2.120916075889134], \"z\": [0.4631236340617323]}, {\"hovertemplate\": \"CoinName=EDRCoin<br>Algorithm=SHA-256<br>0=%{x}<br>1=%{y}<br>2=%{z}<extra></extra>\", \"legendgroup\": \"EDRCoin, SHA-256\", \"marker\": {\"color\": \"#ab63fa\", \"symbol\": \"square\"}, \"mode\": \"markers\", \"name\": \"EDRCoin, SHA-256\", \"scene\": \"scene\", \"showlegend\": true, \"type\": \"scatter3d\", \"x\": [-0.28948884044011025], \"y\": [0.8704281105092615], \"z\": [-0.42602120120594783]}, {\"hovertemplate\": \"CoinName=Hitcoin<br>Algorithm=X11<br>0=%{x}<br>1=%{y}<br>2=%{z}<extra></extra>\", \"legendgroup\": \"Hitcoin, X11\", \"marker\": {\"color\": \"#FFA15A\", \"symbol\": \"x\"}, \"mode\": \"markers\", \"name\": \"Hitcoin, X11\", \"scene\": \"scene\", \"showlegend\": true, \"type\": \"scatter3d\", \"x\": [-0.05735880535705743], \"y\": [1.1986876593681275], \"z\": [-0.5688234445470284]}, {\"hovertemplate\": \"CoinName=Gamecredits<br>Algorithm=Scrypt<br>0=%{x}<br>1=%{y}<br>2=%{z}<extra></extra>\", \"legendgroup\": \"Gamecredits, Scrypt\", \"marker\": {\"color\": \"#19d3f3\", \"symbol\": \"circle\"}, \"mode\": \"markers\", \"name\": \"Gamecredits, Scrypt\", \"scene\": \"scene\", \"showlegend\": true, \"type\": \"scatter3d\", \"x\": [-0.18302956961871172], \"y\": [-1.1474119398379632], \"z\": [0.023092762459394536]}, {\"hovertemplate\": \"CoinName=DubaiCoin<br>Algorithm=SHA-256<br>0=%{x}<br>1=%{y}<br>2=%{z}<extra></extra>\", \"legendgroup\": \"DubaiCoin, SHA-256\", \"marker\": {\"color\": \"#FF6692\", \"symbol\": \"square\"}, \"mode\": \"markers\", \"name\": \"DubaiCoin, SHA-256\", \"scene\": \"scene\", \"showlegend\": true, \"type\": \"scatter3d\", \"x\": [-0.28954956824257894], \"y\": [0.8704347686542253], \"z\": [-0.42602125779256383]}, {\"hovertemplate\": \"CoinName=DubaiCoin<br>Algorithm=Dagger-Hashimoto<br>0=%{x}<br>1=%{y}<br>2=%{z}<extra></extra>\", \"legendgroup\": \"DubaiCoin, Dagger-Hashimoto\", \"marker\": {\"color\": \"#FF6692\", \"symbol\": \"diamond\"}, \"mode\": \"markers\", \"name\": \"DubaiCoin, Dagger-Hashimoto\", \"scene\": \"scene\", \"showlegend\": true, \"type\": \"scatter3d\", \"x\": [-0.1766039691539656], \"y\": [-2.120839979761473], \"z\": [0.4631339748356809]}, {\"hovertemplate\": \"CoinName=CarpeDiemCoin<br>Algorithm=SHA-256<br>0=%{x}<br>1=%{y}<br>2=%{z}<extra></extra>\", \"legendgroup\": \"CarpeDiemCoin, SHA-256\", \"marker\": {\"color\": \"#B6E880\", \"symbol\": \"square\"}, \"mode\": \"markers\", \"name\": \"CarpeDiemCoin, SHA-256\", \"scene\": \"scene\", \"showlegend\": true, \"type\": \"scatter3d\", \"x\": [0.24888391407138946], \"y\": [-1.2476764792556416], \"z\": [0.1972684432564175]}, {\"hovertemplate\": \"CoinName=BillaryCoin<br>Algorithm=Scrypt<br>0=%{x}<br>1=%{y}<br>2=%{z}<extra></extra>\", \"legendgroup\": \"BillaryCoin, Scrypt\", \"marker\": {\"color\": \"#FF97FF\", \"symbol\": \"circle\"}, \"mode\": \"markers\", \"name\": \"BillaryCoin, Scrypt\", \"scene\": \"scene\", \"showlegend\": true, \"type\": \"scatter3d\", \"x\": [-0.31675675189493857], \"y\": [0.966001168965561], \"z\": [-0.6071330614762975]}, {\"hovertemplate\": \"CoinName=GPU Coin<br>Algorithm=Scrypt<br>0=%{x}<br>1=%{y}<br>2=%{z}<extra></extra>\", \"legendgroup\": \"GPU Coin, Scrypt\", \"marker\": {\"color\": \"#FECB52\", \"symbol\": \"circle\"}, \"mode\": \"markers\", \"name\": \"GPU Coin, Scrypt\", \"scene\": \"scene\", \"showlegend\": true, \"type\": \"scatter3d\", \"x\": [-0.27462885449288604], \"y\": [0.8811091582783124], \"z\": [-0.31849400168400377]}, {\"hovertemplate\": \"CoinName=Adzcoin<br>Algorithm=X11<br>0=%{x}<br>1=%{y}<br>2=%{z}<extra></extra>\", \"legendgroup\": \"Adzcoin, X11\", \"marker\": {\"color\": \"#636efa\", \"symbol\": \"x\"}, \"mode\": \"markers\", \"name\": \"Adzcoin, X11\", \"scene\": \"scene\", \"showlegend\": true, \"type\": \"scatter3d\", \"x\": [-0.23485123808757505], \"y\": [-0.9039670293812829], \"z\": [0.06541908939756054]}, {\"hovertemplate\": \"CoinName=SoilCoin<br>Algorithm=Dagger<br>0=%{x}<br>1=%{y}<br>2=%{z}<extra></extra>\", \"legendgroup\": \"SoilCoin, Dagger\", \"marker\": {\"color\": \"#EF553B\", \"symbol\": \"circle\"}, \"mode\": \"markers\", \"name\": \"SoilCoin, Dagger\", \"scene\": \"scene\", \"showlegend\": true, \"type\": \"scatter3d\", \"x\": [-0.17610375802073475], \"y\": [-2.1286670982649794], \"z\": [0.4649876029412358]}, {\"hovertemplate\": \"CoinName=YoCoin<br>Algorithm=Scrypt<br>0=%{x}<br>1=%{y}<br>2=%{z}<extra></extra>\", \"legendgroup\": \"YoCoin, Scrypt\", \"marker\": {\"color\": \"#00cc96\", \"symbol\": \"circle\"}, \"mode\": \"markers\", \"name\": \"YoCoin, Scrypt\", \"scene\": \"scene\", \"showlegend\": true, \"type\": \"scatter3d\", \"x\": [-0.18328091469665905], \"y\": [-1.1474794489541753], \"z\": [0.0231100523469346]}, {\"hovertemplate\": \"CoinName=SibCoin<br>Algorithm=X11GOST<br>0=%{x}<br>1=%{y}<br>2=%{z}<extra></extra>\", \"legendgroup\": \"SibCoin, X11GOST\", \"marker\": {\"color\": \"#ab63fa\", \"symbol\": \"diamond\"}, \"mode\": \"markers\", \"name\": \"SibCoin, X11GOST\", \"scene\": \"scene\", \"showlegend\": true, \"type\": \"scatter3d\", \"x\": [-0.17609343767290558], \"y\": [-2.120853153447474], \"z\": [0.4631239517548743]}, {\"hovertemplate\": \"CoinName=EuropeCoin<br>Algorithm=X11<br>0=%{x}<br>1=%{y}<br>2=%{z}<extra></extra>\", \"legendgroup\": \"EuropeCoin, X11\", \"marker\": {\"color\": \"#FFA15A\", \"symbol\": \"x\"}, \"mode\": \"markers\", \"name\": \"EuropeCoin, X11\", \"scene\": \"scene\", \"showlegend\": true, \"type\": \"scatter3d\", \"x\": [-0.36594417547802993], \"y\": [1.2092702675991776], \"z\": [-0.5648251106629202]}, {\"hovertemplate\": \"CoinName=ZeitCoin<br>Algorithm=Scrypt<br>0=%{x}<br>1=%{y}<br>2=%{z}<extra></extra>\", \"legendgroup\": \"ZeitCoin, Scrypt\", \"marker\": {\"color\": \"#19d3f3\", \"symbol\": \"circle\"}, \"mode\": \"markers\", \"name\": \"ZeitCoin, Scrypt\", \"scene\": \"scene\", \"showlegend\": true, \"type\": \"scatter3d\", \"x\": [0.8362052794027136], \"y\": [0.8397090315979503], \"z\": [-0.3322777813615802]}, {\"hovertemplate\": \"CoinName=SwingCoin<br>Algorithm=SHA-256<br>0=%{x}<br>1=%{y}<br>2=%{z}<extra></extra>\", \"legendgroup\": \"SwingCoin, SHA-256\", \"marker\": {\"color\": \"#FF6692\", \"symbol\": \"square\"}, \"mode\": \"markers\", \"name\": \"SwingCoin, SHA-256\", \"scene\": \"scene\", \"showlegend\": true, \"type\": \"scatter3d\", \"x\": [-0.2893581541133647], \"y\": [0.8704186439922079], \"z\": [-0.4260219756369433]}, {\"hovertemplate\": \"CoinName=SafeExchangeCoin<br>Algorithm=Scrypt<br>0=%{x}<br>1=%{y}<br>2=%{z}<extra></extra>\", \"legendgroup\": \"SafeExchangeCoin, Scrypt\", \"marker\": {\"color\": \"#B6E880\", \"symbol\": \"circle\"}, \"mode\": \"markers\", \"name\": \"SafeExchangeCoin, Scrypt\", \"scene\": \"scene\", \"showlegend\": true, \"type\": \"scatter3d\", \"x\": [-0.07507687570287165], \"y\": [0.39027482604756364], \"z\": [-0.3137479385115776]}, {\"hovertemplate\": \"CoinName=Nebuchadnezzar<br>Algorithm=PoS<br>0=%{x}<br>1=%{y}<br>2=%{z}<extra></extra>\", \"legendgroup\": \"Nebuchadnezzar, PoS\", \"marker\": {\"color\": \"#FF97FF\", \"symbol\": \"square\"}, \"mode\": \"markers\", \"name\": \"Nebuchadnezzar, PoS\", \"scene\": \"scene\", \"showlegend\": true, \"type\": \"scatter3d\", \"x\": [-0.3253663859984915], \"y\": [1.8027926683698017], \"z\": [-0.22027302964325068]}, {\"hovertemplate\": \"CoinName=Francs<br>Algorithm=Scrypt<br>0=%{x}<br>1=%{y}<br>2=%{z}<extra></extra>\", \"legendgroup\": \"Francs, Scrypt\", \"marker\": {\"color\": \"#FECB52\", \"symbol\": \"circle\"}, \"mode\": \"markers\", \"name\": \"Francs, Scrypt\", \"scene\": \"scene\", \"showlegend\": true, \"type\": \"scatter3d\", \"x\": [-0.1842178636050393], \"y\": [-1.1473976730735658], \"z\": [0.023113041191168523]}, {\"hovertemplate\": \"CoinName=BolivarCoin<br>Algorithm=X11<br>0=%{x}<br>1=%{y}<br>2=%{z}<extra></extra>\", \"legendgroup\": \"BolivarCoin, X11\", \"marker\": {\"color\": \"#636efa\", \"symbol\": \"x\"}, \"mode\": \"markers\", \"name\": \"BolivarCoin, X11\", \"scene\": \"scene\", \"showlegend\": true, \"type\": \"scatter3d\", \"x\": [-0.23562667408785434], \"y\": [-0.903945301206283], \"z\": [0.06543003341897738]}, {\"hovertemplate\": \"CoinName=Ratecoin<br>Algorithm=X11<br>0=%{x}<br>1=%{y}<br>2=%{z}<extra></extra>\", \"legendgroup\": \"Ratecoin, X11\", \"marker\": {\"color\": \"#EF553B\", \"symbol\": \"x\"}, \"mode\": \"markers\", \"name\": \"Ratecoin, X11\", \"scene\": \"scene\", \"showlegend\": true, \"type\": \"scatter3d\", \"x\": [-0.36656417730266916], \"y\": [1.2094762814622653], \"z\": [-0.56485113355324]}, {\"hovertemplate\": \"CoinName=Revenu<br>Algorithm=SHA-256<br>0=%{x}<br>1=%{y}<br>2=%{z}<extra></extra>\", \"legendgroup\": \"Revenu, SHA-256\", \"marker\": {\"color\": \"#00cc96\", \"symbol\": \"square\"}, \"mode\": \"markers\", \"name\": \"Revenu, SHA-256\", \"scene\": \"scene\", \"showlegend\": true, \"type\": \"scatter3d\", \"x\": [-0.28815494092555566], \"y\": [0.8703192378827296], \"z\": [-0.4260268477997284]}, {\"hovertemplate\": \"CoinName=Clockcoin<br>Algorithm=SHA-256<br>0=%{x}<br>1=%{y}<br>2=%{z}<extra></extra>\", \"legendgroup\": \"Clockcoin, SHA-256\", \"marker\": {\"color\": \"#ab63fa\", \"symbol\": \"square\"}, \"mode\": \"markers\", \"name\": \"Clockcoin, SHA-256\", \"scene\": \"scene\", \"showlegend\": true, \"type\": \"scatter3d\", \"x\": [-0.2859175786367835], \"y\": [0.8701614114752986], \"z\": [-0.426040887945961]}, {\"hovertemplate\": \"CoinName=VIP Tokens<br>Algorithm=NIST5<br>0=%{x}<br>1=%{y}<br>2=%{z}<extra></extra>\", \"legendgroup\": \"VIP Tokens, NIST5\", \"marker\": {\"color\": \"#FFA15A\", \"symbol\": \"x\"}, \"mode\": \"markers\", \"name\": \"VIP Tokens, NIST5\", \"scene\": \"scene\", \"showlegend\": true, \"type\": \"scatter3d\", \"x\": [-0.3303396734871195], \"y\": [1.4822785862318064], \"z\": [-0.6312097507595857]}, {\"hovertemplate\": \"CoinName=BitSend<br>Algorithm=X11<br>0=%{x}<br>1=%{y}<br>2=%{z}<extra></extra>\", \"legendgroup\": \"BitSend, X11\", \"marker\": {\"color\": \"#19d3f3\", \"symbol\": \"x\"}, \"mode\": \"markers\", \"name\": \"BitSend, X11\", \"scene\": \"scene\", \"showlegend\": true, \"type\": \"scatter3d\", \"x\": [-0.3674417427263977], \"y\": [1.209406653551298], \"z\": [-0.5648213804685166]}, {\"hovertemplate\": \"CoinName=Omni<br>Algorithm=Scrypt<br>0=%{x}<br>1=%{y}<br>2=%{z}<extra></extra>\", \"legendgroup\": \"Omni, Scrypt\", \"marker\": {\"color\": \"#FF6692\", \"symbol\": \"circle\"}, \"mode\": \"markers\", \"name\": \"Omni, Scrypt\", \"scene\": \"scene\", \"showlegend\": true, \"type\": \"scatter3d\", \"x\": [-0.18442044716707928], \"y\": [-1.147389136443736], \"z\": [0.023115373108623917]}, {\"hovertemplate\": \"CoinName=Let it Ride<br>Algorithm=POS 3.0<br>0=%{x}<br>1=%{y}<br>2=%{z}<extra></extra>\", \"legendgroup\": \"Let it Ride, POS 3.0\", \"marker\": {\"color\": \"#B6E880\", \"symbol\": \"cross\"}, \"mode\": \"markers\", \"name\": \"Let it Ride, POS 3.0\", \"scene\": \"scene\", \"showlegend\": true, \"type\": \"scatter3d\", \"x\": [-0.32012164850060226], \"y\": [1.7457796076830001], \"z\": [-0.21903015662687148]}, {\"hovertemplate\": \"CoinName=PutinCoin<br>Algorithm=Scrypt<br>0=%{x}<br>1=%{y}<br>2=%{z}<extra></extra>\", \"legendgroup\": \"PutinCoin, Scrypt\", \"marker\": {\"color\": \"#FF97FF\", \"symbol\": \"circle\"}, \"mode\": \"markers\", \"name\": \"PutinCoin, Scrypt\", \"scene\": \"scene\", \"showlegend\": true, \"type\": \"scatter3d\", \"x\": [-0.293879516540747], \"y\": [0.9652035333054828], \"z\": [-0.607427069264116]}, {\"hovertemplate\": \"CoinName=iBankCoin<br>Algorithm=Scrypt<br>0=%{x}<br>1=%{y}<br>2=%{z}<extra></extra>\", \"legendgroup\": \"iBankCoin, Scrypt\", \"marker\": {\"color\": \"#FECB52\", \"symbol\": \"circle\"}, \"mode\": \"markers\", \"name\": \"iBankCoin, Scrypt\", \"scene\": \"scene\", \"showlegend\": true, \"type\": \"scatter3d\", \"x\": [-0.3167941770433853], \"y\": [0.9659984849189996], \"z\": [-0.6071318452085889]}, {\"hovertemplate\": \"CoinName=Frankywillcoin<br>Algorithm=Scrypt<br>0=%{x}<br>1=%{y}<br>2=%{z}<extra></extra>\", \"legendgroup\": \"Frankywillcoin, Scrypt\", \"marker\": {\"color\": \"#636efa\", \"symbol\": \"circle\"}, \"mode\": \"markers\", \"name\": \"Frankywillcoin, Scrypt\", \"scene\": \"scene\", \"showlegend\": true, \"type\": \"scatter3d\", \"x\": [-0.3152788314704605], \"y\": [0.9659989865332239], \"z\": [-0.6071611513590377]}, {\"hovertemplate\": \"CoinName=MudraCoin<br>Algorithm=X13<br>0=%{x}<br>1=%{y}<br>2=%{z}<extra></extra>\", \"legendgroup\": \"MudraCoin, X13\", \"marker\": {\"color\": \"#EF553B\", \"symbol\": \"diamond\"}, \"mode\": \"markers\", \"name\": \"MudraCoin, X13\", \"scene\": \"scene\", \"showlegend\": true, \"type\": \"scatter3d\", \"x\": [-0.18484269075405213], \"y\": [1.6878210014824742], \"z\": [-0.39660710945650685]}, {\"hovertemplate\": \"CoinName=PizzaCoin<br>Algorithm=X11<br>0=%{x}<br>1=%{y}<br>2=%{z}<extra></extra>\", \"legendgroup\": \"PizzaCoin, X11\", \"marker\": {\"color\": \"#00cc96\", \"symbol\": \"x\"}, \"mode\": \"markers\", \"name\": \"PizzaCoin, X11\", \"scene\": \"scene\", \"showlegend\": true, \"type\": \"scatter3d\", \"x\": [-0.23577290291290157], \"y\": [-0.9039492198637569], \"z\": [0.06543357484764653]}, {\"hovertemplate\": \"CoinName=Lutetium Coin<br>Algorithm=X11<br>0=%{x}<br>1=%{y}<br>2=%{z}<extra></extra>\", \"legendgroup\": \"Lutetium Coin, X11\", \"marker\": {\"color\": \"#ab63fa\", \"symbol\": \"x\"}, \"mode\": \"markers\", \"name\": \"Lutetium Coin, X11\", \"scene\": \"scene\", \"showlegend\": true, \"type\": \"scatter3d\", \"x\": [-0.31585116606494434], \"y\": [1.1245240196032853], \"z\": [-0.2763664759996481]}, {\"hovertemplate\": \"CoinName=Komodo<br>Algorithm=Equihash<br>0=%{x}<br>1=%{y}<br>2=%{z}<extra></extra>\", \"legendgroup\": \"Komodo, Equihash\", \"marker\": {\"color\": \"#FFA15A\", \"symbol\": \"circle\"}, \"mode\": \"markers\", \"name\": \"Komodo, Equihash\", \"scene\": \"scene\", \"showlegend\": true, \"type\": \"scatter3d\", \"x\": [-0.2596691250991707], \"y\": [-1.2659116968308932], \"z\": [0.5070253903798321]}, {\"hovertemplate\": \"CoinName=GoldBlocks<br>Algorithm=X11<br>0=%{x}<br>1=%{y}<br>2=%{z}<extra></extra>\", \"legendgroup\": \"GoldBlocks, X11\", \"marker\": {\"color\": \"#19d3f3\", \"symbol\": \"x\"}, \"mode\": \"markers\", \"name\": \"GoldBlocks, X11\", \"scene\": \"scene\", \"showlegend\": true, \"type\": \"scatter3d\", \"x\": [-0.3681513576202884], \"y\": [1.2094517600494918], \"z\": [-0.5648160148345052]}, {\"hovertemplate\": \"CoinName=CarterCoin<br>Algorithm=Scrypt<br>0=%{x}<br>1=%{y}<br>2=%{z}<extra></extra>\", \"legendgroup\": \"CarterCoin, Scrypt\", \"marker\": {\"color\": \"#FF6692\", \"symbol\": \"circle\"}, \"mode\": \"markers\", \"name\": \"CarterCoin, Scrypt\", \"scene\": \"scene\", \"showlegend\": true, \"type\": \"scatter3d\", \"x\": [-0.3160237438639524], \"y\": [0.9659862290959458], \"z\": [-0.6071444388719843]}, {\"hovertemplate\": \"CoinName=Karbo<br>Algorithm=CryptoNight<br>0=%{x}<br>1=%{y}<br>2=%{z}<extra></extra>\", \"legendgroup\": \"Karbo, CryptoNight\", \"marker\": {\"color\": \"#B6E880\", \"symbol\": \"diamond\"}, \"mode\": \"markers\", \"name\": \"Karbo, CryptoNight\", \"scene\": \"scene\", \"showlegend\": true, \"type\": \"scatter3d\", \"x\": [0.2501897419519437], \"y\": [-2.2310645956925232], \"z\": [0.4734585095079404]}, {\"hovertemplate\": \"CoinName=BitTokens<br>Algorithm=SHA-256<br>0=%{x}<br>1=%{y}<br>2=%{z}<extra></extra>\", \"legendgroup\": \"BitTokens, SHA-256\", \"marker\": {\"color\": \"#FF97FF\", \"symbol\": \"square\"}, \"mode\": \"markers\", \"name\": \"BitTokens, SHA-256\", \"scene\": \"scene\", \"showlegend\": true, \"type\": \"scatter3d\", \"x\": [-0.28953225207467165], \"y\": [0.8704276676404854], \"z\": [-0.426020282655648]}, {\"hovertemplate\": \"CoinName=ZayedCoin<br>Algorithm=SHA-256<br>0=%{x}<br>1=%{y}<br>2=%{z}<extra></extra>\", \"legendgroup\": \"ZayedCoin, SHA-256\", \"marker\": {\"color\": \"#FECB52\", \"symbol\": \"square\"}, \"mode\": \"markers\", \"name\": \"ZayedCoin, SHA-256\", \"scene\": \"scene\", \"showlegend\": true, \"type\": \"scatter3d\", \"x\": [-0.15682424013549356], \"y\": [-1.2429743772910171], \"z\": [0.2042231499571185]}, {\"hovertemplate\": \"CoinName=MustangCoin<br>Algorithm=X11<br>0=%{x}<br>1=%{y}<br>2=%{z}<extra></extra>\", \"legendgroup\": \"MustangCoin, X11\", \"marker\": {\"color\": \"#636efa\", \"symbol\": \"x\"}, \"mode\": \"markers\", \"name\": \"MustangCoin, X11\", \"scene\": \"scene\", \"showlegend\": true, \"type\": \"scatter3d\", \"x\": [-0.3686481497260593], \"y\": [1.209472309580232], \"z\": [-0.5648102254012017]}, {\"hovertemplate\": \"CoinName=ZoneCoin<br>Algorithm=Scrypt<br>0=%{x}<br>1=%{y}<br>2=%{z}<extra></extra>\", \"legendgroup\": \"ZoneCoin, Scrypt\", \"marker\": {\"color\": \"#EF553B\", \"symbol\": \"circle\"}, \"mode\": \"markers\", \"name\": \"ZoneCoin, Scrypt\", \"scene\": \"scene\", \"showlegend\": true, \"type\": \"scatter3d\", \"x\": [-0.3169758228347686], \"y\": [0.9660104283853596], \"z\": [-0.6071305449416213]}, {\"hovertemplate\": \"CoinName=Circuits of Value<br>Algorithm=Multiple<br>0=%{x}<br>1=%{y}<br>2=%{z}<extra></extra>\", \"legendgroup\": \"Circuits of Value, Multiple\", \"marker\": {\"color\": \"#00cc96\", \"symbol\": \"square\"}, \"mode\": \"markers\", \"name\": \"Circuits of Value, Multiple\", \"scene\": \"scene\", \"showlegend\": true, \"type\": \"scatter3d\", \"x\": [-0.1124958267986439], \"y\": [-1.8787093353424016], \"z\": [0.4173184646822855]}, {\"hovertemplate\": \"CoinName=DopeCoin<br>Algorithm=Scrypt<br>0=%{x}<br>1=%{y}<br>2=%{z}<extra></extra>\", \"legendgroup\": \"DopeCoin, Scrypt\", \"marker\": {\"color\": \"#ab63fa\", \"symbol\": \"circle\"}, \"mode\": \"markers\", \"name\": \"DopeCoin, Scrypt\", \"scene\": \"scene\", \"showlegend\": true, \"type\": \"scatter3d\", \"x\": [-0.1816817165535076], \"y\": [-1.14745939575082], \"z\": [0.023075525590675414]}, {\"hovertemplate\": \"CoinName=DollarCoin<br>Algorithm=SHA-256<br>0=%{x}<br>1=%{y}<br>2=%{z}<extra></extra>\", \"legendgroup\": \"DollarCoin, SHA-256\", \"marker\": {\"color\": \"#FFA15A\", \"symbol\": \"square\"}, \"mode\": \"markers\", \"name\": \"DollarCoin, SHA-256\", \"scene\": \"scene\", \"showlegend\": true, \"type\": \"scatter3d\", \"x\": [-0.15678401009586634], \"y\": [-1.242973949290529], \"z\": [0.20422229548414794]}, {\"hovertemplate\": \"CoinName=Swiscoin<br>Algorithm=Scrypt<br>0=%{x}<br>1=%{y}<br>2=%{z}<extra></extra>\", \"legendgroup\": \"Swiscoin, Scrypt\", \"marker\": {\"color\": \"#19d3f3\", \"symbol\": \"circle\"}, \"mode\": \"markers\", \"name\": \"Swiscoin, Scrypt\", \"scene\": \"scene\", \"showlegend\": true, \"type\": \"scatter3d\", \"x\": [-0.2373639372832029], \"y\": [0.26415948347866536], \"z\": [-0.3426852022867807]}, {\"hovertemplate\": \"CoinName=Shilling<br>Algorithm=Scrypt<br>0=%{x}<br>1=%{y}<br>2=%{z}<extra></extra>\", \"legendgroup\": \"Shilling, Scrypt\", \"marker\": {\"color\": \"#FF6692\", \"symbol\": \"circle\"}, \"mode\": \"markers\", \"name\": \"Shilling, Scrypt\", \"scene\": \"scene\", \"showlegend\": true, \"type\": \"scatter3d\", \"x\": [-0.18409576263337882], \"y\": [-1.1474016058109628], \"z\": [0.02311141220235201]}, {\"hovertemplate\": \"CoinName=BuzzCoin<br>Algorithm=SHA-256D<br>0=%{x}<br>1=%{y}<br>2=%{z}<extra></extra>\", \"legendgroup\": \"BuzzCoin, SHA-256D\", \"marker\": {\"color\": \"#B6E880\", \"symbol\": \"circle\"}, \"mode\": \"markers\", \"name\": \"BuzzCoin, SHA-256D\", \"scene\": \"scene\", \"showlegend\": true, \"type\": \"scatter3d\", \"x\": [0.051648436842590455], \"y\": [1.9043376227232327], \"z\": [-0.8067395924312821]}, {\"hovertemplate\": \"CoinName=Opair<br>Algorithm=PoS<br>0=%{x}<br>1=%{y}<br>2=%{z}<extra></extra>\", \"legendgroup\": \"Opair, PoS\", \"marker\": {\"color\": \"#FF97FF\", \"symbol\": \"square\"}, \"mode\": \"markers\", \"name\": \"Opair, PoS\", \"scene\": \"scene\", \"showlegend\": true, \"type\": \"scatter3d\", \"x\": [-0.32435597613671663], \"y\": [1.802780839459224], \"z\": [-0.2202903284073102]}, {\"hovertemplate\": \"CoinName=Halloween Coin<br>Algorithm=X11<br>0=%{x}<br>1=%{y}<br>2=%{z}<extra></extra>\", \"legendgroup\": \"Halloween Coin, X11\", \"marker\": {\"color\": \"#FECB52\", \"symbol\": \"x\"}, \"mode\": \"markers\", \"name\": \"Halloween Coin, X11\", \"scene\": \"scene\", \"showlegend\": true, \"type\": \"scatter3d\", \"x\": [-0.3553352665610411], \"y\": [1.2087505091861415], \"z\": [-0.5649338253411901]}, {\"hovertemplate\": \"CoinName=ZCoin<br>Algorithm=Lyra2Z<br>0=%{x}<br>1=%{y}<br>2=%{z}<extra></extra>\", \"legendgroup\": \"ZCoin, Lyra2Z\", \"marker\": {\"color\": \"#636efa\", \"symbol\": \"diamond\"}, \"mode\": \"markers\", \"name\": \"ZCoin, Lyra2Z\", \"scene\": \"scene\", \"showlegend\": true, \"type\": \"scatter3d\", \"x\": [-0.17654541251050096], \"y\": [-2.1326123349389654], \"z\": [0.4659446213160682]}, {\"hovertemplate\": \"CoinName=CoffeeCoin<br>Algorithm=PoS<br>0=%{x}<br>1=%{y}<br>2=%{z}<extra></extra>\", \"legendgroup\": \"CoffeeCoin, PoS\", \"marker\": {\"color\": \"#EF553B\", \"symbol\": \"square\"}, \"mode\": \"markers\", \"name\": \"CoffeeCoin, PoS\", \"scene\": \"scene\", \"showlegend\": true, \"type\": \"scatter3d\", \"x\": [-0.3236973182753965], \"y\": [1.8028229866914014], \"z\": [-0.22031079560863243]}, {\"hovertemplate\": \"CoinName=RoyalCoin<br>Algorithm=X13<br>0=%{x}<br>1=%{y}<br>2=%{z}<extra></extra>\", \"legendgroup\": \"RoyalCoin, X13\", \"marker\": {\"color\": \"#00cc96\", \"symbol\": \"diamond\"}, \"mode\": \"markers\", \"name\": \"RoyalCoin, X13\", \"scene\": \"scene\", \"showlegend\": true, \"type\": \"scatter3d\", \"x\": [-0.1862139333073431], \"y\": [1.6879265497440221], \"z\": [-0.3966001301446633]}, {\"hovertemplate\": \"CoinName=GanjaCoin V2<br>Algorithm=X14<br>0=%{x}<br>1=%{y}<br>2=%{z}<extra></extra>\", \"legendgroup\": \"GanjaCoin V2, X14\", \"marker\": {\"color\": \"#ab63fa\", \"symbol\": \"square\"}, \"mode\": \"markers\", \"name\": \"GanjaCoin V2, X14\", \"scene\": \"scene\", \"showlegend\": true, \"type\": \"scatter3d\", \"x\": [-0.38102742798098177], \"y\": [1.9007499051524523], \"z\": [-0.7938623682072456]}, {\"hovertemplate\": \"CoinName=TeamUP<br>Algorithm=PoS<br>0=%{x}<br>1=%{y}<br>2=%{z}<extra></extra>\", \"legendgroup\": \"TeamUP, PoS\", \"marker\": {\"color\": \"#FFA15A\", \"symbol\": \"square\"}, \"mode\": \"markers\", \"name\": \"TeamUP, PoS\", \"scene\": \"scene\", \"showlegend\": true, \"type\": \"scatter3d\", \"x\": [-0.3234837517415684], \"y\": [1.8026406641596355], \"z\": [-0.2202813043794307]}, {\"hovertemplate\": \"CoinName=LanaCoin<br>Algorithm=SHA-256D<br>0=%{x}<br>1=%{y}<br>2=%{z}<extra></extra>\", \"legendgroup\": \"LanaCoin, SHA-256D\", \"marker\": {\"color\": \"#19d3f3\", \"symbol\": \"circle\"}, \"mode\": \"markers\", \"name\": \"LanaCoin, SHA-256D\", \"scene\": \"scene\", \"showlegend\": true, \"type\": \"scatter3d\", \"x\": [-0.25352627316759735], \"y\": [1.9051612088284346], \"z\": [-0.8010080785537123]}, {\"hovertemplate\": \"CoinName=Elementrem<br>Algorithm=Ethash<br>0=%{x}<br>1=%{y}<br>2=%{z}<extra></extra>\", \"legendgroup\": \"Elementrem, Ethash\", \"marker\": {\"color\": \"#FF6692\", \"symbol\": \"cross\"}, \"mode\": \"markers\", \"name\": \"Elementrem, Ethash\", \"scene\": \"scene\", \"showlegend\": true, \"type\": \"scatter3d\", \"x\": [-0.17509130767751263], \"y\": [-1.9143711659149192], \"z\": [0.4260224748911973]}, {\"hovertemplate\": \"CoinName=ZClassic<br>Algorithm=Equihash<br>0=%{x}<br>1=%{y}<br>2=%{z}<extra></extra>\", \"legendgroup\": \"ZClassic, Equihash\", \"marker\": {\"color\": \"#B6E880\", \"symbol\": \"circle\"}, \"mode\": \"markers\", \"name\": \"ZClassic, Equihash\", \"scene\": \"scene\", \"showlegend\": true, \"type\": \"scatter3d\", \"x\": [-0.17226353886395462], \"y\": [-1.9528534784672278], \"z\": [0.4489200174607276]}, {\"hovertemplate\": \"CoinName=ARK<br>Algorithm=DPoS<br>0=%{x}<br>1=%{y}<br>2=%{z}<extra></extra>\", \"legendgroup\": \"ARK, DPoS\", \"marker\": {\"color\": \"#FF97FF\", \"symbol\": \"x\"}, \"mode\": \"markers\", \"name\": \"ARK, DPoS\", \"scene\": \"scene\", \"showlegend\": true, \"type\": \"scatter3d\", \"x\": [4.178006968486555], \"y\": [1.7891686339151824], \"z\": [-0.2736762323989625]}, {\"hovertemplate\": \"CoinName=InsaneCoin<br>Algorithm=X11<br>0=%{x}<br>1=%{y}<br>2=%{z}<extra></extra>\", \"legendgroup\": \"InsaneCoin, X11\", \"marker\": {\"color\": \"#FECB52\", \"symbol\": \"x\"}, \"mode\": \"markers\", \"name\": \"InsaneCoin, X11\", \"scene\": \"scene\", \"showlegend\": true, \"type\": \"scatter3d\", \"x\": [-0.36825410063104147], \"y\": [1.2094634163576123], \"z\": [-0.5648161827663613]}, {\"hovertemplate\": \"CoinName=KiloCoin<br>Algorithm=Scrypt<br>0=%{x}<br>1=%{y}<br>2=%{z}<extra></extra>\", \"legendgroup\": \"KiloCoin, Scrypt\", \"marker\": {\"color\": \"#636efa\", \"symbol\": \"circle\"}, \"mode\": \"markers\", \"name\": \"KiloCoin, Scrypt\", \"scene\": \"scene\", \"showlegend\": true, \"type\": \"scatter3d\", \"x\": [-0.11417143124086172], \"y\": [-1.1527109645884444], \"z\": [0.022742074000998334]}, {\"hovertemplate\": \"CoinName=ArtexCoin<br>Algorithm=X11<br>0=%{x}<br>1=%{y}<br>2=%{z}<extra></extra>\", \"legendgroup\": \"ArtexCoin, X11\", \"marker\": {\"color\": \"#EF553B\", \"symbol\": \"x\"}, \"mode\": \"markers\", \"name\": \"ArtexCoin, X11\", \"scene\": \"scene\", \"showlegend\": true, \"type\": \"scatter3d\", \"x\": [-0.22274784391746985], \"y\": [-0.903942401435783], \"z\": [0.06518121354891397]}, {\"hovertemplate\": \"CoinName=EmberCoin<br>Algorithm=X13<br>0=%{x}<br>1=%{y}<br>2=%{z}<extra></extra>\", \"legendgroup\": \"EmberCoin, X13\", \"marker\": {\"color\": \"#00cc96\", \"symbol\": \"diamond\"}, \"mode\": \"markers\", \"name\": \"EmberCoin, X13\", \"scene\": \"scene\", \"showlegend\": true, \"type\": \"scatter3d\", \"x\": [0.8771403472044341], \"y\": [1.8017037915612102], \"z\": [-0.7118758666195216]}, {\"hovertemplate\": \"CoinName=XenixCoin<br>Algorithm=X11<br>0=%{x}<br>1=%{y}<br>2=%{z}<extra></extra>\", \"legendgroup\": \"XenixCoin, X11\", \"marker\": {\"color\": \"#ab63fa\", \"symbol\": \"x\"}, \"mode\": \"markers\", \"name\": \"XenixCoin, X11\", \"scene\": \"scene\", \"showlegend\": true, \"type\": \"scatter3d\", \"x\": [-0.36860428793273126], \"y\": [1.2094728701877429], \"z\": [-0.5648111743333248]}, {\"hovertemplate\": \"CoinName=FreeCoin<br>Algorithm=PoS<br>0=%{x}<br>1=%{y}<br>2=%{z}<extra></extra>\", \"legendgroup\": \"FreeCoin, PoS\", \"marker\": {\"color\": \"#FFA15A\", \"symbol\": \"square\"}, \"mode\": \"markers\", \"name\": \"FreeCoin, PoS\", \"scene\": \"scene\", \"showlegend\": true, \"type\": \"scatter3d\", \"x\": [-0.32480527090481787], \"y\": [1.8027860907575801], \"z\": [-0.22028263464962516]}, {\"hovertemplate\": \"CoinName=PLNCoin<br>Algorithm=Scrypt<br>0=%{x}<br>1=%{y}<br>2=%{z}<extra></extra>\", \"legendgroup\": \"PLNCoin, Scrypt\", \"marker\": {\"color\": \"#19d3f3\", \"symbol\": \"circle\"}, \"mode\": \"markers\", \"name\": \"PLNCoin, Scrypt\", \"scene\": \"scene\", \"showlegend\": true, \"type\": \"scatter3d\", \"x\": [-0.3166838779346934], \"y\": [0.9660056147161976], \"z\": [-0.6071352858904738]}, {\"hovertemplate\": \"CoinName=AquariusCoin<br>Algorithm=Scrypt<br>0=%{x}<br>1=%{y}<br>2=%{z}<extra></extra>\", \"legendgroup\": \"AquariusCoin, Scrypt\", \"marker\": {\"color\": \"#FF6692\", \"symbol\": \"circle\"}, \"mode\": \"markers\", \"name\": \"AquariusCoin, Scrypt\", \"scene\": \"scene\", \"showlegend\": true, \"type\": \"scatter3d\", \"x\": [-0.3168347629663804], \"y\": [0.9659990784155759], \"z\": [-0.6071311721727031]}, {\"hovertemplate\": \"CoinName=Kurrent<br>Algorithm=X11<br>0=%{x}<br>1=%{y}<br>2=%{z}<extra></extra>\", \"legendgroup\": \"Kurrent, X11\", \"marker\": {\"color\": \"#B6E880\", \"symbol\": \"x\"}, \"mode\": \"markers\", \"name\": \"Kurrent, X11\", \"scene\": \"scene\", \"showlegend\": true, \"type\": \"scatter3d\", \"x\": [-0.2336795396088373], \"y\": [-0.9040393793843204], \"z\": [0.06540983739661906]}, {\"hovertemplate\": \"CoinName=Creatio<br>Algorithm=PoS<br>0=%{x}<br>1=%{y}<br>2=%{z}<extra></extra>\", \"legendgroup\": \"Creatio, PoS\", \"marker\": {\"color\": \"#FF97FF\", \"symbol\": \"square\"}, \"mode\": \"markers\", \"name\": \"Creatio, PoS\", \"scene\": \"scene\", \"showlegend\": true, \"type\": \"scatter3d\", \"x\": [-0.3253663859984915], \"y\": [1.8027926683698017], \"z\": [-0.22027302964325068]}, {\"hovertemplate\": \"CoinName=Eternity<br>Algorithm=X11<br>0=%{x}<br>1=%{y}<br>2=%{z}<extra></extra>\", \"legendgroup\": \"Eternity, X11\", \"marker\": {\"color\": \"#FECB52\", \"symbol\": \"x\"}, \"mode\": \"markers\", \"name\": \"Eternity, X11\", \"scene\": \"scene\", \"showlegend\": true, \"type\": \"scatter3d\", \"x\": [-0.3681965287253677], \"y\": [1.209443344735055], \"z\": [-0.5648135927606949]}, {\"hovertemplate\": \"CoinName=Eurocoin<br>Algorithm=SHA-256<br>0=%{x}<br>1=%{y}<br>2=%{z}<extra></extra>\", \"legendgroup\": \"Eurocoin, SHA-256\", \"marker\": {\"color\": \"#636efa\", \"symbol\": \"square\"}, \"mode\": \"markers\", \"name\": \"Eurocoin, SHA-256\", \"scene\": \"scene\", \"showlegend\": true, \"type\": \"scatter3d\", \"x\": [-0.28939823574417317], \"y\": [0.8704319795074525], \"z\": [-0.42602366112737455]}, {\"hovertemplate\": \"CoinName=BitcoinFast<br>Algorithm=Scrypt<br>0=%{x}<br>1=%{y}<br>2=%{z}<extra></extra>\", \"legendgroup\": \"BitcoinFast, Scrypt\", \"marker\": {\"color\": \"#EF553B\", \"symbol\": \"circle\"}, \"mode\": \"markers\", \"name\": \"BitcoinFast, Scrypt\", \"scene\": \"scene\", \"showlegend\": true, \"type\": \"scatter3d\", \"x\": [-0.31668393265512623], \"y\": [0.9660096047166272], \"z\": [-0.6071360203336112]}, {\"hovertemplate\": \"CoinName=Stakenet<br>Algorithm=X11<br>0=%{x}<br>1=%{y}<br>2=%{z}<extra></extra>\", \"legendgroup\": \"Stakenet, X11\", \"marker\": {\"color\": \"#00cc96\", \"symbol\": \"x\"}, \"mode\": \"markers\", \"name\": \"Stakenet, X11\", \"scene\": \"scene\", \"showlegend\": true, \"type\": \"scatter3d\", \"x\": [-0.36088245268889196], \"y\": [0.7301683391216299], \"z\": [-0.25775526428061946]}, {\"hovertemplate\": \"CoinName=BitConnect Coin<br>Algorithm=Scrypt<br>0=%{x}<br>1=%{y}<br>2=%{z}<extra></extra>\", \"legendgroup\": \"BitConnect Coin, Scrypt\", \"marker\": {\"color\": \"#ab63fa\", \"symbol\": \"circle\"}, \"mode\": \"markers\", \"name\": \"BitConnect Coin, Scrypt\", \"scene\": \"scene\", \"showlegend\": true, \"type\": \"scatter3d\", \"x\": [-0.3168270434344051], \"y\": [0.9660093720238075], \"z\": [-0.6071332184699159]}, {\"hovertemplate\": \"CoinName=MoneyCoin<br>Algorithm=Scrypt<br>0=%{x}<br>1=%{y}<br>2=%{z}<extra></extra>\", \"legendgroup\": \"MoneyCoin, Scrypt\", \"marker\": {\"color\": \"#FFA15A\", \"symbol\": \"circle\"}, \"mode\": \"markers\", \"name\": \"MoneyCoin, Scrypt\", \"scene\": \"scene\", \"showlegend\": true, \"type\": \"scatter3d\", \"x\": [-0.31259977421122737], \"y\": [0.9656740400734419], \"z\": [-0.6071529006186723]}, {\"hovertemplate\": \"CoinName=Enigma<br>Algorithm=X11<br>0=%{x}<br>1=%{y}<br>2=%{z}<extra></extra>\", \"legendgroup\": \"Enigma, X11\", \"marker\": {\"color\": \"#19d3f3\", \"symbol\": \"x\"}, \"mode\": \"markers\", \"name\": \"Enigma, X11\", \"scene\": \"scene\", \"showlegend\": true, \"type\": \"scatter3d\", \"x\": [-0.36863269472697746], \"y\": [1.2094712827823828], \"z\": [-0.5648103340762499]}, {\"hovertemplate\": \"CoinName=Cannabis Industry Coin<br>Algorithm=CryptoNight<br>0=%{x}<br>1=%{y}<br>2=%{z}<extra></extra>\", \"legendgroup\": \"Cannabis Industry Coin, CryptoNight\", \"marker\": {\"color\": \"#FF6692\", \"symbol\": \"diamond\"}, \"mode\": \"markers\", \"name\": \"Cannabis Industry Coin, CryptoNight\", \"scene\": \"scene\", \"showlegend\": true, \"type\": \"scatter3d\", \"x\": [0.25018293005958], \"y\": [-2.2310727035335867], \"z\": [0.47346013539304116]}, {\"hovertemplate\": \"CoinName=Russiacoin<br>Algorithm=Scrypt<br>0=%{x}<br>1=%{y}<br>2=%{z}<extra></extra>\", \"legendgroup\": \"Russiacoin, Scrypt\", \"marker\": {\"color\": \"#B6E880\", \"symbol\": \"circle\"}, \"mode\": \"markers\", \"name\": \"Russiacoin, Scrypt\", \"scene\": \"scene\", \"showlegend\": true, \"type\": \"scatter3d\", \"x\": [-0.31607133976986906], \"y\": [0.9659460476207706], \"z\": [-0.6071361144255947]}, {\"hovertemplate\": \"CoinName=PandaCoin<br>Algorithm=Scrypt<br>0=%{x}<br>1=%{y}<br>2=%{z}<extra></extra>\", \"legendgroup\": \"PandaCoin, Scrypt\", \"marker\": {\"color\": \"#FF97FF\", \"symbol\": \"circle\"}, \"mode\": \"markers\", \"name\": \"PandaCoin, Scrypt\", \"scene\": \"scene\", \"showlegend\": true, \"type\": \"scatter3d\", \"x\": [0.3470052115622563], \"y\": [0.8745006542018463], \"z\": [-0.32926003242461604]}, {\"hovertemplate\": \"CoinName=GameUnits<br>Algorithm=Scrypt<br>0=%{x}<br>1=%{y}<br>2=%{z}<extra></extra>\", \"legendgroup\": \"GameUnits, Scrypt\", \"marker\": {\"color\": \"#FECB52\", \"symbol\": \"circle\"}, \"mode\": \"markers\", \"name\": \"GameUnits, Scrypt\", \"scene\": \"scene\", \"showlegend\": true, \"type\": \"scatter3d\", \"x\": [-0.31701954729823656], \"y\": [0.9660150205030041], \"z\": [-0.6071305484863418]}, {\"hovertemplate\": \"CoinName=GAKHcoin<br>Algorithm=Scrypt<br>0=%{x}<br>1=%{y}<br>2=%{z}<extra></extra>\", \"legendgroup\": \"GAKHcoin, Scrypt\", \"marker\": {\"color\": \"#636efa\", \"symbol\": \"circle\"}, \"mode\": \"markers\", \"name\": \"GAKHcoin, Scrypt\", \"scene\": \"scene\", \"showlegend\": true, \"type\": \"scatter3d\", \"x\": [-0.31708719714086037], \"y\": [0.9660201849081497], \"z\": [-0.6071301962769388]}, {\"hovertemplate\": \"CoinName=Allsafe<br>Algorithm=Quark<br>0=%{x}<br>1=%{y}<br>2=%{z}<extra></extra>\", \"legendgroup\": \"Allsafe, Quark\", \"marker\": {\"color\": \"#EF553B\", \"symbol\": \"cross\"}, \"mode\": \"markers\", \"name\": \"Allsafe, Quark\", \"scene\": \"scene\", \"showlegend\": true, \"type\": \"scatter3d\", \"x\": [-0.32906243734156254], \"y\": [1.6623654193345743], \"z\": [-0.31219324173464197]}, {\"hovertemplate\": \"CoinName=LiteCreed<br>Algorithm=QuBit<br>0=%{x}<br>1=%{y}<br>2=%{z}<extra></extra>\", \"legendgroup\": \"LiteCreed, QuBit\", \"marker\": {\"color\": \"#00cc96\", \"symbol\": \"cross\"}, \"mode\": \"markers\", \"name\": \"LiteCreed, QuBit\", \"scene\": \"scene\", \"showlegend\": true, \"type\": \"scatter3d\", \"x\": [-0.34560336077465326], \"y\": [0.9464099903896475], \"z\": [-0.48080695861771827]}, {\"hovertemplate\": \"CoinName=OsmiumCoin<br>Algorithm=Scrypt<br>0=%{x}<br>1=%{y}<br>2=%{z}<extra></extra>\", \"legendgroup\": \"OsmiumCoin, Scrypt\", \"marker\": {\"color\": \"#ab63fa\", \"symbol\": \"circle\"}, \"mode\": \"markers\", \"name\": \"OsmiumCoin, Scrypt\", \"scene\": \"scene\", \"showlegend\": true, \"type\": \"scatter3d\", \"x\": [-0.18440289176495636], \"y\": [-1.147390177445192], \"z\": [0.023115226559049462]}, {\"hovertemplate\": \"CoinName=Bikercoins<br>Algorithm=CryptoNight<br>0=%{x}<br>1=%{y}<br>2=%{z}<extra></extra>\", \"legendgroup\": \"Bikercoins, CryptoNight\", \"marker\": {\"color\": \"#FFA15A\", \"symbol\": \"diamond\"}, \"mode\": \"markers\", \"name\": \"Bikercoins, CryptoNight\", \"scene\": \"scene\", \"showlegend\": true, \"type\": \"scatter3d\", \"x\": [0.2503099056414231], \"y\": [-2.2310721827523303], \"z\": [0.4734575914878884]}, {\"hovertemplate\": \"CoinName=HexxCoin<br>Algorithm=Lyra2RE<br>0=%{x}<br>1=%{y}<br>2=%{z}<extra></extra>\", \"legendgroup\": \"HexxCoin, Lyra2RE\", \"marker\": {\"color\": \"#19d3f3\", \"symbol\": \"diamond\"}, \"mode\": \"markers\", \"name\": \"HexxCoin, Lyra2RE\", \"scene\": \"scene\", \"showlegend\": true, \"type\": \"scatter3d\", \"x\": [-0.17700014402951125], \"y\": [-2.132573192441954], \"z\": [0.46595014026456916]}, {\"hovertemplate\": \"CoinName=Klingon Empire Darsek<br>Algorithm=Scrypt<br>0=%{x}<br>1=%{y}<br>2=%{z}<extra></extra>\", \"legendgroup\": \"Klingon Empire Darsek, Scrypt\", \"marker\": {\"color\": \"#FF6692\", \"symbol\": \"circle\"}, \"mode\": \"markers\", \"name\": \"Klingon Empire Darsek, Scrypt\", \"scene\": \"scene\", \"showlegend\": true, \"type\": \"scatter3d\", \"x\": [-0.3134676329830064], \"y\": [0.9657593306948], \"z\": [-0.607151891623911]}, {\"hovertemplate\": \"CoinName=Internet of People<br>Algorithm=SHA-256<br>0=%{x}<br>1=%{y}<br>2=%{z}<extra></extra>\", \"legendgroup\": \"Internet of People, SHA-256\", \"marker\": {\"color\": \"#B6E880\", \"symbol\": \"square\"}, \"mode\": \"markers\", \"name\": \"Internet of People, SHA-256\", \"scene\": \"scene\", \"showlegend\": true, \"type\": \"scatter3d\", \"x\": [-0.2895092549421898], \"y\": [0.8704282839203811], \"z\": [-0.42602083960947845]}, {\"hovertemplate\": \"CoinName=KushCoin<br>Algorithm=X11<br>0=%{x}<br>1=%{y}<br>2=%{z}<extra></extra>\", \"legendgroup\": \"KushCoin, X11\", \"marker\": {\"color\": \"#FF97FF\", \"symbol\": \"x\"}, \"mode\": \"markers\", \"name\": \"KushCoin, X11\", \"scene\": \"scene\", \"showlegend\": true, \"type\": \"scatter3d\", \"x\": [-0.3685454164631354], \"y\": [1.2094704846997737], \"z\": [-0.5648118695609398]}, {\"hovertemplate\": \"CoinName=Printerium<br>Algorithm=Scrypt<br>0=%{x}<br>1=%{y}<br>2=%{z}<extra></extra>\", \"legendgroup\": \"Printerium, Scrypt\", \"marker\": {\"color\": \"#FECB52\", \"symbol\": \"circle\"}, \"mode\": \"markers\", \"name\": \"Printerium, Scrypt\", \"scene\": \"scene\", \"showlegend\": true, \"type\": \"scatter3d\", \"x\": [-0.3168725547263808], \"y\": [0.9660139162578084], \"z\": [-0.6071331787405021]}, {\"hovertemplate\": \"CoinName=PacCoin<br>Algorithm=X11<br>0=%{x}<br>1=%{y}<br>2=%{z}<extra></extra>\", \"legendgroup\": \"PacCoin, X11\", \"marker\": {\"color\": \"#636efa\", \"symbol\": \"x\"}, \"mode\": \"markers\", \"name\": \"PacCoin, X11\", \"scene\": \"scene\", \"showlegend\": true, \"type\": \"scatter3d\", \"x\": [0.4496604172757784], \"y\": [-0.9576110218748389], \"z\": [0.06211117163154207]}, {\"hovertemplate\": \"CoinName=Impeach<br>Algorithm=Scrypt<br>0=%{x}<br>1=%{y}<br>2=%{z}<extra></extra>\", \"legendgroup\": \"Impeach, Scrypt\", \"marker\": {\"color\": \"#EF553B\", \"symbol\": \"circle\"}, \"mode\": \"markers\", \"name\": \"Impeach, Scrypt\", \"scene\": \"scene\", \"showlegend\": true, \"type\": \"scatter3d\", \"x\": [-0.3169965679188251], \"y\": [0.9660092000070798], \"z\": [-0.6071299185726872]}, {\"hovertemplate\": \"CoinName=Citadel<br>Algorithm=CryptoNight-V7<br>0=%{x}<br>1=%{y}<br>2=%{z}<extra></extra>\", \"legendgroup\": \"Citadel, CryptoNight-V7\", \"marker\": {\"color\": \"#00cc96\", \"symbol\": \"circle\"}, \"mode\": \"markers\", \"name\": \"Citadel, CryptoNight-V7\", \"scene\": \"scene\", \"showlegend\": true, \"type\": \"scatter3d\", \"x\": [-0.17205403834673122], \"y\": [-2.1329868562860548], \"z\": [0.46588260049370445]}, {\"hovertemplate\": \"CoinName=Zilbercoin<br>Algorithm=Scrypt<br>0=%{x}<br>1=%{y}<br>2=%{z}<extra></extra>\", \"legendgroup\": \"Zilbercoin, Scrypt\", \"marker\": {\"color\": \"#ab63fa\", \"symbol\": \"circle\"}, \"mode\": \"markers\", \"name\": \"Zilbercoin, Scrypt\", \"scene\": \"scene\", \"showlegend\": true, \"type\": \"scatter3d\", \"x\": [-0.27620405601326453], \"y\": [0.881186583669467], \"z\": [-0.3184779062975915]}, {\"hovertemplate\": \"CoinName=FirstCoin<br>Algorithm=Scrypt<br>0=%{x}<br>1=%{y}<br>2=%{z}<extra></extra>\", \"legendgroup\": \"FirstCoin, Scrypt\", \"marker\": {\"color\": \"#FFA15A\", \"symbol\": \"circle\"}, \"mode\": \"markers\", \"name\": \"FirstCoin, Scrypt\", \"scene\": \"scene\", \"showlegend\": true, \"type\": \"scatter3d\", \"x\": [-0.279411201600707], \"y\": [0.26688593180022785], \"z\": [-0.34217682475122635]}, {\"hovertemplate\": \"CoinName=BeaverCoin<br>Algorithm=Scrypt<br>0=%{x}<br>1=%{y}<br>2=%{z}<extra></extra>\", \"legendgroup\": \"BeaverCoin, Scrypt\", \"marker\": {\"color\": \"#19d3f3\", \"symbol\": \"circle\"}, \"mode\": \"markers\", \"name\": \"BeaverCoin, Scrypt\", \"scene\": \"scene\", \"showlegend\": true, \"type\": \"scatter3d\", \"x\": [-0.18437204748900915], \"y\": [-1.147389816101523], \"z\": [0.0231145653173234]}, {\"hovertemplate\": \"CoinName=FindCoin<br>Algorithm=X13<br>0=%{x}<br>1=%{y}<br>2=%{z}<extra></extra>\", \"legendgroup\": \"FindCoin, X13\", \"marker\": {\"color\": \"#FF6692\", \"symbol\": \"diamond\"}, \"mode\": \"markers\", \"name\": \"FindCoin, X13\", \"scene\": \"scene\", \"showlegend\": true, \"type\": \"scatter3d\", \"x\": [-0.18598902477108134], \"y\": [1.6879239132775417], \"z\": [-0.3966039800641339]}, {\"hovertemplate\": \"CoinName=VaultCoin<br>Algorithm=X11<br>0=%{x}<br>1=%{y}<br>2=%{z}<extra></extra>\", \"legendgroup\": \"VaultCoin, X11\", \"marker\": {\"color\": \"#B6E880\", \"symbol\": \"x\"}, \"mode\": \"markers\", \"name\": \"VaultCoin, X11\", \"scene\": \"scene\", \"showlegend\": true, \"type\": \"scatter3d\", \"x\": [-0.22880494918054986], \"y\": [-0.9044649611532483], \"z\": [0.0653943120557744]}, {\"hovertemplate\": \"CoinName=Zero<br>Algorithm=Equihash<br>0=%{x}<br>1=%{y}<br>2=%{z}<extra></extra>\", \"legendgroup\": \"Zero, Equihash\", \"marker\": {\"color\": \"#FF97FF\", \"symbol\": \"circle\"}, \"mode\": \"markers\", \"name\": \"Zero, Equihash\", \"scene\": \"scene\", \"showlegend\": true, \"type\": \"scatter3d\", \"x\": [-0.17227512617684065], \"y\": [-1.952850907059907], \"z\": [0.44891976684623813]}, {\"hovertemplate\": \"CoinName=OpenChat<br>Algorithm=Scrypt<br>0=%{x}<br>1=%{y}<br>2=%{z}<extra></extra>\", \"legendgroup\": \"OpenChat, Scrypt\", \"marker\": {\"color\": \"#FECB52\", \"symbol\": \"circle\"}, \"mode\": \"markers\", \"name\": \"OpenChat, Scrypt\", \"scene\": \"scene\", \"showlegend\": true, \"type\": \"scatter3d\", \"x\": [-0.29844537866026144], \"y\": [0.9658016581666201], \"z\": [-0.6074493015502711]}, {\"hovertemplate\": \"CoinName=Canada eCoin<br>Algorithm=Scrypt<br>0=%{x}<br>1=%{y}<br>2=%{z}<extra></extra>\", \"legendgroup\": \"Canada eCoin, Scrypt\", \"marker\": {\"color\": \"#636efa\", \"symbol\": \"circle\"}, \"mode\": \"markers\", \"name\": \"Canada eCoin, Scrypt\", \"scene\": \"scene\", \"showlegend\": true, \"type\": \"scatter3d\", \"x\": [-0.18256345872224644], \"y\": [-1.1474109766446836], \"z\": [0.023083598960516222]}, {\"hovertemplate\": \"CoinName=Zoin<br>Algorithm=Lyra2RE<br>0=%{x}<br>1=%{y}<br>2=%{z}<extra></extra>\", \"legendgroup\": \"Zoin, Lyra2RE\", \"marker\": {\"color\": \"#EF553B\", \"symbol\": \"diamond\"}, \"mode\": \"markers\", \"name\": \"Zoin, Lyra2RE\", \"scene\": \"scene\", \"showlegend\": true, \"type\": \"scatter3d\", \"x\": [-0.1767268676585883], \"y\": [-2.1325737944450935], \"z\": [0.46594498285926356]}, {\"hovertemplate\": \"CoinName=RenosCoin<br>Algorithm=Scrypt<br>0=%{x}<br>1=%{y}<br>2=%{z}<extra></extra>\", \"legendgroup\": \"RenosCoin, Scrypt\", \"marker\": {\"color\": \"#00cc96\", \"symbol\": \"circle\"}, \"mode\": \"markers\", \"name\": \"RenosCoin, Scrypt\", \"scene\": \"scene\", \"showlegend\": true, \"type\": \"scatter3d\", \"x\": [-0.27594919186587985], \"y\": [0.8812082364283608], \"z\": [-0.31848681108071397]}, {\"hovertemplate\": \"CoinName=VirtacoinPlus<br>Algorithm=X11<br>0=%{x}<br>1=%{y}<br>2=%{z}<extra></extra>\", \"legendgroup\": \"VirtacoinPlus, X11\", \"marker\": {\"color\": \"#ab63fa\", \"symbol\": \"x\"}, \"mode\": \"markers\", \"name\": \"VirtacoinPlus, X11\", \"scene\": \"scene\", \"showlegend\": true, \"type\": \"scatter3d\", \"x\": [-0.3678403472474712], \"y\": [1.2094240704736055], \"z\": [-0.5648169065003315]}, {\"hovertemplate\": \"CoinName=TajCoin<br>Algorithm=Blake2S<br>0=%{x}<br>1=%{y}<br>2=%{z}<extra></extra>\", \"legendgroup\": \"TajCoin, Blake2S\", \"marker\": {\"color\": \"#FFA15A\", \"symbol\": \"square\"}, \"mode\": \"markers\", \"name\": \"TajCoin, Blake2S\", \"scene\": \"scene\", \"showlegend\": true, \"type\": \"scatter3d\", \"x\": [-0.38333050293895315], \"y\": [1.9007612187454492], \"z\": [-0.7938078573101788]}, {\"hovertemplate\": \"CoinName=Impact<br>Algorithm=X11<br>0=%{x}<br>1=%{y}<br>2=%{z}<extra></extra>\", \"legendgroup\": \"Impact, X11\", \"marker\": {\"color\": \"#19d3f3\", \"symbol\": \"x\"}, \"mode\": \"markers\", \"name\": \"Impact, X11\", \"scene\": \"scene\", \"showlegend\": true, \"type\": \"scatter3d\", \"x\": [-0.36661142898585014], \"y\": [1.2094497983577952], \"z\": [-0.5648453408367323]}, {\"hovertemplate\": \"CoinName=EB3coin<br>Algorithm=Scrypt<br>0=%{x}<br>1=%{y}<br>2=%{z}<extra></extra>\", \"legendgroup\": \"EB3coin, Scrypt\", \"marker\": {\"color\": \"#FF6692\", \"symbol\": \"circle\"}, \"mode\": \"markers\", \"name\": \"EB3coin, Scrypt\", \"scene\": \"scene\", \"showlegend\": true, \"type\": \"scatter3d\", \"x\": [-0.1564995614548819], \"y\": [-1.1495223905955274], \"z\": [0.02297033267222566]}, {\"hovertemplate\": \"CoinName=Atmos<br>Algorithm=PoS<br>0=%{x}<br>1=%{y}<br>2=%{z}<extra></extra>\", \"legendgroup\": \"Atmos, PoS\", \"marker\": {\"color\": \"#B6E880\", \"symbol\": \"square\"}, \"mode\": \"markers\", \"name\": \"Atmos, PoS\", \"scene\": \"scene\", \"showlegend\": true, \"type\": \"scatter3d\", \"x\": [-0.32366754112685614], \"y\": [1.8027731419318038], \"z\": [-0.22030218151877617]}, {\"hovertemplate\": \"CoinName=HappyCoin<br>Algorithm=X11<br>0=%{x}<br>1=%{y}<br>2=%{z}<extra></extra>\", \"legendgroup\": \"HappyCoin, X11\", \"marker\": {\"color\": \"#FF97FF\", \"symbol\": \"x\"}, \"mode\": \"markers\", \"name\": \"HappyCoin, X11\", \"scene\": \"scene\", \"showlegend\": true, \"type\": \"scatter3d\", \"x\": [-0.3677407832347604], \"y\": [1.209426738601878], \"z\": [-0.5648193177817522]}, {\"hovertemplate\": \"CoinName=Coinonat<br>Algorithm=NIST5<br>0=%{x}<br>1=%{y}<br>2=%{z}<extra></extra>\", \"legendgroup\": \"Coinonat, NIST5\", \"marker\": {\"color\": \"#FECB52\", \"symbol\": \"x\"}, \"mode\": \"markers\", \"name\": \"Coinonat, NIST5\", \"scene\": \"scene\", \"showlegend\": true, \"type\": \"scatter3d\", \"x\": [-0.19877944221354768], \"y\": [-0.631132253908372], \"z\": [-0.0009425693171069935]}, {\"hovertemplate\": \"CoinName=MacronCoin<br>Algorithm=PoS<br>0=%{x}<br>1=%{y}<br>2=%{z}<extra></extra>\", \"legendgroup\": \"MacronCoin, PoS\", \"marker\": {\"color\": \"#636efa\", \"symbol\": \"square\"}, \"mode\": \"markers\", \"name\": \"MacronCoin, PoS\", \"scene\": \"scene\", \"showlegend\": true, \"type\": \"scatter3d\", \"x\": [-0.31824199697911304], \"y\": [1.8027098056717554], \"z\": [-0.22039510310313914]}, {\"hovertemplate\": \"CoinName=Condensate<br>Algorithm=X11<br>0=%{x}<br>1=%{y}<br>2=%{z}<extra></extra>\", \"legendgroup\": \"Condensate, X11\", \"marker\": {\"color\": \"#EF553B\", \"symbol\": \"x\"}, \"mode\": \"markers\", \"name\": \"Condensate, X11\", \"scene\": \"scene\", \"showlegend\": true, \"type\": \"scatter3d\", \"x\": [-0.3638310131102888], \"y\": [1.2092433205361781], \"z\": [-0.5648608821010307]}, {\"hovertemplate\": \"CoinName=Independent Money System<br>Algorithm=Scrypt<br>0=%{x}<br>1=%{y}<br>2=%{z}<extra></extra>\", \"legendgroup\": \"Independent Money System, Scrypt\", \"marker\": {\"color\": \"#00cc96\", \"symbol\": \"circle\"}, \"mode\": \"markers\", \"name\": \"Independent Money System, Scrypt\", \"scene\": \"scene\", \"showlegend\": true, \"type\": \"scatter3d\", \"x\": [-0.316941184847471], \"y\": [0.9660112037890395], \"z\": [-0.6071313556465422]}, {\"hovertemplate\": \"CoinName=ArgusCoin<br>Algorithm=Scrypt<br>0=%{x}<br>1=%{y}<br>2=%{z}<extra></extra>\", \"legendgroup\": \"ArgusCoin, Scrypt\", \"marker\": {\"color\": \"#ab63fa\", \"symbol\": \"circle\"}, \"mode\": \"markers\", \"name\": \"ArgusCoin, Scrypt\", \"scene\": \"scene\", \"showlegend\": true, \"type\": \"scatter3d\", \"x\": [-0.31694127889373097], \"y\": [0.9660058784395329], \"z\": [-0.6071303721833763]}, {\"hovertemplate\": \"CoinName=LomoCoin<br>Algorithm=Scrypt<br>0=%{x}<br>1=%{y}<br>2=%{z}<extra></extra>\", \"legendgroup\": \"LomoCoin, Scrypt\", \"marker\": {\"color\": \"#FFA15A\", \"symbol\": \"circle\"}, \"mode\": \"markers\", \"name\": \"LomoCoin, Scrypt\", \"scene\": \"scene\", \"showlegend\": true, \"type\": \"scatter3d\", \"x\": [-0.31035102710146906], \"y\": [0.9654826091814173], \"z\": [-0.6071609657539458]}, {\"hovertemplate\": \"CoinName=ProCurrency<br>Algorithm=SHA-256<br>0=%{x}<br>1=%{y}<br>2=%{z}<extra></extra>\", \"legendgroup\": \"ProCurrency, SHA-256\", \"marker\": {\"color\": \"#19d3f3\", \"symbol\": \"square\"}, \"mode\": \"markers\", \"name\": \"ProCurrency, SHA-256\", \"scene\": \"scene\", \"showlegend\": true, \"type\": \"scatter3d\", \"x\": [0.26146986890078916], \"y\": [0.7452805598530472], \"z\": [-0.13977114984744612]}, {\"hovertemplate\": \"CoinName=GoldReserve<br>Algorithm=X11<br>0=%{x}<br>1=%{y}<br>2=%{z}<extra></extra>\", \"legendgroup\": \"GoldReserve, X11\", \"marker\": {\"color\": \"#FF6692\", \"symbol\": \"x\"}, \"mode\": \"markers\", \"name\": \"GoldReserve, X11\", \"scene\": \"scene\", \"showlegend\": true, \"type\": \"scatter3d\", \"x\": [-0.3682001319313872], \"y\": [1.2094576578034737], \"z\": [-0.5648161617003318]}, {\"hovertemplate\": \"CoinName=BenjiRolls<br>Algorithm=Scrypt<br>0=%{x}<br>1=%{y}<br>2=%{z}<extra></extra>\", \"legendgroup\": \"BenjiRolls, Scrypt\", \"marker\": {\"color\": \"#B6E880\", \"symbol\": \"circle\"}, \"mode\": \"markers\", \"name\": \"BenjiRolls, Scrypt\", \"scene\": \"scene\", \"showlegend\": true, \"type\": \"scatter3d\", \"x\": [-0.18394919343594376], \"y\": [-1.1474016553775495], \"z\": [0.02310859569570616]}, {\"hovertemplate\": \"CoinName=GrowthCoin<br>Algorithm=Scrypt<br>0=%{x}<br>1=%{y}<br>2=%{z}<extra></extra>\", \"legendgroup\": \"GrowthCoin, Scrypt\", \"marker\": {\"color\": \"#FF97FF\", \"symbol\": \"circle\"}, \"mode\": \"markers\", \"name\": \"GrowthCoin, Scrypt\", \"scene\": \"scene\", \"showlegend\": true, \"type\": \"scatter3d\", \"x\": [-0.2595124405074794], \"y\": [0.8802325512897368], \"z\": [-0.31862383478112677]}, {\"hovertemplate\": \"CoinName=ILCoin<br>Algorithm=SHA-256<br>0=%{x}<br>1=%{y}<br>2=%{z}<extra></extra>\", \"legendgroup\": \"ILCoin, SHA-256\", \"marker\": {\"color\": \"#FECB52\", \"symbol\": \"square\"}, \"mode\": \"markers\", \"name\": \"ILCoin, SHA-256\", \"scene\": \"scene\", \"showlegend\": true, \"type\": \"scatter3d\", \"x\": [-0.12428767621559804], \"y\": [-1.2438966474137618], \"z\": [0.20376589872970655]}, {\"hovertemplate\": \"CoinName=Phreak<br>Algorithm=PoS<br>0=%{x}<br>1=%{y}<br>2=%{z}<extra></extra>\", \"legendgroup\": \"Phreak, PoS\", \"marker\": {\"color\": \"#636efa\", \"symbol\": \"square\"}, \"mode\": \"markers\", \"name\": \"Phreak, PoS\", \"scene\": \"scene\", \"showlegend\": true, \"type\": \"scatter3d\", \"x\": [-0.3254010198971861], \"y\": [1.8027845354326777], \"z\": [-0.22027086276375493]}, {\"hovertemplate\": \"CoinName=Degas Coin<br>Algorithm=Scrypt<br>0=%{x}<br>1=%{y}<br>2=%{z}<extra></extra>\", \"legendgroup\": \"Degas Coin, Scrypt\", \"marker\": {\"color\": \"#EF553B\", \"symbol\": \"circle\"}, \"mode\": \"markers\", \"name\": \"Degas Coin, Scrypt\", \"scene\": \"scene\", \"showlegend\": true, \"type\": \"scatter3d\", \"x\": [-0.3161816135898365], \"y\": [0.9659711912635535], \"z\": [-0.6071386233666325]}, {\"hovertemplate\": \"CoinName=HTML5 Coin<br>Algorithm=X15<br>0=%{x}<br>1=%{y}<br>2=%{z}<extra></extra>\", \"legendgroup\": \"HTML5 Coin, X15\", \"marker\": {\"color\": \"#00cc96\", \"symbol\": \"x\"}, \"mode\": \"markers\", \"name\": \"HTML5 Coin, X15\", \"scene\": \"scene\", \"showlegend\": true, \"type\": \"scatter3d\", \"x\": [0.8720133754266101], \"y\": [1.8482892177376435], \"z\": [-0.744257294193125]}, {\"hovertemplate\": \"CoinName=Ultimate Secure Cash<br>Algorithm=SHA-256<br>0=%{x}<br>1=%{y}<br>2=%{z}<extra></extra>\", \"legendgroup\": \"Ultimate Secure Cash, SHA-256\", \"marker\": {\"color\": \"#ab63fa\", \"symbol\": \"square\"}, \"mode\": \"markers\", \"name\": \"Ultimate Secure Cash, SHA-256\", \"scene\": \"scene\", \"showlegend\": true, \"type\": \"scatter3d\", \"x\": [-0.24766298673840334], \"y\": [0.7855287033561714], \"z\": [-0.13737495501510807]}, {\"hovertemplate\": \"CoinName=EquiTrader<br>Algorithm=Scrypt<br>0=%{x}<br>1=%{y}<br>2=%{z}<extra></extra>\", \"legendgroup\": \"EquiTrader, Scrypt\", \"marker\": {\"color\": \"#FFA15A\", \"symbol\": \"circle\"}, \"mode\": \"markers\", \"name\": \"EquiTrader, Scrypt\", \"scene\": \"scene\", \"showlegend\": true, \"type\": \"scatter3d\", \"x\": [-0.183780064184276], \"y\": [-1.147423405904197], \"z\": [0.023109344517389715]}, {\"hovertemplate\": \"CoinName=QTUM<br>Algorithm=POS 3.0<br>0=%{x}<br>1=%{y}<br>2=%{z}<extra></extra>\", \"legendgroup\": \"QTUM, POS 3.0\", \"marker\": {\"color\": \"#19d3f3\", \"symbol\": \"cross\"}, \"mode\": \"markers\", \"name\": \"QTUM, POS 3.0\", \"scene\": \"scene\", \"showlegend\": true, \"type\": \"scatter3d\", \"x\": [-0.3189384711627947], \"y\": [1.7457634025986006], \"z\": [-0.21904997941614593]}, {\"hovertemplate\": \"CoinName=Quantum Resistant Ledger<br>Algorithm=CryptoNight-V7<br>0=%{x}<br>1=%{y}<br>2=%{z}<extra></extra>\", \"legendgroup\": \"Quantum Resistant Ledger, CryptoNight-V7\", \"marker\": {\"color\": \"#FF6692\", \"symbol\": \"circle\"}, \"mode\": \"markers\", \"name\": \"Quantum Resistant Ledger, CryptoNight-V7\", \"scene\": \"scene\", \"showlegend\": true, \"type\": \"scatter3d\", \"x\": [-0.171905749393729], \"y\": [-2.1329252439107766], \"z\": [0.46586838435788974]}, {\"hovertemplate\": \"CoinName=Espers<br>Algorithm=536<br>0=%{x}<br>1=%{y}<br>2=%{z}<extra></extra>\", \"legendgroup\": \"Espers, 536\", \"marker\": {\"color\": \"#B6E880\", \"symbol\": \"x\"}, \"mode\": \"markers\", \"name\": \"Espers, 536\", \"scene\": \"scene\", \"showlegend\": true, \"type\": \"scatter3d\", \"x\": [0.5706601587484892], \"y\": [1.8634097813083907], \"z\": [-0.8100769289147332]}, {\"hovertemplate\": \"CoinName=Nano<br>Algorithm=Blake2b<br>0=%{x}<br>1=%{y}<br>2=%{z}<extra></extra>\", \"legendgroup\": \"Nano, Blake2b\", \"marker\": {\"color\": \"#FF97FF\", \"symbol\": \"cross\"}, \"mode\": \"markers\", \"name\": \"Nano, Blake2b\", \"scene\": \"scene\", \"showlegend\": true, \"type\": \"scatter3d\", \"x\": [-0.17058050561283064], \"y\": [-2.1211067786410207], \"z\": [0.46303723439278427]}, {\"hovertemplate\": \"CoinName=ChanCoin<br>Algorithm=Cloverhash<br>0=%{x}<br>1=%{y}<br>2=%{z}<extra></extra>\", \"legendgroup\": \"ChanCoin, Cloverhash\", \"marker\": {\"color\": \"#FECB52\", \"symbol\": \"circle\"}, \"mode\": \"markers\", \"name\": \"ChanCoin, Cloverhash\", \"scene\": \"scene\", \"showlegend\": true, \"type\": \"scatter3d\", \"x\": [-0.17600850768285606], \"y\": [-2.1208586064858657], \"z\": [0.4631229144599863]}, {\"hovertemplate\": \"CoinName=Dinastycoin<br>Algorithm=CryptoNight<br>0=%{x}<br>1=%{y}<br>2=%{z}<extra></extra>\", \"legendgroup\": \"Dinastycoin, CryptoNight\", \"marker\": {\"color\": \"#636efa\", \"symbol\": \"diamond\"}, \"mode\": \"markers\", \"name\": \"Dinastycoin, CryptoNight\", \"scene\": \"scene\", \"showlegend\": true, \"type\": \"scatter3d\", \"x\": [0.2851667628306044], \"y\": [-2.231561035262817], \"z\": [0.4728757141592607]}, {\"hovertemplate\": \"CoinName=Denarius<br>Algorithm=NIST5<br>0=%{x}<br>1=%{y}<br>2=%{z}<extra></extra>\", \"legendgroup\": \"Denarius, NIST5\", \"marker\": {\"color\": \"#EF553B\", \"symbol\": \"x\"}, \"mode\": \"markers\", \"name\": \"Denarius, NIST5\", \"scene\": \"scene\", \"showlegend\": true, \"type\": \"scatter3d\", \"x\": [-0.33182739238706577], \"y\": [1.48229635667375], \"z\": [-0.6311843453973024]}, {\"hovertemplate\": \"CoinName=DigitalPrice<br>Algorithm=X11<br>0=%{x}<br>1=%{y}<br>2=%{z}<extra></extra>\", \"legendgroup\": \"DigitalPrice, X11\", \"marker\": {\"color\": \"#00cc96\", \"symbol\": \"x\"}, \"mode\": \"markers\", \"name\": \"DigitalPrice, X11\", \"scene\": \"scene\", \"showlegend\": true, \"type\": \"scatter3d\", \"x\": [-0.23486133713523616], \"y\": [-0.9039788277188154], \"z\": [0.06542145894319734]}, {\"hovertemplate\": \"CoinName=Virta Unique Coin<br>Algorithm=NIST5<br>0=%{x}<br>1=%{y}<br>2=%{z}<extra></extra>\", \"legendgroup\": \"Virta Unique Coin, NIST5\", \"marker\": {\"color\": \"#ab63fa\", \"symbol\": \"x\"}, \"mode\": \"markers\", \"name\": \"Virta Unique Coin, NIST5\", \"scene\": \"scene\", \"showlegend\": true, \"type\": \"scatter3d\", \"x\": [-0.3303801936075746], \"y\": [1.4822558859274482], \"z\": [-0.6312047851216634]}, {\"hovertemplate\": \"CoinName=Bitcoin Planet<br>Algorithm=Skein<br>0=%{x}<br>1=%{y}<br>2=%{z}<extra></extra>\", \"legendgroup\": \"Bitcoin Planet, Skein\", \"marker\": {\"color\": \"#FFA15A\", \"symbol\": \"diamond\"}, \"mode\": \"markers\", \"name\": \"Bitcoin Planet, Skein\", \"scene\": \"scene\", \"showlegend\": true, \"type\": \"scatter3d\", \"x\": [-0.3830600936763413], \"y\": [1.9041724772024489], \"z\": [-0.7954124026909779]}, {\"hovertemplate\": \"CoinName=Unify<br>Algorithm=Scrypt<br>0=%{x}<br>1=%{y}<br>2=%{z}<extra></extra>\", \"legendgroup\": \"Unify, Scrypt\", \"marker\": {\"color\": \"#19d3f3\", \"symbol\": \"circle\"}, \"mode\": \"markers\", \"name\": \"Unify, Scrypt\", \"scene\": \"scene\", \"showlegend\": true, \"type\": \"scatter3d\", \"x\": [-0.1840850491652347], \"y\": [-1.147393592844253], \"z\": [0.02310972858917224]}, {\"hovertemplate\": \"CoinName=BritCoin<br>Algorithm=X13<br>0=%{x}<br>1=%{y}<br>2=%{z}<extra></extra>\", \"legendgroup\": \"BritCoin, X13\", \"marker\": {\"color\": \"#FF6692\", \"symbol\": \"diamond\"}, \"mode\": \"markers\", \"name\": \"BritCoin, X13\", \"scene\": \"scene\", \"showlegend\": true, \"type\": \"scatter3d\", \"x\": [-0.22634036446666086], \"y\": [1.772723378726451], \"z\": [-0.68526022997867]}, {\"hovertemplate\": \"CoinName=SocialCoin<br>Algorithm=Scrypt<br>0=%{x}<br>1=%{y}<br>2=%{z}<extra></extra>\", \"legendgroup\": \"SocialCoin, Scrypt\", \"marker\": {\"color\": \"#B6E880\", \"symbol\": \"circle\"}, \"mode\": \"markers\", \"name\": \"SocialCoin, Scrypt\", \"scene\": \"scene\", \"showlegend\": true, \"type\": \"scatter3d\", \"x\": [-0.18386100320310245], \"y\": [-1.1474277363618], \"z\": [0.02311170316172624]}, {\"hovertemplate\": \"CoinName=ArcticCoin<br>Algorithm=X11<br>0=%{x}<br>1=%{y}<br>2=%{z}<extra></extra>\", \"legendgroup\": \"ArcticCoin, X11\", \"marker\": {\"color\": \"#FF97FF\", \"symbol\": \"x\"}, \"mode\": \"markers\", \"name\": \"ArcticCoin, X11\", \"scene\": \"scene\", \"showlegend\": true, \"type\": \"scatter3d\", \"x\": [-0.23524138164947195], \"y\": [-0.9039601929418564], \"z\": [0.06542535060747394]}, {\"hovertemplate\": \"CoinName=DAS<br>Algorithm=X11<br>0=%{x}<br>1=%{y}<br>2=%{z}<extra></extra>\", \"legendgroup\": \"DAS, X11\", \"marker\": {\"color\": \"#FECB52\", \"symbol\": \"x\"}, \"mode\": \"markers\", \"name\": \"DAS, X11\", \"scene\": \"scene\", \"showlegend\": true, \"type\": \"scatter3d\", \"x\": [-0.23579950595137442], \"y\": [-0.9039455378387449], \"z\": [0.06543340898868562]}, {\"hovertemplate\": \"CoinName=Linda<br>Algorithm=Scrypt<br>0=%{x}<br>1=%{y}<br>2=%{z}<extra></extra>\", \"legendgroup\": \"Linda, Scrypt\", \"marker\": {\"color\": \"#636efa\", \"symbol\": \"circle\"}, \"mode\": \"markers\", \"name\": \"Linda, Scrypt\", \"scene\": \"scene\", \"showlegend\": true, \"type\": \"scatter3d\", \"x\": [0.1302020333104723], \"y\": [0.9419850150473698], \"z\": [-0.6113227588185995]}, {\"hovertemplate\": \"CoinName=LeviarCoin<br>Algorithm=CryptoNight<br>0=%{x}<br>1=%{y}<br>2=%{z}<extra></extra>\", \"legendgroup\": \"LeviarCoin, CryptoNight\", \"marker\": {\"color\": \"#EF553B\", \"symbol\": \"diamond\"}, \"mode\": \"markers\", \"name\": \"LeviarCoin, CryptoNight\", \"scene\": \"scene\", \"showlegend\": true, \"type\": \"scatter3d\", \"x\": [0.25056411223916614], \"y\": [-2.2310862644536074], \"z\": [0.47345528650508945]}, {\"hovertemplate\": \"CoinName=DeepOnion<br>Algorithm=X13<br>0=%{x}<br>1=%{y}<br>2=%{z}<extra></extra>\", \"legendgroup\": \"DeepOnion, X13\", \"marker\": {\"color\": \"#00cc96\", \"symbol\": \"diamond\"}, \"mode\": \"markers\", \"name\": \"DeepOnion, X13\", \"scene\": \"scene\", \"showlegend\": true, \"type\": \"scatter3d\", \"x\": [-0.22640804080403137], \"y\": [1.7727295637769818], \"z\": [-0.6852600653994968]}, {\"hovertemplate\": \"CoinName=Bitcore<br>Algorithm=Time Travel<br>0=%{x}<br>1=%{y}<br>2=%{z}<extra></extra>\", \"legendgroup\": \"Bitcore, Time Travel\", \"marker\": {\"color\": \"#ab63fa\", \"symbol\": \"square\"}, \"mode\": \"markers\", \"name\": \"Bitcore, Time Travel\", \"scene\": \"scene\", \"showlegend\": true, \"type\": \"scatter3d\", \"x\": [-0.1761152439727842], \"y\": [-2.12084975240523], \"z\": [0.46312383151718645]}, {\"hovertemplate\": \"CoinName=gCn Coin<br>Algorithm=Scrypt<br>0=%{x}<br>1=%{y}<br>2=%{z}<extra></extra>\", \"legendgroup\": \"gCn Coin, Scrypt\", \"marker\": {\"color\": \"#FFA15A\", \"symbol\": \"circle\"}, \"mode\": \"markers\", \"name\": \"gCn Coin, Scrypt\", \"scene\": \"scene\", \"showlegend\": true, \"type\": \"scatter3d\", \"x\": [3.116262256657285], \"y\": [-1.2030328796355945], \"z\": [-0.03025993853886857]}, {\"hovertemplate\": \"CoinName=SmartCash<br>Algorithm=Keccak<br>0=%{x}<br>1=%{y}<br>2=%{z}<extra></extra>\", \"legendgroup\": \"SmartCash, Keccak\", \"marker\": {\"color\": \"#19d3f3\", \"symbol\": \"x\"}, \"mode\": \"markers\", \"name\": \"SmartCash, Keccak\", \"scene\": \"scene\", \"showlegend\": true, \"type\": \"scatter3d\", \"x\": [-0.1358051736124705], \"y\": [-1.1698912721708914], \"z\": [0.1482448195604695]}, {\"hovertemplate\": \"CoinName=Signatum<br>Algorithm=SkunkHash v2 Raptor<br>0=%{x}<br>1=%{y}<br>2=%{z}<extra></extra>\", \"legendgroup\": \"Signatum, SkunkHash v2 Raptor\", \"marker\": {\"color\": \"#FF6692\", \"symbol\": \"cross\"}, \"mode\": \"markers\", \"name\": \"Signatum, SkunkHash v2 Raptor\", \"scene\": \"scene\", \"showlegend\": true, \"type\": \"scatter3d\", \"x\": [-0.3171704651913191], \"y\": [1.7393387395452076], \"z\": [-0.21819012265012436]}, {\"hovertemplate\": \"CoinName=Onix<br>Algorithm=X11<br>0=%{x}<br>1=%{y}<br>2=%{z}<extra></extra>\", \"legendgroup\": \"Onix, X11\", \"marker\": {\"color\": \"#B6E880\", \"symbol\": \"x\"}, \"mode\": \"markers\", \"name\": \"Onix, X11\", \"scene\": \"scene\", \"showlegend\": true, \"type\": \"scatter3d\", \"x\": [-0.2270287851525573], \"y\": [-0.9044894114358516], \"z\": [0.06536457721656382]}, {\"hovertemplate\": \"CoinName=Cream<br>Algorithm=Skein<br>0=%{x}<br>1=%{y}<br>2=%{z}<extra></extra>\", \"legendgroup\": \"Cream, Skein\", \"marker\": {\"color\": \"#FF97FF\", \"symbol\": \"diamond\"}, \"mode\": \"markers\", \"name\": \"Cream, Skein\", \"scene\": \"scene\", \"showlegend\": true, \"type\": \"scatter3d\", \"x\": [-0.38257734684437916], \"y\": [1.9041854139095584], \"z\": [-0.7954240940484799]}, {\"hovertemplate\": \"CoinName=Bitcoin Cash<br>Algorithm=SHA-256<br>0=%{x}<br>1=%{y}<br>2=%{z}<extra></extra>\", \"legendgroup\": \"Bitcoin Cash, SHA-256\", \"marker\": {\"color\": \"#FECB52\", \"symbol\": \"square\"}, \"mode\": \"markers\", \"name\": \"Bitcoin Cash, SHA-256\", \"scene\": \"scene\", \"showlegend\": true, \"type\": \"scatter3d\", \"x\": [-0.15660775024089185], \"y\": [-1.2429766912712745], \"z\": [0.20421940289135568]}, {\"hovertemplate\": \"CoinName=Monoeci<br>Algorithm=X11<br>0=%{x}<br>1=%{y}<br>2=%{z}<extra></extra>\", \"legendgroup\": \"Monoeci, X11\", \"marker\": {\"color\": \"#636efa\", \"symbol\": \"x\"}, \"mode\": \"markers\", \"name\": \"Monoeci, X11\", \"scene\": \"scene\", \"showlegend\": true, \"type\": \"scatter3d\", \"x\": [-0.3684620642532829], \"y\": [1.2094726079533213], \"z\": [-0.5648138678624306]}, {\"hovertemplate\": \"CoinName=Draftcoin<br>Algorithm=Scrypt<br>0=%{x}<br>1=%{y}<br>2=%{z}<extra></extra>\", \"legendgroup\": \"Draftcoin, Scrypt\", \"marker\": {\"color\": \"#EF553B\", \"symbol\": \"circle\"}, \"mode\": \"markers\", \"name\": \"Draftcoin, Scrypt\", \"scene\": \"scene\", \"showlegend\": true, \"type\": \"scatter3d\", \"x\": [-0.27627190713907546], \"y\": [0.8812118512422351], \"z\": [-0.3184812559318903]}, {\"hovertemplate\": \"CoinName=Vechain<br>Algorithm=VeChainThor Authority<br>0=%{x}<br>1=%{y}<br>2=%{z}<extra></extra>\", \"legendgroup\": \"Vechain, VeChainThor Authority\", \"marker\": {\"color\": \"#00cc96\", \"symbol\": \"circle\"}, \"mode\": \"markers\", \"name\": \"Vechain, VeChainThor Authority\", \"scene\": \"scene\", \"showlegend\": true, \"type\": \"scatter3d\", \"x\": [4.062828764884901], \"y\": [2.8253072417135945], \"z\": [6.654913001834197]}, {\"hovertemplate\": \"CoinName=Sojourn Coin<br>Algorithm=Scrypt<br>0=%{x}<br>1=%{y}<br>2=%{z}<extra></extra>\", \"legendgroup\": \"Sojourn Coin, Scrypt\", \"marker\": {\"color\": \"#ab63fa\", \"symbol\": \"circle\"}, \"mode\": \"markers\", \"name\": \"Sojourn Coin, Scrypt\", \"scene\": \"scene\", \"showlegend\": true, \"type\": \"scatter3d\", \"x\": [-0.1131077592018174], \"y\": [-1.1530427008674953], \"z\": [0.0227827186508515]}, {\"hovertemplate\": \"CoinName=Stakecoin<br>Algorithm=PoS<br>0=%{x}<br>1=%{y}<br>2=%{z}<extra></extra>\", \"legendgroup\": \"Stakecoin, PoS\", \"marker\": {\"color\": \"#FFA15A\", \"symbol\": \"square\"}, \"mode\": \"markers\", \"name\": \"Stakecoin, PoS\", \"scene\": \"scene\", \"showlegend\": true, \"type\": \"scatter3d\", \"x\": [-0.3252744150440749], \"y\": [1.8027651610182804], \"z\": [-0.22026973213422085]}, {\"hovertemplate\": \"CoinName=FrazCoin<br>Algorithm=Scrypt<br>0=%{x}<br>1=%{y}<br>2=%{z}<extra></extra>\", \"legendgroup\": \"FrazCoin, Scrypt\", \"marker\": {\"color\": \"#19d3f3\", \"symbol\": \"circle\"}, \"mode\": \"markers\", \"name\": \"FrazCoin, Scrypt\", \"scene\": \"scene\", \"showlegend\": true, \"type\": \"scatter3d\", \"x\": [-0.1841805417575411], \"y\": [-1.1473966729182505], \"z\": [0.023112137315611316]}, {\"hovertemplate\": \"CoinName=Kronecoin<br>Algorithm=Scrypt<br>0=%{x}<br>1=%{y}<br>2=%{z}<extra></extra>\", \"legendgroup\": \"Kronecoin, Scrypt\", \"marker\": {\"color\": \"#FF6692\", \"symbol\": \"circle\"}, \"mode\": \"markers\", \"name\": \"Kronecoin, Scrypt\", \"scene\": \"scene\", \"showlegend\": true, \"type\": \"scatter3d\", \"x\": [-0.18365352744834346], \"y\": [-1.147428660734211], \"z\": [0.02310787372179808]}, {\"hovertemplate\": \"CoinName=AdCoin<br>Algorithm=Scrypt<br>0=%{x}<br>1=%{y}<br>2=%{z}<extra></extra>\", \"legendgroup\": \"AdCoin, Scrypt\", \"marker\": {\"color\": \"#B6E880\", \"symbol\": \"circle\"}, \"mode\": \"markers\", \"name\": \"AdCoin, Scrypt\", \"scene\": \"scene\", \"showlegend\": true, \"type\": \"scatter3d\", \"x\": [-0.18336387894814873], \"y\": [-1.1474324264012485], \"z\": [0.02310298386041197]}, {\"hovertemplate\": \"CoinName=Linx<br>Algorithm=Scrypt<br>0=%{x}<br>1=%{y}<br>2=%{z}<extra></extra>\", \"legendgroup\": \"Linx, Scrypt\", \"marker\": {\"color\": \"#FF97FF\", \"symbol\": \"circle\"}, \"mode\": \"markers\", \"name\": \"Linx, Scrypt\", \"scene\": \"scene\", \"showlegend\": true, \"type\": \"scatter3d\", \"x\": [-0.1833511359742381], \"y\": [-1.1474320849135147], \"z\": [0.0231026752459298]}, {\"hovertemplate\": \"CoinName=CoinonatX<br>Algorithm=Scrypt<br>0=%{x}<br>1=%{y}<br>2=%{z}<extra></extra>\", \"legendgroup\": \"CoinonatX, Scrypt\", \"marker\": {\"color\": \"#FECB52\", \"symbol\": \"circle\"}, \"mode\": \"markers\", \"name\": \"CoinonatX, Scrypt\", \"scene\": \"scene\", \"showlegend\": true, \"type\": \"scatter3d\", \"x\": [-0.31658872848798925], \"y\": [0.9660011672272606], \"z\": [-0.6071363004057185]}, {\"hovertemplate\": \"CoinName=Ethereum Dark<br>Algorithm=Scrypt<br>0=%{x}<br>1=%{y}<br>2=%{z}<extra></extra>\", \"legendgroup\": \"Ethereum Dark, Scrypt\", \"marker\": {\"color\": \"#636efa\", \"symbol\": \"circle\"}, \"mode\": \"markers\", \"name\": \"Ethereum Dark, Scrypt\", \"scene\": \"scene\", \"showlegend\": true, \"type\": \"scatter3d\", \"x\": [-0.3170706590029241], \"y\": [0.9660199910415805], \"z\": [-0.6071304793720155]}, {\"hovertemplate\": \"CoinName=Sumokoin<br>Algorithm=CryptoNight<br>0=%{x}<br>1=%{y}<br>2=%{z}<extra></extra>\", \"legendgroup\": \"Sumokoin, CryptoNight\", \"marker\": {\"color\": \"#EF553B\", \"symbol\": \"diamond\"}, \"mode\": \"markers\", \"name\": \"Sumokoin, CryptoNight\", \"scene\": \"scene\", \"showlegend\": true, \"type\": \"scatter3d\", \"x\": [0.25073896486522673], \"y\": [-2.2311067155262134], \"z\": [0.47345568545304123]}, {\"hovertemplate\": \"CoinName=Obsidian<br>Algorithm=SHA-512<br>0=%{x}<br>1=%{y}<br>2=%{z}<extra></extra>\", \"legendgroup\": \"Obsidian, SHA-512\", \"marker\": {\"color\": \"#00cc96\", \"symbol\": \"diamond\"}, \"mode\": \"markers\", \"name\": \"Obsidian, SHA-512\", \"scene\": \"scene\", \"showlegend\": true, \"type\": \"scatter3d\", \"x\": [-0.3086287396419259], \"y\": [1.8146021690155225], \"z\": [-0.18211738826317694]}, {\"hovertemplate\": \"CoinName=Cardano<br>Algorithm=Ouroboros<br>0=%{x}<br>1=%{y}<br>2=%{z}<extra></extra>\", \"legendgroup\": \"Cardano, Ouroboros\", \"marker\": {\"color\": \"#ab63fa\", \"symbol\": \"diamond\"}, \"mode\": \"markers\", \"name\": \"Cardano, Ouroboros\", \"scene\": \"scene\", \"showlegend\": true, \"type\": \"scatter3d\", \"x\": [0.6390700551316941], \"y\": [1.7090537447914755], \"z\": [-0.2358797743561201]}, {\"hovertemplate\": \"CoinName=Regalcoin<br>Algorithm=X11<br>0=%{x}<br>1=%{y}<br>2=%{z}<extra></extra>\", \"legendgroup\": \"Regalcoin, X11\", \"marker\": {\"color\": \"#FFA15A\", \"symbol\": \"x\"}, \"mode\": \"markers\", \"name\": \"Regalcoin, X11\", \"scene\": \"scene\", \"showlegend\": true, \"type\": \"scatter3d\", \"x\": [-0.36840646279785616], \"y\": [1.2094614947822504], \"z\": [-0.5648128912284771]}, {\"hovertemplate\": \"CoinName=BitcoinZ<br>Algorithm=Equihash<br>0=%{x}<br>1=%{y}<br>2=%{z}<extra></extra>\", \"legendgroup\": \"BitcoinZ, Equihash\", \"marker\": {\"color\": \"#19d3f3\", \"symbol\": \"circle\"}, \"mode\": \"markers\", \"name\": \"BitcoinZ, Equihash\", \"scene\": \"scene\", \"showlegend\": true, \"type\": \"scatter3d\", \"x\": [0.032241794237486535], \"y\": [-1.962488099020625], \"z\": [0.4467534495093537]}, {\"hovertemplate\": \"CoinName=TrezarCoin<br>Algorithm=NeoScrypt<br>0=%{x}<br>1=%{y}<br>2=%{z}<extra></extra>\", \"legendgroup\": \"TrezarCoin, NeoScrypt\", \"marker\": {\"color\": \"#FF6692\", \"symbol\": \"diamond\"}, \"mode\": \"markers\", \"name\": \"TrezarCoin, NeoScrypt\", \"scene\": \"scene\", \"showlegend\": true, \"type\": \"scatter3d\", \"x\": [-0.3241083555094686], \"y\": [0.5492265325827234], \"z\": [-0.3537234397204971]}, {\"hovertemplate\": \"CoinName=Elements<br>Algorithm=X11<br>0=%{x}<br>1=%{y}<br>2=%{z}<extra></extra>\", \"legendgroup\": \"Elements, X11\", \"marker\": {\"color\": \"#B6E880\", \"symbol\": \"x\"}, \"mode\": \"markers\", \"name\": \"Elements, X11\", \"scene\": \"scene\", \"showlegend\": true, \"type\": \"scatter3d\", \"x\": [-0.1915377568835769], \"y\": [-0.9040426555970795], \"z\": [0.06459800830163324]}, {\"hovertemplate\": \"CoinName=TerraNovaCoin<br>Algorithm=Scrypt<br>0=%{x}<br>1=%{y}<br>2=%{z}<extra></extra>\", \"legendgroup\": \"TerraNovaCoin, Scrypt\", \"marker\": {\"color\": \"#FF97FF\", \"symbol\": \"circle\"}, \"mode\": \"markers\", \"name\": \"TerraNovaCoin, Scrypt\", \"scene\": \"scene\", \"showlegend\": true, \"type\": \"scatter3d\", \"x\": [-0.3170287626819509], \"y\": [0.9660128042325268], \"z\": [-0.607129962290023]}, {\"hovertemplate\": \"CoinName=VIVO Coin<br>Algorithm=NeoScrypt<br>0=%{x}<br>1=%{y}<br>2=%{z}<extra></extra>\", \"legendgroup\": \"VIVO Coin, NeoScrypt\", \"marker\": {\"color\": \"#FECB52\", \"symbol\": \"diamond\"}, \"mode\": \"markers\", \"name\": \"VIVO Coin, NeoScrypt\", \"scene\": \"scene\", \"showlegend\": true, \"type\": \"scatter3d\", \"x\": [-0.19605051310171934], \"y\": [-1.5640395040940398], \"z\": [0.27658457035164064]}, {\"hovertemplate\": \"CoinName=Rupee<br>Algorithm=Lyra2REv2<br>0=%{x}<br>1=%{y}<br>2=%{z}<extra></extra>\", \"legendgroup\": \"Rupee, Lyra2REv2\", \"marker\": {\"color\": \"#636efa\", \"symbol\": \"circle\"}, \"mode\": \"markers\", \"name\": \"Rupee, Lyra2REv2\", \"scene\": \"scene\", \"showlegend\": true, \"type\": \"scatter3d\", \"x\": [-0.29844482507908754], \"y\": [0.8417949961085011], \"z\": [-0.12024498817810063]}, {\"hovertemplate\": \"CoinName=Bitcoin Gold<br>Algorithm=Equihash<br>0=%{x}<br>1=%{y}<br>2=%{z}<extra></extra>\", \"legendgroup\": \"Bitcoin Gold, Equihash\", \"marker\": {\"color\": \"#EF553B\", \"symbol\": \"circle\"}, \"mode\": \"markers\", \"name\": \"Bitcoin Gold, Equihash\", \"scene\": \"scene\", \"showlegend\": true, \"type\": \"scatter3d\", \"x\": [-0.17212549753261175], \"y\": [-1.9528497792191881], \"z\": [0.44891667432008364]}, {\"hovertemplate\": \"CoinName=WomenCoin<br>Algorithm=Scrypt<br>0=%{x}<br>1=%{y}<br>2=%{z}<extra></extra>\", \"legendgroup\": \"WomenCoin, Scrypt\", \"marker\": {\"color\": \"#00cc96\", \"symbol\": \"circle\"}, \"mode\": \"markers\", \"name\": \"WomenCoin, Scrypt\", \"scene\": \"scene\", \"showlegend\": true, \"type\": \"scatter3d\", \"x\": [0.4298866479077137], \"y\": [0.9680280335028916], \"z\": [-0.621900896115945]}, {\"hovertemplate\": \"CoinName=Theresa May Coin<br>Algorithm=SHA-256<br>0=%{x}<br>1=%{y}<br>2=%{z}<extra></extra>\", \"legendgroup\": \"Theresa May Coin, SHA-256\", \"marker\": {\"color\": \"#ab63fa\", \"symbol\": \"square\"}, \"mode\": \"markers\", \"name\": \"Theresa May Coin, SHA-256\", \"scene\": \"scene\", \"showlegend\": true, \"type\": \"scatter3d\", \"x\": [-0.2879062855446095], \"y\": [0.8704143224563804], \"z\": [-0.4260491689649793]}, {\"hovertemplate\": \"CoinName=NamoCoin<br>Algorithm=NIST5<br>0=%{x}<br>1=%{y}<br>2=%{z}<extra></extra>\", \"legendgroup\": \"NamoCoin, NIST5\", \"marker\": {\"color\": \"#FFA15A\", \"symbol\": \"x\"}, \"mode\": \"markers\", \"name\": \"NamoCoin, NIST5\", \"scene\": \"scene\", \"showlegend\": true, \"type\": \"scatter3d\", \"x\": [-0.31711711667577897], \"y\": [1.4818331915546654], \"z\": [-0.6313825606778873]}, {\"hovertemplate\": \"CoinName=LUXCoin<br>Algorithm=PHI1612<br>0=%{x}<br>1=%{y}<br>2=%{z}<extra></extra>\", \"legendgroup\": \"LUXCoin, PHI1612\", \"marker\": {\"color\": \"#19d3f3\", \"symbol\": \"cross\"}, \"mode\": \"markers\", \"name\": \"LUXCoin, PHI1612\", \"scene\": \"scene\", \"showlegend\": true, \"type\": \"scatter3d\", \"x\": [-0.3624649589819232], \"y\": [1.8654620363345908], \"z\": [-0.6515806867077459]}, {\"hovertemplate\": \"CoinName=Pirl<br>Algorithm=Dagger<br>0=%{x}<br>1=%{y}<br>2=%{z}<extra></extra>\", \"legendgroup\": \"Pirl, Dagger\", \"marker\": {\"color\": \"#FF6692\", \"symbol\": \"circle\"}, \"mode\": \"markers\", \"name\": \"Pirl, Dagger\", \"scene\": \"scene\", \"showlegend\": true, \"type\": \"scatter3d\", \"x\": [-0.17490893444613947], \"y\": [-2.128726080889341], \"z\": [0.4649754410414398]}, {\"hovertemplate\": \"CoinName=Xios<br>Algorithm=Scrypt<br>0=%{x}<br>1=%{y}<br>2=%{z}<extra></extra>\", \"legendgroup\": \"Xios, Scrypt\", \"marker\": {\"color\": \"#B6E880\", \"symbol\": \"circle\"}, \"mode\": \"markers\", \"name\": \"Xios, Scrypt\", \"scene\": \"scene\", \"showlegend\": true, \"type\": \"scatter3d\", \"x\": [-0.31698097200687414], \"y\": [0.9660102903972327], \"z\": [-0.6071304202368943]}, {\"hovertemplate\": \"CoinName=Bitcloud 2.0<br>Algorithm=Quark<br>0=%{x}<br>1=%{y}<br>2=%{z}<extra></extra>\", \"legendgroup\": \"Bitcloud 2.0, Quark\", \"marker\": {\"color\": \"#FF97FF\", \"symbol\": \"cross\"}, \"mode\": \"markers\", \"name\": \"Bitcloud 2.0, Quark\", \"scene\": \"scene\", \"showlegend\": true, \"type\": \"scatter3d\", \"x\": [-0.3681021074032354], \"y\": [1.7470778955639639], \"z\": [-0.6008587435679799]}, {\"hovertemplate\": \"CoinName=eBoost<br>Algorithm=Scrypt<br>0=%{x}<br>1=%{y}<br>2=%{z}<extra></extra>\", \"legendgroup\": \"eBoost, Scrypt\", \"marker\": {\"color\": \"#FECB52\", \"symbol\": \"circle\"}, \"mode\": \"markers\", \"name\": \"eBoost, Scrypt\", \"scene\": \"scene\", \"showlegend\": true, \"type\": \"scatter3d\", \"x\": [-0.18256171256232995], \"y\": [-1.1474109298508819], \"z\": [0.02308355667131099]}, {\"hovertemplate\": \"CoinName=KekCoin<br>Algorithm=POS 2.0<br>0=%{x}<br>1=%{y}<br>2=%{z}<extra></extra>\", \"legendgroup\": \"KekCoin, POS 2.0\", \"marker\": {\"color\": \"#636efa\", \"symbol\": \"square\"}, \"mode\": \"markers\", \"name\": \"KekCoin, POS 2.0\", \"scene\": \"scene\", \"showlegend\": true, \"type\": \"scatter3d\", \"x\": [-0.32018561298288617], \"y\": [1.739400015418362], \"z\": [-0.21812773450135212]}, {\"hovertemplate\": \"CoinName=BlackholeCoin<br>Algorithm=Scrypt<br>0=%{x}<br>1=%{y}<br>2=%{z}<extra></extra>\", \"legendgroup\": \"BlackholeCoin, Scrypt\", \"marker\": {\"color\": \"#EF553B\", \"symbol\": \"circle\"}, \"mode\": \"markers\", \"name\": \"BlackholeCoin, Scrypt\", \"scene\": \"scene\", \"showlegend\": true, \"type\": \"scatter3d\", \"x\": [-0.3168538655511272], \"y\": [0.9660181720426488], \"z\": [-0.6071343235324732]}, {\"hovertemplate\": \"CoinName=Infinity Economics<br>Algorithm=SHA-256<br>0=%{x}<br>1=%{y}<br>2=%{z}<extra></extra>\", \"legendgroup\": \"Infinity Economics, SHA-256\", \"marker\": {\"color\": \"#00cc96\", \"symbol\": \"square\"}, \"mode\": \"markers\", \"name\": \"Infinity Economics, SHA-256\", \"scene\": \"scene\", \"showlegend\": true, \"type\": \"scatter3d\", \"x\": [-0.08081068017267126], \"y\": [0.783659855880988], \"z\": [-0.1402471331063487]}, {\"hovertemplate\": \"CoinName=Pura<br>Algorithm=X11<br>0=%{x}<br>1=%{y}<br>2=%{z}<extra></extra>\", \"legendgroup\": \"Pura, X11\", \"marker\": {\"color\": \"#ab63fa\", \"symbol\": \"x\"}, \"mode\": \"markers\", \"name\": \"Pura, X11\", \"scene\": \"scene\", \"showlegend\": true, \"type\": \"scatter3d\", \"x\": [-0.2314947386762775], \"y\": [-0.9040687295567945], \"z\": [0.065373127847909]}, {\"hovertemplate\": \"CoinName=Innova<br>Algorithm=NeoScrypt<br>0=%{x}<br>1=%{y}<br>2=%{z}<extra></extra>\", \"legendgroup\": \"Innova, NeoScrypt\", \"marker\": {\"color\": \"#FFA15A\", \"symbol\": \"diamond\"}, \"mode\": \"markers\", \"name\": \"Innova, NeoScrypt\", \"scene\": \"scene\", \"showlegend\": true, \"type\": \"scatter3d\", \"x\": [-0.1959019367163058], \"y\": [-1.5640484911911716], \"z\": [0.27658336265198813]}, {\"hovertemplate\": \"CoinName=Ellaism<br>Algorithm=Ethash<br>0=%{x}<br>1=%{y}<br>2=%{z}<extra></extra>\", \"legendgroup\": \"Ellaism, Ethash\", \"marker\": {\"color\": \"#19d3f3\", \"symbol\": \"cross\"}, \"mode\": \"markers\", \"name\": \"Ellaism, Ethash\", \"scene\": \"scene\", \"showlegend\": true, \"type\": \"scatter3d\", \"x\": [-0.1735276779784323], \"y\": [-1.914512117762997], \"z\": [0.4260183127636342]}, {\"hovertemplate\": \"CoinName=GoByte<br>Algorithm=NeoScrypt<br>0=%{x}<br>1=%{y}<br>2=%{z}<extra></extra>\", \"legendgroup\": \"GoByte, NeoScrypt\", \"marker\": {\"color\": \"#FF6692\", \"symbol\": \"diamond\"}, \"mode\": \"markers\", \"name\": \"GoByte, NeoScrypt\", \"scene\": \"scene\", \"showlegend\": true, \"type\": \"scatter3d\", \"x\": [-0.19599806161282296], \"y\": [-1.564041556803407], \"z\": [0.27658393754917343]}, {\"hovertemplate\": \"CoinName=Magnet<br>Algorithm=X11<br>0=%{x}<br>1=%{y}<br>2=%{z}<extra></extra>\", \"legendgroup\": \"Magnet, X11\", \"marker\": {\"color\": \"#B6E880\", \"symbol\": \"x\"}, \"mode\": \"markers\", \"name\": \"Magnet, X11\", \"scene\": \"scene\", \"showlegend\": true, \"type\": \"scatter3d\", \"x\": [-0.3672432719436715], \"y\": [1.2094083697880869], \"z\": [-0.5648255230631065]}, {\"hovertemplate\": \"CoinName=Lamden Tau<br>Algorithm=DPoS<br>0=%{x}<br>1=%{y}<br>2=%{z}<extra></extra>\", \"legendgroup\": \"Lamden Tau, DPoS\", \"marker\": {\"color\": \"#FF97FF\", \"symbol\": \"x\"}, \"mode\": \"markers\", \"name\": \"Lamden Tau, DPoS\", \"scene\": \"scene\", \"showlegend\": true, \"type\": \"scatter3d\", \"x\": [4.182696815989532], \"y\": [1.7890241324904514], \"z\": [-0.2737400092012702]}, {\"hovertemplate\": \"CoinName=Electra<br>Algorithm=NIST5<br>0=%{x}<br>1=%{y}<br>2=%{z}<extra></extra>\", \"legendgroup\": \"Electra, NIST5\", \"marker\": {\"color\": \"#FECB52\", \"symbol\": \"x\"}, \"mode\": \"markers\", \"name\": \"Electra, NIST5\", \"scene\": \"scene\", \"showlegend\": true, \"type\": \"scatter3d\", \"x\": [0.2101014019372574], \"y\": [1.4752117925318469], \"z\": [-0.6403260183367098]}, {\"hovertemplate\": \"CoinName=Bitcoin Diamond<br>Algorithm=X13<br>0=%{x}<br>1=%{y}<br>2=%{z}<extra></extra>\", \"legendgroup\": \"Bitcoin Diamond, X13\", \"marker\": {\"color\": \"#636efa\", \"symbol\": \"diamond\"}, \"mode\": \"markers\", \"name\": \"Bitcoin Diamond, X13\", \"scene\": \"scene\", \"showlegend\": true, \"type\": \"scatter3d\", \"x\": [-0.22318491509366248], \"y\": [1.7726782521865816], \"z\": [-0.6853127440925926]}, {\"hovertemplate\": \"CoinName=SHIELD<br>Algorithm=Multiple<br>0=%{x}<br>1=%{y}<br>2=%{z}<extra></extra>\", \"legendgroup\": \"SHIELD, Multiple\", \"marker\": {\"color\": \"#EF553B\", \"symbol\": \"square\"}, \"mode\": \"markers\", \"name\": \"SHIELD, Multiple\", \"scene\": \"scene\", \"showlegend\": true, \"type\": \"scatter3d\", \"x\": [-0.1223370525758438], \"y\": [-1.8785840017389372], \"z\": [0.41748508596239253]}, {\"hovertemplate\": \"CoinName=Cash & Back Coin<br>Algorithm=Scrypt<br>0=%{x}<br>1=%{y}<br>2=%{z}<extra></extra>\", \"legendgroup\": \"Cash & Back Coin, Scrypt\", \"marker\": {\"color\": \"#00cc96\", \"symbol\": \"circle\"}, \"mode\": \"markers\", \"name\": \"Cash & Back Coin, Scrypt\", \"scene\": \"scene\", \"showlegend\": true, \"type\": \"scatter3d\", \"x\": [-0.31440093251778456], \"y\": [0.9659432596223442], \"z\": [-0.6071678035505549]}, {\"hovertemplate\": \"CoinName=UltraNote<br>Algorithm=CryptoNight<br>0=%{x}<br>1=%{y}<br>2=%{z}<extra></extra>\", \"legendgroup\": \"UltraNote, CryptoNight\", \"marker\": {\"color\": \"#ab63fa\", \"symbol\": \"diamond\"}, \"mode\": \"markers\", \"name\": \"UltraNote, CryptoNight\", \"scene\": \"scene\", \"showlegend\": true, \"type\": \"scatter3d\", \"x\": [1.0570458057330778], \"y\": [-2.2706760831049033], \"z\": [0.46520528081149604]}, {\"hovertemplate\": \"CoinName=BitCoal<br>Algorithm=CryptoNight<br>0=%{x}<br>1=%{y}<br>2=%{z}<extra></extra>\", \"legendgroup\": \"BitCoal, CryptoNight\", \"marker\": {\"color\": \"#FFA15A\", \"symbol\": \"diamond\"}, \"mode\": \"markers\", \"name\": \"BitCoal, CryptoNight\", \"scene\": \"scene\", \"showlegend\": true, \"type\": \"scatter3d\", \"x\": [0.2501671470287367], \"y\": [-2.2310670023974146], \"z\": [0.4734593887463463]}, {\"hovertemplate\": \"CoinName=DaxxCoin<br>Algorithm=Ethash<br>0=%{x}<br>1=%{y}<br>2=%{z}<extra></extra>\", \"legendgroup\": \"DaxxCoin, Ethash\", \"marker\": {\"color\": \"#19d3f3\", \"symbol\": \"cross\"}, \"mode\": \"markers\", \"name\": \"DaxxCoin, Ethash\", \"scene\": \"scene\", \"showlegend\": true, \"type\": \"scatter3d\", \"x\": [-0.10145447293176818], \"y\": [-1.9195837704237748], \"z\": [0.4255637297291604]}, {\"hovertemplate\": \"CoinName=Bulwark<br>Algorithm=NIST5<br>0=%{x}<br>1=%{y}<br>2=%{z}<extra></extra>\", \"legendgroup\": \"Bulwark, NIST5\", \"marker\": {\"color\": \"#FF6692\", \"symbol\": \"x\"}, \"mode\": \"markers\", \"name\": \"Bulwark, NIST5\", \"scene\": \"scene\", \"showlegend\": true, \"type\": \"scatter3d\", \"x\": [-0.2910621797685028], \"y\": [1.3974840685491294], \"z\": [-0.34253371068578903]}, {\"hovertemplate\": \"CoinName=Kalkulus<br>Algorithm=Quark<br>0=%{x}<br>1=%{y}<br>2=%{z}<extra></extra>\", \"legendgroup\": \"Kalkulus, Quark\", \"marker\": {\"color\": \"#B6E880\", \"symbol\": \"cross\"}, \"mode\": \"markers\", \"name\": \"Kalkulus, Quark\", \"scene\": \"scene\", \"showlegend\": true, \"type\": \"scatter3d\", \"x\": [-0.3289517893657341], \"y\": [1.6623647820853205], \"z\": [-0.31219525740106874]}, {\"hovertemplate\": \"CoinName=AC3<br>Algorithm=X11<br>0=%{x}<br>1=%{y}<br>2=%{z}<extra></extra>\", \"legendgroup\": \"AC3, X11\", \"marker\": {\"color\": \"#FF97FF\", \"symbol\": \"x\"}, \"mode\": \"markers\", \"name\": \"AC3, X11\", \"scene\": \"scene\", \"showlegend\": true, \"type\": \"scatter3d\", \"x\": [-0.23126669933124178], \"y\": [-0.9042067148068865], \"z\": [0.06539416713440575]}, {\"hovertemplate\": \"CoinName=Lethean<br>Algorithm=CryptoNight-V7<br>0=%{x}<br>1=%{y}<br>2=%{z}<extra></extra>\", \"legendgroup\": \"Lethean, CryptoNight-V7\", \"marker\": {\"color\": \"#FECB52\", \"symbol\": \"circle\"}, \"mode\": \"markers\", \"name\": \"Lethean, CryptoNight-V7\", \"scene\": \"scene\", \"showlegend\": true, \"type\": \"scatter3d\", \"x\": [-0.16139655478611406], \"y\": [-2.1332880745371203], \"z\": [0.46573266469198465]}, {\"hovertemplate\": \"CoinName=GermanCoin<br>Algorithm=Scrypt<br>0=%{x}<br>1=%{y}<br>2=%{z}<extra></extra>\", \"legendgroup\": \"GermanCoin, Scrypt\", \"marker\": {\"color\": \"#636efa\", \"symbol\": \"circle\"}, \"mode\": \"markers\", \"name\": \"GermanCoin, Scrypt\", \"scene\": \"scene\", \"showlegend\": true, \"type\": \"scatter3d\", \"x\": [0.08096624295654202], \"y\": [0.9406655884721927], \"z\": [-0.6101303465875904]}, {\"hovertemplate\": \"CoinName=LiteCoin Ultra<br>Algorithm=Scrypt<br>0=%{x}<br>1=%{y}<br>2=%{z}<extra></extra>\", \"legendgroup\": \"LiteCoin Ultra, Scrypt\", \"marker\": {\"color\": \"#EF553B\", \"symbol\": \"circle\"}, \"mode\": \"markers\", \"name\": \"LiteCoin Ultra, Scrypt\", \"scene\": \"scene\", \"showlegend\": true, \"type\": \"scatter3d\", \"x\": [-0.31603009169575796], \"y\": [0.9659428301033058], \"z\": [-0.6071363165270315]}, {\"hovertemplate\": \"CoinName=PopularCoin<br>Algorithm=Scrypt<br>0=%{x}<br>1=%{y}<br>2=%{z}<extra></extra>\", \"legendgroup\": \"PopularCoin, Scrypt\", \"marker\": {\"color\": \"#00cc96\", \"symbol\": \"circle\"}, \"mode\": \"markers\", \"name\": \"PopularCoin, Scrypt\", \"scene\": \"scene\", \"showlegend\": true, \"type\": \"scatter3d\", \"x\": [-0.10325081963674437], \"y\": [-1.1488159058463745], \"z\": [0.021813543340517192]}, {\"hovertemplate\": \"CoinName=PhantomX<br>Algorithm=X11<br>0=%{x}<br>1=%{y}<br>2=%{z}<extra></extra>\", \"legendgroup\": \"PhantomX, X11\", \"marker\": {\"color\": \"#ab63fa\", \"symbol\": \"x\"}, \"mode\": \"markers\", \"name\": \"PhantomX, X11\", \"scene\": \"scene\", \"showlegend\": true, \"type\": \"scatter3d\", \"x\": [-0.3677986509555016], \"y\": [1.209461211924711], \"z\": [-0.5648245568267841]}, {\"hovertemplate\": \"CoinName=Photon<br>Algorithm=BLAKE256<br>0=%{x}<br>1=%{y}<br>2=%{z}<extra></extra>\", \"legendgroup\": \"Photon, BLAKE256\", \"marker\": {\"color\": \"#FFA15A\", \"symbol\": \"x\"}, \"mode\": \"markers\", \"name\": \"Photon, BLAKE256\", \"scene\": \"scene\", \"showlegend\": true, \"type\": \"scatter3d\", \"x\": [1.0287833288474844], \"y\": [-1.2233997177017502], \"z\": [0.13216743686179194]}, {\"hovertemplate\": \"CoinName=Sucre<br>Algorithm=X11<br>0=%{x}<br>1=%{y}<br>2=%{z}<extra></extra>\", \"legendgroup\": \"Sucre, X11\", \"marker\": {\"color\": \"#19d3f3\", \"symbol\": \"x\"}, \"mode\": \"markers\", \"name\": \"Sucre, X11\", \"scene\": \"scene\", \"showlegend\": true, \"type\": \"scatter3d\", \"x\": [-0.2357742610655786], \"y\": [-0.903945509756528], \"z\": [0.06543291712701722]}, {\"hovertemplate\": \"CoinName=SparksPay<br>Algorithm=NeoScrypt<br>0=%{x}<br>1=%{y}<br>2=%{z}<extra></extra>\", \"legendgroup\": \"SparksPay, NeoScrypt\", \"marker\": {\"color\": \"#FF6692\", \"symbol\": \"diamond\"}, \"mode\": \"markers\", \"name\": \"SparksPay, NeoScrypt\", \"scene\": \"scene\", \"showlegend\": true, \"type\": \"scatter3d\", \"x\": [-0.1960474145224283], \"y\": [-1.5640350981696742], \"z\": [0.27658369844793734]}, {\"hovertemplate\": \"CoinName=Digiwage<br>Algorithm=Quark<br>0=%{x}<br>1=%{y}<br>2=%{z}<extra></extra>\", \"legendgroup\": \"Digiwage, Quark\", \"marker\": {\"color\": \"#B6E880\", \"symbol\": \"cross\"}, \"mode\": \"markers\", \"name\": \"Digiwage, Quark\", \"scene\": \"scene\", \"showlegend\": true, \"type\": \"scatter3d\", \"x\": [-0.32814935352151586], \"y\": [1.6623142377188507], \"z\": [-0.31220141009835284]}, {\"hovertemplate\": \"CoinName=GunCoin<br>Algorithm=NeoScrypt<br>0=%{x}<br>1=%{y}<br>2=%{z}<extra></extra>\", \"legendgroup\": \"GunCoin, NeoScrypt\", \"marker\": {\"color\": \"#FF97FF\", \"symbol\": \"diamond\"}, \"mode\": \"markers\", \"name\": \"GunCoin, NeoScrypt\", \"scene\": \"scene\", \"showlegend\": true, \"type\": \"scatter3d\", \"x\": [-0.18931633605317935], \"y\": [-1.5641998285071321], \"z\": [0.2764842985490943]}, {\"hovertemplate\": \"CoinName=IrishCoin<br>Algorithm=Scrypt<br>0=%{x}<br>1=%{y}<br>2=%{z}<extra></extra>\", \"legendgroup\": \"IrishCoin, Scrypt\", \"marker\": {\"color\": \"#FECB52\", \"symbol\": \"circle\"}, \"mode\": \"markers\", \"name\": \"IrishCoin, Scrypt\", \"scene\": \"scene\", \"showlegend\": true, \"type\": \"scatter3d\", \"x\": [-0.18345549816454254], \"y\": [-1.1474089442943103], \"z\": [0.02310042156519037]}, {\"hovertemplate\": \"CoinName=Trollcoin<br>Algorithm=Scrypt<br>0=%{x}<br>1=%{y}<br>2=%{z}<extra></extra>\", \"legendgroup\": \"Trollcoin, Scrypt\", \"marker\": {\"color\": \"#636efa\", \"symbol\": \"circle\"}, \"mode\": \"markers\", \"name\": \"Trollcoin, Scrypt\", \"scene\": \"scene\", \"showlegend\": true, \"type\": \"scatter3d\", \"x\": [-0.30399617705185455], \"y\": [0.9657249553478902], \"z\": [-0.6073281510934704]}, {\"hovertemplate\": \"CoinName=Litecoin Plus<br>Algorithm=Scrypt<br>0=%{x}<br>1=%{y}<br>2=%{z}<extra></extra>\", \"legendgroup\": \"Litecoin Plus, Scrypt\", \"marker\": {\"color\": \"#EF553B\", \"symbol\": \"circle\"}, \"mode\": \"markers\", \"name\": \"Litecoin Plus, Scrypt\", \"scene\": \"scene\", \"showlegend\": true, \"type\": \"scatter3d\", \"x\": [-0.31709221373841084], \"y\": [0.9660195575114875], \"z\": [-0.6071299839127724]}, {\"hovertemplate\": \"CoinName=Monkey Project<br>Algorithm=X11<br>0=%{x}<br>1=%{y}<br>2=%{z}<extra></extra>\", \"legendgroup\": \"Monkey Project, X11\", \"marker\": {\"color\": \"#00cc96\", \"symbol\": \"x\"}, \"mode\": \"markers\", \"name\": \"Monkey Project, X11\", \"scene\": \"scene\", \"showlegend\": true, \"type\": \"scatter3d\", \"x\": [-0.32794445229830343], \"y\": [1.124658168434667], \"z\": [-0.2761580631879637]}, {\"hovertemplate\": \"CoinName=Pioneer Coin<br>Algorithm=X11<br>0=%{x}<br>1=%{y}<br>2=%{z}<extra></extra>\", \"legendgroup\": \"Pioneer Coin, X11\", \"marker\": {\"color\": \"#ab63fa\", \"symbol\": \"x\"}, \"mode\": \"markers\", \"name\": \"Pioneer Coin, X11\", \"scene\": \"scene\", \"showlegend\": true, \"type\": \"scatter3d\", \"x\": [-0.23570191275568253], \"y\": [-0.9039458764983112], \"z\": [0.06543158995903049]}, {\"hovertemplate\": \"CoinName=UnitedBitcoin<br>Algorithm=SHA-256<br>0=%{x}<br>1=%{y}<br>2=%{z}<extra></extra>\", \"legendgroup\": \"UnitedBitcoin, SHA-256\", \"marker\": {\"color\": \"#FFA15A\", \"symbol\": \"square\"}, \"mode\": \"markers\", \"name\": \"UnitedBitcoin, SHA-256\", \"scene\": \"scene\", \"showlegend\": true, \"type\": \"scatter3d\", \"x\": [-0.15658756189338574], \"y\": [-1.2429755493800645], \"z\": [0.20421880319812508]}, {\"hovertemplate\": \"CoinName=Interzone<br>Algorithm=C11<br>0=%{x}<br>1=%{y}<br>2=%{z}<extra></extra>\", \"legendgroup\": \"Interzone, C11\", \"marker\": {\"color\": \"#19d3f3\", \"symbol\": \"x\"}, \"mode\": \"markers\", \"name\": \"Interzone, C11\", \"scene\": \"scene\", \"showlegend\": true, \"type\": \"scatter3d\", \"x\": [-0.21381181927633894], \"y\": [-1.1669452854183375], \"z\": [0.14944983523126207]}, {\"hovertemplate\": \"CoinName=TokenPay<br>Algorithm=POS 3.0<br>0=%{x}<br>1=%{y}<br>2=%{z}<extra></extra>\", \"legendgroup\": \"TokenPay, POS 3.0\", \"marker\": {\"color\": \"#FF6692\", \"symbol\": \"cross\"}, \"mode\": \"markers\", \"name\": \"TokenPay, POS 3.0\", \"scene\": \"scene\", \"showlegend\": true, \"type\": \"scatter3d\", \"x\": [-0.3203955059920492], \"y\": [1.7457783929090351], \"z\": [-0.21902465312217978]}, {\"hovertemplate\": \"CoinName=1717 Masonic Commemorative Token<br>Algorithm=Ethash<br>0=%{x}<br>1=%{y}<br>2=%{z}<extra></extra>\", \"legendgroup\": \"1717 Masonic Commemorative Token, Ethash\", \"marker\": {\"color\": \"#B6E880\", \"symbol\": \"cross\"}, \"mode\": \"markers\", \"name\": \"1717 Masonic Commemorative Token, Ethash\", \"scene\": \"scene\", \"showlegend\": true, \"type\": \"scatter3d\", \"x\": [-0.26773165306478447], \"y\": [0.11423849244709747], \"z\": [0.0844394561159486]}, {\"hovertemplate\": \"CoinName=My Big Coin<br>Algorithm=Scrypt<br>0=%{x}<br>1=%{y}<br>2=%{z}<extra></extra>\", \"legendgroup\": \"My Big Coin, Scrypt\", \"marker\": {\"color\": \"#FF97FF\", \"symbol\": \"circle\"}, \"mode\": \"markers\", \"name\": \"My Big Coin, Scrypt\", \"scene\": \"scene\", \"showlegend\": true, \"type\": \"scatter3d\", \"x\": [-0.2821314004601526], \"y\": [0.2669067960616756], \"z\": [-0.3421138903166293]}, {\"hovertemplate\": \"CoinName=TurtleCoin<br>Algorithm=CryptoNight<br>0=%{x}<br>1=%{y}<br>2=%{z}<extra></extra>\", \"legendgroup\": \"TurtleCoin, CryptoNight\", \"marker\": {\"color\": \"#FECB52\", \"symbol\": \"diamond\"}, \"mode\": \"markers\", \"name\": \"TurtleCoin, CryptoNight\", \"scene\": \"scene\", \"showlegend\": true, \"type\": \"scatter3d\", \"x\": [7.675241540976405], \"y\": [-2.752561346380464], \"z\": [0.4264444585933301]}, {\"hovertemplate\": \"CoinName=MUNcoin<br>Algorithm=SkunkHash<br>0=%{x}<br>1=%{y}<br>2=%{z}<extra></extra>\", \"legendgroup\": \"MUNcoin, SkunkHash\", \"marker\": {\"color\": \"#636efa\", \"symbol\": \"cross\"}, \"mode\": \"markers\", \"name\": \"MUNcoin, SkunkHash\", \"scene\": \"scene\", \"showlegend\": true, \"type\": \"scatter3d\", \"x\": [-0.17640346152010886], \"y\": [-2.1208531304884075], \"z\": [0.4631315794210791]}, {\"hovertemplate\": \"CoinName=Unified Society USDEX<br>Algorithm=Scrypt<br>0=%{x}<br>1=%{y}<br>2=%{z}<extra></extra>\", \"legendgroup\": \"Unified Society USDEX, Scrypt\", \"marker\": {\"color\": \"#EF553B\", \"symbol\": \"circle\"}, \"mode\": \"markers\", \"name\": \"Unified Society USDEX, Scrypt\", \"scene\": \"scene\", \"showlegend\": true, \"type\": \"scatter3d\", \"x\": [-0.31277602146672956], \"y\": [0.9659709535919412], \"z\": [-0.607204234477942]}, {\"hovertemplate\": \"CoinName=Niobio Cash<br>Algorithm=CryptoNight<br>0=%{x}<br>1=%{y}<br>2=%{z}<extra></extra>\", \"legendgroup\": \"Niobio Cash, CryptoNight\", \"marker\": {\"color\": \"#00cc96\", \"symbol\": \"diamond\"}, \"mode\": \"markers\", \"name\": \"Niobio Cash, CryptoNight\", \"scene\": \"scene\", \"showlegend\": true, \"type\": \"scatter3d\", \"x\": [0.25390618248182595], \"y\": [-2.2311998790057515], \"z\": [0.4734117993696916]}, {\"hovertemplate\": \"CoinName=ShareChain<br>Algorithm=Scrypt<br>0=%{x}<br>1=%{y}<br>2=%{z}<extra></extra>\", \"legendgroup\": \"ShareChain, Scrypt\", \"marker\": {\"color\": \"#ab63fa\", \"symbol\": \"circle\"}, \"mode\": \"markers\", \"name\": \"ShareChain, Scrypt\", \"scene\": \"scene\", \"showlegend\": true, \"type\": \"scatter3d\", \"x\": [0.002606387448111802], \"y\": [-1.1495815386919195], \"z\": [0.01991390168337537]}, {\"hovertemplate\": \"CoinName=Travelflex<br>Algorithm=Dagger<br>0=%{x}<br>1=%{y}<br>2=%{z}<extra></extra>\", \"legendgroup\": \"Travelflex, Dagger\", \"marker\": {\"color\": \"#FFA15A\", \"symbol\": \"circle\"}, \"mode\": \"markers\", \"name\": \"Travelflex, Dagger\", \"scene\": \"scene\", \"showlegend\": true, \"type\": \"scatter3d\", \"x\": [-0.17441780621078284], \"y\": [-2.128672351624002], \"z\": [0.46495606859260946]}, {\"hovertemplate\": \"CoinName=KREDS<br>Algorithm=Lyra2REv2<br>0=%{x}<br>1=%{y}<br>2=%{z}<extra></extra>\", \"legendgroup\": \"KREDS, Lyra2REv2\", \"marker\": {\"color\": \"#19d3f3\", \"symbol\": \"circle\"}, \"mode\": \"markers\", \"name\": \"KREDS, Lyra2REv2\", \"scene\": \"scene\", \"showlegend\": true, \"type\": \"scatter3d\", \"x\": [-0.19157315491240262], \"y\": [-1.1871908126394128], \"z\": [0.22113300891226587]}, {\"hovertemplate\": \"CoinName=Tokyo Coin<br>Algorithm=X13<br>0=%{x}<br>1=%{y}<br>2=%{z}<extra></extra>\", \"legendgroup\": \"Tokyo Coin, X13\", \"marker\": {\"color\": \"#FF6692\", \"symbol\": \"diamond\"}, \"mode\": \"markers\", \"name\": \"Tokyo Coin, X13\", \"scene\": \"scene\", \"showlegend\": true, \"type\": \"scatter3d\", \"x\": [-0.17808367979553613], \"y\": [1.687569841436439], \"z\": [-0.39669111580426236]}, {\"hovertemplate\": \"CoinName=BiblePay<br>Algorithm=Proof-of-BibleHash<br>0=%{x}<br>1=%{y}<br>2=%{z}<extra></extra>\", \"legendgroup\": \"BiblePay, Proof-of-BibleHash\", \"marker\": {\"color\": \"#B6E880\", \"symbol\": \"circle\"}, \"mode\": \"markers\", \"name\": \"BiblePay, Proof-of-BibleHash\", \"scene\": \"scene\", \"showlegend\": true, \"type\": \"scatter3d\", \"x\": [-0.18968020652802314], \"y\": [3.349705478686334], \"z\": [13.042731484789964]}, {\"hovertemplate\": \"CoinName=LitecoinCash<br>Algorithm=SHA-256 + Hive<br>0=%{x}<br>1=%{y}<br>2=%{z}<extra></extra>\", \"legendgroup\": \"LitecoinCash, SHA-256 + Hive\", \"marker\": {\"color\": \"#FF97FF\", \"symbol\": \"diamond\"}, \"mode\": \"markers\", \"name\": \"LitecoinCash, SHA-256 + Hive\", \"scene\": \"scene\", \"showlegend\": true, \"type\": \"scatter3d\", \"x\": [-0.3433652568610013], \"y\": [3.38862653490132], \"z\": [13.20719092615281]}, {\"hovertemplate\": \"CoinName=BitFlip<br>Algorithm=Scrypt<br>0=%{x}<br>1=%{y}<br>2=%{z}<extra></extra>\", \"legendgroup\": \"BitFlip, Scrypt\", \"marker\": {\"color\": \"#FECB52\", \"symbol\": \"circle\"}, \"mode\": \"markers\", \"name\": \"BitFlip, Scrypt\", \"scene\": \"scene\", \"showlegend\": true, \"type\": \"scatter3d\", \"x\": [-0.18401203480355086], \"y\": [-1.1474065668763862], \"z\": [0.023110712549762782]}, {\"hovertemplate\": \"CoinName=LottoCoin<br>Algorithm=Scrypt<br>0=%{x}<br>1=%{y}<br>2=%{z}<extra></extra>\", \"legendgroup\": \"LottoCoin, Scrypt\", \"marker\": {\"color\": \"#636efa\", \"symbol\": \"circle\"}, \"mode\": \"markers\", \"name\": \"LottoCoin, Scrypt\", \"scene\": \"scene\", \"showlegend\": true, \"type\": \"scatter3d\", \"x\": [0.11320373316079153], \"y\": [-1.1526748102675044], \"z\": [0.018351943031333046]}, {\"hovertemplate\": \"CoinName=Crypto Improvement Fund<br>Algorithm=X11<br>0=%{x}<br>1=%{y}<br>2=%{z}<extra></extra>\", \"legendgroup\": \"Crypto Improvement Fund, X11\", \"marker\": {\"color\": \"#EF553B\", \"symbol\": \"x\"}, \"mode\": \"markers\", \"name\": \"Crypto Improvement Fund, X11\", \"scene\": \"scene\", \"showlegend\": true, \"type\": \"scatter3d\", \"x\": [-0.23004611196660552], \"y\": [-0.904137981292379], \"z\": [0.06535796594842663]}, {\"hovertemplate\": \"CoinName=Stipend<br>Algorithm=C11<br>0=%{x}<br>1=%{y}<br>2=%{z}<extra></extra>\", \"legendgroup\": \"Stipend, C11\", \"marker\": {\"color\": \"#00cc96\", \"symbol\": \"x\"}, \"mode\": \"markers\", \"name\": \"Stipend, C11\", \"scene\": \"scene\", \"showlegend\": true, \"type\": \"scatter3d\", \"x\": [-0.3465618369640006], \"y\": [0.9464663858742336], \"z\": [-0.4807945620495314]}, {\"hovertemplate\": \"CoinName=Poa Network<br>Algorithm=Proof-of-Authority<br>0=%{x}<br>1=%{y}<br>2=%{z}<extra></extra>\", \"legendgroup\": \"Poa Network, Proof-of-Authority\", \"marker\": {\"color\": \"#ab63fa\", \"symbol\": \"square\"}, \"mode\": \"markers\", \"name\": \"Poa Network, Proof-of-Authority\", \"scene\": \"scene\", \"showlegend\": true, \"type\": \"scatter3d\", \"x\": [-0.37601093017350284], \"y\": [3.3921125649714727], \"z\": [13.258023282731404]}, {\"hovertemplate\": \"CoinName=Pushi<br>Algorithm=X11<br>0=%{x}<br>1=%{y}<br>2=%{z}<extra></extra>\", \"legendgroup\": \"Pushi, X11\", \"marker\": {\"color\": \"#FFA15A\", \"symbol\": \"x\"}, \"mode\": \"markers\", \"name\": \"Pushi, X11\", \"scene\": \"scene\", \"showlegend\": true, \"type\": \"scatter3d\", \"x\": [-0.36848073182278596], \"y\": [1.209460945474829], \"z\": [-0.5648113581716271]}, {\"hovertemplate\": \"CoinName=Ellerium<br>Algorithm=XEVAN<br>0=%{x}<br>1=%{y}<br>2=%{z}<extra></extra>\", \"legendgroup\": \"Ellerium, XEVAN\", \"marker\": {\"color\": \"#19d3f3\", \"symbol\": \"x\"}, \"mode\": \"markers\", \"name\": \"Ellerium, XEVAN\", \"scene\": \"scene\", \"showlegend\": true, \"type\": \"scatter3d\", \"x\": [-0.28776419149615146], \"y\": [1.5048704869776723], \"z\": [-0.5325735317234553]}, {\"hovertemplate\": \"CoinName=Velox<br>Algorithm=Scrypt<br>0=%{x}<br>1=%{y}<br>2=%{z}<extra></extra>\", \"legendgroup\": \"Velox, Scrypt\", \"marker\": {\"color\": \"#FF6692\", \"symbol\": \"circle\"}, \"mode\": \"markers\", \"name\": \"Velox, Scrypt\", \"scene\": \"scene\", \"showlegend\": true, \"type\": \"scatter3d\", \"x\": [-0.2754656251345452], \"y\": [0.881156659013031], \"z\": [-0.31848662601228084]}, {\"hovertemplate\": \"CoinName=Ontology<br>Algorithm=VBFT<br>0=%{x}<br>1=%{y}<br>2=%{z}<extra></extra>\", \"legendgroup\": \"Ontology, VBFT\", \"marker\": {\"color\": \"#B6E880\", \"symbol\": \"cross\"}, \"mode\": \"markers\", \"name\": \"Ontology, VBFT\", \"scene\": \"scene\", \"showlegend\": true, \"type\": \"scatter3d\", \"x\": [-0.29792140507808396], \"y\": [1.7387847391646212], \"z\": [-0.21855696246770207]}, {\"hovertemplate\": \"CoinName=Callisto Network<br>Algorithm=Ethash<br>0=%{x}<br>1=%{y}<br>2=%{z}<extra></extra>\", \"legendgroup\": \"Callisto Network, Ethash\", \"marker\": {\"color\": \"#FF97FF\", \"symbol\": \"cross\"}, \"mode\": \"markers\", \"name\": \"Callisto Network, Ethash\", \"scene\": \"scene\", \"showlegend\": true, \"type\": \"scatter3d\", \"x\": [-0.1284824808664409], \"y\": [-1.9177863853766965], \"z\": [0.4257534693091624]}, {\"hovertemplate\": \"CoinName=BitTube<br>Algorithm=CryptoNight<br>0=%{x}<br>1=%{y}<br>2=%{z}<extra></extra>\", \"legendgroup\": \"BitTube, CryptoNight\", \"marker\": {\"color\": \"#FECB52\", \"symbol\": \"diamond\"}, \"mode\": \"markers\", \"name\": \"BitTube, CryptoNight\", \"scene\": \"scene\", \"showlegend\": true, \"type\": \"scatter3d\", \"x\": [0.25777438711504774], \"y\": [-2.2315746180322624], \"z\": [0.4734063035868941]}, {\"hovertemplate\": \"CoinName=Poseidon<br>Algorithm=Scrypt<br>0=%{x}<br>1=%{y}<br>2=%{z}<extra></extra>\", \"legendgroup\": \"Poseidon, Scrypt\", \"marker\": {\"color\": \"#636efa\", \"symbol\": \"circle\"}, \"mode\": \"markers\", \"name\": \"Poseidon, Scrypt\", \"scene\": \"scene\", \"showlegend\": true, \"type\": \"scatter3d\", \"x\": [-0.18424085747688448], \"y\": [-1.1473990097474605], \"z\": [0.02311373087620845]}, {\"hovertemplate\": \"CoinName=Aidos Kuneen<br>Algorithm=IMesh<br>0=%{x}<br>1=%{y}<br>2=%{z}<extra></extra>\", \"legendgroup\": \"Aidos Kuneen, IMesh\", \"marker\": {\"color\": \"#EF553B\", \"symbol\": \"circle\"}, \"mode\": \"markers\", \"name\": \"Aidos Kuneen, IMesh\", \"scene\": \"scene\", \"showlegend\": true, \"type\": \"scatter3d\", \"x\": [-0.17593889933191476], \"y\": [-2.1208494786578966], \"z\": [0.46311943741565686]}, {\"hovertemplate\": \"CoinName=Bitspace<br>Algorithm=NIST5<br>0=%{x}<br>1=%{y}<br>2=%{z}<extra></extra>\", \"legendgroup\": \"Bitspace, NIST5\", \"marker\": {\"color\": \"#00cc96\", \"symbol\": \"x\"}, \"mode\": \"markers\", \"name\": \"Bitspace, NIST5\", \"scene\": \"scene\", \"showlegend\": true, \"type\": \"scatter3d\", \"x\": [-0.33144115548240904], \"y\": [1.4822778878412066], \"z\": [-0.6311883870313876]}, {\"hovertemplate\": \"CoinName=Briacoin<br>Algorithm=Scrypt<br>0=%{x}<br>1=%{y}<br>2=%{z}<extra></extra>\", \"legendgroup\": \"Briacoin, Scrypt\", \"marker\": {\"color\": \"#ab63fa\", \"symbol\": \"circle\"}, \"mode\": \"markers\", \"name\": \"Briacoin, Scrypt\", \"scene\": \"scene\", \"showlegend\": true, \"type\": \"scatter3d\", \"x\": [-0.3171187655164333], \"y\": [0.9660195664551549], \"z\": [-0.6071294736812785]}, {\"hovertemplate\": \"CoinName=Ignition<br>Algorithm=Scrypt<br>0=%{x}<br>1=%{y}<br>2=%{z}<extra></extra>\", \"legendgroup\": \"Ignition, Scrypt\", \"marker\": {\"color\": \"#FFA15A\", \"symbol\": \"circle\"}, \"mode\": \"markers\", \"name\": \"Ignition, Scrypt\", \"scene\": \"scene\", \"showlegend\": true, \"type\": \"scatter3d\", \"x\": [-0.3171011726103292], \"y\": [0.9660185969491918], \"z\": [-0.6071296341330218]}, {\"hovertemplate\": \"CoinName=Bitrolium<br>Algorithm=Equihash<br>0=%{x}<br>1=%{y}<br>2=%{z}<extra></extra>\", \"legendgroup\": \"Bitrolium, Equihash\", \"marker\": {\"color\": \"#19d3f3\", \"symbol\": \"circle\"}, \"mode\": \"markers\", \"name\": \"Bitrolium, Equihash\", \"scene\": \"scene\", \"showlegend\": true, \"type\": \"scatter3d\", \"x\": [-0.17114762766892683], \"y\": [-1.9528588777336164], \"z\": [0.44889949957193986]}, {\"hovertemplate\": \"CoinName=MedicCoin<br>Algorithm=Scrypt<br>0=%{x}<br>1=%{y}<br>2=%{z}<extra></extra>\", \"legendgroup\": \"MedicCoin, Scrypt\", \"marker\": {\"color\": \"#FF6692\", \"symbol\": \"circle\"}, \"mode\": \"markers\", \"name\": \"MedicCoin, Scrypt\", \"scene\": \"scene\", \"showlegend\": true, \"type\": \"scatter3d\", \"x\": [-0.27003238156422754], \"y\": [0.8810313587232927], \"z\": [-0.31856827387023395]}, {\"hovertemplate\": \"CoinName=Alpenschillling<br>Algorithm=Lyra2Z<br>0=%{x}<br>1=%{y}<br>2=%{z}<extra></extra>\", \"legendgroup\": \"Alpenschillling, Lyra2Z\", \"marker\": {\"color\": \"#B6E880\", \"symbol\": \"diamond\"}, \"mode\": \"markers\", \"name\": \"Alpenschillling, Lyra2Z\", \"scene\": \"scene\", \"showlegend\": true, \"type\": \"scatter3d\", \"x\": [-0.17441757775167346], \"y\": [-2.1327560390815647], \"z\": [0.465930089470803]}, {\"hovertemplate\": \"CoinName=Bitcoin Green<br>Algorithm=Green Protocol<br>0=%{x}<br>1=%{y}<br>2=%{z}<extra></extra>\", \"legendgroup\": \"Bitcoin Green, Green Protocol\", \"marker\": {\"color\": \"#FF97FF\", \"symbol\": \"diamond\"}, \"mode\": \"markers\", \"name\": \"Bitcoin Green, Green Protocol\", \"scene\": \"scene\", \"showlegend\": true, \"type\": \"scatter3d\", \"x\": [-0.3202326266470939], \"y\": [1.7393984803843257], \"z\": [-0.21812628056967343]}, {\"hovertemplate\": \"CoinName=Deviant Coin<br>Algorithm=PoS<br>0=%{x}<br>1=%{y}<br>2=%{z}<extra></extra>\", \"legendgroup\": \"Deviant Coin, PoS\", \"marker\": {\"color\": \"#FECB52\", \"symbol\": \"square\"}, \"mode\": \"markers\", \"name\": \"Deviant Coin, PoS\", \"scene\": \"scene\", \"showlegend\": true, \"type\": \"scatter3d\", \"x\": [-0.3248821610481234], \"y\": [1.8027566519539917], \"z\": [-0.220275725706405]}, {\"hovertemplate\": \"CoinName=Abjcoin<br>Algorithm=Scrypt<br>0=%{x}<br>1=%{y}<br>2=%{z}<extra></extra>\", \"legendgroup\": \"Abjcoin, Scrypt\", \"marker\": {\"color\": \"#636efa\", \"symbol\": \"circle\"}, \"mode\": \"markers\", \"name\": \"Abjcoin, Scrypt\", \"scene\": \"scene\", \"showlegend\": true, \"type\": \"scatter3d\", \"x\": [-0.3168277555156866], \"y\": [0.9660079119786116], \"z\": [-0.6071329356040903]}, {\"hovertemplate\": \"CoinName=Semux<br>Algorithm=Semux BFT consensus<br>0=%{x}<br>1=%{y}<br>2=%{z}<extra></extra>\", \"legendgroup\": \"Semux, Semux BFT consensus\", \"marker\": {\"color\": \"#EF553B\", \"symbol\": \"square\"}, \"mode\": \"markers\", \"name\": \"Semux, Semux BFT consensus\", \"scene\": \"scene\", \"showlegend\": true, \"type\": \"scatter3d\", \"x\": [4.504287712455207], \"y\": [1.7799400231428841], \"z\": [-0.27728255297652005]}, {\"hovertemplate\": \"CoinName=FuturoCoin<br>Algorithm=X11<br>0=%{x}<br>1=%{y}<br>2=%{z}<extra></extra>\", \"legendgroup\": \"FuturoCoin, X11\", \"marker\": {\"color\": \"#00cc96\", \"symbol\": \"x\"}, \"mode\": \"markers\", \"name\": \"FuturoCoin, X11\", \"scene\": \"scene\", \"showlegend\": true, \"type\": \"scatter3d\", \"x\": [-0.23490109227893569], \"y\": [-0.9039798930818914], \"z\": [0.06542242174930375]}, {\"hovertemplate\": \"CoinName=Carebit<br>Algorithm=Quark<br>0=%{x}<br>1=%{y}<br>2=%{z}<extra></extra>\", \"legendgroup\": \"Carebit, Quark\", \"marker\": {\"color\": \"#ab63fa\", \"symbol\": \"cross\"}, \"mode\": \"markers\", \"name\": \"Carebit, Quark\", \"scene\": \"scene\", \"showlegend\": true, \"type\": \"scatter3d\", \"x\": [-0.3668034084681305], \"y\": [1.7471126982527356], \"z\": [-0.6008901959826463]}, {\"hovertemplate\": \"CoinName=Zealium<br>Algorithm=PoS<br>0=%{x}<br>1=%{y}<br>2=%{z}<extra></extra>\", \"legendgroup\": \"Zealium, PoS\", \"marker\": {\"color\": \"#FFA15A\", \"symbol\": \"square\"}, \"mode\": \"markers\", \"name\": \"Zealium, PoS\", \"scene\": \"scene\", \"showlegend\": true, \"type\": \"scatter3d\", \"x\": [-0.3250651601069608], \"y\": [1.8027575117744394], \"z\": [-0.22027235624279537]}, {\"hovertemplate\": \"CoinName=Monero Classic<br>Algorithm=CryptoNight<br>0=%{x}<br>1=%{y}<br>2=%{z}<extra></extra>\", \"legendgroup\": \"Monero Classic, CryptoNight\", \"marker\": {\"color\": \"#19d3f3\", \"symbol\": \"diamond\"}, \"mode\": \"markers\", \"name\": \"Monero Classic, CryptoNight\", \"scene\": \"scene\", \"showlegend\": true, \"type\": \"scatter3d\", \"x\": [0.2503444055248822], \"y\": [-2.231066503043249], \"z\": [0.47345587940862854]}, {\"hovertemplate\": \"CoinName=Proton<br>Algorithm=X16R<br>0=%{x}<br>1=%{y}<br>2=%{z}<extra></extra>\", \"legendgroup\": \"Proton, X16R\", \"marker\": {\"color\": \"#FF6692\", \"symbol\": \"x\"}, \"mode\": \"markers\", \"name\": \"Proton, X16R\", \"scene\": \"scene\", \"showlegend\": true, \"type\": \"scatter3d\", \"x\": [-0.3006460170809561], \"y\": [0.8418526676641933], \"z\": [-0.12018308137660581]}, {\"hovertemplate\": \"CoinName=iDealCash<br>Algorithm=Scrypt<br>0=%{x}<br>1=%{y}<br>2=%{z}<extra></extra>\", \"legendgroup\": \"iDealCash, Scrypt\", \"marker\": {\"color\": \"#B6E880\", \"symbol\": \"circle\"}, \"mode\": \"markers\", \"name\": \"iDealCash, Scrypt\", \"scene\": \"scene\", \"showlegend\": true, \"type\": \"scatter3d\", \"x\": [-0.2656339642627489], \"y\": [0.9637111532627721], \"z\": [-0.6076965045494158]}, {\"hovertemplate\": \"CoinName=Jumpcoin<br>Algorithm=NIST5<br>0=%{x}<br>1=%{y}<br>2=%{z}<extra></extra>\", \"legendgroup\": \"Jumpcoin, NIST5\", \"marker\": {\"color\": \"#FF97FF\", \"symbol\": \"x\"}, \"mode\": \"markers\", \"name\": \"Jumpcoin, NIST5\", \"scene\": \"scene\", \"showlegend\": true, \"type\": \"scatter3d\", \"x\": [-0.19883415796365478], \"y\": [-0.6311140856290441], \"z\": [-0.0009448635319358698]}, {\"hovertemplate\": \"CoinName=Infinex<br>Algorithm=Lyra2RE<br>0=%{x}<br>1=%{y}<br>2=%{z}<extra></extra>\", \"legendgroup\": \"Infinex, Lyra2RE\", \"marker\": {\"color\": \"#FECB52\", \"symbol\": \"diamond\"}, \"mode\": \"markers\", \"name\": \"Infinex, Lyra2RE\", \"scene\": \"scene\", \"showlegend\": true, \"type\": \"scatter3d\", \"x\": [-0.17685119273384906], \"y\": [-2.1325809302649463], \"z\": [0.46594869505181813]}, {\"hovertemplate\": \"CoinName=Bitcoin Incognito<br>Algorithm=XEVAN<br>0=%{x}<br>1=%{y}<br>2=%{z}<extra></extra>\", \"legendgroup\": \"Bitcoin Incognito, XEVAN\", \"marker\": {\"color\": \"#636efa\", \"symbol\": \"x\"}, \"mode\": \"markers\", \"name\": \"Bitcoin Incognito, XEVAN\", \"scene\": \"scene\", \"showlegend\": true, \"type\": \"scatter3d\", \"x\": [-0.23694926322920135], \"y\": [1.292360864776234], \"z\": [-0.1934195507163019]}, {\"hovertemplate\": \"CoinName=KEYCO<br>Algorithm=Tribus<br>0=%{x}<br>1=%{y}<br>2=%{z}<extra></extra>\", \"legendgroup\": \"KEYCO, Tribus\", \"marker\": {\"color\": \"#EF553B\", \"symbol\": \"cross\"}, \"mode\": \"markers\", \"name\": \"KEYCO, Tribus\", \"scene\": \"scene\", \"showlegend\": true, \"type\": \"scatter3d\", \"x\": [-0.17646345068860209], \"y\": [-2.120857008599693], \"z\": [0.4631338054491981]}, {\"hovertemplate\": \"CoinName=HollyWoodCoin<br>Algorithm=Scrypt<br>0=%{x}<br>1=%{y}<br>2=%{z}<extra></extra>\", \"legendgroup\": \"HollyWoodCoin, Scrypt\", \"marker\": {\"color\": \"#00cc96\", \"symbol\": \"circle\"}, \"mode\": \"markers\", \"name\": \"HollyWoodCoin, Scrypt\", \"scene\": \"scene\", \"showlegend\": true, \"type\": \"scatter3d\", \"x\": [-0.2759747835724362], \"y\": [0.8812136216996147], \"z\": [-0.3184873104051692]}, {\"hovertemplate\": \"CoinName=GINcoin<br>Algorithm=Lyra2Z<br>0=%{x}<br>1=%{y}<br>2=%{z}<extra></extra>\", \"legendgroup\": \"GINcoin, Lyra2Z\", \"marker\": {\"color\": \"#ab63fa\", \"symbol\": \"diamond\"}, \"mode\": \"markers\", \"name\": \"GINcoin, Lyra2Z\", \"scene\": \"scene\", \"showlegend\": true, \"type\": \"scatter3d\", \"x\": [-0.17662637898430006], \"y\": [-2.1326066514411535], \"z\": [0.46594513456386455]}, {\"hovertemplate\": \"CoinName=PlatinCoin<br>Algorithm=CryptoNight<br>0=%{x}<br>1=%{y}<br>2=%{z}<extra></extra>\", \"legendgroup\": \"PlatinCoin, CryptoNight\", \"marker\": {\"color\": \"#FFA15A\", \"symbol\": \"diamond\"}, \"mode\": \"markers\", \"name\": \"PlatinCoin, CryptoNight\", \"scene\": \"scene\", \"showlegend\": true, \"type\": \"scatter3d\", \"x\": [0.2541049889010683], \"y\": [-2.231384758824681], \"z\": [0.4734420465510813]}, {\"hovertemplate\": \"CoinName=Loki<br>Algorithm=CryptoNight Heavy<br>0=%{x}<br>1=%{y}<br>2=%{z}<extra></extra>\", \"legendgroup\": \"Loki, CryptoNight Heavy\", \"marker\": {\"color\": \"#19d3f3\", \"symbol\": \"circle\"}, \"mode\": \"markers\", \"name\": \"Loki, CryptoNight Heavy\", \"scene\": \"scene\", \"showlegend\": true, \"type\": \"scatter3d\", \"x\": [0.511966482189029], \"y\": [-2.155437289675167], \"z\": [0.44679815425948916]}, {\"hovertemplate\": \"CoinName=Newton Coin<br>Algorithm=CryptoNight<br>0=%{x}<br>1=%{y}<br>2=%{z}<extra></extra>\", \"legendgroup\": \"Newton Coin, CryptoNight\", \"marker\": {\"color\": \"#FF6692\", \"symbol\": \"diamond\"}, \"mode\": \"markers\", \"name\": \"Newton Coin, CryptoNight\", \"scene\": \"scene\", \"showlegend\": true, \"type\": \"scatter3d\", \"x\": [1.9916833488580283], \"y\": [-2.316957211319312], \"z\": [0.45571805928065334]}, {\"hovertemplate\": \"CoinName=Swisscoin<br>Algorithm=Scrypt<br>0=%{x}<br>1=%{y}<br>2=%{z}<extra></extra>\", \"legendgroup\": \"Swisscoin, Scrypt\", \"marker\": {\"color\": \"#B6E880\", \"symbol\": \"circle\"}, \"mode\": \"markers\", \"name\": \"Swisscoin, Scrypt\", \"scene\": \"scene\", \"showlegend\": true, \"type\": \"scatter3d\", \"x\": [-0.12637008326711607], \"y\": [0.9637845237524431], \"z\": [-0.6103948368384331]}, {\"hovertemplate\": \"CoinName=Xt3ch<br>Algorithm=Scrypt<br>0=%{x}<br>1=%{y}<br>2=%{z}<extra></extra>\", \"legendgroup\": \"Xt3ch, Scrypt\", \"marker\": {\"color\": \"#FF97FF\", \"symbol\": \"circle\"}, \"mode\": \"markers\", \"name\": \"Xt3ch, Scrypt\", \"scene\": \"scene\", \"showlegend\": true, \"type\": \"scatter3d\", \"x\": [-0.27622269804793964], \"y\": [0.881194009393161], \"z\": [-0.3184789157292198]}, {\"hovertemplate\": \"CoinName=MassGrid<br>Algorithm=Jump Consistent Hash<br>0=%{x}<br>1=%{y}<br>2=%{z}<extra></extra>\", \"legendgroup\": \"MassGrid, Jump Consistent Hash\", \"marker\": {\"color\": \"#FECB52\", \"symbol\": \"diamond\"}, \"mode\": \"markers\", \"name\": \"MassGrid, Jump Consistent Hash\", \"scene\": \"scene\", \"showlegend\": true, \"type\": \"scatter3d\", \"x\": [-0.17235947779159055], \"y\": [-2.120928662351993], \"z\": [0.46304661777621847]}, {\"hovertemplate\": \"CoinName=TheVig<br>Algorithm=SHA-256D<br>0=%{x}<br>1=%{y}<br>2=%{z}<extra></extra>\", \"legendgroup\": \"TheVig, SHA-256D\", \"marker\": {\"color\": \"#636efa\", \"symbol\": \"circle\"}, \"mode\": \"markers\", \"name\": \"TheVig, SHA-256D\", \"scene\": \"scene\", \"showlegend\": true, \"type\": \"scatter3d\", \"x\": [-0.3163239178841441], \"y\": [1.9088142351509083], \"z\": [-0.8004708120319176]}, {\"hovertemplate\": \"CoinName=PluraCoin<br>Algorithm=CryptoNight<br>0=%{x}<br>1=%{y}<br>2=%{z}<extra></extra>\", \"legendgroup\": \"PluraCoin, CryptoNight\", \"marker\": {\"color\": \"#EF553B\", \"symbol\": \"diamond\"}, \"mode\": \"markers\", \"name\": \"PluraCoin, CryptoNight\", \"scene\": \"scene\", \"showlegend\": true, \"type\": \"scatter3d\", \"x\": [0.26349239632672555], \"y\": [-2.2314213861402403], \"z\": [0.473267822533335]}, {\"hovertemplate\": \"CoinName=EmaratCoin<br>Algorithm=Scrypt<br>0=%{x}<br>1=%{y}<br>2=%{z}<extra></extra>\", \"legendgroup\": \"EmaratCoin, Scrypt\", \"marker\": {\"color\": \"#00cc96\", \"symbol\": \"circle\"}, \"mode\": \"markers\", \"name\": \"EmaratCoin, Scrypt\", \"scene\": \"scene\", \"showlegend\": true, \"type\": \"scatter3d\", \"x\": [-0.31632138482409283], \"y\": [0.9659825757663085], \"z\": [-0.6071380273442124]}, {\"hovertemplate\": \"CoinName=Dekado<br>Algorithm=X15<br>0=%{x}<br>1=%{y}<br>2=%{z}<extra></extra>\", \"legendgroup\": \"Dekado, X15\", \"marker\": {\"color\": \"#ab63fa\", \"symbol\": \"x\"}, \"mode\": \"markers\", \"name\": \"Dekado, X15\", \"scene\": \"scene\", \"showlegend\": true, \"type\": \"scatter3d\", \"x\": [-0.18209287128396978], \"y\": [1.7989276786610022], \"z\": [-0.44103393670965546]}, {\"hovertemplate\": \"CoinName=Lynx<br>Algorithm=Scrypt<br>0=%{x}<br>1=%{y}<br>2=%{z}<extra></extra>\", \"legendgroup\": \"Lynx, Scrypt\", \"marker\": {\"color\": \"#FFA15A\", \"symbol\": \"circle\"}, \"mode\": \"markers\", \"name\": \"Lynx, Scrypt\", \"scene\": \"scene\", \"showlegend\": true, \"type\": \"scatter3d\", \"x\": [2.142036859362671], \"y\": [0.21996588518099794], \"z\": [-0.39272285661723244]}, {\"hovertemplate\": \"CoinName=Poseidon Quark<br>Algorithm=Quark<br>0=%{x}<br>1=%{y}<br>2=%{z}<extra></extra>\", \"legendgroup\": \"Poseidon Quark, Quark\", \"marker\": {\"color\": \"#19d3f3\", \"symbol\": \"cross\"}, \"mode\": \"markers\", \"name\": \"Poseidon Quark, Quark\", \"scene\": \"scene\", \"showlegend\": true, \"type\": \"scatter3d\", \"x\": [-0.32484229835990774], \"y\": [1.6620210054466207], \"z\": [-0.31221111230057325]}, {\"hovertemplate\": \"CoinName=BitcoinWSpectrum<br>Algorithm=SHA-256<br>0=%{x}<br>1=%{y}<br>2=%{z}<extra></extra>\", \"legendgroup\": \"BitcoinWSpectrum, SHA-256\", \"marker\": {\"color\": \"#FF6692\", \"symbol\": \"square\"}, \"mode\": \"markers\", \"name\": \"BitcoinWSpectrum, SHA-256\", \"scene\": \"scene\", \"showlegend\": true, \"type\": \"scatter3d\", \"x\": [-0.2477755822122198], \"y\": [0.7855976058977767], \"z\": [-0.1373854855092998]}, {\"hovertemplate\": \"CoinName=Muse<br>Algorithm=DPoS<br>0=%{x}<br>1=%{y}<br>2=%{z}<extra></extra>\", \"legendgroup\": \"Muse, DPoS\", \"marker\": {\"color\": \"#B6E880\", \"symbol\": \"x\"}, \"mode\": \"markers\", \"name\": \"Muse, DPoS\", \"scene\": \"scene\", \"showlegend\": true, \"type\": \"scatter3d\", \"x\": [1.087590579788488], \"y\": [1.7678471851968358], \"z\": [-0.24398510548505567]}, {\"hovertemplate\": \"CoinName=Motion<br>Algorithm=X16R<br>0=%{x}<br>1=%{y}<br>2=%{z}<extra></extra>\", \"legendgroup\": \"Motion, X16R\", \"marker\": {\"color\": \"#FF97FF\", \"symbol\": \"x\"}, \"mode\": \"markers\", \"name\": \"Motion, X16R\", \"scene\": \"scene\", \"showlegend\": true, \"type\": \"scatter3d\", \"x\": [-0.20857692378817355], \"y\": [-1.186738067808038], \"z\": [0.22140746216094298]}, {\"hovertemplate\": \"CoinName=PlusOneCoin<br>Algorithm=HMQ1725<br>0=%{x}<br>1=%{y}<br>2=%{z}<extra></extra>\", \"legendgroup\": \"PlusOneCoin, HMQ1725\", \"marker\": {\"color\": \"#FECB52\", \"symbol\": \"square\"}, \"mode\": \"markers\", \"name\": \"PlusOneCoin, HMQ1725\", \"scene\": \"scene\", \"showlegend\": true, \"type\": \"scatter3d\", \"x\": [-0.17628558790175802], \"y\": [-2.12085531427183], \"z\": [0.46312909952679143]}, {\"hovertemplate\": \"CoinName=Axe<br>Algorithm=X11<br>0=%{x}<br>1=%{y}<br>2=%{z}<extra></extra>\", \"legendgroup\": \"Axe, X11\", \"marker\": {\"color\": \"#636efa\", \"symbol\": \"x\"}, \"mode\": \"markers\", \"name\": \"Axe, X11\", \"scene\": \"scene\", \"showlegend\": true, \"type\": \"scatter3d\", \"x\": [-0.23575701003809377], \"y\": [-0.9039459120390921], \"z\": [0.0654326587068871]}, {\"hovertemplate\": \"CoinName=Trivechain<br>Algorithm=X16R<br>0=%{x}<br>1=%{y}<br>2=%{z}<extra></extra>\", \"legendgroup\": \"Trivechain, X16R\", \"marker\": {\"color\": \"#EF553B\", \"symbol\": \"x\"}, \"mode\": \"markers\", \"name\": \"Trivechain, X16R\", \"scene\": \"scene\", \"showlegend\": true, \"type\": \"scatter3d\", \"x\": [-0.340540408132185], \"y\": [0.9266484764334638], \"z\": [-0.40884746654914006]}, {\"hovertemplate\": \"CoinName=Dystem<br>Algorithm=Quark<br>0=%{x}<br>1=%{y}<br>2=%{z}<extra></extra>\", \"legendgroup\": \"Dystem, Quark\", \"marker\": {\"color\": \"#00cc96\", \"symbol\": \"cross\"}, \"mode\": \"markers\", \"name\": \"Dystem, Quark\", \"scene\": \"scene\", \"showlegend\": true, \"type\": \"scatter3d\", \"x\": [-0.32906260484113015], \"y\": [1.6623610919576313], \"z\": [-0.31219244081700953]}, {\"hovertemplate\": \"CoinName=Giant<br>Algorithm=Quark<br>0=%{x}<br>1=%{y}<br>2=%{z}<extra></extra>\", \"legendgroup\": \"Giant, Quark\", \"marker\": {\"color\": \"#ab63fa\", \"symbol\": \"cross\"}, \"mode\": \"markers\", \"name\": \"Giant, Quark\", \"scene\": \"scene\", \"showlegend\": true, \"type\": \"scatter3d\", \"x\": [-0.36972088027376315], \"y\": [1.7471749005717883], \"z\": [-0.6008454174037571]}, {\"hovertemplate\": \"CoinName=Peony Coin<br>Algorithm=Scrypt<br>0=%{x}<br>1=%{y}<br>2=%{z}<extra></extra>\", \"legendgroup\": \"Peony Coin, Scrypt\", \"marker\": {\"color\": \"#FFA15A\", \"symbol\": \"circle\"}, \"mode\": \"markers\", \"name\": \"Peony Coin, Scrypt\", \"scene\": \"scene\", \"showlegend\": true, \"type\": \"scatter3d\", \"x\": [-0.16194715001978943], \"y\": [0.8721263546602321], \"z\": [-0.319010494911793]}, {\"hovertemplate\": \"CoinName=Absolute Coin<br>Algorithm=Lyra2REv2<br>0=%{x}<br>1=%{y}<br>2=%{z}<extra></extra>\", \"legendgroup\": \"Absolute Coin, Lyra2REv2\", \"marker\": {\"color\": \"#19d3f3\", \"symbol\": \"circle\"}, \"mode\": \"markers\", \"name\": \"Absolute Coin, Lyra2REv2\", \"scene\": \"scene\", \"showlegend\": true, \"type\": \"scatter3d\", \"x\": [-0.3389150854046182], \"y\": [0.9265818905452557], \"z\": [-0.40889662819202477]}, {\"hovertemplate\": \"CoinName=Vitae<br>Algorithm=Quark<br>0=%{x}<br>1=%{y}<br>2=%{z}<extra></extra>\", \"legendgroup\": \"Vitae, Quark\", \"marker\": {\"color\": \"#FF6692\", \"symbol\": \"cross\"}, \"mode\": \"markers\", \"name\": \"Vitae, Quark\", \"scene\": \"scene\", \"showlegend\": true, \"type\": \"scatter3d\", \"x\": [-0.32782357350088076], \"y\": [1.6623373776382162], \"z\": [-0.31221195617383607]}, {\"hovertemplate\": \"CoinName=HexCoin<br>Algorithm=Scrypt<br>0=%{x}<br>1=%{y}<br>2=%{z}<extra></extra>\", \"legendgroup\": \"HexCoin, Scrypt\", \"marker\": {\"color\": \"#B6E880\", \"symbol\": \"circle\"}, \"mode\": \"markers\", \"name\": \"HexCoin, Scrypt\", \"scene\": \"scene\", \"showlegend\": true, \"type\": \"scatter3d\", \"x\": [-0.18426495830045309], \"y\": [-1.14740045192561], \"z\": [0.023114461349849694]}, {\"hovertemplate\": \"CoinName=TPCash<br>Algorithm=Scrypt<br>0=%{x}<br>1=%{y}<br>2=%{z}<extra></extra>\", \"legendgroup\": \"TPCash, Scrypt\", \"marker\": {\"color\": \"#FF97FF\", \"symbol\": \"circle\"}, \"mode\": \"markers\", \"name\": \"TPCash, Scrypt\", \"scene\": \"scene\", \"showlegend\": true, \"type\": \"scatter3d\", \"x\": [-0.3102926149468501], \"y\": [0.965484174517296], \"z\": [-0.6071623804030686]}, {\"hovertemplate\": \"CoinName=Webchain<br>Algorithm=CryptoNight-V7<br>0=%{x}<br>1=%{y}<br>2=%{z}<extra></extra>\", \"legendgroup\": \"Webchain, CryptoNight-V7\", \"marker\": {\"color\": \"#FECB52\", \"symbol\": \"circle\"}, \"mode\": \"markers\", \"name\": \"Webchain, CryptoNight-V7\", \"scene\": \"scene\", \"showlegend\": true, \"type\": \"scatter3d\", \"x\": [-0.16136927194711773], \"y\": [-2.1338280780000147], \"z\": [0.4658316804376581]}, {\"hovertemplate\": \"CoinName=Ryo<br>Algorithm=Cryptonight-GPU<br>0=%{x}<br>1=%{y}<br>2=%{z}<extra></extra>\", \"legendgroup\": \"Ryo, Cryptonight-GPU\", \"marker\": {\"color\": \"#636efa\", \"symbol\": \"x\"}, \"mode\": \"markers\", \"name\": \"Ryo, Cryptonight-GPU\", \"scene\": \"scene\", \"showlegend\": true, \"type\": \"scatter3d\", \"x\": [-0.17564268299900954], \"y\": [-2.1209264396693635], \"z\": [0.4631270136216027]}, {\"hovertemplate\": \"CoinName=Urals Coin<br>Algorithm=XEVAN<br>0=%{x}<br>1=%{y}<br>2=%{z}<extra></extra>\", \"legendgroup\": \"Urals Coin, XEVAN\", \"marker\": {\"color\": \"#EF553B\", \"symbol\": \"x\"}, \"mode\": \"markers\", \"name\": \"Urals Coin, XEVAN\", \"scene\": \"scene\", \"showlegend\": true, \"type\": \"scatter3d\", \"x\": [-0.15385746256050198], \"y\": [-0.6086156223019223], \"z\": [0.09766228737789868]}, {\"hovertemplate\": \"CoinName=Qwertycoin<br>Algorithm=CryptoNight Heavy<br>0=%{x}<br>1=%{y}<br>2=%{z}<extra></extra>\", \"legendgroup\": \"Qwertycoin, CryptoNight Heavy\", \"marker\": {\"color\": \"#00cc96\", \"symbol\": \"circle\"}, \"mode\": \"markers\", \"name\": \"Qwertycoin, CryptoNight Heavy\", \"scene\": \"scene\", \"showlegend\": true, \"type\": \"scatter3d\", \"x\": [2.9495198269146226], \"y\": [-2.2229145723837003], \"z\": [0.41224407589071277]}, {\"hovertemplate\": \"CoinName=ARENON<br>Algorithm=X11<br>0=%{x}<br>1=%{y}<br>2=%{z}<extra></extra>\", \"legendgroup\": \"ARENON, X11\", \"marker\": {\"color\": \"#ab63fa\", \"symbol\": \"x\"}, \"mode\": \"markers\", \"name\": \"ARENON, X11\", \"scene\": \"scene\", \"showlegend\": true, \"type\": \"scatter3d\", \"x\": [-0.32753648306833694], \"y\": [1.1246446048758358], \"z\": [-0.2761634280053298]}, {\"hovertemplate\": \"CoinName=EUNO<br>Algorithm=X11<br>0=%{x}<br>1=%{y}<br>2=%{z}<extra></extra>\", \"legendgroup\": \"EUNO, X11\", \"marker\": {\"color\": \"#FFA15A\", \"symbol\": \"x\"}, \"mode\": \"markers\", \"name\": \"EUNO, X11\", \"scene\": \"scene\", \"showlegend\": true, \"type\": \"scatter3d\", \"x\": [-0.36797021484120906], \"y\": [1.2094566143352639], \"z\": [-0.5648204018233968]}, {\"hovertemplate\": \"CoinName=MMOCoin<br>Algorithm=Scrypt<br>0=%{x}<br>1=%{y}<br>2=%{z}<extra></extra>\", \"legendgroup\": \"MMOCoin, Scrypt\", \"marker\": {\"color\": \"#19d3f3\", \"symbol\": \"circle\"}, \"mode\": \"markers\", \"name\": \"MMOCoin, Scrypt\", \"scene\": \"scene\", \"showlegend\": true, \"type\": \"scatter3d\", \"x\": [-0.2735628208842452], \"y\": [0.8811096651205786], \"z\": [-0.3185146467091175]}, {\"hovertemplate\": \"CoinName=Ketan<br>Algorithm=PoS<br>0=%{x}<br>1=%{y}<br>2=%{z}<extra></extra>\", \"legendgroup\": \"Ketan, PoS\", \"marker\": {\"color\": \"#FF6692\", \"symbol\": \"square\"}, \"mode\": \"markers\", \"name\": \"Ketan, PoS\", \"scene\": \"scene\", \"showlegend\": true, \"type\": \"scatter3d\", \"x\": [-0.32420299286268284], \"y\": [1.8026869536558006], \"z\": [-0.2202759712339189]}, {\"hovertemplate\": \"CoinName=Project Pai<br>Algorithm=SHA-256<br>0=%{x}<br>1=%{y}<br>2=%{z}<extra></extra>\", \"legendgroup\": \"Project Pai, SHA-256\", \"marker\": {\"color\": \"#B6E880\", \"symbol\": \"square\"}, \"mode\": \"markers\", \"name\": \"Project Pai, SHA-256\", \"scene\": \"scene\", \"showlegend\": true, \"type\": \"scatter3d\", \"x\": [-0.11768668690222178], \"y\": [-1.243431560764539], \"z\": [0.20355290923719896]}, {\"hovertemplate\": \"CoinName=XDNA<br>Algorithm=Keccak<br>0=%{x}<br>1=%{y}<br>2=%{z}<extra></extra>\", \"legendgroup\": \"XDNA, Keccak\", \"marker\": {\"color\": \"#FF97FF\", \"symbol\": \"x\"}, \"mode\": \"markers\", \"name\": \"XDNA, Keccak\", \"scene\": \"scene\", \"showlegend\": true, \"type\": \"scatter3d\", \"x\": [-0.3266359726468189], \"y\": [0.9453000175965848], \"z\": [-0.4812079102821022]}, {\"hovertemplate\": \"CoinName=PAXEX<br>Algorithm=X11<br>0=%{x}<br>1=%{y}<br>2=%{z}<extra></extra>\", \"legendgroup\": \"PAXEX, X11\", \"marker\": {\"color\": \"#FECB52\", \"symbol\": \"x\"}, \"mode\": \"markers\", \"name\": \"PAXEX, X11\", \"scene\": \"scene\", \"showlegend\": true, \"type\": \"scatter3d\", \"x\": [-0.3274067059181177], \"y\": [1.1246156609973512], \"z\": [-0.27616059454275077]}, {\"hovertemplate\": \"CoinName=Azart<br>Algorithm=X11<br>0=%{x}<br>1=%{y}<br>2=%{z}<extra></extra>\", \"legendgroup\": \"Azart, X11\", \"marker\": {\"color\": \"#636efa\", \"symbol\": \"x\"}, \"mode\": \"markers\", \"name\": \"Azart, X11\", \"scene\": \"scene\", \"showlegend\": true, \"type\": \"scatter3d\", \"x\": [-0.23572956892103747], \"y\": [-0.90394805859428], \"z\": [0.06543252536755195]}, {\"hovertemplate\": \"CoinName=ThunderStake<br>Algorithm=Scrypt<br>0=%{x}<br>1=%{y}<br>2=%{z}<extra></extra>\", \"legendgroup\": \"ThunderStake, Scrypt\", \"marker\": {\"color\": \"#EF553B\", \"symbol\": \"circle\"}, \"mode\": \"markers\", \"name\": \"ThunderStake, Scrypt\", \"scene\": \"scene\", \"showlegend\": true, \"type\": \"scatter3d\", \"x\": [-0.1822632817697511], \"y\": [0.9566669364112101], \"z\": [-0.6080052734332586]}, {\"hovertemplate\": \"CoinName=Kcash<br>Algorithm=SHA-512<br>0=%{x}<br>1=%{y}<br>2=%{z}<extra></extra>\", \"legendgroup\": \"Kcash, SHA-512\", \"marker\": {\"color\": \"#00cc96\", \"symbol\": \"diamond\"}, \"mode\": \"markers\", \"name\": \"Kcash, SHA-512\", \"scene\": \"scene\", \"showlegend\": true, \"type\": \"scatter3d\", \"x\": [-0.30485063887472], \"y\": [2.042745135325125], \"z\": [-0.07077834786426229]}, {\"hovertemplate\": \"CoinName=Xchange<br>Algorithm=X16R<br>0=%{x}<br>1=%{y}<br>2=%{z}<extra></extra>\", \"legendgroup\": \"Xchange, X16R\", \"marker\": {\"color\": \"#ab63fa\", \"symbol\": \"x\"}, \"mode\": \"markers\", \"name\": \"Xchange, X16R\", \"scene\": \"scene\", \"showlegend\": true, \"type\": \"scatter3d\", \"x\": [-0.20802825308289516], \"y\": [-1.1867795074721703], \"z\": [0.2214045233725374]}, {\"hovertemplate\": \"CoinName=Acute Angle Cloud<br>Algorithm=ECC 256K1<br>0=%{x}<br>1=%{y}<br>2=%{z}<extra></extra>\", \"legendgroup\": \"Acute Angle Cloud, ECC 256K1\", \"marker\": {\"color\": \"#FFA15A\", \"symbol\": \"cross\"}, \"mode\": \"markers\", \"name\": \"Acute Angle Cloud, ECC 256K1\", \"scene\": \"scene\", \"showlegend\": true, \"type\": \"scatter3d\", \"x\": [-0.32413894212490707], \"y\": [3.389200362819225], \"z\": [13.168519730640131]}, {\"hovertemplate\": \"CoinName=CrypticCoin<br>Algorithm=Equihash<br>0=%{x}<br>1=%{y}<br>2=%{z}<extra></extra>\", \"legendgroup\": \"CrypticCoin, Equihash\", \"marker\": {\"color\": \"#19d3f3\", \"symbol\": \"circle\"}, \"mode\": \"markers\", \"name\": \"CrypticCoin, Equihash\", \"scene\": \"scene\", \"showlegend\": true, \"type\": \"scatter3d\", \"x\": [-0.07040510514979739], \"y\": [-1.9555843923913965], \"z\": [0.44745973715562554]}, {\"hovertemplate\": \"CoinName=Bettex coin<br>Algorithm=XEVAN<br>0=%{x}<br>1=%{y}<br>2=%{z}<extra></extra>\", \"legendgroup\": \"Bettex coin, XEVAN\", \"marker\": {\"color\": \"#FF6692\", \"symbol\": \"x\"}, \"mode\": \"markers\", \"name\": \"Bettex coin, XEVAN\", \"scene\": \"scene\", \"showlegend\": true, \"type\": \"scatter3d\", \"x\": [-0.24721948586613565], \"y\": [1.42007225862956], \"z\": [-0.24392123766767523]}, {\"hovertemplate\": \"CoinName=Actinium<br>Algorithm=Lyra2Z<br>0=%{x}<br>1=%{y}<br>2=%{z}<extra></extra>\", \"legendgroup\": \"Actinium, Lyra2Z\", \"marker\": {\"color\": \"#B6E880\", \"symbol\": \"diamond\"}, \"mode\": \"markers\", \"name\": \"Actinium, Lyra2Z\", \"scene\": \"scene\", \"showlegend\": true, \"type\": \"scatter3d\", \"x\": [-0.17604795620793132], \"y\": [-2.1326441061799803], \"z\": [0.4659408876357351]}, {\"hovertemplate\": \"CoinName=Bitcoin SV<br>Algorithm=SHA-256<br>0=%{x}<br>1=%{y}<br>2=%{z}<extra></extra>\", \"legendgroup\": \"Bitcoin SV, SHA-256\", \"marker\": {\"color\": \"#FF97FF\", \"symbol\": \"square\"}, \"mode\": \"markers\", \"name\": \"Bitcoin SV, SHA-256\", \"scene\": \"scene\", \"showlegend\": true, \"type\": \"scatter3d\", \"x\": [-0.15660778686907492], \"y\": [-1.242976692252842], \"z\": [0.20421940377843206]}, {\"hovertemplate\": \"CoinName=BitMoney<br>Algorithm=XEVAN<br>0=%{x}<br>1=%{y}<br>2=%{z}<extra></extra>\", \"legendgroup\": \"BitMoney, XEVAN\", \"marker\": {\"color\": \"#FECB52\", \"symbol\": \"x\"}, \"mode\": \"markers\", \"name\": \"BitMoney, XEVAN\", \"scene\": \"scene\", \"showlegend\": true, \"type\": \"scatter3d\", \"x\": [0.5090777020206471], \"y\": [1.220777209134723], \"z\": [-0.19795556043187992]}, {\"hovertemplate\": \"CoinName=FREDEnergy<br>Algorithm=CryptoNight<br>0=%{x}<br>1=%{y}<br>2=%{z}<extra></extra>\", \"legendgroup\": \"FREDEnergy, CryptoNight\", \"marker\": {\"color\": \"#636efa\", \"symbol\": \"diamond\"}, \"mode\": \"markers\", \"name\": \"FREDEnergy, CryptoNight\", \"scene\": \"scene\", \"showlegend\": true, \"type\": \"scatter3d\", \"x\": [0.32714949693469775], \"y\": [-2.234816503732085], \"z\": [0.47266644524448115]}, {\"hovertemplate\": \"CoinName=HerbCoin<br>Algorithm=Quark<br>0=%{x}<br>1=%{y}<br>2=%{z}<extra></extra>\", \"legendgroup\": \"HerbCoin, Quark\", \"marker\": {\"color\": \"#EF553B\", \"symbol\": \"cross\"}, \"mode\": \"markers\", \"name\": \"HerbCoin, Quark\", \"scene\": \"scene\", \"showlegend\": true, \"type\": \"scatter3d\", \"x\": [-0.3690389723603119], \"y\": [1.747157979626446], \"z\": [-0.6008554444803443]}, {\"hovertemplate\": \"CoinName=Universal Molecule<br>Algorithm=Blake<br>0=%{x}<br>1=%{y}<br>2=%{z}<extra></extra>\", \"legendgroup\": \"Universal Molecule, Blake\", \"marker\": {\"color\": \"#00cc96\", \"symbol\": \"circle\"}, \"mode\": \"markers\", \"name\": \"Universal Molecule, Blake\", \"scene\": \"scene\", \"showlegend\": true, \"type\": \"scatter3d\", \"x\": [-0.16712041877497238], \"y\": [-2.1298368785960027], \"z\": [0.46492418866974206]}, {\"hovertemplate\": \"CoinName=Lithium<br>Algorithm=Blake<br>0=%{x}<br>1=%{y}<br>2=%{z}<extra></extra>\", \"legendgroup\": \"Lithium, Blake\", \"marker\": {\"color\": \"#ab63fa\", \"symbol\": \"circle\"}, \"mode\": \"markers\", \"name\": \"Lithium, Blake\", \"scene\": \"scene\", \"showlegend\": true, \"type\": \"scatter3d\", \"x\": [-0.16749309835721046], \"y\": [-2.1297893055849295], \"z\": [0.4649226040096127]}, {\"hovertemplate\": \"CoinName=PirateCash<br>Algorithm=Equihash<br>0=%{x}<br>1=%{y}<br>2=%{z}<extra></extra>\", \"legendgroup\": \"PirateCash, Equihash\", \"marker\": {\"color\": \"#FFA15A\", \"symbol\": \"circle\"}, \"mode\": \"markers\", \"name\": \"PirateCash, Equihash\", \"scene\": \"scene\", \"showlegend\": true, \"type\": \"scatter3d\", \"x\": [-0.26377980261444695], \"y\": [0.07570806789242755], \"z\": [0.10732419674883754]}, {\"hovertemplate\": \"CoinName=Exosis<br>Algorithm=Exosis<br>0=%{x}<br>1=%{y}<br>2=%{z}<extra></extra>\", \"legendgroup\": \"Exosis, Exosis\", \"marker\": {\"color\": \"#19d3f3\", \"symbol\": \"diamond\"}, \"mode\": \"markers\", \"name\": \"Exosis, Exosis\", \"scene\": \"scene\", \"showlegend\": true, \"type\": \"scatter3d\", \"x\": [-0.1764388695536788], \"y\": [-2.1208603190413364], \"z\": [0.4631338398730978]}, {\"hovertemplate\": \"CoinName=Block-Logic<br>Algorithm=Scrypt<br>0=%{x}<br>1=%{y}<br>2=%{z}<extra></extra>\", \"legendgroup\": \"Block-Logic, Scrypt\", \"marker\": {\"color\": \"#FF6692\", \"symbol\": \"circle\"}, \"mode\": \"markers\", \"name\": \"Block-Logic, Scrypt\", \"scene\": \"scene\", \"showlegend\": true, \"type\": \"scatter3d\", \"x\": [-0.18319661165734735], \"y\": [-1.1474423535800267], \"z\": [0.023101589117226762]}, {\"hovertemplate\": \"CoinName=Oduwa<br>Algorithm=Scrypt<br>0=%{x}<br>1=%{y}<br>2=%{z}<extra></extra>\", \"legendgroup\": \"Oduwa, Scrypt\", \"marker\": {\"color\": \"#B6E880\", \"symbol\": \"circle\"}, \"mode\": \"markers\", \"name\": \"Oduwa, Scrypt\", \"scene\": \"scene\", \"showlegend\": true, \"type\": \"scatter3d\", \"x\": [-0.31683055391950826], \"y\": [0.9660143213190561], \"z\": [-0.6071340631228083]}, {\"hovertemplate\": \"CoinName=Beam<br>Algorithm=Equihash<br>0=%{x}<br>1=%{y}<br>2=%{z}<extra></extra>\", \"legendgroup\": \"Beam, Equihash\", \"marker\": {\"color\": \"#FF97FF\", \"symbol\": \"circle\"}, \"mode\": \"markers\", \"name\": \"Beam, Equihash\", \"scene\": \"scene\", \"showlegend\": true, \"type\": \"scatter3d\", \"x\": [-0.170262947886319], \"y\": [-1.9529740787891188], \"z\": [0.4489036798421789]}, {\"hovertemplate\": \"CoinName=Galilel<br>Algorithm=Quark<br>0=%{x}<br>1=%{y}<br>2=%{z}<extra></extra>\", \"legendgroup\": \"Galilel, Quark\", \"marker\": {\"color\": \"#FECB52\", \"symbol\": \"cross\"}, \"mode\": \"markers\", \"name\": \"Galilel, Quark\", \"scene\": \"scene\", \"showlegend\": true, \"type\": \"scatter3d\", \"x\": [-0.36947951517023275], \"y\": [1.7471713648193705], \"z\": [-0.6008494188120229]}, {\"hovertemplate\": \"CoinName=Bithereum<br>Algorithm=Equihash<br>0=%{x}<br>1=%{y}<br>2=%{z}<extra></extra>\", \"legendgroup\": \"Bithereum, Equihash\", \"marker\": {\"color\": \"#636efa\", \"symbol\": \"circle\"}, \"mode\": \"markers\", \"name\": \"Bithereum, Equihash\", \"scene\": \"scene\", \"showlegend\": true, \"type\": \"scatter3d\", \"x\": [-0.1719636710151944], \"y\": [-1.952852565251798], \"z\": [0.4489140681016154]}, {\"hovertemplate\": \"CoinName=Crypto Sports<br>Algorithm=Quark<br>0=%{x}<br>1=%{y}<br>2=%{z}<extra></extra>\", \"legendgroup\": \"Crypto Sports, Quark\", \"marker\": {\"color\": \"#EF553B\", \"symbol\": \"cross\"}, \"mode\": \"markers\", \"name\": \"Crypto Sports, Quark\", \"scene\": \"scene\", \"showlegend\": true, \"type\": \"scatter3d\", \"x\": [-0.3291757468257741], \"y\": [1.6623635572381639], \"z\": [-0.31219071404043547]}, {\"hovertemplate\": \"CoinName=Credit<br>Algorithm=Scrypt<br>0=%{x}<br>1=%{y}<br>2=%{z}<extra></extra>\", \"legendgroup\": \"Credit, Scrypt\", \"marker\": {\"color\": \"#00cc96\", \"symbol\": \"circle\"}, \"mode\": \"markers\", \"name\": \"Credit, Scrypt\", \"scene\": \"scene\", \"showlegend\": true, \"type\": \"scatter3d\", \"x\": [0.5580934124150104], \"y\": [0.9355837610200587], \"z\": [-0.6183919124540462]}, {\"hovertemplate\": \"CoinName=SLICE<br>Algorithm=QuBit<br>0=%{x}<br>1=%{y}<br>2=%{z}<extra></extra>\", \"legendgroup\": \"SLICE, QuBit\", \"marker\": {\"color\": \"#ab63fa\", \"symbol\": \"cross\"}, \"mode\": \"markers\", \"name\": \"SLICE, QuBit\", \"scene\": \"scene\", \"showlegend\": true, \"type\": \"scatter3d\", \"x\": [-0.21294846062705877], \"y\": [-1.167016842184488], \"z\": [0.14944206715249836]}, {\"hovertemplate\": \"CoinName=Dash Platinum<br>Algorithm=X11<br>0=%{x}<br>1=%{y}<br>2=%{z}<extra></extra>\", \"legendgroup\": \"Dash Platinum, X11\", \"marker\": {\"color\": \"#FFA15A\", \"symbol\": \"x\"}, \"mode\": \"markers\", \"name\": \"Dash Platinum, X11\", \"scene\": \"scene\", \"showlegend\": true, \"type\": \"scatter3d\", \"x\": [-0.3279972549897537], \"y\": [1.124657690047643], \"z\": [-0.2761569570443128]}, {\"hovertemplate\": \"CoinName=Nasdacoin<br>Algorithm=Scrypt<br>0=%{x}<br>1=%{y}<br>2=%{z}<extra></extra>\", \"legendgroup\": \"Nasdacoin, Scrypt\", \"marker\": {\"color\": \"#19d3f3\", \"symbol\": \"circle\"}, \"mode\": \"markers\", \"name\": \"Nasdacoin, Scrypt\", \"scene\": \"scene\", \"showlegend\": true, \"type\": \"scatter3d\", \"x\": [-0.3163339254976282], \"y\": [0.9659822396998448], \"z\": [-0.6071377236291222]}, {\"hovertemplate\": \"CoinName=Beetle Coin<br>Algorithm=XEVAN<br>0=%{x}<br>1=%{y}<br>2=%{z}<extra></extra>\", \"legendgroup\": \"Beetle Coin, XEVAN\", \"marker\": {\"color\": \"#FF6692\", \"symbol\": \"x\"}, \"mode\": \"markers\", \"name\": \"Beetle Coin, XEVAN\", \"scene\": \"scene\", \"showlegend\": true, \"type\": \"scatter3d\", \"x\": [-0.28241093112051097], \"y\": [1.504696932480556], \"z\": [-0.5326447426648288]}, {\"hovertemplate\": \"CoinName=Titan Coin<br>Algorithm=SHA-256D<br>0=%{x}<br>1=%{y}<br>2=%{z}<extra></extra>\", \"legendgroup\": \"Titan Coin, SHA-256D\", \"marker\": {\"color\": \"#B6E880\", \"symbol\": \"circle\"}, \"mode\": \"markers\", \"name\": \"Titan Coin, SHA-256D\", \"scene\": \"scene\", \"showlegend\": true, \"type\": \"scatter3d\", \"x\": [-0.27276080064111846], \"y\": [1.9064512860034577], \"z\": [-0.8008750713115351]}, {\"hovertemplate\": \"CoinName=Award<br>Algorithm=X11<br>0=%{x}<br>1=%{y}<br>2=%{z}<extra></extra>\", \"legendgroup\": \"Award, X11\", \"marker\": {\"color\": \"#FF97FF\", \"symbol\": \"x\"}, \"mode\": \"markers\", \"name\": \"Award, X11\", \"scene\": \"scene\", \"showlegend\": true, \"type\": \"scatter3d\", \"x\": [-0.3656399426661854], \"y\": [1.2092524831366995], \"z\": [-0.5648276975295148]}, {\"hovertemplate\": \"CoinName=BLAST<br>Algorithm=SHA-256<br>0=%{x}<br>1=%{y}<br>2=%{z}<extra></extra>\", \"legendgroup\": \"BLAST, SHA-256\", \"marker\": {\"color\": \"#FECB52\", \"symbol\": \"square\"}, \"mode\": \"markers\", \"name\": \"BLAST, SHA-256\", \"scene\": \"scene\", \"showlegend\": true, \"type\": \"scatter3d\", \"x\": [-0.15590713711148055], \"y\": [-1.2429888968564309], \"z\": [0.2042081459975796]}, {\"hovertemplate\": \"CoinName=Bitcoin Rhodium<br>Algorithm=X13<br>0=%{x}<br>1=%{y}<br>2=%{z}<extra></extra>\", \"legendgroup\": \"Bitcoin Rhodium, X13\", \"marker\": {\"color\": \"#636efa\", \"symbol\": \"diamond\"}, \"mode\": \"markers\", \"name\": \"Bitcoin Rhodium, X13\", \"scene\": \"scene\", \"showlegend\": true, \"type\": \"scatter3d\", \"x\": [-0.0940520267728106], \"y\": [-0.34067792675726505], \"z\": [-0.055008842955846265]}, {\"hovertemplate\": \"CoinName=GlobalToken<br>Algorithm=SHA-256<br>0=%{x}<br>1=%{y}<br>2=%{z}<extra></extra>\", \"legendgroup\": \"GlobalToken, SHA-256\", \"marker\": {\"color\": \"#EF553B\", \"symbol\": \"square\"}, \"mode\": \"markers\", \"name\": \"GlobalToken, SHA-256\", \"scene\": \"scene\", \"showlegend\": true, \"type\": \"scatter3d\", \"x\": [-0.15481577068666047], \"y\": [-1.2430345803522942], \"z\": [0.20419552710365574]}, {\"hovertemplate\": \"CoinName=Insane Coin<br>Algorithm=X11<br>0=%{x}<br>1=%{y}<br>2=%{z}<extra></extra>\", \"legendgroup\": \"Insane Coin, X11\", \"marker\": {\"color\": \"#00cc96\", \"symbol\": \"x\"}, \"mode\": \"markers\", \"name\": \"Insane Coin, X11\", \"scene\": \"scene\", \"showlegend\": true, \"type\": \"scatter3d\", \"x\": [-0.3681893831303609], \"y\": [1.209465150664905], \"z\": [-0.5648177501208977]}, {\"hovertemplate\": \"CoinName=ALAX<br>Algorithm=DPoS<br>0=%{x}<br>1=%{y}<br>2=%{z}<extra></extra>\", \"legendgroup\": \"ALAX, DPoS\", \"marker\": {\"color\": \"#ab63fa\", \"symbol\": \"x\"}, \"mode\": \"markers\", \"name\": \"ALAX, DPoS\", \"scene\": \"scene\", \"showlegend\": true, \"type\": \"scatter3d\", \"x\": [4.194572915512863], \"y\": [1.788982148931169], \"z\": [-0.27396122428163505]}, {\"hovertemplate\": \"CoinName=LiteDoge<br>Algorithm=Scrypt<br>0=%{x}<br>1=%{y}<br>2=%{z}<extra></extra>\", \"legendgroup\": \"LiteDoge, Scrypt\", \"marker\": {\"color\": \"#FFA15A\", \"symbol\": \"circle\"}, \"mode\": \"markers\", \"name\": \"LiteDoge, Scrypt\", \"scene\": \"scene\", \"showlegend\": true, \"type\": \"scatter3d\", \"x\": [0.10305143267691316], \"y\": [0.9520646506891968], \"z\": [-0.6126573672711644]}, {\"hovertemplate\": \"CoinName=SolarCoin<br>Algorithm=Scrypt<br>0=%{x}<br>1=%{y}<br>2=%{z}<extra></extra>\", \"legendgroup\": \"SolarCoin, Scrypt\", \"marker\": {\"color\": \"#19d3f3\", \"symbol\": \"circle\"}, \"mode\": \"markers\", \"name\": \"SolarCoin, Scrypt\", \"scene\": \"scene\", \"showlegend\": true, \"type\": \"scatter3d\", \"x\": [0.4825478721310849], \"y\": [-1.2001944190250482], \"z\": [0.019991061780432383]}, {\"hovertemplate\": \"CoinName=UFO Coin<br>Algorithm=NeoScrypt<br>0=%{x}<br>1=%{y}<br>2=%{z}<extra></extra>\", \"legendgroup\": \"UFO Coin, NeoScrypt\", \"marker\": {\"color\": \"#FF6692\", \"symbol\": \"diamond\"}, \"mode\": \"markers\", \"name\": \"UFO Coin, NeoScrypt\", \"scene\": \"scene\", \"showlegend\": true, \"type\": \"scatter3d\", \"x\": [-0.12355646366037258], \"y\": [-1.5649592724364816], \"z\": [0.2753565350523913]}, {\"hovertemplate\": \"CoinName=OrangeCoin<br>Algorithm=Scrypt<br>0=%{x}<br>1=%{y}<br>2=%{z}<extra></extra>\", \"legendgroup\": \"OrangeCoin, Scrypt\", \"marker\": {\"color\": \"#B6E880\", \"symbol\": \"circle\"}, \"mode\": \"markers\", \"name\": \"OrangeCoin, Scrypt\", \"scene\": \"scene\", \"showlegend\": true, \"type\": \"scatter3d\", \"x\": [-0.3157486355425995], \"y\": [0.9659143485299203], \"z\": [-0.6071364924368448]}, {\"hovertemplate\": \"CoinName=BlakeCoin<br>Algorithm=Blake<br>0=%{x}<br>1=%{y}<br>2=%{z}<extra></extra>\", \"legendgroup\": \"BlakeCoin, Blake\", \"marker\": {\"color\": \"#FF97FF\", \"symbol\": \"circle\"}, \"mode\": \"markers\", \"name\": \"BlakeCoin, Blake\", \"scene\": \"scene\", \"showlegend\": true, \"type\": \"scatter3d\", \"x\": [-0.12002937576953045], \"y\": [-2.133542559859171], \"z\": [0.464699429026048]}, {\"hovertemplate\": \"CoinName=BitstarCoin<br>Algorithm=Scrypt<br>0=%{x}<br>1=%{y}<br>2=%{z}<extra></extra>\", \"legendgroup\": \"BitstarCoin, Scrypt\", \"marker\": {\"color\": \"#FECB52\", \"symbol\": \"circle\"}, \"mode\": \"markers\", \"name\": \"BitstarCoin, Scrypt\", \"scene\": \"scene\", \"showlegend\": true, \"type\": \"scatter3d\", \"x\": [-0.3165355954509598], \"y\": [0.9659982652367857], \"z\": [-0.6071367897949365]}, {\"hovertemplate\": \"CoinName=NeosCoin<br>Algorithm=SHA-256<br>0=%{x}<br>1=%{y}<br>2=%{z}<extra></extra>\", \"legendgroup\": \"NeosCoin, SHA-256\", \"marker\": {\"color\": \"#636efa\", \"symbol\": \"square\"}, \"mode\": \"markers\", \"name\": \"NeosCoin, SHA-256\", \"scene\": \"scene\", \"showlegend\": true, \"type\": \"scatter3d\", \"x\": [-0.24895025243711738], \"y\": [0.785623233887848], \"z\": [-0.13736756369941835]}, {\"hovertemplate\": \"CoinName=PinkCoin<br>Algorithm=X11<br>0=%{x}<br>1=%{y}<br>2=%{z}<extra></extra>\", \"legendgroup\": \"PinkCoin, X11\", \"marker\": {\"color\": \"#EF553B\", \"symbol\": \"x\"}, \"mode\": \"markers\", \"name\": \"PinkCoin, X11\", \"scene\": \"scene\", \"showlegend\": true, \"type\": \"scatter3d\", \"x\": [-0.3600825721352858], \"y\": [1.2093437717039641], \"z\": [-0.5649516633565702]}, {\"hovertemplate\": \"CoinName=Crypto Escudo<br>Algorithm=Scrypt<br>0=%{x}<br>1=%{y}<br>2=%{z}<extra></extra>\", \"legendgroup\": \"Crypto Escudo, Scrypt\", \"marker\": {\"color\": \"#00cc96\", \"symbol\": \"circle\"}, \"mode\": \"markers\", \"name\": \"Crypto Escudo, Scrypt\", \"scene\": \"scene\", \"showlegend\": true, \"type\": \"scatter3d\", \"x\": [-0.16834618381239655], \"y\": [-1.147678413658317], \"z\": [0.02285880842095988]}, {\"hovertemplate\": \"CoinName=AudioCoin<br>Algorithm=Scrypt<br>0=%{x}<br>1=%{y}<br>2=%{z}<extra></extra>\", \"legendgroup\": \"AudioCoin, Scrypt\", \"marker\": {\"color\": \"#ab63fa\", \"symbol\": \"circle\"}, \"mode\": \"markers\", \"name\": \"AudioCoin, Scrypt\", \"scene\": \"scene\", \"showlegend\": true, \"type\": \"scatter3d\", \"x\": [-0.23414867913157586], \"y\": [0.9606801156877743], \"z\": [-0.6077447682761782]}, {\"hovertemplate\": \"CoinName=IncaKoin<br>Algorithm=SHA-256<br>0=%{x}<br>1=%{y}<br>2=%{z}<extra></extra>\", \"legendgroup\": \"IncaKoin, SHA-256\", \"marker\": {\"color\": \"#FFA15A\", \"symbol\": \"square\"}, \"mode\": \"markers\", \"name\": \"IncaKoin, SHA-256\", \"scene\": \"scene\", \"showlegend\": true, \"type\": \"scatter3d\", \"x\": [-0.07470055237120765], \"y\": [0.8760629917683183], \"z\": [-0.4312007184957654]}, {\"hovertemplate\": \"CoinName=Piggy Coin<br>Algorithm=X11<br>0=%{x}<br>1=%{y}<br>2=%{z}<extra></extra>\", \"legendgroup\": \"Piggy Coin, X11\", \"marker\": {\"color\": \"#19d3f3\", \"symbol\": \"x\"}, \"mode\": \"markers\", \"name\": \"Piggy Coin, X11\", \"scene\": \"scene\", \"showlegend\": true, \"type\": \"scatter3d\", \"x\": [-0.35599692849944115], \"y\": [1.2090930185797593], \"z\": [-0.5649842060338193]}, {\"hovertemplate\": \"CoinName=Crown Coin<br>Algorithm=SHA-256<br>0=%{x}<br>1=%{y}<br>2=%{z}<extra></extra>\", \"legendgroup\": \"Crown Coin, SHA-256\", \"marker\": {\"color\": \"#FF6692\", \"symbol\": \"square\"}, \"mode\": \"markers\", \"name\": \"Crown Coin, SHA-256\", \"scene\": \"scene\", \"showlegend\": true, \"type\": \"scatter3d\", \"x\": [-0.15640565850439503], \"y\": [-1.242986405701787], \"z\": [0.20421729756587434]}, {\"hovertemplate\": \"CoinName=Genstake<br>Algorithm=Scrypt<br>0=%{x}<br>1=%{y}<br>2=%{z}<extra></extra>\", \"legendgroup\": \"Genstake, Scrypt\", \"marker\": {\"color\": \"#B6E880\", \"symbol\": \"circle\"}, \"mode\": \"markers\", \"name\": \"Genstake, Scrypt\", \"scene\": \"scene\", \"showlegend\": true, \"type\": \"scatter3d\", \"x\": [-0.31633263537825157], \"y\": [0.9660319874877087], \"z\": [-0.6071469187759456]}, {\"hovertemplate\": \"CoinName=SmileyCoin<br>Algorithm=Scrypt<br>0=%{x}<br>1=%{y}<br>2=%{z}<extra></extra>\", \"legendgroup\": \"SmileyCoin, Scrypt\", \"marker\": {\"color\": \"#FF97FF\", \"symbol\": \"circle\"}, \"mode\": \"markers\", \"name\": \"SmileyCoin, Scrypt\", \"scene\": \"scene\", \"showlegend\": true, \"type\": \"scatter3d\", \"x\": [0.5075724062662292], \"y\": [-1.1648686542901558], \"z\": [0.0129968380195569]}, {\"hovertemplate\": \"CoinName=XiaoMiCoin<br>Algorithm=Scrypt<br>0=%{x}<br>1=%{y}<br>2=%{z}<extra></extra>\", \"legendgroup\": \"XiaoMiCoin, Scrypt\", \"marker\": {\"color\": \"#FECB52\", \"symbol\": \"circle\"}, \"mode\": \"markers\", \"name\": \"XiaoMiCoin, Scrypt\", \"scene\": \"scene\", \"showlegend\": true, \"type\": \"scatter3d\", \"x\": [-0.30961626438530393], \"y\": [0.9659345882670932], \"z\": [-0.6072584466398041]}, {\"hovertemplate\": \"CoinName=Groestlcoin<br>Algorithm=Groestl<br>0=%{x}<br>1=%{y}<br>2=%{z}<extra></extra>\", \"legendgroup\": \"Groestlcoin, Groestl\", \"marker\": {\"color\": \"#636efa\", \"symbol\": \"circle\"}, \"mode\": \"markers\", \"name\": \"Groestlcoin, Groestl\", \"scene\": \"scene\", \"showlegend\": true, \"type\": \"scatter3d\", \"x\": [-0.19996652085723532], \"y\": [-1.4876808130224863], \"z\": [0.2543788022412553]}, {\"hovertemplate\": \"CoinName=CapriCoin<br>Algorithm=X11<br>0=%{x}<br>1=%{y}<br>2=%{z}<extra></extra>\", \"legendgroup\": \"CapriCoin, X11\", \"marker\": {\"color\": \"#EF553B\", \"symbol\": \"x\"}, \"mode\": \"markers\", \"name\": \"CapriCoin, X11\", \"scene\": \"scene\", \"showlegend\": true, \"type\": \"scatter3d\", \"x\": [-0.3648650034493508], \"y\": [1.209425992102311], \"z\": [-0.5648746210775142]}, {\"hovertemplate\": \"CoinName= ClubCoin<br>Algorithm=Scrypt<br>0=%{x}<br>1=%{y}<br>2=%{z}<extra></extra>\", \"legendgroup\": \" ClubCoin, Scrypt\", \"marker\": {\"color\": \"#00cc96\", \"symbol\": \"circle\"}, \"mode\": \"markers\", \"name\": \" ClubCoin, Scrypt\", \"scene\": \"scene\", \"showlegend\": true, \"type\": \"scatter3d\", \"x\": [-0.31482815518219315], \"y\": [0.9659678349273969], \"z\": [-0.6071640974085746]}, {\"hovertemplate\": \"CoinName=Radium<br>Algorithm=PoS<br>0=%{x}<br>1=%{y}<br>2=%{z}<extra></extra>\", \"legendgroup\": \"Radium, PoS\", \"marker\": {\"color\": \"#ab63fa\", \"symbol\": \"square\"}, \"mode\": \"markers\", \"name\": \"Radium, PoS\", \"scene\": \"scene\", \"showlegend\": true, \"type\": \"scatter3d\", \"x\": [-0.32563381547070536], \"y\": [1.802793427058107], \"z\": [-0.22026801384036343]}, {\"hovertemplate\": \"CoinName=Bata<br>Algorithm=Scrypt<br>0=%{x}<br>1=%{y}<br>2=%{z}<extra></extra>\", \"legendgroup\": \"Bata, Scrypt\", \"marker\": {\"color\": \"#FFA15A\", \"symbol\": \"circle\"}, \"mode\": \"markers\", \"name\": \"Bata, Scrypt\", \"scene\": \"scene\", \"showlegend\": true, \"type\": \"scatter3d\", \"x\": [-0.1843378319020583], \"y\": [-1.1473900807776087], \"z\": [0.023113954479126758]}, {\"hovertemplate\": \"CoinName=Pakcoin<br>Algorithm=Scrypt<br>0=%{x}<br>1=%{y}<br>2=%{z}<extra></extra>\", \"legendgroup\": \"Pakcoin, Scrypt\", \"marker\": {\"color\": \"#19d3f3\", \"symbol\": \"circle\"}, \"mode\": \"markers\", \"name\": \"Pakcoin, Scrypt\", \"scene\": \"scene\", \"showlegend\": true, \"type\": \"scatter3d\", \"x\": [-0.18236573719189164], \"y\": [-1.1474647575525663], \"z\": [0.023089700895228008]}, {\"hovertemplate\": \"CoinName=Creditbit <br>Algorithm=X11<br>0=%{x}<br>1=%{y}<br>2=%{z}<extra></extra>\", \"legendgroup\": \"Creditbit , X11\", \"marker\": {\"color\": \"#FF6692\", \"symbol\": \"x\"}, \"mode\": \"markers\", \"name\": \"Creditbit , X11\", \"scene\": \"scene\", \"showlegend\": true, \"type\": \"scatter3d\", \"x\": [-0.3626107367933409], \"y\": [0.7301941640220931], \"z\": [-0.25771770695964114]}, {\"hovertemplate\": \"CoinName=OKCash<br>Algorithm=SHA-256<br>0=%{x}<br>1=%{y}<br>2=%{z}<extra></extra>\", \"legendgroup\": \"OKCash, SHA-256\", \"marker\": {\"color\": \"#B6E880\", \"symbol\": \"square\"}, \"mode\": \"markers\", \"name\": \"OKCash, SHA-256\", \"scene\": \"scene\", \"showlegend\": true, \"type\": \"scatter3d\", \"x\": [-0.288079285351309], \"y\": [0.8704060839800616], \"z\": [-0.42604431513499413]}, {\"hovertemplate\": \"CoinName=Lisk<br>Algorithm=DPoS<br>0=%{x}<br>1=%{y}<br>2=%{z}<extra></extra>\", \"legendgroup\": \"Lisk, DPoS\", \"marker\": {\"color\": \"#FF97FF\", \"symbol\": \"x\"}, \"mode\": \"markers\", \"name\": \"Lisk, DPoS\", \"scene\": \"scene\", \"showlegend\": true, \"type\": \"scatter3d\", \"x\": [4.178384819081003], \"y\": [1.7891536015434695], \"z\": [-0.2736807458181982]}, {\"hovertemplate\": \"CoinName=HiCoin<br>Algorithm=Scrypt<br>0=%{x}<br>1=%{y}<br>2=%{z}<extra></extra>\", \"legendgroup\": \"HiCoin, Scrypt\", \"marker\": {\"color\": \"#FECB52\", \"symbol\": \"circle\"}, \"mode\": \"markers\", \"name\": \"HiCoin, Scrypt\", \"scene\": \"scene\", \"showlegend\": true, \"type\": \"scatter3d\", \"x\": [-0.0895111490594843], \"y\": [0.8790180492140451], \"z\": [-0.32167733975494484]}, {\"hovertemplate\": \"CoinName=WhiteCoin<br>Algorithm=Scrypt<br>0=%{x}<br>1=%{y}<br>2=%{z}<extra></extra>\", \"legendgroup\": \"WhiteCoin, Scrypt\", \"marker\": {\"color\": \"#636efa\", \"symbol\": \"circle\"}, \"mode\": \"markers\", \"name\": \"WhiteCoin, Scrypt\", \"scene\": \"scene\", \"showlegend\": true, \"type\": \"scatter3d\", \"x\": [-0.3121097549045251], \"y\": [0.9659398155489328], \"z\": [-0.6072113392982814]}, {\"hovertemplate\": \"CoinName=FriendshipCoin<br>Algorithm=NeoScrypt<br>0=%{x}<br>1=%{y}<br>2=%{z}<extra></extra>\", \"legendgroup\": \"FriendshipCoin, NeoScrypt\", \"marker\": {\"color\": \"#EF553B\", \"symbol\": \"diamond\"}, \"mode\": \"markers\", \"name\": \"FriendshipCoin, NeoScrypt\", \"scene\": \"scene\", \"showlegend\": true, \"type\": \"scatter3d\", \"x\": [-0.32857874313947033], \"y\": [0.5493515771256964], \"z\": [-0.35366030719836483]}, {\"hovertemplate\": \"CoinName=JoinCoin<br>Algorithm=Multiple<br>0=%{x}<br>1=%{y}<br>2=%{z}<extra></extra>\", \"legendgroup\": \"JoinCoin, Multiple\", \"marker\": {\"color\": \"#00cc96\", \"symbol\": \"square\"}, \"mode\": \"markers\", \"name\": \"JoinCoin, Multiple\", \"scene\": \"scene\", \"showlegend\": true, \"type\": \"scatter3d\", \"x\": [-0.1324993909929214], \"y\": [-1.8783828329327312], \"z\": [0.4176439187252309]}, {\"hovertemplate\": \"CoinName=Triangles Coin<br>Algorithm=X13<br>0=%{x}<br>1=%{y}<br>2=%{z}<extra></extra>\", \"legendgroup\": \"Triangles Coin, X13\", \"marker\": {\"color\": \"#ab63fa\", \"symbol\": \"diamond\"}, \"mode\": \"markers\", \"name\": \"Triangles Coin, X13\", \"scene\": \"scene\", \"showlegend\": true, \"type\": \"scatter3d\", \"x\": [-0.2267949765711993], \"y\": [1.772732723960695], \"z\": [-0.6852531883674255]}, {\"hovertemplate\": \"CoinName=Vollar<br>Algorithm=Equihash+Scrypt<br>0=%{x}<br>1=%{y}<br>2=%{z}<extra></extra>\", \"legendgroup\": \"Vollar, Equihash+Scrypt\", \"marker\": {\"color\": \"#FFA15A\", \"symbol\": \"square\"}, \"mode\": \"markers\", \"name\": \"Vollar, Equihash+Scrypt\", \"scene\": \"scene\", \"showlegend\": true, \"type\": \"scatter3d\", \"x\": [-0.15253162399072584], \"y\": [-2.1229300618137126], \"z\": [0.46294515799748565]}, {\"hovertemplate\": \"CoinName=Reality Clash<br>Algorithm=Ethash<br>0=%{x}<br>1=%{y}<br>2=%{z}<extra></extra>\", \"legendgroup\": \"Reality Clash, Ethash\", \"marker\": {\"color\": \"#19d3f3\", \"symbol\": \"cross\"}, \"mode\": \"markers\", \"name\": \"Reality Clash, Ethash\", \"scene\": \"scene\", \"showlegend\": true, \"type\": \"scatter3d\", \"x\": [-0.17512343329234847], \"y\": [-1.9143707893257595], \"z\": [0.4260230248082002]}, {\"hovertemplate\": \"CoinName=TigerCash<br>Algorithm=SHA-256<br>0=%{x}<br>1=%{y}<br>2=%{z}<extra></extra>\", \"legendgroup\": \"TigerCash, SHA-256\", \"marker\": {\"color\": \"#FF6692\", \"symbol\": \"square\"}, \"mode\": \"markers\", \"name\": \"TigerCash, SHA-256\", \"scene\": \"scene\", \"showlegend\": true, \"type\": \"scatter3d\", \"x\": [-0.23044137169976858], \"y\": [0.785413885809551], \"z\": [-0.13768579807604903]}, {\"hovertemplate\": \"CoinName=Waves<br>Algorithm=Leased POS<br>0=%{x}<br>1=%{y}<br>2=%{z}<extra></extra>\", \"legendgroup\": \"Waves, Leased POS\", \"marker\": {\"color\": \"#B6E880\", \"symbol\": \"x\"}, \"mode\": \"markers\", \"name\": \"Waves, Leased POS\", \"scene\": \"scene\", \"showlegend\": true, \"type\": \"scatter3d\", \"x\": [-0.3841376518171098], \"y\": [3.3930679250572373], \"z\": [13.270386229162641]}, {\"hovertemplate\": \"CoinName=Particl<br>Algorithm=PoS<br>0=%{x}<br>1=%{y}<br>2=%{z}<extra></extra>\", \"legendgroup\": \"Particl, PoS\", \"marker\": {\"color\": \"#FF97FF\", \"symbol\": \"square\"}, \"mode\": \"markers\", \"name\": \"Particl, PoS\", \"scene\": \"scene\", \"showlegend\": true, \"type\": \"scatter3d\", \"x\": [-0.3255712405830699], \"y\": [1.8027953675427162], \"z\": [-0.22026957789416418]}, {\"hovertemplate\": \"CoinName=BitTorrent<br>Algorithm=TRC10<br>0=%{x}<br>1=%{y}<br>2=%{z}<extra></extra>\", \"legendgroup\": \"BitTorrent, TRC10\", \"marker\": {\"color\": \"#FECB52\", \"symbol\": \"cross\"}, \"mode\": \"markers\", \"name\": \"BitTorrent, TRC10\", \"scene\": \"scene\", \"showlegend\": true, \"type\": \"scatter3d\", \"x\": [33.42275774475229], \"y\": [1.366986763184592], \"z\": [-0.9094113088431613]}, {\"hovertemplate\": \"CoinName=Nxt<br>Algorithm=PoS<br>0=%{x}<br>1=%{y}<br>2=%{z}<extra></extra>\", \"legendgroup\": \"Nxt, PoS\", \"marker\": {\"color\": \"#636efa\", \"symbol\": \"square\"}, \"mode\": \"markers\", \"name\": \"Nxt, PoS\", \"scene\": \"scene\", \"showlegend\": true, \"type\": \"scatter3d\", \"x\": [-0.3301413753670797], \"y\": [2.0202025970384736], \"z\": [-0.146881765548886]}, {\"hovertemplate\": \"CoinName=ZEPHYR<br>Algorithm=SHA-256<br>0=%{x}<br>1=%{y}<br>2=%{z}<extra></extra>\", \"legendgroup\": \"ZEPHYR, SHA-256\", \"marker\": {\"color\": \"#EF553B\", \"symbol\": \"square\"}, \"mode\": \"markers\", \"name\": \"ZEPHYR, SHA-256\", \"scene\": \"scene\", \"showlegend\": true, \"type\": \"scatter3d\", \"x\": [2.876880510670728], \"y\": [0.8065449211508485], \"z\": [-0.16766773870241722]}, {\"hovertemplate\": \"CoinName=Gapcoin<br>Algorithm=Scrypt<br>0=%{x}<br>1=%{y}<br>2=%{z}<extra></extra>\", \"legendgroup\": \"Gapcoin, Scrypt\", \"marker\": {\"color\": \"#00cc96\", \"symbol\": \"circle\"}, \"mode\": \"markers\", \"name\": \"Gapcoin, Scrypt\", \"scene\": \"scene\", \"showlegend\": true, \"type\": \"scatter3d\", \"x\": [-0.3152733043501931], \"y\": [0.9658910624429324], \"z\": [-0.6071413636905615]}, {\"hovertemplate\": \"CoinName=Beldex<br>Algorithm=CryptoNight<br>0=%{x}<br>1=%{y}<br>2=%{z}<extra></extra>\", \"legendgroup\": \"Beldex, CryptoNight\", \"marker\": {\"color\": \"#ab63fa\", \"symbol\": \"diamond\"}, \"mode\": \"markers\", \"name\": \"Beldex, CryptoNight\", \"scene\": \"scene\", \"showlegend\": true, \"type\": \"scatter3d\", \"x\": [0.2712153026452343], \"y\": [-2.231502779714331], \"z\": [0.47313393970848017]}, {\"hovertemplate\": \"CoinName=Horizen<br>Algorithm=Equihash<br>0=%{x}<br>1=%{y}<br>2=%{z}<extra></extra>\", \"legendgroup\": \"Horizen, Equihash\", \"marker\": {\"color\": \"#FFA15A\", \"symbol\": \"circle\"}, \"mode\": \"markers\", \"name\": \"Horizen, Equihash\", \"scene\": \"scene\", \"showlegend\": true, \"type\": \"scatter3d\", \"x\": [-0.17224349178290813], \"y\": [-1.9528529412431608], \"z\": [0.44891953195243245]}, {\"hovertemplate\": \"CoinName=BitcoinPlus<br>Algorithm=Scrypt<br>0=%{x}<br>1=%{y}<br>2=%{z}<extra></extra>\", \"legendgroup\": \"BitcoinPlus, Scrypt\", \"marker\": {\"color\": \"#19d3f3\", \"symbol\": \"circle\"}, \"mode\": \"markers\", \"name\": \"BitcoinPlus, Scrypt\", \"scene\": \"scene\", \"showlegend\": true, \"type\": \"scatter3d\", \"x\": [-0.2766041209932405], \"y\": [0.8812147686748948], \"z\": [-0.318475389112074]}],                        {\"legend\": {\"title\": {\"text\": \"CoinName, Algorithm\"}, \"tracegroupgap\": 0}, \"margin\": {\"t\": 60}, \"scene\": {\"domain\": {\"x\": [0.0, 1.0], \"y\": [0.0, 1.0]}, \"xaxis\": {\"title\": {\"text\": \"0\"}}, \"yaxis\": {\"title\": {\"text\": \"1\"}}, \"zaxis\": {\"title\": {\"text\": \"2\"}}}, \"template\": {\"data\": {\"bar\": [{\"error_x\": {\"color\": \"#2a3f5f\"}, \"error_y\": {\"color\": \"#2a3f5f\"}, \"marker\": {\"line\": {\"color\": \"#E5ECF6\", \"width\": 0.5}}, \"type\": \"bar\"}], \"barpolar\": [{\"marker\": {\"line\": {\"color\": \"#E5ECF6\", \"width\": 0.5}}, \"type\": \"barpolar\"}], \"carpet\": [{\"aaxis\": {\"endlinecolor\": \"#2a3f5f\", \"gridcolor\": \"white\", \"linecolor\": \"white\", \"minorgridcolor\": \"white\", \"startlinecolor\": \"#2a3f5f\"}, \"baxis\": {\"endlinecolor\": \"#2a3f5f\", \"gridcolor\": \"white\", \"linecolor\": \"white\", \"minorgridcolor\": \"white\", \"startlinecolor\": \"#2a3f5f\"}, \"type\": \"carpet\"}], \"choropleth\": [{\"colorbar\": {\"outlinewidth\": 0, \"ticks\": \"\"}, \"type\": \"choropleth\"}], \"contour\": [{\"colorbar\": {\"outlinewidth\": 0, \"ticks\": \"\"}, \"colorscale\": [[0.0, \"#0d0887\"], [0.1111111111111111, \"#46039f\"], [0.2222222222222222, \"#7201a8\"], [0.3333333333333333, \"#9c179e\"], [0.4444444444444444, \"#bd3786\"], [0.5555555555555556, \"#d8576b\"], [0.6666666666666666, \"#ed7953\"], [0.7777777777777778, \"#fb9f3a\"], [0.8888888888888888, \"#fdca26\"], [1.0, \"#f0f921\"]], \"type\": \"contour\"}], \"contourcarpet\": [{\"colorbar\": {\"outlinewidth\": 0, \"ticks\": \"\"}, \"type\": \"contourcarpet\"}], \"heatmap\": [{\"colorbar\": {\"outlinewidth\": 0, \"ticks\": \"\"}, \"colorscale\": [[0.0, \"#0d0887\"], [0.1111111111111111, \"#46039f\"], [0.2222222222222222, \"#7201a8\"], [0.3333333333333333, \"#9c179e\"], [0.4444444444444444, \"#bd3786\"], [0.5555555555555556, \"#d8576b\"], [0.6666666666666666, \"#ed7953\"], [0.7777777777777778, \"#fb9f3a\"], [0.8888888888888888, \"#fdca26\"], [1.0, \"#f0f921\"]], \"type\": \"heatmap\"}], \"heatmapgl\": [{\"colorbar\": {\"outlinewidth\": 0, \"ticks\": \"\"}, \"colorscale\": [[0.0, \"#0d0887\"], [0.1111111111111111, \"#46039f\"], [0.2222222222222222, \"#7201a8\"], [0.3333333333333333, \"#9c179e\"], [0.4444444444444444, \"#bd3786\"], [0.5555555555555556, \"#d8576b\"], [0.6666666666666666, \"#ed7953\"], [0.7777777777777778, \"#fb9f3a\"], [0.8888888888888888, \"#fdca26\"], [1.0, \"#f0f921\"]], \"type\": \"heatmapgl\"}], \"histogram\": [{\"marker\": {\"colorbar\": {\"outlinewidth\": 0, \"ticks\": \"\"}}, \"type\": \"histogram\"}], \"histogram2d\": [{\"colorbar\": {\"outlinewidth\": 0, \"ticks\": \"\"}, \"colorscale\": [[0.0, \"#0d0887\"], [0.1111111111111111, \"#46039f\"], [0.2222222222222222, \"#7201a8\"], [0.3333333333333333, \"#9c179e\"], [0.4444444444444444, \"#bd3786\"], [0.5555555555555556, \"#d8576b\"], [0.6666666666666666, \"#ed7953\"], [0.7777777777777778, \"#fb9f3a\"], [0.8888888888888888, \"#fdca26\"], [1.0, \"#f0f921\"]], \"type\": \"histogram2d\"}], \"histogram2dcontour\": [{\"colorbar\": {\"outlinewidth\": 0, \"ticks\": \"\"}, \"colorscale\": [[0.0, \"#0d0887\"], [0.1111111111111111, \"#46039f\"], [0.2222222222222222, \"#7201a8\"], [0.3333333333333333, \"#9c179e\"], [0.4444444444444444, \"#bd3786\"], [0.5555555555555556, \"#d8576b\"], [0.6666666666666666, \"#ed7953\"], [0.7777777777777778, \"#fb9f3a\"], [0.8888888888888888, \"#fdca26\"], [1.0, \"#f0f921\"]], \"type\": \"histogram2dcontour\"}], \"mesh3d\": [{\"colorbar\": {\"outlinewidth\": 0, \"ticks\": \"\"}, \"type\": \"mesh3d\"}], \"parcoords\": [{\"line\": {\"colorbar\": {\"outlinewidth\": 0, \"ticks\": \"\"}}, \"type\": \"parcoords\"}], \"pie\": [{\"automargin\": true, \"type\": \"pie\"}], \"scatter\": [{\"marker\": {\"colorbar\": {\"outlinewidth\": 0, \"ticks\": \"\"}}, \"type\": \"scatter\"}], \"scatter3d\": [{\"line\": {\"colorbar\": {\"outlinewidth\": 0, \"ticks\": \"\"}}, \"marker\": {\"colorbar\": {\"outlinewidth\": 0, \"ticks\": \"\"}}, \"type\": \"scatter3d\"}], \"scattercarpet\": [{\"marker\": {\"colorbar\": {\"outlinewidth\": 0, \"ticks\": \"\"}}, \"type\": \"scattercarpet\"}], \"scattergeo\": [{\"marker\": {\"colorbar\": {\"outlinewidth\": 0, \"ticks\": \"\"}}, \"type\": \"scattergeo\"}], \"scattergl\": [{\"marker\": {\"colorbar\": {\"outlinewidth\": 0, \"ticks\": \"\"}}, \"type\": \"scattergl\"}], \"scattermapbox\": [{\"marker\": {\"colorbar\": {\"outlinewidth\": 0, \"ticks\": \"\"}}, \"type\": \"scattermapbox\"}], \"scatterpolar\": [{\"marker\": {\"colorbar\": {\"outlinewidth\": 0, \"ticks\": \"\"}}, \"type\": \"scatterpolar\"}], \"scatterpolargl\": [{\"marker\": {\"colorbar\": {\"outlinewidth\": 0, \"ticks\": \"\"}}, \"type\": \"scatterpolargl\"}], \"scatterternary\": [{\"marker\": {\"colorbar\": {\"outlinewidth\": 0, \"ticks\": \"\"}}, \"type\": \"scatterternary\"}], \"surface\": [{\"colorbar\": {\"outlinewidth\": 0, \"ticks\": \"\"}, \"colorscale\": [[0.0, \"#0d0887\"], [0.1111111111111111, \"#46039f\"], [0.2222222222222222, \"#7201a8\"], [0.3333333333333333, \"#9c179e\"], [0.4444444444444444, \"#bd3786\"], [0.5555555555555556, \"#d8576b\"], [0.6666666666666666, \"#ed7953\"], [0.7777777777777778, \"#fb9f3a\"], [0.8888888888888888, \"#fdca26\"], [1.0, \"#f0f921\"]], \"type\": \"surface\"}], \"table\": [{\"cells\": {\"fill\": {\"color\": \"#EBF0F8\"}, \"line\": {\"color\": \"white\"}}, \"header\": {\"fill\": {\"color\": \"#C8D4E3\"}, \"line\": {\"color\": \"white\"}}, \"type\": \"table\"}]}, \"layout\": {\"annotationdefaults\": {\"arrowcolor\": \"#2a3f5f\", \"arrowhead\": 0, \"arrowwidth\": 1}, \"autotypenumbers\": \"strict\", \"coloraxis\": {\"colorbar\": {\"outlinewidth\": 0, \"ticks\": \"\"}}, \"colorscale\": {\"diverging\": [[0, \"#8e0152\"], [0.1, \"#c51b7d\"], [0.2, \"#de77ae\"], [0.3, \"#f1b6da\"], [0.4, \"#fde0ef\"], [0.5, \"#f7f7f7\"], [0.6, \"#e6f5d0\"], [0.7, \"#b8e186\"], [0.8, \"#7fbc41\"], [0.9, \"#4d9221\"], [1, \"#276419\"]], \"sequential\": [[0.0, \"#0d0887\"], [0.1111111111111111, \"#46039f\"], [0.2222222222222222, \"#7201a8\"], [0.3333333333333333, \"#9c179e\"], [0.4444444444444444, \"#bd3786\"], [0.5555555555555556, \"#d8576b\"], [0.6666666666666666, \"#ed7953\"], [0.7777777777777778, \"#fb9f3a\"], [0.8888888888888888, \"#fdca26\"], [1.0, \"#f0f921\"]], \"sequentialminus\": [[0.0, \"#0d0887\"], [0.1111111111111111, \"#46039f\"], [0.2222222222222222, \"#7201a8\"], [0.3333333333333333, \"#9c179e\"], [0.4444444444444444, \"#bd3786\"], [0.5555555555555556, \"#d8576b\"], [0.6666666666666666, \"#ed7953\"], [0.7777777777777778, \"#fb9f3a\"], [0.8888888888888888, \"#fdca26\"], [1.0, \"#f0f921\"]]}, \"colorway\": [\"#636efa\", \"#EF553B\", \"#00cc96\", \"#ab63fa\", \"#FFA15A\", \"#19d3f3\", \"#FF6692\", \"#B6E880\", \"#FF97FF\", \"#FECB52\"], \"font\": {\"color\": \"#2a3f5f\"}, \"geo\": {\"bgcolor\": \"white\", \"lakecolor\": \"white\", \"landcolor\": \"#E5ECF6\", \"showlakes\": true, \"showland\": true, \"subunitcolor\": \"white\"}, \"hoverlabel\": {\"align\": \"left\"}, \"hovermode\": \"closest\", \"mapbox\": {\"style\": \"light\"}, \"paper_bgcolor\": \"white\", \"plot_bgcolor\": \"#E5ECF6\", \"polar\": {\"angularaxis\": {\"gridcolor\": \"white\", \"linecolor\": \"white\", \"ticks\": \"\"}, \"bgcolor\": \"#E5ECF6\", \"radialaxis\": {\"gridcolor\": \"white\", \"linecolor\": \"white\", \"ticks\": \"\"}}, \"scene\": {\"xaxis\": {\"backgroundcolor\": \"#E5ECF6\", \"gridcolor\": \"white\", \"gridwidth\": 2, \"linecolor\": \"white\", \"showbackground\": true, \"ticks\": \"\", \"zerolinecolor\": \"white\"}, \"yaxis\": {\"backgroundcolor\": \"#E5ECF6\", \"gridcolor\": \"white\", \"gridwidth\": 2, \"linecolor\": \"white\", \"showbackground\": true, \"ticks\": \"\", \"zerolinecolor\": \"white\"}, \"zaxis\": {\"backgroundcolor\": \"#E5ECF6\", \"gridcolor\": \"white\", \"gridwidth\": 2, \"linecolor\": \"white\", \"showbackground\": true, \"ticks\": \"\", \"zerolinecolor\": \"white\"}}, \"shapedefaults\": {\"line\": {\"color\": \"#2a3f5f\"}}, \"ternary\": {\"aaxis\": {\"gridcolor\": \"white\", \"linecolor\": \"white\", \"ticks\": \"\"}, \"baxis\": {\"gridcolor\": \"white\", \"linecolor\": \"white\", \"ticks\": \"\"}, \"bgcolor\": \"#E5ECF6\", \"caxis\": {\"gridcolor\": \"white\", \"linecolor\": \"white\", \"ticks\": \"\"}}, \"title\": {\"x\": 0.05}, \"xaxis\": {\"automargin\": true, \"gridcolor\": \"white\", \"linecolor\": \"white\", \"ticks\": \"\", \"title\": {\"standoff\": 15}, \"zerolinecolor\": \"white\", \"zerolinewidth\": 2}, \"yaxis\": {\"automargin\": true, \"gridcolor\": \"white\", \"linecolor\": \"white\", \"ticks\": \"\", \"title\": {\"standoff\": 15}, \"zerolinecolor\": \"white\", \"zerolinewidth\": 2}}}, \"width\": 800},                        {\"responsive\": true}                    ).then(function(){\n",
       "                            \n",
       "var gd = document.getElementById('d1f3dace-71bc-43a6-be26-378b57f9d3bc');\n",
       "var x = new MutationObserver(function (mutations, observer) {{\n",
       "        var display = window.getComputedStyle(gd).display;\n",
       "        if (!display || display === 'none') {{\n",
       "            console.log([gd, 'removed!']);\n",
       "            Plotly.purge(gd);\n",
       "            observer.disconnect();\n",
       "        }}\n",
       "}});\n",
       "\n",
       "// Listen for the removal of the full notebook cells\n",
       "var notebookContainer = gd.closest('#notebook-container');\n",
       "if (notebookContainer) {{\n",
       "    x.observe(notebookContainer, {childList: true});\n",
       "}}\n",
       "\n",
       "// Listen for the clearing of the current output cell\n",
       "var outputEl = gd.closest('.output');\n",
       "if (outputEl) {{\n",
       "    x.observe(outputEl, {childList: true});\n",
       "}}\n",
       "\n",
       "                        })                };                });            </script>        </div>"
      ]
     },
     "metadata": {},
     "output_type": "display_data"
    }
   ],
   "source": [
    "# Create a 3D-Scatter with the PCA data and the clusters\n",
    "fig = px.scatter_3d(\n",
    "    clustered_df,\n",
    "    x=0,\n",
    "    y=1,\n",
    "    z=2,\n",
    "    color=\"CoinName\",\n",
    "    symbol=\"Algorithm\",\n",
    "    width=800,\n",
    ")\n",
    "#fig.update_layout(legend=dict(x=0, y=1))\n",
    "fig.show()"
   ]
  },
  {
   "cell_type": "markdown",
   "metadata": {},
   "source": [
    "#### Table of Tradable Cryptocurrencies"
   ]
  },
  {
   "cell_type": "code",
   "execution_count": 97,
   "metadata": {},
   "outputs": [
    {
     "data": {},
     "metadata": {},
     "output_type": "display_data"
    },
    {
     "data": {
      "application/vnd.holoviews_exec.v0+json": "",
      "text/html": [
       "<div id='1825'>\n",
       "\n",
       "\n",
       "\n",
       "\n",
       "\n",
       "  <div class=\"bk-root\" id=\"3791c39a-e5b2-461a-996b-028bae4f0827\" data-root-id=\"1825\"></div>\n",
       "</div>\n",
       "<script type=\"application/javascript\">(function(root) {\n",
       "  function embed_document(root) {\n",
       "    var docs_json = {\"881fc1d7-0f3c-4c2f-bad5-fb979265d464\":{\"defs\":[],\"roots\":{\"references\":[{\"attributes\":{\"editor\":{\"id\":\"1850\"},\"field\":\"TotalCoinsMined\",\"formatter\":{\"id\":\"1849\"},\"title\":\"TotalCoinsMined\"},\"id\":\"1851\",\"type\":\"TableColumn\"},{\"attributes\":{},\"id\":\"1834\",\"type\":\"StringFormatter\"},{\"attributes\":{\"format\":\"0,0.0[00000]\"},\"id\":\"1849\",\"type\":\"NumberFormatter\"},{\"attributes\":{\"editor\":{\"id\":\"1855\"},\"field\":\"class\",\"formatter\":{\"id\":\"1854\"},\"title\":\"class\"},\"id\":\"1856\",\"type\":\"TableColumn\"},{\"attributes\":{},\"id\":\"1835\",\"type\":\"StringEditor\"},{\"attributes\":{\"editor\":{\"id\":\"1840\"},\"field\":\"ProofType\",\"formatter\":{\"id\":\"1839\"},\"title\":\"ProofType\"},\"id\":\"1841\",\"type\":\"TableColumn\"},{\"attributes\":{\"editor\":{\"id\":\"1845\"},\"field\":\"TotalCoinSupply\",\"formatter\":{\"id\":\"1844\"},\"title\":\"TotalCoinSupply\"},\"id\":\"1846\",\"type\":\"TableColumn\"},{\"attributes\":{},\"id\":\"1839\",\"type\":\"StringFormatter\"},{\"attributes\":{\"source\":{\"id\":\"1827\"}},\"id\":\"1861\",\"type\":\"CDSView\"},{\"attributes\":{\"data\":{\"Algorithm\":[\"Scrypt\",\"Scrypt\",\"X13\",\"SHA-256\",\"Scrypt\",\"X11\",\"Ethash\",\"Equihash\",\"SHA-512\",\"Multiple\",\"SHA-256\",\"SHA-256\",\"Scrypt\",\"X15\",\"X11\",\"Scrypt\",\"Scrypt\",\"Multiple\",\"Scrypt\",\"SHA-256\",\"Scrypt\",\"Scrypt\",\"Quark\",\"Groestl\",\"Scrypt\",\"Scrypt\",\"Scrypt\",\"Scrypt\",\"Scrypt\",\"X11\",\"Scrypt\",\"Groestl\",\"Multiple\",\"SHA-256\",\"Scrypt\",\"Scrypt\",\"Scrypt\",\"Scrypt\",\"Scrypt\",\"NeoScrypt\",\"Scrypt\",\"Scrypt\",\"Scrypt\",\"Scrypt\",\"Scrypt\",\"X11\",\"SHA-256\",\"Scrypt\",\"Scrypt\",\"Scrypt\",\"SHA3\",\"Scrypt\",\"HybridScryptHash256\",\"Scrypt\",\"SHA-256\",\"Scrypt\",\"Scrypt\",\"SHA-256\",\"Scrypt\",\"NeoScrypt\",\"Scrypt\",\"Scrypt\",\"Scrypt\",\"Scrypt\",\"Scrypt\",\"X11\",\"SHA-256\",\"Multiple\",\"SHA-256\",\"PHI1612\",\"X11\",\"SHA-256\",\"SHA-256\",\"SHA-256\",\"Scrypt\",\"Scrypt\",\"Scrypt\",\"Lyra2REv2\",\"Scrypt\",\"X11\",\"SHA-256\",\"Scrypt\",\"CryptoNight\",\"CryptoNight\",\"Shabal256\",\"Counterparty\",\"Scrypt\",\"SHA-256\",\"Scrypt\",\"Scrypt\",\"X13\",\"Scrypt\",\"Scrypt\",\"Scrypt\",\"X13\",\"Scrypt\",\"Stanford Folding\",\"X11\",\"Scrypt\",\"Scrypt\",\"Scrypt\",\"M7 POW\",\"Scrypt\",\"SHA-256\",\"Scrypt\",\"SHA3\",\"X11\",\"Lyra2RE\",\"SHA-256\",\"QUAIT\",\"X11\",\"Scrypt\",\"Scrypt\",\"Scrypt\",\"Ethash\",\"X13\",\"SHA-256\",\"X15\",\"X11\",\"SHA-256\",\"BLAKE256\",\"Scrypt\",\"1GB AES Pattern Search\",\"SHA-256\",\"X11\",\"Scrypt\",\"SHA-256\",\"SHA-256\",\"Scrypt\",\"Scrypt\",\"X11\",\"Dagger\",\"Scrypt\",\"X11GOST\",\"X11\",\"Scrypt\",\"SHA-256\",\"Scrypt\",\"PoS\",\"Scrypt\",\"X11\",\"X11\",\"SHA-256\",\"SHA-256\",\"NIST5\",\"X11\",\"Scrypt\",\"POS 3.0\",\"Scrypt\",\"Scrypt\",\"Scrypt\",\"X13\",\"X11\",\"X11\",\"Equihash\",\"X11\",\"Scrypt\",\"CryptoNight\",\"SHA-256\",\"SHA-256\",\"X11\",\"Scrypt\",\"Multiple\",\"Scrypt\",\"SHA-256\",\"Scrypt\",\"Scrypt\",\"SHA-256D\",\"PoS\",\"X11\",\"Lyra2Z\",\"PoS\",\"X13\",\"X14\",\"PoS\",\"SHA-256D\",\"Ethash\",\"Equihash\",\"DPoS\",\"X11\",\"Scrypt\",\"X11\",\"X13\",\"X11\",\"PoS\",\"Scrypt\",\"Scrypt\",\"X11\",\"PoS\",\"X11\",\"SHA-256\",\"Scrypt\",\"X11\",\"Scrypt\",\"Scrypt\",\"X11\",\"CryptoNight\",\"Scrypt\",\"Scrypt\",\"Scrypt\",\"Scrypt\",\"Quark\",\"QuBit\",\"Scrypt\",\"CryptoNight\",\"Lyra2RE\",\"Scrypt\",\"SHA-256\",\"X11\",\"Scrypt\",\"X11\",\"Scrypt\",\"CryptoNight-V7\",\"Scrypt\",\"Scrypt\",\"Scrypt\",\"X13\",\"X11\",\"Equihash\",\"Scrypt\",\"Scrypt\",\"Lyra2RE\",\"Scrypt\",\"Dagger-Hashimoto\",\"X11\",\"Blake2S\",\"X11\",\"Scrypt\",\"PoS\",\"X11\",\"NIST5\",\"PoS\",\"X11\",\"Scrypt\",\"Scrypt\",\"Scrypt\",\"SHA-256\",\"X11\",\"Scrypt\",\"Scrypt\",\"SHA-256\",\"PoS\",\"Scrypt\",\"X15\",\"SHA-256\",\"Scrypt\",\"POS 3.0\",\"CryptoNight-V7\",\"536\",\"Blake2b\",\"Cloverhash\",\"CryptoNight\",\"NIST5\",\"X11\",\"NIST5\",\"Skein\",\"Scrypt\",\"X13\",\"Scrypt\",\"X11\",\"X11\",\"Scrypt\",\"CryptoNight\",\"X13\",\"Time Travel\",\"Scrypt\",\"Keccak\",\"SkunkHash v2 Raptor\",\"X11\",\"Skein\",\"SHA-256\",\"X11\",\"Scrypt\",\"VeChainThor Authority\",\"Scrypt\",\"PoS\",\"Scrypt\",\"Scrypt\",\"Scrypt\",\"Scrypt\",\"Scrypt\",\"Scrypt\",\"CryptoNight\",\"SHA-512\",\"Ouroboros\",\"X11\",\"Equihash\",\"NeoScrypt\",\"X11\",\"Scrypt\",\"NeoScrypt\",\"Lyra2REv2\",\"Equihash\",\"Scrypt\",\"SHA-256\",\"NIST5\",\"PHI1612\",\"Dagger\",\"Scrypt\",\"Quark\",\"Scrypt\",\"POS 2.0\",\"Scrypt\",\"SHA-256\",\"X11\",\"NeoScrypt\",\"Ethash\",\"NeoScrypt\",\"X11\",\"DPoS\",\"NIST5\",\"X13\",\"Multiple\",\"Scrypt\",\"CryptoNight\",\"CryptoNight\",\"Ethash\",\"NIST5\",\"Quark\",\"X11\",\"CryptoNight-V7\",\"Scrypt\",\"Scrypt\",\"Scrypt\",\"X11\",\"BLAKE256\",\"X11\",\"NeoScrypt\",\"Quark\",\"NeoScrypt\",\"Scrypt\",\"Scrypt\",\"Scrypt\",\"X11\",\"X11\",\"SHA-256\",\"C11\",\"POS 3.0\",\"Ethash\",\"Scrypt\",\"CryptoNight\",\"SkunkHash\",\"Scrypt\",\"CryptoNight\",\"Scrypt\",\"Dagger\",\"Lyra2REv2\",\"X13\",\"Proof-of-BibleHash\",\"SHA-256 + Hive\",\"Scrypt\",\"Scrypt\",\"X11\",\"C11\",\"Proof-of-Authority\",\"X11\",\"XEVAN\",\"Scrypt\",\"VBFT\",\"Ethash\",\"CryptoNight\",\"Scrypt\",\"IMesh\",\"NIST5\",\"Scrypt\",\"Scrypt\",\"Equihash\",\"Scrypt\",\"Lyra2Z\",\"Green Protocol\",\"PoS\",\"Scrypt\",\"Semux BFT consensus\",\"X11\",\"Quark\",\"PoS\",\"CryptoNight\",\"X16R\",\"Scrypt\",\"NIST5\",\"Lyra2RE\",\"XEVAN\",\"Tribus\",\"Scrypt\",\"Lyra2Z\",\"CryptoNight\",\"CryptoNight Heavy\",\"CryptoNight\",\"Scrypt\",\"Scrypt\",\"Jump Consistent Hash\",\"SHA-256D\",\"CryptoNight\",\"Scrypt\",\"X15\",\"Scrypt\",\"Quark\",\"SHA-256\",\"DPoS\",\"X16R\",\"HMQ1725\",\"X11\",\"X16R\",\"Quark\",\"Quark\",\"Scrypt\",\"Lyra2REv2\",\"Quark\",\"Scrypt\",\"Scrypt\",\"CryptoNight-V7\",\"Cryptonight-GPU\",\"XEVAN\",\"CryptoNight Heavy\",\"X11\",\"X11\",\"Scrypt\",\"PoS\",\"SHA-256\",\"Keccak\",\"X11\",\"X11\",\"Scrypt\",\"SHA-512\",\"X16R\",\"ECC 256K1\",\"Equihash\",\"XEVAN\",\"Lyra2Z\",\"SHA-256\",\"XEVAN\",\"CryptoNight\",\"Quark\",\"Blake\",\"Blake\",\"Equihash\",\"Exosis\",\"Scrypt\",\"Scrypt\",\"Equihash\",\"Quark\",\"Equihash\",\"Quark\",\"Scrypt\",\"QuBit\",\"X11\",\"Scrypt\",\"XEVAN\",\"SHA-256D\",\"X11\",\"SHA-256\",\"X13\",\"SHA-256\",\"X11\",\"DPoS\",\"Scrypt\",\"Scrypt\",\"NeoScrypt\",\"Scrypt\",\"Blake\",\"Scrypt\",\"SHA-256\",\"X11\",\"Scrypt\",\"Scrypt\",\"SHA-256\",\"X11\",\"SHA-256\",\"Scrypt\",\"Scrypt\",\"Scrypt\",\"Groestl\",\"X11\",\"Scrypt\",\"PoS\",\"Scrypt\",\"Scrypt\",\"X11\",\"SHA-256\",\"DPoS\",\"Scrypt\",\"Scrypt\",\"NeoScrypt\",\"Multiple\",\"X13\",\"Equihash+Scrypt\",\"Ethash\",\"SHA-256\",\"Leased POS\",\"PoS\",\"TRC10\",\"PoS\",\"SHA-256\",\"Scrypt\",\"CryptoNight\",\"Equihash\",\"Scrypt\"],\"CoinName\":[\"42 Coin\",\"404Coin\",\"EliteCoin\",\"Bitcoin\",\"Litecoin\",\"Dash\",\"Ethereum Classic\",\"ZCash\",\"Bitshares\",\"DigiByte\",\"BitcoinDark\",\"PayCoin\",\"ProsperCoin\",\"KoboCoin\",\"Spreadcoin\",\"Argentum\",\"Aurora Coin\",\"MyriadCoin\",\"MoonCoin\",\"ZetaCoin\",\"SexCoin\",\"Quatloo\",\"QuarkCoin\",\"Riecoin\",\"Digitalcoin \",\"BitBar\",\"Catcoin\",\"CryptoBullion\",\"CannaCoin\",\"CryptCoin\",\"CasinoCoin\",\"Diamond\",\"Verge\",\"DevCoin\",\"EarthCoin\",\"E-Gulden\",\"Einsteinium\",\"Emerald\",\"Franko\",\"FeatherCoin\",\"GrandCoin\",\"GlobalCoin\",\"GoldCoin\",\"HoboNickels\",\"Infinite Coin\",\"IOCoin\",\"IXcoin\",\"KrugerCoin\",\"LuckyCoin\",\"Litebar \",\"MaxCoin\",\"MegaCoin\",\"MediterraneanCoin\",\"MinCoin\",\"MazaCoin\",\"Nautilus Coin\",\"NobleCoin\",\"Namecoin\",\"NyanCoin\",\"Orbitcoin\",\"PotCoin\",\"PhoenixCoin\",\"RonPaulCoin\",\"StableCoin\",\"SmartCoin\",\"SyncCoin\",\"SysCoin\",\"TeslaCoin\",\"TigerCoin\",\"TittieCoin\",\"TorCoin\",\"TerraCoin\",\"UnbreakableCoin\",\"Unobtanium\",\"UnitaryStatus Dollar\",\"UltraCoin\",\"ViaCoin\",\"Vertcoin\",\"WorldCoin\",\"X11 Coin\",\"JouleCoin\",\"ZCC Coin\",\"ByteCoin\",\"DigitalNote \",\"BurstCoin\",\"StorjCoin\",\"MonaCoin\",\"Neutron\",\"Gulden\",\"PesetaCoin\",\"Kore\",\"Wild Beast Coin\",\"Dnotes\",\"Flo\",\"Sativa Coin\",\"ArtByte\",\"Folding Coin\",\"Ucoin\",\"OmniCron\",\"Vtorrent\",\"GreenCoin\",\"Cryptonite\",\"MasterCoin\",\"SoonCoin\",\"1Credit\",\"Nexus\",\"MarsCoin \",\"Crypto\",\"Anarchists Prime\",\"Droidz\",\"BowsCoin\",\"Song Coin\",\"BitZeny\",\"Diggits\",\"Expanse\",\"Paycon\",\"Emercoin\",\"EverGreenCoin\",\"MindCoin\",\"I0coin\",\"Decred\",\"Revolution VR\",\"HOdlcoin\",\"EDRCoin\",\"Hitcoin\",\"Gamecredits\",\"DubaiCoin\",\"CarpeDiemCoin\",\"BillaryCoin\",\"GPU Coin\",\"Adzcoin\",\"SoilCoin\",\"YoCoin\",\"SibCoin\",\"EuropeCoin\",\"ZeitCoin\",\"SwingCoin\",\"SafeExchangeCoin\",\"Nebuchadnezzar\",\"Francs\",\"BolivarCoin\",\"Ratecoin\",\"Revenu\",\"Clockcoin\",\"VIP Tokens\",\"BitSend\",\"Omni\",\"Let it Ride\",\"PutinCoin\",\"iBankCoin\",\"Frankywillcoin\",\"MudraCoin\",\"PizzaCoin\",\"Lutetium Coin\",\"Komodo\",\"GoldBlocks\",\"CarterCoin\",\"Karbo\",\"BitTokens\",\"ZayedCoin\",\"MustangCoin\",\"ZoneCoin\",\"Circuits of Value\",\"DopeCoin\",\"DollarCoin\",\"Swiscoin\",\"Shilling\",\"BuzzCoin\",\"Opair\",\"Halloween Coin\",\"ZCoin\",\"CoffeeCoin\",\"RoyalCoin\",\"GanjaCoin V2\",\"TeamUP\",\"LanaCoin\",\"Elementrem\",\"ZClassic\",\"ARK\",\"InsaneCoin\",\"KiloCoin\",\"ArtexCoin\",\"EmberCoin\",\"XenixCoin\",\"FreeCoin\",\"PLNCoin\",\"AquariusCoin\",\"Kurrent\",\"Creatio\",\"Eternity\",\"Eurocoin\",\"BitcoinFast\",\"Stakenet\",\"BitConnect Coin\",\"MoneyCoin\",\"Enigma\",\"Cannabis Industry Coin\",\"Russiacoin\",\"PandaCoin\",\"GameUnits\",\"GAKHcoin\",\"Allsafe\",\"LiteCreed\",\"OsmiumCoin\",\"Bikercoins\",\"HexxCoin\",\"Klingon Empire Darsek\",\"Internet of People\",\"KushCoin\",\"Printerium\",\"PacCoin\",\"Impeach\",\"Citadel\",\"Zilbercoin\",\"FirstCoin\",\"BeaverCoin\",\"FindCoin\",\"VaultCoin\",\"Zero\",\"OpenChat\",\"Canada eCoin\",\"Zoin\",\"RenosCoin\",\"DubaiCoin\",\"VirtacoinPlus\",\"TajCoin\",\"Impact\",\"EB3coin\",\"Atmos\",\"HappyCoin\",\"Coinonat\",\"MacronCoin\",\"Condensate\",\"Independent Money System\",\"ArgusCoin\",\"LomoCoin\",\"ProCurrency\",\"GoldReserve\",\"BenjiRolls\",\"GrowthCoin\",\"ILCoin\",\"Phreak\",\"Degas Coin\",\"HTML5 Coin\",\"Ultimate Secure Cash\",\"EquiTrader\",\"QTUM\",\"Quantum Resistant Ledger\",\"Espers\",\"Nano\",\"ChanCoin\",\"Dinastycoin\",\"Denarius\",\"DigitalPrice\",\"Virta Unique Coin\",\"Bitcoin Planet\",\"Unify\",\"BritCoin\",\"SocialCoin\",\"ArcticCoin\",\"DAS\",\"Linda\",\"LeviarCoin\",\"DeepOnion\",\"Bitcore\",\"gCn Coin\",\"SmartCash\",\"Signatum\",\"Onix\",\"Cream\",\"Bitcoin Cash\",\"Monoeci\",\"Draftcoin\",\"Vechain\",\"Sojourn Coin\",\"Stakecoin\",\"FrazCoin\",\"Kronecoin\",\"AdCoin\",\"Linx\",\"CoinonatX\",\"Ethereum Dark\",\"Sumokoin\",\"Obsidian\",\"Cardano\",\"Regalcoin\",\"BitcoinZ\",\"TrezarCoin\",\"Elements\",\"TerraNovaCoin\",\"VIVO Coin\",\"Rupee\",\"Bitcoin Gold\",\"WomenCoin\",\"Theresa May Coin\",\"NamoCoin\",\"LUXCoin\",\"Pirl\",\"Xios\",\"Bitcloud 2.0\",\"eBoost\",\"KekCoin\",\"BlackholeCoin\",\"Infinity Economics\",\"Pura\",\"Innova\",\"Ellaism\",\"GoByte\",\"Magnet\",\"Lamden Tau\",\"Electra\",\"Bitcoin Diamond\",\"SHIELD\",\"Cash & Back Coin\",\"UltraNote\",\"BitCoal\",\"DaxxCoin\",\"Bulwark\",\"Kalkulus\",\"AC3\",\"Lethean\",\"GermanCoin\",\"LiteCoin Ultra\",\"PopularCoin\",\"PhantomX\",\"Photon\",\"Sucre\",\"SparksPay\",\"Digiwage\",\"GunCoin\",\"IrishCoin\",\"Trollcoin\",\"Litecoin Plus\",\"Monkey Project\",\"Pioneer Coin\",\"UnitedBitcoin\",\"Interzone\",\"TokenPay\",\"1717 Masonic Commemorative Token\",\"My Big Coin\",\"TurtleCoin\",\"MUNcoin\",\"Unified Society USDEX\",\"Niobio Cash\",\"ShareChain\",\"Travelflex\",\"KREDS\",\"Tokyo Coin\",\"BiblePay\",\"LitecoinCash\",\"BitFlip\",\"LottoCoin\",\"Crypto Improvement Fund\",\"Stipend\",\"Poa Network\",\"Pushi\",\"Ellerium\",\"Velox\",\"Ontology\",\"Callisto Network\",\"BitTube\",\"Poseidon\",\"Aidos Kuneen\",\"Bitspace\",\"Briacoin\",\"Ignition\",\"Bitrolium\",\"MedicCoin\",\"Alpenschillling\",\"Bitcoin Green\",\"Deviant Coin\",\"Abjcoin\",\"Semux\",\"FuturoCoin\",\"Carebit\",\"Zealium\",\"Monero Classic\",\"Proton\",\"iDealCash\",\"Jumpcoin\",\"Infinex\",\"Bitcoin Incognito\",\"KEYCO\",\"HollyWoodCoin\",\"GINcoin\",\"PlatinCoin\",\"Loki\",\"Newton Coin\",\"Swisscoin\",\"Xt3ch\",\"MassGrid\",\"TheVig\",\"PluraCoin\",\"EmaratCoin\",\"Dekado\",\"Lynx\",\"Poseidon Quark\",\"BitcoinWSpectrum\",\"Muse\",\"Motion\",\"PlusOneCoin\",\"Axe\",\"Trivechain\",\"Dystem\",\"Giant\",\"Peony Coin\",\"Absolute Coin\",\"Vitae\",\"HexCoin\",\"TPCash\",\"Webchain\",\"Ryo\",\"Urals Coin\",\"Qwertycoin\",\"ARENON\",\"EUNO\",\"MMOCoin\",\"Ketan\",\"Project Pai\",\"XDNA\",\"PAXEX\",\"Azart\",\"ThunderStake\",\"Kcash\",\"Xchange\",\"Acute Angle Cloud\",\"CrypticCoin\",\"Bettex coin\",\"Actinium\",\"Bitcoin SV\",\"BitMoney\",\"FREDEnergy\",\"HerbCoin\",\"Universal Molecule\",\"Lithium\",\"PirateCash\",\"Exosis\",\"Block-Logic\",\"Oduwa\",\"Beam\",\"Galilel\",\"Bithereum\",\"Crypto Sports\",\"Credit\",\"SLICE\",\"Dash Platinum\",\"Nasdacoin\",\"Beetle Coin\",\"Titan Coin\",\"Award\",\"BLAST\",\"Bitcoin Rhodium\",\"GlobalToken\",\"Insane Coin\",\"ALAX\",\"LiteDoge\",\"SolarCoin\",\"UFO Coin\",\"OrangeCoin\",\"BlakeCoin\",\"BitstarCoin\",\"NeosCoin\",\"PinkCoin\",\"Crypto Escudo\",\"AudioCoin\",\"IncaKoin\",\"Piggy Coin\",\"Crown Coin\",\"Genstake\",\"SmileyCoin\",\"XiaoMiCoin\",\"Groestlcoin\",\"CapriCoin\",\" ClubCoin\",\"Radium\",\"Bata\",\"Pakcoin\",\"Creditbit \",\"OKCash\",\"Lisk\",\"HiCoin\",\"WhiteCoin\",\"FriendshipCoin\",\"JoinCoin\",\"Triangles Coin\",\"Vollar\",\"Reality Clash\",\"TigerCash\",\"Waves\",\"Particl\",\"BitTorrent\",\"Nxt\",\"ZEPHYR\",\"Gapcoin\",\"Beldex\",\"Horizen\",\"BitcoinPlus\"],\"ProofType\":[\"PoW/PoS\",\"PoW/PoS\",\"PoW/PoS\",\"PoW\",\"PoW\",\"PoW/PoS\",\"PoW\",\"PoW\",\"PoS\",\"PoW\",\"PoW/PoS\",\"PoS\",\"PoW\",\"PoW/PoS\",\"PoW\",\"PoW\",\"PoW/PoS\",\"PoW\",\"PoW\",\"PoW\",\"PoW\",\"PoW\",\"PoW\",\"PoW\",\"PoW\",\"PoW/PoS\",\"PoW\",\"PoW/PoS\",\"PoW\",\"PoW\",\"PoC\",\"PoW/PoS\",\"PoW\",\"PoW\",\"PoW\",\"PoW\",\"PoW\",\"PoW\",\"PoW\",\"PoW\",\"PoW\",\"PoW\",\"PoW\",\"PoW/PoS\",\"PoW\",\"PoW/PoS\",\"PoW\",\"PoW\",\"PoW\",\"PoW\",\"PoW/PoS\",\"PoW\",\"PoW\",\"PoW\",\"PoW/PoS\",\"PoS\",\"PoW\",\"PoW\",\"PoW\",\"PoW/PoS\",\"PoW/PoS\",\"PoW/PoS\",\"PoW\",\"PoW\",\"PoW\",\"PoW/PoS\",\"PoW\",\"PoS\",\"PoW\",\"PoS\",\"PoW/PoS\",\"PoW\",\"PoW\",\"PoW\",\"PoW/PoS\",\"PoW/PoS\",\"PoW\",\"PoW\",\"PoW\",\"PoW/PoS\",\"PoW\",\"PoW/PoS\",\"PoW\",\"PoW\",\"PoC\",\"PoS\",\"PoW\",\"PoW/PoS\",\"PoW\",\"PoW\",\"PoW/PoS\",\"PoW\",\"PoS\",\"PoW\",\"PoW/PoS\",\"PoW\",\"PoW\",\"PoS\",\"PoW\",\"PoW/PoS\",\"PoW\",\"PoW\",\"PoW\",\"PoW\",\"PoW\",\"PoW/nPoS\",\"PoW\",\"PoW\",\"PoW\",\"PoW/PoS\",\"PoW\",\"PoW\",\"PoW\",\"PoS\",\"PoW\",\"PoW/PoS\",\"PoW/PoS\",\"PoW/PoS\",\"PoW\",\"PoW\",\"PoW/PoS\",\"PoW\",\"PoW\",\"PoW/PoS\",\"PoW/PoS\",\"PoW\",\"PoW/PoS\",\"PoW\",\"PoW/PoS\",\"PoS\",\"PoW\",\"PoW\",\"PoW\",\"PoW\",\"PoW/PoS\",\"PoS\",\"PoW/PoS\",\"PoC\",\"PoS\",\"PoW\",\"PoW\",\"PoW/PoS\",\"PoW/PoS\",\"PoW/PoS\",\"PoW/PoS\",\"PoW/PoS\",\"PoW\",\"PoS\",\"PoW/PoS\",\"PoW/PoS\",\"PoW/PoS\",\"PoS\",\"PoW\",\"PoS\",\"dPoW/PoW\",\"PoW/PoS\",\"PoW/PoS\",\"PoW\",\"PoW/PoS\",\"PoW\",\"PoW/PoS\",\"PoW/PoS\",\"PoW\",\"PoW\",\"PoW\",\"PoW/PoW\",\"PoW\",\"PoW/PoS\",\"PoS\",\"PoW/PoS\",\"PoW\",\"PoS\",\"PoS\",\"PoW/PoS\",\"PoS\",\"PoW/PoS\",\"PoW\",\"PoW\",\"DPoS\",\"PoW/PoS\",\"PoW\",\"PoW\",\"PoW/PoS\",\"PoW/PoS\",\"PoS\",\"PoW/PoS\",\"PoW/PoS\",\"PoW\",\"PoS\",\"PoW/PoS\",\"PoW/PoS\",\"PoW/PoS\",\"TPoS\",\"PoW/PoS\",\"PoW/PoS\",\"PoW/PoS\",\"PoW\",\"PoW/PoS\",\"PoS\",\"PoW/PoS\",\"PoW/PoS\",\"PoS\",\"PoW/PoS\",\"PoW\",\"PoW\",\"PoW\",\"PoW/PoS\",\"PoW/PoS\",\"PoW/PoS\",\"PoW/PoS\",\"PoW\",\"PoW/PoS\",\"PoW\",\"PoS\",\"PoW/PoS \",\"PoW\",\"PoS\",\"PoW\",\"PoW\",\"PoW/PoS\",\"PoW\",\"PoW\",\"PoS\",\"PoW\",\"PoW/PoS\",\"PoW/PoS\",\"PoW/PoS\",\"PoW\",\"PoS\",\"PoW/PoS\",\"PoW\",\"PoS\",\"PoW/PoS\",\"PoW/PoS\",\"PoW/PoS\",\"PoW/PoS\",\"PoS\",\"PoW/PoS\",\"PoW\",\"PoS\",\"PoW\",\"PoS\",\"PoW/PoS\",\"PoW/PoS\",\"PoS\",\"PoW\",\"PoS\",\"PoW\",\"PoW/PoS\",\"PoW\",\"PoW\",\"PoW\",\"PoW/PoS\",\"PoW\",\"PoW/PoS\",\"PoW/PoS\",\"PoW\",\"PoW/PoS\",\"PoW\",\"PoW\",\"PoW\",\"PoW/PoS\",\"PoW\",\"PoW/PoS\",\"PoW\",\"PoW\",\"PoW\",\"PoS\",\"PoW\",\"PoW/PoS\",\"PoW\",\"PoW/PoS\",\"PoS\",\"Proof of Authority\",\"PoW\",\"PoS\",\"PoW\",\"PoW\",\"PoW\",\"PoW\",\"PoW/PoS\",\"PoW/PoS\",\"PoW\",\"PoS\",\"PoS\",\"PoW/PoS\",\"PoW\",\"PoW/PoS\",\"PoW\",\"PoW/PoS\",\"PoW\",\"PoS\",\"PoW\",\"PoW/PoS\",\"PoW/PoS\",\"PoW/PoS\",\"PoW/PoS\",\"PoW\",\"PoW/PoS\",\"PoW/PoS\",\"PoW\",\"PoS\",\"PoW/PoS\",\"PoS\",\"PoW\",\"PoW\",\"PoW\",\"PoW\",\"PoW/PoS\",\"DPoS\",\"PoW/PoS\",\"PoW/PoS\",\"PoW\",\"PoW/PoS\",\"PoW\",\"PoW\",\"PoW\",\"PoS\",\"PoS\",\"PoW\",\"PoW\",\"PoW/PoS\",\"PoW/PoS\",\"PoW\",\"PoW/PoS\",\"PoW\",\"PoW\",\"PoW\",\"PoS\",\"PoW\",\"PoW\",\"PoW/PoS\",\"PoW/PoS\",\"PoS\",\"PoW\",\"PoW\",\"PoW\",\"PoS\",\"PoS\",\"PoW and PoS\",\"PoW\",\"PoW\",\"PoW/PoS\",\"PoW\",\"PoW\",\"PoW\",\"PoW\",\"PoS\",\"POBh\",\"PoW + Hive\",\"PoW\",\"PoW\",\"PoW\",\"PoW/PoS\",\"PoA\",\"PoW/PoS\",\"PoW/PoS\",\"PoS\",\"PoS\",\"PoW\",\"PoW\",\"PoW\",\"PoW\",\"PoW/PoS\",\"PoW/PoS\",\"PoW/PoS\",\"PoW\",\"PoS\",\"PoW\",\"PoS\",\"PoS\",\"PoW/PoS\",\"DPoS\",\"PoW\",\"PoW/PoS\",\"PoS\",\"PoW\",\"PoS\",\"PoW/PoS\",\"PoW\",\"PoW\",\"PoS/PoW\",\"PoW\",\"PoS\",\"PoW\",\"PoW\",\"PoW\",\"PoW\",\"PoW/PoS\",\"PoS\",\"PoW\",\"PoW/PoS\",\"PoW\",\"PoW/PoS\",\"PoS\",\"HPoW\",\"PoS\",\"PoS\",\"PoS\",\"PoW\",\"PoW\",\"PoW\",\"PoW/PoS\",\"PoS\",\"PoW/PoS\",\"PoS\",\"PoW/PoS\",\"PoS\",\"PoW\",\"PoW/PoS\",\"PoW\",\"PoW\",\"PoW\",\"PoW\",\"PoS\",\"PoW/PoS\",\"PoS\",\"PoS\",\"PoW\",\"PoW/PoS\",\"PoS\",\"PoW\",\"PoW/PoS\",\"Zero-Knowledge Proof\",\"PoW\",\"DPOS\",\"PoW\",\"PoS\",\"PoW\",\"PoW\",\"Pos\",\"PoW\",\"PoW/PoS\",\"PoW\",\"PoW\",\"PoS\",\"PoW\",\"PoW\",\"PoW/PoS\",\"PoW\",\"PoW/PoS\",\"PoW\",\"PoS\",\"PoW/PoS\",\"PoW\",\"PoS\",\"PoW/PoS\",\"PoW/PoS\",\"PoW/PoS\",\"PoW/PoS\",\"PoW\",\"PoW\",\"PoW\",\"PoW/PoS\",\"DPoS\",\"PoW/PoS\",\"PoW\",\"PoW\",\"PoW/PoS\",\"PoW\",\"PoW/PoS\",\"PoS\",\"PoW/PoS\",\"PoW\",\"PoW/PoS\",\"PoW/PoS\",\"PoW/PoS\",\"PoW\",\"PoW/PoS\",\"PoW\",\"PoW/PoS\",\"PoW\",\"PoW/PoS\",\"PoW/PoS\",\"PoS\",\"PoW\",\"PoW\",\"Proof of Trust\",\"PoW/PoS\",\"DPoS\",\"PoS\",\"PoW/PoS\",\"PoW/PoS\",\"PoW\",\"PoW/PoS\",\"PoW\",\"PoW\",\"PoS\",\"LPoS\",\"PoS\",\"DPoS\",\"PoS/LPoS\",\"DPoS\",\"PoW/PoS\",\"PoW\",\"PoW\",\"PoS\"],\"TotalCoinSupply\":[\"42\",\"532000000\",\"314159265359\",\"21000000\",\"84000000\",\"22000000\",\"210000000\",\"21000000\",\"3600570502\",\"21000000000\",\"22000000\",\"12500000\",\"21000000\",\"350000000\",\"20000000\",\"64000000\",\"16768584\",\"2000000000\",\"384000000000\",\"169795588\",\"250000000\",\"100000000\",\"247000000\",\"84000000\",\"48166000\",\"500000\",\"21000000 \",\"1000000\",\"13140000\",\"18000000\",\"40000000000\",\"4380000\",\"16555000000\",\"21000000000\",\"13500000000\",\"21000000 \",\"299792458\",\"32000000\",\"11235813\",\"336000000\",\"1420609614\",\"70000000\",\"72245700\",\"120000000\",\"90600000000\",\"22000000\",\"21000000\",\"265420800\",\"20000000\",\"1350000\",\"100000000\",\"42000000\",\"200000000\",\"10000000\",\"2419200000\",\"16180000\",\"15000000000\",\"21000000\",\"337000000\",\"3770000\",\"420000000\",\"98000000\",\"21000000\",\"250000000\",\"51200000\",\"1000\",\"888000000\",\"100000000\",\"47011968\",\"2300000000\",\"10000000\",\"42000000\",\"80000000\",\"250000\",\"1600000000\",\"100000000\",\"23000000\",\"84000000\",\"265420800\",\"5500000\",\"45000000\",\"1000000000\",\"184467440735\",\"10000000000\",\"2158812800\",\"500000000\",\"105120000\",\"68000000\",\"1680000000\",\"166386000\",\"12000000\",\"2628000\",\"500000000\",\"160000000\",\"10000000\",\"1000000000\",\"1000000000\",\"20000000\",\"3371337\",\"20000000\",\"10000000000\",\"1840000000\",\"619478\",\"21000000\",\"92000000000\",\"78000000\",\"33000000\",\"65789100\",\"53760000\",\"5060000\",\"21000000\",\"210240000\",\"250000000\",\"100000000\",\"16906397\",\"50000000\",\"1000000000\",\"26298000\",\"16000000\",\"21000000\",\"21000000\",\"210000000\",\"81962100\",\"22000000\",\"26550000000\",\"84000000\",\"10500000\",\"21626280000 \",\"42000000\",\"221052632\",\"84000000\",\"30000000\",\"168351300\",\"24000000\",\"384000000\",\" 99000000000\",\"40000000\",\"2147483647\",\"20000000\",\"20000000\",\"25000000\",\"75000000\",\"222725000\",\"525000000\",\"90000000\",\"139000000\",\"616448\",\"33500000\",\"2000000000\",\"44333333\",\"100000000\",\"200000000\",\"25000000\",\"657000000\",\"200000000\",\"50000000\",\"90000000\",\"10000000\",\"21000000\",\"9736000\",\"3000000\",\"21000000\",\"1200000000\",\"200000000\",\"10638298\",\"3100000000\",\"30000000\",\"20000000000\",\"74000000\",\"1500000000\",\"21400000\",\"39999898\",\"2500124\",\"100000000\",\"301000000\",\"7506000000\",\"26205539\",\"21000000\",\"125000000\",\"30000000\",\"10000000000\",\"500000000\",\"850000000\",\"3853326.77707314\",\"50000000\",\"38540000 \",\"42000000\",\"228000000\",\"20000000\",\"60000000\",\"20000000\",\"33000000\",\"76500000\",\"28000000\",\"650659833\",\"5000000\",\"21000000\",\"144000000\",\"32514916898\",\"13000000\",\"3315789\",\"15000000\",\"78835200\",\"2714286\",\"25000000\",\"9999999\",\"500000000\",\"21000000\",\"9354000\",\"20000000\",\"100000000000\",\"21933333\",\"185000000\",\"55000000\",\"110000000\",\"3360000\",\"14524851.4827\",\"1000000000\",\"17000000\",\"1000000000\",\"100000000 \",\"21000000\",\"34426423\",\"2232901\",\"100000000\",\"36900000\",\"110000000\",\"4000000000\",\"110290030\",\"100000000\",\"48252000\",\"400000000\",\"500000000\",\"21212121\",\"28600000\",\"1000000000\",\"75000000000\",\"40000000\",\"35520400\",\"2000000000\",\"2500000000\",\"30000000\",\"105000000\",\"90000000000\",\"200084200\",\"72000000\",\"100000000\",\"105000000\",\"50000000000\",\"340282367\",\"30000000\",\"2000000000\",\"10000000\",\"100000000\",\"120000000\",\"100000000\",\"19276800\",\"30000000\",\" 75000000\",\"60000000\",\"18900000\",\"50000000000\",\"54000000\",\"18898187.6216583\",\"21000000\",\"200000000000\",\"5000000000\",\"137500000\",\"1100000000\",\"100000000\",\"21000000\",\"9507271\",\"17405891.19707116\",\"86712634466\",\"10500000000\",\"61599965\",\"20000000\",\"84000000\",\"100000000\",\"100000000\",\"48252000\",\"4200000\",\"88888888\",\"91388946\",\"45000000000\",\"27000000\",\"21000000000\",\"400000000\",\"1800000000\",\"15733333\",\"27000000\",\"24000000\",\"21000000\",\"25000000000\",\"100000000\",\"1200000000\",\"60000000\",\"156306732.71\",\"21000000\",\"200000000\",\"100000000\",\"21000000\",\"14788275.991\",\"9000000000\",\"350000000\",\"45000000\",\"280000000\",\"31800000\",\"144000000\",\"500000000\",\"30000000000\",\"210000000\",\"660000000\",\"210000000\",\"85000000000\",\"12500000\",\"10000000000\",\"27716121\",\"20000000\",\"550000000\",\"999481516\",\"50000000000\",\"150000000\",\"4999999999\",\"50000000\",\" 90000000000\",\"19800000\",\"21000000\",\"120000000\",\"500000000\",\"64000000\",\"900000000\",\"4000000\",\"21000000\",\"23000000\",\"20166000\",\"23000000\",\"25000000\",\"1618033\",\"30000000\",\"1000000000000\",\"16600000\",\"232000000\",\"336000000\",\"10000000000\",\"100000000\",\"1100000000\",\"800000000\",\"5200000000\",\"840000000\",\"40000000\",\"18406979840\",\"500000000\",\"19340594\",\"252460800\",\"25000000\",\"60000000\",\"124000000\",\"1000000000\",\"6500000000\",\"1000000000\",\"21000000\",\"25000000\",\"50000000\",\"3000000\",\"5000000\",\"70000000\",\"500000000\",\"300000000\",\"21000000\",\"88000000\",\"30000000\",\"100000000\",\"100000000\",\"200000000\",\"80000000\",\"18400000\",\"45000000\",\"5121951220\",\"21000000\",\"26280000\",\"21000000\",\"18000000\",\"26000000\",\"10500000\",\"600000518\",\"150000000\",\"184000000000\",\"10200000000\",\"44000000\",\"168000000\",\"100000000\",\"1000000000\",\"84000000\",\"90000000\",\"92000000000\",\"650000000 \",\"100262205\",\"18081806 \",\"22075700\",\"21000000\",\"21000000\",\"82546564\",\"21000000\",\"5151000\",\"16880000000\",\"52500000\",\"100000000\",\"22105263\",\"1000000000\",\"1750000000\",\"88188888\",\"210000000\",\"184470000000\",\"55000000\",\"50000000\",\"260000000\",\"210000000\",\"2100000000\",\"366000000\",\"100000000\",\"25000000\",\"18000000000\",\"1000000000\",\"100000000\",\"1000000000\",\"7600000000\",\"50000000\",\"84000000\",\"21000000\",\"70000000000\",\"8080000000\",\"54000000\",\"105120001.44\",\"25228800\",\"105000000\",\"21000000\",\"120000000\",\"21000000\",\"262800000\",\"19035999\",\"30886000\",\"13370000\",\"74800000000\",\"100000000\",\"19700000\",\"84000000\",\"500000000\",\"5000000000\",\"420000000\",\"64000000\",\"2100000\",\"168000000\",\"30000000\",\"1000000000\",\"35000000000\",\"98100000000\",\"4000000000\",\"200000000\",\"7000000000\",\"54256119\",\"21000000\",\"500000000\",\"1000000000\",\"10500000000\",\"190000000\",\"1000000000\",\"42000000\",\"15000000\",\"50000000000\",\"400000000\",\"105000000\",\"208000000\",\"160000000\",\"9000000\",\"5000000\",\"182000000\",\"16504333\",\"105000000\",\"159918400\",\"10008835635\",\"300000000\",\"60168145\",\"2800000\",\"120000\",\"2100000000\",\"24487944\",\"1000000000\",\"100000000\",\"8634140\",\"990000000000\",\"1000000000\",\"2000000000\",\"250000000\",\"1400222610\",\"21000000\",\"1000000\"],\"TotalCoinsMined\":{\"__ndarray__\":\"E66yfP7/REC4HgUDbHLPQcQCukHCRBtCAAAAcMAYcUH3aGZaOA+OQXMxBczPOWFBAAAAXO0Gm0EAAAAQBCpcQQAAADohbeRBAAAovOg+BUIAAAAAnqozQSm7T9wY4WZBAAAAgB0BVkG7M2l5+Ft4QWiB7L80RGVBEBI9btxHZ0H6KOO/g0txQQAAgMotKNlBAAAAAAAAVkCRe4LLOUqkQWlwu1zuvZ5B7FG4slgRXEG8XNRZDvGuQYxdIUlpoIdBUCyBxcrkf0HO4sVCb8rkQGZYXCm9iltBwkeKTRm2L0HQ6irhofFRQUEOK43eD1NBrrbnCl+gIkKgX6nfEzZJQf32aMnKqw1CAABwUwl8EUJ0k5aAEVsHQktm5uwY8XNB3v//sHAXqkG0yPYk9ZdyQaQ8LSbMbzFBMPUDShPgqEEAAAA1WFnKQQFaxIOwUI9BD/H/v0jdg0EMI73Wa0iVQaOhOnztFzVCauuWH07VcEFt5/tPxBx0QZqZmcPQDaJBzcxM8lZuckHrtrg62NkwQQAAAGi1TI1BQt7x/zkxgkEzMzOHh0eDQbco1DgrJFZB1v//0EsM2EEAAAAAZNxuQWh5ONDpoOFBAAAAAIIbbEHurnvnQfOzQRKlvSNEkkhBAkYH1JGLqkEAAICqHaKRQbN19Gsd2TBBmpmZ2+gXd0GpBiuSeGh4QQAAAAAAZJJASWWmrurJwEEmvO6+tSKTQQAAAACNwoRBsaedNq8s2EHonwEAK9k1QQAAAEB233VBAAAAAINhQUF75AdVfoYIQWZmJuQrYNBB6rAiWTr0h0Hy/6/CEhR2Qcd3iN7KZohBAAAAdDqEnEGqPTbG64NaQWWO5dqisIJBzef0u02koUEAAAd1nm1FQnEgpp2iuvlBAAAA8CwE20EAAADAuGaIQXATfMtFQpBBAAAA8JingkEAAABk5Ly4QeDz06y0ZKBBm6kQ40DcPkGTMePy+TQGQRqL3sPG0aRB26a4ke4mokEAAACAgBJbQQAAAFGUnsdBAAAAT7dwxUEAAAAAioVEQclLLY4xV2NBAAAAQF4iZkFxPQ5ywyzxQQAAAMx5HcVBAAAAAKznIkEAAACAQ8VnQQAAAABQifVAAAAAIKhajkG0zCJtmLp+QQAAAEBSNmpBbqMBAMggbEG/zH/LnFdgQQAAALADQm5BAAAAQIMOf0EAAACQJAeSQQAAAACE15dBAAAAwKUEZEEAAADAovl1QXMvcJZSiIRBdN9gjbfOaUEAAADg5UNuQXci101WBnRBZImz3Q7FY0EAAAAAsQipQQAAAKBO1mVB0TYn7F3/S0EAAJj8c3sEQgAAABB1ppBBAAAAgM2QU0EAAGSVNj8UQmbWt+fqKWFBAAAAkAtNg0EAAACgoYKFQQAAAABowFVBFXuiHl1sI0EAAACwr3ZwQYfTOLms2WNBVp2dlVA3IULEswJnfrJQQQAAwP///99BAAAAANASc0H1ngjqzRBZQQAr9k8IC2pBxmhNekoKoEEAAAAABT4yQQAAAIAkyG9BAAAAjGjlk0FmbwTICEJ3QQAAAAAA0CJB/JNThatmgkGfr0n5ZjvIQQAAAAA9RFFBAAAAAITXl0EAAAAA0BJTQQAAAAB9BjVBAAAAIIOUw0EAAABM3KGbQQAAACCMr21BAAAA4DmVhEEqh1wuGNddQQAAAADKKyJBAAAAAIDRV0F1GeWwyBEkQQAAAADpskNBAAAAAGXNzUEAAACwqtubQQAAAECjXmFBAACA3BLTw0EAAAAATDVlQQAA7E21OxJCKwwuO6qmkUHexZN0WI2vQVHN+E/m3lxBAAAAIHq6oUEAAAAADhNDQQAAAACE15dBeHqlokP+cEFtW+JyHyDQQQAAADDW/XhBAAAAgPtpVUEAAACQIcyZQQAAANA5fnFBAAAA5olmp0EAAAAAn47IQQAAw9UedzVC9SF3YwdmTUEAAAAAhNeHQQAAAABETHBBp5YptVSwQkEAAABo0kKNQQAAAADQEnNB+hDxhDonV0EAAABAxa5nQQFsQHpjTnNBAAAAhKsFkkFvChBMgiJlQQAAAEBO0WRBAAAAAJ7cKEEAAAAAwtktQQAAAECE9V9BtVU3hK59H0IAAACAK39KQQAAAIAmTElBt0Cnl6EPZEEAAABg0tN8QQAAAACUSCtBAAAAAOTYYUHogY9xsqA8QQAAAMDr2nZBiCPVPL9FQ0GsM0Q9dpZVQQAAAABUjGZBAAAAHdkAwEEAAAAATM8SQQcKvNAc7GRBjINs+zpMRkEAAAAA3jmaQQAAAAB9xEdBRUdybza0a0EAAABAWPp8QRx4lnltZ1pBAAAAAGXNzUGibUNB9c2XQQAAANjFr3FBAAAA6K0wgUEAAACAIglBQU3lvqIfG2lBIY+gfVA9Z0He4WbPV2CaQQAAAKA5kI5BBFaOczF/mkHLmyigOoZ0QQAAAAD4TmNBAAAAWTTtt0E7VJOu3gGdQQAAAIAZe1RBAAAAAKSFMUEAAAAAgIQeQQAAAETT+JdBAAAAYDtgcEGMKVgyOFZzQQmkXOpol7FBAAAAy86i00FgRy0/orllQQAAAMCKXnRBAADA0e7uIkIAAAAgWbpjQXJC1813FGpBAAAAAITXl0FlCFbDn3WQQQAA3HtkPBVCAAAApNTEn0GR22qx9Y1xQQAAwMGR9tpBAAAAADvTT0EAAAD4bMGAQQAAANhbA45BAAAAgOL0WUEAAACwDEtxQQAAAMBnSHRBAAAAwKe2U0EgFfrF/9V4QQAAAADTAkRBf/D5i/XYAEIAAABg8QJrQZrdyaDV5nRBkpqRkij6cEEAAE6ra/tCQksfp79isuBBAAAAeCK+mUHKGI/ZUTOdQZHD0dPOkYZBarxZWnQpcUEjWCbRVflnQfJrlRV4zHFBAACgM7jSKUIAAAAAeJ0dQQAAAACAhE5BAAAAQE2CYkFw2XdWK6VwQQkyArFkIn9BAAAAcMkTgEEAAABAaKJyQQAAAACQBVBBAAAAoHsQYUEAAAAAhNd3QQAAKM1+JRhCzr66gjC0W0EDPqDeH2rzQQAAAICuxaVBy0qbvkkj5EGLprPq/mcxQVF7mcmnyE9BAAAAAGDjdkH5hGyRy2dwQQAAjLzRkCZCAAAAwFXylUEAAAAKwrTAQdlvVtQbr19BAAAAIM00gEEAAAAAnGZAQYpweOjvSX1BJ0/5xefWl0Hg88PJ5oRnQcl2vh+GNW9BAACwz4jDAEIAAADmKeOkQSlcj8LWUVhBAAAA4LFUaEEAAAC4nD9WQY52rBbqNoJBYW9+x+krsUEAAACS4nIaQsmUx5ED4aVB6fCQBqC2vEHPayxFf3WaQTj4lfsk9RFCAAAAAIgqUUEAAACELQy/Qb7tLlxZRGlBqtpuTpcrcEEAAAC8HCaTQRKDYLnxTLpBXI/WvvhL8kHLoUVKCQ9gQUjhGyQdie1BBOfcMG6KhUFZF6rN7wUcQv52QCDsIVBBqQRZVX7vXUEAAAAA9gh6QQAAAMGN3rFBm/K3SiGwhUEAAABOJZ3BQQndJR2TG0NBAAAAAPXPUEFs0d4KsytgQQAAAABXO3NBRN0Hg6W6ZkFWAY1Yqn9zQQAAAABxsDhB6KPo0IXtYUE9ipsSw74oQiP3U79oYVJB4XaQc/D+q0HFrxjPlu6fQQAAACBfoAJCJXMcSJ2WmUHVIcXjxS/DQQAAAFoqdKtB8dd4J/5n2kGWsBp+eAbDQRXGFoAyvWdBAACoqNr9CkJPPwDNSjCpQURLA8bRdWVBAAAAfjRgqEHNzMyMCYpAQVK4HoUtlxlBWiYo0q1ieEEAAIC4lGXDQQAAAEqIhK1BdXWf684Vk0GYUBwTog1PQQAAAACE13dBGcIW1FlMakEZtn+gi84pQQAAAIDJCTJBAAAAVDEDkUEAAKAYR92vQYN0bFrtEnpBfQaUa/WyYkFNBaat9tx0Qeux5ct22GJBAAAAACvJMkGJEf1SB1R+QXJuA5mDqKBBTNr5wtYfZUEAAAAAvIxuQQAAAACWzFBB5nRdlm/s1EGTQQkk4hd0QURRfW02clNBjX70YrDMZEEAAAAAbkYoQbN2u8vzdIJBBFMT7aemWkEAAAAAwJT0QAAAAAAuRHJBAACivbA6I0IAAAAwvf8CQkhQ/AAsG11Bg20UIDEyoEGcs497yrJ/QSXLM+AdscBB78nDukaZdEHP8+dFmuF8QVnmi1WJITJC6NT8eTS5REEY0gHIAZGLQQAAAIAfWnFBpq1XQWr/XkE4UF7FY31gQaKloawBDFNBrPn2hDebgUFNI9YPZgRbQasgKXHAlFZBluWQ57jML0GotR8+EW5pQSFAAa03f49BSGTlENedNUEZ8ryfJp1UQddG4emEt21BAAAAQESoUkFpyxQjRSBsQV3NAOrTLTdCcT0KX3hgckEXDZ5fe1h9Qf+yq29isZlBB1Ybc0PKYUEAAABA3UrfQXtmCXYA01FBAAAAwA8vUUHawOFXUiJTQRiaN9DOls9BAAAAAGXNzUFRV68zk5piQQAAAABlzc1BAAAAitWN70FyYIdLU+RZQQAAAECkAWpBP8xZKrQocUFhFLwwZtuoQZAsUsY/0ttBhCXzzZHWgEGTuDtQKRU4Qcfd8SeoOW5BAAAAAAq0aUEzMzOzL8kYQc09ZGk304BBHUacrJkvbEEAAAAAYwSBQaBE+jM7a3FBAAAAOFT8d0H0/tysbYU9QU8ewAZstRxCjbmGzWunaEHVjX/iFtclQSbCSwM+mHNBbw+6QBy3p0EAAABosbbKQa3xPlFpaW1BzbkFZYbviEEAAACAdNsxQdL+/69fLJRBOMwhha2sdkEAAAAAZc3NQecdSFWdiAxC+z8Xo9h+ikEAAID6AX/sQQAAAAB//EpBSAVkYldGdkEAAABAkZ9zQV5Lxo9QwVBBF4V9WDoCukEAAAAGiUDHQR9ofThlOs1BBFbV6ym1EEJuUAeag3W9QUrmXREL7HVBAAAAADicjEFprytpX40bQpijizthGbhBuqmMb8R5kUGs4drOJgGoQa4Pq9CTtJhBBonp3l4nTUGfQd76IkZTQZk6wZ0znZBBDFuTijkecEEqosuD3c2RQQAAALD1nJxBApot/nygAkKKmGJ4mQquQaD9SAGBGDFBAAAAQJ1tSUGoOuQGTi8BQQAAAACE15dB+HqIgYBad0EAAAAAZc3NQQAAAACE15dB2arJMci0YUHF9Hue/c9sQgAAAABlzc1B847T/mTN3UGU+vLEjHpsQQAAgEGBNs1BAAAAYIbVW0FH2AHxb1T/QA==\",\"dtype\":\"float64\",\"order\":\"little\",\"shape\":[497]},\"class\":{\"__ndarray__\":\"AAAAAAAAAAAAAAAAAQAAAAEAAAAAAAAAAQAAAAEAAAAAAAAAAQAAAAAAAAAAAAAAAQAAAAAAAAABAAAAAQAAAAAAAAABAAAAAQAAAAEAAAABAAAAAQAAAAEAAAABAAAAAQAAAAAAAAABAAAAAAAAAAEAAAABAAAAAAAAAAAAAAABAAAAAQAAAAEAAAABAAAAAQAAAAEAAAABAAAAAQAAAAEAAAABAAAAAQAAAAAAAAABAAAAAAAAAAEAAAABAAAAAQAAAAEAAAAAAAAAAQAAAAEAAAABAAAAAAAAAAAAAAABAAAAAQAAAAEAAAAAAAAAAAAAAAAAAAABAAAAAQAAAAEAAAAAAAAAAQAAAAAAAAABAAAAAAAAAAAAAAABAAAAAQAAAAEAAAAAAAAAAAAAAAEAAAABAAAAAQAAAAAAAAABAAAAAAAAAAEAAAABAAAAAAAAAAAAAAABAAAAAAAAAAEAAAABAAAAAAAAAAEAAAAAAAAAAQAAAAAAAAABAAAAAQAAAAAAAAABAAAAAAAAAAEAAAABAAAAAQAAAAEAAAABAAAAAAAAAAEAAAABAAAAAQAAAAAAAAABAAAAAQAAAAEAAAAAAAAAAQAAAAAAAAAAAAAAAAAAAAEAAAABAAAAAAAAAAEAAAABAAAAAAAAAAAAAAABAAAAAAAAAAEAAAAAAAAAAAAAAAEAAAABAAAAAQAAAAEAAAAAAAAAAAAAAAAAAAAAAAAAAAAAAAEAAAABAAAAAAAAAAAAAAAAAAAAAAAAAAAAAAABAAAAAAAAAAAAAAAAAAAAAAAAAAAAAAABAAAAAAAAAAEAAAAAAAAAAAAAAAEAAAAAAAAAAQAAAAAAAAAAAAAAAQAAAAEAAAABAAAAAAAAAAEAAAAAAAAAAAAAAAAAAAABAAAAAAAAAAAAAAAAAAAAAAAAAAAAAAABAAAAAQAAAAAAAAAAAAAAAQAAAAEAAAAAAAAAAAAAAAAAAAAAAAAAAAAAAAEAAAAAAAAAAAAAAAAAAAAAAAAAAAAAAAAAAAAAAAAAAAAAAAEAAAAAAAAAAAAAAAAAAAAAAAAAAAAAAAAAAAABAAAAAQAAAAEAAAAAAAAAAAAAAAAAAAAAAAAAAQAAAAAAAAABAAAAAAAAAAAAAAABAAAAAAAAAAEAAAABAAAAAAAAAAEAAAABAAAAAAAAAAEAAAAAAAAAAAAAAAAAAAABAAAAAAAAAAAAAAABAAAAAAAAAAAAAAAAAAAAAAAAAAAAAAAAAAAAAAAAAAEAAAAAAAAAAQAAAAAAAAAAAAAAAAAAAAAAAAABAAAAAAAAAAEAAAAAAAAAAQAAAAEAAAABAAAAAAAAAAEAAAAAAAAAAAAAAAEAAAAAAAAAAQAAAAEAAAABAAAAAAAAAAEAAAAAAAAAAQAAAAEAAAABAAAAAAAAAAEAAAAAAAAAAQAAAAAAAAAAAAAAAwAAAAEAAAAAAAAAAQAAAAEAAAABAAAAAQAAAAAAAAAAAAAAAQAAAAAAAAAAAAAAAAAAAAEAAAAAAAAAAQAAAAAAAAABAAAAAAAAAAEAAAAAAAAAAAAAAAAAAAAAAAAAAQAAAAAAAAAAAAAAAQAAAAAAAAAAAAAAAAAAAAEAAAABAAAAAQAAAAEAAAAAAAAAAAAAAAAAAAAAAAAAAQAAAAAAAAABAAAAAQAAAAEAAAAAAAAAAAAAAAEAAAABAAAAAAAAAAAAAAABAAAAAAAAAAEAAAABAAAAAQAAAAAAAAABAAAAAQAAAAAAAAAAAAAAAAAAAAEAAAABAAAAAQAAAAAAAAAAAAAAAAAAAAEAAAABAAAAAAAAAAEAAAABAAAAAQAAAAEAAAAAAAAAAwAAAAMAAAABAAAAAQAAAAEAAAAAAAAAAwAAAAAAAAAAAAAAAAAAAAAAAAABAAAAAQAAAAEAAAABAAAAAAAAAAAAAAAAAAAAAQAAAAAAAAABAAAAAAAAAAAAAAAAAAAAAAAAAAEAAAAAAAAAAAAAAAEAAAAAAAAAAAAAAAEAAAABAAAAAAAAAAEAAAAAAAAAAQAAAAEAAAABAAAAAQAAAAAAAAAAAAAAAQAAAAAAAAABAAAAAAAAAAAAAAAAAAAAAAAAAAAAAAAAAAAAAQAAAAEAAAABAAAAAAAAAAAAAAAAAAAAAAAAAAAAAAAAAAAAAQAAAAAAAAABAAAAAQAAAAEAAAABAAAAAAAAAAAAAAAAAAAAAAAAAAEAAAAAAAAAAAAAAAEAAAAAAAAAAAAAAAEAAAADAAAAAQAAAAAAAAABAAAAAQAAAAAAAAABAAAAAAAAAAEAAAABAAAAAAAAAAEAAAABAAAAAAAAAAEAAAAAAAAAAQAAAAAAAAAAAAAAAQAAAAAAAAAAAAAAAAAAAAAAAAAAAAAAAQAAAAEAAAABAAAAAAAAAAAAAAAAAAAAAQAAAAEAAAAAAAAAAQAAAAAAAAAAAAAAAAAAAAEAAAAAAAAAAAAAAAAAAAABAAAAAAAAAAEAAAAAAAAAAQAAAAAAAAAAAAAAAAAAAAEAAAABAAAAAAAAAAAAAAAAAAAAAAAAAAAAAAAAAAAAAQAAAAAAAAABAAAAAQAAAAAAAAADAAAAAAAAAAIAAAAAAAAAAAAAAAAAAAABAAAAAQAAAAAAAAA=\",\"dtype\":\"int32\",\"order\":\"little\",\"shape\":[497]}},\"selected\":{\"id\":\"1828\"},\"selection_policy\":{\"id\":\"1863\"}},\"id\":\"1827\",\"type\":\"ColumnDataSource\"},{\"attributes\":{},\"id\":\"1854\",\"type\":\"NumberFormatter\"},{\"attributes\":{\"editor\":{\"id\":\"1835\"},\"field\":\"Algorithm\",\"formatter\":{\"id\":\"1834\"},\"title\":\"Algorithm\"},\"id\":\"1836\",\"type\":\"TableColumn\"},{\"attributes\":{\"margin\":[5,5,5,5],\"name\":\"HSpacer02931\",\"sizing_mode\":\"stretch_width\"},\"id\":\"1866\",\"type\":\"Spacer\"},{\"attributes\":{},\"id\":\"1850\",\"type\":\"NumberEditor\"},{\"attributes\":{},\"id\":\"1855\",\"type\":\"IntEditor\"},{\"attributes\":{},\"id\":\"1840\",\"type\":\"StringEditor\"},{\"attributes\":{\"margin\":[5,5,5,5],\"name\":\"HSpacer02930\",\"sizing_mode\":\"stretch_width\"},\"id\":\"1826\",\"type\":\"Spacer\"},{\"attributes\":{\"editor\":{\"id\":\"1830\"},\"field\":\"CoinName\",\"formatter\":{\"id\":\"1829\"},\"title\":\"CoinName\"},\"id\":\"1831\",\"type\":\"TableColumn\"},{\"attributes\":{},\"id\":\"1845\",\"type\":\"StringEditor\"},{\"attributes\":{},\"id\":\"1828\",\"type\":\"Selection\"},{\"attributes\":{\"columns\":[{\"id\":\"1831\"},{\"id\":\"1836\"},{\"id\":\"1841\"},{\"id\":\"1846\"},{\"id\":\"1851\"},{\"id\":\"1856\"}],\"height\":300,\"reorderable\":false,\"source\":{\"id\":\"1827\"},\"view\":{\"id\":\"1861\"},\"width\":700},\"id\":\"1859\",\"type\":\"DataTable\"},{\"attributes\":{},\"id\":\"1863\",\"type\":\"UnionRenderers\"},{\"attributes\":{},\"id\":\"1830\",\"type\":\"StringEditor\"},{\"attributes\":{},\"id\":\"1829\",\"type\":\"StringFormatter\"},{\"attributes\":{\"children\":[{\"id\":\"1826\"},{\"id\":\"1859\"},{\"id\":\"1866\"}],\"margin\":[0,0,0,0],\"name\":\"Row02926\",\"tags\":[\"embedded\"]},\"id\":\"1825\",\"type\":\"Row\"},{\"attributes\":{},\"id\":\"1844\",\"type\":\"StringFormatter\"}],\"root_ids\":[\"1825\"]},\"title\":\"Bokeh Application\",\"version\":\"2.3.1\"}};\n",
       "    var render_items = [{\"docid\":\"881fc1d7-0f3c-4c2f-bad5-fb979265d464\",\"root_ids\":[\"1825\"],\"roots\":{\"1825\":\"3791c39a-e5b2-461a-996b-028bae4f0827\"}}];\n",
       "    root.Bokeh.embed.embed_items_notebook(docs_json, render_items);\n",
       "  }\n",
       "  if (root.Bokeh !== undefined && root.Bokeh.Panel !== undefined) {\n",
       "    embed_document(root);\n",
       "  } else {\n",
       "    var attempts = 0;\n",
       "    var timer = setInterval(function(root) {\n",
       "      if (root.Bokeh !== undefined && root.Bokeh.Panel !== undefined) {\n",
       "        clearInterval(timer);\n",
       "        embed_document(root);\n",
       "      } else if (document.readyState == \"complete\") {\n",
       "        attempts++;\n",
       "        if (attempts > 100) {\n",
       "          clearInterval(timer);\n",
       "          console.log(\"Bokeh: ERROR: Unable to run BokehJS code because BokehJS library is missing\");\n",
       "        }\n",
       "      }\n",
       "    }, 10, root)\n",
       "  }\n",
       "})(window);</script>"
      ],
      "text/plain": [
       ":Table   [CoinName,Algorithm,ProofType,TotalCoinSupply,TotalCoinsMined,class]"
      ]
     },
     "execution_count": 97,
     "metadata": {
      "application/vnd.holoviews_exec.v0+json": {
       "id": "1825"
      }
     },
     "output_type": "execute_result"
    }
   ],
   "source": [
    "# Table with tradable cryptos\n",
    "tradable = clustered_df[[\"CoinName\", \"Algorithm\", \"ProofType\", \"TotalCoinSupply\", \"TotalCoinsMined\", \"class\"]]\n",
    "tradable.hvplot.table(columns=[\"CoinName\", \"Algorithm\", \"ProofType\", \"TotalCoinSupply\", \"TotalCoinsMined\", \"class\"], sortable=True, selectable=True)\n"
   ]
  },
  {
   "cell_type": "code",
   "execution_count": 98,
   "metadata": {},
   "outputs": [
    {
     "name": "stdout",
     "output_type": "stream",
     "text": [
      "497\n"
     ]
    }
   ],
   "source": [
    "# Print the total number of tradable cryptocurrencies\n",
    "print(clustered_df['CoinName'].value_counts().sum())"
   ]
  },
  {
   "cell_type": "markdown",
   "metadata": {},
   "source": [
    "#### Scatter Plot with Tradable Cryptocurrencies"
   ]
  },
  {
   "cell_type": "code",
   "execution_count": 103,
   "metadata": {},
   "outputs": [
    {
     "ename": "OverflowError",
     "evalue": "Python int too large to convert to C long",
     "output_type": "error",
     "traceback": [
      "\u001b[1;31m---------------------------------------------------------------------------\u001b[0m",
      "\u001b[1;31mOverflowError\u001b[0m                             Traceback (most recent call last)",
      "\u001b[1;32m<ipython-input-103-89e40c3bc397>\u001b[0m in \u001b[0;36m<module>\u001b[1;34m\u001b[0m\n\u001b[0;32m      1\u001b[0m \u001b[1;31m# Scale data to create the scatter plot\u001b[0m\u001b[1;33m\u001b[0m\u001b[1;33m\u001b[0m\u001b[1;33m\u001b[0m\u001b[0m\n\u001b[1;32m----> 2\u001b[1;33m \u001b[0mtradable\u001b[0m\u001b[1;33m[\u001b[0m\u001b[1;34m'TotalCoinSupply'\u001b[0m\u001b[1;33m]\u001b[0m \u001b[1;33m=\u001b[0m \u001b[0mtradable\u001b[0m\u001b[1;33m[\u001b[0m\u001b[1;34m'TotalCoinSupply'\u001b[0m\u001b[1;33m]\u001b[0m\u001b[1;33m.\u001b[0m\u001b[0mastype\u001b[0m\u001b[1;33m(\u001b[0m\u001b[0mint\u001b[0m\u001b[1;33m)\u001b[0m\u001b[1;33m\u001b[0m\u001b[1;33m\u001b[0m\u001b[0m\n\u001b[0m",
      "\u001b[1;32m~\\anaconda3\\envs\\mlenv\\lib\\site-packages\\pandas\\core\\generic.py\u001b[0m in \u001b[0;36mastype\u001b[1;34m(self, dtype, copy, errors, **kwargs)\u001b[0m\n\u001b[0;32m   5689\u001b[0m             \u001b[1;31m# else, only a single dtype is given\u001b[0m\u001b[1;33m\u001b[0m\u001b[1;33m\u001b[0m\u001b[1;33m\u001b[0m\u001b[0m\n\u001b[0;32m   5690\u001b[0m             new_data = self._data.astype(dtype=dtype, copy=copy, errors=errors,\n\u001b[1;32m-> 5691\u001b[1;33m                                          **kwargs)\n\u001b[0m\u001b[0;32m   5692\u001b[0m             \u001b[1;32mreturn\u001b[0m \u001b[0mself\u001b[0m\u001b[1;33m.\u001b[0m\u001b[0m_constructor\u001b[0m\u001b[1;33m(\u001b[0m\u001b[0mnew_data\u001b[0m\u001b[1;33m)\u001b[0m\u001b[1;33m.\u001b[0m\u001b[0m__finalize__\u001b[0m\u001b[1;33m(\u001b[0m\u001b[0mself\u001b[0m\u001b[1;33m)\u001b[0m\u001b[1;33m\u001b[0m\u001b[1;33m\u001b[0m\u001b[0m\n\u001b[0;32m   5693\u001b[0m \u001b[1;33m\u001b[0m\u001b[0m\n",
      "\u001b[1;32m~\\anaconda3\\envs\\mlenv\\lib\\site-packages\\pandas\\core\\internals\\managers.py\u001b[0m in \u001b[0;36mastype\u001b[1;34m(self, dtype, **kwargs)\u001b[0m\n\u001b[0;32m    529\u001b[0m \u001b[1;33m\u001b[0m\u001b[0m\n\u001b[0;32m    530\u001b[0m     \u001b[1;32mdef\u001b[0m \u001b[0mastype\u001b[0m\u001b[1;33m(\u001b[0m\u001b[0mself\u001b[0m\u001b[1;33m,\u001b[0m \u001b[0mdtype\u001b[0m\u001b[1;33m,\u001b[0m \u001b[1;33m**\u001b[0m\u001b[0mkwargs\u001b[0m\u001b[1;33m)\u001b[0m\u001b[1;33m:\u001b[0m\u001b[1;33m\u001b[0m\u001b[1;33m\u001b[0m\u001b[0m\n\u001b[1;32m--> 531\u001b[1;33m         \u001b[1;32mreturn\u001b[0m \u001b[0mself\u001b[0m\u001b[1;33m.\u001b[0m\u001b[0mapply\u001b[0m\u001b[1;33m(\u001b[0m\u001b[1;34m'astype'\u001b[0m\u001b[1;33m,\u001b[0m \u001b[0mdtype\u001b[0m\u001b[1;33m=\u001b[0m\u001b[0mdtype\u001b[0m\u001b[1;33m,\u001b[0m \u001b[1;33m**\u001b[0m\u001b[0mkwargs\u001b[0m\u001b[1;33m)\u001b[0m\u001b[1;33m\u001b[0m\u001b[1;33m\u001b[0m\u001b[0m\n\u001b[0m\u001b[0;32m    532\u001b[0m \u001b[1;33m\u001b[0m\u001b[0m\n\u001b[0;32m    533\u001b[0m     \u001b[1;32mdef\u001b[0m \u001b[0mconvert\u001b[0m\u001b[1;33m(\u001b[0m\u001b[0mself\u001b[0m\u001b[1;33m,\u001b[0m \u001b[1;33m**\u001b[0m\u001b[0mkwargs\u001b[0m\u001b[1;33m)\u001b[0m\u001b[1;33m:\u001b[0m\u001b[1;33m\u001b[0m\u001b[1;33m\u001b[0m\u001b[0m\n",
      "\u001b[1;32m~\\anaconda3\\envs\\mlenv\\lib\\site-packages\\pandas\\core\\internals\\managers.py\u001b[0m in \u001b[0;36mapply\u001b[1;34m(self, f, axes, filter, do_integrity_check, consolidate, **kwargs)\u001b[0m\n\u001b[0;32m    393\u001b[0m                                             copy=align_copy)\n\u001b[0;32m    394\u001b[0m \u001b[1;33m\u001b[0m\u001b[0m\n\u001b[1;32m--> 395\u001b[1;33m             \u001b[0mapplied\u001b[0m \u001b[1;33m=\u001b[0m \u001b[0mgetattr\u001b[0m\u001b[1;33m(\u001b[0m\u001b[0mb\u001b[0m\u001b[1;33m,\u001b[0m \u001b[0mf\u001b[0m\u001b[1;33m)\u001b[0m\u001b[1;33m(\u001b[0m\u001b[1;33m**\u001b[0m\u001b[0mkwargs\u001b[0m\u001b[1;33m)\u001b[0m\u001b[1;33m\u001b[0m\u001b[1;33m\u001b[0m\u001b[0m\n\u001b[0m\u001b[0;32m    396\u001b[0m             \u001b[0mresult_blocks\u001b[0m \u001b[1;33m=\u001b[0m \u001b[0m_extend_blocks\u001b[0m\u001b[1;33m(\u001b[0m\u001b[0mapplied\u001b[0m\u001b[1;33m,\u001b[0m \u001b[0mresult_blocks\u001b[0m\u001b[1;33m)\u001b[0m\u001b[1;33m\u001b[0m\u001b[1;33m\u001b[0m\u001b[0m\n\u001b[0;32m    397\u001b[0m \u001b[1;33m\u001b[0m\u001b[0m\n",
      "\u001b[1;32m~\\anaconda3\\envs\\mlenv\\lib\\site-packages\\pandas\\core\\internals\\blocks.py\u001b[0m in \u001b[0;36mastype\u001b[1;34m(self, dtype, copy, errors, values, **kwargs)\u001b[0m\n\u001b[0;32m    532\u001b[0m     \u001b[1;32mdef\u001b[0m \u001b[0mastype\u001b[0m\u001b[1;33m(\u001b[0m\u001b[0mself\u001b[0m\u001b[1;33m,\u001b[0m \u001b[0mdtype\u001b[0m\u001b[1;33m,\u001b[0m \u001b[0mcopy\u001b[0m\u001b[1;33m=\u001b[0m\u001b[1;32mFalse\u001b[0m\u001b[1;33m,\u001b[0m \u001b[0merrors\u001b[0m\u001b[1;33m=\u001b[0m\u001b[1;34m'raise'\u001b[0m\u001b[1;33m,\u001b[0m \u001b[0mvalues\u001b[0m\u001b[1;33m=\u001b[0m\u001b[1;32mNone\u001b[0m\u001b[1;33m,\u001b[0m \u001b[1;33m**\u001b[0m\u001b[0mkwargs\u001b[0m\u001b[1;33m)\u001b[0m\u001b[1;33m:\u001b[0m\u001b[1;33m\u001b[0m\u001b[1;33m\u001b[0m\u001b[0m\n\u001b[0;32m    533\u001b[0m         return self._astype(dtype, copy=copy, errors=errors, values=values,\n\u001b[1;32m--> 534\u001b[1;33m                             **kwargs)\n\u001b[0m\u001b[0;32m    535\u001b[0m \u001b[1;33m\u001b[0m\u001b[0m\n\u001b[0;32m    536\u001b[0m     def _astype(self, dtype, copy=False, errors='raise', values=None,\n",
      "\u001b[1;32m~\\anaconda3\\envs\\mlenv\\lib\\site-packages\\pandas\\core\\internals\\blocks.py\u001b[0m in \u001b[0;36m_astype\u001b[1;34m(self, dtype, copy, errors, values, **kwargs)\u001b[0m\n\u001b[0;32m    631\u001b[0m \u001b[1;33m\u001b[0m\u001b[0m\n\u001b[0;32m    632\u001b[0m                     \u001b[1;31m# _astype_nansafe works fine with 1-d only\u001b[0m\u001b[1;33m\u001b[0m\u001b[1;33m\u001b[0m\u001b[1;33m\u001b[0m\u001b[0m\n\u001b[1;32m--> 633\u001b[1;33m                     \u001b[0mvalues\u001b[0m \u001b[1;33m=\u001b[0m \u001b[0mastype_nansafe\u001b[0m\u001b[1;33m(\u001b[0m\u001b[0mvalues\u001b[0m\u001b[1;33m.\u001b[0m\u001b[0mravel\u001b[0m\u001b[1;33m(\u001b[0m\u001b[1;33m)\u001b[0m\u001b[1;33m,\u001b[0m \u001b[0mdtype\u001b[0m\u001b[1;33m,\u001b[0m \u001b[0mcopy\u001b[0m\u001b[1;33m=\u001b[0m\u001b[1;32mTrue\u001b[0m\u001b[1;33m)\u001b[0m\u001b[1;33m\u001b[0m\u001b[1;33m\u001b[0m\u001b[0m\n\u001b[0m\u001b[0;32m    634\u001b[0m \u001b[1;33m\u001b[0m\u001b[0m\n\u001b[0;32m    635\u001b[0m                 \u001b[1;31m# TODO(extension)\u001b[0m\u001b[1;33m\u001b[0m\u001b[1;33m\u001b[0m\u001b[1;33m\u001b[0m\u001b[0m\n",
      "\u001b[1;32m~\\anaconda3\\envs\\mlenv\\lib\\site-packages\\pandas\\core\\dtypes\\cast.py\u001b[0m in \u001b[0;36mastype_nansafe\u001b[1;34m(arr, dtype, copy, skipna)\u001b[0m\n\u001b[0;32m    681\u001b[0m         \u001b[1;31m# work around NumPy brokenness, #1987\u001b[0m\u001b[1;33m\u001b[0m\u001b[1;33m\u001b[0m\u001b[1;33m\u001b[0m\u001b[0m\n\u001b[0;32m    682\u001b[0m         \u001b[1;32mif\u001b[0m \u001b[0mnp\u001b[0m\u001b[1;33m.\u001b[0m\u001b[0missubdtype\u001b[0m\u001b[1;33m(\u001b[0m\u001b[0mdtype\u001b[0m\u001b[1;33m.\u001b[0m\u001b[0mtype\u001b[0m\u001b[1;33m,\u001b[0m \u001b[0mnp\u001b[0m\u001b[1;33m.\u001b[0m\u001b[0minteger\u001b[0m\u001b[1;33m)\u001b[0m\u001b[1;33m:\u001b[0m\u001b[1;33m\u001b[0m\u001b[1;33m\u001b[0m\u001b[0m\n\u001b[1;32m--> 683\u001b[1;33m             \u001b[1;32mreturn\u001b[0m \u001b[0mlib\u001b[0m\u001b[1;33m.\u001b[0m\u001b[0mastype_intsafe\u001b[0m\u001b[1;33m(\u001b[0m\u001b[0marr\u001b[0m\u001b[1;33m.\u001b[0m\u001b[0mravel\u001b[0m\u001b[1;33m(\u001b[0m\u001b[1;33m)\u001b[0m\u001b[1;33m,\u001b[0m \u001b[0mdtype\u001b[0m\u001b[1;33m)\u001b[0m\u001b[1;33m.\u001b[0m\u001b[0mreshape\u001b[0m\u001b[1;33m(\u001b[0m\u001b[0marr\u001b[0m\u001b[1;33m.\u001b[0m\u001b[0mshape\u001b[0m\u001b[1;33m)\u001b[0m\u001b[1;33m\u001b[0m\u001b[1;33m\u001b[0m\u001b[0m\n\u001b[0m\u001b[0;32m    684\u001b[0m \u001b[1;33m\u001b[0m\u001b[0m\n\u001b[0;32m    685\u001b[0m         \u001b[1;31m# if we have a datetime/timedelta array of objects\u001b[0m\u001b[1;33m\u001b[0m\u001b[1;33m\u001b[0m\u001b[1;33m\u001b[0m\u001b[0m\n",
      "\u001b[1;32mpandas/_libs/lib.pyx\u001b[0m in \u001b[0;36mpandas._libs.lib.astype_intsafe\u001b[1;34m()\u001b[0m\n",
      "\u001b[1;31mOverflowError\u001b[0m: Python int too large to convert to C long"
     ]
    }
   ],
   "source": [
    "# Scale data to create the scatter plot\n",
    "tradable['TotalCoinSupply'] = tradable['TotalCoinSupply'].astype(int)"
   ]
  },
  {
   "cell_type": "code",
   "execution_count": 100,
   "metadata": {},
   "outputs": [
    {
     "data": {},
     "metadata": {},
     "output_type": "display_data"
    },
    {
     "data": {
      "application/vnd.holoviews_exec.v0+json": "",
      "text/html": [
       "<div id='1878'>\n",
       "\n",
       "\n",
       "\n",
       "\n",
       "\n",
       "  <div class=\"bk-root\" id=\"358ad121-60da-4695-83d1-3602706a827e\" data-root-id=\"1878\"></div>\n",
       "</div>\n",
       "<script type=\"application/javascript\">(function(root) {\n",
       "  function embed_document(root) {\n",
       "    var docs_json = {\"12e410a9-6563-4a83-90be-dff655236e31\":{\"defs\":[],\"roots\":{\"references\":[{\"attributes\":{},\"id\":\"1890\",\"type\":\"CategoricalScale\"},{\"attributes\":{\"source\":{\"id\":\"1912\"}},\"id\":\"1919\",\"type\":\"CDSView\"},{\"attributes\":{},\"id\":\"1921\",\"type\":\"BasicTickFormatter\"},{\"attributes\":{\"data\":{\"TotalCoinSupply\":[\"42\",\"532000000\",\"314159265359\",\"21000000\",\"84000000\",\"22000000\",\"210000000\",\"21000000\",\"3600570502\",\"21000000000\",\"22000000\",\"12500000\",\"21000000\",\"350000000\",\"20000000\",\"64000000\",\"16768584\",\"2000000000\",\"384000000000\",\"169795588\",\"250000000\",\"100000000\",\"247000000\",\"84000000\",\"48166000\",\"500000\",\"21000000 \",\"1000000\",\"13140000\",\"18000000\",\"40000000000\",\"4380000\",\"16555000000\",\"21000000000\",\"13500000000\",\"21000000 \",\"299792458\",\"32000000\",\"11235813\",\"336000000\",\"1420609614\",\"70000000\",\"72245700\",\"120000000\",\"90600000000\",\"22000000\",\"21000000\",\"265420800\",\"20000000\",\"1350000\",\"100000000\",\"42000000\",\"200000000\",\"10000000\",\"2419200000\",\"16180000\",\"15000000000\",\"21000000\",\"337000000\",\"3770000\",\"420000000\",\"98000000\",\"21000000\",\"250000000\",\"51200000\",\"1000\",\"888000000\",\"100000000\",\"47011968\",\"2300000000\",\"10000000\",\"42000000\",\"80000000\",\"250000\",\"1600000000\",\"100000000\",\"23000000\",\"84000000\",\"265420800\",\"5500000\",\"45000000\",\"1000000000\",\"184467440735\",\"10000000000\",\"2158812800\",\"500000000\",\"105120000\",\"68000000\",\"1680000000\",\"166386000\",\"12000000\",\"2628000\",\"500000000\",\"160000000\",\"10000000\",\"1000000000\",\"1000000000\",\"20000000\",\"3371337\",\"20000000\",\"10000000000\",\"1840000000\",\"619478\",\"21000000\",\"92000000000\",\"78000000\",\"33000000\",\"65789100\",\"53760000\",\"5060000\",\"21000000\",\"210240000\",\"250000000\",\"100000000\",\"16906397\",\"50000000\",\"1000000000\",\"26298000\",\"16000000\",\"21000000\",\"21000000\",\"210000000\",\"81962100\",\"22000000\",\"26550000000\",\"84000000\",\"10500000\",\"21626280000 \",\"42000000\",\"221052632\",\"84000000\",\"30000000\",\"168351300\",\"24000000\",\"384000000\",\" 99000000000\",\"40000000\",\"2147483647\",\"20000000\",\"20000000\",\"25000000\",\"75000000\",\"222725000\",\"525000000\",\"90000000\",\"139000000\",\"616448\",\"33500000\",\"2000000000\",\"44333333\",\"100000000\",\"200000000\",\"25000000\",\"657000000\",\"200000000\",\"50000000\",\"90000000\",\"10000000\",\"21000000\",\"9736000\",\"3000000\",\"21000000\",\"1200000000\",\"200000000\",\"10638298\",\"3100000000\",\"30000000\",\"20000000000\",\"74000000\",\"1500000000\",\"21400000\",\"39999898\",\"2500124\",\"100000000\",\"301000000\",\"7506000000\",\"26205539\",\"21000000\",\"125000000\",\"30000000\",\"10000000000\",\"500000000\",\"850000000\",\"3853326.77707314\",\"50000000\",\"38540000 \",\"42000000\",\"228000000\",\"20000000\",\"60000000\",\"20000000\",\"33000000\",\"76500000\",\"28000000\",\"650659833\",\"5000000\",\"21000000\",\"144000000\",\"32514916898\",\"13000000\",\"3315789\",\"15000000\",\"78835200\",\"2714286\",\"25000000\",\"9999999\",\"500000000\",\"21000000\",\"9354000\",\"20000000\",\"100000000000\",\"21933333\",\"185000000\",\"55000000\",\"110000000\",\"3360000\",\"14524851.4827\",\"1000000000\",\"17000000\",\"1000000000\",\"100000000 \",\"21000000\",\"34426423\",\"2232901\",\"100000000\",\"36900000\",\"110000000\",\"4000000000\",\"110290030\",\"100000000\",\"48252000\",\"400000000\",\"500000000\",\"21212121\",\"28600000\",\"1000000000\",\"75000000000\",\"40000000\",\"35520400\",\"2000000000\",\"2500000000\",\"30000000\",\"105000000\",\"90000000000\",\"200084200\",\"72000000\",\"100000000\",\"105000000\",\"50000000000\",\"340282367\",\"30000000\",\"2000000000\",\"10000000\",\"100000000\",\"120000000\",\"100000000\",\"19276800\",\"30000000\",\" 75000000\",\"60000000\",\"18900000\",\"50000000000\",\"54000000\",\"18898187.6216583\",\"21000000\",\"200000000000\",\"5000000000\",\"137500000\",\"1100000000\",\"100000000\",\"21000000\",\"9507271\",\"17405891.19707116\",\"86712634466\",\"10500000000\",\"61599965\",\"20000000\",\"84000000\",\"100000000\",\"100000000\",\"48252000\",\"4200000\",\"88888888\",\"91388946\",\"45000000000\",\"27000000\",\"21000000000\",\"400000000\",\"1800000000\",\"15733333\",\"27000000\",\"24000000\",\"21000000\",\"25000000000\",\"100000000\",\"1200000000\",\"60000000\",\"156306732.71\",\"21000000\",\"200000000\",\"100000000\",\"21000000\",\"14788275.991\",\"9000000000\",\"350000000\",\"45000000\",\"280000000\",\"31800000\",\"144000000\",\"500000000\",\"30000000000\",\"210000000\",\"660000000\",\"210000000\",\"85000000000\",\"12500000\",\"10000000000\",\"27716121\",\"20000000\",\"550000000\",\"999481516\",\"50000000000\",\"150000000\",\"4999999999\",\"50000000\",\" 90000000000\",\"19800000\",\"21000000\",\"120000000\",\"500000000\",\"64000000\",\"900000000\",\"4000000\",\"21000000\",\"23000000\",\"20166000\",\"23000000\",\"25000000\",\"1618033\",\"30000000\",\"1000000000000\",\"16600000\",\"232000000\",\"336000000\",\"10000000000\",\"100000000\",\"1100000000\",\"800000000\",\"5200000000\",\"840000000\",\"40000000\",\"18406979840\",\"500000000\",\"19340594\",\"252460800\",\"25000000\",\"60000000\",\"124000000\",\"1000000000\",\"6500000000\",\"1000000000\",\"21000000\",\"25000000\",\"50000000\",\"3000000\",\"5000000\",\"70000000\",\"500000000\",\"300000000\",\"21000000\",\"88000000\",\"30000000\",\"100000000\",\"100000000\",\"200000000\",\"80000000\",\"18400000\",\"45000000\",\"5121951220\",\"21000000\",\"26280000\",\"21000000\",\"18000000\",\"26000000\",\"10500000\",\"600000518\",\"150000000\",\"184000000000\",\"10200000000\",\"44000000\",\"168000000\",\"100000000\",\"1000000000\",\"84000000\",\"90000000\",\"92000000000\",\"650000000 \",\"100262205\",\"18081806 \",\"22075700\",\"21000000\",\"21000000\",\"82546564\",\"21000000\",\"5151000\",\"16880000000\",\"52500000\",\"100000000\",\"22105263\",\"1000000000\",\"1750000000\",\"88188888\",\"210000000\",\"184470000000\",\"55000000\",\"50000000\",\"260000000\",\"210000000\",\"2100000000\",\"366000000\",\"100000000\",\"25000000\",\"18000000000\",\"1000000000\",\"100000000\",\"1000000000\",\"7600000000\",\"50000000\",\"84000000\",\"21000000\",\"70000000000\",\"8080000000\",\"54000000\",\"105120001.44\",\"25228800\",\"105000000\",\"21000000\",\"120000000\",\"21000000\",\"262800000\",\"19035999\",\"30886000\",\"13370000\",\"74800000000\",\"100000000\",\"19700000\",\"84000000\",\"500000000\",\"5000000000\",\"420000000\",\"64000000\",\"2100000\",\"168000000\",\"30000000\",\"1000000000\",\"35000000000\",\"98100000000\",\"4000000000\",\"200000000\",\"7000000000\",\"54256119\",\"21000000\",\"500000000\",\"1000000000\",\"10500000000\",\"190000000\",\"1000000000\",\"42000000\",\"15000000\",\"50000000000\",\"400000000\",\"105000000\",\"208000000\",\"160000000\",\"9000000\",\"5000000\",\"182000000\",\"16504333\",\"105000000\",\"159918400\",\"10008835635\",\"300000000\",\"60168145\",\"2800000\",\"120000\",\"2100000000\",\"24487944\",\"1000000000\",\"100000000\",\"8634140\",\"990000000000\",\"1000000000\",\"2000000000\",\"250000000\",\"1400222610\",\"21000000\",\"1000000\"],\"TotalCoinsMined\":{\"__ndarray__\":\"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\",\"dtype\":\"float64\",\"order\":\"little\",\"shape\":[497]}},\"selected\":{\"id\":\"1913\"},\"selection_policy\":{\"id\":\"1936\"}},\"id\":\"1912\",\"type\":\"ColumnDataSource\"},{\"attributes\":{\"margin\":[5,5,5,5],\"name\":\"HSpacer03053\",\"sizing_mode\":\"stretch_width\"},\"id\":\"1947\",\"type\":\"Spacer\"},{\"attributes\":{\"end\":1032416801156.6912,\"reset_end\":1032416801156.6912,\"reset_start\":-42428087675.042145,\"start\":-42428087675.042145,\"tags\":[[[\"TotalCoinsMined\",\"TotalCoinsMined\",null]]]},\"id\":\"1880\",\"type\":\"Range1d\"},{\"attributes\":{\"callback\":null,\"renderers\":[{\"id\":\"1918\"}],\"tags\":[\"hv_created\"],\"tooltips\":[[\"TotalCoinsMined\",\"@{TotalCoinsMined}\"],[\"TotalCoinSupply\",\"@{TotalCoinSupply}\"]]},\"id\":\"1882\",\"type\":\"HoverTool\"},{\"attributes\":{\"margin\":[5,5,5,5],\"name\":\"HSpacer03052\",\"sizing_mode\":\"stretch_width\"},\"id\":\"1879\",\"type\":\"Spacer\"},{\"attributes\":{\"axis_label\":\"TotalCoinSupply\",\"formatter\":{\"id\":\"1925\"},\"major_label_policy\":{\"id\":\"1926\"},\"ticker\":{\"id\":\"1897\"}},\"id\":\"1896\",\"type\":\"CategoricalAxis\"},{\"attributes\":{\"active_multi\":null,\"tools\":[{\"id\":\"1882\"},{\"id\":\"1899\"},{\"id\":\"1900\"},{\"id\":\"1901\"},{\"id\":\"1902\"},{\"id\":\"1903\"}]},\"id\":\"1905\",\"type\":\"Toolbar\"},{\"attributes\":{\"factors\":[\"42\",\"532000000\",\"314159265359\",\"21000000\",\"84000000\",\"22000000\",\"210000000\",\"3600570502\",\"21000000000\",\"12500000\",\"350000000\",\"20000000\",\"64000000\",\"16768584\",\"2000000000\",\"384000000000\",\"169795588\",\"250000000\",\"100000000\",\"247000000\",\"48166000\",\"500000\",\"21000000 \",\"1000000\",\"13140000\",\"18000000\",\"40000000000\",\"4380000\",\"16555000000\",\"13500000000\",\"299792458\",\"32000000\",\"11235813\",\"336000000\",\"1420609614\",\"70000000\",\"72245700\",\"120000000\",\"90600000000\",\"265420800\",\"1350000\",\"42000000\",\"200000000\",\"10000000\",\"2419200000\",\"16180000\",\"15000000000\",\"337000000\",\"3770000\",\"420000000\",\"98000000\",\"51200000\",\"1000\",\"888000000\",\"47011968\",\"2300000000\",\"80000000\",\"250000\",\"1600000000\",\"23000000\",\"5500000\",\"45000000\",\"1000000000\",\"184467440735\",\"10000000000\",\"2158812800\",\"500000000\",\"105120000\",\"68000000\",\"1680000000\",\"166386000\",\"12000000\",\"2628000\",\"160000000\",\"3371337\",\"1840000000\",\"619478\",\"92000000000\",\"78000000\",\"33000000\",\"65789100\",\"53760000\",\"5060000\",\"210240000\",\"16906397\",\"50000000\",\"26298000\",\"16000000\",\"81962100\",\"26550000000\",\"10500000\",\"21626280000 \",\"221052632\",\"30000000\",\"168351300\",\"24000000\",\"384000000\",\" 99000000000\",\"40000000\",\"2147483647\",\"25000000\",\"75000000\",\"222725000\",\"525000000\",\"90000000\",\"139000000\",\"616448\",\"33500000\",\"44333333\",\"657000000\",\"9736000\",\"3000000\",\"1200000000\",\"10638298\",\"3100000000\",\"20000000000\",\"74000000\",\"1500000000\",\"21400000\",\"39999898\",\"2500124\",\"301000000\",\"7506000000\",\"26205539\",\"125000000\",\"850000000\",\"3853326.77707314\",\"38540000 \",\"228000000\",\"60000000\",\"76500000\",\"28000000\",\"650659833\",\"5000000\",\"144000000\",\"32514916898\",\"13000000\",\"3315789\",\"15000000\",\"78835200\",\"2714286\",\"9999999\",\"9354000\",\"100000000000\",\"21933333\",\"185000000\",\"55000000\",\"110000000\",\"3360000\",\"14524851.4827\",\"17000000\",\"100000000 \",\"34426423\",\"2232901\",\"36900000\",\"4000000000\",\"110290030\",\"48252000\",\"400000000\",\"21212121\",\"28600000\",\"75000000000\",\"35520400\",\"2500000000\",\"105000000\",\"90000000000\",\"200084200\",\"72000000\",\"50000000000\",\"340282367\",\"19276800\",\" 75000000\",\"18900000\",\"54000000\",\"18898187.6216583\",\"200000000000\",\"5000000000\",\"137500000\",\"1100000000\",\"9507271\",\"17405891.19707116\",\"86712634466\",\"10500000000\",\"61599965\",\"4200000\",\"88888888\",\"91388946\",\"45000000000\",\"27000000\",\"1800000000\",\"15733333\",\"25000000000\",\"156306732.71\",\"14788275.991\",\"9000000000\",\"280000000\",\"31800000\",\"30000000000\",\"660000000\",\"85000000000\",\"27716121\",\"550000000\",\"999481516\",\"150000000\",\"4999999999\",\" 90000000000\",\"19800000\",\"900000000\",\"4000000\",\"20166000\",\"1618033\",\"1000000000000\",\"16600000\",\"232000000\",\"800000000\",\"5200000000\",\"840000000\",\"18406979840\",\"19340594\",\"252460800\",\"124000000\",\"6500000000\",\"300000000\",\"88000000\",\"18400000\",\"5121951220\",\"26280000\",\"26000000\",\"600000518\",\"184000000000\",\"10200000000\",\"44000000\",\"168000000\",\"650000000 \",\"100262205\",\"18081806 \",\"22075700\",\"82546564\",\"5151000\",\"16880000000\",\"52500000\",\"22105263\",\"1750000000\",\"88188888\",\"184470000000\",\"260000000\",\"2100000000\",\"366000000\",\"18000000000\",\"7600000000\",\"70000000000\",\"8080000000\",\"105120001.44\",\"25228800\",\"262800000\",\"19035999\",\"30886000\",\"13370000\",\"74800000000\",\"19700000\",\"2100000\",\"35000000000\",\"98100000000\",\"7000000000\",\"54256119\",\"190000000\",\"208000000\",\"9000000\",\"182000000\",\"16504333\",\"159918400\",\"10008835635\",\"60168145\",\"2800000\",\"120000\",\"24487944\",\"8634140\",\"990000000000\",\"1400222610\"],\"tags\":[[[\"TotalCoinSupply\",\"TotalCoinSupply\",null]]]},\"id\":\"1881\",\"type\":\"FactorRange\"},{\"attributes\":{},\"id\":\"1923\",\"type\":\"AllLabels\"},{\"attributes\":{\"below\":[{\"id\":\"1892\"}],\"center\":[{\"id\":\"1895\"},{\"id\":\"1898\"}],\"height\":300,\"left\":[{\"id\":\"1896\"}],\"margin\":[5,5,5,5],\"min_border_bottom\":10,\"min_border_left\":10,\"min_border_right\":10,\"min_border_top\":10,\"renderers\":[{\"id\":\"1918\"}],\"sizing_mode\":\"fixed\",\"title\":{\"id\":\"1884\"},\"toolbar\":{\"id\":\"1905\"},\"width\":700,\"x_range\":{\"id\":\"1880\"},\"x_scale\":{\"id\":\"1888\"},\"y_range\":{\"id\":\"1881\"},\"y_scale\":{\"id\":\"1890\"}},\"id\":\"1883\",\"subtype\":\"Figure\",\"type\":\"Plot\"},{\"attributes\":{},\"id\":\"1888\",\"type\":\"LinearScale\"},{\"attributes\":{\"data_source\":{\"id\":\"1912\"},\"glyph\":{\"id\":\"1915\"},\"hover_glyph\":null,\"muted_glyph\":{\"id\":\"1917\"},\"nonselection_glyph\":{\"id\":\"1916\"},\"selection_glyph\":{\"id\":\"1920\"},\"view\":{\"id\":\"1919\"}},\"id\":\"1918\",\"type\":\"GlyphRenderer\"},{\"attributes\":{\"overlay\":{\"id\":\"1904\"}},\"id\":\"1902\",\"type\":\"BoxZoomTool\"},{\"attributes\":{\"bottom_units\":\"screen\",\"fill_alpha\":0.5,\"fill_color\":\"lightgrey\",\"left_units\":\"screen\",\"level\":\"overlay\",\"line_alpha\":1.0,\"line_color\":\"black\",\"line_dash\":[4,4],\"line_width\":2,\"right_units\":\"screen\",\"syncable\":false,\"top_units\":\"screen\"},\"id\":\"1904\",\"type\":\"BoxAnnotation\"},{\"attributes\":{\"fill_alpha\":{\"value\":0.2},\"fill_color\":{\"value\":\"#30a2da\"},\"line_alpha\":{\"value\":0.2},\"line_color\":{\"value\":\"#30a2da\"},\"size\":{\"value\":5.477225575051661},\"x\":{\"field\":\"TotalCoinsMined\"},\"y\":{\"field\":\"TotalCoinSupply\"}},\"id\":\"1917\",\"type\":\"Scatter\"},{\"attributes\":{\"fill_alpha\":{\"value\":0.1},\"fill_color\":{\"value\":\"#30a2da\"},\"line_alpha\":{\"value\":0.1},\"line_color\":{\"value\":\"#30a2da\"},\"size\":{\"value\":5.477225575051661},\"x\":{\"field\":\"TotalCoinsMined\"},\"y\":{\"field\":\"TotalCoinSupply\"}},\"id\":\"1916\",\"type\":\"Scatter\"},{\"attributes\":{\"text_color\":\"black\",\"text_font_size\":\"12pt\"},\"id\":\"1884\",\"type\":\"Title\"},{\"attributes\":{},\"id\":\"1926\",\"type\":\"AllLabels\"},{\"attributes\":{},\"id\":\"1901\",\"type\":\"WheelZoomTool\"},{\"attributes\":{},\"id\":\"1913\",\"type\":\"Selection\"},{\"attributes\":{},\"id\":\"1936\",\"type\":\"UnionRenderers\"},{\"attributes\":{},\"id\":\"1893\",\"type\":\"BasicTicker\"},{\"attributes\":{\"axis_label\":\"TotalCoinsMined\",\"formatter\":{\"id\":\"1921\"},\"major_label_policy\":{\"id\":\"1923\"},\"ticker\":{\"id\":\"1893\"}},\"id\":\"1892\",\"type\":\"LinearAxis\"},{\"attributes\":{\"angle\":{\"value\":0.0},\"fill_alpha\":{\"value\":1.0},\"fill_color\":{\"value\":\"#30a2da\"},\"hatch_alpha\":{\"value\":1.0},\"hatch_color\":{\"value\":\"black\"},\"hatch_scale\":{\"value\":12.0},\"hatch_weight\":{\"value\":1.0},\"line_alpha\":{\"value\":1.0},\"line_cap\":{\"value\":\"butt\"},\"line_color\":{\"value\":\"#30a2da\"},\"line_dash\":{\"value\":[]},\"line_dash_offset\":{\"value\":0},\"line_join\":{\"value\":\"bevel\"},\"line_width\":{\"value\":1},\"marker\":{\"value\":\"circle\"},\"size\":{\"value\":5.477225575051661},\"x\":{\"field\":\"TotalCoinsMined\"},\"y\":{\"field\":\"TotalCoinSupply\"}},\"id\":\"1920\",\"type\":\"Scatter\"},{\"attributes\":{\"axis\":{\"id\":\"1892\"},\"grid_line_color\":null,\"ticker\":null},\"id\":\"1895\",\"type\":\"Grid\"},{\"attributes\":{},\"id\":\"1899\",\"type\":\"SaveTool\"},{\"attributes\":{},\"id\":\"1897\",\"type\":\"CategoricalTicker\"},{\"attributes\":{\"children\":[{\"id\":\"1879\"},{\"id\":\"1883\"},{\"id\":\"1947\"}],\"margin\":[0,0,0,0],\"name\":\"Row03048\",\"tags\":[\"embedded\"]},\"id\":\"1878\",\"type\":\"Row\"},{\"attributes\":{},\"id\":\"1925\",\"type\":\"CategoricalTickFormatter\"},{\"attributes\":{},\"id\":\"1900\",\"type\":\"PanTool\"},{\"attributes\":{\"fill_color\":{\"value\":\"#30a2da\"},\"line_color\":{\"value\":\"#30a2da\"},\"size\":{\"value\":5.477225575051661},\"x\":{\"field\":\"TotalCoinsMined\"},\"y\":{\"field\":\"TotalCoinSupply\"}},\"id\":\"1915\",\"type\":\"Scatter\"},{\"attributes\":{},\"id\":\"1903\",\"type\":\"ResetTool\"},{\"attributes\":{\"axis\":{\"id\":\"1896\"},\"dimension\":1,\"grid_line_color\":null,\"ticker\":null},\"id\":\"1898\",\"type\":\"Grid\"}],\"root_ids\":[\"1878\"]},\"title\":\"Bokeh Application\",\"version\":\"2.3.1\"}};\n",
       "    var render_items = [{\"docid\":\"12e410a9-6563-4a83-90be-dff655236e31\",\"root_ids\":[\"1878\"],\"roots\":{\"1878\":\"358ad121-60da-4695-83d1-3602706a827e\"}}];\n",
       "    root.Bokeh.embed.embed_items_notebook(docs_json, render_items);\n",
       "  }\n",
       "  if (root.Bokeh !== undefined && root.Bokeh.Panel !== undefined) {\n",
       "    embed_document(root);\n",
       "  } else {\n",
       "    var attempts = 0;\n",
       "    var timer = setInterval(function(root) {\n",
       "      if (root.Bokeh !== undefined && root.Bokeh.Panel !== undefined) {\n",
       "        clearInterval(timer);\n",
       "        embed_document(root);\n",
       "      } else if (document.readyState == \"complete\") {\n",
       "        attempts++;\n",
       "        if (attempts > 100) {\n",
       "          clearInterval(timer);\n",
       "          console.log(\"Bokeh: ERROR: Unable to run BokehJS code because BokehJS library is missing\");\n",
       "        }\n",
       "      }\n",
       "    }, 10, root)\n",
       "  }\n",
       "})(window);</script>"
      ],
      "text/plain": [
       ":Scatter   [TotalCoinsMined]   (TotalCoinSupply)"
      ]
     },
     "execution_count": 100,
     "metadata": {
      "application/vnd.holoviews_exec.v0+json": {
       "id": "1878"
      }
     },
     "output_type": "execute_result"
    }
   ],
   "source": [
    "# Plot the scatter with x=\"TotalCoinsMined\" and y=\"TotalCoinSupply\"\n",
    "tradable.hvplot(x=\"TotalCoinsMined\", y=\"TotalCoinSupply\", kind = 'scatter')"
   ]
  },
  {
   "cell_type": "code",
   "execution_count": null,
   "metadata": {},
   "outputs": [],
   "source": []
  }
 ],
 "metadata": {
  "file_extension": ".py",
  "kernelspec": {
   "display_name": "Python [conda env:mlenv] *",
   "language": "python",
   "name": "conda-env-mlenv-py"
  },
  "language_info": {
   "codemirror_mode": {
    "name": "ipython",
    "version": 3
   },
   "file_extension": ".py",
   "mimetype": "text/x-python",
   "name": "python",
   "nbconvert_exporter": "python",
   "pygments_lexer": "ipython3",
   "version": "3.7.10"
  },
  "mimetype": "text/x-python",
  "name": "python",
  "npconvert_exporter": "python",
  "pygments_lexer": "ipython3",
  "version": 3
 },
 "nbformat": 4,
 "nbformat_minor": 4
}
